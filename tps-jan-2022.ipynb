{
 "cells": [
  {
   "cell_type": "markdown",
   "id": "495b23ea",
   "metadata": {
    "papermill": {
     "duration": 0.006405,
     "end_time": "2022-01-13T04:49:58.490774",
     "exception": false,
     "start_time": "2022-01-13T04:49:58.484369",
     "status": "completed"
    },
    "tags": []
   },
   "source": [
    "## Let's make a linear model \n",
    "We will use mean square error instead of SMAPE"
   ]
  },
  {
   "cell_type": "code",
   "execution_count": 1,
   "id": "58c0cc1d",
   "metadata": {
    "execution": {
     "iopub.execute_input": "2022-01-13T04:49:58.515001Z",
     "iopub.status.busy": "2022-01-13T04:49:58.514403Z",
     "iopub.status.idle": "2022-01-13T04:49:59.555621Z",
     "shell.execute_reply": "2022-01-13T04:49:59.554854Z",
     "shell.execute_reply.started": "2022-01-12T13:34:15.235089Z"
    },
    "papermill": {
     "duration": 1.056753,
     "end_time": "2022-01-13T04:49:59.555798",
     "exception": false,
     "start_time": "2022-01-13T04:49:58.499045",
     "status": "completed"
    },
    "tags": []
   },
   "outputs": [],
   "source": [
    "# Importing helpful libraries\n",
    "import pandas as pd\n",
    "import numpy as np\n",
    "import pickle\n",
    "import itertools\n",
    "import gc\n",
    "import math\n",
    "import matplotlib.pyplot as plt\n",
    "import dateutil.easter\n",
    "from matplotlib.ticker import MaxNLocator, FormatStrFormatter, PercentFormatter\n",
    "from datetime import datetime, date\n",
    "from sklearn.pipeline import make_pipeline\n",
    "from sklearn.model_selection import TimeSeriesSplit\n",
    "from sklearn.preprocessing import StandardScaler, QuantileTransformer, LabelEncoder, minmax_scale\n",
    "from sklearn.metrics import accuracy_score, confusion_matrix, classification_report\n",
    "from sklearn.linear_model import LinearRegression, HuberRegressor, SGDRegressor\n",
    "from sklearn.svm import SVR, LinearSVR\n",
    "\n",
    "import warnings\n",
    "warnings.filterwarnings(\"ignore\")"
   ]
  },
  {
   "cell_type": "code",
   "execution_count": 2,
   "id": "6a4f184f",
   "metadata": {
    "execution": {
     "iopub.execute_input": "2022-01-13T04:49:59.569247Z",
     "iopub.status.busy": "2022-01-13T04:49:59.568651Z",
     "iopub.status.idle": "2022-01-13T04:49:59.656396Z",
     "shell.execute_reply": "2022-01-13T04:49:59.656874Z",
     "shell.execute_reply.started": "2022-01-12T13:34:18.613749Z"
    },
    "papermill": {
     "duration": 0.095748,
     "end_time": "2022-01-13T04:49:59.657051",
     "exception": false,
     "start_time": "2022-01-13T04:49:59.561303",
     "status": "completed"
    },
    "tags": []
   },
   "outputs": [],
   "source": [
    "# Import the dataset \n",
    "original_train_df = pd.read_csv('../input/tabular-playground-series-jan-2022/train.csv')\n",
    "original_test_df = pd.read_csv('../input/tabular-playground-series-jan-2022/test.csv')"
   ]
  },
  {
   "cell_type": "code",
   "execution_count": 3,
   "id": "111aab66",
   "metadata": {
    "execution": {
     "iopub.execute_input": "2022-01-13T04:49:59.670326Z",
     "iopub.status.busy": "2022-01-13T04:49:59.669781Z",
     "iopub.status.idle": "2022-01-13T04:49:59.702886Z",
     "shell.execute_reply": "2022-01-13T04:49:59.703333Z",
     "shell.execute_reply.started": "2022-01-12T13:34:20.767271Z"
    },
    "papermill": {
     "duration": 0.040932,
     "end_time": "2022-01-13T04:49:59.703487",
     "exception": false,
     "start_time": "2022-01-13T04:49:59.662555",
     "status": "completed"
    },
    "tags": []
   },
   "outputs": [
    {
     "data": {
      "text/html": [
       "<div>\n",
       "<style scoped>\n",
       "    .dataframe tbody tr th:only-of-type {\n",
       "        vertical-align: middle;\n",
       "    }\n",
       "\n",
       "    .dataframe tbody tr th {\n",
       "        vertical-align: top;\n",
       "    }\n",
       "\n",
       "    .dataframe thead th {\n",
       "        text-align: right;\n",
       "    }\n",
       "</style>\n",
       "<table border=\"1\" class=\"dataframe\">\n",
       "  <thead>\n",
       "    <tr style=\"text-align: right;\">\n",
       "      <th></th>\n",
       "      <th>row_id</th>\n",
       "      <th>date</th>\n",
       "      <th>country</th>\n",
       "      <th>store</th>\n",
       "      <th>product</th>\n",
       "      <th>num_sold</th>\n",
       "    </tr>\n",
       "    <tr>\n",
       "      <th>date</th>\n",
       "      <th></th>\n",
       "      <th></th>\n",
       "      <th></th>\n",
       "      <th></th>\n",
       "      <th></th>\n",
       "      <th></th>\n",
       "    </tr>\n",
       "  </thead>\n",
       "  <tbody>\n",
       "    <tr>\n",
       "      <th>2015-01-01</th>\n",
       "      <td>0</td>\n",
       "      <td>2015-01-01</td>\n",
       "      <td>Finland</td>\n",
       "      <td>KaggleMart</td>\n",
       "      <td>Kaggle Mug</td>\n",
       "      <td>329</td>\n",
       "    </tr>\n",
       "    <tr>\n",
       "      <th>2015-01-01</th>\n",
       "      <td>1</td>\n",
       "      <td>2015-01-01</td>\n",
       "      <td>Finland</td>\n",
       "      <td>KaggleMart</td>\n",
       "      <td>Kaggle Hat</td>\n",
       "      <td>520</td>\n",
       "    </tr>\n",
       "  </tbody>\n",
       "</table>\n",
       "</div>"
      ],
      "text/plain": [
       "            row_id       date  country       store     product  num_sold\n",
       "date                                                                    \n",
       "2015-01-01       0 2015-01-01  Finland  KaggleMart  Kaggle Mug       329\n",
       "2015-01-01       1 2015-01-01  Finland  KaggleMart  Kaggle Hat       520"
      ]
     },
     "execution_count": 3,
     "metadata": {},
     "output_type": "execute_result"
    }
   ],
   "source": [
    "# Since dates are read as strings, we will need to convert it into datetime series \n",
    "for df in [original_train_df,original_test_df]:\n",
    "    df['date'] = pd.to_datetime(df.date)\n",
    "    df.set_index('date', inplace= True, drop= False)\n",
    "original_train_df.head(2)"
   ]
  },
  {
   "cell_type": "code",
   "execution_count": 4,
   "id": "9ab65702",
   "metadata": {
    "execution": {
     "iopub.execute_input": "2022-01-13T04:49:59.719676Z",
     "iopub.status.busy": "2022-01-13T04:49:59.719163Z",
     "iopub.status.idle": "2022-01-13T04:49:59.721307Z",
     "shell.execute_reply": "2022-01-13T04:49:59.720779Z",
     "shell.execute_reply.started": "2022-01-12T13:34:23.268314Z"
    },
    "papermill": {
     "duration": 0.011717,
     "end_time": "2022-01-13T04:49:59.721422",
     "exception": false,
     "start_time": "2022-01-13T04:49:59.709705",
     "status": "completed"
    },
    "tags": []
   },
   "outputs": [],
   "source": [
    "def smape_loss(y_true, y_pred):\n",
    "    \"\"\"SMAPE Loss to be used with TensorFlow\"\"\"\n",
    "    return np.abs(y_true - y_pred) / (y_true + np.abs(y_pred)) * 200\n"
   ]
  },
  {
   "cell_type": "markdown",
   "id": "d8779761",
   "metadata": {
    "papermill": {
     "duration": 0.005367,
     "end_time": "2022-01-13T04:49:59.732325",
     "exception": false,
     "start_time": "2022-01-13T04:49:59.726958",
     "status": "completed"
    },
    "tags": []
   },
   "source": [
    "## Feature Engineering  "
   ]
  },
  {
   "cell_type": "code",
   "execution_count": 5,
   "id": "d4eed5a7",
   "metadata": {
    "execution": {
     "iopub.execute_input": "2022-01-13T04:49:59.756795Z",
     "iopub.status.busy": "2022-01-13T04:49:59.756169Z",
     "iopub.status.idle": "2022-01-13T04:50:14.507141Z",
     "shell.execute_reply": "2022-01-13T04:50:14.506634Z",
     "shell.execute_reply.started": "2022-01-12T13:35:16.188563Z"
    },
    "papermill": {
     "duration": 14.769189,
     "end_time": "2022-01-13T04:50:14.507281",
     "exception": false,
     "start_time": "2022-01-13T04:49:59.738092",
     "status": "completed"
    },
    "tags": []
   },
   "outputs": [
    {
     "name": "stdout",
     "output_type": "stream",
     "text": [
      "<class 'pandas.core.frame.DataFrame'>\n",
      "DatetimeIndex: 26298 entries, 2015-01-01 to 2018-12-31\n",
      "Columns: 618 entries, daynum to num_sold\n",
      "dtypes: datetime64[ns](1), float32(617)\n",
      "memory usage: 62.3 MB\n"
     ]
    },
    {
     "data": {
      "text/plain": [
       "None"
      ]
     },
     "metadata": {},
     "output_type": "display_data"
    },
    {
     "data": {
      "text/html": [
       "<div>\n",
       "<style scoped>\n",
       "    .dataframe tbody tr th:only-of-type {\n",
       "        vertical-align: middle;\n",
       "    }\n",
       "\n",
       "    .dataframe tbody tr th {\n",
       "        vertical-align: top;\n",
       "    }\n",
       "\n",
       "    .dataframe thead th {\n",
       "        text-align: right;\n",
       "    }\n",
       "</style>\n",
       "<table border=\"1\" class=\"dataframe\">\n",
       "  <thead>\n",
       "    <tr style=\"text-align: right;\">\n",
       "      <th></th>\n",
       "      <th>daynum</th>\n",
       "      <th>dayofyear</th>\n",
       "      <th>wd1</th>\n",
       "      <th>wd2</th>\n",
       "      <th>wd3</th>\n",
       "      <th>wd4</th>\n",
       "      <th>wd5</th>\n",
       "      <th>wd6</th>\n",
       "      <th>dec27</th>\n",
       "      <th>dec28</th>\n",
       "      <th>...</th>\n",
       "      <th>sticker_sin98</th>\n",
       "      <th>sticker_cos98</th>\n",
       "      <th>sin99</th>\n",
       "      <th>cos99</th>\n",
       "      <th>mug_sin99</th>\n",
       "      <th>mug_cos99</th>\n",
       "      <th>sticker_sin99</th>\n",
       "      <th>sticker_cos99</th>\n",
       "      <th>date</th>\n",
       "      <th>num_sold</th>\n",
       "    </tr>\n",
       "    <tr>\n",
       "      <th>date</th>\n",
       "      <th></th>\n",
       "      <th></th>\n",
       "      <th></th>\n",
       "      <th></th>\n",
       "      <th></th>\n",
       "      <th></th>\n",
       "      <th></th>\n",
       "      <th></th>\n",
       "      <th></th>\n",
       "      <th></th>\n",
       "      <th></th>\n",
       "      <th></th>\n",
       "      <th></th>\n",
       "      <th></th>\n",
       "      <th></th>\n",
       "      <th></th>\n",
       "      <th></th>\n",
       "      <th></th>\n",
       "      <th></th>\n",
       "      <th></th>\n",
       "      <th></th>\n",
       "    </tr>\n",
       "  </thead>\n",
       "  <tbody>\n",
       "    <tr>\n",
       "      <th>2015-01-01</th>\n",
       "      <td>0.0</td>\n",
       "      <td>1.0</td>\n",
       "      <td>0.0</td>\n",
       "      <td>0.0</td>\n",
       "      <td>1.0</td>\n",
       "      <td>0.0</td>\n",
       "      <td>0.0</td>\n",
       "      <td>0.0</td>\n",
       "      <td>0.0</td>\n",
       "      <td>0.0</td>\n",
       "      <td>...</td>\n",
       "      <td>0.000000</td>\n",
       "      <td>-0.000000</td>\n",
       "      <td>0.991114</td>\n",
       "      <td>-0.133015</td>\n",
       "      <td>0.991114</td>\n",
       "      <td>-0.133015</td>\n",
       "      <td>0.000000</td>\n",
       "      <td>-0.000000</td>\n",
       "      <td>2015-01-01</td>\n",
       "      <td>329.0</td>\n",
       "    </tr>\n",
       "    <tr>\n",
       "      <th>2015-01-01</th>\n",
       "      <td>0.0</td>\n",
       "      <td>1.0</td>\n",
       "      <td>0.0</td>\n",
       "      <td>0.0</td>\n",
       "      <td>1.0</td>\n",
       "      <td>0.0</td>\n",
       "      <td>0.0</td>\n",
       "      <td>0.0</td>\n",
       "      <td>0.0</td>\n",
       "      <td>0.0</td>\n",
       "      <td>...</td>\n",
       "      <td>0.000000</td>\n",
       "      <td>-0.000000</td>\n",
       "      <td>0.991114</td>\n",
       "      <td>-0.133015</td>\n",
       "      <td>0.000000</td>\n",
       "      <td>-0.000000</td>\n",
       "      <td>0.000000</td>\n",
       "      <td>-0.000000</td>\n",
       "      <td>2015-01-01</td>\n",
       "      <td>520.0</td>\n",
       "    </tr>\n",
       "    <tr>\n",
       "      <th>2015-01-01</th>\n",
       "      <td>0.0</td>\n",
       "      <td>1.0</td>\n",
       "      <td>0.0</td>\n",
       "      <td>0.0</td>\n",
       "      <td>1.0</td>\n",
       "      <td>0.0</td>\n",
       "      <td>0.0</td>\n",
       "      <td>0.0</td>\n",
       "      <td>0.0</td>\n",
       "      <td>0.0</td>\n",
       "      <td>...</td>\n",
       "      <td>0.993257</td>\n",
       "      <td>-0.115935</td>\n",
       "      <td>0.991114</td>\n",
       "      <td>-0.133015</td>\n",
       "      <td>0.000000</td>\n",
       "      <td>-0.000000</td>\n",
       "      <td>0.991114</td>\n",
       "      <td>-0.133015</td>\n",
       "      <td>2015-01-01</td>\n",
       "      <td>146.0</td>\n",
       "    </tr>\n",
       "  </tbody>\n",
       "</table>\n",
       "<p>3 rows × 618 columns</p>\n",
       "</div>"
      ],
      "text/plain": [
       "            daynum  dayofyear  wd1  wd2  wd3  wd4  wd5  wd6  dec27  dec28  \\\n",
       "date                                                                        \n",
       "2015-01-01     0.0        1.0  0.0  0.0  1.0  0.0  0.0  0.0    0.0    0.0   \n",
       "2015-01-01     0.0        1.0  0.0  0.0  1.0  0.0  0.0  0.0    0.0    0.0   \n",
       "2015-01-01     0.0        1.0  0.0  0.0  1.0  0.0  0.0  0.0    0.0    0.0   \n",
       "\n",
       "            ...  sticker_sin98  sticker_cos98     sin99     cos99  mug_sin99  \\\n",
       "date        ...                                                                \n",
       "2015-01-01  ...       0.000000      -0.000000  0.991114 -0.133015   0.991114   \n",
       "2015-01-01  ...       0.000000      -0.000000  0.991114 -0.133015   0.000000   \n",
       "2015-01-01  ...       0.993257      -0.115935  0.991114 -0.133015   0.000000   \n",
       "\n",
       "            mug_cos99  sticker_sin99  sticker_cos99       date  num_sold  \n",
       "date                                                                      \n",
       "2015-01-01  -0.133015       0.000000      -0.000000 2015-01-01     329.0  \n",
       "2015-01-01  -0.000000       0.000000      -0.000000 2015-01-01     520.0  \n",
       "2015-01-01  -0.000000       0.991114      -0.133015 2015-01-01     146.0  \n",
       "\n",
       "[3 rows x 618 columns]"
      ]
     },
     "execution_count": 5,
     "metadata": {},
     "output_type": "execute_result"
    }
   ],
   "source": [
    "def feature_engineering(df):\n",
    "    new_df = pd.DataFrame({'daynum':            (df.date - datetime(2015,1,1)).dt.days,\n",
    "                           'dayofyear':          df.date.dt.dayofyear,\n",
    "                            'wd1': df.date.dt.weekday == 1,\n",
    "                           'wd2': df.date.dt.weekday == 2,\n",
    "                           'wd3': df.date.dt.weekday == 3,\n",
    "                           'wd4': df.date.dt.weekday == 4,\n",
    "                           'wd5': df.date.dt.weekday == 5,\n",
    "                           'wd6': df.date.dt.weekday == 6,\n",
    "                           #'dec26': (df.date.dt.month == 12) & (df.date.dt.day == 29),\n",
    "                           'dec27': (df.date.dt.month == 12) & (df.date.dt.day == 29),\n",
    "                           'dec28': (df.date.dt.month == 12) & (df.date.dt.day == 29),\n",
    "                           'dec29': (df.date.dt.month == 12) & (df.date.dt.day == 29),\n",
    "                           'dec30': (df.date.dt.month == 12) & (df.date.dt.day == 30),\n",
    "                           #'dec31': (df.date.dt.month == 12) & (df.date.dt.day == 30),\n",
    "                           #'yearend': df.date.dt.dayofyear >= 360,\n",
    "                           #'dec30': (df.date.dt.month == 12) & (df.date.dt.day == 30),\n",
    "                           'easter': 0,\n",
    "                           'easter1': 0,\n",
    "                           'easter2': 0,\n",
    "                           'easter3': 0,\n",
    "                          })\n",
    "    new_df['daynum2'] = np.log(new_df.daynum + 80) \n",
    "    \n",
    "     # One-hot encoding (no need to encode the last categories)\n",
    "    for country in ['Finland', 'Norway']:\n",
    "        new_df[country] = df.country == country\n",
    "    new_df['KaggleRama'] = df.store == 'KaggleRama'\n",
    "    for product in ['Kaggle Mug', 'Kaggle Sticker']:\n",
    "        new_df[product] = df['product'] == product\n",
    "    \n",
    "    # Seasonal variations (Fourier series)\n",
    "    for k in range(1,100):\n",
    "        new_df[f'sin{k}'] = np.sin(new_df.dayofyear / 365 * 2 * math.pi * k)\n",
    "        new_df[f'cos{k}'] = np.cos(new_df.dayofyear / 365 * 2 * math.pi * k)\n",
    "        new_df[f'mug_sin{k}'] = new_df[f'sin{k}'] * new_df['Kaggle Mug']\n",
    "        new_df[f'mug_cos{k}'] = new_df[f'cos{k}'] * new_df['Kaggle Mug']\n",
    "        new_df[f'sticker_sin{k}'] = new_df[f'sin{k}'] * new_df['Kaggle Sticker']\n",
    "        new_df[f'sticker_cos{k}'] = new_df[f'cos{k}'] * new_df['Kaggle Sticker']\n",
    "    \n",
    "    return new_df\n",
    "train_df = feature_engineering(original_train_df)\n",
    "train_df['date'] = original_train_df.date\n",
    "train_df['num_sold'] = original_train_df.num_sold.astype(np.float32)\n",
    "test_df = feature_engineering(original_test_df)\n",
    "\n",
    "features = test_df.columns\n",
    "for df in [train_df, test_df]:\n",
    "    df[features] = df[features].astype(np.float32)\n",
    "\n",
    "display(train_df.info())\n",
    "train_df.head(3)"
   ]
  },
  {
   "cell_type": "code",
   "execution_count": null,
   "id": "1b7530f2",
   "metadata": {
    "papermill": {
     "duration": 0.006671,
     "end_time": "2022-01-13T04:50:14.521044",
     "exception": false,
     "start_time": "2022-01-13T04:50:14.514373",
     "status": "completed"
    },
    "tags": []
   },
   "outputs": [],
   "source": []
  }
 ],
 "metadata": {
  "kernelspec": {
   "display_name": "Python 3",
   "language": "python",
   "name": "python3"
  },
  "language_info": {
   "codemirror_mode": {
    "name": "ipython",
    "version": 3
   },
   "file_extension": ".py",
   "mimetype": "text/x-python",
   "name": "python",
   "nbconvert_exporter": "python",
   "pygments_lexer": "ipython3",
   "version": "3.7.12"
  },
  "papermill": {
   "default_parameters": {},
   "duration": 24.814913,
   "end_time": "2022-01-13T04:50:15.139441",
   "environment_variables": {},
   "exception": null,
   "input_path": "__notebook__.ipynb",
   "output_path": "__notebook__.ipynb",
   "parameters": {},
   "start_time": "2022-01-13T04:49:50.324528",
   "version": "2.3.3"
  }
 },
 "nbformat": 4,
 "nbformat_minor": 5
}
