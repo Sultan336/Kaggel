{
 "cells": [
  {
   "cell_type": "code",
   "execution_count": 1,
   "id": "e9fba9b0",
   "metadata": {
    "_cell_guid": "b1076dfc-b9ad-4769-8c92-a6c4dae69d19",
    "_uuid": "8f2839f25d086af736a60e9eeb907d3b93b6e0e5",
    "execution": {
     "iopub.execute_input": "2022-01-09T06:56:53.492627Z",
     "iopub.status.busy": "2022-01-09T06:56:53.491815Z",
     "iopub.status.idle": "2022-01-09T06:56:55.802900Z",
     "shell.execute_reply": "2022-01-09T06:56:55.802050Z",
     "shell.execute_reply.started": "2022-01-09T06:48:45.444440Z"
    },
    "papermill": {
     "duration": 2.354978,
     "end_time": "2022-01-09T06:56:55.803127",
     "exception": false,
     "start_time": "2022-01-09T06:56:53.448149",
     "status": "completed"
    },
    "tags": []
   },
   "outputs": [
    {
     "data": {
      "text/html": [
       "        <script type=\"text/javascript\">\n",
       "        window.PlotlyConfig = {MathJaxConfig: 'local'};\n",
       "        if (window.MathJax) {MathJax.Hub.Config({SVG: {font: \"STIX-Web\"}});}\n",
       "        if (typeof require !== 'undefined') {\n",
       "        require.undef(\"plotly\");\n",
       "        requirejs.config({\n",
       "            paths: {\n",
       "                'plotly': ['https://cdn.plot.ly/plotly-2.6.3.min']\n",
       "            }\n",
       "        });\n",
       "        require(['plotly'], function(Plotly) {\n",
       "            window._Plotly = Plotly;\n",
       "        });\n",
       "        }\n",
       "        </script>\n",
       "        "
      ]
     },
     "metadata": {},
     "output_type": "display_data"
    }
   ],
   "source": [
    "# Libraries for working with data\n",
    "import numpy as np \n",
    "import pandas as pd\n",
    "\n",
    "# libraries for visualizing data\n",
    "import plotly as py\n",
    "import plotly.graph_objs as go\n",
    "import plotly.express as px\n",
    "from plotly.offline import init_notebook_mode\n",
    "init_notebook_mode(connected = True)\n",
    "import seaborn as sns\n",
    "import matplotlib.pyplot as plt\n",
    "%matplotlib inline\n",
    "\n",
    "\n",
    "#########################################################\n",
    "import warnings\n",
    "warnings.filterwarnings(\"ignore\")\n",
    "\n",
    "pd.set_option('display.max_columns', None)"
   ]
  },
  {
   "cell_type": "code",
   "execution_count": 2,
   "id": "8844d5fb",
   "metadata": {
    "execution": {
     "iopub.execute_input": "2022-01-09T06:56:55.854684Z",
     "iopub.status.busy": "2022-01-09T06:56:55.854090Z",
     "iopub.status.idle": "2022-01-09T06:56:55.947017Z",
     "shell.execute_reply": "2022-01-09T06:56:55.947564Z",
     "shell.execute_reply.started": "2022-01-09T06:48:48.943452Z"
    },
    "papermill": {
     "duration": 0.120339,
     "end_time": "2022-01-09T06:56:55.947787",
     "exception": false,
     "start_time": "2022-01-09T06:56:55.827448",
     "status": "completed"
    },
    "tags": []
   },
   "outputs": [],
   "source": [
    "#Loading dataset\n",
    "train = pd.read_csv('../input/tabular-playground-series-jan-2022/train.csv')\n",
    "test = pd.read_csv('../input/tabular-playground-series-jan-2022/test.csv')\n",
    "submission = pd.read_csv('../input/tabular-playground-series-jan-2022/sample_submission.csv')"
   ]
  },
  {
   "cell_type": "code",
   "execution_count": 3,
   "id": "58edb595",
   "metadata": {
    "execution": {
     "iopub.execute_input": "2022-01-09T06:56:55.997054Z",
     "iopub.status.busy": "2022-01-09T06:56:55.996415Z",
     "iopub.status.idle": "2022-01-09T06:56:56.038735Z",
     "shell.execute_reply": "2022-01-09T06:56:56.037868Z",
     "shell.execute_reply.started": "2022-01-09T06:20:02.312119Z"
    },
    "papermill": {
     "duration": 0.068386,
     "end_time": "2022-01-09T06:56:56.038952",
     "exception": false,
     "start_time": "2022-01-09T06:56:55.970566",
     "status": "completed"
    },
    "tags": []
   },
   "outputs": [
    {
     "name": "stdout",
     "output_type": "stream",
     "text": [
      "<class 'pandas.core.frame.DataFrame'>\n",
      "RangeIndex: 26298 entries, 0 to 26297\n",
      "Data columns (total 6 columns):\n",
      " #   Column    Non-Null Count  Dtype \n",
      "---  ------    --------------  ----- \n",
      " 0   row_id    26298 non-null  int64 \n",
      " 1   date      26298 non-null  object\n",
      " 2   country   26298 non-null  object\n",
      " 3   store     26298 non-null  object\n",
      " 4   product   26298 non-null  object\n",
      " 5   num_sold  26298 non-null  int64 \n",
      "dtypes: int64(2), object(4)\n",
      "memory usage: 1.2+ MB\n"
     ]
    }
   ],
   "source": [
    "train.info()"
   ]
  },
  {
   "cell_type": "code",
   "execution_count": 4,
   "id": "d5770875",
   "metadata": {
    "execution": {
     "iopub.execute_input": "2022-01-09T06:56:56.092994Z",
     "iopub.status.busy": "2022-01-09T06:56:56.092281Z",
     "iopub.status.idle": "2022-01-09T06:56:56.111117Z",
     "shell.execute_reply": "2022-01-09T06:56:56.111740Z",
     "shell.execute_reply.started": "2022-01-09T06:20:52.174913Z"
    },
    "papermill": {
     "duration": 0.048848,
     "end_time": "2022-01-09T06:56:56.111944",
     "exception": false,
     "start_time": "2022-01-09T06:56:56.063096",
     "status": "completed"
    },
    "tags": []
   },
   "outputs": [
    {
     "data": {
      "text/html": [
       "<div>\n",
       "<style scoped>\n",
       "    .dataframe tbody tr th:only-of-type {\n",
       "        vertical-align: middle;\n",
       "    }\n",
       "\n",
       "    .dataframe tbody tr th {\n",
       "        vertical-align: top;\n",
       "    }\n",
       "\n",
       "    .dataframe thead th {\n",
       "        text-align: right;\n",
       "    }\n",
       "</style>\n",
       "<table border=\"1\" class=\"dataframe\">\n",
       "  <thead>\n",
       "    <tr style=\"text-align: right;\">\n",
       "      <th></th>\n",
       "      <th>row_id</th>\n",
       "      <th>date</th>\n",
       "      <th>country</th>\n",
       "      <th>store</th>\n",
       "      <th>product</th>\n",
       "      <th>num_sold</th>\n",
       "    </tr>\n",
       "  </thead>\n",
       "  <tbody>\n",
       "    <tr>\n",
       "      <th>0</th>\n",
       "      <td>0</td>\n",
       "      <td>2015-01-01</td>\n",
       "      <td>Finland</td>\n",
       "      <td>KaggleMart</td>\n",
       "      <td>Kaggle Mug</td>\n",
       "      <td>329</td>\n",
       "    </tr>\n",
       "    <tr>\n",
       "      <th>1</th>\n",
       "      <td>1</td>\n",
       "      <td>2015-01-01</td>\n",
       "      <td>Finland</td>\n",
       "      <td>KaggleMart</td>\n",
       "      <td>Kaggle Hat</td>\n",
       "      <td>520</td>\n",
       "    </tr>\n",
       "    <tr>\n",
       "      <th>2</th>\n",
       "      <td>2</td>\n",
       "      <td>2015-01-01</td>\n",
       "      <td>Finland</td>\n",
       "      <td>KaggleMart</td>\n",
       "      <td>Kaggle Sticker</td>\n",
       "      <td>146</td>\n",
       "    </tr>\n",
       "    <tr>\n",
       "      <th>3</th>\n",
       "      <td>3</td>\n",
       "      <td>2015-01-01</td>\n",
       "      <td>Finland</td>\n",
       "      <td>KaggleRama</td>\n",
       "      <td>Kaggle Mug</td>\n",
       "      <td>572</td>\n",
       "    </tr>\n",
       "    <tr>\n",
       "      <th>4</th>\n",
       "      <td>4</td>\n",
       "      <td>2015-01-01</td>\n",
       "      <td>Finland</td>\n",
       "      <td>KaggleRama</td>\n",
       "      <td>Kaggle Hat</td>\n",
       "      <td>911</td>\n",
       "    </tr>\n",
       "  </tbody>\n",
       "</table>\n",
       "</div>"
      ],
      "text/plain": [
       "   row_id        date  country       store         product  num_sold\n",
       "0       0  2015-01-01  Finland  KaggleMart      Kaggle Mug       329\n",
       "1       1  2015-01-01  Finland  KaggleMart      Kaggle Hat       520\n",
       "2       2  2015-01-01  Finland  KaggleMart  Kaggle Sticker       146\n",
       "3       3  2015-01-01  Finland  KaggleRama      Kaggle Mug       572\n",
       "4       4  2015-01-01  Finland  KaggleRama      Kaggle Hat       911"
      ]
     },
     "execution_count": 4,
     "metadata": {},
     "output_type": "execute_result"
    }
   ],
   "source": [
    "train.head()"
   ]
  },
  {
   "cell_type": "code",
   "execution_count": 5,
   "id": "b9e96bbf",
   "metadata": {
    "execution": {
     "iopub.execute_input": "2022-01-09T06:56:56.164967Z",
     "iopub.status.busy": "2022-01-09T06:56:56.164278Z",
     "iopub.status.idle": "2022-01-09T06:56:56.183038Z",
     "shell.execute_reply": "2022-01-09T06:56:56.183560Z",
     "shell.execute_reply.started": "2022-01-09T06:48:52.358122Z"
    },
    "papermill": {
     "duration": 0.046719,
     "end_time": "2022-01-09T06:56:56.183807",
     "exception": false,
     "start_time": "2022-01-09T06:56:56.137088",
     "status": "completed"
    },
    "tags": []
   },
   "outputs": [],
   "source": [
    "# converting date into time series data\n",
    "train['date'] = pd.to_datetime(train.date)\n",
    "test['date'] = pd.to_datetime(test.date)"
   ]
  },
  {
   "cell_type": "code",
   "execution_count": 6,
   "id": "ba11450c",
   "metadata": {
    "execution": {
     "iopub.execute_input": "2022-01-09T06:56:56.238460Z",
     "iopub.status.busy": "2022-01-09T06:56:56.237806Z",
     "iopub.status.idle": "2022-01-09T06:56:56.242497Z",
     "shell.execute_reply": "2022-01-09T06:56:56.243042Z",
     "shell.execute_reply.started": "2022-01-09T06:48:54.995681Z"
    },
    "papermill": {
     "duration": 0.035711,
     "end_time": "2022-01-09T06:56:56.243248",
     "exception": false,
     "start_time": "2022-01-09T06:56:56.207537",
     "status": "completed"
    },
    "tags": []
   },
   "outputs": [
    {
     "name": "stdout",
     "output_type": "stream",
     "text": [
      "Training data is from 2015-01-01 00:00:00 to 2018-12-31 00:00:00 duration 1460 days 00:00:00 \n",
      "Testing  data is from 2019-01-01 00:00:00 to 2019-12-31 00:00:00 duration  364 days 00:00:00 \n"
     ]
    }
   ],
   "source": [
    "# duration \n",
    "print(f'Training data is from {train.date.min()} to {train.date.max()} duration {train.date.max()-train.date.min()} ')\n",
    "print(f'Testing  data is from {test.date.min()} to {test.date.max()} duration  {test.date.max()-test.date.min()} ')"
   ]
  },
  {
   "cell_type": "code",
   "execution_count": 7,
   "id": "b05dfb7d",
   "metadata": {
    "execution": {
     "iopub.execute_input": "2022-01-09T06:56:56.296128Z",
     "iopub.status.busy": "2022-01-09T06:56:56.295433Z",
     "iopub.status.idle": "2022-01-09T06:56:56.307521Z",
     "shell.execute_reply": "2022-01-09T06:56:56.308319Z",
     "shell.execute_reply.started": "2022-01-09T06:48:56.548508Z"
    },
    "papermill": {
     "duration": 0.040981,
     "end_time": "2022-01-09T06:56:56.308661",
     "exception": false,
     "start_time": "2022-01-09T06:56:56.267680",
     "status": "completed"
    },
    "tags": []
   },
   "outputs": [
    {
     "name": "stdout",
     "output_type": "stream",
     "text": [
      "country: ['Finland' 'Norway' 'Sweden']\n",
      "store: ['KaggleMart' 'KaggleRama']\n",
      "product: ['Kaggle Mug' 'Kaggle Hat' 'Kaggle Sticker']\n"
     ]
    }
   ],
   "source": [
    "for col in ['country', 'store','product']:\n",
    "    print(f'{col}: {train[col].unique()}')\n"
   ]
  },
  {
   "cell_type": "code",
   "execution_count": 8,
   "id": "c9a36e7c",
   "metadata": {
    "execution": {
     "iopub.execute_input": "2022-01-09T06:56:56.362572Z",
     "iopub.status.busy": "2022-01-09T06:56:56.361836Z",
     "iopub.status.idle": "2022-01-09T06:56:56.387258Z",
     "shell.execute_reply": "2022-01-09T06:56:56.387774Z",
     "shell.execute_reply.started": "2022-01-09T06:48:58.533581Z"
    },
    "papermill": {
     "duration": 0.053607,
     "end_time": "2022-01-09T06:56:56.387986",
     "exception": false,
     "start_time": "2022-01-09T06:56:56.334379",
     "status": "completed"
    },
    "tags": []
   },
   "outputs": [
    {
     "data": {
      "text/html": [
       "<div>\n",
       "<style scoped>\n",
       "    .dataframe tbody tr th:only-of-type {\n",
       "        vertical-align: middle;\n",
       "    }\n",
       "\n",
       "    .dataframe tbody tr th {\n",
       "        vertical-align: top;\n",
       "    }\n",
       "\n",
       "    .dataframe thead th {\n",
       "        text-align: right;\n",
       "    }\n",
       "</style>\n",
       "<table border=\"1\" class=\"dataframe\">\n",
       "  <thead>\n",
       "    <tr style=\"text-align: right;\">\n",
       "      <th></th>\n",
       "      <th></th>\n",
       "      <th></th>\n",
       "      <th>num_sold</th>\n",
       "    </tr>\n",
       "    <tr>\n",
       "      <th>country</th>\n",
       "      <th>store</th>\n",
       "      <th>product</th>\n",
       "      <th></th>\n",
       "    </tr>\n",
       "  </thead>\n",
       "  <tbody>\n",
       "    <tr>\n",
       "      <th rowspan=\"6\" valign=\"top\">Finland</th>\n",
       "      <th rowspan=\"3\" valign=\"top\">KaggleMart</th>\n",
       "      <th>Kaggle Hat</th>\n",
       "      <td>529583</td>\n",
       "    </tr>\n",
       "    <tr>\n",
       "      <th>Kaggle Mug</th>\n",
       "      <td>298337</td>\n",
       "    </tr>\n",
       "    <tr>\n",
       "      <th>Kaggle Sticker</th>\n",
       "      <td>150548</td>\n",
       "    </tr>\n",
       "    <tr>\n",
       "      <th rowspan=\"3\" valign=\"top\">KaggleRama</th>\n",
       "      <th>Kaggle Hat</th>\n",
       "      <td>918862</td>\n",
       "    </tr>\n",
       "    <tr>\n",
       "      <th>Kaggle Mug</th>\n",
       "      <td>520278</td>\n",
       "    </tr>\n",
       "    <tr>\n",
       "      <th>Kaggle Sticker</th>\n",
       "      <td>263319</td>\n",
       "    </tr>\n",
       "    <tr>\n",
       "      <th rowspan=\"6\" valign=\"top\">Norway</th>\n",
       "      <th rowspan=\"3\" valign=\"top\">KaggleMart</th>\n",
       "      <th>Kaggle Hat</th>\n",
       "      <td>868777</td>\n",
       "    </tr>\n",
       "    <tr>\n",
       "      <th>Kaggle Mug</th>\n",
       "      <td>488515</td>\n",
       "    </tr>\n",
       "    <tr>\n",
       "      <th>Kaggle Sticker</th>\n",
       "      <td>247753</td>\n",
       "    </tr>\n",
       "    <tr>\n",
       "      <th rowspan=\"3\" valign=\"top\">KaggleRama</th>\n",
       "      <th>Kaggle Hat</th>\n",
       "      <td>1514119</td>\n",
       "    </tr>\n",
       "    <tr>\n",
       "      <th>Kaggle Mug</th>\n",
       "      <td>853659</td>\n",
       "    </tr>\n",
       "    <tr>\n",
       "      <th>Kaggle Sticker</th>\n",
       "      <td>431883</td>\n",
       "    </tr>\n",
       "    <tr>\n",
       "      <th rowspan=\"6\" valign=\"top\">Sweden</th>\n",
       "      <th rowspan=\"3\" valign=\"top\">KaggleMart</th>\n",
       "      <th>Kaggle Hat</th>\n",
       "      <td>612472</td>\n",
       "    </tr>\n",
       "    <tr>\n",
       "      <th>Kaggle Mug</th>\n",
       "      <td>344628</td>\n",
       "    </tr>\n",
       "    <tr>\n",
       "      <th>Kaggle Sticker</th>\n",
       "      <td>174755</td>\n",
       "    </tr>\n",
       "    <tr>\n",
       "      <th rowspan=\"3\" valign=\"top\">KaggleRama</th>\n",
       "      <th>Kaggle Hat</th>\n",
       "      <td>1068652</td>\n",
       "    </tr>\n",
       "    <tr>\n",
       "      <th>Kaggle Mug</th>\n",
       "      <td>600870</td>\n",
       "    </tr>\n",
       "    <tr>\n",
       "      <th>Kaggle Sticker</th>\n",
       "      <td>304348</td>\n",
       "    </tr>\n",
       "  </tbody>\n",
       "</table>\n",
       "</div>"
      ],
      "text/plain": [
       "                                   num_sold\n",
       "country store      product                 \n",
       "Finland KaggleMart Kaggle Hat        529583\n",
       "                   Kaggle Mug        298337\n",
       "                   Kaggle Sticker    150548\n",
       "        KaggleRama Kaggle Hat        918862\n",
       "                   Kaggle Mug        520278\n",
       "                   Kaggle Sticker    263319\n",
       "Norway  KaggleMart Kaggle Hat        868777\n",
       "                   Kaggle Mug        488515\n",
       "                   Kaggle Sticker    247753\n",
       "        KaggleRama Kaggle Hat       1514119\n",
       "                   Kaggle Mug        853659\n",
       "                   Kaggle Sticker    431883\n",
       "Sweden  KaggleMart Kaggle Hat        612472\n",
       "                   Kaggle Mug        344628\n",
       "                   Kaggle Sticker    174755\n",
       "        KaggleRama Kaggle Hat       1068652\n",
       "                   Kaggle Mug        600870\n",
       "                   Kaggle Sticker    304348"
      ]
     },
     "execution_count": 8,
     "metadata": {},
     "output_type": "execute_result"
    }
   ],
   "source": [
    "train_categories = train.groupby(['country','store','product']).agg({'num_sold': 'sum'})\n",
    "train_categories"
   ]
  },
  {
   "cell_type": "code",
   "execution_count": 9,
   "id": "572c0fd7",
   "metadata": {
    "execution": {
     "iopub.execute_input": "2022-01-09T06:56:56.442396Z",
     "iopub.status.busy": "2022-01-09T06:56:56.441397Z",
     "iopub.status.idle": "2022-01-09T06:56:56.482444Z",
     "shell.execute_reply": "2022-01-09T06:56:56.483210Z",
     "shell.execute_reply.started": "2022-01-09T06:49:00.406584Z"
    },
    "papermill": {
     "duration": 0.070323,
     "end_time": "2022-01-09T06:56:56.483409",
     "exception": false,
     "start_time": "2022-01-09T06:56:56.413086",
     "status": "completed"
    },
    "tags": []
   },
   "outputs": [
    {
     "data": {
      "text/html": [
       "<div>\n",
       "<style scoped>\n",
       "    .dataframe tbody tr th:only-of-type {\n",
       "        vertical-align: middle;\n",
       "    }\n",
       "\n",
       "    .dataframe tbody tr th {\n",
       "        vertical-align: top;\n",
       "    }\n",
       "\n",
       "    .dataframe thead th {\n",
       "        text-align: right;\n",
       "    }\n",
       "</style>\n",
       "<table border=\"1\" class=\"dataframe\">\n",
       "  <thead>\n",
       "    <tr style=\"text-align: right;\">\n",
       "      <th></th>\n",
       "      <th>date</th>\n",
       "      <th>num_sold</th>\n",
       "    </tr>\n",
       "  </thead>\n",
       "  <tbody>\n",
       "    <tr>\n",
       "      <th>0</th>\n",
       "      <td>2015-12-31</td>\n",
       "      <td>364.382192</td>\n",
       "    </tr>\n",
       "    <tr>\n",
       "      <th>1</th>\n",
       "      <td>2016-12-31</td>\n",
       "      <td>364.807529</td>\n",
       "    </tr>\n",
       "    <tr>\n",
       "      <th>2</th>\n",
       "      <td>2017-12-31</td>\n",
       "      <td>396.011720</td>\n",
       "    </tr>\n",
       "    <tr>\n",
       "      <th>3</th>\n",
       "      <td>2018-12-31</td>\n",
       "      <td>424.995129</td>\n",
       "    </tr>\n",
       "  </tbody>\n",
       "</table>\n",
       "</div>"
      ],
      "text/plain": [
       "        date    num_sold\n",
       "0 2015-12-31  364.382192\n",
       "1 2016-12-31  364.807529\n",
       "2 2017-12-31  396.011720\n",
       "3 2018-12-31  424.995129"
      ]
     },
     "execution_count": 9,
     "metadata": {},
     "output_type": "execute_result"
    }
   ],
   "source": [
    "train_data_year = train.pivot_table(index=pd.Grouper(freq='Y',key='date')).reset_index().drop(columns='row_id',axis=0)\n",
    "train_data_year.head()"
   ]
  },
  {
   "cell_type": "code",
   "execution_count": 10,
   "id": "e1969ed4",
   "metadata": {
    "execution": {
     "iopub.execute_input": "2022-01-09T06:56:56.539530Z",
     "iopub.status.busy": "2022-01-09T06:56:56.538517Z",
     "iopub.status.idle": "2022-01-09T06:56:57.251207Z",
     "shell.execute_reply": "2022-01-09T06:56:57.251722Z",
     "shell.execute_reply.started": "2022-01-09T06:49:03.291313Z"
    },
    "papermill": {
     "duration": 0.742701,
     "end_time": "2022-01-09T06:56:57.251913",
     "exception": false,
     "start_time": "2022-01-09T06:56:56.509212",
     "status": "completed"
    },
    "tags": []
   },
   "outputs": [
    {
     "data": {
      "image/png": "[encoded data removed]",
      "text/plain": [
       "<Figure size 864x504 with 1 Axes>"
      ]
     },
     "metadata": {
      "needs_background": "light"
     },
     "output_type": "display_data"
    }
   ],
   "source": [
    "#using seaborn\n",
    "train_data_year = train.set_index('date').groupby([pd.Grouper(freq='Y')])['num_sold'].mean().reset_index()\n",
    "train_data_month = train.set_index('date').groupby([pd.Grouper(freq='M')])['num_sold'].mean().reset_index()\n",
    "train_data_day = train.set_index('date').groupby([pd.Grouper(freq='d')])['num_sold'].mean().reset_index()\n",
    "fig, ax = plt.subplots(1, 1, figsize=(12, 7))\n",
    "sns.lineplot(data=train_data_month,x='date',y='num_sold' ,label='Monthly average', color='red',linewidth=2.5)\n",
    "sns.lineplot(data=train_data_day,x='date',y='num_sold' ,label='Daily average', color='green',alpha=.7)\n",
    "sns.lineplot(data=train_data_year,x='date',y='num_sold',ax=ax, label='Yearly average', color='black',linewidth=2.5)\n",
    "ax.set_title('Trend', fontsize=20, fontweight='bold', loc='left', y=1.03)\n",
    "ax.grid(alpha=0.5)\n",
    "ax.legend()\n",
    "plt.show()\n",
    "\n"
   ]
  },
  {
   "cell_type": "code",
   "execution_count": 11,
   "id": "4caf2d70",
   "metadata": {
    "execution": {
     "iopub.execute_input": "2022-01-09T06:56:57.311692Z",
     "iopub.status.busy": "2022-01-09T06:56:57.311017Z",
     "iopub.status.idle": "2022-01-09T06:56:58.365137Z",
     "shell.execute_reply": "2022-01-09T06:56:58.365650Z",
     "shell.execute_reply.started": "2022-01-09T06:49:09.997968Z"
    },
    "papermill": {
     "duration": 1.086318,
     "end_time": "2022-01-09T06:56:58.365851",
     "exception": false,
     "start_time": "2022-01-09T06:56:57.279533",
     "status": "completed"
    },
    "tags": []
   },
   "outputs": [
    {
     "data": {
      "application/vnd.plotly.v1+json": {
       "config": {
        "plotlyServerURL": "https://plot.ly"
       },
       "data": [
        {
         "hovertemplate": "date=%{x}<br>num_sold=%{y}<extra></extra>",
         "legendgroup": "",
         "line": {
          "color": "#636efa",
          "dash": "solid"
         },
         "marker": {
          "symbol": "circle"
         },
         "mode": "lines",
         "name": "",
         "orientation": "v",
         "showlegend": false,
         "type": "scatter",
         "x": [
          "2015-01-01T00:00:00",
          "2015-01-08T00:00:00",
          "2015-01-15T00:00:00",
          "2015-01-22T00:00:00",
          "2015-01-29T00:00:00",
          "2015-02-05T00:00:00",
          "2015-02-12T00:00:00",
          "2015-02-19T00:00:00",
          "2015-02-26T00:00:00",
          "2015-03-05T00:00:00",
          "2015-03-12T00:00:00",
          "2015-03-19T00:00:00",
          "2015-03-26T00:00:00",
          "2015-04-02T00:00:00",
          "2015-04-09T00:00:00",
          "2015-04-16T00:00:00",
          "2015-04-23T00:00:00",
          "2015-04-30T00:00:00",
          "2015-05-07T00:00:00",
          "2015-05-14T00:00:00",
          "2015-05-21T00:00:00",
          "2015-05-28T00:00:00",
          "2015-06-04T00:00:00",
          "2015-06-11T00:00:00",
          "2015-06-18T00:00:00",
          "2015-06-25T00:00:00",
          "2015-07-02T00:00:00",
          "2015-07-09T00:00:00",
          "2015-07-16T00:00:00",
          "2015-07-23T00:00:00",
          "2015-07-30T00:00:00",
          "2015-08-06T00:00:00",
          "2015-08-13T00:00:00",
          "2015-08-20T00:00:00",
          "2015-08-27T00:00:00",
          "2015-09-03T00:00:00",
          "2015-09-10T00:00:00",
          "2015-09-17T00:00:00",
          "2015-09-24T00:00:00",
          "2015-10-01T00:00:00",
          "2015-10-08T00:00:00",
          "2015-10-15T00:00:00",
          "2015-10-22T00:00:00",
          "2015-10-29T00:00:00",
          "2015-11-05T00:00:00",
          "2015-11-12T00:00:00",
          "2015-11-19T00:00:00",
          "2015-11-26T00:00:00",
          "2015-12-03T00:00:00",
          "2015-12-10T00:00:00",
          "2015-12-17T00:00:00",
          "2015-12-24T00:00:00",
          "2015-12-31T00:00:00",
          "2016-01-07T00:00:00",
          "2016-01-14T00:00:00",
          "2016-01-21T00:00:00",
          "2016-01-28T00:00:00",
          "2016-02-04T00:00:00",
          "2016-02-11T00:00:00",
          "2016-02-18T00:00:00",
          "2016-02-25T00:00:00",
          "2016-03-03T00:00:00",
          "2016-03-10T00:00:00",
          "2016-03-17T00:00:00",
          "2016-03-24T00:00:00",
          "2016-03-31T00:00:00",
          "2016-04-07T00:00:00",
          "2016-04-14T00:00:00",
          "2016-04-21T00:00:00",
          "2016-04-28T00:00:00",
          "2016-05-05T00:00:00",
          "2016-05-12T00:00:00",
          "2016-05-19T00:00:00",
          "2016-05-26T00:00:00",
          "2016-06-02T00:00:00",
          "2016-06-09T00:00:00",
          "2016-06-16T00:00:00",
          "2016-06-23T00:00:00",
          "2016-06-30T00:00:00",
          "2016-07-07T00:00:00",
          "2016-07-14T00:00:00",
          "2016-07-21T00:00:00",
          "2016-07-28T00:00:00",
          "2016-08-04T00:00:00",
          "2016-08-11T00:00:00",
          "2016-08-18T00:00:00",
          "2016-08-25T00:00:00",
          "2016-09-01T00:00:00",
          "2016-09-08T00:00:00",
          "2016-09-15T00:00:00",
          "2016-09-22T00:00:00",
          "2016-09-29T00:00:00",
          "2016-10-06T00:00:00",
          "2016-10-13T00:00:00",
          "2016-10-20T00:00:00",
          "2016-10-27T00:00:00",
          "2016-11-03T00:00:00",
          "2016-11-10T00:00:00",
          "2016-11-17T00:00:00",
          "2016-11-24T00:00:00",
          "2016-12-01T00:00:00",
          "2016-12-08T00:00:00",
          "2016-12-15T00:00:00",
          "2016-12-22T00:00:00",
          "2016-12-29T00:00:00",
          "2017-01-05T00:00:00",
          "2017-01-12T00:00:00",
          "2017-01-19T00:00:00",
          "2017-01-26T00:00:00",
          "2017-02-02T00:00:00",
          "2017-02-09T00:00:00",
          "2017-02-16T00:00:00",
          "2017-02-23T00:00:00",
          "2017-03-02T00:00:00",
          "2017-03-09T00:00:00",
          "2017-03-16T00:00:00",
          "2017-03-23T00:00:00",
          "2017-03-30T00:00:00",
          "2017-04-06T00:00:00",
          "2017-04-13T00:00:00",
          "2017-04-20T00:00:00",
          "2017-04-27T00:00:00",
          "2017-05-04T00:00:00",
          "2017-05-11T00:00:00",
          "2017-05-18T00:00:00",
          "2017-05-25T00:00:00",
          "2017-06-01T00:00:00",
          "2017-06-08T00:00:00",
          "2017-06-15T00:00:00",
          "2017-06-22T00:00:00",
          "2017-06-29T00:00:00",
          "2017-07-06T00:00:00",
          "2017-07-13T00:00:00",
          "2017-07-20T00:00:00",
          "2017-07-27T00:00:00",
          "2017-08-03T00:00:00",
          "2017-08-10T00:00:00",
          "2017-08-17T00:00:00",
          "2017-08-24T00:00:00",
          "2017-08-31T00:00:00",
          "2017-09-07T00:00:00",
          "2017-09-14T00:00:00",
          "2017-09-21T00:00:00",
          "2017-09-28T00:00:00",
          "2017-10-05T00:00:00",
          "2017-10-12T00:00:00",
          "2017-10-19T00:00:00",
          "2017-10-26T00:00:00",
          "2017-11-02T00:00:00",
          "2017-11-09T00:00:00",
          "2017-11-16T00:00:00",
          "2017-11-23T00:00:00",
          "2017-11-30T00:00:00",
          "2017-12-07T00:00:00",
          "2017-12-14T00:00:00",
          "2017-12-21T00:00:00",
          "2017-12-28T00:00:00",
          "2018-01-04T00:00:00",
          "2018-01-11T00:00:00",
          "2018-01-18T00:00:00",
          "2018-01-25T00:00:00",
          "2018-02-01T00:00:00",
          "2018-02-08T00:00:00",
          "2018-02-15T00:00:00",
          "2018-02-22T00:00:00",
          "2018-03-01T00:00:00",
          "2018-03-08T00:00:00",
          "2018-03-15T00:00:00",
          "2018-03-22T00:00:00",
          "2018-03-29T00:00:00",
          "2018-04-05T00:00:00",
          "2018-04-12T00:00:00",
          "2018-04-19T00:00:00",
          "2018-04-26T00:00:00",
          "2018-05-03T00:00:00",
          "2018-05-10T00:00:00",
          "2018-05-17T00:00:00",
          "2018-05-24T00:00:00",
          "2018-05-31T00:00:00",
          "2018-06-07T00:00:00",
          "2018-06-14T00:00:00",
          "2018-06-21T00:00:00",
          "2018-06-28T00:00:00",
          "2018-07-05T00:00:00",
          "2018-07-12T00:00:00",
          "2018-07-19T00:00:00",
          "2018-07-26T00:00:00",
          "2018-08-02T00:00:00",
          "2018-08-09T00:00:00",
          "2018-08-16T00:00:00",
          "2018-08-23T00:00:00",
          "2018-08-30T00:00:00",
          "2018-09-06T00:00:00",
          "2018-09-13T00:00:00",
          "2018-09-20T00:00:00",
          "2018-09-27T00:00:00",
          "2018-10-04T00:00:00",
          "2018-10-11T00:00:00",
          "2018-10-18T00:00:00",
          "2018-10-25T00:00:00",
          "2018-11-01T00:00:00",
          "2018-11-08T00:00:00",
          "2018-11-15T00:00:00",
          "2018-11-22T00:00:00",
          "2018-11-29T00:00:00",
          "2018-12-06T00:00:00",
          "2018-12-13T00:00:00",
          "2018-12-20T00:00:00",
          "2018-12-27T00:00:00"
         ],
         "xaxis": "x",
         "y": [
          514.6269841269841,
          389.25396825396825,
          366.5,
          367.26190476190476,
          378.2857142857143,
          386.3492063492063,
          387.9761904761905,
          392.6984126984127,
          392.08730158730157,
          394.984126984127,
          396.468253968254,
          393.1825396825397,
          391.73015873015873,
          451.3253968253968,
          471.91269841269843,
          382.73015873015873,
          375.9920634920635,
          407.8412698412698,
          385.9761904761905,
          407.91269841269843,
          394.23809523809524,
          400.3095238095238,
          356.24603174603175,
          353.37301587301585,
          365.7857142857143,
          355.3412698412698,
          333.07142857142856,
          326.3253968253968,
          324.23809523809524,
          318.75396825396825,
          313.44444444444446,
          309.1111111111111,
          308.1904761904762,
          306.24603174603175,
          301.37301587301585,
          305.55555555555554,
          303.76190476190476,
          307.43650793650795,
          303.87301587301585,
          304.73809523809524,
          309.1587301587302,
          312.6031746031746,
          318.8809523809524,
          325.64285714285717,
          336.6190476190476,
          326.62698412698415,
          336.0952380952381,
          338.5079365079365,
          347.7857142857143,
          356.6190476190476,
          353.53968253968253,
          611.6587301587301,
          530.1746031746031,
          415.95238095238096,
          380.72222222222223,
          387.95238095238096,
          387.45238095238096,
          382.468253968254,
          383.63492063492066,
          388.4047619047619,
          389.3492063492063,
          388.8174603174603,
          386.37301587301585,
          389.4047619047619,
          450.53968253968253,
          479.2936507936508,
          386.3412698412698,
          383.57936507936506,
          381.015873015873,
          388.55555555555554,
          433.73809523809524,
          380.63492063492066,
          422.13492063492066,
          349.1825396825397,
          354.08730158730157,
          359.0238095238095,
          339.1031746031746,
          359.43650793650795,
          344.56349206349205,
          326.26984126984127,
          320.23809523809524,
          315.27777777777777,
          313.12698412698415,
          309.6904761904762,
          309.42857142857144,
          304.468253968254,
          307.0238095238095,
          304.58730158730157,
          303.9920634920635,
          302.0079365079365,
          303.14285714285717,
          309.468253968254,
          312.63492063492066,
          313.9920634920635,
          317.64285714285717,
          322.1507936507937,
          339.2936507936508,
          342.55555555555554,
          334.1587301587302,
          341.3095238095238,
          345.9761904761905,
          358.8015873015873,
          355.5238095238095,
          469.1825396825397,
          673.1428571428571,
          448.35714285714283,
          405.2936507936508,
          401.77777777777777,
          404.44444444444446,
          410.73809523809524,
          413.4047619047619,
          418.7857142857143,
          419.6031746031746,
          420.6746031746032,
          421.54761904761904,
          417.3809523809524,
          415.6587301587302,
          417.4047619047619,
          416.42857142857144,
          483.85714285714283,
          497.7063492063492,
          417.515873015873,
          441.92063492063494,
          396.04761904761904,
          409.3412698412698,
          422.1825396825397,
          400.6507936507937,
          431.9047619047619,
          366.2936507936508,
          388.484126984127,
          381.1666666666667,
          357.1984126984127,
          351.96031746031747,
          349.8253968253968,
          344.76190476190476,
          340.07936507936506,
          339.1587301587302,
          340.3174603174603,
          334.0079365079365,
          333.1031746031746,
          332.25396825396825,
          336.1507936507937,
          332.36507936507934,
          334.5238095238095,
          335.6904761904762,
          336.14285714285717,
          345.53968253968253,
          348.6111111111111,
          373.8888888888889,
          380.23015873015873,
          370.12698412698415,
          374.58730158730157,
          383.1507936507937,
          398.36507936507934,
          397.8492063492063,
          461.13492063492066,
          792.2380952380952,
          501.62698412698415,
          456.23809523809524,
          444.3492063492063,
          442.1904761904762,
          447.8492063492063,
          447.0,
          453.7142857142857,
          451.3095238095238,
          456.4761904761905,
          457.41269841269843,
          455.93650793650795,
          450.77777777777777,
          532.7698412698413,
          556.7619047619048,
          447.13492063492066,
          445.6666666666667,
          440.3253968253968,
          485.9761904761905,
          476.7063492063492,
          470.484126984127,
          477.41269841269843,
          415.58730158730157,
          420.43650793650795,
          403.3492063492063,
          425.86507936507934,
          411.8492063492063,
          380.24603174603175,
          375.87301587301585,
          371.25396825396825,
          363.8095238095238,
          366.86507936507934,
          363.87301587301585,
          360.5,
          359.8333333333333,
          353.8888888888889,
          355.3333333333333,
          355.55555555555554,
          355.8888888888889,
          356.9047619047619,
          359.968253968254,
          361.76984126984127,
          369.57936507936506,
          371.9920634920635,
          381.8174603174603,
          386.55555555555554,
          382.8492063492063,
          390.26984126984127,
          393.8968253968254,
          409.76984126984127,
          409.37301587301585,
          435.4047619047619,
          932.9777777777778
         ],
         "yaxis": "y"
        }
       ],
       "layout": {
        "legend": {
         "tracegroupgap": 0
        },
        "margin": {
         "t": 60
        },
        "template": {
         "data": {
          "bar": [
           {
            "error_x": {
             "color": "#2a3f5f"
            },
            "error_y": {
             "color": "#2a3f5f"
            },
            "marker": {
             "line": {
              "color": "#E5ECF6",
              "width": 0.5
             },
             "pattern": {
              "fillmode": "overlay",
              "size": 10,
              "solidity": 0.2
             }
            },
            "type": "bar"
           }
          ],
          "barpolar": [
           {
            "marker": {
             "line": {
              "color": "#E5ECF6",
              "width": 0.5
             },
             "pattern": {
              "fillmode": "overlay",
              "size": 10,
              "solidity": 0.2
             }
            },
            "type": "barpolar"
           }
          ],
          "carpet": [
           {
            "aaxis": {
             "endlinecolor": "#2a3f5f",
             "gridcolor": "white",
             "linecolor": "white",
             "minorgridcolor": "white",
             "startlinecolor": "#2a3f5f"
            },
            "baxis": {
             "endlinecolor": "#2a3f5f",
             "gridcolor": "white",
             "linecolor": "white",
             "minorgridcolor": "white",
             "startlinecolor": "#2a3f5f"
            },
            "type": "carpet"
           }
          ],
          "choropleth": [
           {
            "colorbar": {
             "outlinewidth": 0,
             "ticks": ""
            },
            "type": "choropleth"
           }
          ],
          "contour": [
           {
            "colorbar": {
             "outlinewidth": 0,
             "ticks": ""
            },
            "colorscale": [
             [
              0.0,
              "#0d0887"
             ],
             [
              0.1111111111111111,
              "#46039f"
             ],
             [
              0.2222222222222222,
              "#7201a8"
             ],
             [
              0.3333333333333333,
              "#9c179e"
             ],
             [
              0.4444444444444444,
              "#bd3786"
             ],
             [
              0.5555555555555556,
              "#d8576b"
             ],
             [
              0.6666666666666666,
              "#ed7953"
             ],
             [
              0.7777777777777778,
              "#fb9f3a"
             ],
             [
              0.8888888888888888,
              "#fdca26"
             ],
             [
              1.0,
              "#f0f921"
             ]
            ],
            "type": "contour"
           }
          ],
          "contourcarpet": [
           {
            "colorbar": {
             "outlinewidth": 0,
             "ticks": ""
            },
            "type": "contourcarpet"
           }
          ],
          "heatmap": [
           {
            "colorbar": {
             "outlinewidth": 0,
             "ticks": ""
            },
            "colorscale": [
             [
              0.0,
              "#0d0887"
             ],
             [
              0.1111111111111111,
              "#46039f"
             ],
             [
              0.2222222222222222,
              "#7201a8"
             ],
             [
              0.3333333333333333,
              "#9c179e"
             ],
             [
              0.4444444444444444,
              "#bd3786"
             ],
             [
              0.5555555555555556,
              "#d8576b"
             ],
             [
              0.6666666666666666,
              "#ed7953"
             ],
             [
              0.7777777777777778,
              "#fb9f3a"
             ],
             [
              0.8888888888888888,
              "#fdca26"
             ],
             [
              1.0,
              "#f0f921"
             ]
            ],
            "type": "heatmap"
           }
          ],
          "heatmapgl": [
           {
            "colorbar": {
             "outlinewidth": 0,
             "ticks": ""
            },
            "colorscale": [
             [
              0.0,
              "#0d0887"
             ],
             [
              0.1111111111111111,
              "#46039f"
             ],
             [
              0.2222222222222222,
              "#7201a8"
             ],
             [
              0.3333333333333333,
              "#9c179e"
             ],
             [
              0.4444444444444444,
              "#bd3786"
             ],
             [
              0.5555555555555556,
              "#d8576b"
             ],
             [
              0.6666666666666666,
              "#ed7953"
             ],
             [
              0.7777777777777778,
              "#fb9f3a"
             ],
             [
              0.8888888888888888,
              "#fdca26"
             ],
             [
              1.0,
              "#f0f921"
             ]
            ],
            "type": "heatmapgl"
           }
          ],
          "histogram": [
           {
            "marker": {
             "pattern": {
              "fillmode": "overlay",
              "size": 10,
              "solidity": 0.2
             }
            },
            "type": "histogram"
           }
          ],
          "histogram2d": [
           {
            "colorbar": {
             "outlinewidth": 0,
             "ticks": ""
            },
            "colorscale": [
             [
              0.0,
              "#0d0887"
             ],
             [
              0.1111111111111111,
              "#46039f"
             ],
             [
              0.2222222222222222,
              "#7201a8"
             ],
             [
              0.3333333333333333,
              "#9c179e"
             ],
             [
              0.4444444444444444,
              "#bd3786"
             ],
             [
              0.5555555555555556,
              "#d8576b"
             ],
             [
              0.6666666666666666,
              "#ed7953"
             ],
             [
              0.7777777777777778,
              "#fb9f3a"
             ],
             [
              0.8888888888888888,
              "#fdca26"
             ],
             [
              1.0,
              "#f0f921"
             ]
            ],
            "type": "histogram2d"
           }
          ],
          "histogram2dcontour": [
           {
            "colorbar": {
             "outlinewidth": 0,
             "ticks": ""
            },
            "colorscale": [
             [
              0.0,
              "#0d0887"
             ],
             [
              0.1111111111111111,
              "#46039f"
             ],
             [
              0.2222222222222222,
              "#7201a8"
             ],
             [
              0.3333333333333333,
              "#9c179e"
             ],
             [
              0.4444444444444444,
              "#bd3786"
             ],
             [
              0.5555555555555556,
              "#d8576b"
             ],
             [
              0.6666666666666666,
              "#ed7953"
             ],
             [
              0.7777777777777778,
              "#fb9f3a"
             ],
             [
              0.8888888888888888,
              "#fdca26"
             ],
             [
              1.0,
              "#f0f921"
             ]
            ],
            "type": "histogram2dcontour"
           }
          ],
          "mesh3d": [
           {
            "colorbar": {
             "outlinewidth": 0,
             "ticks": ""
            },
            "type": "mesh3d"
           }
          ],
          "parcoords": [
           {
            "line": {
             "colorbar": {
              "outlinewidth": 0,
              "ticks": ""
             }
            },
            "type": "parcoords"
           }
          ],
          "pie": [
           {
            "automargin": true,
            "type": "pie"
           }
          ],
          "scatter": [
           {
            "marker": {
             "colorbar": {
              "outlinewidth": 0,
              "ticks": ""
             }
            },
            "type": "scatter"
           }
          ],
          "scatter3d": [
           {
            "line": {
             "colorbar": {
              "outlinewidth": 0,
              "ticks": ""
             }
            },
            "marker": {
             "colorbar": {
              "outlinewidth": 0,
              "ticks": ""
             }
            },
            "type": "scatter3d"
           }
          ],
          "scattercarpet": [
           {
            "marker": {
             "colorbar": {
              "outlinewidth": 0,
              "ticks": ""
             }
            },
            "type": "scattercarpet"
           }
          ],
          "scattergeo": [
           {
            "marker": {
             "colorbar": {
              "outlinewidth": 0,
              "ticks": ""
             }
            },
            "type": "scattergeo"
           }
          ],
          "scattergl": [
           {
            "marker": {
             "colorbar": {
              "outlinewidth": 0,
              "ticks": ""
             }
            },
            "type": "scattergl"
           }
          ],
          "scattermapbox": [
           {
            "marker": {
             "colorbar": {
              "outlinewidth": 0,
              "ticks": ""
             }
            },
            "type": "scattermapbox"
           }
          ],
          "scatterpolar": [
           {
            "marker": {
             "colorbar": {
              "outlinewidth": 0,
              "ticks": ""
             }
            },
            "type": "scatterpolar"
           }
          ],
          "scatterpolargl": [
           {
            "marker": {
             "colorbar": {
              "outlinewidth": 0,
              "ticks": ""
             }
            },
            "type": "scatterpolargl"
           }
          ],
          "scatterternary": [
           {
            "marker": {
             "colorbar": {
              "outlinewidth": 0,
              "ticks": ""
             }
            },
            "type": "scatterternary"
           }
          ],
          "surface": [
           {
            "colorbar": {
             "outlinewidth": 0,
             "ticks": ""
            },
            "colorscale": [
             [
              0.0,
              "#0d0887"
             ],
             [
              0.1111111111111111,
              "#46039f"
             ],
             [
              0.2222222222222222,
              "#7201a8"
             ],
             [
              0.3333333333333333,
              "#9c179e"
             ],
             [
              0.4444444444444444,
              "#bd3786"
             ],
             [
              0.5555555555555556,
              "#d8576b"
             ],
             [
              0.6666666666666666,
              "#ed7953"
             ],
             [
              0.7777777777777778,
              "#fb9f3a"
             ],
             [
              0.8888888888888888,
              "#fdca26"
             ],
             [
              1.0,
              "#f0f921"
             ]
            ],
            "type": "surface"
           }
          ],
          "table": [
           {
            "cells": {
             "fill": {
              "color": "#EBF0F8"
             },
             "line": {
              "color": "white"
             }
            },
            "header": {
             "fill": {
              "color": "#C8D4E3"
             },
             "line": {
              "color": "white"
             }
            },
            "type": "table"
           }
          ]
         },
         "layout": {
          "annotationdefaults": {
           "arrowcolor": "#2a3f5f",
           "arrowhead": 0,
           "arrowwidth": 1
          },
          "autotypenumbers": "strict",
          "coloraxis": {
           "colorbar": {
            "outlinewidth": 0,
            "ticks": ""
           }
          },
          "colorscale": {
           "diverging": [
            [
             0,
             "#8e0152"
            ],
            [
             0.1,
             "#c51b7d"
            ],
            [
             0.2,
             "#de77ae"
            ],
            [
             0.3,
             "#f1b6da"
            ],
            [
             0.4,
             "#fde0ef"
            ],
            [
             0.5,
             "#f7f7f7"
            ],
            [
             0.6,
             "#e6f5d0"
            ],
            [
             0.7,
             "#b8e186"
            ],
            [
             0.8,
             "#7fbc41"
            ],
            [
             0.9,
             "#4d9221"
            ],
            [
             1,
             "#276419"
            ]
           ],
           "sequential": [
            [
             0.0,
             "#0d0887"
            ],
            [
             0.1111111111111111,
             "#46039f"
            ],
            [
             0.2222222222222222,
             "#7201a8"
            ],
            [
             0.3333333333333333,
             "#9c179e"
            ],
            [
             0.4444444444444444,
             "#bd3786"
            ],
            [
             0.5555555555555556,
             "#d8576b"
            ],
            [
             0.6666666666666666,
             "#ed7953"
            ],
            [
             0.7777777777777778,
             "#fb9f3a"
            ],
            [
             0.8888888888888888,
             "#fdca26"
            ],
            [
             1.0,
             "#f0f921"
            ]
           ],
           "sequentialminus": [
            [
             0.0,
             "#0d0887"
            ],
            [
             0.1111111111111111,
             "#46039f"
            ],
            [
             0.2222222222222222,
             "#7201a8"
            ],
            [
             0.3333333333333333,
             "#9c179e"
            ],
            [
             0.4444444444444444,
             "#bd3786"
            ],
            [
             0.5555555555555556,
             "#d8576b"
            ],
            [
             0.6666666666666666,
             "#ed7953"
            ],
            [
             0.7777777777777778,
             "#fb9f3a"
            ],
            [
             0.8888888888888888,
             "#fdca26"
            ],
            [
             1.0,
             "#f0f921"
            ]
           ]
          },
          "colorway": [
           "#636efa",
           "#EF553B",
           "#00cc96",
           "#ab63fa",
           "#FFA15A",
           "#19d3f3",
           "#FF6692",
           "#B6E880",
           "#FF97FF",
           "#FECB52"
          ],
          "font": {
           "color": "#2a3f5f"
          },
          "geo": {
           "bgcolor": "white",
           "lakecolor": "white",
           "landcolor": "#E5ECF6",
           "showlakes": true,
           "showland": true,
           "subunitcolor": "white"
          },
          "hoverlabel": {
           "align": "left"
          },
          "hovermode": "closest",
          "mapbox": {
           "style": "light"
          },
          "paper_bgcolor": "white",
          "plot_bgcolor": "#E5ECF6",
          "polar": {
           "angularaxis": {
            "gridcolor": "white",
            "linecolor": "white",
            "ticks": ""
           },
           "bgcolor": "#E5ECF6",
           "radialaxis": {
            "gridcolor": "white",
            "linecolor": "white",
            "ticks": ""
           }
          },
          "scene": {
           "xaxis": {
            "backgroundcolor": "#E5ECF6",
            "gridcolor": "white",
            "gridwidth": 2,
            "linecolor": "white",
            "showbackground": true,
            "ticks": "",
            "zerolinecolor": "white"
           },
           "yaxis": {
            "backgroundcolor": "#E5ECF6",
            "gridcolor": "white",
            "gridwidth": 2,
            "linecolor": "white",
            "showbackground": true,
            "ticks": "",
            "zerolinecolor": "white"
           },
           "zaxis": {
            "backgroundcolor": "#E5ECF6",
            "gridcolor": "white",
            "gridwidth": 2,
            "linecolor": "white",
            "showbackground": true,
            "ticks": "",
            "zerolinecolor": "white"
           }
          },
          "shapedefaults": {
           "line": {
            "color": "#2a3f5f"
           }
          },
          "ternary": {
           "aaxis": {
            "gridcolor": "white",
            "linecolor": "white",
            "ticks": ""
           },
           "baxis": {
            "gridcolor": "white",
            "linecolor": "white",
            "ticks": ""
           },
           "bgcolor": "#E5ECF6",
           "caxis": {
            "gridcolor": "white",
            "linecolor": "white",
            "ticks": ""
           }
          },
          "title": {
           "x": 0.05
          },
          "xaxis": {
           "automargin": true,
           "gridcolor": "white",
           "linecolor": "white",
           "ticks": "",
           "title": {
            "standoff": 15
           },
           "zerolinecolor": "white",
           "zerolinewidth": 2
          },
          "yaxis": {
           "automargin": true,
           "gridcolor": "white",
           "linecolor": "white",
           "ticks": "",
           "title": {
            "standoff": 15
           },
           "zerolinecolor": "white",
           "zerolinewidth": 2
          }
         }
        },
        "xaxis": {
         "anchor": "y",
         "domain": [
          0.0,
          1.0
         ],
         "title": {
          "text": "date"
         }
        },
        "yaxis": {
         "anchor": "x",
         "domain": [
          0.0,
          1.0
         ],
         "title": {
          "text": "num_sold"
         }
        }
       }
      },
      "text/html": [
       "<div>                            <div id=\"1e656d7e-2e40-4359-bce0-dd02297e4284\" class=\"plotly-graph-div\" style=\"height:525px; width:100%;\"></div>            <script type=\"text/javascript\">                require([\"plotly\"], function(Plotly) {                    window.PLOTLYENV=window.PLOTLYENV || {};                                    if (document.getElementById(\"1e656d7e-2e40-4359-bce0-dd02297e4284\")) {                    Plotly.newPlot(                        \"1e656d7e-2e40-4359-bce0-dd02297e4284\",                        [{\"hovertemplate\":\"date=%{x}<br>num_sold=%{y}<extra></extra>\",\"legendgroup\":\"\",\"line\":{\"color\":\"#636efa\",\"dash\":\"solid\"},\"marker\":{\"symbol\":\"circle\"},\"mode\":\"lines\",\"name\":\"\",\"orientation\":\"v\",\"showlegend\":false,\"x\":[\"2015-01-01T00:00:00\",\"2015-01-08T00:00:00\",\"2015-01-15T00:00:00\",\"2015-01-22T00:00:00\",\"2015-01-29T00:00:00\",\"2015-02-05T00:00:00\",\"2015-02-12T00:00:00\",\"2015-02-19T00:00:00\",\"2015-02-26T00:00:00\",\"2015-03-05T00:00:00\",\"2015-03-12T00:00:00\",\"2015-03-19T00:00:00\",\"2015-03-26T00:00:00\",\"2015-04-02T00:00:00\",\"2015-04-09T00:00:00\",\"2015-04-16T00:00:00\",\"2015-04-23T00:00:00\",\"2015-04-30T00:00:00\",\"2015-05-07T00:00:00\",\"2015-05-14T00:00:00\",\"2015-05-21T00:00:00\",\"2015-05-28T00:00:00\",\"2015-06-04T00:00:00\",\"2015-06-11T00:00:00\",\"2015-06-18T00:00:00\",\"2015-06-25T00:00:00\",\"2015-07-02T00:00:00\",\"2015-07-09T00:00:00\",\"2015-07-16T00:00:00\",\"2015-07-23T00:00:00\",\"2015-07-30T00:00:00\",\"2015-08-06T00:00:00\",\"2015-08-13T00:00:00\",\"2015-08-20T00:00:00\",\"2015-08-27T00:00:00\",\"2015-09-03T00:00:00\",\"2015-09-10T00:00:00\",\"2015-09-17T00:00:00\",\"2015-09-24T00:00:00\",\"2015-10-01T00:00:00\",\"2015-10-08T00:00:00\",\"2015-10-15T00:00:00\",\"2015-10-22T00:00:00\",\"2015-10-29T00:00:00\",\"2015-11-05T00:00:00\",\"2015-11-12T00:00:00\",\"2015-11-19T00:00:00\",\"2015-11-26T00:00:00\",\"2015-12-03T00:00:00\",\"2015-12-10T00:00:00\",\"2015-12-17T00:00:00\",\"2015-12-24T00:00:00\",\"2015-12-31T00:00:00\",\"2016-01-07T00:00:00\",\"2016-01-14T00:00:00\",\"2016-01-21T00:00:00\",\"2016-01-28T00:00:00\",\"2016-02-04T00:00:00\",\"2016-02-11T00:00:00\",\"2016-02-18T00:00:00\",\"2016-02-25T00:00:00\",\"2016-03-03T00:00:00\",\"2016-03-10T00:00:00\",\"2016-03-17T00:00:00\",\"2016-03-24T00:00:00\",\"2016-03-31T00:00:00\",\"2016-04-07T00:00:00\",\"2016-04-14T00:00:00\",\"2016-04-21T00:00:00\",\"2016-04-28T00:00:00\",\"2016-05-05T00:00:00\",\"2016-05-12T00:00:00\",\"2016-05-19T00:00:00\",\"2016-05-26T00:00:00\",\"2016-06-02T00:00:00\",\"2016-06-09T00:00:00\",\"2016-06-16T00:00:00\",\"2016-06-23T00:00:00\",\"2016-06-30T00:00:00\",\"2016-07-07T00:00:00\",\"2016-07-14T00:00:00\",\"2016-07-21T00:00:00\",\"2016-07-28T00:00:00\",\"2016-08-04T00:00:00\",\"2016-08-11T00:00:00\",\"2016-08-18T00:00:00\",\"2016-08-25T00:00:00\",\"2016-09-01T00:00:00\",\"2016-09-08T00:00:00\",\"2016-09-15T00:00:00\",\"2016-09-22T00:00:00\",\"2016-09-29T00:00:00\",\"2016-10-06T00:00:00\",\"2016-10-13T00:00:00\",\"2016-10-20T00:00:00\",\"2016-10-27T00:00:00\",\"2016-11-03T00:00:00\",\"2016-11-10T00:00:00\",\"2016-11-17T00:00:00\",\"2016-11-24T00:00:00\",\"2016-12-01T00:00:00\",\"2016-12-08T00:00:00\",\"2016-12-15T00:00:00\",\"2016-12-22T00:00:00\",\"2016-12-29T00:00:00\",\"2017-01-05T00:00:00\",\"2017-01-12T00:00:00\",\"2017-01-19T00:00:00\",\"2017-01-26T00:00:00\",\"2017-02-02T00:00:00\",\"2017-02-09T00:00:00\",\"2017-02-16T00:00:00\",\"2017-02-23T00:00:00\",\"2017-03-02T00:00:00\",\"2017-03-09T00:00:00\",\"2017-03-16T00:00:00\",\"2017-03-23T00:00:00\",\"2017-03-30T00:00:00\",\"2017-04-06T00:00:00\",\"2017-04-13T00:00:00\",\"2017-04-20T00:00:00\",\"2017-04-27T00:00:00\",\"2017-05-04T00:00:00\",\"2017-05-11T00:00:00\",\"2017-05-18T00:00:00\",\"2017-05-25T00:00:00\",\"2017-06-01T00:00:00\",\"2017-06-08T00:00:00\",\"2017-06-15T00:00:00\",\"2017-06-22T00:00:00\",\"2017-06-29T00:00:00\",\"2017-07-06T00:00:00\",\"2017-07-13T00:00:00\",\"2017-07-20T00:00:00\",\"2017-07-27T00:00:00\",\"2017-08-03T00:00:00\",\"2017-08-10T00:00:00\",\"2017-08-17T00:00:00\",\"2017-08-24T00:00:00\",\"2017-08-31T00:00:00\",\"2017-09-07T00:00:00\",\"2017-09-14T00:00:00\",\"2017-09-21T00:00:00\",\"2017-09-28T00:00:00\",\"2017-10-05T00:00:00\",\"2017-10-12T00:00:00\",\"2017-10-19T00:00:00\",\"2017-10-26T00:00:00\",\"2017-11-02T00:00:00\",\"2017-11-09T00:00:00\",\"2017-11-16T00:00:00\",\"2017-11-23T00:00:00\",\"2017-11-30T00:00:00\",\"2017-12-07T00:00:00\",\"2017-12-14T00:00:00\",\"2017-12-21T00:00:00\",\"2017-12-28T00:00:00\",\"2018-01-04T00:00:00\",\"2018-01-11T00:00:00\",\"2018-01-18T00:00:00\",\"2018-01-25T00:00:00\",\"2018-02-01T00:00:00\",\"2018-02-08T00:00:00\",\"2018-02-15T00:00:00\",\"2018-02-22T00:00:00\",\"2018-03-01T00:00:00\",\"2018-03-08T00:00:00\",\"2018-03-15T00:00:00\",\"2018-03-22T00:00:00\",\"2018-03-29T00:00:00\",\"2018-04-05T00:00:00\",\"2018-04-12T00:00:00\",\"2018-04-19T00:00:00\",\"2018-04-26T00:00:00\",\"2018-05-03T00:00:00\",\"2018-05-10T00:00:00\",\"2018-05-17T00:00:00\",\"2018-05-24T00:00:00\",\"2018-05-31T00:00:00\",\"2018-06-07T00:00:00\",\"2018-06-14T00:00:00\",\"2018-06-21T00:00:00\",\"2018-06-28T00:00:00\",\"2018-07-05T00:00:00\",\"2018-07-12T00:00:00\",\"2018-07-19T00:00:00\",\"2018-07-26T00:00:00\",\"2018-08-02T00:00:00\",\"2018-08-09T00:00:00\",\"2018-08-16T00:00:00\",\"2018-08-23T00:00:00\",\"2018-08-30T00:00:00\",\"2018-09-06T00:00:00\",\"2018-09-13T00:00:00\",\"2018-09-20T00:00:00\",\"2018-09-27T00:00:00\",\"2018-10-04T00:00:00\",\"2018-10-11T00:00:00\",\"2018-10-18T00:00:00\",\"2018-10-25T00:00:00\",\"2018-11-01T00:00:00\",\"2018-11-08T00:00:00\",\"2018-11-15T00:00:00\",\"2018-11-22T00:00:00\",\"2018-11-29T00:00:00\",\"2018-12-06T00:00:00\",\"2018-12-13T00:00:00\",\"2018-12-20T00:00:00\",\"2018-12-27T00:00:00\"],\"xaxis\":\"x\",\"y\":[514.6269841269841,389.25396825396825,366.5,367.26190476190476,378.2857142857143,386.3492063492063,387.9761904761905,392.6984126984127,392.08730158730157,394.984126984127,396.468253968254,393.1825396825397,391.73015873015873,451.3253968253968,471.91269841269843,382.73015873015873,375.9920634920635,407.8412698412698,385.9761904761905,407.91269841269843,394.23809523809524,400.3095238095238,356.24603174603175,353.37301587301585,365.7857142857143,355.3412698412698,333.07142857142856,326.3253968253968,324.23809523809524,318.75396825396825,313.44444444444446,309.1111111111111,308.1904761904762,306.24603174603175,301.37301587301585,305.55555555555554,303.76190476190476,307.43650793650795,303.87301587301585,304.73809523809524,309.1587301587302,312.6031746031746,318.8809523809524,325.64285714285717,336.6190476190476,326.62698412698415,336.0952380952381,338.5079365079365,347.7857142857143,356.6190476190476,353.53968253968253,611.6587301587301,530.1746031746031,415.95238095238096,380.72222222222223,387.95238095238096,387.45238095238096,382.468253968254,383.63492063492066,388.4047619047619,389.3492063492063,388.8174603174603,386.37301587301585,389.4047619047619,450.53968253968253,479.2936507936508,386.3412698412698,383.57936507936506,381.015873015873,388.55555555555554,433.73809523809524,380.63492063492066,422.13492063492066,349.1825396825397,354.08730158730157,359.0238095238095,339.1031746031746,359.43650793650795,344.56349206349205,326.26984126984127,320.23809523809524,315.27777777777777,313.12698412698415,309.6904761904762,309.42857142857144,304.468253968254,307.0238095238095,304.58730158730157,303.9920634920635,302.0079365079365,303.14285714285717,309.468253968254,312.63492063492066,313.9920634920635,317.64285714285717,322.1507936507937,339.2936507936508,342.55555555555554,334.1587301587302,341.3095238095238,345.9761904761905,358.8015873015873,355.5238095238095,469.1825396825397,673.1428571428571,448.35714285714283,405.2936507936508,401.77777777777777,404.44444444444446,410.73809523809524,413.4047619047619,418.7857142857143,419.6031746031746,420.6746031746032,421.54761904761904,417.3809523809524,415.6587301587302,417.4047619047619,416.42857142857144,483.85714285714283,497.7063492063492,417.515873015873,441.92063492063494,396.04761904761904,409.3412698412698,422.1825396825397,400.6507936507937,431.9047619047619,366.2936507936508,388.484126984127,381.1666666666667,357.1984126984127,351.96031746031747,349.8253968253968,344.76190476190476,340.07936507936506,339.1587301587302,340.3174603174603,334.0079365079365,333.1031746031746,332.25396825396825,336.1507936507937,332.36507936507934,334.5238095238095,335.6904761904762,336.14285714285717,345.53968253968253,348.6111111111111,373.8888888888889,380.23015873015873,370.12698412698415,374.58730158730157,383.1507936507937,398.36507936507934,397.8492063492063,461.13492063492066,792.2380952380952,501.62698412698415,456.23809523809524,444.3492063492063,442.1904761904762,447.8492063492063,447.0,453.7142857142857,451.3095238095238,456.4761904761905,457.41269841269843,455.93650793650795,450.77777777777777,532.7698412698413,556.7619047619048,447.13492063492066,445.6666666666667,440.3253968253968,485.9761904761905,476.7063492063492,470.484126984127,477.41269841269843,415.58730158730157,420.43650793650795,403.3492063492063,425.86507936507934,411.8492063492063,380.24603174603175,375.87301587301585,371.25396825396825,363.8095238095238,366.86507936507934,363.87301587301585,360.5,359.8333333333333,353.8888888888889,355.3333333333333,355.55555555555554,355.8888888888889,356.9047619047619,359.968253968254,361.76984126984127,369.57936507936506,371.9920634920635,381.8174603174603,386.55555555555554,382.8492063492063,390.26984126984127,393.8968253968254,409.76984126984127,409.37301587301585,435.4047619047619,932.9777777777778],\"yaxis\":\"y\",\"type\":\"scatter\"}],                        {\"template\":{\"data\":{\"bar\":[{\"error_x\":{\"color\":\"#2a3f5f\"},\"error_y\":{\"color\":\"#2a3f5f\"},\"marker\":{\"line\":{\"color\":\"#E5ECF6\",\"width\":0.5},\"pattern\":{\"fillmode\":\"overlay\",\"size\":10,\"solidity\":0.2}},\"type\":\"bar\"}],\"barpolar\":[{\"marker\":{\"line\":{\"color\":\"#E5ECF6\",\"width\":0.5},\"pattern\":{\"fillmode\":\"overlay\",\"size\":10,\"solidity\":0.2}},\"type\":\"barpolar\"}],\"carpet\":[{\"aaxis\":{\"endlinecolor\":\"#2a3f5f\",\"gridcolor\":\"white\",\"linecolor\":\"white\",\"minorgridcolor\":\"white\",\"startlinecolor\":\"#2a3f5f\"},\"baxis\":{\"endlinecolor\":\"#2a3f5f\",\"gridcolor\":\"white\",\"linecolor\":\"white\",\"minorgridcolor\":\"white\",\"startlinecolor\":\"#2a3f5f\"},\"type\":\"carpet\"}],\"choropleth\":[{\"colorbar\":{\"outlinewidth\":0,\"ticks\":\"\"},\"type\":\"choropleth\"}],\"contour\":[{\"colorbar\":{\"outlinewidth\":0,\"ticks\":\"\"},\"colorscale\":[[0.0,\"#0d0887\"],[0.1111111111111111,\"#46039f\"],[0.2222222222222222,\"#7201a8\"],[0.3333333333333333,\"#9c179e\"],[0.4444444444444444,\"#bd3786\"],[0.5555555555555556,\"#d8576b\"],[0.6666666666666666,\"#ed7953\"],[0.7777777777777778,\"#fb9f3a\"],[0.8888888888888888,\"#fdca26\"],[1.0,\"#f0f921\"]],\"type\":\"contour\"}],\"contourcarpet\":[{\"colorbar\":{\"outlinewidth\":0,\"ticks\":\"\"},\"type\":\"contourcarpet\"}],\"heatmap\":[{\"colorbar\":{\"outlinewidth\":0,\"ticks\":\"\"},\"colorscale\":[[0.0,\"#0d0887\"],[0.1111111111111111,\"#46039f\"],[0.2222222222222222,\"#7201a8\"],[0.3333333333333333,\"#9c179e\"],[0.4444444444444444,\"#bd3786\"],[0.5555555555555556,\"#d8576b\"],[0.6666666666666666,\"#ed7953\"],[0.7777777777777778,\"#fb9f3a\"],[0.8888888888888888,\"#fdca26\"],[1.0,\"#f0f921\"]],\"type\":\"heatmap\"}],\"heatmapgl\":[{\"colorbar\":{\"outlinewidth\":0,\"ticks\":\"\"},\"colorscale\":[[0.0,\"#0d0887\"],[0.1111111111111111,\"#46039f\"],[0.2222222222222222,\"#7201a8\"],[0.3333333333333333,\"#9c179e\"],[0.4444444444444444,\"#bd3786\"],[0.5555555555555556,\"#d8576b\"],[0.6666666666666666,\"#ed7953\"],[0.7777777777777778,\"#fb9f3a\"],[0.8888888888888888,\"#fdca26\"],[1.0,\"#f0f921\"]],\"type\":\"heatmapgl\"}],\"histogram\":[{\"marker\":{\"pattern\":{\"fillmode\":\"overlay\",\"size\":10,\"solidity\":0.2}},\"type\":\"histogram\"}],\"histogram2d\":[{\"colorbar\":{\"outlinewidth\":0,\"ticks\":\"\"},\"colorscale\":[[0.0,\"#0d0887\"],[0.1111111111111111,\"#46039f\"],[0.2222222222222222,\"#7201a8\"],[0.3333333333333333,\"#9c179e\"],[0.4444444444444444,\"#bd3786\"],[0.5555555555555556,\"#d8576b\"],[0.6666666666666666,\"#ed7953\"],[0.7777777777777778,\"#fb9f3a\"],[0.8888888888888888,\"#fdca26\"],[1.0,\"#f0f921\"]],\"type\":\"histogram2d\"}],\"histogram2dcontour\":[{\"colorbar\":{\"outlinewidth\":0,\"ticks\":\"\"},\"colorscale\":[[0.0,\"#0d0887\"],[0.1111111111111111,\"#46039f\"],[0.2222222222222222,\"#7201a8\"],[0.3333333333333333,\"#9c179e\"],[0.4444444444444444,\"#bd3786\"],[0.5555555555555556,\"#d8576b\"],[0.6666666666666666,\"#ed7953\"],[0.7777777777777778,\"#fb9f3a\"],[0.8888888888888888,\"#fdca26\"],[1.0,\"#f0f921\"]],\"type\":\"histogram2dcontour\"}],\"mesh3d\":[{\"colorbar\":{\"outlinewidth\":0,\"ticks\":\"\"},\"type\":\"mesh3d\"}],\"parcoords\":[{\"line\":{\"colorbar\":{\"outlinewidth\":0,\"ticks\":\"\"}},\"type\":\"parcoords\"}],\"pie\":[{\"automargin\":true,\"type\":\"pie\"}],\"scatter\":[{\"marker\":{\"colorbar\":{\"outlinewidth\":0,\"ticks\":\"\"}},\"type\":\"scatter\"}],\"scatter3d\":[{\"line\":{\"colorbar\":{\"outlinewidth\":0,\"ticks\":\"\"}},\"marker\":{\"colorbar\":{\"outlinewidth\":0,\"ticks\":\"\"}},\"type\":\"scatter3d\"}],\"scattercarpet\":[{\"marker\":{\"colorbar\":{\"outlinewidth\":0,\"ticks\":\"\"}},\"type\":\"scattercarpet\"}],\"scattergeo\":[{\"marker\":{\"colorbar\":{\"outlinewidth\":0,\"ticks\":\"\"}},\"type\":\"scattergeo\"}],\"scattergl\":[{\"marker\":{\"colorbar\":{\"outlinewidth\":0,\"ticks\":\"\"}},\"type\":\"scattergl\"}],\"scattermapbox\":[{\"marker\":{\"colorbar\":{\"outlinewidth\":0,\"ticks\":\"\"}},\"type\":\"scattermapbox\"}],\"scatterpolar\":[{\"marker\":{\"colorbar\":{\"outlinewidth\":0,\"ticks\":\"\"}},\"type\":\"scatterpolar\"}],\"scatterpolargl\":[{\"marker\":{\"colorbar\":{\"outlinewidth\":0,\"ticks\":\"\"}},\"type\":\"scatterpolargl\"}],\"scatterternary\":[{\"marker\":{\"colorbar\":{\"outlinewidth\":0,\"ticks\":\"\"}},\"type\":\"scatterternary\"}],\"surface\":[{\"colorbar\":{\"outlinewidth\":0,\"ticks\":\"\"},\"colorscale\":[[0.0,\"#0d0887\"],[0.1111111111111111,\"#46039f\"],[0.2222222222222222,\"#7201a8\"],[0.3333333333333333,\"#9c179e\"],[0.4444444444444444,\"#bd3786\"],[0.5555555555555556,\"#d8576b\"],[0.6666666666666666,\"#ed7953\"],[0.7777777777777778,\"#fb9f3a\"],[0.8888888888888888,\"#fdca26\"],[1.0,\"#f0f921\"]],\"type\":\"surface\"}],\"table\":[{\"cells\":{\"fill\":{\"color\":\"#EBF0F8\"},\"line\":{\"color\":\"white\"}},\"header\":{\"fill\":{\"color\":\"#C8D4E3\"},\"line\":{\"color\":\"white\"}},\"type\":\"table\"}]},\"layout\":{\"annotationdefaults\":{\"arrowcolor\":\"#2a3f5f\",\"arrowhead\":0,\"arrowwidth\":1},\"autotypenumbers\":\"strict\",\"coloraxis\":{\"colorbar\":{\"outlinewidth\":0,\"ticks\":\"\"}},\"colorscale\":{\"diverging\":[[0,\"#8e0152\"],[0.1,\"#c51b7d\"],[0.2,\"#de77ae\"],[0.3,\"#f1b6da\"],[0.4,\"#fde0ef\"],[0.5,\"#f7f7f7\"],[0.6,\"#e6f5d0\"],[0.7,\"#b8e186\"],[0.8,\"#7fbc41\"],[0.9,\"#4d9221\"],[1,\"#276419\"]],\"sequential\":[[0.0,\"#0d0887\"],[0.1111111111111111,\"#46039f\"],[0.2222222222222222,\"#7201a8\"],[0.3333333333333333,\"#9c179e\"],[0.4444444444444444,\"#bd3786\"],[0.5555555555555556,\"#d8576b\"],[0.6666666666666666,\"#ed7953\"],[0.7777777777777778,\"#fb9f3a\"],[0.8888888888888888,\"#fdca26\"],[1.0,\"#f0f921\"]],\"sequentialminus\":[[0.0,\"#0d0887\"],[0.1111111111111111,\"#46039f\"],[0.2222222222222222,\"#7201a8\"],[0.3333333333333333,\"#9c179e\"],[0.4444444444444444,\"#bd3786\"],[0.5555555555555556,\"#d8576b\"],[0.6666666666666666,\"#ed7953\"],[0.7777777777777778,\"#fb9f3a\"],[0.8888888888888888,\"#fdca26\"],[1.0,\"#f0f921\"]]},\"colorway\":[\"#636efa\",\"#EF553B\",\"#00cc96\",\"#ab63fa\",\"#FFA15A\",\"#19d3f3\",\"#FF6692\",\"#B6E880\",\"#FF97FF\",\"#FECB52\"],\"font\":{\"color\":\"#2a3f5f\"},\"geo\":{\"bgcolor\":\"white\",\"lakecolor\":\"white\",\"landcolor\":\"#E5ECF6\",\"showlakes\":true,\"showland\":true,\"subunitcolor\":\"white\"},\"hoverlabel\":{\"align\":\"left\"},\"hovermode\":\"closest\",\"mapbox\":{\"style\":\"light\"},\"paper_bgcolor\":\"white\",\"plot_bgcolor\":\"#E5ECF6\",\"polar\":{\"angularaxis\":{\"gridcolor\":\"white\",\"linecolor\":\"white\",\"ticks\":\"\"},\"bgcolor\":\"#E5ECF6\",\"radialaxis\":{\"gridcolor\":\"white\",\"linecolor\":\"white\",\"ticks\":\"\"}},\"scene\":{\"xaxis\":{\"backgroundcolor\":\"#E5ECF6\",\"gridcolor\":\"white\",\"gridwidth\":2,\"linecolor\":\"white\",\"showbackground\":true,\"ticks\":\"\",\"zerolinecolor\":\"white\"},\"yaxis\":{\"backgroundcolor\":\"#E5ECF6\",\"gridcolor\":\"white\",\"gridwidth\":2,\"linecolor\":\"white\",\"showbackground\":true,\"ticks\":\"\",\"zerolinecolor\":\"white\"},\"zaxis\":{\"backgroundcolor\":\"#E5ECF6\",\"gridcolor\":\"white\",\"gridwidth\":2,\"linecolor\":\"white\",\"showbackground\":true,\"ticks\":\"\",\"zerolinecolor\":\"white\"}},\"shapedefaults\":{\"line\":{\"color\":\"#2a3f5f\"}},\"ternary\":{\"aaxis\":{\"gridcolor\":\"white\",\"linecolor\":\"white\",\"ticks\":\"\"},\"baxis\":{\"gridcolor\":\"white\",\"linecolor\":\"white\",\"ticks\":\"\"},\"bgcolor\":\"#E5ECF6\",\"caxis\":{\"gridcolor\":\"white\",\"linecolor\":\"white\",\"ticks\":\"\"}},\"title\":{\"x\":0.05},\"xaxis\":{\"automargin\":true,\"gridcolor\":\"white\",\"linecolor\":\"white\",\"ticks\":\"\",\"title\":{\"standoff\":15},\"zerolinecolor\":\"white\",\"zerolinewidth\":2},\"yaxis\":{\"automargin\":true,\"gridcolor\":\"white\",\"linecolor\":\"white\",\"ticks\":\"\",\"title\":{\"standoff\":15},\"zerolinecolor\":\"white\",\"zerolinewidth\":2}}},\"xaxis\":{\"anchor\":\"y\",\"domain\":[0.0,1.0],\"title\":{\"text\":\"date\"}},\"yaxis\":{\"anchor\":\"x\",\"domain\":[0.0,1.0],\"title\":{\"text\":\"num_sold\"}},\"legend\":{\"tracegroupgap\":0},\"margin\":{\"t\":60}},                        {\"responsive\": true}                    ).then(function(){\n",
       "                            \n",
       "var gd = document.getElementById('1e656d7e-2e40-4359-bce0-dd02297e4284');\n",
       "var x = new MutationObserver(function (mutations, observer) {{\n",
       "        var display = window.getComputedStyle(gd).display;\n",
       "        if (!display || display === 'none') {{\n",
       "            console.log([gd, 'removed!']);\n",
       "            Plotly.purge(gd);\n",
       "            observer.disconnect();\n",
       "        }}\n",
       "}});\n",
       "\n",
       "// Listen for the removal of the full notebook cells\n",
       "var notebookContainer = gd.closest('#notebook-container');\n",
       "if (notebookContainer) {{\n",
       "    x.observe(notebookContainer, {childList: true});\n",
       "}}\n",
       "\n",
       "// Listen for the clearing of the current output cell\n",
       "var outputEl = gd.closest('.output');\n",
       "if (outputEl) {{\n",
       "    x.observe(outputEl, {childList: true});\n",
       "}}\n",
       "\n",
       "                        })                };                });            </script>        </div>"
      ]
     },
     "metadata": {},
     "output_type": "display_data"
    }
   ],
   "source": [
    "#using plotly\n",
    "train_data_month = train.set_index('date').groupby([pd.Grouper(freq='7d')])['num_sold'].mean().reset_index()\n",
    "a = px.line(data_frame=train_data_month,x='date',y='num_sold')\n",
    "a.show()"
   ]
  },
  {
   "cell_type": "markdown",
   "id": "755604a3",
   "metadata": {
    "papermill": {
     "duration": 0.035946,
     "end_time": "2022-01-09T06:56:58.438130",
     "exception": false,
     "start_time": "2022-01-09T06:56:58.402184",
     "status": "completed"
    },
    "tags": []
   },
   "source": [
    "## Preprocessing and visualization "
   ]
  },
  {
   "cell_type": "code",
   "execution_count": 12,
   "id": "28d9d7f3",
   "metadata": {
    "execution": {
     "iopub.execute_input": "2022-01-09T06:56:58.514526Z",
     "iopub.status.busy": "2022-01-09T06:56:58.512916Z",
     "iopub.status.idle": "2022-01-09T06:56:58.559337Z",
     "shell.execute_reply": "2022-01-09T06:56:58.558795Z",
     "shell.execute_reply.started": "2022-01-09T06:49:13.524443Z"
    },
    "papermill": {
     "duration": 0.085572,
     "end_time": "2022-01-09T06:56:58.559502",
     "exception": false,
     "start_time": "2022-01-09T06:56:58.473930",
     "status": "completed"
    },
    "tags": []
   },
   "outputs": [
    {
     "data": {
      "text/html": [
       "<div>\n",
       "<style scoped>\n",
       "    .dataframe tbody tr th:only-of-type {\n",
       "        vertical-align: middle;\n",
       "    }\n",
       "\n",
       "    .dataframe tbody tr th {\n",
       "        vertical-align: top;\n",
       "    }\n",
       "\n",
       "    .dataframe thead th {\n",
       "        text-align: right;\n",
       "    }\n",
       "</style>\n",
       "<table border=\"1\" class=\"dataframe\">\n",
       "  <thead>\n",
       "    <tr style=\"text-align: right;\">\n",
       "      <th></th>\n",
       "      <th>date</th>\n",
       "      <th>country</th>\n",
       "      <th>num_sold</th>\n",
       "    </tr>\n",
       "  </thead>\n",
       "  <tbody>\n",
       "    <tr>\n",
       "      <th>4374</th>\n",
       "      <td>2018-12-29</td>\n",
       "      <td>Finland</td>\n",
       "      <td>6029</td>\n",
       "    </tr>\n",
       "    <tr>\n",
       "      <th>4377</th>\n",
       "      <td>2018-12-30</td>\n",
       "      <td>Finland</td>\n",
       "      <td>5869</td>\n",
       "    </tr>\n",
       "    <tr>\n",
       "      <th>3282</th>\n",
       "      <td>2017-12-30</td>\n",
       "      <td>Finland</td>\n",
       "      <td>5611</td>\n",
       "    </tr>\n",
       "    <tr>\n",
       "      <th>3285</th>\n",
       "      <td>2017-12-31</td>\n",
       "      <td>Finland</td>\n",
       "      <td>4683</td>\n",
       "    </tr>\n",
       "    <tr>\n",
       "      <th>3279</th>\n",
       "      <td>2017-12-29</td>\n",
       "      <td>Finland</td>\n",
       "      <td>4650</td>\n",
       "    </tr>\n",
       "  </tbody>\n",
       "</table>\n",
       "</div>"
      ],
      "text/plain": [
       "           date  country  num_sold\n",
       "4374 2018-12-29  Finland      6029\n",
       "4377 2018-12-30  Finland      5869\n",
       "3282 2017-12-30  Finland      5611\n",
       "3285 2017-12-31  Finland      4683\n",
       "3279 2017-12-29  Finland      4650"
      ]
     },
     "metadata": {},
     "output_type": "display_data"
    },
    {
     "data": {
      "text/html": [
       "<div>\n",
       "<style scoped>\n",
       "    .dataframe tbody tr th:only-of-type {\n",
       "        vertical-align: middle;\n",
       "    }\n",
       "\n",
       "    .dataframe tbody tr th {\n",
       "        vertical-align: top;\n",
       "    }\n",
       "\n",
       "    .dataframe thead th {\n",
       "        text-align: right;\n",
       "    }\n",
       "</style>\n",
       "<table border=\"1\" class=\"dataframe\">\n",
       "  <thead>\n",
       "    <tr style=\"text-align: right;\">\n",
       "      <th></th>\n",
       "      <th>date</th>\n",
       "      <th>country</th>\n",
       "      <th>num_sold</th>\n",
       "    </tr>\n",
       "  </thead>\n",
       "  <tbody>\n",
       "    <tr>\n",
       "      <th>4378</th>\n",
       "      <td>2018-12-30</td>\n",
       "      <td>Norway</td>\n",
       "      <td>8980</td>\n",
       "    </tr>\n",
       "    <tr>\n",
       "      <th>4375</th>\n",
       "      <td>2018-12-29</td>\n",
       "      <td>Norway</td>\n",
       "      <td>8855</td>\n",
       "    </tr>\n",
       "    <tr>\n",
       "      <th>3283</th>\n",
       "      <td>2017-12-30</td>\n",
       "      <td>Norway</td>\n",
       "      <td>8388</td>\n",
       "    </tr>\n",
       "    <tr>\n",
       "      <th>3286</th>\n",
       "      <td>2017-12-31</td>\n",
       "      <td>Norway</td>\n",
       "      <td>7433</td>\n",
       "    </tr>\n",
       "    <tr>\n",
       "      <th>3280</th>\n",
       "      <td>2017-12-29</td>\n",
       "      <td>Norway</td>\n",
       "      <td>7018</td>\n",
       "    </tr>\n",
       "  </tbody>\n",
       "</table>\n",
       "</div>"
      ],
      "text/plain": [
       "           date country  num_sold\n",
       "4378 2018-12-30  Norway      8980\n",
       "4375 2018-12-29  Norway      8855\n",
       "3283 2017-12-30  Norway      8388\n",
       "3286 2017-12-31  Norway      7433\n",
       "3280 2017-12-29  Norway      7018"
      ]
     },
     "metadata": {},
     "output_type": "display_data"
    },
    {
     "data": {
      "text/html": [
       "<div>\n",
       "<style scoped>\n",
       "    .dataframe tbody tr th:only-of-type {\n",
       "        vertical-align: middle;\n",
       "    }\n",
       "\n",
       "    .dataframe tbody tr th {\n",
       "        vertical-align: top;\n",
       "    }\n",
       "\n",
       "    .dataframe thead th {\n",
       "        text-align: right;\n",
       "    }\n",
       "</style>\n",
       "<table border=\"1\" class=\"dataframe\">\n",
       "  <thead>\n",
       "    <tr style=\"text-align: right;\">\n",
       "      <th></th>\n",
       "      <th>date</th>\n",
       "      <th>country</th>\n",
       "      <th>num_sold</th>\n",
       "    </tr>\n",
       "  </thead>\n",
       "  <tbody>\n",
       "    <tr>\n",
       "      <th>4376</th>\n",
       "      <td>2018-12-29</td>\n",
       "      <td>Sweden</td>\n",
       "      <td>6377</td>\n",
       "    </tr>\n",
       "    <tr>\n",
       "      <th>3284</th>\n",
       "      <td>2017-12-30</td>\n",
       "      <td>Sweden</td>\n",
       "      <td>6248</td>\n",
       "    </tr>\n",
       "    <tr>\n",
       "      <th>4379</th>\n",
       "      <td>2018-12-30</td>\n",
       "      <td>Sweden</td>\n",
       "      <td>6227</td>\n",
       "    </tr>\n",
       "    <tr>\n",
       "      <th>3287</th>\n",
       "      <td>2017-12-31</td>\n",
       "      <td>Sweden</td>\n",
       "      <td>5488</td>\n",
       "    </tr>\n",
       "    <tr>\n",
       "      <th>3281</th>\n",
       "      <td>2017-12-29</td>\n",
       "      <td>Sweden</td>\n",
       "      <td>5205</td>\n",
       "    </tr>\n",
       "  </tbody>\n",
       "</table>\n",
       "</div>"
      ],
      "text/plain": [
       "           date country  num_sold\n",
       "4376 2018-12-29  Sweden      6377\n",
       "3284 2017-12-30  Sweden      6248\n",
       "4379 2018-12-30  Sweden      6227\n",
       "3287 2017-12-31  Sweden      5488\n",
       "3281 2017-12-29  Sweden      5205"
      ]
     },
     "metadata": {},
     "output_type": "display_data"
    }
   ],
   "source": [
    "country_daily = train.groupby(['date','country'])['num_sold'].sum().reset_index(level=[0,1])\n",
    "for country in train['country'].unique():\n",
    "    display(country_daily[country_daily['country']==country].sort_values(by=['num_sold'], ascending=False).head())"
   ]
  },
  {
   "cell_type": "code",
   "execution_count": 13,
   "id": "db42c4f5",
   "metadata": {
    "execution": {
     "iopub.execute_input": "2022-01-09T06:56:58.641489Z",
     "iopub.status.busy": "2022-01-09T06:56:58.640799Z",
     "iopub.status.idle": "2022-01-09T06:56:59.019785Z",
     "shell.execute_reply": "2022-01-09T06:56:59.020305Z",
     "shell.execute_reply.started": "2022-01-09T06:49:14.771344Z"
    },
    "papermill": {
     "duration": 0.424008,
     "end_time": "2022-01-09T06:56:59.020503",
     "exception": false,
     "start_time": "2022-01-09T06:56:58.596495",
     "status": "completed"
    },
    "tags": []
   },
   "outputs": [
    {
     "data": {
      "image/png": "[encoded data removed]",
      "text/plain": [
       "<Figure size 864x504 with 1 Axes>"
      ]
     },
     "metadata": {
      "needs_background": "light"
     },
     "output_type": "display_data"
    }
   ],
   "source": [
    "#using seaborn\n",
    "fig, ax = plt.subplots(1, 1, figsize=(12, 7))\n",
    "train_monthly_country = train.set_index('date').groupby([pd.Grouper(freq='M'),'country'])[['num_sold']].mean()\n",
    "sns.lineplot(x=\"date\", y='num_sold', hue='country', data=train_monthly_country, ax=ax)\n",
    "\n",
    "ax.set_ylabel('num_sold')\n",
    "ax.set_title('Monthly Trend by Country', fontsize=15, fontweight='bold', loc='left')\n",
    "ax.grid(alpha=0.5)\n",
    "plt.show()"
   ]
  },
  {
   "cell_type": "code",
   "execution_count": 14,
   "id": "1a30e04d",
   "metadata": {
    "execution": {
     "iopub.execute_input": "2022-01-09T06:56:59.104825Z",
     "iopub.status.busy": "2022-01-09T06:56:59.104127Z",
     "iopub.status.idle": "2022-01-09T06:56:59.125566Z",
     "shell.execute_reply": "2022-01-09T06:56:59.126193Z",
     "shell.execute_reply.started": "2022-01-09T06:49:16.212580Z"
    },
    "papermill": {
     "duration": 0.06656,
     "end_time": "2022-01-09T06:56:59.126388",
     "exception": false,
     "start_time": "2022-01-09T06:56:59.059828",
     "status": "completed"
    },
    "tags": []
   },
   "outputs": [
    {
     "data": {
      "text/html": [
       "<div>\n",
       "<style scoped>\n",
       "    .dataframe tbody tr th:only-of-type {\n",
       "        vertical-align: middle;\n",
       "    }\n",
       "\n",
       "    .dataframe tbody tr th {\n",
       "        vertical-align: top;\n",
       "    }\n",
       "\n",
       "    .dataframe thead th {\n",
       "        text-align: right;\n",
       "    }\n",
       "</style>\n",
       "<table border=\"1\" class=\"dataframe\">\n",
       "  <thead>\n",
       "    <tr style=\"text-align: right;\">\n",
       "      <th></th>\n",
       "      <th>date</th>\n",
       "      <th>country</th>\n",
       "      <th>num_sold</th>\n",
       "    </tr>\n",
       "  </thead>\n",
       "  <tbody>\n",
       "    <tr>\n",
       "      <th>0</th>\n",
       "      <td>2015-01-31</td>\n",
       "      <td>Finland</td>\n",
       "      <td>311.817204</td>\n",
       "    </tr>\n",
       "    <tr>\n",
       "      <th>1</th>\n",
       "      <td>2015-01-31</td>\n",
       "      <td>Norway</td>\n",
       "      <td>529.779570</td>\n",
       "    </tr>\n",
       "    <tr>\n",
       "      <th>2</th>\n",
       "      <td>2015-01-31</td>\n",
       "      <td>Sweden</td>\n",
       "      <td>378.064516</td>\n",
       "    </tr>\n",
       "    <tr>\n",
       "      <th>3</th>\n",
       "      <td>2015-02-28</td>\n",
       "      <td>Finland</td>\n",
       "      <td>295.702381</td>\n",
       "    </tr>\n",
       "    <tr>\n",
       "      <th>4</th>\n",
       "      <td>2015-02-28</td>\n",
       "      <td>Norway</td>\n",
       "      <td>511.892857</td>\n",
       "    </tr>\n",
       "  </tbody>\n",
       "</table>\n",
       "</div>"
      ],
      "text/plain": [
       "        date  country    num_sold\n",
       "0 2015-01-31  Finland  311.817204\n",
       "1 2015-01-31   Norway  529.779570\n",
       "2 2015-01-31   Sweden  378.064516\n",
       "3 2015-02-28  Finland  295.702381\n",
       "4 2015-02-28   Norway  511.892857"
      ]
     },
     "execution_count": 14,
     "metadata": {},
     "output_type": "execute_result"
    }
   ],
   "source": [
    "train_monthly_country = train.set_index('date').groupby([pd.Grouper(freq='M'),'country'])[['num_sold']].mean().reset_index()\n",
    "train_monthly_country.head()"
   ]
  },
  {
   "cell_type": "code",
   "execution_count": 15,
   "id": "82b87f61",
   "metadata": {
    "execution": {
     "iopub.execute_input": "2022-01-09T06:56:59.209189Z",
     "iopub.status.busy": "2022-01-09T06:56:59.208397Z",
     "iopub.status.idle": "2022-01-09T06:56:59.309061Z",
     "shell.execute_reply": "2022-01-09T06:56:59.309571Z",
     "shell.execute_reply.started": "2022-01-09T06:49:17.327267Z"
    },
    "papermill": {
     "duration": 0.143827,
     "end_time": "2022-01-09T06:56:59.309797",
     "exception": false,
     "start_time": "2022-01-09T06:56:59.165970",
     "status": "completed"
    },
    "tags": []
   },
   "outputs": [
    {
     "data": {
      "application/vnd.plotly.v1+json": {
       "config": {
        "plotlyServerURL": "https://plot.ly"
       },
       "data": [
        {
         "hovertemplate": "country=Finland<br>date=%{x}<br>num_sold=%{y}<extra></extra>",
         "legendgroup": "Finland",
         "line": {
          "color": "#636efa",
          "dash": "solid"
         },
         "marker": {
          "symbol": "circle"
         },
         "mode": "lines",
         "name": "Finland",
         "orientation": "v",
         "showlegend": true,
         "type": "scatter",
         "x": [
          "2015-01-31T00:00:00",
          "2015-02-28T00:00:00",
          "2015-03-31T00:00:00",
          "2015-04-30T00:00:00",
          "2015-05-31T00:00:00",
          "2015-06-30T00:00:00",
          "2015-07-31T00:00:00",
          "2015-08-31T00:00:00",
          "2015-09-30T00:00:00",
          "2015-10-31T00:00:00",
          "2015-11-30T00:00:00",
          "2015-12-31T00:00:00",
          "2016-01-31T00:00:00",
          "2016-02-29T00:00:00",
          "2016-03-31T00:00:00",
          "2016-04-30T00:00:00",
          "2016-05-31T00:00:00",
          "2016-06-30T00:00:00",
          "2016-07-31T00:00:00",
          "2016-08-31T00:00:00",
          "2016-09-30T00:00:00",
          "2016-10-31T00:00:00",
          "2016-11-30T00:00:00",
          "2016-12-31T00:00:00",
          "2017-01-31T00:00:00",
          "2017-02-28T00:00:00",
          "2017-03-31T00:00:00",
          "2017-04-30T00:00:00",
          "2017-05-31T00:00:00",
          "2017-06-30T00:00:00",
          "2017-07-31T00:00:00",
          "2017-08-31T00:00:00",
          "2017-09-30T00:00:00",
          "2017-10-31T00:00:00",
          "2017-11-30T00:00:00",
          "2017-12-31T00:00:00",
          "2018-01-31T00:00:00",
          "2018-02-28T00:00:00",
          "2018-03-31T00:00:00",
          "2018-04-30T00:00:00",
          "2018-05-31T00:00:00",
          "2018-06-30T00:00:00",
          "2018-07-31T00:00:00",
          "2018-08-31T00:00:00",
          "2018-09-30T00:00:00",
          "2018-10-31T00:00:00",
          "2018-11-30T00:00:00",
          "2018-12-31T00:00:00"
         ],
         "xaxis": "x",
         "y": [
          311.81720430107526,
          295.70238095238096,
          300.7258064516129,
          313.01666666666665,
          303.48387096774195,
          277.05,
          246.27956989247312,
          235.34408602150538,
          231.40555555555557,
          237.65591397849462,
          257.68333333333334,
          326.6182795698925,
          331.2204301075269,
          301.64367816091954,
          315.752688172043,
          318.7055555555556,
          309.3333333333333,
          279.5722222222222,
          260.7258064516129,
          241.98924731182797,
          239.36111111111111,
          250.75806451612902,
          268.53333333333336,
          349.741935483871,
          343.83870967741933,
          329.1190476190476,
          330.4516129032258,
          356.59444444444443,
          323.56451612903226,
          312.95,
          283.06451612903226,
          266.9032258064516,
          265.3722222222222,
          269.51075268817203,
          300.47222222222223,
          393.5537634408602,
          381.13978494623655,
          360.2083333333333,
          366.4301075268817,
          388.52222222222224,
          369.3709677419355,
          340.1222222222222,
          302.4516129032258,
          291.13440860215053,
          288.1222222222222,
          290.5752688172043,
          312.4166666666667,
          411.5860215053763
         ],
         "yaxis": "y"
        },
        {
         "hovertemplate": "country=Norway<br>date=%{x}<br>num_sold=%{y}<extra></extra>",
         "legendgroup": "Norway",
         "line": {
          "color": "#EF553B",
          "dash": "solid"
         },
         "marker": {
          "symbol": "circle"
         },
         "mode": "lines",
         "name": "Norway",
         "orientation": "v",
         "showlegend": true,
         "type": "scatter",
         "x": [
          "2015-01-31T00:00:00",
          "2015-02-28T00:00:00",
          "2015-03-31T00:00:00",
          "2015-04-30T00:00:00",
          "2015-05-31T00:00:00",
          "2015-06-30T00:00:00",
          "2015-07-31T00:00:00",
          "2015-08-31T00:00:00",
          "2015-09-30T00:00:00",
          "2015-10-31T00:00:00",
          "2015-11-30T00:00:00",
          "2015-12-31T00:00:00",
          "2016-01-31T00:00:00",
          "2016-02-29T00:00:00",
          "2016-03-31T00:00:00",
          "2016-04-30T00:00:00",
          "2016-05-31T00:00:00",
          "2016-06-30T00:00:00",
          "2016-07-31T00:00:00",
          "2016-08-31T00:00:00",
          "2016-09-30T00:00:00",
          "2016-10-31T00:00:00",
          "2016-11-30T00:00:00",
          "2016-12-31T00:00:00",
          "2017-01-31T00:00:00",
          "2017-02-28T00:00:00",
          "2017-03-31T00:00:00",
          "2017-04-30T00:00:00",
          "2017-05-31T00:00:00",
          "2017-06-30T00:00:00",
          "2017-07-31T00:00:00",
          "2017-08-31T00:00:00",
          "2017-09-30T00:00:00",
          "2017-10-31T00:00:00",
          "2017-11-30T00:00:00",
          "2017-12-31T00:00:00",
          "2018-01-31T00:00:00",
          "2018-02-28T00:00:00",
          "2018-03-31T00:00:00",
          "2018-04-30T00:00:00",
          "2018-05-31T00:00:00",
          "2018-06-30T00:00:00",
          "2018-07-31T00:00:00",
          "2018-08-31T00:00:00",
          "2018-09-30T00:00:00",
          "2018-10-31T00:00:00",
          "2018-11-30T00:00:00",
          "2018-12-31T00:00:00"
         ],
         "xaxis": "x",
         "y": [
          529.7795698924731,
          511.89285714285717,
          521.4408602150538,
          558.9166666666666,
          551.6129032258065,
          454.55555555555554,
          428.26344086021504,
          407.98924731182797,
          401.6,
          412.3333333333333,
          438.0111111111111,
          547.1129032258065,
          520.8279569892474,
          491.61494252873564,
          522.7741935483871,
          510.8666666666667,
          521.1451612903226,
          433.8722222222222,
          408.98924731182797,
          387.13978494623655,
          384.8888888888889,
          404.6989247311828,
          420.55,
          535.1559139784946,
          540.241935483871,
          535.6607142857143,
          535.8870967741935,
          597.0277777777778,
          544.3978494623656,
          499.47777777777776,
          460.3440860215054,
          433.0752688172043,
          432.9166666666667,
          438.5268817204301,
          472.8833333333333,
          609.9784946236559,
          609.0376344086021,
          594.077380952381,
          607.9677419354839,
          654.4388888888889,
          640.1881720430108,
          536.3833333333333,
          494.7795698924731,
          477.23118279569894,
          475.3333333333333,
          479.80645161290323,
          501.5722222222222,
          645.2849462365591
         ],
         "yaxis": "y"
        },
        {
         "hovertemplate": "country=Sweden<br>date=%{x}<br>num_sold=%{y}<extra></extra>",
         "legendgroup": "Sweden",
         "line": {
          "color": "#00cc96",
          "dash": "solid"
         },
         "marker": {
          "symbol": "circle"
         },
         "mode": "lines",
         "name": "Sweden",
         "orientation": "v",
         "showlegend": true,
         "type": "scatter",
         "x": [
          "2015-01-31T00:00:00",
          "2015-02-28T00:00:00",
          "2015-03-31T00:00:00",
          "2015-04-30T00:00:00",
          "2015-05-31T00:00:00",
          "2015-06-30T00:00:00",
          "2015-07-31T00:00:00",
          "2015-08-31T00:00:00",
          "2015-09-30T00:00:00",
          "2015-10-31T00:00:00",
          "2015-11-30T00:00:00",
          "2015-12-31T00:00:00",
          "2016-01-31T00:00:00",
          "2016-02-29T00:00:00",
          "2016-03-31T00:00:00",
          "2016-04-30T00:00:00",
          "2016-05-31T00:00:00",
          "2016-06-30T00:00:00",
          "2016-07-31T00:00:00",
          "2016-08-31T00:00:00",
          "2016-09-30T00:00:00",
          "2016-10-31T00:00:00",
          "2016-11-30T00:00:00",
          "2016-12-31T00:00:00",
          "2017-01-31T00:00:00",
          "2017-02-28T00:00:00",
          "2017-03-31T00:00:00",
          "2017-04-30T00:00:00",
          "2017-05-31T00:00:00",
          "2017-06-30T00:00:00",
          "2017-07-31T00:00:00",
          "2017-08-31T00:00:00",
          "2017-09-30T00:00:00",
          "2017-10-31T00:00:00",
          "2017-11-30T00:00:00",
          "2017-12-31T00:00:00",
          "2018-01-31T00:00:00",
          "2018-02-28T00:00:00",
          "2018-03-31T00:00:00",
          "2018-04-30T00:00:00",
          "2018-05-31T00:00:00",
          "2018-06-30T00:00:00",
          "2018-07-31T00:00:00",
          "2018-08-31T00:00:00",
          "2018-09-30T00:00:00",
          "2018-10-31T00:00:00",
          "2018-11-30T00:00:00",
          "2018-12-31T00:00:00"
         ],
         "xaxis": "x",
         "y": [
          378.06451612903226,
          356.5059523809524,
          362.3279569892473,
          375.72222222222223,
          365.0967741935484,
          340.1611111111111,
          296.5698924731183,
          285.3763440860215,
          278.00555555555553,
          287.3333333333333,
          309.51666666666665,
          385.23655913978496,
          400.98387096774195,
          361.2701149425287,
          374.63978494623655,
          375.97777777777776,
          364.64516129032256,
          341.43888888888887,
          309.3279569892473,
          288.21505376344084,
          283.8611111111111,
          297.6290322580645,
          320.80555555555554,
          401.86559139784947,
          408.6666666666667,
          381.8988095238095,
          381.8279569892473,
          412.9888888888889,
          376.98387096774195,
          376.4555555555556,
          329.2204301075269,
          308.4462365591398,
          306.2944444444444,
          313.2956989247312,
          344.19444444444446,
          443.60752688172045,
          425.747311827957,
          395.6190476190476,
          400.6236559139785,
          423.55,
          402.3763440860215,
          383.19444444444446,
          330.1720430107527,
          313.9139784946237,
          314.26666666666665,
          316.1182795698925,
          339.27222222222224,
          439.43548387096774
         ],
         "yaxis": "y"
        }
       ],
       "layout": {
        "legend": {
         "title": {
          "text": "country"
         },
         "tracegroupgap": 0
        },
        "margin": {
         "t": 60
        },
        "template": {
         "data": {
          "bar": [
           {
            "error_x": {
             "color": "#2a3f5f"
            },
            "error_y": {
             "color": "#2a3f5f"
            },
            "marker": {
             "line": {
              "color": "#E5ECF6",
              "width": 0.5
             },
             "pattern": {
              "fillmode": "overlay",
              "size": 10,
              "solidity": 0.2
             }
            },
            "type": "bar"
           }
          ],
          "barpolar": [
           {
            "marker": {
             "line": {
              "color": "#E5ECF6",
              "width": 0.5
             },
             "pattern": {
              "fillmode": "overlay",
              "size": 10,
              "solidity": 0.2
             }
            },
            "type": "barpolar"
           }
          ],
          "carpet": [
           {
            "aaxis": {
             "endlinecolor": "#2a3f5f",
             "gridcolor": "white",
             "linecolor": "white",
             "minorgridcolor": "white",
             "startlinecolor": "#2a3f5f"
            },
            "baxis": {
             "endlinecolor": "#2a3f5f",
             "gridcolor": "white",
             "linecolor": "white",
             "minorgridcolor": "white",
             "startlinecolor": "#2a3f5f"
            },
            "type": "carpet"
           }
          ],
          "choropleth": [
           {
            "colorbar": {
             "outlinewidth": 0,
             "ticks": ""
            },
            "type": "choropleth"
           }
          ],
          "contour": [
           {
            "colorbar": {
             "outlinewidth": 0,
             "ticks": ""
            },
            "colorscale": [
             [
              0.0,
              "#0d0887"
             ],
             [
              0.1111111111111111,
              "#46039f"
             ],
             [
              0.2222222222222222,
              "#7201a8"
             ],
             [
              0.3333333333333333,
              "#9c179e"
             ],
             [
              0.4444444444444444,
              "#bd3786"
             ],
             [
              0.5555555555555556,
              "#d8576b"
             ],
             [
              0.6666666666666666,
              "#ed7953"
             ],
             [
              0.7777777777777778,
              "#fb9f3a"
             ],
             [
              0.8888888888888888,
              "#fdca26"
             ],
             [
              1.0,
              "#f0f921"
             ]
            ],
            "type": "contour"
           }
          ],
          "contourcarpet": [
           {
            "colorbar": {
             "outlinewidth": 0,
             "ticks": ""
            },
            "type": "contourcarpet"
           }
          ],
          "heatmap": [
           {
            "colorbar": {
             "outlinewidth": 0,
             "ticks": ""
            },
            "colorscale": [
             [
              0.0,
              "#0d0887"
             ],
             [
              0.1111111111111111,
              "#46039f"
             ],
             [
              0.2222222222222222,
              "#7201a8"
             ],
             [
              0.3333333333333333,
              "#9c179e"
             ],
             [
              0.4444444444444444,
              "#bd3786"
             ],
             [
              0.5555555555555556,
              "#d8576b"
             ],
             [
              0.6666666666666666,
              "#ed7953"
             ],
             [
              0.7777777777777778,
              "#fb9f3a"
             ],
             [
              0.8888888888888888,
              "#fdca26"
             ],
             [
              1.0,
              "#f0f921"
             ]
            ],
            "type": "heatmap"
           }
          ],
          "heatmapgl": [
           {
            "colorbar": {
             "outlinewidth": 0,
             "ticks": ""
            },
            "colorscale": [
             [
              0.0,
              "#0d0887"
             ],
             [
              0.1111111111111111,
              "#46039f"
             ],
             [
              0.2222222222222222,
              "#7201a8"
             ],
             [
              0.3333333333333333,
              "#9c179e"
             ],
             [
              0.4444444444444444,
              "#bd3786"
             ],
             [
              0.5555555555555556,
              "#d8576b"
             ],
             [
              0.6666666666666666,
              "#ed7953"
             ],
             [
              0.7777777777777778,
              "#fb9f3a"
             ],
             [
              0.8888888888888888,
              "#fdca26"
             ],
             [
              1.0,
              "#f0f921"
             ]
            ],
            "type": "heatmapgl"
           }
          ],
          "histogram": [
           {
            "marker": {
             "pattern": {
              "fillmode": "overlay",
              "size": 10,
              "solidity": 0.2
             }
            },
            "type": "histogram"
           }
          ],
          "histogram2d": [
           {
            "colorbar": {
             "outlinewidth": 0,
             "ticks": ""
            },
            "colorscale": [
             [
              0.0,
              "#0d0887"
             ],
             [
              0.1111111111111111,
              "#46039f"
             ],
             [
              0.2222222222222222,
              "#7201a8"
             ],
             [
              0.3333333333333333,
              "#9c179e"
             ],
             [
              0.4444444444444444,
              "#bd3786"
             ],
             [
              0.5555555555555556,
              "#d8576b"
             ],
             [
              0.6666666666666666,
              "#ed7953"
             ],
             [
              0.7777777777777778,
              "#fb9f3a"
             ],
             [
              0.8888888888888888,
              "#fdca26"
             ],
             [
              1.0,
              "#f0f921"
             ]
            ],
            "type": "histogram2d"
           }
          ],
          "histogram2dcontour": [
           {
            "colorbar": {
             "outlinewidth": 0,
             "ticks": ""
            },
            "colorscale": [
             [
              0.0,
              "#0d0887"
             ],
             [
              0.1111111111111111,
              "#46039f"
             ],
             [
              0.2222222222222222,
              "#7201a8"
             ],
             [
              0.3333333333333333,
              "#9c179e"
             ],
             [
              0.4444444444444444,
              "#bd3786"
             ],
             [
              0.5555555555555556,
              "#d8576b"
             ],
             [
              0.6666666666666666,
              "#ed7953"
             ],
             [
              0.7777777777777778,
              "#fb9f3a"
             ],
             [
              0.8888888888888888,
              "#fdca26"
             ],
             [
              1.0,
              "#f0f921"
             ]
            ],
            "type": "histogram2dcontour"
           }
          ],
          "mesh3d": [
           {
            "colorbar": {
             "outlinewidth": 0,
             "ticks": ""
            },
            "type": "mesh3d"
           }
          ],
          "parcoords": [
           {
            "line": {
             "colorbar": {
              "outlinewidth": 0,
              "ticks": ""
             }
            },
            "type": "parcoords"
           }
          ],
          "pie": [
           {
            "automargin": true,
            "type": "pie"
           }
          ],
          "scatter": [
           {
            "marker": {
             "colorbar": {
              "outlinewidth": 0,
              "ticks": ""
             }
            },
            "type": "scatter"
           }
          ],
          "scatter3d": [
           {
            "line": {
             "colorbar": {
              "outlinewidth": 0,
              "ticks": ""
             }
            },
            "marker": {
             "colorbar": {
              "outlinewidth": 0,
              "ticks": ""
             }
            },
            "type": "scatter3d"
           }
          ],
          "scattercarpet": [
           {
            "marker": {
             "colorbar": {
              "outlinewidth": 0,
              "ticks": ""
             }
            },
            "type": "scattercarpet"
           }
          ],
          "scattergeo": [
           {
            "marker": {
             "colorbar": {
              "outlinewidth": 0,
              "ticks": ""
             }
            },
            "type": "scattergeo"
           }
          ],
          "scattergl": [
           {
            "marker": {
             "colorbar": {
              "outlinewidth": 0,
              "ticks": ""
             }
            },
            "type": "scattergl"
           }
          ],
          "scattermapbox": [
           {
            "marker": {
             "colorbar": {
              "outlinewidth": 0,
              "ticks": ""
             }
            },
            "type": "scattermapbox"
           }
          ],
          "scatterpolar": [
           {
            "marker": {
             "colorbar": {
              "outlinewidth": 0,
              "ticks": ""
             }
            },
            "type": "scatterpolar"
           }
          ],
          "scatterpolargl": [
           {
            "marker": {
             "colorbar": {
              "outlinewidth": 0,
              "ticks": ""
             }
            },
            "type": "scatterpolargl"
           }
          ],
          "scatterternary": [
           {
            "marker": {
             "colorbar": {
              "outlinewidth": 0,
              "ticks": ""
             }
            },
            "type": "scatterternary"
           }
          ],
          "surface": [
           {
            "colorbar": {
             "outlinewidth": 0,
             "ticks": ""
            },
            "colorscale": [
             [
              0.0,
              "#0d0887"
             ],
             [
              0.1111111111111111,
              "#46039f"
             ],
             [
              0.2222222222222222,
              "#7201a8"
             ],
             [
              0.3333333333333333,
              "#9c179e"
             ],
             [
              0.4444444444444444,
              "#bd3786"
             ],
             [
              0.5555555555555556,
              "#d8576b"
             ],
             [
              0.6666666666666666,
              "#ed7953"
             ],
             [
              0.7777777777777778,
              "#fb9f3a"
             ],
             [
              0.8888888888888888,
              "#fdca26"
             ],
             [
              1.0,
              "#f0f921"
             ]
            ],
            "type": "surface"
           }
          ],
          "table": [
           {
            "cells": {
             "fill": {
              "color": "#EBF0F8"
             },
             "line": {
              "color": "white"
             }
            },
            "header": {
             "fill": {
              "color": "#C8D4E3"
             },
             "line": {
              "color": "white"
             }
            },
            "type": "table"
           }
          ]
         },
         "layout": {
          "annotationdefaults": {
           "arrowcolor": "#2a3f5f",
           "arrowhead": 0,
           "arrowwidth": 1
          },
          "autotypenumbers": "strict",
          "coloraxis": {
           "colorbar": {
            "outlinewidth": 0,
            "ticks": ""
           }
          },
          "colorscale": {
           "diverging": [
            [
             0,
             "#8e0152"
            ],
            [
             0.1,
             "#c51b7d"
            ],
            [
             0.2,
             "#de77ae"
            ],
            [
             0.3,
             "#f1b6da"
            ],
            [
             0.4,
             "#fde0ef"
            ],
            [
             0.5,
             "#f7f7f7"
            ],
            [
             0.6,
             "#e6f5d0"
            ],
            [
             0.7,
             "#b8e186"
            ],
            [
             0.8,
             "#7fbc41"
            ],
            [
             0.9,
             "#4d9221"
            ],
            [
             1,
             "#276419"
            ]
           ],
           "sequential": [
            [
             0.0,
             "#0d0887"
            ],
            [
             0.1111111111111111,
             "#46039f"
            ],
            [
             0.2222222222222222,
             "#7201a8"
            ],
            [
             0.3333333333333333,
             "#9c179e"
            ],
            [
             0.4444444444444444,
             "#bd3786"
            ],
            [
             0.5555555555555556,
             "#d8576b"
            ],
            [
             0.6666666666666666,
             "#ed7953"
            ],
            [
             0.7777777777777778,
             "#fb9f3a"
            ],
            [
             0.8888888888888888,
             "#fdca26"
            ],
            [
             1.0,
             "#f0f921"
            ]
           ],
           "sequentialminus": [
            [
             0.0,
             "#0d0887"
            ],
            [
             0.1111111111111111,
             "#46039f"
            ],
            [
             0.2222222222222222,
             "#7201a8"
            ],
            [
             0.3333333333333333,
             "#9c179e"
            ],
            [
             0.4444444444444444,
             "#bd3786"
            ],
            [
             0.5555555555555556,
             "#d8576b"
            ],
            [
             0.6666666666666666,
             "#ed7953"
            ],
            [
             0.7777777777777778,
             "#fb9f3a"
            ],
            [
             0.8888888888888888,
             "#fdca26"
            ],
            [
             1.0,
             "#f0f921"
            ]
           ]
          },
          "colorway": [
           "#636efa",
           "#EF553B",
           "#00cc96",
           "#ab63fa",
           "#FFA15A",
           "#19d3f3",
           "#FF6692",
           "#B6E880",
           "#FF97FF",
           "#FECB52"
          ],
          "font": {
           "color": "#2a3f5f"
          },
          "geo": {
           "bgcolor": "white",
           "lakecolor": "white",
           "landcolor": "#E5ECF6",
           "showlakes": true,
           "showland": true,
           "subunitcolor": "white"
          },
          "hoverlabel": {
           "align": "left"
          },
          "hovermode": "closest",
          "mapbox": {
           "style": "light"
          },
          "paper_bgcolor": "white",
          "plot_bgcolor": "#E5ECF6",
          "polar": {
           "angularaxis": {
            "gridcolor": "white",
            "linecolor": "white",
            "ticks": ""
           },
           "bgcolor": "#E5ECF6",
           "radialaxis": {
            "gridcolor": "white",
            "linecolor": "white",
            "ticks": ""
           }
          },
          "scene": {
           "xaxis": {
            "backgroundcolor": "#E5ECF6",
            "gridcolor": "white",
            "gridwidth": 2,
            "linecolor": "white",
            "showbackground": true,
            "ticks": "",
            "zerolinecolor": "white"
           },
           "yaxis": {
            "backgroundcolor": "#E5ECF6",
            "gridcolor": "white",
            "gridwidth": 2,
            "linecolor": "white",
            "showbackground": true,
            "ticks": "",
            "zerolinecolor": "white"
           },
           "zaxis": {
            "backgroundcolor": "#E5ECF6",
            "gridcolor": "white",
            "gridwidth": 2,
            "linecolor": "white",
            "showbackground": true,
            "ticks": "",
            "zerolinecolor": "white"
           }
          },
          "shapedefaults": {
           "line": {
            "color": "#2a3f5f"
           }
          },
          "ternary": {
           "aaxis": {
            "gridcolor": "white",
            "linecolor": "white",
            "ticks": ""
           },
           "baxis": {
            "gridcolor": "white",
            "linecolor": "white",
            "ticks": ""
           },
           "bgcolor": "#E5ECF6",
           "caxis": {
            "gridcolor": "white",
            "linecolor": "white",
            "ticks": ""
           }
          },
          "title": {
           "x": 0.05
          },
          "xaxis": {
           "automargin": true,
           "gridcolor": "white",
           "linecolor": "white",
           "ticks": "",
           "title": {
            "standoff": 15
           },
           "zerolinecolor": "white",
           "zerolinewidth": 2
          },
          "yaxis": {
           "automargin": true,
           "gridcolor": "white",
           "linecolor": "white",
           "ticks": "",
           "title": {
            "standoff": 15
           },
           "zerolinecolor": "white",
           "zerolinewidth": 2
          }
         }
        },
        "xaxis": {
         "anchor": "y",
         "domain": [
          0.0,
          1.0
         ],
         "title": {
          "text": "date"
         }
        },
        "yaxis": {
         "anchor": "x",
         "domain": [
          0.0,
          1.0
         ],
         "title": {
          "text": "num_sold"
         }
        }
       }
      },
      "text/html": [
       "<div>                            <div id=\"f7615b83-6b65-4f85-8e89-9846c67f9b60\" class=\"plotly-graph-div\" style=\"height:525px; width:100%;\"></div>            <script type=\"text/javascript\">                require([\"plotly\"], function(Plotly) {                    window.PLOTLYENV=window.PLOTLYENV || {};                                    if (document.getElementById(\"f7615b83-6b65-4f85-8e89-9846c67f9b60\")) {                    Plotly.newPlot(                        \"f7615b83-6b65-4f85-8e89-9846c67f9b60\",                        [{\"hovertemplate\":\"country=Finland<br>date=%{x}<br>num_sold=%{y}<extra></extra>\",\"legendgroup\":\"Finland\",\"line\":{\"color\":\"#636efa\",\"dash\":\"solid\"},\"marker\":{\"symbol\":\"circle\"},\"mode\":\"lines\",\"name\":\"Finland\",\"orientation\":\"v\",\"showlegend\":true,\"x\":[\"2015-01-31T00:00:00\",\"2015-02-28T00:00:00\",\"2015-03-31T00:00:00\",\"2015-04-30T00:00:00\",\"2015-05-31T00:00:00\",\"2015-06-30T00:00:00\",\"2015-07-31T00:00:00\",\"2015-08-31T00:00:00\",\"2015-09-30T00:00:00\",\"2015-10-31T00:00:00\",\"2015-11-30T00:00:00\",\"2015-12-31T00:00:00\",\"2016-01-31T00:00:00\",\"2016-02-29T00:00:00\",\"2016-03-31T00:00:00\",\"2016-04-30T00:00:00\",\"2016-05-31T00:00:00\",\"2016-06-30T00:00:00\",\"2016-07-31T00:00:00\",\"2016-08-31T00:00:00\",\"2016-09-30T00:00:00\",\"2016-10-31T00:00:00\",\"2016-11-30T00:00:00\",\"2016-12-31T00:00:00\",\"2017-01-31T00:00:00\",\"2017-02-28T00:00:00\",\"2017-03-31T00:00:00\",\"2017-04-30T00:00:00\",\"2017-05-31T00:00:00\",\"2017-06-30T00:00:00\",\"2017-07-31T00:00:00\",\"2017-08-31T00:00:00\",\"2017-09-30T00:00:00\",\"2017-10-31T00:00:00\",\"2017-11-30T00:00:00\",\"2017-12-31T00:00:00\",\"2018-01-31T00:00:00\",\"2018-02-28T00:00:00\",\"2018-03-31T00:00:00\",\"2018-04-30T00:00:00\",\"2018-05-31T00:00:00\",\"2018-06-30T00:00:00\",\"2018-07-31T00:00:00\",\"2018-08-31T00:00:00\",\"2018-09-30T00:00:00\",\"2018-10-31T00:00:00\",\"2018-11-30T00:00:00\",\"2018-12-31T00:00:00\"],\"xaxis\":\"x\",\"y\":[311.81720430107526,295.70238095238096,300.7258064516129,313.01666666666665,303.48387096774195,277.05,246.27956989247312,235.34408602150538,231.40555555555557,237.65591397849462,257.68333333333334,326.6182795698925,331.2204301075269,301.64367816091954,315.752688172043,318.7055555555556,309.3333333333333,279.5722222222222,260.7258064516129,241.98924731182797,239.36111111111111,250.75806451612902,268.53333333333336,349.741935483871,343.83870967741933,329.1190476190476,330.4516129032258,356.59444444444443,323.56451612903226,312.95,283.06451612903226,266.9032258064516,265.3722222222222,269.51075268817203,300.47222222222223,393.5537634408602,381.13978494623655,360.2083333333333,366.4301075268817,388.52222222222224,369.3709677419355,340.1222222222222,302.4516129032258,291.13440860215053,288.1222222222222,290.5752688172043,312.4166666666667,411.5860215053763],\"yaxis\":\"y\",\"type\":\"scatter\"},{\"hovertemplate\":\"country=Norway<br>date=%{x}<br>num_sold=%{y}<extra></extra>\",\"legendgroup\":\"Norway\",\"line\":{\"color\":\"#EF553B\",\"dash\":\"solid\"},\"marker\":{\"symbol\":\"circle\"},\"mode\":\"lines\",\"name\":\"Norway\",\"orientation\":\"v\",\"showlegend\":true,\"x\":[\"2015-01-31T00:00:00\",\"2015-02-28T00:00:00\",\"2015-03-31T00:00:00\",\"2015-04-30T00:00:00\",\"2015-05-31T00:00:00\",\"2015-06-30T00:00:00\",\"2015-07-31T00:00:00\",\"2015-08-31T00:00:00\",\"2015-09-30T00:00:00\",\"2015-10-31T00:00:00\",\"2015-11-30T00:00:00\",\"2015-12-31T00:00:00\",\"2016-01-31T00:00:00\",\"2016-02-29T00:00:00\",\"2016-03-31T00:00:00\",\"2016-04-30T00:00:00\",\"2016-05-31T00:00:00\",\"2016-06-30T00:00:00\",\"2016-07-31T00:00:00\",\"2016-08-31T00:00:00\",\"2016-09-30T00:00:00\",\"2016-10-31T00:00:00\",\"2016-11-30T00:00:00\",\"2016-12-31T00:00:00\",\"2017-01-31T00:00:00\",\"2017-02-28T00:00:00\",\"2017-03-31T00:00:00\",\"2017-04-30T00:00:00\",\"2017-05-31T00:00:00\",\"2017-06-30T00:00:00\",\"2017-07-31T00:00:00\",\"2017-08-31T00:00:00\",\"2017-09-30T00:00:00\",\"2017-10-31T00:00:00\",\"2017-11-30T00:00:00\",\"2017-12-31T00:00:00\",\"2018-01-31T00:00:00\",\"2018-02-28T00:00:00\",\"2018-03-31T00:00:00\",\"2018-04-30T00:00:00\",\"2018-05-31T00:00:00\",\"2018-06-30T00:00:00\",\"2018-07-31T00:00:00\",\"2018-08-31T00:00:00\",\"2018-09-30T00:00:00\",\"2018-10-31T00:00:00\",\"2018-11-30T00:00:00\",\"2018-12-31T00:00:00\"],\"xaxis\":\"x\",\"y\":[529.7795698924731,511.89285714285717,521.4408602150538,558.9166666666666,551.6129032258065,454.55555555555554,428.26344086021504,407.98924731182797,401.6,412.3333333333333,438.0111111111111,547.1129032258065,520.8279569892474,491.61494252873564,522.7741935483871,510.8666666666667,521.1451612903226,433.8722222222222,408.98924731182797,387.13978494623655,384.8888888888889,404.6989247311828,420.55,535.1559139784946,540.241935483871,535.6607142857143,535.8870967741935,597.0277777777778,544.3978494623656,499.47777777777776,460.3440860215054,433.0752688172043,432.9166666666667,438.5268817204301,472.8833333333333,609.9784946236559,609.0376344086021,594.077380952381,607.9677419354839,654.4388888888889,640.1881720430108,536.3833333333333,494.7795698924731,477.23118279569894,475.3333333333333,479.80645161290323,501.5722222222222,645.2849462365591],\"yaxis\":\"y\",\"type\":\"scatter\"},{\"hovertemplate\":\"country=Sweden<br>date=%{x}<br>num_sold=%{y}<extra></extra>\",\"legendgroup\":\"Sweden\",\"line\":{\"color\":\"#00cc96\",\"dash\":\"solid\"},\"marker\":{\"symbol\":\"circle\"},\"mode\":\"lines\",\"name\":\"Sweden\",\"orientation\":\"v\",\"showlegend\":true,\"x\":[\"2015-01-31T00:00:00\",\"2015-02-28T00:00:00\",\"2015-03-31T00:00:00\",\"2015-04-30T00:00:00\",\"2015-05-31T00:00:00\",\"2015-06-30T00:00:00\",\"2015-07-31T00:00:00\",\"2015-08-31T00:00:00\",\"2015-09-30T00:00:00\",\"2015-10-31T00:00:00\",\"2015-11-30T00:00:00\",\"2015-12-31T00:00:00\",\"2016-01-31T00:00:00\",\"2016-02-29T00:00:00\",\"2016-03-31T00:00:00\",\"2016-04-30T00:00:00\",\"2016-05-31T00:00:00\",\"2016-06-30T00:00:00\",\"2016-07-31T00:00:00\",\"2016-08-31T00:00:00\",\"2016-09-30T00:00:00\",\"2016-10-31T00:00:00\",\"2016-11-30T00:00:00\",\"2016-12-31T00:00:00\",\"2017-01-31T00:00:00\",\"2017-02-28T00:00:00\",\"2017-03-31T00:00:00\",\"2017-04-30T00:00:00\",\"2017-05-31T00:00:00\",\"2017-06-30T00:00:00\",\"2017-07-31T00:00:00\",\"2017-08-31T00:00:00\",\"2017-09-30T00:00:00\",\"2017-10-31T00:00:00\",\"2017-11-30T00:00:00\",\"2017-12-31T00:00:00\",\"2018-01-31T00:00:00\",\"2018-02-28T00:00:00\",\"2018-03-31T00:00:00\",\"2018-04-30T00:00:00\",\"2018-05-31T00:00:00\",\"2018-06-30T00:00:00\",\"2018-07-31T00:00:00\",\"2018-08-31T00:00:00\",\"2018-09-30T00:00:00\",\"2018-10-31T00:00:00\",\"2018-11-30T00:00:00\",\"2018-12-31T00:00:00\"],\"xaxis\":\"x\",\"y\":[378.06451612903226,356.5059523809524,362.3279569892473,375.72222222222223,365.0967741935484,340.1611111111111,296.5698924731183,285.3763440860215,278.00555555555553,287.3333333333333,309.51666666666665,385.23655913978496,400.98387096774195,361.2701149425287,374.63978494623655,375.97777777777776,364.64516129032256,341.43888888888887,309.3279569892473,288.21505376344084,283.8611111111111,297.6290322580645,320.80555555555554,401.86559139784947,408.6666666666667,381.8988095238095,381.8279569892473,412.9888888888889,376.98387096774195,376.4555555555556,329.2204301075269,308.4462365591398,306.2944444444444,313.2956989247312,344.19444444444446,443.60752688172045,425.747311827957,395.6190476190476,400.6236559139785,423.55,402.3763440860215,383.19444444444446,330.1720430107527,313.9139784946237,314.26666666666665,316.1182795698925,339.27222222222224,439.43548387096774],\"yaxis\":\"y\",\"type\":\"scatter\"}],                        {\"template\":{\"data\":{\"bar\":[{\"error_x\":{\"color\":\"#2a3f5f\"},\"error_y\":{\"color\":\"#2a3f5f\"},\"marker\":{\"line\":{\"color\":\"#E5ECF6\",\"width\":0.5},\"pattern\":{\"fillmode\":\"overlay\",\"size\":10,\"solidity\":0.2}},\"type\":\"bar\"}],\"barpolar\":[{\"marker\":{\"line\":{\"color\":\"#E5ECF6\",\"width\":0.5},\"pattern\":{\"fillmode\":\"overlay\",\"size\":10,\"solidity\":0.2}},\"type\":\"barpolar\"}],\"carpet\":[{\"aaxis\":{\"endlinecolor\":\"#2a3f5f\",\"gridcolor\":\"white\",\"linecolor\":\"white\",\"minorgridcolor\":\"white\",\"startlinecolor\":\"#2a3f5f\"},\"baxis\":{\"endlinecolor\":\"#2a3f5f\",\"gridcolor\":\"white\",\"linecolor\":\"white\",\"minorgridcolor\":\"white\",\"startlinecolor\":\"#2a3f5f\"},\"type\":\"carpet\"}],\"choropleth\":[{\"colorbar\":{\"outlinewidth\":0,\"ticks\":\"\"},\"type\":\"choropleth\"}],\"contour\":[{\"colorbar\":{\"outlinewidth\":0,\"ticks\":\"\"},\"colorscale\":[[0.0,\"#0d0887\"],[0.1111111111111111,\"#46039f\"],[0.2222222222222222,\"#7201a8\"],[0.3333333333333333,\"#9c179e\"],[0.4444444444444444,\"#bd3786\"],[0.5555555555555556,\"#d8576b\"],[0.6666666666666666,\"#ed7953\"],[0.7777777777777778,\"#fb9f3a\"],[0.8888888888888888,\"#fdca26\"],[1.0,\"#f0f921\"]],\"type\":\"contour\"}],\"contourcarpet\":[{\"colorbar\":{\"outlinewidth\":0,\"ticks\":\"\"},\"type\":\"contourcarpet\"}],\"heatmap\":[{\"colorbar\":{\"outlinewidth\":0,\"ticks\":\"\"},\"colorscale\":[[0.0,\"#0d0887\"],[0.1111111111111111,\"#46039f\"],[0.2222222222222222,\"#7201a8\"],[0.3333333333333333,\"#9c179e\"],[0.4444444444444444,\"#bd3786\"],[0.5555555555555556,\"#d8576b\"],[0.6666666666666666,\"#ed7953\"],[0.7777777777777778,\"#fb9f3a\"],[0.8888888888888888,\"#fdca26\"],[1.0,\"#f0f921\"]],\"type\":\"heatmap\"}],\"heatmapgl\":[{\"colorbar\":{\"outlinewidth\":0,\"ticks\":\"\"},\"colorscale\":[[0.0,\"#0d0887\"],[0.1111111111111111,\"#46039f\"],[0.2222222222222222,\"#7201a8\"],[0.3333333333333333,\"#9c179e\"],[0.4444444444444444,\"#bd3786\"],[0.5555555555555556,\"#d8576b\"],[0.6666666666666666,\"#ed7953\"],[0.7777777777777778,\"#fb9f3a\"],[0.8888888888888888,\"#fdca26\"],[1.0,\"#f0f921\"]],\"type\":\"heatmapgl\"}],\"histogram\":[{\"marker\":{\"pattern\":{\"fillmode\":\"overlay\",\"size\":10,\"solidity\":0.2}},\"type\":\"histogram\"}],\"histogram2d\":[{\"colorbar\":{\"outlinewidth\":0,\"ticks\":\"\"},\"colorscale\":[[0.0,\"#0d0887\"],[0.1111111111111111,\"#46039f\"],[0.2222222222222222,\"#7201a8\"],[0.3333333333333333,\"#9c179e\"],[0.4444444444444444,\"#bd3786\"],[0.5555555555555556,\"#d8576b\"],[0.6666666666666666,\"#ed7953\"],[0.7777777777777778,\"#fb9f3a\"],[0.8888888888888888,\"#fdca26\"],[1.0,\"#f0f921\"]],\"type\":\"histogram2d\"}],\"histogram2dcontour\":[{\"colorbar\":{\"outlinewidth\":0,\"ticks\":\"\"},\"colorscale\":[[0.0,\"#0d0887\"],[0.1111111111111111,\"#46039f\"],[0.2222222222222222,\"#7201a8\"],[0.3333333333333333,\"#9c179e\"],[0.4444444444444444,\"#bd3786\"],[0.5555555555555556,\"#d8576b\"],[0.6666666666666666,\"#ed7953\"],[0.7777777777777778,\"#fb9f3a\"],[0.8888888888888888,\"#fdca26\"],[1.0,\"#f0f921\"]],\"type\":\"histogram2dcontour\"}],\"mesh3d\":[{\"colorbar\":{\"outlinewidth\":0,\"ticks\":\"\"},\"type\":\"mesh3d\"}],\"parcoords\":[{\"line\":{\"colorbar\":{\"outlinewidth\":0,\"ticks\":\"\"}},\"type\":\"parcoords\"}],\"pie\":[{\"automargin\":true,\"type\":\"pie\"}],\"scatter\":[{\"marker\":{\"colorbar\":{\"outlinewidth\":0,\"ticks\":\"\"}},\"type\":\"scatter\"}],\"scatter3d\":[{\"line\":{\"colorbar\":{\"outlinewidth\":0,\"ticks\":\"\"}},\"marker\":{\"colorbar\":{\"outlinewidth\":0,\"ticks\":\"\"}},\"type\":\"scatter3d\"}],\"scattercarpet\":[{\"marker\":{\"colorbar\":{\"outlinewidth\":0,\"ticks\":\"\"}},\"type\":\"scattercarpet\"}],\"scattergeo\":[{\"marker\":{\"colorbar\":{\"outlinewidth\":0,\"ticks\":\"\"}},\"type\":\"scattergeo\"}],\"scattergl\":[{\"marker\":{\"colorbar\":{\"outlinewidth\":0,\"ticks\":\"\"}},\"type\":\"scattergl\"}],\"scattermapbox\":[{\"marker\":{\"colorbar\":{\"outlinewidth\":0,\"ticks\":\"\"}},\"type\":\"scattermapbox\"}],\"scatterpolar\":[{\"marker\":{\"colorbar\":{\"outlinewidth\":0,\"ticks\":\"\"}},\"type\":\"scatterpolar\"}],\"scatterpolargl\":[{\"marker\":{\"colorbar\":{\"outlinewidth\":0,\"ticks\":\"\"}},\"type\":\"scatterpolargl\"}],\"scatterternary\":[{\"marker\":{\"colorbar\":{\"outlinewidth\":0,\"ticks\":\"\"}},\"type\":\"scatterternary\"}],\"surface\":[{\"colorbar\":{\"outlinewidth\":0,\"ticks\":\"\"},\"colorscale\":[[0.0,\"#0d0887\"],[0.1111111111111111,\"#46039f\"],[0.2222222222222222,\"#7201a8\"],[0.3333333333333333,\"#9c179e\"],[0.4444444444444444,\"#bd3786\"],[0.5555555555555556,\"#d8576b\"],[0.6666666666666666,\"#ed7953\"],[0.7777777777777778,\"#fb9f3a\"],[0.8888888888888888,\"#fdca26\"],[1.0,\"#f0f921\"]],\"type\":\"surface\"}],\"table\":[{\"cells\":{\"fill\":{\"color\":\"#EBF0F8\"},\"line\":{\"color\":\"white\"}},\"header\":{\"fill\":{\"color\":\"#C8D4E3\"},\"line\":{\"color\":\"white\"}},\"type\":\"table\"}]},\"layout\":{\"annotationdefaults\":{\"arrowcolor\":\"#2a3f5f\",\"arrowhead\":0,\"arrowwidth\":1},\"autotypenumbers\":\"strict\",\"coloraxis\":{\"colorbar\":{\"outlinewidth\":0,\"ticks\":\"\"}},\"colorscale\":{\"diverging\":[[0,\"#8e0152\"],[0.1,\"#c51b7d\"],[0.2,\"#de77ae\"],[0.3,\"#f1b6da\"],[0.4,\"#fde0ef\"],[0.5,\"#f7f7f7\"],[0.6,\"#e6f5d0\"],[0.7,\"#b8e186\"],[0.8,\"#7fbc41\"],[0.9,\"#4d9221\"],[1,\"#276419\"]],\"sequential\":[[0.0,\"#0d0887\"],[0.1111111111111111,\"#46039f\"],[0.2222222222222222,\"#7201a8\"],[0.3333333333333333,\"#9c179e\"],[0.4444444444444444,\"#bd3786\"],[0.5555555555555556,\"#d8576b\"],[0.6666666666666666,\"#ed7953\"],[0.7777777777777778,\"#fb9f3a\"],[0.8888888888888888,\"#fdca26\"],[1.0,\"#f0f921\"]],\"sequentialminus\":[[0.0,\"#0d0887\"],[0.1111111111111111,\"#46039f\"],[0.2222222222222222,\"#7201a8\"],[0.3333333333333333,\"#9c179e\"],[0.4444444444444444,\"#bd3786\"],[0.5555555555555556,\"#d8576b\"],[0.6666666666666666,\"#ed7953\"],[0.7777777777777778,\"#fb9f3a\"],[0.8888888888888888,\"#fdca26\"],[1.0,\"#f0f921\"]]},\"colorway\":[\"#636efa\",\"#EF553B\",\"#00cc96\",\"#ab63fa\",\"#FFA15A\",\"#19d3f3\",\"#FF6692\",\"#B6E880\",\"#FF97FF\",\"#FECB52\"],\"font\":{\"color\":\"#2a3f5f\"},\"geo\":{\"bgcolor\":\"white\",\"lakecolor\":\"white\",\"landcolor\":\"#E5ECF6\",\"showlakes\":true,\"showland\":true,\"subunitcolor\":\"white\"},\"hoverlabel\":{\"align\":\"left\"},\"hovermode\":\"closest\",\"mapbox\":{\"style\":\"light\"},\"paper_bgcolor\":\"white\",\"plot_bgcolor\":\"#E5ECF6\",\"polar\":{\"angularaxis\":{\"gridcolor\":\"white\",\"linecolor\":\"white\",\"ticks\":\"\"},\"bgcolor\":\"#E5ECF6\",\"radialaxis\":{\"gridcolor\":\"white\",\"linecolor\":\"white\",\"ticks\":\"\"}},\"scene\":{\"xaxis\":{\"backgroundcolor\":\"#E5ECF6\",\"gridcolor\":\"white\",\"gridwidth\":2,\"linecolor\":\"white\",\"showbackground\":true,\"ticks\":\"\",\"zerolinecolor\":\"white\"},\"yaxis\":{\"backgroundcolor\":\"#E5ECF6\",\"gridcolor\":\"white\",\"gridwidth\":2,\"linecolor\":\"white\",\"showbackground\":true,\"ticks\":\"\",\"zerolinecolor\":\"white\"},\"zaxis\":{\"backgroundcolor\":\"#E5ECF6\",\"gridcolor\":\"white\",\"gridwidth\":2,\"linecolor\":\"white\",\"showbackground\":true,\"ticks\":\"\",\"zerolinecolor\":\"white\"}},\"shapedefaults\":{\"line\":{\"color\":\"#2a3f5f\"}},\"ternary\":{\"aaxis\":{\"gridcolor\":\"white\",\"linecolor\":\"white\",\"ticks\":\"\"},\"baxis\":{\"gridcolor\":\"white\",\"linecolor\":\"white\",\"ticks\":\"\"},\"bgcolor\":\"#E5ECF6\",\"caxis\":{\"gridcolor\":\"white\",\"linecolor\":\"white\",\"ticks\":\"\"}},\"title\":{\"x\":0.05},\"xaxis\":{\"automargin\":true,\"gridcolor\":\"white\",\"linecolor\":\"white\",\"ticks\":\"\",\"title\":{\"standoff\":15},\"zerolinecolor\":\"white\",\"zerolinewidth\":2},\"yaxis\":{\"automargin\":true,\"gridcolor\":\"white\",\"linecolor\":\"white\",\"ticks\":\"\",\"title\":{\"standoff\":15},\"zerolinecolor\":\"white\",\"zerolinewidth\":2}}},\"xaxis\":{\"anchor\":\"y\",\"domain\":[0.0,1.0],\"title\":{\"text\":\"date\"}},\"yaxis\":{\"anchor\":\"x\",\"domain\":[0.0,1.0],\"title\":{\"text\":\"num_sold\"}},\"legend\":{\"title\":{\"text\":\"country\"},\"tracegroupgap\":0},\"margin\":{\"t\":60}},                        {\"responsive\": true}                    ).then(function(){\n",
       "                            \n",
       "var gd = document.getElementById('f7615b83-6b65-4f85-8e89-9846c67f9b60');\n",
       "var x = new MutationObserver(function (mutations, observer) {{\n",
       "        var display = window.getComputedStyle(gd).display;\n",
       "        if (!display || display === 'none') {{\n",
       "            console.log([gd, 'removed!']);\n",
       "            Plotly.purge(gd);\n",
       "            observer.disconnect();\n",
       "        }}\n",
       "}});\n",
       "\n",
       "// Listen for the removal of the full notebook cells\n",
       "var notebookContainer = gd.closest('#notebook-container');\n",
       "if (notebookContainer) {{\n",
       "    x.observe(notebookContainer, {childList: true});\n",
       "}}\n",
       "\n",
       "// Listen for the clearing of the current output cell\n",
       "var outputEl = gd.closest('.output');\n",
       "if (outputEl) {{\n",
       "    x.observe(outputEl, {childList: true});\n",
       "}}\n",
       "\n",
       "                        })                };                });            </script>        </div>"
      ]
     },
     "metadata": {},
     "output_type": "display_data"
    }
   ],
   "source": [
    "#using plotly\n",
    "train_monthly_country = train.set_index('date').groupby([pd.Grouper(freq='M'),'country'])[['num_sold']].mean().reset_index()\n",
    "a = px.line(data_frame=train_monthly_country,x='date',y='num_sold',color='country')\n",
    "a.show()"
   ]
  },
  {
   "cell_type": "markdown",
   "id": "abcc9ddf",
   "metadata": {
    "papermill": {
     "duration": 0.047339,
     "end_time": "2022-01-09T06:56:59.404793",
     "exception": false,
     "start_time": "2022-01-09T06:56:59.357454",
     "status": "completed"
    },
    "tags": []
   },
   "source": [
    "## Distrubution of product sales on weekends and weekdays"
   ]
  },
  {
   "cell_type": "code",
   "execution_count": 16,
   "id": "6e3029c1",
   "metadata": {
    "execution": {
     "iopub.execute_input": "2022-01-09T06:56:59.506198Z",
     "iopub.status.busy": "2022-01-09T06:56:59.505517Z",
     "iopub.status.idle": "2022-01-09T06:56:59.512394Z",
     "shell.execute_reply": "2022-01-09T06:56:59.512965Z",
     "shell.execute_reply.started": "2022-01-09T06:49:31.948871Z"
    },
    "papermill": {
     "duration": 0.060721,
     "end_time": "2022-01-09T06:56:59.513176",
     "exception": false,
     "start_time": "2022-01-09T06:56:59.452455",
     "status": "completed"
    },
    "tags": []
   },
   "outputs": [],
   "source": [
    "train['dayofweek'] = train['date'].dt.dayofweek\n",
    "test['dayofweek'] = test['date'].dt.dayofweek"
   ]
  },
  {
   "cell_type": "code",
   "execution_count": 17,
   "id": "2b2ad566",
   "metadata": {
    "execution": {
     "iopub.execute_input": "2022-01-09T06:56:59.611956Z",
     "iopub.status.busy": "2022-01-09T06:56:59.611223Z",
     "iopub.status.idle": "2022-01-09T06:56:59.729348Z",
     "shell.execute_reply": "2022-01-09T06:56:59.729907Z",
     "shell.execute_reply.started": "2022-01-09T06:49:33.513945Z"
    },
    "papermill": {
     "duration": 0.169259,
     "end_time": "2022-01-09T06:56:59.730110",
     "exception": false,
     "start_time": "2022-01-09T06:56:59.560851",
     "status": "completed"
    },
    "tags": []
   },
   "outputs": [
    {
     "data": {
      "application/vnd.plotly.v1+json": {
       "config": {
        "plotlyServerURL": "https://plot.ly"
       },
       "data": [
        {
         "hovertemplate": "dayofweek=0<br>date=%{x}<br>num_sold=%{y}<extra></extra>",
         "legendgroup": "0",
         "line": {
          "color": "#636efa",
          "dash": "solid"
         },
         "marker": {
          "symbol": "circle"
         },
         "mode": "lines",
         "name": "0",
         "orientation": "v",
         "showlegend": true,
         "type": "scatter",
         "x": [
          "2015-01-31T00:00:00",
          "2015-02-28T00:00:00",
          "2015-03-31T00:00:00",
          "2015-04-30T00:00:00",
          "2015-05-31T00:00:00",
          "2015-06-30T00:00:00",
          "2015-07-31T00:00:00",
          "2015-08-31T00:00:00",
          "2015-09-30T00:00:00",
          "2015-10-31T00:00:00",
          "2015-11-30T00:00:00",
          "2015-12-31T00:00:00",
          "2016-01-31T00:00:00",
          "2016-02-29T00:00:00",
          "2016-03-31T00:00:00",
          "2016-04-30T00:00:00",
          "2016-05-31T00:00:00",
          "2016-06-30T00:00:00",
          "2016-07-31T00:00:00",
          "2016-08-31T00:00:00",
          "2016-09-30T00:00:00",
          "2016-10-31T00:00:00",
          "2016-11-30T00:00:00",
          "2016-12-31T00:00:00",
          "2017-01-31T00:00:00",
          "2017-02-28T00:00:00",
          "2017-03-31T00:00:00",
          "2017-04-30T00:00:00",
          "2017-05-31T00:00:00",
          "2017-06-30T00:00:00",
          "2017-07-31T00:00:00",
          "2017-08-31T00:00:00",
          "2017-09-30T00:00:00",
          "2017-10-31T00:00:00",
          "2017-11-30T00:00:00",
          "2017-12-31T00:00:00",
          "2018-01-31T00:00:00",
          "2018-02-28T00:00:00",
          "2018-03-31T00:00:00",
          "2018-04-30T00:00:00",
          "2018-05-31T00:00:00",
          "2018-06-30T00:00:00",
          "2018-07-31T00:00:00",
          "2018-08-31T00:00:00",
          "2018-09-30T00:00:00",
          "2018-10-31T00:00:00",
          "2018-11-30T00:00:00",
          "2018-12-31T00:00:00"
         ],
         "xaxis": "x",
         "y": [
          366.27777777777777,
          361.40277777777777,
          367.9,
          381.4166666666667,
          373.44444444444446,
          333.24444444444447,
          299.4166666666667,
          283.47777777777776,
          284.3888888888889,
          289.77777777777777,
          310.24444444444447,
          417.4861111111111,
          375.8333333333333,
          358.6777777777778,
          381.1388888888889,
          365.05555555555554,
          363.23333333333335,
          329.6666666666667,
          300.2361111111111,
          284.4555555555556,
          282.1666666666667,
          293.47777777777776,
          312.9166666666667,
          360.52777777777777,
          401.7,
          384.2083333333333,
          386.6388888888889,
          418.0416666666667,
          387.5111111111111,
          361.55555555555554,
          329.14444444444445,
          312.6111111111111,
          309.875,
          314.6666666666667,
          348.6666666666667,
          377.30555555555554,
          473.8666666666667,
          418.0138888888889,
          426.22222222222223,
          445.4111111111111,
          442.6111111111111,
          386.9583333333333,
          346.25555555555553,
          333.69444444444446,
          331.375,
          335.7,
          360.81944444444446,
          466.7
         ],
         "yaxis": "y"
        },
        {
         "hovertemplate": "dayofweek=1<br>date=%{x}<br>num_sold=%{y}<extra></extra>",
         "legendgroup": "1",
         "line": {
          "color": "#EF553B",
          "dash": "solid"
         },
         "marker": {
          "symbol": "circle"
         },
         "mode": "lines",
         "name": "1",
         "orientation": "v",
         "showlegend": true,
         "type": "scatter",
         "x": [
          "2015-01-31T00:00:00",
          "2015-02-28T00:00:00",
          "2015-03-31T00:00:00",
          "2015-04-30T00:00:00",
          "2015-05-31T00:00:00",
          "2015-06-30T00:00:00",
          "2015-07-31T00:00:00",
          "2015-08-31T00:00:00",
          "2015-09-30T00:00:00",
          "2015-10-31T00:00:00",
          "2015-11-30T00:00:00",
          "2015-12-31T00:00:00",
          "2016-01-31T00:00:00",
          "2016-02-29T00:00:00",
          "2016-03-31T00:00:00",
          "2016-04-30T00:00:00",
          "2016-05-31T00:00:00",
          "2016-06-30T00:00:00",
          "2016-07-31T00:00:00",
          "2016-08-31T00:00:00",
          "2016-09-30T00:00:00",
          "2016-10-31T00:00:00",
          "2016-11-30T00:00:00",
          "2016-12-31T00:00:00",
          "2017-01-31T00:00:00",
          "2017-02-28T00:00:00",
          "2017-03-31T00:00:00",
          "2017-04-30T00:00:00",
          "2017-05-31T00:00:00",
          "2017-06-30T00:00:00",
          "2017-07-31T00:00:00",
          "2017-08-31T00:00:00",
          "2017-09-30T00:00:00",
          "2017-10-31T00:00:00",
          "2017-11-30T00:00:00",
          "2017-12-31T00:00:00",
          "2018-01-31T00:00:00",
          "2018-02-28T00:00:00",
          "2018-03-31T00:00:00",
          "2018-04-30T00:00:00",
          "2018-05-31T00:00:00",
          "2018-06-30T00:00:00",
          "2018-07-31T00:00:00",
          "2018-08-31T00:00:00",
          "2018-09-30T00:00:00",
          "2018-10-31T00:00:00",
          "2018-11-30T00:00:00",
          "2018-12-31T00:00:00"
         ],
         "xaxis": "x",
         "y": [
          362.6666666666667,
          359.875,
          366.6777777777778,
          388.1666666666667,
          375.05555555555554,
          332.0888888888889,
          297.7916666666667,
          285.77777777777777,
          282.3333333333333,
          291.125,
          304.5138888888889,
          419.85555555555555,
          375.8611111111111,
          360.05555555555554,
          381.26666666666665,
          362.97222222222223,
          358.8666666666667,
          328.69444444444446,
          299.1388888888889,
          285.4111111111111,
          285.06944444444446,
          292.40277777777777,
          313.1,
          385.625,
          390.3333333333333,
          386.0138888888889,
          388.5,
          420.6388888888889,
          388.02222222222224,
          370.1388888888889,
          326.69444444444446,
          313.0111111111111,
          309.90277777777777,
          313.4111111111111,
          350.47222222222223,
          397.02777777777777,
          445.5777777777778,
          419.1388888888889,
          429.6666666666667,
          457.56944444444446,
          440.34444444444443,
          392.4583333333333,
          347.1777777777778,
          335.18055555555554,
          328.94444444444446,
          336.4888888888889,
          357.75,
          391.4166666666667
         ],
         "yaxis": "y"
        },
        {
         "hovertemplate": "dayofweek=2<br>date=%{x}<br>num_sold=%{y}<extra></extra>",
         "legendgroup": "2",
         "line": {
          "color": "#00cc96",
          "dash": "solid"
         },
         "marker": {
          "symbol": "circle"
         },
         "mode": "lines",
         "name": "2",
         "orientation": "v",
         "showlegend": true,
         "type": "scatter",
         "x": [
          "2015-01-31T00:00:00",
          "2015-02-28T00:00:00",
          "2015-03-31T00:00:00",
          "2015-04-30T00:00:00",
          "2015-05-31T00:00:00",
          "2015-06-30T00:00:00",
          "2015-07-31T00:00:00",
          "2015-08-31T00:00:00",
          "2015-09-30T00:00:00",
          "2015-10-31T00:00:00",
          "2015-11-30T00:00:00",
          "2015-12-31T00:00:00",
          "2016-01-31T00:00:00",
          "2016-02-29T00:00:00",
          "2016-03-31T00:00:00",
          "2016-04-30T00:00:00",
          "2016-05-31T00:00:00",
          "2016-06-30T00:00:00",
          "2016-07-31T00:00:00",
          "2016-08-31T00:00:00",
          "2016-09-30T00:00:00",
          "2016-10-31T00:00:00",
          "2016-11-30T00:00:00",
          "2016-12-31T00:00:00",
          "2017-01-31T00:00:00",
          "2017-02-28T00:00:00",
          "2017-03-31T00:00:00",
          "2017-04-30T00:00:00",
          "2017-05-31T00:00:00",
          "2017-06-30T00:00:00",
          "2017-07-31T00:00:00",
          "2017-08-31T00:00:00",
          "2017-09-30T00:00:00",
          "2017-10-31T00:00:00",
          "2017-11-30T00:00:00",
          "2017-12-31T00:00:00",
          "2018-01-31T00:00:00",
          "2018-02-28T00:00:00",
          "2018-03-31T00:00:00",
          "2018-04-30T00:00:00",
          "2018-05-31T00:00:00",
          "2018-06-30T00:00:00",
          "2018-07-31T00:00:00",
          "2018-08-31T00:00:00",
          "2018-09-30T00:00:00",
          "2018-10-31T00:00:00",
          "2018-11-30T00:00:00",
          "2018-12-31T00:00:00"
         ],
         "xaxis": "x",
         "y": [
          353.27777777777777,
          362.09722222222223,
          361.2083333333333,
          380.3,
          383.2916666666667,
          339.6388888888889,
          303.6333333333333,
          287.125,
          284.96666666666664,
          292.8611111111111,
          311.2638888888889,
          421.9,
          374.7638888888889,
          358.40277777777777,
          384.8333333333333,
          358.0416666666667,
          375.19444444444446,
          327.4111111111111,
          293.0833333333333,
          285.72222222222223,
          281.3611111111111,
          290.1666666666667,
          313.85555555555555,
          422.125,
          392.4861111111111,
          384.43055555555554,
          388.1222222222222,
          427.0,
          382.56666666666666,
          370.0833333333333,
          324.40277777777777,
          313.46666666666664,
          308.68055555555554,
          311.9583333333333,
          348.6333333333333,
          431.06944444444446,
          436.76666666666665,
          417.3611111111111,
          421.94444444444446,
          461.4583333333333,
          429.5888888888889,
          390.4861111111111,
          349.125,
          336.9555555555556,
          326.7638888888889,
          338.14444444444445,
          360.27777777777777,
          406.0
         ],
         "yaxis": "y"
        },
        {
         "hovertemplate": "dayofweek=3<br>date=%{x}<br>num_sold=%{y}<extra></extra>",
         "legendgroup": "3",
         "line": {
          "color": "#ab63fa",
          "dash": "solid"
         },
         "marker": {
          "symbol": "circle"
         },
         "mode": "lines",
         "name": "3",
         "orientation": "v",
         "showlegend": true,
         "type": "scatter",
         "x": [
          "2015-01-31T00:00:00",
          "2015-02-28T00:00:00",
          "2015-03-31T00:00:00",
          "2015-04-30T00:00:00",
          "2015-05-31T00:00:00",
          "2015-06-30T00:00:00",
          "2015-07-31T00:00:00",
          "2015-08-31T00:00:00",
          "2015-09-30T00:00:00",
          "2015-10-31T00:00:00",
          "2015-11-30T00:00:00",
          "2015-12-31T00:00:00",
          "2016-01-31T00:00:00",
          "2016-02-29T00:00:00",
          "2016-03-31T00:00:00",
          "2016-04-30T00:00:00",
          "2016-05-31T00:00:00",
          "2016-06-30T00:00:00",
          "2016-07-31T00:00:00",
          "2016-08-31T00:00:00",
          "2016-09-30T00:00:00",
          "2016-10-31T00:00:00",
          "2016-11-30T00:00:00",
          "2016-12-31T00:00:00",
          "2017-01-31T00:00:00",
          "2017-02-28T00:00:00",
          "2017-03-31T00:00:00",
          "2017-04-30T00:00:00",
          "2017-05-31T00:00:00",
          "2017-06-30T00:00:00",
          "2017-07-31T00:00:00",
          "2017-08-31T00:00:00",
          "2017-09-30T00:00:00",
          "2017-10-31T00:00:00",
          "2017-11-30T00:00:00",
          "2017-12-31T00:00:00",
          "2018-01-31T00:00:00",
          "2018-02-28T00:00:00",
          "2018-03-31T00:00:00",
          "2018-04-30T00:00:00",
          "2018-05-31T00:00:00",
          "2018-06-30T00:00:00",
          "2018-07-31T00:00:00",
          "2018-08-31T00:00:00",
          "2018-09-30T00:00:00",
          "2018-10-31T00:00:00",
          "2018-11-30T00:00:00",
          "2018-12-31T00:00:00"
         ],
         "xaxis": "x",
         "y": [
          399.8333333333333,
          360.25,
          362.27777777777777,
          389.3777777777778,
          377.80555555555554,
          336.875,
          304.9,
          285.0,
          283.3333333333333,
          287.96666666666664,
          313.5,
          400.47777777777776,
          364.6111111111111,
          352.5,
          391.53333333333336,
          355.59722222222223,
          377.2083333333333,
          330.81111111111113,
          296.30555555555554,
          285.25,
          281.3777777777778,
          293.0416666666667,
          314.43055555555554,
          427.34444444444443,
          399.27777777777777,
          384.0416666666667,
          389.6111111111111,
          425.84722222222223,
          381.0138888888889,
          376.1,
          322.34722222222223,
          315.3888888888889,
          310.6388888888889,
          315.02777777777777,
          348.9111111111111,
          476.22222222222223,
          432.875,
          416.6388888888889,
          420.9888888888889,
          455.90277777777777,
          431.93333333333334,
          389.4861111111111,
          351.4861111111111,
          336.2,
          330.55555555555554,
          336.56944444444446,
          358.76666666666665,
          444.81944444444446
         ],
         "yaxis": "y"
        },
        {
         "hovertemplate": "dayofweek=4<br>date=%{x}<br>num_sold=%{y}<extra></extra>",
         "legendgroup": "4",
         "line": {
          "color": "#FFA15A",
          "dash": "solid"
         },
         "marker": {
          "symbol": "circle"
         },
         "mode": "lines",
         "name": "4",
         "orientation": "v",
         "showlegend": true,
         "type": "scatter",
         "x": [
          "2015-01-31T00:00:00",
          "2015-02-28T00:00:00",
          "2015-03-31T00:00:00",
          "2015-04-30T00:00:00",
          "2015-05-31T00:00:00",
          "2015-06-30T00:00:00",
          "2015-07-31T00:00:00",
          "2015-08-31T00:00:00",
          "2015-09-30T00:00:00",
          "2015-10-31T00:00:00",
          "2015-11-30T00:00:00",
          "2015-12-31T00:00:00",
          "2016-01-31T00:00:00",
          "2016-02-29T00:00:00",
          "2016-03-31T00:00:00",
          "2016-04-30T00:00:00",
          "2016-05-31T00:00:00",
          "2016-06-30T00:00:00",
          "2016-07-31T00:00:00",
          "2016-08-31T00:00:00",
          "2016-09-30T00:00:00",
          "2016-10-31T00:00:00",
          "2016-11-30T00:00:00",
          "2016-12-31T00:00:00",
          "2017-01-31T00:00:00",
          "2017-02-28T00:00:00",
          "2017-03-31T00:00:00",
          "2017-04-30T00:00:00",
          "2017-05-31T00:00:00",
          "2017-06-30T00:00:00",
          "2017-07-31T00:00:00",
          "2017-08-31T00:00:00",
          "2017-09-30T00:00:00",
          "2017-10-31T00:00:00",
          "2017-11-30T00:00:00",
          "2017-12-31T00:00:00",
          "2018-01-31T00:00:00",
          "2018-02-28T00:00:00",
          "2018-03-31T00:00:00",
          "2018-04-30T00:00:00",
          "2018-05-31T00:00:00",
          "2018-06-30T00:00:00",
          "2018-07-31T00:00:00",
          "2018-08-31T00:00:00",
          "2018-09-30T00:00:00",
          "2018-10-31T00:00:00",
          "2018-11-30T00:00:00",
          "2018-12-31T00:00:00"
         ],
         "xaxis": "x",
         "y": [
          403.56666666666666,
          377.0,
          382.6388888888889,
          414.15277777777777,
          388.03333333333336,
          349.8611111111111,
          317.35555555555555,
          297.56944444444446,
          294.27777777777777,
          300.68888888888887,
          327.06944444444446,
          354.8611111111111,
          434.3777777777778,
          375.8888888888889,
          382.3333333333333,
          404.26666666666665,
          398.69444444444446,
          343.81944444444446,
          322.02222222222224,
          300.02777777777777,
          296.94444444444446,
          310.22222222222223,
          329.65277777777777,
          447.31111111111113,
          411.72222222222223,
          401.1111111111111,
          407.2111111111111,
          445.375,
          408.69444444444446,
          383.3333333333333,
          346.75,
          329.93055555555554,
          324.4555555555556,
          331.22222222222223,
          364.31944444444446,
          491.35555555555555,
          458.4583333333333,
          437.875,
          442.03333333333336,
          477.81944444444446,
          467.4861111111111,
          405.3,
          368.80555555555554,
          353.8333333333333,
          346.9583333333333,
          354.22222222222223,
          379.0888888888889,
          508.4583333333333
         ],
         "yaxis": "y"
        },
        {
         "hovertemplate": "dayofweek=5<br>date=%{x}<br>num_sold=%{y}<extra></extra>",
         "legendgroup": "5",
         "line": {
          "color": "#19d3f3",
          "dash": "solid"
         },
         "marker": {
          "symbol": "circle"
         },
         "mode": "lines",
         "name": "5",
         "orientation": "v",
         "showlegend": true,
         "type": "scatter",
         "x": [
          "2015-01-31T00:00:00",
          "2015-02-28T00:00:00",
          "2015-03-31T00:00:00",
          "2015-04-30T00:00:00",
          "2015-05-31T00:00:00",
          "2015-06-30T00:00:00",
          "2015-07-31T00:00:00",
          "2015-08-31T00:00:00",
          "2015-09-30T00:00:00",
          "2015-10-31T00:00:00",
          "2015-11-30T00:00:00",
          "2015-12-31T00:00:00",
          "2016-01-31T00:00:00",
          "2016-02-29T00:00:00",
          "2016-03-31T00:00:00",
          "2016-04-30T00:00:00",
          "2016-05-31T00:00:00",
          "2016-06-30T00:00:00",
          "2016-07-31T00:00:00",
          "2016-08-31T00:00:00",
          "2016-09-30T00:00:00",
          "2016-10-31T00:00:00",
          "2016-11-30T00:00:00",
          "2016-12-31T00:00:00",
          "2017-01-31T00:00:00",
          "2017-02-28T00:00:00",
          "2017-03-31T00:00:00",
          "2017-04-30T00:00:00",
          "2017-05-31T00:00:00",
          "2017-06-30T00:00:00",
          "2017-07-31T00:00:00",
          "2017-08-31T00:00:00",
          "2017-09-30T00:00:00",
          "2017-10-31T00:00:00",
          "2017-11-30T00:00:00",
          "2017-12-31T00:00:00",
          "2018-01-31T00:00:00",
          "2018-02-28T00:00:00",
          "2018-03-31T00:00:00",
          "2018-04-30T00:00:00",
          "2018-05-31T00:00:00",
          "2018-06-30T00:00:00",
          "2018-07-31T00:00:00",
          "2018-08-31T00:00:00",
          "2018-09-30T00:00:00",
          "2018-10-31T00:00:00",
          "2018-11-30T00:00:00",
          "2018-12-31T00:00:00"
         ],
         "xaxis": "x",
         "y": [
          471.06666666666666,
          448.7916666666667,
          459.4583333333333,
          491.84722222222223,
          461.96666666666664,
          411.59722222222223,
          377.5416666666667,
          357.56666666666666,
          351.44444444444446,
          361.47777777777776,
          387.1111111111111,
          442.84722222222223,
          488.3777777777778,
          441.3611111111111,
          456.77777777777777,
          474.4,
          460.0833333333333,
          404.34722222222223,
          375.18888888888887,
          358.77777777777777,
          352.9166666666667,
          365.6777777777778,
          394.0138888888889,
          511.7,
          483.2083333333333,
          487.375,
          485.0138888888889,
          512.1777777777778,
          485.9166666666667,
          463.34722222222223,
          414.5444444444444,
          396.4583333333333,
          383.2111111111111,
          399.5138888888889,
          428.1666666666667,
          592.1222222222223,
          539.5833333333334,
          521.0277777777778,
          537.5111111111111,
          564.8333333333334,
          553.9861111111111,
          480.55555555555554,
          428.93055555555554,
          424.9166666666667,
          410.9222222222222,
          425.55555555555554,
          437.9583333333333,
          612.2222222222222
         ],
         "yaxis": "y"
        },
        {
         "hovertemplate": "dayofweek=6<br>date=%{x}<br>num_sold=%{y}<extra></extra>",
         "legendgroup": "6",
         "line": {
          "color": "#FF6692",
          "dash": "solid"
         },
         "marker": {
          "symbol": "circle"
         },
         "mode": "lines",
         "name": "6",
         "orientation": "v",
         "showlegend": true,
         "type": "scatter",
         "x": [
          "2015-01-31T00:00:00",
          "2015-02-28T00:00:00",
          "2015-03-31T00:00:00",
          "2015-04-30T00:00:00",
          "2015-05-31T00:00:00",
          "2015-06-30T00:00:00",
          "2015-07-31T00:00:00",
          "2015-08-31T00:00:00",
          "2015-09-30T00:00:00",
          "2015-10-31T00:00:00",
          "2015-11-30T00:00:00",
          "2015-12-31T00:00:00",
          "2016-01-31T00:00:00",
          "2016-02-29T00:00:00",
          "2016-03-31T00:00:00",
          "2016-04-30T00:00:00",
          "2016-05-31T00:00:00",
          "2016-06-30T00:00:00",
          "2016-07-31T00:00:00",
          "2016-08-31T00:00:00",
          "2016-09-30T00:00:00",
          "2016-10-31T00:00:00",
          "2016-11-30T00:00:00",
          "2016-12-31T00:00:00",
          "2017-01-31T00:00:00",
          "2017-02-28T00:00:00",
          "2017-03-31T00:00:00",
          "2017-04-30T00:00:00",
          "2017-05-31T00:00:00",
          "2017-06-30T00:00:00",
          "2017-07-31T00:00:00",
          "2017-08-31T00:00:00",
          "2017-09-30T00:00:00",
          "2017-10-31T00:00:00",
          "2017-11-30T00:00:00",
          "2017-12-31T00:00:00",
          "2018-01-31T00:00:00",
          "2018-02-28T00:00:00",
          "2018-03-31T00:00:00",
          "2018-04-30T00:00:00",
          "2018-05-31T00:00:00",
          "2018-06-30T00:00:00",
          "2018-07-31T00:00:00",
          "2018-08-31T00:00:00",
          "2018-09-30T00:00:00",
          "2018-10-31T00:00:00",
          "2018-11-30T00:00:00",
          "2018-12-31T00:00:00"
         ],
         "xaxis": "x",
         "y": [
          475.4861111111111,
          446.81944444444446,
          460.9111111111111,
          481.4583333333333,
          464.05555555555554,
          409.77777777777777,
          376.59722222222223,
          353.9111111111111,
          354.9583333333333,
          359.9861111111111,
          385.4111111111111,
          484.34722222222223,
          473.9888888888889,
          453.55555555555554,
          466.72222222222223,
          473.875,
          458.8777777777778,
          407.90277777777777,
          375.1333333333333,
          356.2638888888889,
          345.8611111111111,
          361.8888888888889,
          390.0138888888889,
          422.9166666666667,
          530.2888888888889,
          481.7361111111111,
          483.09722222222223,
          511.52222222222224,
          492.8611111111111,
          457.7916666666667,
          416.9222222222222,
          388.7638888888889,
          387.77777777777777,
          396.5,
          430.31944444444446,
          561.9777777777778,
          531.625,
          519.7222222222222,
          523.6388888888889,
          553.5444444444445,
          556.0833333333334,
          482.5416666666667,
          437.85555555555555,
          418.3611111111111,
          412.84444444444443,
          427.52777777777777,
          444.02777777777777,
          612.8888888888889
         ],
         "yaxis": "y"
        }
       ],
       "layout": {
        "legend": {
         "title": {
          "text": "dayofweek"
         },
         "tracegroupgap": 0
        },
        "margin": {
         "t": 60
        },
        "template": {
         "data": {
          "bar": [
           {
            "error_x": {
             "color": "#2a3f5f"
            },
            "error_y": {
             "color": "#2a3f5f"
            },
            "marker": {
             "line": {
              "color": "#E5ECF6",
              "width": 0.5
             },
             "pattern": {
              "fillmode": "overlay",
              "size": 10,
              "solidity": 0.2
             }
            },
            "type": "bar"
           }
          ],
          "barpolar": [
           {
            "marker": {
             "line": {
              "color": "#E5ECF6",
              "width": 0.5
             },
             "pattern": {
              "fillmode": "overlay",
              "size": 10,
              "solidity": 0.2
             }
            },
            "type": "barpolar"
           }
          ],
          "carpet": [
           {
            "aaxis": {
             "endlinecolor": "#2a3f5f",
             "gridcolor": "white",
             "linecolor": "white",
             "minorgridcolor": "white",
             "startlinecolor": "#2a3f5f"
            },
            "baxis": {
             "endlinecolor": "#2a3f5f",
             "gridcolor": "white",
             "linecolor": "white",
             "minorgridcolor": "white",
             "startlinecolor": "#2a3f5f"
            },
            "type": "carpet"
           }
          ],
          "choropleth": [
           {
            "colorbar": {
             "outlinewidth": 0,
             "ticks": ""
            },
            "type": "choropleth"
           }
          ],
          "contour": [
           {
            "colorbar": {
             "outlinewidth": 0,
             "ticks": ""
            },
            "colorscale": [
             [
              0.0,
              "#0d0887"
             ],
             [
              0.1111111111111111,
              "#46039f"
             ],
             [
              0.2222222222222222,
              "#7201a8"
             ],
             [
              0.3333333333333333,
              "#9c179e"
             ],
             [
              0.4444444444444444,
              "#bd3786"
             ],
             [
              0.5555555555555556,
              "#d8576b"
             ],
             [
              0.6666666666666666,
              "#ed7953"
             ],
             [
              0.7777777777777778,
              "#fb9f3a"
             ],
             [
              0.8888888888888888,
              "#fdca26"
             ],
             [
              1.0,
              "#f0f921"
             ]
            ],
            "type": "contour"
           }
          ],
          "contourcarpet": [
           {
            "colorbar": {
             "outlinewidth": 0,
             "ticks": ""
            },
            "type": "contourcarpet"
           }
          ],
          "heatmap": [
           {
            "colorbar": {
             "outlinewidth": 0,
             "ticks": ""
            },
            "colorscale": [
             [
              0.0,
              "#0d0887"
             ],
             [
              0.1111111111111111,
              "#46039f"
             ],
             [
              0.2222222222222222,
              "#7201a8"
             ],
             [
              0.3333333333333333,
              "#9c179e"
             ],
             [
              0.4444444444444444,
              "#bd3786"
             ],
             [
              0.5555555555555556,
              "#d8576b"
             ],
             [
              0.6666666666666666,
              "#ed7953"
             ],
             [
              0.7777777777777778,
              "#fb9f3a"
             ],
             [
              0.8888888888888888,
              "#fdca26"
             ],
             [
              1.0,
              "#f0f921"
             ]
            ],
            "type": "heatmap"
           }
          ],
          "heatmapgl": [
           {
            "colorbar": {
             "outlinewidth": 0,
             "ticks": ""
            },
            "colorscale": [
             [
              0.0,
              "#0d0887"
             ],
             [
              0.1111111111111111,
              "#46039f"
             ],
             [
              0.2222222222222222,
              "#7201a8"
             ],
             [
              0.3333333333333333,
              "#9c179e"
             ],
             [
              0.4444444444444444,
              "#bd3786"
             ],
             [
              0.5555555555555556,
              "#d8576b"
             ],
             [
              0.6666666666666666,
              "#ed7953"
             ],
             [
              0.7777777777777778,
              "#fb9f3a"
             ],
             [
              0.8888888888888888,
              "#fdca26"
             ],
             [
              1.0,
              "#f0f921"
             ]
            ],
            "type": "heatmapgl"
           }
          ],
          "histogram": [
           {
            "marker": {
             "pattern": {
              "fillmode": "overlay",
              "size": 10,
              "solidity": 0.2
             }
            },
            "type": "histogram"
           }
          ],
          "histogram2d": [
           {
            "colorbar": {
             "outlinewidth": 0,
             "ticks": ""
            },
            "colorscale": [
             [
              0.0,
              "#0d0887"
             ],
             [
              0.1111111111111111,
              "#46039f"
             ],
             [
              0.2222222222222222,
              "#7201a8"
             ],
             [
              0.3333333333333333,
              "#9c179e"
             ],
             [
              0.4444444444444444,
              "#bd3786"
             ],
             [
              0.5555555555555556,
              "#d8576b"
             ],
             [
              0.6666666666666666,
              "#ed7953"
             ],
             [
              0.7777777777777778,
              "#fb9f3a"
             ],
             [
              0.8888888888888888,
              "#fdca26"
             ],
             [
              1.0,
              "#f0f921"
             ]
            ],
            "type": "histogram2d"
           }
          ],
          "histogram2dcontour": [
           {
            "colorbar": {
             "outlinewidth": 0,
             "ticks": ""
            },
            "colorscale": [
             [
              0.0,
              "#0d0887"
             ],
             [
              0.1111111111111111,
              "#46039f"
             ],
             [
              0.2222222222222222,
              "#7201a8"
             ],
             [
              0.3333333333333333,
              "#9c179e"
             ],
             [
              0.4444444444444444,
              "#bd3786"
             ],
             [
              0.5555555555555556,
              "#d8576b"
             ],
             [
              0.6666666666666666,
              "#ed7953"
             ],
             [
              0.7777777777777778,
              "#fb9f3a"
             ],
             [
              0.8888888888888888,
              "#fdca26"
             ],
             [
              1.0,
              "#f0f921"
             ]
            ],
            "type": "histogram2dcontour"
           }
          ],
          "mesh3d": [
           {
            "colorbar": {
             "outlinewidth": 0,
             "ticks": ""
            },
            "type": "mesh3d"
           }
          ],
          "parcoords": [
           {
            "line": {
             "colorbar": {
              "outlinewidth": 0,
              "ticks": ""
             }
            },
            "type": "parcoords"
           }
          ],
          "pie": [
           {
            "automargin": true,
            "type": "pie"
           }
          ],
          "scatter": [
           {
            "marker": {
             "colorbar": {
              "outlinewidth": 0,
              "ticks": ""
             }
            },
            "type": "scatter"
           }
          ],
          "scatter3d": [
           {
            "line": {
             "colorbar": {
              "outlinewidth": 0,
              "ticks": ""
             }
            },
            "marker": {
             "colorbar": {
              "outlinewidth": 0,
              "ticks": ""
             }
            },
            "type": "scatter3d"
           }
          ],
          "scattercarpet": [
           {
            "marker": {
             "colorbar": {
              "outlinewidth": 0,
              "ticks": ""
             }
            },
            "type": "scattercarpet"
           }
          ],
          "scattergeo": [
           {
            "marker": {
             "colorbar": {
              "outlinewidth": 0,
              "ticks": ""
             }
            },
            "type": "scattergeo"
           }
          ],
          "scattergl": [
           {
            "marker": {
             "colorbar": {
              "outlinewidth": 0,
              "ticks": ""
             }
            },
            "type": "scattergl"
           }
          ],
          "scattermapbox": [
           {
            "marker": {
             "colorbar": {
              "outlinewidth": 0,
              "ticks": ""
             }
            },
            "type": "scattermapbox"
           }
          ],
          "scatterpolar": [
           {
            "marker": {
             "colorbar": {
              "outlinewidth": 0,
              "ticks": ""
             }
            },
            "type": "scatterpolar"
           }
          ],
          "scatterpolargl": [
           {
            "marker": {
             "colorbar": {
              "outlinewidth": 0,
              "ticks": ""
             }
            },
            "type": "scatterpolargl"
           }
          ],
          "scatterternary": [
           {
            "marker": {
             "colorbar": {
              "outlinewidth": 0,
              "ticks": ""
             }
            },
            "type": "scatterternary"
           }
          ],
          "surface": [
           {
            "colorbar": {
             "outlinewidth": 0,
             "ticks": ""
            },
            "colorscale": [
             [
              0.0,
              "#0d0887"
             ],
             [
              0.1111111111111111,
              "#46039f"
             ],
             [
              0.2222222222222222,
              "#7201a8"
             ],
             [
              0.3333333333333333,
              "#9c179e"
             ],
             [
              0.4444444444444444,
              "#bd3786"
             ],
             [
              0.5555555555555556,
              "#d8576b"
             ],
             [
              0.6666666666666666,
              "#ed7953"
             ],
             [
              0.7777777777777778,
              "#fb9f3a"
             ],
             [
              0.8888888888888888,
              "#fdca26"
             ],
             [
              1.0,
              "#f0f921"
             ]
            ],
            "type": "surface"
           }
          ],
          "table": [
           {
            "cells": {
             "fill": {
              "color": "#EBF0F8"
             },
             "line": {
              "color": "white"
             }
            },
            "header": {
             "fill": {
              "color": "#C8D4E3"
             },
             "line": {
              "color": "white"
             }
            },
            "type": "table"
           }
          ]
         },
         "layout": {
          "annotationdefaults": {
           "arrowcolor": "#2a3f5f",
           "arrowhead": 0,
           "arrowwidth": 1
          },
          "autotypenumbers": "strict",
          "coloraxis": {
           "colorbar": {
            "outlinewidth": 0,
            "ticks": ""
           }
          },
          "colorscale": {
           "diverging": [
            [
             0,
             "#8e0152"
            ],
            [
             0.1,
             "#c51b7d"
            ],
            [
             0.2,
             "#de77ae"
            ],
            [
             0.3,
             "#f1b6da"
            ],
            [
             0.4,
             "#fde0ef"
            ],
            [
             0.5,
             "#f7f7f7"
            ],
            [
             0.6,
             "#e6f5d0"
            ],
            [
             0.7,
             "#b8e186"
            ],
            [
             0.8,
             "#7fbc41"
            ],
            [
             0.9,
             "#4d9221"
            ],
            [
             1,
             "#276419"
            ]
           ],
           "sequential": [
            [
             0.0,
             "#0d0887"
            ],
            [
             0.1111111111111111,
             "#46039f"
            ],
            [
             0.2222222222222222,
             "#7201a8"
            ],
            [
             0.3333333333333333,
             "#9c179e"
            ],
            [
             0.4444444444444444,
             "#bd3786"
            ],
            [
             0.5555555555555556,
             "#d8576b"
            ],
            [
             0.6666666666666666,
             "#ed7953"
            ],
            [
             0.7777777777777778,
             "#fb9f3a"
            ],
            [
             0.8888888888888888,
             "#fdca26"
            ],
            [
             1.0,
             "#f0f921"
            ]
           ],
           "sequentialminus": [
            [
             0.0,
             "#0d0887"
            ],
            [
             0.1111111111111111,
             "#46039f"
            ],
            [
             0.2222222222222222,
             "#7201a8"
            ],
            [
             0.3333333333333333,
             "#9c179e"
            ],
            [
             0.4444444444444444,
             "#bd3786"
            ],
            [
             0.5555555555555556,
             "#d8576b"
            ],
            [
             0.6666666666666666,
             "#ed7953"
            ],
            [
             0.7777777777777778,
             "#fb9f3a"
            ],
            [
             0.8888888888888888,
             "#fdca26"
            ],
            [
             1.0,
             "#f0f921"
            ]
           ]
          },
          "colorway": [
           "#636efa",
           "#EF553B",
           "#00cc96",
           "#ab63fa",
           "#FFA15A",
           "#19d3f3",
           "#FF6692",
           "#B6E880",
           "#FF97FF",
           "#FECB52"
          ],
          "font": {
           "color": "#2a3f5f"
          },
          "geo": {
           "bgcolor": "white",
           "lakecolor": "white",
           "landcolor": "#E5ECF6",
           "showlakes": true,
           "showland": true,
           "subunitcolor": "white"
          },
          "hoverlabel": {
           "align": "left"
          },
          "hovermode": "closest",
          "mapbox": {
           "style": "light"
          },
          "paper_bgcolor": "white",
          "plot_bgcolor": "#E5ECF6",
          "polar": {
           "angularaxis": {
            "gridcolor": "white",
            "linecolor": "white",
            "ticks": ""
           },
           "bgcolor": "#E5ECF6",
           "radialaxis": {
            "gridcolor": "white",
            "linecolor": "white",
            "ticks": ""
           }
          },
          "scene": {
           "xaxis": {
            "backgroundcolor": "#E5ECF6",
            "gridcolor": "white",
            "gridwidth": 2,
            "linecolor": "white",
            "showbackground": true,
            "ticks": "",
            "zerolinecolor": "white"
           },
           "yaxis": {
            "backgroundcolor": "#E5ECF6",
            "gridcolor": "white",
            "gridwidth": 2,
            "linecolor": "white",
            "showbackground": true,
            "ticks": "",
            "zerolinecolor": "white"
           },
           "zaxis": {
            "backgroundcolor": "#E5ECF6",
            "gridcolor": "white",
            "gridwidth": 2,
            "linecolor": "white",
            "showbackground": true,
            "ticks": "",
            "zerolinecolor": "white"
           }
          },
          "shapedefaults": {
           "line": {
            "color": "#2a3f5f"
           }
          },
          "ternary": {
           "aaxis": {
            "gridcolor": "white",
            "linecolor": "white",
            "ticks": ""
           },
           "baxis": {
            "gridcolor": "white",
            "linecolor": "white",
            "ticks": ""
           },
           "bgcolor": "#E5ECF6",
           "caxis": {
            "gridcolor": "white",
            "linecolor": "white",
            "ticks": ""
           }
          },
          "title": {
           "x": 0.05
          },
          "xaxis": {
           "automargin": true,
           "gridcolor": "white",
           "linecolor": "white",
           "ticks": "",
           "title": {
            "standoff": 15
           },
           "zerolinecolor": "white",
           "zerolinewidth": 2
          },
          "yaxis": {
           "automargin": true,
           "gridcolor": "white",
           "linecolor": "white",
           "ticks": "",
           "title": {
            "standoff": 15
           },
           "zerolinecolor": "white",
           "zerolinewidth": 2
          }
         }
        },
        "xaxis": {
         "anchor": "y",
         "domain": [
          0.0,
          1.0
         ],
         "title": {
          "text": "date"
         }
        },
        "yaxis": {
         "anchor": "x",
         "domain": [
          0.0,
          1.0
         ],
         "title": {
          "text": "num_sold"
         }
        }
       }
      },
      "text/html": [
       "<div>                            <div id=\"214797aa-acdc-4b9e-9075-5153abfcacc2\" class=\"plotly-graph-div\" style=\"height:525px; width:100%;\"></div>            <script type=\"text/javascript\">                require([\"plotly\"], function(Plotly) {                    window.PLOTLYENV=window.PLOTLYENV || {};                                    if (document.getElementById(\"214797aa-acdc-4b9e-9075-5153abfcacc2\")) {                    Plotly.newPlot(                        \"214797aa-acdc-4b9e-9075-5153abfcacc2\",                        [{\"hovertemplate\":\"dayofweek=0<br>date=%{x}<br>num_sold=%{y}<extra></extra>\",\"legendgroup\":\"0\",\"line\":{\"color\":\"#636efa\",\"dash\":\"solid\"},\"marker\":{\"symbol\":\"circle\"},\"mode\":\"lines\",\"name\":\"0\",\"orientation\":\"v\",\"showlegend\":true,\"x\":[\"2015-01-31T00:00:00\",\"2015-02-28T00:00:00\",\"2015-03-31T00:00:00\",\"2015-04-30T00:00:00\",\"2015-05-31T00:00:00\",\"2015-06-30T00:00:00\",\"2015-07-31T00:00:00\",\"2015-08-31T00:00:00\",\"2015-09-30T00:00:00\",\"2015-10-31T00:00:00\",\"2015-11-30T00:00:00\",\"2015-12-31T00:00:00\",\"2016-01-31T00:00:00\",\"2016-02-29T00:00:00\",\"2016-03-31T00:00:00\",\"2016-04-30T00:00:00\",\"2016-05-31T00:00:00\",\"2016-06-30T00:00:00\",\"2016-07-31T00:00:00\",\"2016-08-31T00:00:00\",\"2016-09-30T00:00:00\",\"2016-10-31T00:00:00\",\"2016-11-30T00:00:00\",\"2016-12-31T00:00:00\",\"2017-01-31T00:00:00\",\"2017-02-28T00:00:00\",\"2017-03-31T00:00:00\",\"2017-04-30T00:00:00\",\"2017-05-31T00:00:00\",\"2017-06-30T00:00:00\",\"2017-07-31T00:00:00\",\"2017-08-31T00:00:00\",\"2017-09-30T00:00:00\",\"2017-10-31T00:00:00\",\"2017-11-30T00:00:00\",\"2017-12-31T00:00:00\",\"2018-01-31T00:00:00\",\"2018-02-28T00:00:00\",\"2018-03-31T00:00:00\",\"2018-04-30T00:00:00\",\"2018-05-31T00:00:00\",\"2018-06-30T00:00:00\",\"2018-07-31T00:00:00\",\"2018-08-31T00:00:00\",\"2018-09-30T00:00:00\",\"2018-10-31T00:00:00\",\"2018-11-30T00:00:00\",\"2018-12-31T00:00:00\"],\"xaxis\":\"x\",\"y\":[366.27777777777777,361.40277777777777,367.9,381.4166666666667,373.44444444444446,333.24444444444447,299.4166666666667,283.47777777777776,284.3888888888889,289.77777777777777,310.24444444444447,417.4861111111111,375.8333333333333,358.6777777777778,381.1388888888889,365.05555555555554,363.23333333333335,329.6666666666667,300.2361111111111,284.4555555555556,282.1666666666667,293.47777777777776,312.9166666666667,360.52777777777777,401.7,384.2083333333333,386.6388888888889,418.0416666666667,387.5111111111111,361.55555555555554,329.14444444444445,312.6111111111111,309.875,314.6666666666667,348.6666666666667,377.30555555555554,473.8666666666667,418.0138888888889,426.22222222222223,445.4111111111111,442.6111111111111,386.9583333333333,346.25555555555553,333.69444444444446,331.375,335.7,360.81944444444446,466.7],\"yaxis\":\"y\",\"type\":\"scatter\"},{\"hovertemplate\":\"dayofweek=1<br>date=%{x}<br>num_sold=%{y}<extra></extra>\",\"legendgroup\":\"1\",\"line\":{\"color\":\"#EF553B\",\"dash\":\"solid\"},\"marker\":{\"symbol\":\"circle\"},\"mode\":\"lines\",\"name\":\"1\",\"orientation\":\"v\",\"showlegend\":true,\"x\":[\"2015-01-31T00:00:00\",\"2015-02-28T00:00:00\",\"2015-03-31T00:00:00\",\"2015-04-30T00:00:00\",\"2015-05-31T00:00:00\",\"2015-06-30T00:00:00\",\"2015-07-31T00:00:00\",\"2015-08-31T00:00:00\",\"2015-09-30T00:00:00\",\"2015-10-31T00:00:00\",\"2015-11-30T00:00:00\",\"2015-12-31T00:00:00\",\"2016-01-31T00:00:00\",\"2016-02-29T00:00:00\",\"2016-03-31T00:00:00\",\"2016-04-30T00:00:00\",\"2016-05-31T00:00:00\",\"2016-06-30T00:00:00\",\"2016-07-31T00:00:00\",\"2016-08-31T00:00:00\",\"2016-09-30T00:00:00\",\"2016-10-31T00:00:00\",\"2016-11-30T00:00:00\",\"2016-12-31T00:00:00\",\"2017-01-31T00:00:00\",\"2017-02-28T00:00:00\",\"2017-03-31T00:00:00\",\"2017-04-30T00:00:00\",\"2017-05-31T00:00:00\",\"2017-06-30T00:00:00\",\"2017-07-31T00:00:00\",\"2017-08-31T00:00:00\",\"2017-09-30T00:00:00\",\"2017-10-31T00:00:00\",\"2017-11-30T00:00:00\",\"2017-12-31T00:00:00\",\"2018-01-31T00:00:00\",\"2018-02-28T00:00:00\",\"2018-03-31T00:00:00\",\"2018-04-30T00:00:00\",\"2018-05-31T00:00:00\",\"2018-06-30T00:00:00\",\"2018-07-31T00:00:00\",\"2018-08-31T00:00:00\",\"2018-09-30T00:00:00\",\"2018-10-31T00:00:00\",\"2018-11-30T00:00:00\",\"2018-12-31T00:00:00\"],\"xaxis\":\"x\",\"y\":[362.6666666666667,359.875,366.6777777777778,388.1666666666667,375.05555555555554,332.0888888888889,297.7916666666667,285.77777777777777,282.3333333333333,291.125,304.5138888888889,419.85555555555555,375.8611111111111,360.05555555555554,381.26666666666665,362.97222222222223,358.8666666666667,328.69444444444446,299.1388888888889,285.4111111111111,285.06944444444446,292.40277777777777,313.1,385.625,390.3333333333333,386.0138888888889,388.5,420.6388888888889,388.02222222222224,370.1388888888889,326.69444444444446,313.0111111111111,309.90277777777777,313.4111111111111,350.47222222222223,397.02777777777777,445.5777777777778,419.1388888888889,429.6666666666667,457.56944444444446,440.34444444444443,392.4583333333333,347.1777777777778,335.18055555555554,328.94444444444446,336.4888888888889,357.75,391.4166666666667],\"yaxis\":\"y\",\"type\":\"scatter\"},{\"hovertemplate\":\"dayofweek=2<br>date=%{x}<br>num_sold=%{y}<extra></extra>\",\"legendgroup\":\"2\",\"line\":{\"color\":\"#00cc96\",\"dash\":\"solid\"},\"marker\":{\"symbol\":\"circle\"},\"mode\":\"lines\",\"name\":\"2\",\"orientation\":\"v\",\"showlegend\":true,\"x\":[\"2015-01-31T00:00:00\",\"2015-02-28T00:00:00\",\"2015-03-31T00:00:00\",\"2015-04-30T00:00:00\",\"2015-05-31T00:00:00\",\"2015-06-30T00:00:00\",\"2015-07-31T00:00:00\",\"2015-08-31T00:00:00\",\"2015-09-30T00:00:00\",\"2015-10-31T00:00:00\",\"2015-11-30T00:00:00\",\"2015-12-31T00:00:00\",\"2016-01-31T00:00:00\",\"2016-02-29T00:00:00\",\"2016-03-31T00:00:00\",\"2016-04-30T00:00:00\",\"2016-05-31T00:00:00\",\"2016-06-30T00:00:00\",\"2016-07-31T00:00:00\",\"2016-08-31T00:00:00\",\"2016-09-30T00:00:00\",\"2016-10-31T00:00:00\",\"2016-11-30T00:00:00\",\"2016-12-31T00:00:00\",\"2017-01-31T00:00:00\",\"2017-02-28T00:00:00\",\"2017-03-31T00:00:00\",\"2017-04-30T00:00:00\",\"2017-05-31T00:00:00\",\"2017-06-30T00:00:00\",\"2017-07-31T00:00:00\",\"2017-08-31T00:00:00\",\"2017-09-30T00:00:00\",\"2017-10-31T00:00:00\",\"2017-11-30T00:00:00\",\"2017-12-31T00:00:00\",\"2018-01-31T00:00:00\",\"2018-02-28T00:00:00\",\"2018-03-31T00:00:00\",\"2018-04-30T00:00:00\",\"2018-05-31T00:00:00\",\"2018-06-30T00:00:00\",\"2018-07-31T00:00:00\",\"2018-08-31T00:00:00\",\"2018-09-30T00:00:00\",\"2018-10-31T00:00:00\",\"2018-11-30T00:00:00\",\"2018-12-31T00:00:00\"],\"xaxis\":\"x\",\"y\":[353.27777777777777,362.09722222222223,361.2083333333333,380.3,383.2916666666667,339.6388888888889,303.6333333333333,287.125,284.96666666666664,292.8611111111111,311.2638888888889,421.9,374.7638888888889,358.40277777777777,384.8333333333333,358.0416666666667,375.19444444444446,327.4111111111111,293.0833333333333,285.72222222222223,281.3611111111111,290.1666666666667,313.85555555555555,422.125,392.4861111111111,384.43055555555554,388.1222222222222,427.0,382.56666666666666,370.0833333333333,324.40277777777777,313.46666666666664,308.68055555555554,311.9583333333333,348.6333333333333,431.06944444444446,436.76666666666665,417.3611111111111,421.94444444444446,461.4583333333333,429.5888888888889,390.4861111111111,349.125,336.9555555555556,326.7638888888889,338.14444444444445,360.27777777777777,406.0],\"yaxis\":\"y\",\"type\":\"scatter\"},{\"hovertemplate\":\"dayofweek=3<br>date=%{x}<br>num_sold=%{y}<extra></extra>\",\"legendgroup\":\"3\",\"line\":{\"color\":\"#ab63fa\",\"dash\":\"solid\"},\"marker\":{\"symbol\":\"circle\"},\"mode\":\"lines\",\"name\":\"3\",\"orientation\":\"v\",\"showlegend\":true,\"x\":[\"2015-01-31T00:00:00\",\"2015-02-28T00:00:00\",\"2015-03-31T00:00:00\",\"2015-04-30T00:00:00\",\"2015-05-31T00:00:00\",\"2015-06-30T00:00:00\",\"2015-07-31T00:00:00\",\"2015-08-31T00:00:00\",\"2015-09-30T00:00:00\",\"2015-10-31T00:00:00\",\"2015-11-30T00:00:00\",\"2015-12-31T00:00:00\",\"2016-01-31T00:00:00\",\"2016-02-29T00:00:00\",\"2016-03-31T00:00:00\",\"2016-04-30T00:00:00\",\"2016-05-31T00:00:00\",\"2016-06-30T00:00:00\",\"2016-07-31T00:00:00\",\"2016-08-31T00:00:00\",\"2016-09-30T00:00:00\",\"2016-10-31T00:00:00\",\"2016-11-30T00:00:00\",\"2016-12-31T00:00:00\",\"2017-01-31T00:00:00\",\"2017-02-28T00:00:00\",\"2017-03-31T00:00:00\",\"2017-04-30T00:00:00\",\"2017-05-31T00:00:00\",\"2017-06-30T00:00:00\",\"2017-07-31T00:00:00\",\"2017-08-31T00:00:00\",\"2017-09-30T00:00:00\",\"2017-10-31T00:00:00\",\"2017-11-30T00:00:00\",\"2017-12-31T00:00:00\",\"2018-01-31T00:00:00\",\"2018-02-28T00:00:00\",\"2018-03-31T00:00:00\",\"2018-04-30T00:00:00\",\"2018-05-31T00:00:00\",\"2018-06-30T00:00:00\",\"2018-07-31T00:00:00\",\"2018-08-31T00:00:00\",\"2018-09-30T00:00:00\",\"2018-10-31T00:00:00\",\"2018-11-30T00:00:00\",\"2018-12-31T00:00:00\"],\"xaxis\":\"x\",\"y\":[399.8333333333333,360.25,362.27777777777777,389.3777777777778,377.80555555555554,336.875,304.9,285.0,283.3333333333333,287.96666666666664,313.5,400.47777777777776,364.6111111111111,352.5,391.53333333333336,355.59722222222223,377.2083333333333,330.81111111111113,296.30555555555554,285.25,281.3777777777778,293.0416666666667,314.43055555555554,427.34444444444443,399.27777777777777,384.0416666666667,389.6111111111111,425.84722222222223,381.0138888888889,376.1,322.34722222222223,315.3888888888889,310.6388888888889,315.02777777777777,348.9111111111111,476.22222222222223,432.875,416.6388888888889,420.9888888888889,455.90277777777777,431.93333333333334,389.4861111111111,351.4861111111111,336.2,330.55555555555554,336.56944444444446,358.76666666666665,444.81944444444446],\"yaxis\":\"y\",\"type\":\"scatter\"},{\"hovertemplate\":\"dayofweek=4<br>date=%{x}<br>num_sold=%{y}<extra></extra>\",\"legendgroup\":\"4\",\"line\":{\"color\":\"#FFA15A\",\"dash\":\"solid\"},\"marker\":{\"symbol\":\"circle\"},\"mode\":\"lines\",\"name\":\"4\",\"orientation\":\"v\",\"showlegend\":true,\"x\":[\"2015-01-31T00:00:00\",\"2015-02-28T00:00:00\",\"2015-03-31T00:00:00\",\"2015-04-30T00:00:00\",\"2015-05-31T00:00:00\",\"2015-06-30T00:00:00\",\"2015-07-31T00:00:00\",\"2015-08-31T00:00:00\",\"2015-09-30T00:00:00\",\"2015-10-31T00:00:00\",\"2015-11-30T00:00:00\",\"2015-12-31T00:00:00\",\"2016-01-31T00:00:00\",\"2016-02-29T00:00:00\",\"2016-03-31T00:00:00\",\"2016-04-30T00:00:00\",\"2016-05-31T00:00:00\",\"2016-06-30T00:00:00\",\"2016-07-31T00:00:00\",\"2016-08-31T00:00:00\",\"2016-09-30T00:00:00\",\"2016-10-31T00:00:00\",\"2016-11-30T00:00:00\",\"2016-12-31T00:00:00\",\"2017-01-31T00:00:00\",\"2017-02-28T00:00:00\",\"2017-03-31T00:00:00\",\"2017-04-30T00:00:00\",\"2017-05-31T00:00:00\",\"2017-06-30T00:00:00\",\"2017-07-31T00:00:00\",\"2017-08-31T00:00:00\",\"2017-09-30T00:00:00\",\"2017-10-31T00:00:00\",\"2017-11-30T00:00:00\",\"2017-12-31T00:00:00\",\"2018-01-31T00:00:00\",\"2018-02-28T00:00:00\",\"2018-03-31T00:00:00\",\"2018-04-30T00:00:00\",\"2018-05-31T00:00:00\",\"2018-06-30T00:00:00\",\"2018-07-31T00:00:00\",\"2018-08-31T00:00:00\",\"2018-09-30T00:00:00\",\"2018-10-31T00:00:00\",\"2018-11-30T00:00:00\",\"2018-12-31T00:00:00\"],\"xaxis\":\"x\",\"y\":[403.56666666666666,377.0,382.6388888888889,414.15277777777777,388.03333333333336,349.8611111111111,317.35555555555555,297.56944444444446,294.27777777777777,300.68888888888887,327.06944444444446,354.8611111111111,434.3777777777778,375.8888888888889,382.3333333333333,404.26666666666665,398.69444444444446,343.81944444444446,322.02222222222224,300.02777777777777,296.94444444444446,310.22222222222223,329.65277777777777,447.31111111111113,411.72222222222223,401.1111111111111,407.2111111111111,445.375,408.69444444444446,383.3333333333333,346.75,329.93055555555554,324.4555555555556,331.22222222222223,364.31944444444446,491.35555555555555,458.4583333333333,437.875,442.03333333333336,477.81944444444446,467.4861111111111,405.3,368.80555555555554,353.8333333333333,346.9583333333333,354.22222222222223,379.0888888888889,508.4583333333333],\"yaxis\":\"y\",\"type\":\"scatter\"},{\"hovertemplate\":\"dayofweek=5<br>date=%{x}<br>num_sold=%{y}<extra></extra>\",\"legendgroup\":\"5\",\"line\":{\"color\":\"#19d3f3\",\"dash\":\"solid\"},\"marker\":{\"symbol\":\"circle\"},\"mode\":\"lines\",\"name\":\"5\",\"orientation\":\"v\",\"showlegend\":true,\"x\":[\"2015-01-31T00:00:00\",\"2015-02-28T00:00:00\",\"2015-03-31T00:00:00\",\"2015-04-30T00:00:00\",\"2015-05-31T00:00:00\",\"2015-06-30T00:00:00\",\"2015-07-31T00:00:00\",\"2015-08-31T00:00:00\",\"2015-09-30T00:00:00\",\"2015-10-31T00:00:00\",\"2015-11-30T00:00:00\",\"2015-12-31T00:00:00\",\"2016-01-31T00:00:00\",\"2016-02-29T00:00:00\",\"2016-03-31T00:00:00\",\"2016-04-30T00:00:00\",\"2016-05-31T00:00:00\",\"2016-06-30T00:00:00\",\"2016-07-31T00:00:00\",\"2016-08-31T00:00:00\",\"2016-09-30T00:00:00\",\"2016-10-31T00:00:00\",\"2016-11-30T00:00:00\",\"2016-12-31T00:00:00\",\"2017-01-31T00:00:00\",\"2017-02-28T00:00:00\",\"2017-03-31T00:00:00\",\"2017-04-30T00:00:00\",\"2017-05-31T00:00:00\",\"2017-06-30T00:00:00\",\"2017-07-31T00:00:00\",\"2017-08-31T00:00:00\",\"2017-09-30T00:00:00\",\"2017-10-31T00:00:00\",\"2017-11-30T00:00:00\",\"2017-12-31T00:00:00\",\"2018-01-31T00:00:00\",\"2018-02-28T00:00:00\",\"2018-03-31T00:00:00\",\"2018-04-30T00:00:00\",\"2018-05-31T00:00:00\",\"2018-06-30T00:00:00\",\"2018-07-31T00:00:00\",\"2018-08-31T00:00:00\",\"2018-09-30T00:00:00\",\"2018-10-31T00:00:00\",\"2018-11-30T00:00:00\",\"2018-12-31T00:00:00\"],\"xaxis\":\"x\",\"y\":[471.06666666666666,448.7916666666667,459.4583333333333,491.84722222222223,461.96666666666664,411.59722222222223,377.5416666666667,357.56666666666666,351.44444444444446,361.47777777777776,387.1111111111111,442.84722222222223,488.3777777777778,441.3611111111111,456.77777777777777,474.4,460.0833333333333,404.34722222222223,375.18888888888887,358.77777777777777,352.9166666666667,365.6777777777778,394.0138888888889,511.7,483.2083333333333,487.375,485.0138888888889,512.1777777777778,485.9166666666667,463.34722222222223,414.5444444444444,396.4583333333333,383.2111111111111,399.5138888888889,428.1666666666667,592.1222222222223,539.5833333333334,521.0277777777778,537.5111111111111,564.8333333333334,553.9861111111111,480.55555555555554,428.93055555555554,424.9166666666667,410.9222222222222,425.55555555555554,437.9583333333333,612.2222222222222],\"yaxis\":\"y\",\"type\":\"scatter\"},{\"hovertemplate\":\"dayofweek=6<br>date=%{x}<br>num_sold=%{y}<extra></extra>\",\"legendgroup\":\"6\",\"line\":{\"color\":\"#FF6692\",\"dash\":\"solid\"},\"marker\":{\"symbol\":\"circle\"},\"mode\":\"lines\",\"name\":\"6\",\"orientation\":\"v\",\"showlegend\":true,\"x\":[\"2015-01-31T00:00:00\",\"2015-02-28T00:00:00\",\"2015-03-31T00:00:00\",\"2015-04-30T00:00:00\",\"2015-05-31T00:00:00\",\"2015-06-30T00:00:00\",\"2015-07-31T00:00:00\",\"2015-08-31T00:00:00\",\"2015-09-30T00:00:00\",\"2015-10-31T00:00:00\",\"2015-11-30T00:00:00\",\"2015-12-31T00:00:00\",\"2016-01-31T00:00:00\",\"2016-02-29T00:00:00\",\"2016-03-31T00:00:00\",\"2016-04-30T00:00:00\",\"2016-05-31T00:00:00\",\"2016-06-30T00:00:00\",\"2016-07-31T00:00:00\",\"2016-08-31T00:00:00\",\"2016-09-30T00:00:00\",\"2016-10-31T00:00:00\",\"2016-11-30T00:00:00\",\"2016-12-31T00:00:00\",\"2017-01-31T00:00:00\",\"2017-02-28T00:00:00\",\"2017-03-31T00:00:00\",\"2017-04-30T00:00:00\",\"2017-05-31T00:00:00\",\"2017-06-30T00:00:00\",\"2017-07-31T00:00:00\",\"2017-08-31T00:00:00\",\"2017-09-30T00:00:00\",\"2017-10-31T00:00:00\",\"2017-11-30T00:00:00\",\"2017-12-31T00:00:00\",\"2018-01-31T00:00:00\",\"2018-02-28T00:00:00\",\"2018-03-31T00:00:00\",\"2018-04-30T00:00:00\",\"2018-05-31T00:00:00\",\"2018-06-30T00:00:00\",\"2018-07-31T00:00:00\",\"2018-08-31T00:00:00\",\"2018-09-30T00:00:00\",\"2018-10-31T00:00:00\",\"2018-11-30T00:00:00\",\"2018-12-31T00:00:00\"],\"xaxis\":\"x\",\"y\":[475.4861111111111,446.81944444444446,460.9111111111111,481.4583333333333,464.05555555555554,409.77777777777777,376.59722222222223,353.9111111111111,354.9583333333333,359.9861111111111,385.4111111111111,484.34722222222223,473.9888888888889,453.55555555555554,466.72222222222223,473.875,458.8777777777778,407.90277777777777,375.1333333333333,356.2638888888889,345.8611111111111,361.8888888888889,390.0138888888889,422.9166666666667,530.2888888888889,481.7361111111111,483.09722222222223,511.52222222222224,492.8611111111111,457.7916666666667,416.9222222222222,388.7638888888889,387.77777777777777,396.5,430.31944444444446,561.9777777777778,531.625,519.7222222222222,523.6388888888889,553.5444444444445,556.0833333333334,482.5416666666667,437.85555555555555,418.3611111111111,412.84444444444443,427.52777777777777,444.02777777777777,612.8888888888889],\"yaxis\":\"y\",\"type\":\"scatter\"}],                        {\"template\":{\"data\":{\"bar\":[{\"error_x\":{\"color\":\"#2a3f5f\"},\"error_y\":{\"color\":\"#2a3f5f\"},\"marker\":{\"line\":{\"color\":\"#E5ECF6\",\"width\":0.5},\"pattern\":{\"fillmode\":\"overlay\",\"size\":10,\"solidity\":0.2}},\"type\":\"bar\"}],\"barpolar\":[{\"marker\":{\"line\":{\"color\":\"#E5ECF6\",\"width\":0.5},\"pattern\":{\"fillmode\":\"overlay\",\"size\":10,\"solidity\":0.2}},\"type\":\"barpolar\"}],\"carpet\":[{\"aaxis\":{\"endlinecolor\":\"#2a3f5f\",\"gridcolor\":\"white\",\"linecolor\":\"white\",\"minorgridcolor\":\"white\",\"startlinecolor\":\"#2a3f5f\"},\"baxis\":{\"endlinecolor\":\"#2a3f5f\",\"gridcolor\":\"white\",\"linecolor\":\"white\",\"minorgridcolor\":\"white\",\"startlinecolor\":\"#2a3f5f\"},\"type\":\"carpet\"}],\"choropleth\":[{\"colorbar\":{\"outlinewidth\":0,\"ticks\":\"\"},\"type\":\"choropleth\"}],\"contour\":[{\"colorbar\":{\"outlinewidth\":0,\"ticks\":\"\"},\"colorscale\":[[0.0,\"#0d0887\"],[0.1111111111111111,\"#46039f\"],[0.2222222222222222,\"#7201a8\"],[0.3333333333333333,\"#9c179e\"],[0.4444444444444444,\"#bd3786\"],[0.5555555555555556,\"#d8576b\"],[0.6666666666666666,\"#ed7953\"],[0.7777777777777778,\"#fb9f3a\"],[0.8888888888888888,\"#fdca26\"],[1.0,\"#f0f921\"]],\"type\":\"contour\"}],\"contourcarpet\":[{\"colorbar\":{\"outlinewidth\":0,\"ticks\":\"\"},\"type\":\"contourcarpet\"}],\"heatmap\":[{\"colorbar\":{\"outlinewidth\":0,\"ticks\":\"\"},\"colorscale\":[[0.0,\"#0d0887\"],[0.1111111111111111,\"#46039f\"],[0.2222222222222222,\"#7201a8\"],[0.3333333333333333,\"#9c179e\"],[0.4444444444444444,\"#bd3786\"],[0.5555555555555556,\"#d8576b\"],[0.6666666666666666,\"#ed7953\"],[0.7777777777777778,\"#fb9f3a\"],[0.8888888888888888,\"#fdca26\"],[1.0,\"#f0f921\"]],\"type\":\"heatmap\"}],\"heatmapgl\":[{\"colorbar\":{\"outlinewidth\":0,\"ticks\":\"\"},\"colorscale\":[[0.0,\"#0d0887\"],[0.1111111111111111,\"#46039f\"],[0.2222222222222222,\"#7201a8\"],[0.3333333333333333,\"#9c179e\"],[0.4444444444444444,\"#bd3786\"],[0.5555555555555556,\"#d8576b\"],[0.6666666666666666,\"#ed7953\"],[0.7777777777777778,\"#fb9f3a\"],[0.8888888888888888,\"#fdca26\"],[1.0,\"#f0f921\"]],\"type\":\"heatmapgl\"}],\"histogram\":[{\"marker\":{\"pattern\":{\"fillmode\":\"overlay\",\"size\":10,\"solidity\":0.2}},\"type\":\"histogram\"}],\"histogram2d\":[{\"colorbar\":{\"outlinewidth\":0,\"ticks\":\"\"},\"colorscale\":[[0.0,\"#0d0887\"],[0.1111111111111111,\"#46039f\"],[0.2222222222222222,\"#7201a8\"],[0.3333333333333333,\"#9c179e\"],[0.4444444444444444,\"#bd3786\"],[0.5555555555555556,\"#d8576b\"],[0.6666666666666666,\"#ed7953\"],[0.7777777777777778,\"#fb9f3a\"],[0.8888888888888888,\"#fdca26\"],[1.0,\"#f0f921\"]],\"type\":\"histogram2d\"}],\"histogram2dcontour\":[{\"colorbar\":{\"outlinewidth\":0,\"ticks\":\"\"},\"colorscale\":[[0.0,\"#0d0887\"],[0.1111111111111111,\"#46039f\"],[0.2222222222222222,\"#7201a8\"],[0.3333333333333333,\"#9c179e\"],[0.4444444444444444,\"#bd3786\"],[0.5555555555555556,\"#d8576b\"],[0.6666666666666666,\"#ed7953\"],[0.7777777777777778,\"#fb9f3a\"],[0.8888888888888888,\"#fdca26\"],[1.0,\"#f0f921\"]],\"type\":\"histogram2dcontour\"}],\"mesh3d\":[{\"colorbar\":{\"outlinewidth\":0,\"ticks\":\"\"},\"type\":\"mesh3d\"}],\"parcoords\":[{\"line\":{\"colorbar\":{\"outlinewidth\":0,\"ticks\":\"\"}},\"type\":\"parcoords\"}],\"pie\":[{\"automargin\":true,\"type\":\"pie\"}],\"scatter\":[{\"marker\":{\"colorbar\":{\"outlinewidth\":0,\"ticks\":\"\"}},\"type\":\"scatter\"}],\"scatter3d\":[{\"line\":{\"colorbar\":{\"outlinewidth\":0,\"ticks\":\"\"}},\"marker\":{\"colorbar\":{\"outlinewidth\":0,\"ticks\":\"\"}},\"type\":\"scatter3d\"}],\"scattercarpet\":[{\"marker\":{\"colorbar\":{\"outlinewidth\":0,\"ticks\":\"\"}},\"type\":\"scattercarpet\"}],\"scattergeo\":[{\"marker\":{\"colorbar\":{\"outlinewidth\":0,\"ticks\":\"\"}},\"type\":\"scattergeo\"}],\"scattergl\":[{\"marker\":{\"colorbar\":{\"outlinewidth\":0,\"ticks\":\"\"}},\"type\":\"scattergl\"}],\"scattermapbox\":[{\"marker\":{\"colorbar\":{\"outlinewidth\":0,\"ticks\":\"\"}},\"type\":\"scattermapbox\"}],\"scatterpolar\":[{\"marker\":{\"colorbar\":{\"outlinewidth\":0,\"ticks\":\"\"}},\"type\":\"scatterpolar\"}],\"scatterpolargl\":[{\"marker\":{\"colorbar\":{\"outlinewidth\":0,\"ticks\":\"\"}},\"type\":\"scatterpolargl\"}],\"scatterternary\":[{\"marker\":{\"colorbar\":{\"outlinewidth\":0,\"ticks\":\"\"}},\"type\":\"scatterternary\"}],\"surface\":[{\"colorbar\":{\"outlinewidth\":0,\"ticks\":\"\"},\"colorscale\":[[0.0,\"#0d0887\"],[0.1111111111111111,\"#46039f\"],[0.2222222222222222,\"#7201a8\"],[0.3333333333333333,\"#9c179e\"],[0.4444444444444444,\"#bd3786\"],[0.5555555555555556,\"#d8576b\"],[0.6666666666666666,\"#ed7953\"],[0.7777777777777778,\"#fb9f3a\"],[0.8888888888888888,\"#fdca26\"],[1.0,\"#f0f921\"]],\"type\":\"surface\"}],\"table\":[{\"cells\":{\"fill\":{\"color\":\"#EBF0F8\"},\"line\":{\"color\":\"white\"}},\"header\":{\"fill\":{\"color\":\"#C8D4E3\"},\"line\":{\"color\":\"white\"}},\"type\":\"table\"}]},\"layout\":{\"annotationdefaults\":{\"arrowcolor\":\"#2a3f5f\",\"arrowhead\":0,\"arrowwidth\":1},\"autotypenumbers\":\"strict\",\"coloraxis\":{\"colorbar\":{\"outlinewidth\":0,\"ticks\":\"\"}},\"colorscale\":{\"diverging\":[[0,\"#8e0152\"],[0.1,\"#c51b7d\"],[0.2,\"#de77ae\"],[0.3,\"#f1b6da\"],[0.4,\"#fde0ef\"],[0.5,\"#f7f7f7\"],[0.6,\"#e6f5d0\"],[0.7,\"#b8e186\"],[0.8,\"#7fbc41\"],[0.9,\"#4d9221\"],[1,\"#276419\"]],\"sequential\":[[0.0,\"#0d0887\"],[0.1111111111111111,\"#46039f\"],[0.2222222222222222,\"#7201a8\"],[0.3333333333333333,\"#9c179e\"],[0.4444444444444444,\"#bd3786\"],[0.5555555555555556,\"#d8576b\"],[0.6666666666666666,\"#ed7953\"],[0.7777777777777778,\"#fb9f3a\"],[0.8888888888888888,\"#fdca26\"],[1.0,\"#f0f921\"]],\"sequentialminus\":[[0.0,\"#0d0887\"],[0.1111111111111111,\"#46039f\"],[0.2222222222222222,\"#7201a8\"],[0.3333333333333333,\"#9c179e\"],[0.4444444444444444,\"#bd3786\"],[0.5555555555555556,\"#d8576b\"],[0.6666666666666666,\"#ed7953\"],[0.7777777777777778,\"#fb9f3a\"],[0.8888888888888888,\"#fdca26\"],[1.0,\"#f0f921\"]]},\"colorway\":[\"#636efa\",\"#EF553B\",\"#00cc96\",\"#ab63fa\",\"#FFA15A\",\"#19d3f3\",\"#FF6692\",\"#B6E880\",\"#FF97FF\",\"#FECB52\"],\"font\":{\"color\":\"#2a3f5f\"},\"geo\":{\"bgcolor\":\"white\",\"lakecolor\":\"white\",\"landcolor\":\"#E5ECF6\",\"showlakes\":true,\"showland\":true,\"subunitcolor\":\"white\"},\"hoverlabel\":{\"align\":\"left\"},\"hovermode\":\"closest\",\"mapbox\":{\"style\":\"light\"},\"paper_bgcolor\":\"white\",\"plot_bgcolor\":\"#E5ECF6\",\"polar\":{\"angularaxis\":{\"gridcolor\":\"white\",\"linecolor\":\"white\",\"ticks\":\"\"},\"bgcolor\":\"#E5ECF6\",\"radialaxis\":{\"gridcolor\":\"white\",\"linecolor\":\"white\",\"ticks\":\"\"}},\"scene\":{\"xaxis\":{\"backgroundcolor\":\"#E5ECF6\",\"gridcolor\":\"white\",\"gridwidth\":2,\"linecolor\":\"white\",\"showbackground\":true,\"ticks\":\"\",\"zerolinecolor\":\"white\"},\"yaxis\":{\"backgroundcolor\":\"#E5ECF6\",\"gridcolor\":\"white\",\"gridwidth\":2,\"linecolor\":\"white\",\"showbackground\":true,\"ticks\":\"\",\"zerolinecolor\":\"white\"},\"zaxis\":{\"backgroundcolor\":\"#E5ECF6\",\"gridcolor\":\"white\",\"gridwidth\":2,\"linecolor\":\"white\",\"showbackground\":true,\"ticks\":\"\",\"zerolinecolor\":\"white\"}},\"shapedefaults\":{\"line\":{\"color\":\"#2a3f5f\"}},\"ternary\":{\"aaxis\":{\"gridcolor\":\"white\",\"linecolor\":\"white\",\"ticks\":\"\"},\"baxis\":{\"gridcolor\":\"white\",\"linecolor\":\"white\",\"ticks\":\"\"},\"bgcolor\":\"#E5ECF6\",\"caxis\":{\"gridcolor\":\"white\",\"linecolor\":\"white\",\"ticks\":\"\"}},\"title\":{\"x\":0.05},\"xaxis\":{\"automargin\":true,\"gridcolor\":\"white\",\"linecolor\":\"white\",\"ticks\":\"\",\"title\":{\"standoff\":15},\"zerolinecolor\":\"white\",\"zerolinewidth\":2},\"yaxis\":{\"automargin\":true,\"gridcolor\":\"white\",\"linecolor\":\"white\",\"ticks\":\"\",\"title\":{\"standoff\":15},\"zerolinecolor\":\"white\",\"zerolinewidth\":2}}},\"xaxis\":{\"anchor\":\"y\",\"domain\":[0.0,1.0],\"title\":{\"text\":\"date\"}},\"yaxis\":{\"anchor\":\"x\",\"domain\":[0.0,1.0],\"title\":{\"text\":\"num_sold\"}},\"legend\":{\"title\":{\"text\":\"dayofweek\"},\"tracegroupgap\":0},\"margin\":{\"t\":60}},                        {\"responsive\": true}                    ).then(function(){\n",
       "                            \n",
       "var gd = document.getElementById('214797aa-acdc-4b9e-9075-5153abfcacc2');\n",
       "var x = new MutationObserver(function (mutations, observer) {{\n",
       "        var display = window.getComputedStyle(gd).display;\n",
       "        if (!display || display === 'none') {{\n",
       "            console.log([gd, 'removed!']);\n",
       "            Plotly.purge(gd);\n",
       "            observer.disconnect();\n",
       "        }}\n",
       "}});\n",
       "\n",
       "// Listen for the removal of the full notebook cells\n",
       "var notebookContainer = gd.closest('#notebook-container');\n",
       "if (notebookContainer) {{\n",
       "    x.observe(notebookContainer, {childList: true});\n",
       "}}\n",
       "\n",
       "// Listen for the clearing of the current output cell\n",
       "var outputEl = gd.closest('.output');\n",
       "if (outputEl) {{\n",
       "    x.observe(outputEl, {childList: true});\n",
       "}}\n",
       "\n",
       "                        })                };                });            </script>        </div>"
      ]
     },
     "metadata": {},
     "output_type": "display_data"
    }
   ],
   "source": [
    "train_dayofweek = train.set_index('date').groupby([pd.Grouper(freq='M'),'dayofweek'])[['num_sold']].mean().reset_index()\n",
    "a = px.line(data_frame=train_dayofweek,x='date',y='num_sold',color='dayofweek')\n",
    "a.show()"
   ]
  },
  {
   "cell_type": "code",
   "execution_count": 18,
   "id": "58f0c9b0",
   "metadata": {
    "execution": {
     "iopub.execute_input": "2022-01-09T06:56:59.854437Z",
     "iopub.status.busy": "2022-01-09T06:56:59.853689Z",
     "iopub.status.idle": "2022-01-09T06:56:59.945653Z",
     "shell.execute_reply": "2022-01-09T06:56:59.946196Z",
     "shell.execute_reply.started": "2022-01-09T06:49:35.094803Z"
    },
    "papermill": {
     "duration": 0.157617,
     "end_time": "2022-01-09T06:56:59.946394",
     "exception": false,
     "start_time": "2022-01-09T06:56:59.788777",
     "status": "completed"
    },
    "tags": []
   },
   "outputs": [
    {
     "data": {
      "application/vnd.plotly.v1+json": {
       "config": {
        "plotlyServerURL": "https://plot.ly"
       },
       "data": [
        {
         "hovertemplate": "weekend=False<br>date=%{x}<br>num_sold=%{y}<extra></extra>",
         "legendgroup": "False",
         "line": {
          "color": "#636efa",
          "dash": "solid"
         },
         "marker": {
          "symbol": "circle"
         },
         "mode": "lines",
         "name": "False",
         "orientation": "v",
         "showlegend": true,
         "type": "scatter",
         "x": [
          "2015-01-31T00:00:00",
          "2015-02-28T00:00:00",
          "2015-03-31T00:00:00",
          "2015-04-30T00:00:00",
          "2015-05-31T00:00:00",
          "2015-06-30T00:00:00",
          "2015-07-31T00:00:00",
          "2015-08-31T00:00:00",
          "2015-09-30T00:00:00",
          "2015-10-31T00:00:00",
          "2015-11-30T00:00:00",
          "2015-12-31T00:00:00",
          "2016-01-31T00:00:00",
          "2016-02-29T00:00:00",
          "2016-03-31T00:00:00",
          "2016-04-30T00:00:00",
          "2016-05-31T00:00:00",
          "2016-06-30T00:00:00",
          "2016-07-31T00:00:00",
          "2016-08-31T00:00:00",
          "2016-09-30T00:00:00",
          "2016-10-31T00:00:00",
          "2016-11-30T00:00:00",
          "2016-12-31T00:00:00",
          "2017-01-31T00:00:00",
          "2017-02-28T00:00:00",
          "2017-03-31T00:00:00",
          "2017-04-30T00:00:00",
          "2017-05-31T00:00:00",
          "2017-06-30T00:00:00",
          "2017-07-31T00:00:00",
          "2017-08-31T00:00:00",
          "2017-09-30T00:00:00",
          "2017-10-31T00:00:00",
          "2017-11-30T00:00:00",
          "2017-12-31T00:00:00",
          "2018-01-31T00:00:00",
          "2018-02-28T00:00:00",
          "2018-03-31T00:00:00",
          "2018-04-30T00:00:00",
          "2018-05-31T00:00:00",
          "2018-06-30T00:00:00",
          "2018-07-31T00:00:00",
          "2018-08-31T00:00:00",
          "2018-09-30T00:00:00",
          "2018-10-31T00:00:00",
          "2018-11-30T00:00:00",
          "2018-12-31T00:00:00"
         ],
         "xaxis": "x",
         "y": [
          372.23856209150324,
          360.90625,
          364.8240740740741,
          384.8179012345679,
          377.39930555555554,
          335.1512345679012,
          301.75,
          285.2352941176471,
          283.7438271604938,
          290.2875816993464,
          309.9019607843137,
          414.7953216374269,
          372.7673611111111,
          357.48366013071893,
          384.8801169590643,
          360.4166666666667,
          367.78395061728395,
          329.141975308642,
          297.19097222222223,
          285.2076023391813,
          282.4281045751634,
          292.34313725490193,
          313.56481481481484,
          400.578431372549,
          395.9567901234568,
          384.6736111111111,
          388.2901234567901,
          422.88194444444446,
          384.9766081871345,
          369.859477124183,
          325.8529411764706,
          313.67251461988303,
          309.77430555555554,
          313.7962962962963,
          349.12654320987656,
          420.40625,
          448.02923976608184,
          417.78819444444446,
          424.48692810457516,
          454.51633986928107,
          435.77777777777777,
          389.84722222222223,
          348.3117283950617,
          335.62654320987656,
          329.40972222222223,
          336.733918128655,
          359.36601307189545,
          429.55555555555554
         ],
         "yaxis": "y"
        },
        {
         "hovertemplate": "weekend=True<br>date=%{x}<br>num_sold=%{y}<extra></extra>",
         "legendgroup": "True",
         "line": {
          "color": "#EF553B",
          "dash": "solid"
         },
         "marker": {
          "symbol": "circle"
         },
         "mode": "lines",
         "name": "True",
         "orientation": "v",
         "showlegend": true,
         "type": "scatter",
         "x": [
          "2015-01-31T00:00:00",
          "2015-02-28T00:00:00",
          "2015-03-31T00:00:00",
          "2015-04-30T00:00:00",
          "2015-05-31T00:00:00",
          "2015-06-30T00:00:00",
          "2015-07-31T00:00:00",
          "2015-08-31T00:00:00",
          "2015-09-30T00:00:00",
          "2015-10-31T00:00:00",
          "2015-11-30T00:00:00",
          "2015-12-31T00:00:00",
          "2016-01-31T00:00:00",
          "2016-02-29T00:00:00",
          "2016-03-31T00:00:00",
          "2016-04-30T00:00:00",
          "2016-05-31T00:00:00",
          "2016-06-30T00:00:00",
          "2016-07-31T00:00:00",
          "2016-08-31T00:00:00",
          "2016-09-30T00:00:00",
          "2016-10-31T00:00:00",
          "2016-11-30T00:00:00",
          "2016-12-31T00:00:00",
          "2017-01-31T00:00:00",
          "2017-02-28T00:00:00",
          "2017-03-31T00:00:00",
          "2017-04-30T00:00:00",
          "2017-05-31T00:00:00",
          "2017-06-30T00:00:00",
          "2017-07-31T00:00:00",
          "2017-08-31T00:00:00",
          "2017-09-30T00:00:00",
          "2017-10-31T00:00:00",
          "2017-11-30T00:00:00",
          "2017-12-31T00:00:00",
          "2018-01-31T00:00:00",
          "2018-02-28T00:00:00",
          "2018-03-31T00:00:00",
          "2018-04-30T00:00:00",
          "2018-05-31T00:00:00",
          "2018-06-30T00:00:00",
          "2018-07-31T00:00:00",
          "2018-08-31T00:00:00",
          "2018-09-30T00:00:00",
          "2018-10-31T00:00:00",
          "2018-11-30T00:00:00",
          "2018-12-31T00:00:00"
         ],
         "xaxis": "x",
         "y": [
          448.22222222222223,
          424.2037037037037,
          436.38034188034186,
          462.4861111111111,
          438.01851851851853,
          390.412037037037,
          354.1025641025641,
          339.1190476190476,
          333.56018518518516,
          339.3412698412698,
          367.982905982906,
          427.35185185185185,
          465.5814814814815,
          423.60185185185185,
          435.27777777777777,
          449.20238095238096,
          440.7307692307692,
          385.35648148148147,
          357.44814814814816,
          338.35648148148147,
          329.21794871794873,
          348.48015873015873,
          371.22685185185185,
          463.33730158730157,
          479.3205128205128,
          456.74074074074076,
          454.5,
          492.85714285714283,
          462.49074074074076,
          430.86324786324786,
          396.0238095238095,
          371.7175925925926,
          363.531746031746,
          377.34188034188037,
          407.60185185185185,
          548.4851851851852,
          509.8888888888889,
          492.875,
          499.4484126984127,
          533.7179487179487,
          525.8518518518518,
          454.24603174603175,
          413.86324786324786,
          395.55982905982904,
          393.3333333333333,
          402.43518518518516,
          417.1837606837607,
          582.813492063492
         ],
         "yaxis": "y"
        }
       ],
       "layout": {
        "legend": {
         "title": {
          "text": "weekend"
         },
         "tracegroupgap": 0
        },
        "template": {
         "data": {
          "bar": [
           {
            "error_x": {
             "color": "#2a3f5f"
            },
            "error_y": {
             "color": "#2a3f5f"
            },
            "marker": {
             "line": {
              "color": "#E5ECF6",
              "width": 0.5
             },
             "pattern": {
              "fillmode": "overlay",
              "size": 10,
              "solidity": 0.2
             }
            },
            "type": "bar"
           }
          ],
          "barpolar": [
           {
            "marker": {
             "line": {
              "color": "#E5ECF6",
              "width": 0.5
             },
             "pattern": {
              "fillmode": "overlay",
              "size": 10,
              "solidity": 0.2
             }
            },
            "type": "barpolar"
           }
          ],
          "carpet": [
           {
            "aaxis": {
             "endlinecolor": "#2a3f5f",
             "gridcolor": "white",
             "linecolor": "white",
             "minorgridcolor": "white",
             "startlinecolor": "#2a3f5f"
            },
            "baxis": {
             "endlinecolor": "#2a3f5f",
             "gridcolor": "white",
             "linecolor": "white",
             "minorgridcolor": "white",
             "startlinecolor": "#2a3f5f"
            },
            "type": "carpet"
           }
          ],
          "choropleth": [
           {
            "colorbar": {
             "outlinewidth": 0,
             "ticks": ""
            },
            "type": "choropleth"
           }
          ],
          "contour": [
           {
            "colorbar": {
             "outlinewidth": 0,
             "ticks": ""
            },
            "colorscale": [
             [
              0.0,
              "#0d0887"
             ],
             [
              0.1111111111111111,
              "#46039f"
             ],
             [
              0.2222222222222222,
              "#7201a8"
             ],
             [
              0.3333333333333333,
              "#9c179e"
             ],
             [
              0.4444444444444444,
              "#bd3786"
             ],
             [
              0.5555555555555556,
              "#d8576b"
             ],
             [
              0.6666666666666666,
              "#ed7953"
             ],
             [
              0.7777777777777778,
              "#fb9f3a"
             ],
             [
              0.8888888888888888,
              "#fdca26"
             ],
             [
              1.0,
              "#f0f921"
             ]
            ],
            "type": "contour"
           }
          ],
          "contourcarpet": [
           {
            "colorbar": {
             "outlinewidth": 0,
             "ticks": ""
            },
            "type": "contourcarpet"
           }
          ],
          "heatmap": [
           {
            "colorbar": {
             "outlinewidth": 0,
             "ticks": ""
            },
            "colorscale": [
             [
              0.0,
              "#0d0887"
             ],
             [
              0.1111111111111111,
              "#46039f"
             ],
             [
              0.2222222222222222,
              "#7201a8"
             ],
             [
              0.3333333333333333,
              "#9c179e"
             ],
             [
              0.4444444444444444,
              "#bd3786"
             ],
             [
              0.5555555555555556,
              "#d8576b"
             ],
             [
              0.6666666666666666,
              "#ed7953"
             ],
             [
              0.7777777777777778,
              "#fb9f3a"
             ],
             [
              0.8888888888888888,
              "#fdca26"
             ],
             [
              1.0,
              "#f0f921"
             ]
            ],
            "type": "heatmap"
           }
          ],
          "heatmapgl": [
           {
            "colorbar": {
             "outlinewidth": 0,
             "ticks": ""
            },
            "colorscale": [
             [
              0.0,
              "#0d0887"
             ],
             [
              0.1111111111111111,
              "#46039f"
             ],
             [
              0.2222222222222222,
              "#7201a8"
             ],
             [
              0.3333333333333333,
              "#9c179e"
             ],
             [
              0.4444444444444444,
              "#bd3786"
             ],
             [
              0.5555555555555556,
              "#d8576b"
             ],
             [
              0.6666666666666666,
              "#ed7953"
             ],
             [
              0.7777777777777778,
              "#fb9f3a"
             ],
             [
              0.8888888888888888,
              "#fdca26"
             ],
             [
              1.0,
              "#f0f921"
             ]
            ],
            "type": "heatmapgl"
           }
          ],
          "histogram": [
           {
            "marker": {
             "pattern": {
              "fillmode": "overlay",
              "size": 10,
              "solidity": 0.2
             }
            },
            "type": "histogram"
           }
          ],
          "histogram2d": [
           {
            "colorbar": {
             "outlinewidth": 0,
             "ticks": ""
            },
            "colorscale": [
             [
              0.0,
              "#0d0887"
             ],
             [
              0.1111111111111111,
              "#46039f"
             ],
             [
              0.2222222222222222,
              "#7201a8"
             ],
             [
              0.3333333333333333,
              "#9c179e"
             ],
             [
              0.4444444444444444,
              "#bd3786"
             ],
             [
              0.5555555555555556,
              "#d8576b"
             ],
             [
              0.6666666666666666,
              "#ed7953"
             ],
             [
              0.7777777777777778,
              "#fb9f3a"
             ],
             [
              0.8888888888888888,
              "#fdca26"
             ],
             [
              1.0,
              "#f0f921"
             ]
            ],
            "type": "histogram2d"
           }
          ],
          "histogram2dcontour": [
           {
            "colorbar": {
             "outlinewidth": 0,
             "ticks": ""
            },
            "colorscale": [
             [
              0.0,
              "#0d0887"
             ],
             [
              0.1111111111111111,
              "#46039f"
             ],
             [
              0.2222222222222222,
              "#7201a8"
             ],
             [
              0.3333333333333333,
              "#9c179e"
             ],
             [
              0.4444444444444444,
              "#bd3786"
             ],
             [
              0.5555555555555556,
              "#d8576b"
             ],
             [
              0.6666666666666666,
              "#ed7953"
             ],
             [
              0.7777777777777778,
              "#fb9f3a"
             ],
             [
              0.8888888888888888,
              "#fdca26"
             ],
             [
              1.0,
              "#f0f921"
             ]
            ],
            "type": "histogram2dcontour"
           }
          ],
          "mesh3d": [
           {
            "colorbar": {
             "outlinewidth": 0,
             "ticks": ""
            },
            "type": "mesh3d"
           }
          ],
          "parcoords": [
           {
            "line": {
             "colorbar": {
              "outlinewidth": 0,
              "ticks": ""
             }
            },
            "type": "parcoords"
           }
          ],
          "pie": [
           {
            "automargin": true,
            "type": "pie"
           }
          ],
          "scatter": [
           {
            "marker": {
             "colorbar": {
              "outlinewidth": 0,
              "ticks": ""
             }
            },
            "type": "scatter"
           }
          ],
          "scatter3d": [
           {
            "line": {
             "colorbar": {
              "outlinewidth": 0,
              "ticks": ""
             }
            },
            "marker": {
             "colorbar": {
              "outlinewidth": 0,
              "ticks": ""
             }
            },
            "type": "scatter3d"
           }
          ],
          "scattercarpet": [
           {
            "marker": {
             "colorbar": {
              "outlinewidth": 0,
              "ticks": ""
             }
            },
            "type": "scattercarpet"
           }
          ],
          "scattergeo": [
           {
            "marker": {
             "colorbar": {
              "outlinewidth": 0,
              "ticks": ""
             }
            },
            "type": "scattergeo"
           }
          ],
          "scattergl": [
           {
            "marker": {
             "colorbar": {
              "outlinewidth": 0,
              "ticks": ""
             }
            },
            "type": "scattergl"
           }
          ],
          "scattermapbox": [
           {
            "marker": {
             "colorbar": {
              "outlinewidth": 0,
              "ticks": ""
             }
            },
            "type": "scattermapbox"
           }
          ],
          "scatterpolar": [
           {
            "marker": {
             "colorbar": {
              "outlinewidth": 0,
              "ticks": ""
             }
            },
            "type": "scatterpolar"
           }
          ],
          "scatterpolargl": [
           {
            "marker": {
             "colorbar": {
              "outlinewidth": 0,
              "ticks": ""
             }
            },
            "type": "scatterpolargl"
           }
          ],
          "scatterternary": [
           {
            "marker": {
             "colorbar": {
              "outlinewidth": 0,
              "ticks": ""
             }
            },
            "type": "scatterternary"
           }
          ],
          "surface": [
           {
            "colorbar": {
             "outlinewidth": 0,
             "ticks": ""
            },
            "colorscale": [
             [
              0.0,
              "#0d0887"
             ],
             [
              0.1111111111111111,
              "#46039f"
             ],
             [
              0.2222222222222222,
              "#7201a8"
             ],
             [
              0.3333333333333333,
              "#9c179e"
             ],
             [
              0.4444444444444444,
              "#bd3786"
             ],
             [
              0.5555555555555556,
              "#d8576b"
             ],
             [
              0.6666666666666666,
              "#ed7953"
             ],
             [
              0.7777777777777778,
              "#fb9f3a"
             ],
             [
              0.8888888888888888,
              "#fdca26"
             ],
             [
              1.0,
              "#f0f921"
             ]
            ],
            "type": "surface"
           }
          ],
          "table": [
           {
            "cells": {
             "fill": {
              "color": "#EBF0F8"
             },
             "line": {
              "color": "white"
             }
            },
            "header": {
             "fill": {
              "color": "#C8D4E3"
             },
             "line": {
              "color": "white"
             }
            },
            "type": "table"
           }
          ]
         },
         "layout": {
          "annotationdefaults": {
           "arrowcolor": "#2a3f5f",
           "arrowhead": 0,
           "arrowwidth": 1
          },
          "autotypenumbers": "strict",
          "coloraxis": {
           "colorbar": {
            "outlinewidth": 0,
            "ticks": ""
           }
          },
          "colorscale": {
           "diverging": [
            [
             0,
             "#8e0152"
            ],
            [
             0.1,
             "#c51b7d"
            ],
            [
             0.2,
             "#de77ae"
            ],
            [
             0.3,
             "#f1b6da"
            ],
            [
             0.4,
             "#fde0ef"
            ],
            [
             0.5,
             "#f7f7f7"
            ],
            [
             0.6,
             "#e6f5d0"
            ],
            [
             0.7,
             "#b8e186"
            ],
            [
             0.8,
             "#7fbc41"
            ],
            [
             0.9,
             "#4d9221"
            ],
            [
             1,
             "#276419"
            ]
           ],
           "sequential": [
            [
             0.0,
             "#0d0887"
            ],
            [
             0.1111111111111111,
             "#46039f"
            ],
            [
             0.2222222222222222,
             "#7201a8"
            ],
            [
             0.3333333333333333,
             "#9c179e"
            ],
            [
             0.4444444444444444,
             "#bd3786"
            ],
            [
             0.5555555555555556,
             "#d8576b"
            ],
            [
             0.6666666666666666,
             "#ed7953"
            ],
            [
             0.7777777777777778,
             "#fb9f3a"
            ],
            [
             0.8888888888888888,
             "#fdca26"
            ],
            [
             1.0,
             "#f0f921"
            ]
           ],
           "sequentialminus": [
            [
             0.0,
             "#0d0887"
            ],
            [
             0.1111111111111111,
             "#46039f"
            ],
            [
             0.2222222222222222,
             "#7201a8"
            ],
            [
             0.3333333333333333,
             "#9c179e"
            ],
            [
             0.4444444444444444,
             "#bd3786"
            ],
            [
             0.5555555555555556,
             "#d8576b"
            ],
            [
             0.6666666666666666,
             "#ed7953"
            ],
            [
             0.7777777777777778,
             "#fb9f3a"
            ],
            [
             0.8888888888888888,
             "#fdca26"
            ],
            [
             1.0,
             "#f0f921"
            ]
           ]
          },
          "colorway": [
           "#636efa",
           "#EF553B",
           "#00cc96",
           "#ab63fa",
           "#FFA15A",
           "#19d3f3",
           "#FF6692",
           "#B6E880",
           "#FF97FF",
           "#FECB52"
          ],
          "font": {
           "color": "#2a3f5f"
          },
          "geo": {
           "bgcolor": "white",
           "lakecolor": "white",
           "landcolor": "#E5ECF6",
           "showlakes": true,
           "showland": true,
           "subunitcolor": "white"
          },
          "hoverlabel": {
           "align": "left"
          },
          "hovermode": "closest",
          "mapbox": {
           "style": "light"
          },
          "paper_bgcolor": "white",
          "plot_bgcolor": "#E5ECF6",
          "polar": {
           "angularaxis": {
            "gridcolor": "white",
            "linecolor": "white",
            "ticks": ""
           },
           "bgcolor": "#E5ECF6",
           "radialaxis": {
            "gridcolor": "white",
            "linecolor": "white",
            "ticks": ""
           }
          },
          "scene": {
           "xaxis": {
            "backgroundcolor": "#E5ECF6",
            "gridcolor": "white",
            "gridwidth": 2,
            "linecolor": "white",
            "showbackground": true,
            "ticks": "",
            "zerolinecolor": "white"
           },
           "yaxis": {
            "backgroundcolor": "#E5ECF6",
            "gridcolor": "white",
            "gridwidth": 2,
            "linecolor": "white",
            "showbackground": true,
            "ticks": "",
            "zerolinecolor": "white"
           },
           "zaxis": {
            "backgroundcolor": "#E5ECF6",
            "gridcolor": "white",
            "gridwidth": 2,
            "linecolor": "white",
            "showbackground": true,
            "ticks": "",
            "zerolinecolor": "white"
           }
          },
          "shapedefaults": {
           "line": {
            "color": "#2a3f5f"
           }
          },
          "ternary": {
           "aaxis": {
            "gridcolor": "white",
            "linecolor": "white",
            "ticks": ""
           },
           "baxis": {
            "gridcolor": "white",
            "linecolor": "white",
            "ticks": ""
           },
           "bgcolor": "#E5ECF6",
           "caxis": {
            "gridcolor": "white",
            "linecolor": "white",
            "ticks": ""
           }
          },
          "title": {
           "x": 0.05
          },
          "xaxis": {
           "automargin": true,
           "gridcolor": "white",
           "linecolor": "white",
           "ticks": "",
           "title": {
            "standoff": 15
           },
           "zerolinecolor": "white",
           "zerolinewidth": 2
          },
          "yaxis": {
           "automargin": true,
           "gridcolor": "white",
           "linecolor": "white",
           "ticks": "",
           "title": {
            "standoff": 15
           },
           "zerolinecolor": "white",
           "zerolinewidth": 2
          }
         }
        },
        "title": {
         "text": "weekday vs weekend trend comparasion"
        },
        "xaxis": {
         "anchor": "y",
         "domain": [
          0.0,
          1.0
         ],
         "title": {
          "text": "date"
         }
        },
        "yaxis": {
         "anchor": "x",
         "domain": [
          0.0,
          1.0
         ],
         "title": {
          "text": "num_sold"
         }
        }
       }
      },
      "text/html": [
       "<div>                            <div id=\"a2492ccf-bcd3-4084-b86d-db3caf81adfa\" class=\"plotly-graph-div\" style=\"height:525px; width:100%;\"></div>            <script type=\"text/javascript\">                require([\"plotly\"], function(Plotly) {                    window.PLOTLYENV=window.PLOTLYENV || {};                                    if (document.getElementById(\"a2492ccf-bcd3-4084-b86d-db3caf81adfa\")) {                    Plotly.newPlot(                        \"a2492ccf-bcd3-4084-b86d-db3caf81adfa\",                        [{\"hovertemplate\":\"weekend=False<br>date=%{x}<br>num_sold=%{y}<extra></extra>\",\"legendgroup\":\"False\",\"line\":{\"color\":\"#636efa\",\"dash\":\"solid\"},\"marker\":{\"symbol\":\"circle\"},\"mode\":\"lines\",\"name\":\"False\",\"orientation\":\"v\",\"showlegend\":true,\"x\":[\"2015-01-31T00:00:00\",\"2015-02-28T00:00:00\",\"2015-03-31T00:00:00\",\"2015-04-30T00:00:00\",\"2015-05-31T00:00:00\",\"2015-06-30T00:00:00\",\"2015-07-31T00:00:00\",\"2015-08-31T00:00:00\",\"2015-09-30T00:00:00\",\"2015-10-31T00:00:00\",\"2015-11-30T00:00:00\",\"2015-12-31T00:00:00\",\"2016-01-31T00:00:00\",\"2016-02-29T00:00:00\",\"2016-03-31T00:00:00\",\"2016-04-30T00:00:00\",\"2016-05-31T00:00:00\",\"2016-06-30T00:00:00\",\"2016-07-31T00:00:00\",\"2016-08-31T00:00:00\",\"2016-09-30T00:00:00\",\"2016-10-31T00:00:00\",\"2016-11-30T00:00:00\",\"2016-12-31T00:00:00\",\"2017-01-31T00:00:00\",\"2017-02-28T00:00:00\",\"2017-03-31T00:00:00\",\"2017-04-30T00:00:00\",\"2017-05-31T00:00:00\",\"2017-06-30T00:00:00\",\"2017-07-31T00:00:00\",\"2017-08-31T00:00:00\",\"2017-09-30T00:00:00\",\"2017-10-31T00:00:00\",\"2017-11-30T00:00:00\",\"2017-12-31T00:00:00\",\"2018-01-31T00:00:00\",\"2018-02-28T00:00:00\",\"2018-03-31T00:00:00\",\"2018-04-30T00:00:00\",\"2018-05-31T00:00:00\",\"2018-06-30T00:00:00\",\"2018-07-31T00:00:00\",\"2018-08-31T00:00:00\",\"2018-09-30T00:00:00\",\"2018-10-31T00:00:00\",\"2018-11-30T00:00:00\",\"2018-12-31T00:00:00\"],\"xaxis\":\"x\",\"y\":[372.23856209150324,360.90625,364.8240740740741,384.8179012345679,377.39930555555554,335.1512345679012,301.75,285.2352941176471,283.7438271604938,290.2875816993464,309.9019607843137,414.7953216374269,372.7673611111111,357.48366013071893,384.8801169590643,360.4166666666667,367.78395061728395,329.141975308642,297.19097222222223,285.2076023391813,282.4281045751634,292.34313725490193,313.56481481481484,400.578431372549,395.9567901234568,384.6736111111111,388.2901234567901,422.88194444444446,384.9766081871345,369.859477124183,325.8529411764706,313.67251461988303,309.77430555555554,313.7962962962963,349.12654320987656,420.40625,448.02923976608184,417.78819444444446,424.48692810457516,454.51633986928107,435.77777777777777,389.84722222222223,348.3117283950617,335.62654320987656,329.40972222222223,336.733918128655,359.36601307189545,429.55555555555554],\"yaxis\":\"y\",\"type\":\"scatter\"},{\"hovertemplate\":\"weekend=True<br>date=%{x}<br>num_sold=%{y}<extra></extra>\",\"legendgroup\":\"True\",\"line\":{\"color\":\"#EF553B\",\"dash\":\"solid\"},\"marker\":{\"symbol\":\"circle\"},\"mode\":\"lines\",\"name\":\"True\",\"orientation\":\"v\",\"showlegend\":true,\"x\":[\"2015-01-31T00:00:00\",\"2015-02-28T00:00:00\",\"2015-03-31T00:00:00\",\"2015-04-30T00:00:00\",\"2015-05-31T00:00:00\",\"2015-06-30T00:00:00\",\"2015-07-31T00:00:00\",\"2015-08-31T00:00:00\",\"2015-09-30T00:00:00\",\"2015-10-31T00:00:00\",\"2015-11-30T00:00:00\",\"2015-12-31T00:00:00\",\"2016-01-31T00:00:00\",\"2016-02-29T00:00:00\",\"2016-03-31T00:00:00\",\"2016-04-30T00:00:00\",\"2016-05-31T00:00:00\",\"2016-06-30T00:00:00\",\"2016-07-31T00:00:00\",\"2016-08-31T00:00:00\",\"2016-09-30T00:00:00\",\"2016-10-31T00:00:00\",\"2016-11-30T00:00:00\",\"2016-12-31T00:00:00\",\"2017-01-31T00:00:00\",\"2017-02-28T00:00:00\",\"2017-03-31T00:00:00\",\"2017-04-30T00:00:00\",\"2017-05-31T00:00:00\",\"2017-06-30T00:00:00\",\"2017-07-31T00:00:00\",\"2017-08-31T00:00:00\",\"2017-09-30T00:00:00\",\"2017-10-31T00:00:00\",\"2017-11-30T00:00:00\",\"2017-12-31T00:00:00\",\"2018-01-31T00:00:00\",\"2018-02-28T00:00:00\",\"2018-03-31T00:00:00\",\"2018-04-30T00:00:00\",\"2018-05-31T00:00:00\",\"2018-06-30T00:00:00\",\"2018-07-31T00:00:00\",\"2018-08-31T00:00:00\",\"2018-09-30T00:00:00\",\"2018-10-31T00:00:00\",\"2018-11-30T00:00:00\",\"2018-12-31T00:00:00\"],\"xaxis\":\"x\",\"y\":[448.22222222222223,424.2037037037037,436.38034188034186,462.4861111111111,438.01851851851853,390.412037037037,354.1025641025641,339.1190476190476,333.56018518518516,339.3412698412698,367.982905982906,427.35185185185185,465.5814814814815,423.60185185185185,435.27777777777777,449.20238095238096,440.7307692307692,385.35648148148147,357.44814814814816,338.35648148148147,329.21794871794873,348.48015873015873,371.22685185185185,463.33730158730157,479.3205128205128,456.74074074074076,454.5,492.85714285714283,462.49074074074076,430.86324786324786,396.0238095238095,371.7175925925926,363.531746031746,377.34188034188037,407.60185185185185,548.4851851851852,509.8888888888889,492.875,499.4484126984127,533.7179487179487,525.8518518518518,454.24603174603175,413.86324786324786,395.55982905982904,393.3333333333333,402.43518518518516,417.1837606837607,582.813492063492],\"yaxis\":\"y\",\"type\":\"scatter\"}],                        {\"template\":{\"data\":{\"bar\":[{\"error_x\":{\"color\":\"#2a3f5f\"},\"error_y\":{\"color\":\"#2a3f5f\"},\"marker\":{\"line\":{\"color\":\"#E5ECF6\",\"width\":0.5},\"pattern\":{\"fillmode\":\"overlay\",\"size\":10,\"solidity\":0.2}},\"type\":\"bar\"}],\"barpolar\":[{\"marker\":{\"line\":{\"color\":\"#E5ECF6\",\"width\":0.5},\"pattern\":{\"fillmode\":\"overlay\",\"size\":10,\"solidity\":0.2}},\"type\":\"barpolar\"}],\"carpet\":[{\"aaxis\":{\"endlinecolor\":\"#2a3f5f\",\"gridcolor\":\"white\",\"linecolor\":\"white\",\"minorgridcolor\":\"white\",\"startlinecolor\":\"#2a3f5f\"},\"baxis\":{\"endlinecolor\":\"#2a3f5f\",\"gridcolor\":\"white\",\"linecolor\":\"white\",\"minorgridcolor\":\"white\",\"startlinecolor\":\"#2a3f5f\"},\"type\":\"carpet\"}],\"choropleth\":[{\"colorbar\":{\"outlinewidth\":0,\"ticks\":\"\"},\"type\":\"choropleth\"}],\"contour\":[{\"colorbar\":{\"outlinewidth\":0,\"ticks\":\"\"},\"colorscale\":[[0.0,\"#0d0887\"],[0.1111111111111111,\"#46039f\"],[0.2222222222222222,\"#7201a8\"],[0.3333333333333333,\"#9c179e\"],[0.4444444444444444,\"#bd3786\"],[0.5555555555555556,\"#d8576b\"],[0.6666666666666666,\"#ed7953\"],[0.7777777777777778,\"#fb9f3a\"],[0.8888888888888888,\"#fdca26\"],[1.0,\"#f0f921\"]],\"type\":\"contour\"}],\"contourcarpet\":[{\"colorbar\":{\"outlinewidth\":0,\"ticks\":\"\"},\"type\":\"contourcarpet\"}],\"heatmap\":[{\"colorbar\":{\"outlinewidth\":0,\"ticks\":\"\"},\"colorscale\":[[0.0,\"#0d0887\"],[0.1111111111111111,\"#46039f\"],[0.2222222222222222,\"#7201a8\"],[0.3333333333333333,\"#9c179e\"],[0.4444444444444444,\"#bd3786\"],[0.5555555555555556,\"#d8576b\"],[0.6666666666666666,\"#ed7953\"],[0.7777777777777778,\"#fb9f3a\"],[0.8888888888888888,\"#fdca26\"],[1.0,\"#f0f921\"]],\"type\":\"heatmap\"}],\"heatmapgl\":[{\"colorbar\":{\"outlinewidth\":0,\"ticks\":\"\"},\"colorscale\":[[0.0,\"#0d0887\"],[0.1111111111111111,\"#46039f\"],[0.2222222222222222,\"#7201a8\"],[0.3333333333333333,\"#9c179e\"],[0.4444444444444444,\"#bd3786\"],[0.5555555555555556,\"#d8576b\"],[0.6666666666666666,\"#ed7953\"],[0.7777777777777778,\"#fb9f3a\"],[0.8888888888888888,\"#fdca26\"],[1.0,\"#f0f921\"]],\"type\":\"heatmapgl\"}],\"histogram\":[{\"marker\":{\"pattern\":{\"fillmode\":\"overlay\",\"size\":10,\"solidity\":0.2}},\"type\":\"histogram\"}],\"histogram2d\":[{\"colorbar\":{\"outlinewidth\":0,\"ticks\":\"\"},\"colorscale\":[[0.0,\"#0d0887\"],[0.1111111111111111,\"#46039f\"],[0.2222222222222222,\"#7201a8\"],[0.3333333333333333,\"#9c179e\"],[0.4444444444444444,\"#bd3786\"],[0.5555555555555556,\"#d8576b\"],[0.6666666666666666,\"#ed7953\"],[0.7777777777777778,\"#fb9f3a\"],[0.8888888888888888,\"#fdca26\"],[1.0,\"#f0f921\"]],\"type\":\"histogram2d\"}],\"histogram2dcontour\":[{\"colorbar\":{\"outlinewidth\":0,\"ticks\":\"\"},\"colorscale\":[[0.0,\"#0d0887\"],[0.1111111111111111,\"#46039f\"],[0.2222222222222222,\"#7201a8\"],[0.3333333333333333,\"#9c179e\"],[0.4444444444444444,\"#bd3786\"],[0.5555555555555556,\"#d8576b\"],[0.6666666666666666,\"#ed7953\"],[0.7777777777777778,\"#fb9f3a\"],[0.8888888888888888,\"#fdca26\"],[1.0,\"#f0f921\"]],\"type\":\"histogram2dcontour\"}],\"mesh3d\":[{\"colorbar\":{\"outlinewidth\":0,\"ticks\":\"\"},\"type\":\"mesh3d\"}],\"parcoords\":[{\"line\":{\"colorbar\":{\"outlinewidth\":0,\"ticks\":\"\"}},\"type\":\"parcoords\"}],\"pie\":[{\"automargin\":true,\"type\":\"pie\"}],\"scatter\":[{\"marker\":{\"colorbar\":{\"outlinewidth\":0,\"ticks\":\"\"}},\"type\":\"scatter\"}],\"scatter3d\":[{\"line\":{\"colorbar\":{\"outlinewidth\":0,\"ticks\":\"\"}},\"marker\":{\"colorbar\":{\"outlinewidth\":0,\"ticks\":\"\"}},\"type\":\"scatter3d\"}],\"scattercarpet\":[{\"marker\":{\"colorbar\":{\"outlinewidth\":0,\"ticks\":\"\"}},\"type\":\"scattercarpet\"}],\"scattergeo\":[{\"marker\":{\"colorbar\":{\"outlinewidth\":0,\"ticks\":\"\"}},\"type\":\"scattergeo\"}],\"scattergl\":[{\"marker\":{\"colorbar\":{\"outlinewidth\":0,\"ticks\":\"\"}},\"type\":\"scattergl\"}],\"scattermapbox\":[{\"marker\":{\"colorbar\":{\"outlinewidth\":0,\"ticks\":\"\"}},\"type\":\"scattermapbox\"}],\"scatterpolar\":[{\"marker\":{\"colorbar\":{\"outlinewidth\":0,\"ticks\":\"\"}},\"type\":\"scatterpolar\"}],\"scatterpolargl\":[{\"marker\":{\"colorbar\":{\"outlinewidth\":0,\"ticks\":\"\"}},\"type\":\"scatterpolargl\"}],\"scatterternary\":[{\"marker\":{\"colorbar\":{\"outlinewidth\":0,\"ticks\":\"\"}},\"type\":\"scatterternary\"}],\"surface\":[{\"colorbar\":{\"outlinewidth\":0,\"ticks\":\"\"},\"colorscale\":[[0.0,\"#0d0887\"],[0.1111111111111111,\"#46039f\"],[0.2222222222222222,\"#7201a8\"],[0.3333333333333333,\"#9c179e\"],[0.4444444444444444,\"#bd3786\"],[0.5555555555555556,\"#d8576b\"],[0.6666666666666666,\"#ed7953\"],[0.7777777777777778,\"#fb9f3a\"],[0.8888888888888888,\"#fdca26\"],[1.0,\"#f0f921\"]],\"type\":\"surface\"}],\"table\":[{\"cells\":{\"fill\":{\"color\":\"#EBF0F8\"},\"line\":{\"color\":\"white\"}},\"header\":{\"fill\":{\"color\":\"#C8D4E3\"},\"line\":{\"color\":\"white\"}},\"type\":\"table\"}]},\"layout\":{\"annotationdefaults\":{\"arrowcolor\":\"#2a3f5f\",\"arrowhead\":0,\"arrowwidth\":1},\"autotypenumbers\":\"strict\",\"coloraxis\":{\"colorbar\":{\"outlinewidth\":0,\"ticks\":\"\"}},\"colorscale\":{\"diverging\":[[0,\"#8e0152\"],[0.1,\"#c51b7d\"],[0.2,\"#de77ae\"],[0.3,\"#f1b6da\"],[0.4,\"#fde0ef\"],[0.5,\"#f7f7f7\"],[0.6,\"#e6f5d0\"],[0.7,\"#b8e186\"],[0.8,\"#7fbc41\"],[0.9,\"#4d9221\"],[1,\"#276419\"]],\"sequential\":[[0.0,\"#0d0887\"],[0.1111111111111111,\"#46039f\"],[0.2222222222222222,\"#7201a8\"],[0.3333333333333333,\"#9c179e\"],[0.4444444444444444,\"#bd3786\"],[0.5555555555555556,\"#d8576b\"],[0.6666666666666666,\"#ed7953\"],[0.7777777777777778,\"#fb9f3a\"],[0.8888888888888888,\"#fdca26\"],[1.0,\"#f0f921\"]],\"sequentialminus\":[[0.0,\"#0d0887\"],[0.1111111111111111,\"#46039f\"],[0.2222222222222222,\"#7201a8\"],[0.3333333333333333,\"#9c179e\"],[0.4444444444444444,\"#bd3786\"],[0.5555555555555556,\"#d8576b\"],[0.6666666666666666,\"#ed7953\"],[0.7777777777777778,\"#fb9f3a\"],[0.8888888888888888,\"#fdca26\"],[1.0,\"#f0f921\"]]},\"colorway\":[\"#636efa\",\"#EF553B\",\"#00cc96\",\"#ab63fa\",\"#FFA15A\",\"#19d3f3\",\"#FF6692\",\"#B6E880\",\"#FF97FF\",\"#FECB52\"],\"font\":{\"color\":\"#2a3f5f\"},\"geo\":{\"bgcolor\":\"white\",\"lakecolor\":\"white\",\"landcolor\":\"#E5ECF6\",\"showlakes\":true,\"showland\":true,\"subunitcolor\":\"white\"},\"hoverlabel\":{\"align\":\"left\"},\"hovermode\":\"closest\",\"mapbox\":{\"style\":\"light\"},\"paper_bgcolor\":\"white\",\"plot_bgcolor\":\"#E5ECF6\",\"polar\":{\"angularaxis\":{\"gridcolor\":\"white\",\"linecolor\":\"white\",\"ticks\":\"\"},\"bgcolor\":\"#E5ECF6\",\"radialaxis\":{\"gridcolor\":\"white\",\"linecolor\":\"white\",\"ticks\":\"\"}},\"scene\":{\"xaxis\":{\"backgroundcolor\":\"#E5ECF6\",\"gridcolor\":\"white\",\"gridwidth\":2,\"linecolor\":\"white\",\"showbackground\":true,\"ticks\":\"\",\"zerolinecolor\":\"white\"},\"yaxis\":{\"backgroundcolor\":\"#E5ECF6\",\"gridcolor\":\"white\",\"gridwidth\":2,\"linecolor\":\"white\",\"showbackground\":true,\"ticks\":\"\",\"zerolinecolor\":\"white\"},\"zaxis\":{\"backgroundcolor\":\"#E5ECF6\",\"gridcolor\":\"white\",\"gridwidth\":2,\"linecolor\":\"white\",\"showbackground\":true,\"ticks\":\"\",\"zerolinecolor\":\"white\"}},\"shapedefaults\":{\"line\":{\"color\":\"#2a3f5f\"}},\"ternary\":{\"aaxis\":{\"gridcolor\":\"white\",\"linecolor\":\"white\",\"ticks\":\"\"},\"baxis\":{\"gridcolor\":\"white\",\"linecolor\":\"white\",\"ticks\":\"\"},\"bgcolor\":\"#E5ECF6\",\"caxis\":{\"gridcolor\":\"white\",\"linecolor\":\"white\",\"ticks\":\"\"}},\"title\":{\"x\":0.05},\"xaxis\":{\"automargin\":true,\"gridcolor\":\"white\",\"linecolor\":\"white\",\"ticks\":\"\",\"title\":{\"standoff\":15},\"zerolinecolor\":\"white\",\"zerolinewidth\":2},\"yaxis\":{\"automargin\":true,\"gridcolor\":\"white\",\"linecolor\":\"white\",\"ticks\":\"\",\"title\":{\"standoff\":15},\"zerolinecolor\":\"white\",\"zerolinewidth\":2}}},\"xaxis\":{\"anchor\":\"y\",\"domain\":[0.0,1.0],\"title\":{\"text\":\"date\"}},\"yaxis\":{\"anchor\":\"x\",\"domain\":[0.0,1.0],\"title\":{\"text\":\"num_sold\"}},\"legend\":{\"title\":{\"text\":\"weekend\"},\"tracegroupgap\":0},\"title\":{\"text\":\"weekday vs weekend trend comparasion\"}},                        {\"responsive\": true}                    ).then(function(){\n",
       "                            \n",
       "var gd = document.getElementById('a2492ccf-bcd3-4084-b86d-db3caf81adfa');\n",
       "var x = new MutationObserver(function (mutations, observer) {{\n",
       "        var display = window.getComputedStyle(gd).display;\n",
       "        if (!display || display === 'none') {{\n",
       "            console.log([gd, 'removed!']);\n",
       "            Plotly.purge(gd);\n",
       "            observer.disconnect();\n",
       "        }}\n",
       "}});\n",
       "\n",
       "// Listen for the removal of the full notebook cells\n",
       "var notebookContainer = gd.closest('#notebook-container');\n",
       "if (notebookContainer) {{\n",
       "    x.observe(notebookContainer, {childList: true});\n",
       "}}\n",
       "\n",
       "// Listen for the clearing of the current output cell\n",
       "var outputEl = gd.closest('.output');\n",
       "if (outputEl) {{\n",
       "    x.observe(outputEl, {childList: true});\n",
       "}}\n",
       "\n",
       "                        })                };                });            </script>        </div>"
      ]
     },
     "metadata": {},
     "output_type": "display_data"
    }
   ],
   "source": [
    "# and digging deeper\n",
    "train['weekend'] = train['dayofweek'].apply(lambda x: x >= 4)\n",
    "train_weekend = train.set_index('date').groupby([pd.Grouper(freq='M'),'weekend'])[['num_sold']].mean().reset_index()\n",
    "a = px.line(data_frame=train_weekend,x='date',y='num_sold',color='weekend',title='weekday vs weekend trend comparasion')\n",
    "a.show()"
   ]
  },
  {
   "cell_type": "code",
   "execution_count": 19,
   "id": "bfbe2bc1",
   "metadata": {
    "execution": {
     "iopub.execute_input": "2022-01-09T06:57:00.084157Z",
     "iopub.status.busy": "2022-01-09T06:57:00.083388Z",
     "iopub.status.idle": "2022-01-09T06:57:00.092454Z",
     "shell.execute_reply": "2022-01-09T06:57:00.093008Z",
     "shell.execute_reply.started": "2022-01-09T06:49:36.439917Z"
    },
    "papermill": {
     "duration": 0.081196,
     "end_time": "2022-01-09T06:57:00.093203",
     "exception": false,
     "start_time": "2022-01-09T06:57:00.012007",
     "status": "completed"
    },
    "tags": []
   },
   "outputs": [
    {
     "data": {
      "text/html": [
       "<div>\n",
       "<style scoped>\n",
       "    .dataframe tbody tr th:only-of-type {\n",
       "        vertical-align: middle;\n",
       "    }\n",
       "\n",
       "    .dataframe tbody tr th {\n",
       "        vertical-align: top;\n",
       "    }\n",
       "\n",
       "    .dataframe thead th {\n",
       "        text-align: right;\n",
       "    }\n",
       "</style>\n",
       "<table border=\"1\" class=\"dataframe\">\n",
       "  <thead>\n",
       "    <tr style=\"text-align: right;\">\n",
       "      <th></th>\n",
       "      <th>row_id</th>\n",
       "      <th>date</th>\n",
       "      <th>country</th>\n",
       "      <th>store</th>\n",
       "      <th>product</th>\n",
       "      <th>num_sold</th>\n",
       "      <th>dayofweek</th>\n",
       "      <th>weekend</th>\n",
       "    </tr>\n",
       "  </thead>\n",
       "  <tbody>\n",
       "    <tr>\n",
       "      <th>0</th>\n",
       "      <td>0</td>\n",
       "      <td>2015-01-01</td>\n",
       "      <td>Finland</td>\n",
       "      <td>KaggleMart</td>\n",
       "      <td>Kaggle Mug</td>\n",
       "      <td>329</td>\n",
       "      <td>3</td>\n",
       "      <td>False</td>\n",
       "    </tr>\n",
       "    <tr>\n",
       "      <th>1</th>\n",
       "      <td>1</td>\n",
       "      <td>2015-01-01</td>\n",
       "      <td>Finland</td>\n",
       "      <td>KaggleMart</td>\n",
       "      <td>Kaggle Hat</td>\n",
       "      <td>520</td>\n",
       "      <td>3</td>\n",
       "      <td>False</td>\n",
       "    </tr>\n",
       "    <tr>\n",
       "      <th>2</th>\n",
       "      <td>2</td>\n",
       "      <td>2015-01-01</td>\n",
       "      <td>Finland</td>\n",
       "      <td>KaggleMart</td>\n",
       "      <td>Kaggle Sticker</td>\n",
       "      <td>146</td>\n",
       "      <td>3</td>\n",
       "      <td>False</td>\n",
       "    </tr>\n",
       "    <tr>\n",
       "      <th>3</th>\n",
       "      <td>3</td>\n",
       "      <td>2015-01-01</td>\n",
       "      <td>Finland</td>\n",
       "      <td>KaggleRama</td>\n",
       "      <td>Kaggle Mug</td>\n",
       "      <td>572</td>\n",
       "      <td>3</td>\n",
       "      <td>False</td>\n",
       "    </tr>\n",
       "    <tr>\n",
       "      <th>4</th>\n",
       "      <td>4</td>\n",
       "      <td>2015-01-01</td>\n",
       "      <td>Finland</td>\n",
       "      <td>KaggleRama</td>\n",
       "      <td>Kaggle Hat</td>\n",
       "      <td>911</td>\n",
       "      <td>3</td>\n",
       "      <td>False</td>\n",
       "    </tr>\n",
       "  </tbody>\n",
       "</table>\n",
       "</div>"
      ],
      "text/plain": [
       "   row_id       date  country       store         product  num_sold  \\\n",
       "0       0 2015-01-01  Finland  KaggleMart      Kaggle Mug       329   \n",
       "1       1 2015-01-01  Finland  KaggleMart      Kaggle Hat       520   \n",
       "2       2 2015-01-01  Finland  KaggleMart  Kaggle Sticker       146   \n",
       "3       3 2015-01-01  Finland  KaggleRama      Kaggle Mug       572   \n",
       "4       4 2015-01-01  Finland  KaggleRama      Kaggle Hat       911   \n",
       "\n",
       "   dayofweek  weekend  \n",
       "0          3    False  \n",
       "1          3    False  \n",
       "2          3    False  \n",
       "3          3    False  \n",
       "4          3    False  "
      ]
     },
     "execution_count": 19,
     "metadata": {},
     "output_type": "execute_result"
    }
   ],
   "source": [
    "train.head()"
   ]
  },
  {
   "cell_type": "code",
   "execution_count": 20,
   "id": "04cb4b43",
   "metadata": {
    "execution": {
     "iopub.execute_input": "2022-01-09T06:57:00.228454Z",
     "iopub.status.busy": "2022-01-09T06:57:00.227804Z",
     "iopub.status.idle": "2022-01-09T06:57:00.255062Z",
     "shell.execute_reply": "2022-01-09T06:57:00.255590Z",
     "shell.execute_reply.started": "2022-01-09T06:49:37.544493Z"
    },
    "papermill": {
     "duration": 0.096981,
     "end_time": "2022-01-09T06:57:00.255818",
     "exception": false,
     "start_time": "2022-01-09T06:57:00.158837",
     "status": "completed"
    },
    "tags": []
   },
   "outputs": [
    {
     "data": {
      "text/html": [
       "<div>\n",
       "<style scoped>\n",
       "    .dataframe tbody tr th:only-of-type {\n",
       "        vertical-align: middle;\n",
       "    }\n",
       "\n",
       "    .dataframe tbody tr th {\n",
       "        vertical-align: top;\n",
       "    }\n",
       "\n",
       "    .dataframe thead th {\n",
       "        text-align: right;\n",
       "    }\n",
       "</style>\n",
       "<table border=\"1\" class=\"dataframe\">\n",
       "  <thead>\n",
       "    <tr style=\"text-align: right;\">\n",
       "      <th></th>\n",
       "      <th>dayofweek</th>\n",
       "      <th>country</th>\n",
       "      <th>num_sold</th>\n",
       "    </tr>\n",
       "  </thead>\n",
       "  <tbody>\n",
       "    <tr>\n",
       "      <th>0</th>\n",
       "      <td>0</td>\n",
       "      <td>Finland</td>\n",
       "      <td>0.131726</td>\n",
       "    </tr>\n",
       "    <tr>\n",
       "      <th>1</th>\n",
       "      <td>0</td>\n",
       "      <td>Norway</td>\n",
       "      <td>0.132270</td>\n",
       "    </tr>\n",
       "    <tr>\n",
       "      <th>2</th>\n",
       "      <td>0</td>\n",
       "      <td>Sweden</td>\n",
       "      <td>0.131658</td>\n",
       "    </tr>\n",
       "    <tr>\n",
       "      <th>3</th>\n",
       "      <td>1</td>\n",
       "      <td>Finland</td>\n",
       "      <td>0.131869</td>\n",
       "    </tr>\n",
       "    <tr>\n",
       "      <th>4</th>\n",
       "      <td>1</td>\n",
       "      <td>Norway</td>\n",
       "      <td>0.131490</td>\n",
       "    </tr>\n",
       "  </tbody>\n",
       "</table>\n",
       "</div>"
      ],
      "text/plain": [
       "   dayofweek  country  num_sold\n",
       "0          0  Finland  0.131726\n",
       "1          0   Norway  0.132270\n",
       "2          0   Sweden  0.131658\n",
       "3          1  Finland  0.131869\n",
       "4          1   Norway  0.131490"
      ]
     },
     "execution_count": 20,
     "metadata": {},
     "output_type": "execute_result"
    }
   ],
   "source": [
    "country_dayofweek = pd.pivot_table(train,index='country',columns='dayofweek',values='num_sold',aggfunc=np.mean)\n",
    "country_dayofweek = pd.DataFrame(country_dayofweek.divide(country_dayofweek.sum(axis=1),axis=0).unstack()).reset_index()\n",
    "country_dayofweek.rename(columns={0:'num_sold'},inplace=True)\n",
    "country_dayofweek.head()"
   ]
  },
  {
   "cell_type": "code",
   "execution_count": 21,
   "id": "a883b797",
   "metadata": {
    "execution": {
     "iopub.execute_input": "2022-01-09T06:57:00.397648Z",
     "iopub.status.busy": "2022-01-09T06:57:00.396965Z",
     "iopub.status.idle": "2022-01-09T06:57:00.488969Z",
     "shell.execute_reply": "2022-01-09T06:57:00.489512Z",
     "shell.execute_reply.started": "2022-01-09T06:49:38.558477Z"
    },
    "papermill": {
     "duration": 0.1683,
     "end_time": "2022-01-09T06:57:00.489731",
     "exception": false,
     "start_time": "2022-01-09T06:57:00.321431",
     "status": "completed"
    },
    "tags": []
   },
   "outputs": [
    {
     "data": {
      "application/vnd.plotly.v1+json": {
       "config": {
        "plotlyServerURL": "https://plot.ly"
       },
       "data": [
        {
         "alignmentgroup": "True",
         "hovertemplate": "country=Finland<br>dayofweek=%{x}<br>num_sold=%{y}<extra></extra>",
         "legendgroup": "Finland",
         "marker": {
          "color": "#636efa",
          "pattern": {
           "shape": ""
          }
         },
         "name": "Finland",
         "offsetgroup": "Finland",
         "orientation": "v",
         "showlegend": true,
         "textposition": "auto",
         "type": "bar",
         "x": [
          0,
          1,
          2,
          3,
          4,
          5,
          6
         ],
         "xaxis": "x",
         "y": [
          0.131726483031688,
          0.13186941782636277,
          0.13228866170197956,
          0.1329968234969027,
          0.13988609218406264,
          0.16580252780988552,
          0.16542999394911875
         ],
         "yaxis": "y"
        },
        {
         "alignmentgroup": "True",
         "hovertemplate": "country=Norway<br>dayofweek=%{x}<br>num_sold=%{y}<extra></extra>",
         "legendgroup": "Norway",
         "marker": {
          "color": "#EF553B",
          "pattern": {
           "shape": ""
          }
         },
         "name": "Norway",
         "offsetgroup": "Norway",
         "orientation": "v",
         "showlegend": true,
         "textposition": "auto",
         "type": "bar",
         "x": [
          0,
          1,
          2,
          3,
          4,
          5,
          6
         ],
         "xaxis": "x",
         "y": [
          0.13227008747941418,
          0.13148978576312845,
          0.13189897546948676,
          0.13299952227698075,
          0.13974515026193748,
          0.16618642475638318,
          0.1654100539926692
         ],
         "yaxis": "y"
        },
        {
         "alignmentgroup": "True",
         "hovertemplate": "country=Sweden<br>dayofweek=%{x}<br>num_sold=%{y}<extra></extra>",
         "legendgroup": "Sweden",
         "marker": {
          "color": "#00cc96",
          "pattern": {
           "shape": ""
          }
         },
         "name": "Sweden",
         "offsetgroup": "Sweden",
         "orientation": "v",
         "showlegend": true,
         "textposition": "auto",
         "type": "bar",
         "x": [
          0,
          1,
          2,
          3,
          4,
          5,
          6
         ],
         "xaxis": "x",
         "y": [
          0.13165811205859604,
          0.131452571349597,
          0.13201674963598367,
          0.13348179285165018,
          0.14004749391879648,
          0.16594434002435993,
          0.16539894016101664
         ],
         "yaxis": "y"
        }
       ],
       "layout": {
        "barmode": "group",
        "legend": {
         "title": {
          "text": "country"
         },
         "tracegroupgap": 0
        },
        "template": {
         "data": {
          "bar": [
           {
            "error_x": {
             "color": "#2a3f5f"
            },
            "error_y": {
             "color": "#2a3f5f"
            },
            "marker": {
             "line": {
              "color": "#E5ECF6",
              "width": 0.5
             },
             "pattern": {
              "fillmode": "overlay",
              "size": 10,
              "solidity": 0.2
             }
            },
            "type": "bar"
           }
          ],
          "barpolar": [
           {
            "marker": {
             "line": {
              "color": "#E5ECF6",
              "width": 0.5
             },
             "pattern": {
              "fillmode": "overlay",
              "size": 10,
              "solidity": 0.2
             }
            },
            "type": "barpolar"
           }
          ],
          "carpet": [
           {
            "aaxis": {
             "endlinecolor": "#2a3f5f",
             "gridcolor": "white",
             "linecolor": "white",
             "minorgridcolor": "white",
             "startlinecolor": "#2a3f5f"
            },
            "baxis": {
             "endlinecolor": "#2a3f5f",
             "gridcolor": "white",
             "linecolor": "white",
             "minorgridcolor": "white",
             "startlinecolor": "#2a3f5f"
            },
            "type": "carpet"
           }
          ],
          "choropleth": [
           {
            "colorbar": {
             "outlinewidth": 0,
             "ticks": ""
            },
            "type": "choropleth"
           }
          ],
          "contour": [
           {
            "colorbar": {
             "outlinewidth": 0,
             "ticks": ""
            },
            "colorscale": [
             [
              0.0,
              "#0d0887"
             ],
             [
              0.1111111111111111,
              "#46039f"
             ],
             [
              0.2222222222222222,
              "#7201a8"
             ],
             [
              0.3333333333333333,
              "#9c179e"
             ],
             [
              0.4444444444444444,
              "#bd3786"
             ],
             [
              0.5555555555555556,
              "#d8576b"
             ],
             [
              0.6666666666666666,
              "#ed7953"
             ],
             [
              0.7777777777777778,
              "#fb9f3a"
             ],
             [
              0.8888888888888888,
              "#fdca26"
             ],
             [
              1.0,
              "#f0f921"
             ]
            ],
            "type": "contour"
           }
          ],
          "contourcarpet": [
           {
            "colorbar": {
             "outlinewidth": 0,
             "ticks": ""
            },
            "type": "contourcarpet"
           }
          ],
          "heatmap": [
           {
            "colorbar": {
             "outlinewidth": 0,
             "ticks": ""
            },
            "colorscale": [
             [
              0.0,
              "#0d0887"
             ],
             [
              0.1111111111111111,
              "#46039f"
             ],
             [
              0.2222222222222222,
              "#7201a8"
             ],
             [
              0.3333333333333333,
              "#9c179e"
             ],
             [
              0.4444444444444444,
              "#bd3786"
             ],
             [
              0.5555555555555556,
              "#d8576b"
             ],
             [
              0.6666666666666666,
              "#ed7953"
             ],
             [
              0.7777777777777778,
              "#fb9f3a"
             ],
             [
              0.8888888888888888,
              "#fdca26"
             ],
             [
              1.0,
              "#f0f921"
             ]
            ],
            "type": "heatmap"
           }
          ],
          "heatmapgl": [
           {
            "colorbar": {
             "outlinewidth": 0,
             "ticks": ""
            },
            "colorscale": [
             [
              0.0,
              "#0d0887"
             ],
             [
              0.1111111111111111,
              "#46039f"
             ],
             [
              0.2222222222222222,
              "#7201a8"
             ],
             [
              0.3333333333333333,
              "#9c179e"
             ],
             [
              0.4444444444444444,
              "#bd3786"
             ],
             [
              0.5555555555555556,
              "#d8576b"
             ],
             [
              0.6666666666666666,
              "#ed7953"
             ],
             [
              0.7777777777777778,
              "#fb9f3a"
             ],
             [
              0.8888888888888888,
              "#fdca26"
             ],
             [
              1.0,
              "#f0f921"
             ]
            ],
            "type": "heatmapgl"
           }
          ],
          "histogram": [
           {
            "marker": {
             "pattern": {
              "fillmode": "overlay",
              "size": 10,
              "solidity": 0.2
             }
            },
            "type": "histogram"
           }
          ],
          "histogram2d": [
           {
            "colorbar": {
             "outlinewidth": 0,
             "ticks": ""
            },
            "colorscale": [
             [
              0.0,
              "#0d0887"
             ],
             [
              0.1111111111111111,
              "#46039f"
             ],
             [
              0.2222222222222222,
              "#7201a8"
             ],
             [
              0.3333333333333333,
              "#9c179e"
             ],
             [
              0.4444444444444444,
              "#bd3786"
             ],
             [
              0.5555555555555556,
              "#d8576b"
             ],
             [
              0.6666666666666666,
              "#ed7953"
             ],
             [
              0.7777777777777778,
              "#fb9f3a"
             ],
             [
              0.8888888888888888,
              "#fdca26"
             ],
             [
              1.0,
              "#f0f921"
             ]
            ],
            "type": "histogram2d"
           }
          ],
          "histogram2dcontour": [
           {
            "colorbar": {
             "outlinewidth": 0,
             "ticks": ""
            },
            "colorscale": [
             [
              0.0,
              "#0d0887"
             ],
             [
              0.1111111111111111,
              "#46039f"
             ],
             [
              0.2222222222222222,
              "#7201a8"
             ],
             [
              0.3333333333333333,
              "#9c179e"
             ],
             [
              0.4444444444444444,
              "#bd3786"
             ],
             [
              0.5555555555555556,
              "#d8576b"
             ],
             [
              0.6666666666666666,
              "#ed7953"
             ],
             [
              0.7777777777777778,
              "#fb9f3a"
             ],
             [
              0.8888888888888888,
              "#fdca26"
             ],
             [
              1.0,
              "#f0f921"
             ]
            ],
            "type": "histogram2dcontour"
           }
          ],
          "mesh3d": [
           {
            "colorbar": {
             "outlinewidth": 0,
             "ticks": ""
            },
            "type": "mesh3d"
           }
          ],
          "parcoords": [
           {
            "line": {
             "colorbar": {
              "outlinewidth": 0,
              "ticks": ""
             }
            },
            "type": "parcoords"
           }
          ],
          "pie": [
           {
            "automargin": true,
            "type": "pie"
           }
          ],
          "scatter": [
           {
            "marker": {
             "colorbar": {
              "outlinewidth": 0,
              "ticks": ""
             }
            },
            "type": "scatter"
           }
          ],
          "scatter3d": [
           {
            "line": {
             "colorbar": {
              "outlinewidth": 0,
              "ticks": ""
             }
            },
            "marker": {
             "colorbar": {
              "outlinewidth": 0,
              "ticks": ""
             }
            },
            "type": "scatter3d"
           }
          ],
          "scattercarpet": [
           {
            "marker": {
             "colorbar": {
              "outlinewidth": 0,
              "ticks": ""
             }
            },
            "type": "scattercarpet"
           }
          ],
          "scattergeo": [
           {
            "marker": {
             "colorbar": {
              "outlinewidth": 0,
              "ticks": ""
             }
            },
            "type": "scattergeo"
           }
          ],
          "scattergl": [
           {
            "marker": {
             "colorbar": {
              "outlinewidth": 0,
              "ticks": ""
             }
            },
            "type": "scattergl"
           }
          ],
          "scattermapbox": [
           {
            "marker": {
             "colorbar": {
              "outlinewidth": 0,
              "ticks": ""
             }
            },
            "type": "scattermapbox"
           }
          ],
          "scatterpolar": [
           {
            "marker": {
             "colorbar": {
              "outlinewidth": 0,
              "ticks": ""
             }
            },
            "type": "scatterpolar"
           }
          ],
          "scatterpolargl": [
           {
            "marker": {
             "colorbar": {
              "outlinewidth": 0,
              "ticks": ""
             }
            },
            "type": "scatterpolargl"
           }
          ],
          "scatterternary": [
           {
            "marker": {
             "colorbar": {
              "outlinewidth": 0,
              "ticks": ""
             }
            },
            "type": "scatterternary"
           }
          ],
          "surface": [
           {
            "colorbar": {
             "outlinewidth": 0,
             "ticks": ""
            },
            "colorscale": [
             [
              0.0,
              "#0d0887"
             ],
             [
              0.1111111111111111,
              "#46039f"
             ],
             [
              0.2222222222222222,
              "#7201a8"
             ],
             [
              0.3333333333333333,
              "#9c179e"
             ],
             [
              0.4444444444444444,
              "#bd3786"
             ],
             [
              0.5555555555555556,
              "#d8576b"
             ],
             [
              0.6666666666666666,
              "#ed7953"
             ],
             [
              0.7777777777777778,
              "#fb9f3a"
             ],
             [
              0.8888888888888888,
              "#fdca26"
             ],
             [
              1.0,
              "#f0f921"
             ]
            ],
            "type": "surface"
           }
          ],
          "table": [
           {
            "cells": {
             "fill": {
              "color": "#EBF0F8"
             },
             "line": {
              "color": "white"
             }
            },
            "header": {
             "fill": {
              "color": "#C8D4E3"
             },
             "line": {
              "color": "white"
             }
            },
            "type": "table"
           }
          ]
         },
         "layout": {
          "annotationdefaults": {
           "arrowcolor": "#2a3f5f",
           "arrowhead": 0,
           "arrowwidth": 1
          },
          "autotypenumbers": "strict",
          "coloraxis": {
           "colorbar": {
            "outlinewidth": 0,
            "ticks": ""
           }
          },
          "colorscale": {
           "diverging": [
            [
             0,
             "#8e0152"
            ],
            [
             0.1,
             "#c51b7d"
            ],
            [
             0.2,
             "#de77ae"
            ],
            [
             0.3,
             "#f1b6da"
            ],
            [
             0.4,
             "#fde0ef"
            ],
            [
             0.5,
             "#f7f7f7"
            ],
            [
             0.6,
             "#e6f5d0"
            ],
            [
             0.7,
             "#b8e186"
            ],
            [
             0.8,
             "#7fbc41"
            ],
            [
             0.9,
             "#4d9221"
            ],
            [
             1,
             "#276419"
            ]
           ],
           "sequential": [
            [
             0.0,
             "#0d0887"
            ],
            [
             0.1111111111111111,
             "#46039f"
            ],
            [
             0.2222222222222222,
             "#7201a8"
            ],
            [
             0.3333333333333333,
             "#9c179e"
            ],
            [
             0.4444444444444444,
             "#bd3786"
            ],
            [
             0.5555555555555556,
             "#d8576b"
            ],
            [
             0.6666666666666666,
             "#ed7953"
            ],
            [
             0.7777777777777778,
             "#fb9f3a"
            ],
            [
             0.8888888888888888,
             "#fdca26"
            ],
            [
             1.0,
             "#f0f921"
            ]
           ],
           "sequentialminus": [
            [
             0.0,
             "#0d0887"
            ],
            [
             0.1111111111111111,
             "#46039f"
            ],
            [
             0.2222222222222222,
             "#7201a8"
            ],
            [
             0.3333333333333333,
             "#9c179e"
            ],
            [
             0.4444444444444444,
             "#bd3786"
            ],
            [
             0.5555555555555556,
             "#d8576b"
            ],
            [
             0.6666666666666666,
             "#ed7953"
            ],
            [
             0.7777777777777778,
             "#fb9f3a"
            ],
            [
             0.8888888888888888,
             "#fdca26"
            ],
            [
             1.0,
             "#f0f921"
            ]
           ]
          },
          "colorway": [
           "#636efa",
           "#EF553B",
           "#00cc96",
           "#ab63fa",
           "#FFA15A",
           "#19d3f3",
           "#FF6692",
           "#B6E880",
           "#FF97FF",
           "#FECB52"
          ],
          "font": {
           "color": "#2a3f5f"
          },
          "geo": {
           "bgcolor": "white",
           "lakecolor": "white",
           "landcolor": "#E5ECF6",
           "showlakes": true,
           "showland": true,
           "subunitcolor": "white"
          },
          "hoverlabel": {
           "align": "left"
          },
          "hovermode": "closest",
          "mapbox": {
           "style": "light"
          },
          "paper_bgcolor": "white",
          "plot_bgcolor": "#E5ECF6",
          "polar": {
           "angularaxis": {
            "gridcolor": "white",
            "linecolor": "white",
            "ticks": ""
           },
           "bgcolor": "#E5ECF6",
           "radialaxis": {
            "gridcolor": "white",
            "linecolor": "white",
            "ticks": ""
           }
          },
          "scene": {
           "xaxis": {
            "backgroundcolor": "#E5ECF6",
            "gridcolor": "white",
            "gridwidth": 2,
            "linecolor": "white",
            "showbackground": true,
            "ticks": "",
            "zerolinecolor": "white"
           },
           "yaxis": {
            "backgroundcolor": "#E5ECF6",
            "gridcolor": "white",
            "gridwidth": 2,
            "linecolor": "white",
            "showbackground": true,
            "ticks": "",
            "zerolinecolor": "white"
           },
           "zaxis": {
            "backgroundcolor": "#E5ECF6",
            "gridcolor": "white",
            "gridwidth": 2,
            "linecolor": "white",
            "showbackground": true,
            "ticks": "",
            "zerolinecolor": "white"
           }
          },
          "shapedefaults": {
           "line": {
            "color": "#2a3f5f"
           }
          },
          "ternary": {
           "aaxis": {
            "gridcolor": "white",
            "linecolor": "white",
            "ticks": ""
           },
           "baxis": {
            "gridcolor": "white",
            "linecolor": "white",
            "ticks": ""
           },
           "bgcolor": "#E5ECF6",
           "caxis": {
            "gridcolor": "white",
            "linecolor": "white",
            "ticks": ""
           }
          },
          "title": {
           "x": 0.05
          },
          "xaxis": {
           "automargin": true,
           "gridcolor": "white",
           "linecolor": "white",
           "ticks": "",
           "title": {
            "standoff": 15
           },
           "zerolinecolor": "white",
           "zerolinewidth": 2
          },
          "yaxis": {
           "automargin": true,
           "gridcolor": "white",
           "linecolor": "white",
           "ticks": "",
           "title": {
            "standoff": 15
           },
           "zerolinecolor": "white",
           "zerolinewidth": 2
          }
         }
        },
        "title": {
         "text": "percent of day by week of country"
        },
        "xaxis": {
         "anchor": "y",
         "domain": [
          0.0,
          1.0
         ],
         "tickmode": "array",
         "ticktext": [
          "Mon",
          "Tue",
          "Wed",
          "Thur",
          "Fri",
          "Sat",
          "Sun"
         ],
         "tickvals": [
          0,
          1,
          2,
          3,
          4,
          5,
          6
         ],
         "title": {
          "text": "dayofweek"
         }
        },
        "yaxis": {
         "anchor": "x",
         "domain": [
          0.0,
          1.0
         ],
         "title": {
          "text": "num_sold"
         }
        }
       }
      },
      "text/html": [
       "<div>                            <div id=\"c8522c44-a5ba-407d-8cd4-7627bac4477b\" class=\"plotly-graph-div\" style=\"height:525px; width:100%;\"></div>            <script type=\"text/javascript\">                require([\"plotly\"], function(Plotly) {                    window.PLOTLYENV=window.PLOTLYENV || {};                                    if (document.getElementById(\"c8522c44-a5ba-407d-8cd4-7627bac4477b\")) {                    Plotly.newPlot(                        \"c8522c44-a5ba-407d-8cd4-7627bac4477b\",                        [{\"alignmentgroup\":\"True\",\"hovertemplate\":\"country=Finland<br>dayofweek=%{x}<br>num_sold=%{y}<extra></extra>\",\"legendgroup\":\"Finland\",\"marker\":{\"color\":\"#636efa\",\"pattern\":{\"shape\":\"\"}},\"name\":\"Finland\",\"offsetgroup\":\"Finland\",\"orientation\":\"v\",\"showlegend\":true,\"textposition\":\"auto\",\"x\":[0,1,2,3,4,5,6],\"xaxis\":\"x\",\"y\":[0.131726483031688,0.13186941782636277,0.13228866170197956,0.1329968234969027,0.13988609218406264,0.16580252780988552,0.16542999394911875],\"yaxis\":\"y\",\"type\":\"bar\"},{\"alignmentgroup\":\"True\",\"hovertemplate\":\"country=Norway<br>dayofweek=%{x}<br>num_sold=%{y}<extra></extra>\",\"legendgroup\":\"Norway\",\"marker\":{\"color\":\"#EF553B\",\"pattern\":{\"shape\":\"\"}},\"name\":\"Norway\",\"offsetgroup\":\"Norway\",\"orientation\":\"v\",\"showlegend\":true,\"textposition\":\"auto\",\"x\":[0,1,2,3,4,5,6],\"xaxis\":\"x\",\"y\":[0.13227008747941418,0.13148978576312845,0.13189897546948676,0.13299952227698075,0.13974515026193748,0.16618642475638318,0.1654100539926692],\"yaxis\":\"y\",\"type\":\"bar\"},{\"alignmentgroup\":\"True\",\"hovertemplate\":\"country=Sweden<br>dayofweek=%{x}<br>num_sold=%{y}<extra></extra>\",\"legendgroup\":\"Sweden\",\"marker\":{\"color\":\"#00cc96\",\"pattern\":{\"shape\":\"\"}},\"name\":\"Sweden\",\"offsetgroup\":\"Sweden\",\"orientation\":\"v\",\"showlegend\":true,\"textposition\":\"auto\",\"x\":[0,1,2,3,4,5,6],\"xaxis\":\"x\",\"y\":[0.13165811205859604,0.131452571349597,0.13201674963598367,0.13348179285165018,0.14004749391879648,0.16594434002435993,0.16539894016101664],\"yaxis\":\"y\",\"type\":\"bar\"}],                        {\"template\":{\"data\":{\"bar\":[{\"error_x\":{\"color\":\"#2a3f5f\"},\"error_y\":{\"color\":\"#2a3f5f\"},\"marker\":{\"line\":{\"color\":\"#E5ECF6\",\"width\":0.5},\"pattern\":{\"fillmode\":\"overlay\",\"size\":10,\"solidity\":0.2}},\"type\":\"bar\"}],\"barpolar\":[{\"marker\":{\"line\":{\"color\":\"#E5ECF6\",\"width\":0.5},\"pattern\":{\"fillmode\":\"overlay\",\"size\":10,\"solidity\":0.2}},\"type\":\"barpolar\"}],\"carpet\":[{\"aaxis\":{\"endlinecolor\":\"#2a3f5f\",\"gridcolor\":\"white\",\"linecolor\":\"white\",\"minorgridcolor\":\"white\",\"startlinecolor\":\"#2a3f5f\"},\"baxis\":{\"endlinecolor\":\"#2a3f5f\",\"gridcolor\":\"white\",\"linecolor\":\"white\",\"minorgridcolor\":\"white\",\"startlinecolor\":\"#2a3f5f\"},\"type\":\"carpet\"}],\"choropleth\":[{\"colorbar\":{\"outlinewidth\":0,\"ticks\":\"\"},\"type\":\"choropleth\"}],\"contour\":[{\"colorbar\":{\"outlinewidth\":0,\"ticks\":\"\"},\"colorscale\":[[0.0,\"#0d0887\"],[0.1111111111111111,\"#46039f\"],[0.2222222222222222,\"#7201a8\"],[0.3333333333333333,\"#9c179e\"],[0.4444444444444444,\"#bd3786\"],[0.5555555555555556,\"#d8576b\"],[0.6666666666666666,\"#ed7953\"],[0.7777777777777778,\"#fb9f3a\"],[0.8888888888888888,\"#fdca26\"],[1.0,\"#f0f921\"]],\"type\":\"contour\"}],\"contourcarpet\":[{\"colorbar\":{\"outlinewidth\":0,\"ticks\":\"\"},\"type\":\"contourcarpet\"}],\"heatmap\":[{\"colorbar\":{\"outlinewidth\":0,\"ticks\":\"\"},\"colorscale\":[[0.0,\"#0d0887\"],[0.1111111111111111,\"#46039f\"],[0.2222222222222222,\"#7201a8\"],[0.3333333333333333,\"#9c179e\"],[0.4444444444444444,\"#bd3786\"],[0.5555555555555556,\"#d8576b\"],[0.6666666666666666,\"#ed7953\"],[0.7777777777777778,\"#fb9f3a\"],[0.8888888888888888,\"#fdca26\"],[1.0,\"#f0f921\"]],\"type\":\"heatmap\"}],\"heatmapgl\":[{\"colorbar\":{\"outlinewidth\":0,\"ticks\":\"\"},\"colorscale\":[[0.0,\"#0d0887\"],[0.1111111111111111,\"#46039f\"],[0.2222222222222222,\"#7201a8\"],[0.3333333333333333,\"#9c179e\"],[0.4444444444444444,\"#bd3786\"],[0.5555555555555556,\"#d8576b\"],[0.6666666666666666,\"#ed7953\"],[0.7777777777777778,\"#fb9f3a\"],[0.8888888888888888,\"#fdca26\"],[1.0,\"#f0f921\"]],\"type\":\"heatmapgl\"}],\"histogram\":[{\"marker\":{\"pattern\":{\"fillmode\":\"overlay\",\"size\":10,\"solidity\":0.2}},\"type\":\"histogram\"}],\"histogram2d\":[{\"colorbar\":{\"outlinewidth\":0,\"ticks\":\"\"},\"colorscale\":[[0.0,\"#0d0887\"],[0.1111111111111111,\"#46039f\"],[0.2222222222222222,\"#7201a8\"],[0.3333333333333333,\"#9c179e\"],[0.4444444444444444,\"#bd3786\"],[0.5555555555555556,\"#d8576b\"],[0.6666666666666666,\"#ed7953\"],[0.7777777777777778,\"#fb9f3a\"],[0.8888888888888888,\"#fdca26\"],[1.0,\"#f0f921\"]],\"type\":\"histogram2d\"}],\"histogram2dcontour\":[{\"colorbar\":{\"outlinewidth\":0,\"ticks\":\"\"},\"colorscale\":[[0.0,\"#0d0887\"],[0.1111111111111111,\"#46039f\"],[0.2222222222222222,\"#7201a8\"],[0.3333333333333333,\"#9c179e\"],[0.4444444444444444,\"#bd3786\"],[0.5555555555555556,\"#d8576b\"],[0.6666666666666666,\"#ed7953\"],[0.7777777777777778,\"#fb9f3a\"],[0.8888888888888888,\"#fdca26\"],[1.0,\"#f0f921\"]],\"type\":\"histogram2dcontour\"}],\"mesh3d\":[{\"colorbar\":{\"outlinewidth\":0,\"ticks\":\"\"},\"type\":\"mesh3d\"}],\"parcoords\":[{\"line\":{\"colorbar\":{\"outlinewidth\":0,\"ticks\":\"\"}},\"type\":\"parcoords\"}],\"pie\":[{\"automargin\":true,\"type\":\"pie\"}],\"scatter\":[{\"marker\":{\"colorbar\":{\"outlinewidth\":0,\"ticks\":\"\"}},\"type\":\"scatter\"}],\"scatter3d\":[{\"line\":{\"colorbar\":{\"outlinewidth\":0,\"ticks\":\"\"}},\"marker\":{\"colorbar\":{\"outlinewidth\":0,\"ticks\":\"\"}},\"type\":\"scatter3d\"}],\"scattercarpet\":[{\"marker\":{\"colorbar\":{\"outlinewidth\":0,\"ticks\":\"\"}},\"type\":\"scattercarpet\"}],\"scattergeo\":[{\"marker\":{\"colorbar\":{\"outlinewidth\":0,\"ticks\":\"\"}},\"type\":\"scattergeo\"}],\"scattergl\":[{\"marker\":{\"colorbar\":{\"outlinewidth\":0,\"ticks\":\"\"}},\"type\":\"scattergl\"}],\"scattermapbox\":[{\"marker\":{\"colorbar\":{\"outlinewidth\":0,\"ticks\":\"\"}},\"type\":\"scattermapbox\"}],\"scatterpolar\":[{\"marker\":{\"colorbar\":{\"outlinewidth\":0,\"ticks\":\"\"}},\"type\":\"scatterpolar\"}],\"scatterpolargl\":[{\"marker\":{\"colorbar\":{\"outlinewidth\":0,\"ticks\":\"\"}},\"type\":\"scatterpolargl\"}],\"scatterternary\":[{\"marker\":{\"colorbar\":{\"outlinewidth\":0,\"ticks\":\"\"}},\"type\":\"scatterternary\"}],\"surface\":[{\"colorbar\":{\"outlinewidth\":0,\"ticks\":\"\"},\"colorscale\":[[0.0,\"#0d0887\"],[0.1111111111111111,\"#46039f\"],[0.2222222222222222,\"#7201a8\"],[0.3333333333333333,\"#9c179e\"],[0.4444444444444444,\"#bd3786\"],[0.5555555555555556,\"#d8576b\"],[0.6666666666666666,\"#ed7953\"],[0.7777777777777778,\"#fb9f3a\"],[0.8888888888888888,\"#fdca26\"],[1.0,\"#f0f921\"]],\"type\":\"surface\"}],\"table\":[{\"cells\":{\"fill\":{\"color\":\"#EBF0F8\"},\"line\":{\"color\":\"white\"}},\"header\":{\"fill\":{\"color\":\"#C8D4E3\"},\"line\":{\"color\":\"white\"}},\"type\":\"table\"}]},\"layout\":{\"annotationdefaults\":{\"arrowcolor\":\"#2a3f5f\",\"arrowhead\":0,\"arrowwidth\":1},\"autotypenumbers\":\"strict\",\"coloraxis\":{\"colorbar\":{\"outlinewidth\":0,\"ticks\":\"\"}},\"colorscale\":{\"diverging\":[[0,\"#8e0152\"],[0.1,\"#c51b7d\"],[0.2,\"#de77ae\"],[0.3,\"#f1b6da\"],[0.4,\"#fde0ef\"],[0.5,\"#f7f7f7\"],[0.6,\"#e6f5d0\"],[0.7,\"#b8e186\"],[0.8,\"#7fbc41\"],[0.9,\"#4d9221\"],[1,\"#276419\"]],\"sequential\":[[0.0,\"#0d0887\"],[0.1111111111111111,\"#46039f\"],[0.2222222222222222,\"#7201a8\"],[0.3333333333333333,\"#9c179e\"],[0.4444444444444444,\"#bd3786\"],[0.5555555555555556,\"#d8576b\"],[0.6666666666666666,\"#ed7953\"],[0.7777777777777778,\"#fb9f3a\"],[0.8888888888888888,\"#fdca26\"],[1.0,\"#f0f921\"]],\"sequentialminus\":[[0.0,\"#0d0887\"],[0.1111111111111111,\"#46039f\"],[0.2222222222222222,\"#7201a8\"],[0.3333333333333333,\"#9c179e\"],[0.4444444444444444,\"#bd3786\"],[0.5555555555555556,\"#d8576b\"],[0.6666666666666666,\"#ed7953\"],[0.7777777777777778,\"#fb9f3a\"],[0.8888888888888888,\"#fdca26\"],[1.0,\"#f0f921\"]]},\"colorway\":[\"#636efa\",\"#EF553B\",\"#00cc96\",\"#ab63fa\",\"#FFA15A\",\"#19d3f3\",\"#FF6692\",\"#B6E880\",\"#FF97FF\",\"#FECB52\"],\"font\":{\"color\":\"#2a3f5f\"},\"geo\":{\"bgcolor\":\"white\",\"lakecolor\":\"white\",\"landcolor\":\"#E5ECF6\",\"showlakes\":true,\"showland\":true,\"subunitcolor\":\"white\"},\"hoverlabel\":{\"align\":\"left\"},\"hovermode\":\"closest\",\"mapbox\":{\"style\":\"light\"},\"paper_bgcolor\":\"white\",\"plot_bgcolor\":\"#E5ECF6\",\"polar\":{\"angularaxis\":{\"gridcolor\":\"white\",\"linecolor\":\"white\",\"ticks\":\"\"},\"bgcolor\":\"#E5ECF6\",\"radialaxis\":{\"gridcolor\":\"white\",\"linecolor\":\"white\",\"ticks\":\"\"}},\"scene\":{\"xaxis\":{\"backgroundcolor\":\"#E5ECF6\",\"gridcolor\":\"white\",\"gridwidth\":2,\"linecolor\":\"white\",\"showbackground\":true,\"ticks\":\"\",\"zerolinecolor\":\"white\"},\"yaxis\":{\"backgroundcolor\":\"#E5ECF6\",\"gridcolor\":\"white\",\"gridwidth\":2,\"linecolor\":\"white\",\"showbackground\":true,\"ticks\":\"\",\"zerolinecolor\":\"white\"},\"zaxis\":{\"backgroundcolor\":\"#E5ECF6\",\"gridcolor\":\"white\",\"gridwidth\":2,\"linecolor\":\"white\",\"showbackground\":true,\"ticks\":\"\",\"zerolinecolor\":\"white\"}},\"shapedefaults\":{\"line\":{\"color\":\"#2a3f5f\"}},\"ternary\":{\"aaxis\":{\"gridcolor\":\"white\",\"linecolor\":\"white\",\"ticks\":\"\"},\"baxis\":{\"gridcolor\":\"white\",\"linecolor\":\"white\",\"ticks\":\"\"},\"bgcolor\":\"#E5ECF6\",\"caxis\":{\"gridcolor\":\"white\",\"linecolor\":\"white\",\"ticks\":\"\"}},\"title\":{\"x\":0.05},\"xaxis\":{\"automargin\":true,\"gridcolor\":\"white\",\"linecolor\":\"white\",\"ticks\":\"\",\"title\":{\"standoff\":15},\"zerolinecolor\":\"white\",\"zerolinewidth\":2},\"yaxis\":{\"automargin\":true,\"gridcolor\":\"white\",\"linecolor\":\"white\",\"ticks\":\"\",\"title\":{\"standoff\":15},\"zerolinecolor\":\"white\",\"zerolinewidth\":2}}},\"xaxis\":{\"anchor\":\"y\",\"domain\":[0.0,1.0],\"title\":{\"text\":\"dayofweek\"},\"tickmode\":\"array\",\"tickvals\":[0,1,2,3,4,5,6],\"ticktext\":[\"Mon\",\"Tue\",\"Wed\",\"Thur\",\"Fri\",\"Sat\",\"Sun\"]},\"yaxis\":{\"anchor\":\"x\",\"domain\":[0.0,1.0],\"title\":{\"text\":\"num_sold\"}},\"legend\":{\"title\":{\"text\":\"country\"},\"tracegroupgap\":0},\"title\":{\"text\":\"percent of day by week of country\"},\"barmode\":\"group\"},                        {\"responsive\": true}                    ).then(function(){\n",
       "                            \n",
       "var gd = document.getElementById('c8522c44-a5ba-407d-8cd4-7627bac4477b');\n",
       "var x = new MutationObserver(function (mutations, observer) {{\n",
       "        var display = window.getComputedStyle(gd).display;\n",
       "        if (!display || display === 'none') {{\n",
       "            console.log([gd, 'removed!']);\n",
       "            Plotly.purge(gd);\n",
       "            observer.disconnect();\n",
       "        }}\n",
       "}});\n",
       "\n",
       "// Listen for the removal of the full notebook cells\n",
       "var notebookContainer = gd.closest('#notebook-container');\n",
       "if (notebookContainer) {{\n",
       "    x.observe(notebookContainer, {childList: true});\n",
       "}}\n",
       "\n",
       "// Listen for the clearing of the current output cell\n",
       "var outputEl = gd.closest('.output');\n",
       "if (outputEl) {{\n",
       "    x.observe(outputEl, {childList: true});\n",
       "}}\n",
       "\n",
       "                        })                };                });            </script>        </div>"
      ]
     },
     "metadata": {},
     "output_type": "display_data"
    }
   ],
   "source": [
    "a = px.bar(data_frame=country_dayofweek,x='dayofweek',y='num_sold',color='country',title='percent of day by week of country')\n",
    "a.update_layout(barmode='group',\n",
    "        xaxis = dict(\n",
    "        tickmode = 'array',\n",
    "        tickvals = [0,1,2,3,4,5,6],\n",
    "        ticktext = ['Mon','Tue','Wed','Thur','Fri','Sat','Sun']\n",
    "    )\n",
    "               )\n",
    "a.show()"
   ]
  },
  {
   "cell_type": "code",
   "execution_count": 22,
   "id": "c262f3d0",
   "metadata": {
    "execution": {
     "iopub.execute_input": "2022-01-09T06:57:00.640211Z",
     "iopub.status.busy": "2022-01-09T06:57:00.639166Z",
     "iopub.status.idle": "2022-01-09T06:57:00.668187Z",
     "shell.execute_reply": "2022-01-09T06:57:00.668685Z",
     "shell.execute_reply.started": "2022-01-09T06:49:39.824589Z"
    },
    "papermill": {
     "duration": 0.10672,
     "end_time": "2022-01-09T06:57:00.668967",
     "exception": false,
     "start_time": "2022-01-09T06:57:00.562247",
     "status": "completed"
    },
    "tags": []
   },
   "outputs": [
    {
     "data": {
      "text/html": [
       "<div>\n",
       "<style scoped>\n",
       "    .dataframe tbody tr th:only-of-type {\n",
       "        vertical-align: middle;\n",
       "    }\n",
       "\n",
       "    .dataframe tbody tr th {\n",
       "        vertical-align: top;\n",
       "    }\n",
       "\n",
       "    .dataframe thead th {\n",
       "        text-align: right;\n",
       "    }\n",
       "</style>\n",
       "<table border=\"1\" class=\"dataframe\">\n",
       "  <thead>\n",
       "    <tr style=\"text-align: right;\">\n",
       "      <th>product</th>\n",
       "      <th>Kaggle Hat</th>\n",
       "      <th>Kaggle Mug</th>\n",
       "      <th>Kaggle Sticker</th>\n",
       "    </tr>\n",
       "    <tr>\n",
       "      <th>country</th>\n",
       "      <th></th>\n",
       "      <th></th>\n",
       "      <th></th>\n",
       "    </tr>\n",
       "  </thead>\n",
       "  <tbody>\n",
       "    <tr>\n",
       "      <th>Finland</th>\n",
       "      <td>0.540278</td>\n",
       "      <td>0.305348</td>\n",
       "      <td>0.154375</td>\n",
       "    </tr>\n",
       "    <tr>\n",
       "      <th>Norway</th>\n",
       "      <td>0.540989</td>\n",
       "      <td>0.304714</td>\n",
       "      <td>0.154298</td>\n",
       "    </tr>\n",
       "    <tr>\n",
       "      <th>Sweden</th>\n",
       "      <td>0.541298</td>\n",
       "      <td>0.304437</td>\n",
       "      <td>0.154264</td>\n",
       "    </tr>\n",
       "  </tbody>\n",
       "</table>\n",
       "</div>"
      ],
      "text/plain": [
       "product  Kaggle Hat  Kaggle Mug  Kaggle Sticker\n",
       "country                                        \n",
       "Finland    0.540278    0.305348        0.154375\n",
       "Norway     0.540989    0.304714        0.154298\n",
       "Sweden     0.541298    0.304437        0.154264"
      ]
     },
     "execution_count": 22,
     "metadata": {},
     "output_type": "execute_result"
    }
   ],
   "source": [
    "# Let's see if there is a preference for each country\n",
    "country_product = pd.pivot_table(data=train,index='country',columns='product',values='num_sold',aggfunc=np.mean)\n",
    "country_product.divide(country_product.sum(axis=1),axis=0)\n"
   ]
  },
  {
   "cell_type": "code",
   "execution_count": 23,
   "id": "0e97eede",
   "metadata": {
    "execution": {
     "iopub.execute_input": "2022-01-09T06:57:00.825464Z",
     "iopub.status.busy": "2022-01-09T06:57:00.824614Z",
     "iopub.status.idle": "2022-01-09T06:57:00.845328Z",
     "shell.execute_reply": "2022-01-09T06:57:00.844660Z",
     "shell.execute_reply.started": "2022-01-09T06:49:41.132385Z"
    },
    "papermill": {
     "duration": 0.103227,
     "end_time": "2022-01-09T06:57:00.845487",
     "exception": false,
     "start_time": "2022-01-09T06:57:00.742260",
     "status": "completed"
    },
    "tags": []
   },
   "outputs": [
    {
     "data": {
      "text/html": [
       "<div>\n",
       "<style scoped>\n",
       "    .dataframe tbody tr th:only-of-type {\n",
       "        vertical-align: middle;\n",
       "    }\n",
       "\n",
       "    .dataframe tbody tr th {\n",
       "        vertical-align: top;\n",
       "    }\n",
       "\n",
       "    .dataframe thead th {\n",
       "        text-align: right;\n",
       "    }\n",
       "</style>\n",
       "<table border=\"1\" class=\"dataframe\">\n",
       "  <thead>\n",
       "    <tr style=\"text-align: right;\">\n",
       "      <th>product</th>\n",
       "      <th>Kaggle Hat</th>\n",
       "      <th>Kaggle Mug</th>\n",
       "      <th>Kaggle Sticker</th>\n",
       "    </tr>\n",
       "    <tr>\n",
       "      <th>dayofweek</th>\n",
       "      <th></th>\n",
       "      <th></th>\n",
       "      <th></th>\n",
       "    </tr>\n",
       "  </thead>\n",
       "  <tbody>\n",
       "    <tr>\n",
       "      <th>0</th>\n",
       "      <td>0.540618</td>\n",
       "      <td>0.305092</td>\n",
       "      <td>0.154290</td>\n",
       "    </tr>\n",
       "    <tr>\n",
       "      <th>1</th>\n",
       "      <td>0.540861</td>\n",
       "      <td>0.304648</td>\n",
       "      <td>0.154491</td>\n",
       "    </tr>\n",
       "    <tr>\n",
       "      <th>2</th>\n",
       "      <td>0.541073</td>\n",
       "      <td>0.304628</td>\n",
       "      <td>0.154299</td>\n",
       "    </tr>\n",
       "    <tr>\n",
       "      <th>3</th>\n",
       "      <td>0.541214</td>\n",
       "      <td>0.304677</td>\n",
       "      <td>0.154108</td>\n",
       "    </tr>\n",
       "    <tr>\n",
       "      <th>4</th>\n",
       "      <td>0.540796</td>\n",
       "      <td>0.304549</td>\n",
       "      <td>0.154655</td>\n",
       "    </tr>\n",
       "    <tr>\n",
       "      <th>5</th>\n",
       "      <td>0.540148</td>\n",
       "      <td>0.305577</td>\n",
       "      <td>0.154275</td>\n",
       "    </tr>\n",
       "    <tr>\n",
       "      <th>6</th>\n",
       "      <td>0.541584</td>\n",
       "      <td>0.304332</td>\n",
       "      <td>0.154083</td>\n",
       "    </tr>\n",
       "  </tbody>\n",
       "</table>\n",
       "</div>"
      ],
      "text/plain": [
       "product    Kaggle Hat  Kaggle Mug  Kaggle Sticker\n",
       "dayofweek                                        \n",
       "0            0.540618    0.305092        0.154290\n",
       "1            0.540861    0.304648        0.154491\n",
       "2            0.541073    0.304628        0.154299\n",
       "3            0.541214    0.304677        0.154108\n",
       "4            0.540796    0.304549        0.154655\n",
       "5            0.540148    0.305577        0.154275\n",
       "6            0.541584    0.304332        0.154083"
      ]
     },
     "execution_count": 23,
     "metadata": {},
     "output_type": "execute_result"
    }
   ],
   "source": [
    "# Lest's see if there is a preference for each day of week\n",
    "country_product = pd.pivot_table(data=train,index='dayofweek',columns='product',values='num_sold',aggfunc=np.mean)\n",
    "country_product.divide(country_product.sum(axis=1),axis=0)"
   ]
  },
  {
   "cell_type": "markdown",
   "id": "32ec141b",
   "metadata": {
    "papermill": {
     "duration": 0.075725,
     "end_time": "2022-01-09T06:57:00.996566",
     "exception": false,
     "start_time": "2022-01-09T06:57:00.920841",
     "status": "completed"
    },
    "tags": []
   },
   "source": [
    "## Lets do some animations"
   ]
  },
  {
   "cell_type": "code",
   "execution_count": 24,
   "id": "cbbc4182",
   "metadata": {
    "execution": {
     "iopub.execute_input": "2022-01-09T06:57:01.151235Z",
     "iopub.status.busy": "2022-01-09T06:57:01.150533Z",
     "iopub.status.idle": "2022-01-09T06:57:12.365661Z",
     "shell.execute_reply": "2022-01-09T06:57:12.365092Z",
     "shell.execute_reply.started": "2022-01-09T06:49:46.384787Z"
    },
    "papermill": {
     "duration": 11.294959,
     "end_time": "2022-01-09T06:57:12.365873",
     "exception": false,
     "start_time": "2022-01-09T06:57:01.070914",
     "status": "completed"
    },
    "tags": []
   },
   "outputs": [],
   "source": [
    "!pip install -qqq bar_chart_race\n"
   ]
  },
  {
   "cell_type": "code",
   "execution_count": 25,
   "id": "30317834",
   "metadata": {
    "execution": {
     "iopub.execute_input": "2022-01-09T06:57:12.519381Z",
     "iopub.status.busy": "2022-01-09T06:57:12.518325Z",
     "iopub.status.idle": "2022-01-09T06:57:37.947886Z",
     "shell.execute_reply": "2022-01-09T06:57:37.948421Z",
     "shell.execute_reply.started": "2022-01-09T06:51:41.096537Z"
    },
    "papermill": {
     "duration": 25.509174,
     "end_time": "2022-01-09T06:57:37.948652",
     "exception": false,
     "start_time": "2022-01-09T06:57:12.439478",
     "status": "completed"
    },
    "tags": []
   },
   "outputs": [
    {
     "data": {
      "text/html": [
       "<video width=\"942\" height=\"504\" controls autoplay loop>\n",
       "  <source type=\"video/mp4\" src=\"data:video/mp4;base64,AAAAIGZ0eXBNNFYgAAACAE00ViBpc29taXNvMmF2YzEAAAAIZnJlZQAD6BxtZGF0AAACrwYF//+r\n",
       "3EXpvebZSLeWLNgg2SPu73gyNjQgLSBjb3JlIDE2MSByMzAzME0gOGJkNmQyOCAtIEguMjY0L01Q\n",
       "RUctNCBBVkMgY29kZWMgLSBDb3B5bGVmdCAyMDAzLTIwMjAgLSBodHRwOi8vd3d3LnZpZGVvbGFu\n",
       "Lm9yZy94MjY0Lmh0bWwgLSBvcHRpb25zOiBjYWJhYz0xIHJlZj0zIGRlYmxvY2s9MTowOjAgYW5h\n",
       "bHlzZT0weDM6MHgxMTMgbWU9aGV4IHN1Ym1lPTcgcHN5PTEgcHN5X3JkPTEuMDA6MC4wMCBtaXhl\n",
       "ZF9yZWY9MSBtZV9yYW5nZT0xNiBjaHJvbWFfbWU9MSB0cmVsbGlzPTEgOHg4ZGN0PTEgY3FtPTAg\n",
       "ZGVhZHpvbmU9MjEsMTEgZmFzdF9wc2tpcD0xIGNocm9tYV9xcF9vZmZzZXQ9LTIgdGhyZWFkcz02\n",
       "IGxvb2thaGVhZF90aHJlYWRzPTEgc2xpY2VkX3RocmVhZHM9MCBucj0wIGRlY2ltYXRlPTEgaW50\n",
       "ZXJsYWNlZD0wIGJsdXJheV9jb21wYXQ9MCBjb25zdHJhaW5lZF9pbnRyYT0wIGJmcmFtZXM9MyBi\n",
       "X3B5cmFtaWQ9MiBiX2FkYXB0PTEgYl9iaWFzPTAgZGlyZWN0PTEgd2VpZ2h0Yj0xIG9wZW5fZ29w\n",
       "PTAgd2VpZ2h0cD0yIGtleWludD0yNTAga2V5aW50X21pbj0xMiBzY2VuZWN1dD00MCBpbnRyYV9y\n",
       "ZWZyZXNoPTAgcmNfbG9va2FoZWFkPTQwIHJjPWNyZiBtYnRyZWU9MSBjcmY9MjMuMCBxY29tcD0w\n",
       "LjYwIHFwbWluPTAgcXBtYXg9NjkgcXBzdGVwPTQgaXBfcmF0aW89MS40MCBhcT0xOjEuMDAAgAAA\n",
       "E/1liIQAEP/+94G/MstfIrrJcfnnfSyszzzkPHJdia640AAAAwAAAwAAAwABG/YQ03dbmvxE8f+A\n",
       "ljtoaHzqfXS4N72dV54uzNNggLMJtGoI+Ih+ja6Ds3bd4LXSC33GIzAS3o2RQ/tosjAB8yqjwrIY\n",
       "nCKO0YDxb7GIgQJMVvZuZU4C4S855bWHQBZ4UIKCg6zJBKYamd+jvKEUyXHD2MO3ipzgAAAxzvI3\n",
       "ztK1F+uK6y73OQ+3wUV4xSjKKqi7Sbs8Zf+QDxDPwnlN/O3Jgv6VybVos05WW/a9O5cPv+Xjfd3b\n",
       "cxyw4wN6kYQFZLh/l+iunXtjy2neWmC/8G95WUhYBTMXxyDvNFBwvMdaCk2h9A9n5xjBeHrar8yA\n",
       "R+r18esT4Mp+9pnRCnCOLDmf9RTEi/7B02JhPCHh24+6L4JtoRU1q5YkMkwGTMXyiykxbIQGNM//\n",
       "3+IDhK63lQ+EABM/O3MjCp3SiL0GcdrJudWuK11W06ECamzt3jDiPl7EvLj7GiOo7kxAg/a0NR/U\n",
       "lKcjtE2qEbZY/vyAcMgAG0fIRBv+lfEkl7dEZS++lf0h2NdWrZq7o8Et7pRTJcfp+Jhqkrmnq74V\n",
       "BPMCTKcIQYgKDg1CiKga+bPGvV6oHR7A7T0qn7/b+D17kVcg66q/25OMod333c/f5yuSxH7Th8F6\n",
       "REC9nCfI9stS1XfPLCh4xnjfUFGDJA7LdBazyjBub/imk/L2svjaGg8lRktATh6lsXoXRdGn7zfm\n",
       "8XTsLr7DMwQGX2QWwymcL0ZOrVPYGMWHb6Lb0yUQfEHY/oxp7GXmYuKCELC4ZchqgREUD41uZ00i\n",
       "ASB0tYZyYNMx1wk89lbWE9GDGtR53zX/cvvNtVGXvVzkLXkKmCCnszO2DKxLEB1vCBxZZLGOyOVC\n",
       "NTnhqJwBS8VU/FFWd7RRD8JIsR6UDm9xA7Xdjp44J7WAmIvwFrSaoUgczAHvajs/jw6MNfwYhfu3\n",
       "B26dD9Dqv5z4vCi6HHCRNDfwidxMv0OkvwjQFOtgHKYDmTLZF+owdp2k5ZZmXwpKI3pLH9aEEowk\n",
       "noV/MyikWM0CGJdM3zM9uTWT/s/ElJNTjZVAF0fcjoNu+MNyFPgw4+fUTLbW77DE9hN9BcouC2e8\n",
       "TuU1ymJAMnwSuWnyHOzG0DDnDX2knzt2U86oUebs0Yv1nSlEDGHBUkij64COzE8PaOcpLtgFJXSV\n",
       "QijPY7cgT1n0dz0OYSUsVZDbvSAbY3K2R9fNYeGWEdChkHsufQgTDWDULpc8yqSYr8CN0/fFQ5zG\n",
       "zwp2iVU9n+fPwEfr3jwz2DZU77Dii4B2U95q0RAdRWT0xeRS8/HYjer+qRxc2misY6svYbtmKrI+\n",
       "Gd61ZOzor8PKrT7ZSoepGMsckp8AfxFQByE851SZdOVINrr8NJLDkETbALkLs1Gpbp6y/5aEp4qD\n",
       "HzUSZ8v8H135AzJM/dZXWN+HgSxjN7TYDi8vDmaf9Z2jbcdIwXCEI1tLGQ4U7Fo4ocSB0AHK4jLC\n",
       "psoeqhVK8ImaPAIC+g4UEEtpZ9zgYt3eLyDu7s1QkvmwU+AmhTRwuHJR8dtAtVD4CqlFQPbhEoWX\n",
       "9C+raADdmqgOkAzfO+umoPZiDmuauP2ubPUqelylgnUGpXmIfJi/2jBjx3okAU54WDCncJvX5ja8\n",
       "Awy/pYdI+dHVDxvui8ul8+wHNBOrE7m3DoL2YEVoha99mx8m226IO5JEQk/bxJRgBNqLFjm6+0sn\n",
       "ItNnwE7++yyktwgIE/O1E3rmtt8832rBgU8txAbaxxCjy4+R7mTEcQKp5pKFlFS4soAzdZrJBsVx\n",
       "ZZfoZak/pbqz5wigKmvthigAAZZXwDdIYVSHbO32kr3vN6MN/qNeiXcvzPuVubxkmtuPpplTZavO\n",
       "xWuOThxu0Et2V5vr5f7hjjTJF3dxj6TyyEZA/xLfq0xsv3torBBHDC3SbzpGYwsMoCGKX7hQAQf4\n",
       "vWrcLpwfKTglmVJZKH8egrCyCLNdVZxCcNC8iUELKDcFNDdVvMvRYzy7GIHLSO71EsYO5P0DGK9R\n",
       "BKIgXkimUEayP00X/WaMzuT4byeheHITxGeLT5e/icWM9boIXNKVo7hvNmJ0mAYzUtOCg6/GyKrl\n",
       "0LUgY/w49hcu6c9Yeb3brr+115P9Nsf5niY5vdARgR1LTJ+Vl5N62/yKoBA0FCRz6tjlr6xeD+fl\n",
       "18wdXPF+Z5+Do3ge6UEikPGfliA1xQEj/w+JJ7KB7k+wizQcZup5g9+/QsAhhRJFYuMAGgCqGg1r\n",
       "9IzyRJgb6agwyrz8hTk0xT5oAD23yEPAIkIjwYWrWSgbno+3ydWaAkm69KOrft0bMnd+ESEEZ9Fr\n",
       "jerjyO5x2OUUBD8NbrVYi6CUz7hTPhMWZppEzkrRTWGSH1mSQBnMjGEScglSo1CTjEfqJGdAvwZJ\n",
       "/yPiHaq3ihrxLu40yEHAbPKd/uvGGaUeVlxEXCjpdEH++9UVCSmnL+MH888fYcCdvNRvYojS7yPp\n",
       "4OzA6hv/MCMw63A9l4c3fb7E1oy/Hulzpzr70jSR0YAKb3qy2Wb+fqNv+bXqbV22qyGX4DimVLJI\n",
       "pb3T9XkKknZ+I9YXldBI/oxoLpzyOXz9xqxn1jBUfKC8HGFmKXFrqEvfmSgZzF9dUI2Cd73I/SsH\n",
       "/+P/ceG8UIAFN01E4cumih005Wyf/BLuVtYuMnu29+Bg5yg61BNOR/Skq4ypgmj/SgUW3Ao6Po9w\n",
       "k0Smz5bzPsJKuGhbinTmjjGnh+Iv5ZSeNjXJU+8HJ8GE/9D+eW47YaAAir0QsFiyrps//j8+NJDt\n",
       "poljkelVBWFj8qaT4U+K/3wk9F5kia0UizvF5kT3Wrg2FKvBf1sb5lddVuBB151+TVkomFT26OVq\n",
       "lUWNwTx70ZvomupY2drLqvcE2u9QIvoAOgN3YDrq2kvPEQo+sRB43riSscGnV9iYw7KGeVDBopWX\n",
       "mADx2t8oARItUPm5Ano9+w4c8T4YIfBjlgGD/LSUn6iTtnRiOTyqpHw9750YPvgARZ6O6oqzmjfW\n",
       "jGViV+3lkmdinuCGASxgvNWlsM+Gi6xlYsHnhxaxUiYRmyUC7I3OXc1p/D2g1mj6Nf83ZQblIHAh\n",
       "WmxivTTlNBqecZYzfRRiVy2e4JJbrENdwWKe4HKk0pdVfcQ93sewf6ZNvOdz7LyX0uNM1rTB3RyJ\n",
       "Mzrh42j0cScWeUDoplxZ5NkMVzfArHQthymNqisuowl9o5YgtyB3zy6n5QkbHiJFvkytAyMUkN4l\n",
       "8DYxtd7F6Q55eRgU0jKWtGfNSER6tP/MPgbO595A6rK5AKb2Pxk3MCHN/gQ4So+7LsGCmU/sQgC0\n",
       "zgmeje9cvuSwiCdwLc2xTgJMXGlGEk0vTeLmObHd2fGWS++qX6gC4rXmKzXPa47s3Z7r1We3EVLD\n",
       "EAOQYgHvF+nvrQf4a4CmQHCEl1t/Fd03EROZyu6zv45l4pBlhLQU+SZwlv0UaMbkVEHTMm9vqTnO\n",
       "sbSra4cQUKeKsQUn7l/I6I5J8m/j8FoKV/n088mLZXfEkXefyMdKXxBIirPPdLfV7wxgRSRG3nqo\n",
       "QPfrlahPz95d0PLm7HgAI5r8m9WTj/lLD9MzRNo64D6HO8mnYZQt5jQ2lBUtkSWV0ClS/f11blLd\n",
       "c6zcIxiUqHU6T2/Aw47tqzu9aa9jXakY8X/y7fL9X/LcBkYVoU1KhQ8ddZKBAibL6FUF6/Rg3mqi\n",
       "3pobGb/OHOMNIoDVC6M+WGsIgRnTJ5OZ8piVkAAinSQqH9qrTHo20ox/PwLDmrJ++5XlSjiLbCGx\n",
       "3rKB5DBNzShP0TKIOEVbGmw04otCmu2qE7hTsjN+qkbt+dQyKNnLZ09yabcdKgco+k6B8ORO0IU3\n",
       "5B0Q48cuNOWO4q1+LOntQKRY6/p70ojJ4vX38F1hwkliTP4FyD/RFh8BsKJcdmTnou1IEMvLAlnu\n",
       "S2fbJpsLISQ0exO5UbNEdvrMzU982oSXzN+gLRFM53etY+kr86cPRwqLzFrsKERAnZ5cfTrpuUa0\n",
       "HwwtuU0IZQlDE+l4q1YbOL3AtF0Oebx8YtEqbBhYbfvvpAAOIShvbf4YsqtHwYgbtxsnoPEkmgti\n",
       "s5L6wjqdEzUO/C+h0ZAC7/aLUOmnzQz1SkT/sauLzAuoFCV9eXwpokV6u/VDs78m1pWT8EDR/yDL\n",
       "Go1sFdQLVu6/TPZL+6ZrUcgw648cmmEGs/QLSRThIEpllNHo+VTj1U4OW7iA5PQ6RTztDISf73k6\n",
       "70Ww+yPPgVZcgCg/T13yJ0ZdFzKRoMG/oERE+13nvMpCAH39ZEcf924jV3gZFfpbyG4dWSnlTbPx\n",
       "vsgZqV+zqGTXdwkC+7jlqH2AgH7sUismexfJ7U3FfdmhQzQj+719tL8+Mdv7iIS5tMk7yXU/7y5y\n",
       "3f3iJp0gSa92GDT/IHwRnoCL+IOPXQAX/J4oQFKvrN0syAAM3WONGZq0PdF4/0UBTg1DcTjFs8HJ\n",
       "u2y5nZvV0cgIXT9ogUJhnFGpE1Kn7zGXpfmhCN4wcSUVOtCuZACnMTyPVURXL2KJoTN/Q+VuViq4\n",
       "mxLf8V5ue0kzqX4F9/H2x3zDyvNoaIji48O0YRjXNRqr3234kCCNe2QHXUmpPewgJ6ydkaqWvxPo\n",
       "lnP1yIK3gBAcYX0cMXL40de+F2M8vNWRGLh6g5kqDUDXf8tqrDyxmROYz4Xr2SVlMLNta0DPPHgI\n",
       "2MQm8++H4x+bwglmlUWDbwyIVHd3mfJ+kBqJd4gycEy0QVUDROj94HO1cKm2WZCFigwW8z/661B6\n",
       "yDuCa9Ay1g76TZJigUK5PTj+t72kfpsQSt7Ky5MyTQzdN+0j6omE5rnf6KtFOM/X6gYkGjdmoG1r\n",
       "+mqDPYxmTGqQqcbO7cAMoO7wDaLzd96MWbG93vihzF4pzcA2t/G9vGwSuRnQ0XPDybrkRDu+q4+Z\n",
       "u+S6Bg1EoZMmr4ESwdhSaAM3WuNXfZB+t6mKOmqD2y+oyf/ClTy6b3PUMwPS4M8NmoeuzB1FX188\n",
       "GY0y2VBCmgsxMZjJ1CZy1ChncokOuCBJIBDyn6W1OlVBITvqFDSjCL6MTnSZTqChaiq2uy29KTQF\n",
       "lBegwmW2BldwQxdFlZfclln41guak7IvD7VYJj+NgpKJfzgmWx21YRg+9ZtTxr6WetsAq9YihvEi\n",
       "YCn8WZdj+uxCzvbgc7yFEhpPckc7LVQCJE5UhdhXn//BrTobPjik4t+2YltwJVQHbMMaPRlf7tyR\n",
       "qhSwHy2+Phm9TInE0vlYMZa73Ja5cr1x+N3jHJ6lvly5NgQrslajOP2QekXNJr/nb0AAcVwAAGKG\n",
       "h7yL8NL1gkhP0bipipGmJCf8AC7Azdxc9qA0fYV0BnUStfDtnbJJUIeC82Gu6/C96MRn4Y0C+C+D\n",
       "aOW/3zsPU0/yAA3+r6+b4hRYhLwIp9oH4HkqtJHTm8BgXeYq3GAXx5teJY93QR/MnACl0WJAYRZQ\n",
       "o/QJkzG6lKXAqaKMkR6L1bOtyDbhQGdmXJnjNw58xGqaebEj3wiFi4Gb/PbDvs4HijmLZHZkrTB3\n",
       "+9RIB0bRrNeCAM9piSFzC4gJVygloIuYbMc+1Yhi4Rv1htisblBS0Pi8e5DLMOI6RWQhxjTbDDUx\n",
       "Mkt5D4xSThGMPEkQ0u5RhexXFKxl9/cUayse8W8lr7epdK+cHV7fUjvGol3wOtpegP+xVoN7UWpM\n",
       "x5omFwDYZpJoxbWxB4xJwAdAKxTINmG7Zy+dNcWcFBgcl2V8nvId5Ssi0bmP2/izH3VoO9CNuSfF\n",
       "4GoV5c9c2jg8zfZkuUVnNNdu8VuKZOhGBv8tTWg/djUlFYmBwXyLiregGpewVoaHMS5qSS9z20Ab\n",
       "jNNRTmYLdDv9h5ukVXCk5a6GUyB5SgP45DDkTqjRg2+s6jZ/937qMrQfDHaPk9LW1Ccel6WGla7G\n",
       "lMq7a273LZzZdKmP3+zNBKgLd/MJxSajGzgGL2z6K+J9qZXfkdCrRpCbxLeuW1jo90PP69xGxEYm\n",
       "oG1ihPgpSQLBGX56NPLb8L4a7z1ygEWH3JlVvGxnXdH5Rw2J6moTG7wy0wm5RX1Yeoydp/K5zg5O\n",
       "0GVwFZukdUGfIHtM9a7RYwKkXGl/hPn/EWBdu4xaWVVgjCNNLXhbXiqbGzsYWe0dWEfILu2Y6sjC\n",
       "7AIhaPX9hh5dhvR9Zf66npDCeAZLc5+Yr7B1OZMvxyr3Im9i7THtOo31VwUrYNyC45X2GEGSeNFv\n",
       "FFOT6zli+esAmEmBckxFUU01i22CEmAOECFYjVLfViGZKgI8nY3en8mwKa3TSroKWemy6Sx5s8pv\n",
       "8SzQIROTTFOxRl/ErwI9u98y6kDjsy2RKTj4hV2wqzX3kC61L931em0e3+/20BCsHlJcBFWdAB3M\n",
       "DFuRbP63HJyDZRTSZ3x/cCgX7QxGLLuG1g+P8lzPu7SnFpt9xPDU3s/uy/xtBOotFC8eWkAl8Ee0\n",
       "WMYf+0uQPLu6m0pWEWCYsvaWevOilRbh+bHmA35SGDwsRSGu6VbitPWQXYrYrzBY65RobrHj2OW3\n",
       "UeZCNR0NXdXavoXLCpUwIB7f585bOiOJyCNxQwutADu/3TFhGGL9U9xIH0sy1crYWH6BtagL4HIp\n",
       "/Ghq+wNlAqdpKASa7GByF1DGJN1bKnSpH0hn922Fjr5Y+ghNy/ov01cMwShZjayF+kQRcFcbb9Mx\n",
       "LX2M1roynb+B/p4JyYvoovfbpp9EA9qRAnJPw30pfqmlXe5aQ15l4GQczRg8Nc78FlSSxC+YWIS6\n",
       "EJdoUFj4R48z0iH7/ZmglOEfuDazR6kb8rz1IozFZMKSw4TqSc0k4AAAAwABxQAAAuFBmiJsQQ/+\n",
       "qlUAJAm54GdujozbKBpPwlfdC4ixd5DLz1sbAu0/qTUwHl0eIcPp9nKbwWwN8g2QZnrpxWAaFUga\n",
       "W6NzXbxiUjKcru9ZHs3NS3XHPdGd3jmadtpOxG5SS6x3ISY9kj2QEp6pZRGRPxztwOhYRDg/LCXG\n",
       "sLSiatlLS8H7pGdkt0EfLQUmMPgzPCnayCRnQpTJWeSOjWa1RU97QjEl1+Oc3UXmTujLgNnyj7oz\n",
       "vdTljRT65ee0AkeOyxYnLtIdUlSh2/jtozszjW9JEGYZ1EhzqWofKDJxIFlHdSomtbxJei9PJ9ms\n",
       "9mINEiJkHUOkGWeFUW2IkngUvzvJhaOKHEO6OIDzYMEGpND2MKNWhP4SPLs2SYYfmIHvl4B0QRjP\n",
       "On9S2gGwt8mrR9By2nrj1hIZ8GnyovPDaAwjYOpAIRZfw5wB3L5+0SBK9Iqu63oXEekfLnrcNhEn\n",
       "pLodb6gRtBoQY9/xJdj2QuTrQMSrcyuiFjVUcV93duWeX9MgH9yfcW7MN2ARQst4aZtMsJzUD+8r\n",
       "l4oUrns2vq182ytARmN31DIaCWd0wJzBYUUV1zc5W5svbSRCdqbUMtN9DsvlTyau5uNrxc8Gt5QE\n",
       "fSUs2Fnw6admXvApBb1tmjv9+i2T2lbnuNzqJa6cyjT7Z3C7K1KUjcFppQcIzj/9PtZfgQaahNnj\n",
       "NC95ExU5yi27hnrGkgLQ9yzJbHY+kLLsg02th1aGDbxEVbMvirsOsciakeCz7/+bwC60GVfy+X8h\n",
       "bdxLoUaqhSgzBB+v5Ro6o2xZQzDsmocn7kveYW4+1vA8jtHHQGVmYfQyRfxu4eU6GlteCqWqF9/N\n",
       "mYUnabi+sT2/KYe7WwH/kXAS2vgAiV+J69jrIEiosE/dhuzeaTQB2eOt/sQN5Ye9NydeXmRugyKz\n",
       "KkR0PHSKPBTs487g8PvlNONMpmUQgwblHbVY4u6SLKxKSq1/cmJFLjSrUGE8agAAAZsBnkF5DP8A\n",
       "eXkyd9evPz76G0WzEbn94yxBH4D1P0haCPO1jlonvw59OgBLLTQ/Yr+Qv1DKyQVmAGfRA64TYpXc\n",
       "e6Ign4oOhkzMk+0Xy0YJfkuQY16bl8ZMl8D6NTUjFsQJGtfpLEX/Q4hGcAGlWh3f+uWF/b7jT8Ig\n",
       "qoyVgg0+rEJUpks6ZduzmwE5uY+quxTa2r9kNo/qI0XAdyuYVORG52XxFgiOXL1yrZbFTOLUHtTe\n",
       "kxlvM5UoJB+Ps2lIrKrk+ugn/NMb8xUCGVyAqN9lucdnZNrKjHZbDJVqmtxvg2bmRJjmN/Pp0Sy+\n",
       "j+iwJh8bCyZB6inbT53LG5Z9PP+rbY1tl5fP3quFrmk5t8jAsL3x+VMEH/q4hG7vJHdR/EIKtOrj\n",
       "e53Dw5ZlsV6gN+uNON5XQ6zsofoTihvUXtAWWqo1P8Wcuc7kSidFLPREp8h2C50/odrTm2tSACYz\n",
       "/L4+jzpJ9khzX6Opj91TVtkF37sxkiRw5fWzttzlQt8QZL2UyFuppuhK1zLscq3bf34etLlnL0HS\n",
       "XzYAFJEAAAL1QZpGPCGTKYQ///6plgCMGTJEK6xNOgNIJpDHwyGATSozdphsTJqCc2wwI1qz8HO6\n",
       "yK40MbRgYrSaahXn6QMGHfzHYC40biV81NdusM+FX3Gwn5+fAn7xM1JOCfo5mVlIA9DXNedgnncH\n",
       "XXcXUjSAXVjke4Xv2Z7dHAgqC5KPwgCqlw/8LVrm0bDZVNJ75p1T+t9z5df+qdz7iLpAOr5JIc4+\n",
       "j572CraVHP4e8GMMfbUsbG5tgrZ9zaUeRJaNzHn8DoFYLUaFboWybjhSa0lUxMICywTx2dSCOa6i\n",
       "oxrgN1HsMx07NcVvzSOrnphp5aE20XQwOoYH/CjpV7ZRm4g2fZkhgF2C2u7mmTp1NogUxEMVp3qs\n",
       "fW7YWufo+fwE37hXZK1PVRuo4+mxoL6O03BSay8CI5t2vM4qyHR08hlOK6I5RZQkSUyc+GxiVxCN\n",
       "zPhcRL4vM4GF6KviKALsx+geHjgRvlQRcRgYZsdOgO6M4i6UZz+ZZ9YEeSZgVta/raFrgCphjk1Q\n",
       "dK60I4eOPpYWZaM5NPYCrajiJ1SE8VGmXircWiZbaQR68nQJaI+SmVNpV2iilYLDfFpGJKoolJhQ\n",
       "MoQGpB3G1O5xk4xmCcq8yCIDgOT4mZ5XY9ysBrAmBefMz3u751P3MA5c85qfCjTOuOKkZQns1gU+\n",
       "SZqwna4VaJmhcdtLmM8JQj9E/QfNHTHvlLpEmFoktQ2OoZD/lfySA0i1kBpSGzVkftoyKapYD5yh\n",
       "/ucAT6ZPwbkc8DRgvIXE/1lABxPbOlYyc0nTBbYOQcDtwJPm7VdtHdFRlDuEiSmou5gJSLRWgc9l\n",
       "ca8hvnkYYZiYGo9jdB7Vf9TxiBvlRK5hKV9Rmhv72hIei2Xs5BDcQ/vtiSJ3C6KeR0/4dDR67kt/\n",
       "2cbD6zdt4ZgIh0Feao3MP5V42yX4T7TYbRaKgdzEjWPlKVBAnS4VJHYpTtaIuiiZ8SF42zn535g2\n",
       "1XUyWyzu4NviFYCg7+pd+iBftYsq6Q6aMAAAAgVBnmRqU8N/AGQ8j0A+Prky34x2lJZ9L7PGV0Lg\n",
       "iDOlnnropaqenOpxdnSKyqAEtUoLBWtr9VNkbHqob41g0kpk9vfZM75sK0Jkn3wXKWbyVdc6IHTU\n",
       "eLErWpapZ2N3wJQa8Ru/CKorRkzBtB/Dfou2avP7JJef+nbhZr37/3T8AEqD2PjCRdtxmJ//lVwi\n",
       "lgDO03w36lY0pt7W4G6d2+MgolfcVv+Uv3gRARVBZVYaYhzQ1/F/3kwsYxKfawWawV6XxZ7OSQp6\n",
       "dnGKkCShKhKfQWv0GlMTx439lQuVEqi2CrGs3gVtYh2SURDEQHzs2jJOEmzsZ0xpMjbuKtAgsiC/\n",
       "/mtyur/CI1dOBSGDsRs60N/+OzamXsSvBdvl+dZoSulAmTCrxmvTjccM3dV5p7ko2wR3qNiMqaoy\n",
       "R2sq9r+zgAAAHVjt6xrcgklZAAAM3tnqNEmQBp/QG0JJZbsTq2wqZhtrN8wSthEhRYmNDmzynlBC\n",
       "A3ygE6oEaF+1xuKctpmrBvl1LKE3vv/N9H/L5WrFCzwlc3333Q+txEtnSOd3nT26MHf1/Xa0hgz0\n",
       "Uz5GPjrIgHWrYaUqUC0JufNYTcsgFhSaLZxMVyBBuATuWPmKB8IEh/d7OO6af8rQLbWRz6y+dzHP\n",
       "ub6gNV8MxSLQLlH3fCFxJMqcSU32SCnU45hmM/k4cB3RAAABsAGeg3RDPwB5cik3hCc8fAP/xaGL\n",
       "wYNHJITW1kMl7j93/dcCXapj4ZX/iF31YfzCq9unQVgIgGz/rVznDfBWjfjTiVNfpN+XsALcMbAd\n",
       "dy+Ny6o9tVeBoqEUPnmjajZhfUomCoLCJbyQCBRTHPToKK4bvAE7rzjeQrQ3tfhs7JfoqrH3R2kc\n",
       "UEwILrMvZaJ6f104AhIAMikpLZNwiGMBI6sDUgNPS1n+oyVUkZ0EDwKZvVb22oj1jjFKBQTqMKWJ\n",
       "xWwElJYCqDtffSuEbZgnH1cMrNW1I08SxfKSXAuu7b24IVQ6zBs7icNxoXAm59vt5JCB3v9O99Fh\n",
       "1v3ZDQYxhWfBeVeldMfRgyYof5IRP/uwFWUDkyz/Ayek29UTmK0rMNMH+OqSNBHea5iYDTDQE02U\n",
       "Cs7ACvXSSd6LIEV/L4mKSU/zUNH4dvN2SAzcrlONN6mtMzCloiMWIewcAL0kNOOJ94HI7k3OSwQQ\n",
       "ukq03LoM0sysWACrFVDR1bPXahLmIeutVlze9NwI6T3LeUUE5Cn69uHbwxgbwI/k4ihVI7pxQ+hA\n",
       "D8VpqLMLibP1+oD0gQAAAaMBnoVqQz8AeXkvS9fp5+F0LhNSZHdJK8f/3W6bFzmH+Pdmek8uwEQr\n",
       "8VGoq6xu6iRlZvInGrdckWtfRNsDzGgFyYtRwAtwpdX62pmDBzp8rNBSdyfYyf4yoj6NBlYf9hw2\n",
       "uBbKwqzxcromNXyRAkIp6Yq105KqvbiYkywfez4aW6clZbhq0fI4T+1El5NxDXf06O6KUMOrCmz0\n",
       "9atek1jil7F3mrV1+R/9HqvxjtdoQh+nQsczGqweF3G6xbMVZRdKcBSlhbVYowshRiqN9quv1CEy\n",
       "jlIdVVllROADZunRUeoyoG4RLLk4N/2DW/i4bN9iehJdpU6SNcidtfeCMHbZ9r94Sb9wD8osqSe6\n",
       "TZFhq7uRPcilIFLC/5PEr/IkM5XqglJkI7lWXBnyc7eMHAHytiliP7k48nPLdJE0C10bSEn+g1Gy\n",
       "syxhcv9k+z2aTNEcRueDfISEwgQiwpEqqq2wLdzJBBko4bXQ84ZsMNwKPMwWahwVR1Ksb5aF9YBD\n",
       "zQQUbBeMo2dQ+U5kdLiYgS8sGG7ZlTFhNzH2k1XXa4Q6+/gPuQAAAmJBmohJqEFomUwU8P/+qZYA\n",
       "jBokh1XiR0DFk5dJCti09AcEsz41UmVnvL4oiXeUppKW4qVhtp6kpD5kSfwAuO+6enlhSW6YrtPo\n",
       "Saw7h2HK0L72IPXyj5NfnZlolxPqzWuu6ywB4mDq7eTxlkATVf7JJNBuyaC1H4qiz05e9ueNAjqj\n",
       "Tq4MVUq/byFNb2HXtzXzRL+7tP8C5dIZE7yt5pGPFGwimu+mYLrw+gkA3eCmkOYZlD2gMBtDkLMc\n",
       "mF8CryBcOFQe3MNlkzFVNE31iGGFTHm8RjiW6dk1T81Z3zXDdhdB1/6sTCI0pyVrkXioueapOHeJ\n",
       "QKMkBTBvldSaT2SuV0P6KnxRJVs+BLHsD/AL8eNVleSY6vdJj+mCeDxzfV4gO1eo66ME4PdA8v4K\n",
       "zI4BbGNhVr3j8H3WVUachuI0+RyX9sVwYeMJMEttpgv8Hkos0UChK5YOAPo4qEUV6RKU+gPqkVzg\n",
       "GfyCiZBDPgmEGkqEUagmQb8tJelByEessu6RezE3kWnWHzaF8BIRtNDGLzJZ+8TVvA3/9VYs+PX1\n",
       "uMm/bMu8MyGqXU+Nk6POCz+c4YMZsfoMVLsLl/waSw/ZhXX1bk9zPu2hEzSZezDdaCgfLbpubo+H\n",
       "Nymy87Mo39pnUV7x4EeTTEox1IPATtyATQ/oCihWGfiR3r3fXQx9GZIZQwyPgm0J6R/AguJqG1Al\n",
       "pwiYWnIFR2/kUYzLT9rvBCmXVa+XuDCULdlLKagrilLgnlADkBUkA57ecw1vq+Z/GGrzR2RkcfFz\n",
       "RD5faQpqiFmuxWZHU3HzxOznJQsq21FhAAABowGep2pDPwB5eS9L1+mxBBfg/Af2bSxpzbzPBY1l\n",
       "H53Lxakj95Vlk2NqfuSExPILmUd85hWmOCX8/dwTBczu6JWrYALoNayHskzasIXBiPfKz2RLod7B\n",
       "sBZBsR6meQHpCJmgRaap1aebe80EInogURVGHmi8XO2aHO6wD6LTJuGG/wfNY7MXyWdHfLrGwk2A\n",
       "LjMTUTdxGdSUMzEgeqp7eRmg8WTk3DDTOaiFgAV/QEfpc64mDLgMaLL8vjpSN9ifKGC0syqg0jO4\n",
       "+zTcuJjTZ0oxFf0sGx0NLc4A3uuUCw2fk6hoHOvcjSPd0A8lRVLzIcCPqyQ7RWHnIn921U1T8mPX\n",
       "9r/r26fQuc1zUG0d4QyODIpazmwj47jJZHNGe65ZAO5XRatEx1FnlWrP63LUmECFSWW8lv83Os8x\n",
       "vIfwb/xL+fX/4kIDqKWPohkhPkaj74ODMdyer8+7j1yTk6ceb1aEaMEku5aXI+RmTTywatFExHT6\n",
       "fCwMHhPy0/ISB/O6rXnd3ugbzG68i2LPdw08AOr/asxKqQHu6cYBL3gisU4JABXwAAAEDkGaqknh\n",
       "ClJlMFLD//6plgCMGiSHVeJGfJEer4wMHMCHPISCcr73zpK+Z+uw5S5vleDcA7PbhCLnDwnLWQdU\n",
       "NQ+hK/7P0za4jY+0eQWaRL+CG6NydVlLXZD/15+lIgdiXK0/Ld2jSsJRjtCt6yzf6j+A3+hsROtp\n",
       "wMvVztGZrXP/3VV1oTCJJ5JG37+PzpMpK1/QYi8/IG2sIut14EeuyKyI4IQv1deTUGlzk5SpwYJK\n",
       "JPk5H5WODp1+VnpTqbzLPSZNhun/jZoFHw1vqrVV+i6Tc6aD1apH4SCXU0DW82MYDMqdnurmgWAs\n",
       "w7TIAmwh0d16z8Gf1tJa1QGrobMWejqzuFtilKSgLh1E22VPD40D0XNldSWvIt/89u0BgBVKQjPs\n",
       "j/b+8Ky5+C7UqXEj20cAKIbIhJN3+F7NUAcrz297bi5zaRygT+MeB2qp3R9iSaSFncJZttHo39bw\n",
       "r2K8/NgCXIsDPz8euUD+7u16TxhRE5t2WrHWGEX206/Jd4Z72tL0l8lRflESovqK3k8cRx5ESTy5\n",
       "Yr2rEhuEN7cnfC2+/3HTVWgwvaDFriBfkem52R4IjnSiApcPGZzw/DxljiIJ52ts/jeG+Perz05l\n",
       "9jYcaPQOMJczfC9EycXwYS6kT5nytC9mkwXCVTDRF8FuvGrhbyWEfMcu0dxqjPHiJUrKgci2OraI\n",
       "4ngr3nAdc2ousGxGy2JTR17TA8wj28K/C7uh68GvfFFaD1dL+Wd8AOzBPZJfpQxHX8kDOwZDlNMj\n",
       "AKRKzXV3+6jCjwzTMr5trjiZ5HKyPYyq9ByXi2ewCfeqvccW69n0GQB+qoVE9vi6I87jvaOCQx0R\n",
       "NmZ2cN/hDvKUGFetnMQEGG9c6DVloA5akfzdamofQBBeyfK4wnFj1c7fyctUlxnfQlkSFjnxNCJt\n",
       "4YROszx7JVvvj79h4E6Eh6ev3GFz+VZ7q5Ber/TGoZB6CTzFT4ZLHJbAE5OIzT1kA1sMzMpimuYK\n",
       "stk+kKruti+oxRdzL+hNbAJSpelMWMr7uR/7LQWGhth2T3maG8nu1Z12kyxGBRAdo7/25dTMYfHi\n",
       "Gz8f1rvfHIqve61FskEqDQS2Vj2tWWOje64E2GlbUFd63n5HRmgvWwXccqoqobFJyc2rKcKQsfSz\n",
       "u0ghiB4YvkoEr9MvPmC3UKWEAVMIzgIRwLwy0Xw9oR3aWLP5kq1fZqs8zUV71J9mJhibAbSFOCvi\n",
       "LONEAayqAqbY6Jlo6CazSKqJnv7hY6fw7ulxloXoBCarZsa7v6xEPIJopC/zuihIV9at5aWwtBcJ\n",
       "SYzYbtl6A8NRjpP9x4pmqr0zDdhGP9RcsnVTcCQdZSDvgxPGS/h+n4T7CdJk7xy862Sus7rBmITK\n",
       "Rt6bPCVBmAAAAcEBnslqQz8AeXkvS9fDfFsn+oA5fJ6QxQD4XK+hZAuQdcMjWlBqGAAs1TkKWuWL\n",
       "aWQwQA5kAN/IBZdFUHfMOtSGChjK/vNywDmn9J06pR/9agwy7TQtA0jiTzULRpVVwvVfMkYv4b61\n",
       "+ZOxojyMpFgPUy22qEalkVXYZudo45v6ZzXgraFIb5FoXCz74bqsOyPpvGqlwZgTqEho83kxneUi\n",
       "i0HN8i3ES1jxDjZK4IwRw5uHv6cDDZBpX2RLlYxc3VpGWoOXVuGvShX8UcKgQTj0PEShEpGfWRb0\n",
       "rFLAx9kkjMxLPvDtUvDITpuprdslblY5A4CmY9GJt8tIlM+j6LTcS7+BSbqVI1AXw45EMivdAvKE\n",
       "vdyVVkZWjikWo8TmXflBJ7Ym/n1KOReNej7XOR/KtUr4zfR2SlVXsuNaApvMA+PmZth6z+brSPwU\n",
       "W/oQoztFn2vBTLDhKR/lfN8sqzxkAPeEnFa+ufuczuMilgusZ0+vFhDf+/aYrb5D33/KqB1lkFMi\n",
       "VLrY2F9by+7yk5zaPX2x1sWlkiKDQeJy8bB4M2TELjmm3TwsaITwlfGbv479P3J2cDc/O76lP8eE\n",
       "dLgBnwAAASdBmstJ4Q6JlMCH//6plgBvI+KMPCf0qjmxI4SlALQI6RbJzkmQYizaw1uIABzFB5zw\n",
       "BRFusNX7t1lH9Hdt04kXDUiT3PjAfEHzE5YDFmDgMJQ+EnbULwwUaAgZbyuEd3Di4V24Aa2/yKj/\n",
       "E/Y4Xr/6KRwQ0echQ8v146Ux3i91w7AptTP5/xE6FWLkNSrz4CRK5bxRA/GGYy8W6GskTjpdOLG2\n",
       "LOoy/zHzdfG1MG81SBeVbaxY98EAb/2Aiqlo/e0YtfeLkEpbWJRWWpXZl52nY8v1FtI8EI389yaQ\n",
       "P15VIwb6zVsj7DqW9IdwACLOGBxW5wk0UJmNZac+DILYUKB0MaCtzp+FNpyj5LmgBOEObPtdHdQH\n",
       "SIy3j3/i+JrJiQ0iKU6CA3lhAAABuUGa7EnhDyZTAh///qmWAIwx5pbdOHoUXB4hM4QPUnJ4sPML\n",
       "qfu2ZZv73/s3VE7UoDhDwTss6qDwELEnJunfH9or7irC/k9gBdGYvfDW/qqTqxG/Wk7g8K/Em8+a\n",
       "tHvThRznU0aLrk9k9vhdaeDR1nrgZ5Vpiz1cVqzkX6BjTwRLUhgxkiOA2SeFkGUKwbw3PDm6rj+e\n",
       "XTwv0yO4/ATLGEu+0ogF1j8VedAIpH2RyPHitLh7SJSohfvyPx7KwWKgibelLAx7FXCBpO8J7Vr7\n",
       "qMYZ2Xx2zwijoezV2qAE+ZSYobbMz1VEoucLaNVbu+tX0/oz/P/FYyQ0GzfGIgz5ZqDj4VURUUiJ\n",
       "12u3noBBL+WJFwdVl16FFPqe1zbeB9ihhNaabJ74Y/1TzHhDuAC/pEv2FopgJPTOSJKVMJwS7//E\n",
       "4ASQgrG/Qtfjz5C0YECOZDtEbjGI3IMuBIAVwhgX6etudPzVYIXK5ZFrlpIvdsD9YUtwgNmSyuMA\n",
       "rdmHwXMYT967dHZCcJ/ONeUAR3TR7s4xjp7BGQVgauct7smyLCQ+PxjyQjxTdF/RQTyJFNFp2XQ+\n",
       "D58ptkVTRgAAAOdBmw1J4Q8mUwIIf/6qVQAcczGmWsVB4apIOhQLjjVwjFzzcOMhEwnS0aR29zgt\n",
       "ExByyRGr2cJjP6mNXzRB8gAcb10AOLvrul/GmyGJaz9z72OTOa0TwGHFcvO/H+NYhhDpkoiUGCAU\n",
       "2w+mu0TmPCcFdORCLdO7IyUY0NIhjhjNk2qE1N2ADRC83X7G2eer6IZ5dL0cBl5xb1ab2UjcaDpO\n",
       "oq+NxlGJFd8zQtPd7UBMEieG6mtR0Jb2loGlnJgPUq1vdDPwhF8zWofxI2WoXhz/R4WB3+BmeN1m\n",
       "lpwQvBc6WLTyDtuxof0AAAGtQZsvSeEPJlMFETwQ//6qVQAcczGmdKUpgv2KxvU6TClP0bzGfIvN\n",
       "6sJ4S37VBB/ADze1nIlPT1bsrGCWHOMlTbPCtnRSCROSO/QmDInMeHcio/4gDoEjenr4DT7RV5Pt\n",
       "8x6fhMzEhGj1fO4otR3BvQbEU4z3zUCo1j5OJ0oUHOjyw0lqKDO/jkcP3uDrJlDPONDJb3qjNzFO\n",
       "kMC0wBTHvaNBiQ5rJKjZsHksjiQ47KnqXfxY2kQXKUtRPJIugipALXTa6KvMHcUgV3su0cN0DRVl\n",
       "IoDQkQ1bPjWgjb2i6xSg1U79H2q2STkexdHzw06qGtl3PJxuEysUY9pUmb9YWNJbfUk4+WRaSnw1\n",
       "Agg0wLst/66G72Oq+5hknflywnD2fC9RuKiNVKmHRsRbqmrFc3+p1C+ELvp1NZbnCEy4QxUDMnjc\n",
       "pZ3ew7I+VDQ/DzqOLFmrzswSx9TN4X/3sK58wS8lwu47kh1OxZOS6LQg9EpDg6Scl0ugFVNqMsY4\n",
       "jupg9LzuX7hZGq9h0I2q5vIZxS4OU/6uUliCcjyiSl92DGRvqSokkQ8NqpmZpVu5AAAA1AGfTmpD\n",
       "PwBiDYTQQlpEryHBxBMMKcwBhUgDIhRV9V3HUym7W3SWYhmj33yoHK/vKcAF0DxBQZTvlLnStmsP\n",
       "CI4ANzlEOLhsiFGh3/SqtCutHKw4hf7KpUehAoy8bbbpAt6VlSfkASBVx4xjFjOaymIr24v7guDm\n",
       "HtgbuS5KSeuaZ+394tJuVHSZVRWUtwojj70TtzRu2ZTHCW5T6eIds9zjSjFa1CUVCcw/ROF+98/N\n",
       "p7NNzVbTVq1Pjle5CuSUEXMv/xPRMwBguRGnsKKXLo7XADRhAAAC7EGbU0nhDyZTAh///qmWAIwZ\n",
       "/YdV2UdAkzKMU+ThYREZ2Ei+DvM1bgnurrs76n6ik86doY8qAEZRg+d8W/Zksqt4iWLUGobu15+A\n",
       "42UuzCRvbsWrSMEplHxNSryDDU9EPEU/mrh5QqqwgPSpo52FjR5d7r5V/GkE3TJzdglQnSad+VyJ\n",
       "oghArG2Gy/W/tDC8QldOmXe5EPDUY/ZWbQfJ+RSxany5SEG7DjTyH1U5NaGzkG8Q/mBZzTIoBA5/\n",
       "ZFT6T0RhCeukpgu5eobR7O+9xAmonOZzIwyv1vIZeh1XeaY0txqq2Smfp4Y3lFDAB+J8tluGMFWp\n",
       "eZA39iuHDEvOmbZr+foVrTDDdJkJzwOAvcd+lrFke267LPVbU0SI42Igq4mj9I5wtn75mu7z9nHq\n",
       "DDJvzAWfjQ6AQkZ4mi1ExM/FJ0b2U5QMUwYsy20pViBufCRnAEroddxfNB5LykImrOmJsYY82Ma/\n",
       "VB0dmhzGgXdpEfwRmN8xnRut46WT4soLnyDLVnKGYqOJ74SjVfNPupdyq/AnUQsnFu8TSHlMLyNz\n",
       "p9NC/IU8cNuRS3/z9CO4u5WAGj3wRb8qBmgNLQdhrSWdQs8JRYhp8C02y9/VRgUd7jNNCJlezMqu\n",
       "jJUbB+pjsFu6fBDSsGcU0TZ+nfotcjPXOf/srwtqlas6D/FxblhDye/5wzg8g8pfrzy6f8Z7Yr/W\n",
       "02vyL61V235LDofD4c2uHZkNl19r03l3jzdv7Uf+tJEQOlf8wX4tls/atbsgqYkwQ8WQXBCGOu4H\n",
       "tqVoGc5eaiMn5g/ZhV42htYiUyG8Jiel2hKGu57SuqsqJEouNECtSV+YAbF+kr4DPplOdX9CS+qD\n",
       "RoYi77RUJZELo8WBUshEcG19wUL/W9dNyrZXHUrXWlWgneO7f+YLC6fFs4xRMfxLYPKyp6NgDboZ\n",
       "SQzazkTDWjybP3X+5YT60AFQXugqZQ43RpUcY6FTC9CM3W/irnSQZwPJeTVSsTgAAAGBQZ9xRRE8\n",
       "N/8AZEBBxqEtf2uskaSjUS8ya3CJ4C28KinIS5dD3Ek3XSMb3kLRvXEvBbcGLEQIIlD+geYH0JwS\n",
       "RugBbdBpAb4iWVvZuLJFxy81EV1PHlCmZsLt/kzHJLG7SWfOupaIVqWMcuRPJtFFs0aFgTZ4N9gf\n",
       "wnDIPy3wKE1yK5EsWfdShC3mVnfzeC4CvugFuaIJoDfD8Hw6aL0Crj5eKdFGrbetCVLw6hNVMFk8\n",
       "v3SGnMuTk1m6qMaobkSd7R5NXOmo/Z8Vo1anViOfP8pr0JUI3GkoN0ka8MKRN+gljXQaAq7itCku\n",
       "yPjQXzdUnK9GvaOVHy9xc6AMfrxLDzFvADK/qNpFQcZN7aUBF6PjoBySA2aeJKMYjP9Nf/iK/Z5U\n",
       "7SdzuEguiE1wO1lXTdzzZWHTuj3FTstPE5T/HRYtzF9LkbrQ1tmRBYZm+NvtlF6y4rl8YHgNwrm7\n",
       "MJkwQImvSorOJNBM+Fd4Rm5GpQJwvq+MntNWKO35v/UW5ABIwAAAAQIBn5B0Qz8AeXInvd+AM+6T\n",
       "dIwMs5ZvQUlcDgsuzhHqJqaViE5hakrF+cGi6VJaBAe9Y2fIMALd8NYdvf80Qwy8oi3S7qWQ28WW\n",
       "GeVkKYba7PHSEWhPFqJE9OGH5qOVYL1CXrTNKWf51hzYrGJFC+riIvk2IW8c7r2kII/7B9swCO/w\n",
       "hvUbrfqhIRkvKf/ZqCcQDiJ6U7apyB0JiSmte63PRyP9nB752YnucsTOfkvvfME8CI0vi8Fq9U6L\n",
       "Lk2+2vElGStl01vyIDdJiHVG2EX/IKjDW4LrPuiWZru9Ly8ZdOZHqMH09ExCTD3q/0gCr+tkj5X/\n",
       "yhedBlEvT17JvX+8BO0AAACKAZ+SakM/AGINhNBcTaxwaqI7wkqFa2vLDa8MTn4qmVIxtYHmulRg\n",
       "4PBg1FarQkDcOdvk15Q1Ziq9C1M2ywmICMIHYva8ilDMnbEeAMqWRjR8aNVnYMSeSeOSVqafHA24\n",
       "D6GFkUNKt+yrgwN9wqO44DAuhCYKvraV8d8IZ0ZTRHh55RteTTQw6HpAAAADh0GblkmoQWiZTAh/\n",
       "//6plgCMGBynBtKt4xYkL3W70IrDxUMXEwAcb1cdEE1JJLRczF340GM/Cf1fLkRSKUvHhj5HTdXl\n",
       "mTsrjofVZzX1Hx+hJCcCzTgi6ynKGPep0zYJUpOlDx+TBtl20PQ/pbeJGdou5PTfjTEaW+bV7O6m\n",
       "tVu/wPZfWQCpDueKzzTf3LiK+aXbaK9HM1ZCP9E5FJLZ8Rb6FHbdAJti9GGgvzmi3QalhIUgIDEX\n",
       "63aGA9ZQQU1a7I/b76JuN4v0/Z3hBLiroDnIxI5y+3zm0sTPPQSafvK767t9OOI+KinBEsANvb1+\n",
       "SzElZ4jktqqc8zqk1VRGERcSIxGtytIUeTb464lcQNrdpvThUP1/AvXg/0huCHkryLj1jPW38oCu\n",
       "SMTDfgEt1oK4eGW3N4R3fIDDtPQUGjTJk6Z3fa3ODOefGsz+eVDIRyDG6uL0lnroud3pFBkln6uG\n",
       "31VxJMmmO6WrbWYqmAsxkY8D+nC8Y0skSxcsgPptj1Py45B/N061vpyyyy6Nl7eQWQm6VmiuevNs\n",
       "zYGtrn8XFRO0YLmUHbg/OVn8j3olHtA8zjEkJ5c9QUGqlqVbVWKQhvutb5KK80z0+sSOu/TEaWZo\n",
       "gwxw2C4n4fmLvQuhD0ql5BvDJZORwyb+uZHt7iyaFkalhuOiDDJbbL6/YdJUARyhoFOL3wQOH3w1\n",
       "gwylg+w2U6lN0aT87T8KPXPfCmLzbCKwNLh+otBxim6SPqIyN4vNfdpc/VbK1zXWyS+VWRrgcpbQ\n",
       "4x7Kw5cBMJxLlb4zun/TmfSjB0R5TpwHUF5Ul4kvv6hyePIAetW5pqx6KEiAM/cVhGIjD1l+Fy5X\n",
       "G7fSyYcj4cy2Cw+O2G91/pzPTMV9mz5OCoLiGHcMLoc3bqArzbY8ihEt4RnfOF6xkOS2egW4ujzt\n",
       "+8HGpqksTrcQ+l4L8IyIca1Etr3DTlW6Ti5y72NCMszBZIj831g1lfT5D3wPOduDtVR8f88QO2iU\n",
       "70FuWgEtwWVgYc3TY+q4T+QUoBt1KaRPHWNE56pl//UD3BkqnyZf2q9/Dua5MdNabh6l9KQZZGm7\n",
       "p0FgCIyBIaCBxQt5stdsKsBzjqFA18I2yNrHlVESz8fxeztUIOXJ4px/hKzJDxTibQYiNLYBgZ/f\n",
       "oohPJqmtADK2ja09xB51nrUpT7U4RmpxBUABARlphu17r3lxgAAAAS5Bn7RFESw3/wBkO+CicDWR\n",
       "DyxpH4Rqv5w+cfj0jq4z2E2yz8K8SirCQebCIB9qromoEzGlKJIfTLeAK8fLI57fVhwl1W8pmSpT\n",
       "aLpuYCblw5RoNOrrPL2xDA0xorlKfv5TeTrsO7bXRHAiw7LfC8NrTiLjdK46RfhqUERfN07ZO4c7\n",
       "bx/oJenE0sTTGO+xXOry+GeS7tt35gpovjluxuylIQJt/qCQtitbFK9apscvE14FJFVZ3hHogVE3\n",
       "79Mq58aNtJHfl6LZ5VBez5igyXHbYa86lIpbl0didza3hp3hw2ELtXaZYLOpJovuqM3fQ0klKLS0\n",
       "UAyWUa9kqi5LPqRO2LEM0IvMT7yY7MoR37jXOCIBt7l/h+6Z7gpXccDQmd5IJ4RHeHQrpEfAaagF\n",
       "TQAAAZ8Bn9VqQz8AeXTgsdtdFQNciBzDNESf4VdIs27cqK2VSPeqfeXG9BDUMZPlSC+QpJWNXLfx\n",
       "0NB/shI3ctz97wXk/30gAugEnocPzliwU/QzseF+ffdQ9FlMZRGV5G4Qxgl/IM+Cye0DaB26N1LI\n",
       "3W1vmuTuldToe1CzIj/tC8kzPrxokjSwlWLNOWNYH4UPSCnlbuMXSBUHXZ0B0pqpgxCSdKaIY53O\n",
       "qXpUbJO78BWaxfEb9DXrZ0ggdhqzDliwjNpCHgL2XipALmL8Ta0iXRW1BASKiY5Hxeih2mEeNQ7f\n",
       "+TWygA9LkJa2pYy8/0r5Gu/lixD0KgCN+c5VlXp83/X0TXlIuQGOkZa0l3+gVnvbT+8oE7Cs2SMb\n",
       "CbUphw8dyHbzAskBUSBg+Hkd+F09AbZLY13k2mnyDVM3TmNr9y2xu+nVisJjsBHYE8LzTdmfnrGB\n",
       "CPScg3KlcO8IttX0C6Cm3z9yh+HaJ3IIqfKMP1VwAn9mXXaY68oRCQv/xYqm17Cqiw3aZUAmOncK\n",
       "eMfsVQNn2ojcIWi+99MjzA2ucBDwAAACJ0Gb2EmoQWyZTBRMO//+qZYAjBXF6M885fPXiECq4chD\n",
       "9Qo+IrqkAOla77K0EuhsNpNr/tc+Ya8HJWHCoMhTy3MseSeLa0yJgM2BgJVu2EqriumRjGrTlzUX\n",
       "aJ6M7LIuU6iBiiE2Y0vmpbOnPL4Z1rSgoqsdRi2cISNCA09buxHkxRwMZELVbdsaF2GwrEmKcscV\n",
       "X9K7iYBOagm4eygvnJWbx46mbOOsySjTeQxCgRb1+qqYgAavAO1K8OVB9h2oCJjE8whrAZBhoUBw\n",
       "b/YhVA5FKHj4fA47v+/LiqNxaMfewBYDGhkQdv7tcG51QpuIxNW7V9kCh7/XQ2MBfVoHm9sTA9PV\n",
       "Pnx7RiCvwoc12B46exi3ePCpjN7rFxFy86mY3tNQpUw29icKQtRXr5AgX0tXCYFTYLL87evslGfE\n",
       "Lgkp7cP/YOdA8fIkotMmruFLyGpurXw2YUds6JwdP0WottJqI2KFMs1i+jbF7PJi0tpyJPXbxpG+\n",
       "oXF09H/lOLEvGKpmv4j4fl79tsEAQEispvs2ififpZYLfWnocyEougCs6/1z3bQnSk0gNIAqKYly\n",
       "XfmzHAENX1kn8gGITwIIXSULJ70Qq38bSFXNpg41/hnPCevAY0CYF8pD+u7sSuYr4bIrd71oqjX8\n",
       "hPTAwOmBGDEvQiLFl0VYzc03VnYns3hI3QwsV5avzXYY2KXYL2LCXpO3FIuDJvzQzVNra4rRgwBp\n",
       "z7DZqsL9AAABpAGf92pDPwB5ixTD9VljkBEfKzYM9Kn++CNfl2BLVnrahczFaSs+2SOxdugBXVVo\n",
       "vg4W1/3cXuHb3DDw6M5BpZFOIC96Y/4+hHkbaMYAR2eawk5kw0johDrrCRAt+2OhIOf/8WKt/1zL\n",
       "C5xbWRHIM6ZLybqHgNc4LtssMNG8Mj1F3wvAa3oeSzSVj444LPzhPWCSomByiULqQo0TlLtJy0LW\n",
       "oqXVOOCSpUwLeuhTw1/Tan7jWBdUb8CqUPui723JvB1npSp8dxdHuWbYwZYZo9fSD2a3GyEHQUMA\n",
       "gN552OrnLti45+cJUex4v2FqJaGhyimAsYQy2LiQ1wb7h1lrwynASOoey8jM7CiRx/rE9w9eR1G/\n",
       "TBPe++OtcGD0zny1qCW4xwK6omiOgcbJ84Tmkh+li7dLiHiiPdmqoHtUp1nQgwbRn3FAHcUHcEkv\n",
       "mt3z+lyz6apj2Ahi0njiFEZ+g+f4Ve+hNcUTygtNpHs7F0ecom99uc9meaVPMLOqGkkOkx28cAty\n",
       "iHc7wzDUYKUFLjPDeIE2Wv80o5mBl/LIiemduzwGfQAAAiZBm/lJ4QpSZTAh3/6plgCMFcXoz6q+\n",
       "MZJR9uHbsE7PGYvWLe3oAd8lCU5BVt1BNsOe3sUdOs9C3HkwOQkgRjnQjAfclIhS4CQVBhy4HM0J\n",
       "ciTySOnzdgdWlv6dVCxn/iSM41IN2Xkxofc1/5/OKfWP89IP6sKay1u9Na+UHlwL2U2NjkR+fyIf\n",
       "/SZ3XwkbkDFJsforEmqIfSf5C8X0mMYIqDpBzXY782G2bb9mz2sFU9SVYk0XG5f4i+IKEXZ6y0nG\n",
       "mQXl85OjMgS+T3zTp5VG0SuvJw5dgE5RUMCOtmdsbHhy5PPHqXxQjA5xvkQfa8MoCKlADxWt1KwG\n",
       "vs/sS4Ms65mgCOSQolFFAszlEgwVNnWkJwZ4xDjbWv6Kq5sWAnP8hSXX8lAmlO1/BarP1rx1B/Iv\n",
       "00/ohQUQM1cX7YOXfFR9ji0SX0bCsVpc2k710hWPuxL8bheSUCXzH21/uL+kl5pytPwRikdDtuOt\n",
       "jtj311XujlaLWAOBHhv2Pm8J0fioNjBCGFQoA/xb3n3De8bTTG+2pXr1sF8k/iJ5OUquZ/CUKTLb\n",
       "yEYbX3NfyJogFqn7zRyMiYZ9ctQk8SO/6vhvYa+UIzdi308IHbVHovv3JVI5r9Nt7kGX7ZXhORk2\n",
       "InwgO2HVF63GmQKg0zDKXqY6n5K2JaKA5eJrvq9H8tPVDRGEavQpkR2kUG6ztX3tGarqTi9ryzy0\n",
       "59JCDUq+lFkLB295Y5bAAAAB5UGaGknhDomUwIf//qmWAIwZ/YgbfhT1NPONuCCG8d3f6TEJnYJ7\n",
       "4KtMqVCUqKTPzPS2FFsW6odT2bJQfw1K9UfWxAsW3Ue6Fnqk0TU8lr/8okAJZRE0E3hHi7k722ZF\n",
       "h7lOG4owW2tYxsV0fAkqW75BG+a5DTbWAIVbDpTyklB0tRZiNROzjCaHa0FTf5FdbldZj/sG7SPd\n",
       "/C/U+sA62u09H52tvRlFKlakR3Z+nYBWDU78YsDQoO04lVVcAZKjAXIJJTbW36o19Jp2xlaTw6Dq\n",
       "f+P/7B+BdSdt81eFpFhYVS2kp8/T7KUs1hho0jvDiV+yG48DAEkxvJfAqQkOR1zctYX32JNObbz3\n",
       "Y3a4C4yhuMxmLe7UVwSuuK1VPFA2FtrJsrLX6d1tmbsPrWUV9Dj6oOL4IOqRQ1Rnra3UpUdoiva+\n",
       "5CpuQDKcIFdHE5iXwtdHJDfeDuDqpwzk8mHamQO1MuCImFEWD28PrszybzC3RmeTnBRGXO8p1SqV\n",
       "DqPSVjtZ3BaHQxOhu6xKKWPeZWJEaKqxVYUiFZsnKFtE1K5ONjdV1UNBpHdTlTTyNLlWndwGVZQO\n",
       "R3vtyx6EwnFuRgXVVMMlgytMLLEuj2phGyctKhuo9B4h2//VE9a3cGt2w6oIH9T7AAACwUGaO0nh\n",
       "DyZTAh///qmWAIwZ/YgbfhT1NPONNqwX/9iQ70jgJuY8r8NoFs4N9fAuPc8NYwyqMI7uMbUpIOf+\n",
       "A0zyIAZU+yOrBerid9mFmYOuvTH+PDfugibUB5egZ1myMWtxkuYcoq5im4E0p+FdRHPvfY+4yaCT\n",
       "aO4QC5Vc6OK5CjJb91YBfHUXNky6KkQuEfo6rhcPZ5SdyF4ngLSh4iOQIWmB4C9hIeARhM9+wKO+\n",
       "Y+g52DD8GyYvUFh++gfespY2YUifOvwkl/uUsseWaqf84d2Ypj/BaaUOiJiL05+C0NqNcsmiGiWy\n",
       "T9fsVGNsgocX1dGMjQhJUYKpLTFqogUq4PnOsY/C/+R71pBTQZeo67K8OrYSMHimv2T4E/XshRbd\n",
       "U4tDbz+rhv07a/IXyO/xwbpEmRTHv6U9xZF75BMJe3e0hG8ztaAfWqgBd3HWeMPhWCpsyp+X9DHP\n",
       "3ujMQDjVazYIdbD/mr7x4YBt55211bqwKecQ1VpX4wh/ljY6/v1NBLcBGG6H/ryjgT71eeh0fwFL\n",
       "QSO0Lz879ZTOsvnNLwzOQ1XoBjEfML6hbVqsqn4lwvzbYr3zrN6fz94D8AhwN8MS6hs5RdVT7ux8\n",
       "eW6woiRHLjWzPcASx33Yxt32aZrZejq6k3a6rBtbv8D4fMeBkazD+tfgtwS2XXv6OLn7XnstU8wD\n",
       "3xI3/iol7HSSKkm+dNI0cJ0Ym1fuzlHMVMP25Y+AC7RJj/6aDg4AnSS/3jFPAGNpjC9MvNWvol15\n",
       "0sgrSjisgsyYxU9Ke0rHzaTOO0aa8RvlFsNfHHENCYypwAvVbpJCzU41Kq6ilV29xe6YNNnLE6Vj\n",
       "KLqMGNFBL5A0leNTGELpIqBMqpH7rGg2PCK0yrUfWOwM1/IENDA9Lw4XMFXA1iHo5aByy6mJZIy8\n",
       "gWDI1BvEa3xI49B8UhxFwgAAAohBmlxJ4Q8mUwIf//6plgCQGfzBSOQXm2NWOLt2ZvrKUopiJq3u\n",
       "VTL4yZMxEz3jx6KlzupeeeGwm2J1E3sGcBTvy1caIQTZ86Kc1o/l0mYUu2AQj1Vgo7A3WHHUjRlV\n",
       "vw/i0NtFIAyHIaa7N7Lg9ocVBrnXa+T0CWMt9eL/yWhv1Zi4bUWoQtnXAL8orK+QPODbDnudh5rI\n",
       "Pgm6axbN8oCsjukZ2n9AS+JO9EW4KgluphZC5PSgMkyszo8M/P3c8iRwnCSYaijixX8g/cd/QSNH\n",
       "8osdj6w7o32NnWxmwnedUanu2Wwf0Cq7TWXxVqd2x4LMHpczw24e12T38np1xx04mddhmjOJNfne\n",
       "jWaa5cq5Yr7GO0O2IsG34bYHMvfh8oQB/lPrxawXgPj0sySSf4qPdOnZRhKpckKQURoYs/7ZS10Q\n",
       "crZ90Ab4I/tiGRNNWx4jXSw4VtCRzS2DDS8seqqOHUtthEQqkS/q5Me4As3S16HQvdxq+v9XxvD6\n",
       "V+nHzdNDPaz7AdTKpQEpmBWCcTEeo7K9N6CwrtM7am7ggPb0l4g5vAhjI7qpe1qqpeptTc/fqdxb\n",
       "xHG3eMUIBbo4OsMD2yaYky6i6M9qSWFEh7kvftKBpcm0lXHiwMlREaBBWd6Tar94Gw+JHC8nNwl5\n",
       "ilv+i1YDq6fgqxQwUqB0NiL/DZkZMk3qYo+vHbyQ8isHC1WcD1d4Uu8+fYAb57e7BAJ4mJw6JUtP\n",
       "0PMi3WaOXaxyJsVm3hMTrB0p65dntmIVZSzB2XMwzhttPG184RX9Y4BM9J849ftYer6LpvW3oH/5\n",
       "U3Mkmj53MFs1rDOmUmYzB/k4o2HtJeGgSeqU3FGcEu2odeBMb5qOK3EAAAH9QZp9SeEPJlMCH//+\n",
       "qZYAkBn8wUjkFM/qO/n20Zb1GdRpQxCCxVJ2Yij8ABVQAO1XRBt8ihb/bhMKLgI5feuM7W6SoH/a\n",
       "0Pwo/LjmFoTAXVWqH6Bzyxf5xE/jC4ct+tXo0PCUTx8wZyF/SYXYslcg0mILrXYT32/Qf9M95fGI\n",
       "hdCid1OBBd2oc3JIGcwG/YFx8h/0Mu7DdtCXdYunKGVxDqQRsfu7k+biai5rjijZRz/0KcCQ45yq\n",
       "quOPAKY/TVWsik2YXEqLrvDqvpryN7ZpL84qJL9i8TVk0MRgueDWUDkAGhxNpgnfsE4ZvM6ElkCm\n",
       "tIABwKa2O9DCBC6gXYPP6nhvHhuuCX0V27PVPzZMVUtsatcirD1J54Cfx/W5aYb4s72dd8m0av3E\n",
       "qroTOyI+h0joDHE/bf8PGbmK2onGJxC2o3Cm7pMcZuSQ1v+FuOufR479B8PTe7qBlx0KPwl5JXG6\n",
       "23dp5K5bWu0ra6VSj/CXCZ4P6dWaZjJZ4KAm5vLElbtlLOA4kANKVXzrG7zodF0/c4QNZFmXuykX\n",
       "kysOGKYnlJN6JSlGhOgK/bz97kJSPPXpiIakFxXQW04FjJ4mxBVU1REJ43n08MRRn8KFtRIMlNGM\n",
       "yUs0yGieMxdCA2aisyf21fPC/fYbKVNUXhei4+f+klBhuG02k4RUPk0AAANPQZqeSeEPJlMCCH/+\n",
       "qlUAJQcUUC8RtIv2D2BLntTwnn4SvmcJomFhCMDcPkDQaO+ttS07KU0fOEYhTuD4AmzSgWC/ER6b\n",
       "HbutDvtQefjEhbrvPEWoWbbOjiU9BiJq+v/VBIWN/dvgl4rletCrcjz3/Zf0qKsXwWOyPgHE/3Ma\n",
       "56rhn9xq004Z/ft4VNuNNuuGjfiHqjgd/ut4ECvANISRe28LQFnZkYZRq7X4j2Kz24CCE6q2bgX5\n",
       "kDw2LQ8OVmkda88QIZvEyq9hAZzh6uLalhaidxrDdfoYMBk4fPxPg/ch7TgF1tRAgLLaF/LwuQ9C\n",
       "Hjh4qGluQter+o3wNvwmLIntRS8J7SViPM8LtbAHUJmSARZPUFH1q0uhLaddsLa/Q93NWI/s0bxX\n",
       "IqpE8jJHdWDjY+vVmiG6zbSx0JsyQbmAihBxws+fNMpVBpM4Z//H5tPjr0LKLKSNLkgG0kmpSGJI\n",
       "b81dJrsNbAKCphbLJ0+R4JHGKD6enYIJylJT7D6xt0OrQIELGKCffsupXc1LqBNb/xHVWwTFlq1y\n",
       "dQpa4DcWksBnxzc19Ij4Rh2enaCJMDAyLEM2wtEAriFatOT/tYIVSV4VpctB6bNrVRx43CmmeGBj\n",
       "OMA/xdWzfhq9FVwT5oK9Xr5l98Hj+wqG3Crq6C3JYNILZqA39LwmyhUO5waU2e7Rxw7EzD7ykrU1\n",
       "ymyCHe8AAF7H8pUoHCznee+eL0n6ZqDeYZjutnV3mD4CnMPbm+8PBh7+bKxAGrvItbzsrzMiqiI1\n",
       "pPDjhglcWG0I8pN9ZluwHXAmoqv91hhOkiNEkERyfmqwI+MhPInZEi6U3G0BljqhbaIdIoV4hDtd\n",
       "mWmDK32fCrj3Ph+C58QT/aeVpzpFODfxLUFTd7j1Kx1gTURd25P99IB8Vk6obbREXiN0qXGMx3nn\n",
       "GLhsVGf7j/1mrojc+1kIXIDsdVS5tu4NWPfGUBgGRuVxPhybOxex+zwwpBnGy5bymxxRltuAJygb\n",
       "r6+rauOjiKhYyxh5oX4ltd3SkTUYw140wNhqIklpWWKJiY+sYFpPpd6ho5a08rkLrBqfhZZkEHpR\n",
       "SfArz65NTODDu1/yMyb+s2KoXd+GsBj8E6tMZLeB1E4min24uAAAAhBBmqJJ4Q8mUwIf//6plgCQ\n",
       "LN1y4+aVB/i5j5RdqYcDgmxShYaYukJJcytmIBjcMHh8LmEw4GJMhhO5mLBptryBXrBW/bFwQ2GB\n",
       "8wdyz/eP/n45qMy068TrLAqQ/1AUYERPDyt7i+MBt0pFTRy+mGrVsdAd+C6QWuPckMjEPF9VZk62\n",
       "ra5E5SZksnj7r4Ef4SaqLoU9MhqGUvhbiTXE0h/qSznbKgKymSq5pxsi3rwUtXnEGaPE5GvP0J5O\n",
       "mZEW8WYCTr4cKnoqnvWsINxYo7wIeKKfmpkHqyiZc/lFErCgN+4e3611+QIakv7/sNaeoXvn0xPK\n",
       "7wG3mNjoPicwfV1DLMTafGU2jyb7xKSWquDtH6x1x88BY9J8Bn32NwvpKyX6USJ/go7ZzKDW8XPc\n",
       "6kFsewfIFi6tBNFDWcbI+vgqVot85m+AsswR7FHGBvGh42EpVV0nWlSXfbVkaCtjorf99teLfG46\n",
       "M2xE5ohyA7dYj5yaHQrxAFANpvoblCfCP6+GVdswvf8Jm49aRUJmpe0Qwbb7joKku159d26HHt/t\n",
       "6TDUT1D7iX8blp6KrnCb/vKU7kiM+gptFfgXp8Rw0CD8uokc+LX1jj6G/MYJhnFALRvhCR3Pq6XY\n",
       "2yiKUbSu8ynTv4mELyrThwAVeDTbtEs81jx6o3cLzZisy1tr6ZavQGfPjDDy8klWcEFwpmUvuoAA\n",
       "AAFkQZ7ARRE8N/8AZsu5kt2+f9+6Eg95g5rNxOdEXPKbxjAJwfriaIcKlc4+8YIXZD+xHlGDKpJk\n",
       "AtKTBfIM4eGhOdzpd8leiGDlfzB9VQfADdD3FTcQXlQa4yix4kFLBk9acy6yviqNoYs+Yf0hzCeG\n",
       "LipQVMHCT1zlynCUvHXP76VwRvqAUX1KKHP5wqBtB13ZuRh3Cztw8uA1vUmI6wClMxALWesP1Y1B\n",
       "jCDf4UzDRiRXQ3QL8xMfIl3/3bNCXBMhPNfxAy0F/mJWAiNCE1oGxd+rfD5TtGrGiH4AplEBX/2D\n",
       "cmVvlqc3Epv+vlT3dDl17PwrY+U8scOLtHH7mTsSap1j6zN4bCnw28di298jg/OAT9f9BfLHKJHk\n",
       "Bo6SPelr94/5a/aBhe+OZBmawfXlKl76fMb7kDuJYvy4Cx6qQ5oYXVfe3hOgWbSlUurtyAUKsvaB\n",
       "cClDso5Nd9Ptx8bm/0RUeYEAAAFnAZ7/dEM/AGb4MEiEkaMbWyrwmXsWEYGnz9za3SL9JGZfrpx9\n",
       "XFyQain7tjDWncNAJ4sYNJd+l0ASC+TfUAH1WBQyQiAEF0HsDPqYu8IGLxxgQmGFCfwchZ7f5Qme\n",
       "ta3MGbx+xUmsB8eMkLSH5PyGQWoTiFIYTqCkhnVGx1lwMcfGD+v1m7wByV5XokbCyQul3o8evjsQ\n",
       "7jy1PYft6HKvYj4RJXLPqPYRoQh8oJGxJkD9jYos5InFbRKQ/L/iFI+QRHS5SV6tSt9Mo1UXubju\n",
       "yTPuWdN2L5t0DmUimeBnK5aV+kYOfxcRBSnY3a1NlBMr3I8NopmqIBFophqywDTYaq9e3YyBNvV9\n",
       "xdaVE1399ICiqeLp/Xh27asdkVTYrkIN5mCOSkTvPtoWeNQknoqbM9/2MWtNj9vsANR+SR3hKECl\n",
       "d9cCUvkOXvXpYsHlayeBMdYkLO6KlNR40Mp1orjwhnKcZtCwQ6YAAAEoAZ7hakM/AHw5Mp6aoXoD\n",
       "67WKuVyeA83Kec+0K6e5fU/lcbITb05sUzVRxShUKabQ7PM9jXsdzcvpuX1IN8DziXcs0rN7kBKd\n",
       "8t00lM9GXWSmqQgwvrHIC4t6jG6clO1LOjSqhtD8ACIPXgqUbo5JY0UixFJv05ObtqoNDs/6QbDp\n",
       "5fcKFu72AGEa47p/ydoFoOkRAsJ/+igMMvufdoMTQVZD0timB+sZmpykQKBscooYFOUw2Sm5Htqv\n",
       "aos8KstxF1bh5vsGHHSAlJkQanC3cgxp93Zs7wnjcdmCJDiUVLDAJvBtPIxgR3QkYdSEI19dGxT9\n",
       "4mfn5/7LcaeISFsaRNTMHkfRLDjFbw+h+4nTTTQIGpR7wB8TSxSTiijt3aPkJCuf5Ezs/AkAAAIj\n",
       "QZrlSahBaJlMCH///qmWAHHKmeOYZkm/HoJsHaQk03/bxrLl8H5BVOkTnLuLlN9Hu6t2/TL4xFAa\n",
       "oMfVYO5O+y5W63Y/VlEJ4gOsZe4fpugBbB+Rcsfcm0G6zFT4MRnIgm3Af07T14Z7QUFpfV+1HwSu\n",
       "+LJkNIN6igAXGTE4UtmAj6+uroGArl5t1AFHmf6LsKLs61KGbdjg+TVO4oQZYMIrqMWZ/SiD6rHK\n",
       "e1Epn1XR/KlqYuS0d1Ag2LYkpF+hv5h1581UrjjUSWdX7qKaBQfpI4+QbFzbeZwQyR0hwJLdARrX\n",
       "KPZ/7hCI1oOCwDQMEcqpZHfsiLQrBW0EmPSxSa4zBNpyJmLX1KwCC5/okfmHeluMGu2aNJuzVQud\n",
       "m/Zgl1K1kmQAV/MySaPUv6/lesNmZQKs38A+ynBZlb1UOeho6hoSsVKcdsrYz2CH3jgXSfxhcA9m\n",
       "XKY1WOoFh/fw5HVSfKqcH/j/69qJeKI0WarIiQzZ1JrlqpdkkFg5d02wNlRSD9HtOaTZMdSiviw+\n",
       "v3TyaX56sAI2+lN+afw/MPPI6mLPLS8m0KcpSz4TAIscYqwwZVPX9BFTISWv3T7ORphHzwdbvLdZ\n",
       "PNWe6SJRcBDuKLsXa8iGUpJIMLNgemiHuNEYZP2HyyXmOs0VVkFSAiAi1jDPZV91z+yF2bLIr868\n",
       "0JRdRIV5wGW6cFzB/YvZz26yZZZ4rYr2eEJtNY0G0JkMQwAAAVpBnwNFESw3/wBR3oqCL1jt2Nuv\n",
       "k03lvy3VAkHwN7BzEf2TR10UvRiOBNRE59yDq+iC3xjlWGQbrIOQqw1FoE3IALYM2WWz3drDvdtZ\n",
       "nEDofMhcEaSDl/pr2dY1cylTUiA/U6hrQBkr2ovAIkIhVF787zlEL3O1BLddWtzavKGEeYCCNrIR\n",
       "gefLC48xYLiI2L157GSXvPrb1ty39trysx+K4T5h9XWH3TxdzPct4U+9Y3xfELhieg7uGGF+8hfE\n",
       "8259JVKiFSMje9HYUvnYDw019osDV2leKTqddUq2REuNnMW9ga75bSKCdUE7m0g9DKKtg1iJeahO\n",
       "MtVl6qwcpqU9xklJAShBFrUp4juedhxiKW7n6s/sWMxbECDqJKTgJjOlBIiJZuiALymkkYvsZix3\n",
       "b4bQeFQYK2oHsPzJAVopo80N54rnB6sQUvrCJyYkzw2lMWY1lvoiIAYtAAABJQGfJGpDPwBkjYTQ\n",
       "XdddXMwD10Xa64lHR5nJA5fD53Wg47KURdNyUSv8cQwQf3GwkcyiZ7Wpaizo8LJYo9zfZWxf8YfB\n",
       "PdJ7A3/DzO/I2S08OSMnhdxlstZOACIPGrvTo/Qtd0kuAunVZsh0Bl6NGCy1lohv6QuBJIj4astV\n",
       "7+Le6eDTKusBwIubDyel3AoAN5ErikGrzJ37rgHeeGSc002NdWv1DnZEcEblWulcArx7c/RMmuTD\n",
       "UuKav63qVf8A8wmQwkHO95hiqjYqRV+T8R/iXU2TAclU8K/ZMKLMcG0NkCCNj4oJBF6Q1rwnBuXO\n",
       "9bWqvxtd9zOPdgUfynJcoMMnYZ5xuDGcn7lLZKXDprXWPNb9kwhOhhb44IAs1mxr0gisMEjBAAAB\n",
       "vUGbJkmoQWyZTAh///6plgCQGiPBsssQPuS05RUGMA38dJ2zOmdA2H6AdncUb+/kxZWw7eOsZhKv\n",
       "XuSLZWjAMsqIP4agw5t4W6i2zKO2nBg8n5l7rBuUT4FZvUpcvHqXYvEpdN1bL2U1vND/orw3x+eD\n",
       "QRxMQ7wK/DEtJHqNjrE53mJYfW2mGpIz4zaLmMWkStfWC9b2Xl7pXwAiRT6BbzS1kAAnna/aq7dz\n",
       "lJID5TldPvAagbmbounRzz+mrgQ5JNdb2cE29WSi1CofBg8Zx5mHBunxRHptTxPKEmin1/VV4gL3\n",
       "5kj4svNgs4CMllGQrH51/O54KWY1I0LvIj3Vkiwy9NUifibwtEMTy1Z8JevBqYnPKs6GikJ2vuJ4\n",
       "4mq11IZYs7b+bQmIPGI24RZu9scyog/YgKJHvarj9OP0dtvY4LhDGqV9UGih/vVZTSiLf2Gn5jQB\n",
       "+SoAdm8PskmMdWOWZDx9cpGRzh1RXs01gjAiF7Xfy/HfIET0LMvW8vyhrbWg1LDMADzpr7FX8EC1\n",
       "FZsom8cKPHnWlH+lhynj5XJ9IKP0naOpmsDO+HYdT84QEUY6cy5lPH0z0K7EPYkAAAPhQZtJSeEK\n",
       "UmUwId/+qZYAkP0slcpZkLOxA1GVweegeP5ewsklngCMrXVA2dMctPjxdtAK37rUgpWC+9VzZnCE\n",
       "etvJIYYaVDRI+KEUJ6F9gjoF7fsQvxgWyUU9FIpIy84H9sv/jwLYYug1zBu0y3h6ND5srNMDZUam\n",
       "2zhU3pFjaU4s3GIzKaO4VFaOdBNzXu5a1tsyxwbL7K9rKbhkUqprkYC7KplQXRMmOsQlEG4Tn879\n",
       "zaofJrq5v8Dg/715kV/jQjG+eDxWIuMvNVCuU8bOYpk71vaQZSRxLUOrlsYgTnHLiAnrzh2xWrCk\n",
       "9bDxQrU4RJVcOKwWpO7oAdeSZAbJVzrz1QqCld6Jz6UX+OYIUW/7Xutofocp2+6Oa5OUsgf1zhH3\n",
       "wVKSE9QEi4B0KQjMOBgpii/bH5DmuXpu/osZ3UlQ5ghOCq411WJrAlr34lJH0XHkZPqGYR4cYBOR\n",
       "+Whf5+byQ0+uS/xIOm4FTHEzvxM76A2HpeMQzFO1bWlbBe810LQkBwpiXnw+UKJRn5JtndsTIZ8Y\n",
       "W9wKEh9MsYPsJ6mQA+9YUszyMTj+GuZMaWdyzkRMw452lSd47UbrBdt0dhuHpM7JujlE4ixahnSJ\n",
       "l1Xdg7NmuIRoKnpwJPtmznJQClCe7bcvtHE1M5KOKJBOcCwwSMplqNIwy2BqGNDz4V5CzWc1IDNK\n",
       "MmbnZx5g/PE+F1EFgUW4wzK3F6TaqWUxdlQMgTAZfvQvW3FF+cItGXCDpkZafhSv2EqqRAq+JkXd\n",
       "mr2DSHEh6y6wdbkSHUwTSPh7czgS1z0uO7HzMJD1LNxJRQV1Oz9xCo/6JRLARIY9+Z3rsikwb6DA\n",
       "C/Bx+LrvNoN/YJWtXp6HdHvd/89ESG6l97E3ClwajqYauyX/4h6Wtj5rYqH78byc6GEF9Zc8S2V+\n",
       "A7oXIq9Zu5HVq3ZV3lxpe7G4r64V9HUaVFWRqjK98D5aQEuFOb/IcjjxEwTGeane5K72Tcs4gGXi\n",
       "Le2fc1re6fKhS3y8sAb0Lg5JjIoeFiXlCudTgg0Ru/ys6cwQbskBANvzevZlpK0MQU6LR0X06xeD\n",
       "FeqveJPl5yYbVpCAzB9mmRHxFVlUUzUJozdH10kZMiG/hPxVNMD8PC4jr4AhwMkWsBVAJshuKFLu\n",
       "sUNjdF1GNHqH3geBxAUA4beBEeGQBjbHalQuP3a8Q01idMaTD9bZgcKjwHBOJ/hhfmWQRQk0bg+S\n",
       "JsP+md8Dy48JSS4xHlRwA8JZGh+0+0KrzGlqnQNb1gcu3vOjtZkjUjb/GZtUM/Zv/zdtjvo69fsa\n",
       "z05X1CzemCKYyfOGhms9flDhAAABWEGfZ0U0TDf/AGbLpMpq0UPJJlELJkpHrUbE5fH3BNNaxp7q\n",
       "OAe6TKiM6ZjoIPWPQma5wjA6377iy19rrzyu9sph1l2FM5WPpVEiLdsqsacHyiODNE1AgtOq/WkL\n",
       "jYqOIQg874UR9o6UzsYAPGnKarTYoeo0XU3g9x3uebgOu1wwwFbq7MHte2RqMzo2/a2iZczG6fuK\n",
       "ArvRvYTPY6pR+tDj6Nxq1L44NOpDjJmOABPXruJc3iphKtTNUa5LcQOezPyUT5AmDuePluyILOhg\n",
       "D51/pf+BIBejnNsuZY2d/3t7eHbDQDkABdzexyD0isyRbvSNf9SSw03f8HjApEsoWLdY3ihzK9u6\n",
       "O622SqszpdCWW512EXTnzNmKQQhVJ9O+iuzcvNA7J3+fm0K6bxEmjKDcP8tMsDrqHIQe1V2XTAf+\n",
       "XINZ8gZYL2JSE8t2jBFfW2kctUGiegLuAAABJgGfiGpDPwB8SvayBbIXcEpNBpXkGQjLADIMvq4o\n",
       "OW5J9ePmI9CHx6Xblpq3OPWVgrrjwUjIvkoY/GnU7vmUzRPg6BzVvlGBalV+kA0MOHt6YPCnBKUI\n",
       "E8Vo+n33ilL4G81SfVb3uwABO3q3wI17cs7MPXQ/i5nPdyNQGXwLpTkzbm0pBZqWOIWQms39zFuO\n",
       "h3gQnl7GxogxX+P9rXU7JXM5ADLEQdlSxPCLiWAWLfXbSxSwVLKn9moKv4YnijxGcg2WHXIRSZ+8\n",
       "DHpwCP7eu9RMecF0Ikg/SKyIejDPiSsJb8a7fdppuBKCldIHuR9dBksyASLx91PkryUL8mIfYT78\n",
       "63xmUps2vfSa46yOADXFocaIq0Om/gUJMWDOkqEHo0Ul6npCHgAAAsdBm4pJqEFomUwId//+qZYA\n",
       "jBNxHDPkJeX2oNmbzCZt1e9IsyAAjE0id3nTI5pqTO1rx3L7j/bvW5Vd1Qt5vKDIrvoxWJnUhsDU\n",
       "5aFYRW9G78mhP0Uh+Q8pYAOHVjdKbUZubGwvW8scioquudISO80YBgYlN0tpVaXuooSJHVnKbUsY\n",
       "ajTRyMhA9RHaXylBKrSxdJDeUdTTXsfzScNfv0QmdDFh6mqY08eZ82xXgHKVc9+jjWvbIbt2ZMvY\n",
       "iiiALJFSVyBhNGPM8aJrQcfT/uJlWVXu9Fozsu132HOd27bYwR4UcDDCPQox6vCaJMlZ9aHUmtLL\n",
       "KgSR2hgyE8HqAVUwR8H7a9aThAmLm1JwBo4KgGQtwhaPTlSHqGvANQ4x30obNhYLrjmSYQFALnIk\n",
       "SVDUEo41Udp4qG1ZZwcac84szVhAw5+l2aPOff64W8D/5RPn3VLv6v9/kNeIEz9zxSVLnr/MRxjb\n",
       "RIb4kmDV53iK0eYOhKxafx/7HUyXzgxOKVhookNTPdBFMoqu65h985YJWNZ+v269ZAMNw5OcSymO\n",
       "I51YWf7MsYYpSkGrYcXxqSfe4y+sLFPThxaVH5RTd6biGBK5sJ2ZzFLv1KNxiYyEz1njTbadTKvN\n",
       "X3AYSZZVoNdbofa2OV7UliItLwnSMaaW5uf+5FOl5tS7sR7dD6o/IShALNmcoEKJZlv+83QxP4FW\n",
       "ywU8kOP4qR5lpjxqhY5/aBcTkwbs++n9ukENPKmaSklpQcVXp2JLmfXdMm2X2+XOaqoRKtfPFAU/\n",
       "jy7U4VW7NYOS085flHS4rLhTuFTX9vZJWr7ty4JOdvVkx5QSzISpWCZDY8CKhJKd+e+kyXPtMERV\n",
       "cNyE7NukQot7yog1v7y+Hc/HQlaCwsUOob6BAAY5pkPB/YaDwqbq1saCBhOgAObKgmK1tp3NgUfi\n",
       "qVS62LohzyGne38AAAJCQZurSeEKUmUwId/+qZYAjBTFgWdqFxxXBp7fg89A8fycCh8RWqaAHHtd\n",
       "Tyoc3AApjQEfbFtVwWvZNLw9SzJSKaU8QX2pmRMFBKBoTgMdrjC+YbFLDW4iduA6Ma0T6yy2LxAv\n",
       "CnU6HBIZuTD7G9AkTjzaF5rPTIx47wB8+XU+x+KlftBs4CzVlCucx5rpRwUM8QD6f6McKQ+t3E5S\n",
       "Qc0F7lYu02jdQ2+chIs6v4DB8DqcrCnTtL6zyOk4ay8ApRFWzv9TUo8K44oY+BJ0vphZ9UOyggJk\n",
       "hq6NppvDMceQRGvSfoRDJvY0OiJ80LsaIdTN2AQjRRaDtUU75NXr14SzYuj1wpjVoKHi/vz4zVGT\n",
       "klhVCR8ZnkQhpACpOaavFEQjN6YGHM/73Z9dH9sXxycBNBFAvlwK3ff4nw3y30+5Oill+7sYl/lr\n",
       "A9wF4wqnGz+ReXKHwNlTqw5gNoRZ4961dJ1VkvDHnerQ/yPy+KsfIK2qhCLNPOWDTh71BUqb0et1\n",
       "PVqAkcTrt86pRcLBVsF89mhPHXqYcZDyKogj1Ggl6e63/6kDLAv33c/ZFJ2X7mix6C38PsXfn6aJ\n",
       "tC0GWdPhQZExvbx3EKGk85TrIyISNNSZzFwJX3LvXuAU9ucIWhtJeYvKdfpF6wr+me05mS/cZvc/\n",
       "8rY4+wUfCnixztc598IOopxuK9FSQev4brYyrh5HL9/ze9+d9mJbZk4qfvzPOJ0k3/3/Viq7ZgyV\n",
       "1warRT7iKio4IiQcIrC4GCOgMExN61AAAAKQQZvMSeEOiZTAh//+qZYAjBgmhtVzETpzKFgUIXZp\n",
       "ftBexvzCgBU779A5eyEYLgnAsDIAVQCrUvrES2c/6okel9HhLmY3q2SlU3mW7RImduIK27Rf5boi\n",
       "CSlrfwuzajolBuYwbkH3dmd/w3MFac82jTnSajsigIhEjQhTP0/PZFpLWoObu42o9ZdT8XvKno1A\n",
       "0dUiFwXaR7UhxttLy36KCzBzrMVhxogfbUhR3TH3kiM0vueM/JoKq30n3SKWj0J2Dx6A6a8e93kS\n",
       "/DOrlWKWw4XWKNvFJdOmAN3WYF7vPROOZnldkByH+tIHd82yW8SELyqcDirjsAWj2I6sa81P6wqb\n",
       "JSzc6CJ/EAO+baGlYfhEhVjbBjZ+n7FKXAf6L1Q3sb5oJPaK6IS0Y0yGgIpwciYWU3h2o2AGAahg\n",
       "OcaSut7pFbSUmOya9n0dMIxwx/aUn+Hl5PhhFVxTAMQKX68OYlWpf6LGt7HZCgUrYuD8F3MUbbW/\n",
       "ChgXO+IKnGWfhlLubRu7VEhIRiKJ7C0Wz6RjvkiFrk/sm4oDv75ZXorrAzxDxBP2YfKWuLuZV5FU\n",
       "NjhKkAfv+7dg0ceTlgwiUS6Qbtd+X98cgVxAenqOzXQgQ7kuu2B9ebDx3A5n1+ri3IjNMvceF4xF\n",
       "wWEwcolbBRffm563vOmWjbpqe6XAdeZewlZmP/F9tX+3XGlzs8M1VnI2TCiZj6Swbsm1UcI8/zni\n",
       "ZGlcMcqcOBW21GEd8XwulS7Hm3aQnZmrveEzgxL1llJZTcUpRogF0TyPu74PLnRchuJqJH5k6R6H\n",
       "2r6gWnlp0oT9DgRDNvz9vupqCJ2zhgP76NJ2OPozNnEqXeuEFS9IFAf/r7Z66ppN1SYbJfaeJ2cA\n",
       "AAI6QZvtSeEPJlMCH//+qZYAjBkyQ6rfa/SvMrnG2lipt5LLRT9BRm6AFrxICE1CU0Z58bF856sZ\n",
       "TLriBa+ChV7cMHe3JpuVbT08jBCcmNH/8eZ8/OYV9NhtI56+6c2ZxsqYduGzRq+o5AGrZx3K6ogW\n",
       "4iA0rFD6l346Ls2eodp8EvLFzG3fDmvJEt/eHzVcEe6tUglXf6+OjvF26VwwLl2EPP+cCmzeGizO\n",
       "AVglIoRc6l8OUw32yR8RfxT/18dgyekPuGBU4GgI7Cd0yi1Y+5lpZ2F3u4kkqjctNcxI/pdtnHC2\n",
       "k7FhR4Ik97KfpEacP78Y4s3JKzu9cSdLNko6wlIwjIdCltGyx9GIN08V05BDAAMTYRqzRrs15mxy\n",
       "jTSNPI8jzuvA/8nEAM/uuI7OCRMvLrjV/kNR4dvogZORH7rMzlXLosslH3GluY9a4zSNVfis1sue\n",
       "Tb3t7hiLFm+C+qXCsKiDQwr2NYWAfN2q+T63OhiMp/XQPmmX5cqHo+B73xsNpNRDLF+fOuB+bEZy\n",
       "VzoZzgRZQPzNW0UVFHZbEdR4GRpNMxmWsa0C9yv3h5d/gtMpaU3iVrNjtkK87K5z/6fks0E+HuZh\n",
       "zKnZdze2PWcA9pCd01CkRjKsNt7iXes3+wnytgutKbcgwhXt9IPdnvoR08I6azy5Cb9xHdoT6iVd\n",
       "cFVGfVpv8dvYCjBCsAoj0JzAOVQVW04crUlfXucbNOzdvQ7L7iCF/ymZ/dfMyL36ZXOarmKFc2Dz\n",
       "kmVBAAAC00GaDknhDyZTAh///qmWAIwYJobh21hYsLDvwVQZxdzi4UUrCfYXRzw7dIwA40Xwiux1\n",
       "lEjr//FP5GIzAslP4fH0NKgbNdSLGZYdMmQhpqxyKWYWS79VP8xOHJn1WvSHPV5Ml71IkrIvwDQA\n",
       "4I+fypVV0JLgoVRRY0GGfHaLh3EPhnUJ0H2N635E0ddWnJMnyR8hlTi/jc8JalEooVVP76Jzh/8v\n",
       "KoUIUkHJus1CTxSdYJCKpGSP/RcOYARM+LCK7DginIp2+vHCfyQK86toq4kZmE5cvhyy/2+T4NiY\n",
       "fiGmEEYwojHn65iKIlVDMwRufZaoreW10abv67iSaxod+cQrOoV1BzYhmB6a1dNt7WW8xEf/Tm15\n",
       "+QknsduuTnBc81/iGxbOHPK/OjCgSRM8vY9koEHzxro45FAv2IKI932VTgPIrC7UkJbV8rwZAqCe\n",
       "Np+WuJ1oNCFfagbnm41WhY6KjgWGE7htEPb/adxlmklbWS1XyLgw5xQgDpgK3ezHFId+d5frs4z/\n",
       "ytujrxSwx3bbkXJ2nzBzedHQGvqfYNwWi/wQAYe4Es9Qu+e08hW2jHM1ON14rm2WksS4qtWS2vV4\n",
       "8fO+yOPJhHt22nk+GUjO0Z5/ds5a59LLtZlzgOLOW50+l2KL4C7mm0ZV7QLSAWCUwGfLzz5+z9Qd\n",
       "WJW2FgjhOdFdFnilw5O9cmLyu5ZmvNfMt1EXaumODP1zasHqzEQ9kK/rdWkYeOPEX+y3eHpgLehw\n",
       "cjZm4g49qn/eWK3i5gSQdmPVQUK3X10OzTWr4vCZ5OcIE0DtFRheo1b87dsC2EM2yHZ0KH7h9jZD\n",
       "AXnR2hQYlV35oGJZT3C3srdipgEDEGPce2lLag5hGxWZ67eA65biC4+zDMy6PK8Z2OREP0hU1uGe\n",
       "9B21vTbvGYuxcw0HLVl7ClvSYjLD88dYSUUcFrityOE0DnRf+KFQz420nfMP0QAAArxBmi9J4Q8m\n",
       "UwIf//6plgCM/WKZcPSy/Aakh1ApmPPy4/R/QLRMAHG9XHRBNSSS0lOo9elUfG6BGo+oNZKrXxO+\n",
       "IFmRs9Z4gurhMCBXuZ7m5gT9widI5y1iW9JICtWJURQOBtpJYjDsAk5dGbkvaVANKnnc8+8YamTW\n",
       "drdG4dQBChRNVTwabcHuc7vUzQA79zgQeVlYEwmTjymrMIBpUoH8JZdzlcdH//JVax0x/RC1MMA3\n",
       "gzVW40IY+dZuzPEvZmYRMCJSeJ2UYmqameW6nqe7AYI0Ghv1Hd7PnJ480WxyKxqSH3Q6YaqY29qf\n",
       "H9x45mIxWWu1M7eBk6iligp37WEltJG/CRA+BN+gHUrCMCRZZVc2nkIthrbd70iyxIk+YRmyYZ4u\n",
       "gacojzN5aW59GEO5dHEyqpCHTodwx6aIJ8W/Ihhl0tS1CzZ3gxU46OS+0Ttq10rFpWlubY8uJxiH\n",
       "Bk50inxYRjeKA5V5+woNs8VYpSgCMPRsE30dLPxSrkHUuyFo4lXDWimH6deGSTDp0GGQgm5U9YLb\n",
       "JQ53MuweMfSopz7iHQsxyVVfralWnjNCFm8422T7ZP2uGDImwX/J/d63FEKf1bgKcWnKFF1ZlzUy\n",
       "9qpBGhwCdCRGNCeXIF+d8/BsrJlz0HlwY25A0kGtNentJkqpG3FKSTRdAJHmXRYbZG6kOSNORENi\n",
       "/BGtXXSt2PxUCGyxpMjLSCYkH9Rmh4DhpKxjCzGoccIAOfiRghmOiBk9Lm4H3pvJvgK6MWfkRCLa\n",
       "d8Z0dwCGnbuuZfBV0F4ZdOFpwkImczYYVFPCcpSJcvJ2drfyx6iUAc226S1ticF/ggxssoZszb2G\n",
       "cTfb8/9DPmkuidfzRjKrsOuTUMTARRH+ANvPY0gNlAHiH1OtnCTAyK4C+DfcAkrGgHme54ZaZWzM\n",
       "GTMbvIJYCgCTAAACckGaUUnhDyZTBRE8P//+qZYAiBijYbXeteFaqvjBLAMAN2POeEEakklpRf0t\n",
       "/8v888DFKeSPTXaqjSosnh2/21pPnGpy546l+1T98tqgkwi0LzB0YxFgzcPfRYQmNAPTj/2GIgEI\n",
       "//w+hsuCQ/UD57gZgH52Pcm74loLsEC0ZftfOJTKojcMxgwQMG8rzg1aQak3TYQjFgpRne0HUkNq\n",
       "8Nve+sPRmGYlJLcrlUjuHJ03gdgXBWvwsVBCsB/vaNJ/rbaUtrBfZyK4GNQne96LVhxc37wKe3x8\n",
       "tYTjSBcmUSrJXGFTYrC1bTw37VVxS99syIWKarDdqZNIcUBtK4SQSFucQ0knvrqDY4o/SrhKX0Py\n",
       "IRlKkzKDkPGL93XYXfFuMHKnMoV/A0zfIN5XOhuHeFx6UwtDVIqpI/YXiBfgKoZKizDqHQ3F/Js4\n",
       "UeylXwZ1tYMg7oM7IUCF0/YToq6ra6HCUH3giVGVxsCVLhmi8+8VwXhB2tahRsHxrccP7RinlvUV\n",
       "NYN7mWLkYhXmdyAZd4eTpXtlTGGuMXN8WPUF8FxZrLTMJnzzywGR7owmn3wgb/v7XggCU+HmEwaE\n",
       "Q1dhKtm0baPZ4RkV71mL4jbeNAzX2UK7p31eV/PWAd7//+qtAPftNacPydedTH31z3cm15DKHYmy\n",
       "CHRKjySxRIG1WM7UjUgEwL4N515dVEF2yCeg/GTAjNOWw5nlkU2byRerWTV3VbHymXb1bv/NNxu4\n",
       "vx2sZd3pV45+3f2zjkYzoboGLtKRaOK4kuI/GljQOGrrMvgsex0Xta/TV1lU2hC13GG1hW+E0iqS\n",
       "Ghr6NXjIePwjD/fOAAACOwGecGpDPwB2skU/Sq3RQrKhlFRgrgCAWE45YAcvvlcR3h07unSdiw2A\n",
       "AyIWUeEvUbcI4vAFC+suwIJnrZmnvjPIAx1K5HIND94nuPy/90/xzOKJ6nlWpcKpkObcqkCo3NTH\n",
       "jyyDJ/AfTWhlIjHBbv3s9VxG5xC+ME3aFZcbqGJelhQ65xOfYp9NVrMhm6tJJTK7PfvsG+oERDqU\n",
       "MBNd0gjWlrv8pLuPvPc1Q1p09WD/t5iUlhAJ9Rbe/T+llKDsoi8yivialFBNFTfNp/MSQB2cRBff\n",
       "Ct8EfKRHh6sVYd4PcTLpwHJJ3gIQaM8avzzzq9F7VrWtw0E150G7tTmer4eVpYlKpESvu5yhTMQt\n",
       "nnxdIX+yTzD2THUyX7SqadvE7yKghp666EZNJ6TQmyuQqy5JuiBXuKG3PwY4WRHqVK15phKUOfcp\n",
       "hN6ohA/DKTnx5kACYBtHFDdjcgPzaCxCQf9EN3MgD6+SWGPcUhYmgwfbJPxrU5fcQ+0ZD0p5l6Z4\n",
       "x+ek9m5mQpC4H9QnsAAn+yIRavUhgMjPEVSPkjt/rTuamwZpgpz4XlPN28gfknHjdT/QAATY5Ul/\n",
       "RwFdK5bKP6WAt8tOXVEiHFF4Kn4t39JsMnf//3Vc73V8UQcaE3Fk5M5xdCVKW79SAr2NO/X6ACW0\n",
       "VRxw0KXaizV+C8sQFoyy5Thrp8UP3AZNI3vzCJQCw9qjgDnb6iaPMBKnShicR6lJaD22H/U6dx/E\n",
       "L83JSn0IsYGm/jGUowdZSygAAARdQZpzSeEPJlMFPBD//qpVACMGywRRZPwley8bnAiJvx344M3g\n",
       "D7+PBVt3uMKvtD39l8YidY19wlWmMd2uQ8HUAhHg2GdLvStOtci/MilqPzq88Q+l8h58NYgCbj8p\n",
       "I0xRzYdooXCh91BgGQ8iT0bnFLO1JdmhZS9l6Qpkb3lDoAj+B4zBLFcv34j1qcdD4mZW8ug/XIdS\n",
       "i2xWzeEKekXRG4uxLo6ytX9aCMWy0a/lMxHNlE+e+sq5wKDN3p/32MEb9nZZo9gw2yXjWj39Zeli\n",
       "rf1nZvgewdY3yi6RWeF/M3b1LFjz+Q2vmCwmJrI6kMZtCKlEJeIUWCRUWsFtkcBd/jg4t6RTfOzh\n",
       "OUWeTcgBqhrZsC/J3+AfiA5I95y0YAAase5dPCTq+VKOqfWopSdZFrfwjYAkfACW9bp1LvWen8Fd\n",
       "r3CQHLwJLAp8wZU4Lem5qI4Msqw6RkZ8hFG6DRVp1kwqEVH073Qe2Z4qhYSXgOGFMkj9Obk/1wRT\n",
       "Jhab3q+p17QZ05tahl5xY0oxIks2j8sLiJJtHuTNqXhKIf9LQwN75OfYYCFbR3yf7stxCTPS0mhW\n",
       "Qcgd7aCMnGrw7pSTbrLfemvzXPXz4VtIb19o/MQ5hN+U5He7kNx61k6aXGAXJ4POH5aKlm3+ks72\n",
       "NSAgeoNJe2/Q/CvEcKSvgp4gRGTSOirf2MWbi7D90xQr4dhqTjSyIDL9SZFRFjIlI3KYteIbHK4C\n",
       "M7wD85M0056oQg+W8N45gDBEtcoJqgNAeSwVje9U5lRI2t0L46UsnlkW/2yyDpmayqh1wE03fi/i\n",
       "76bj7wVhf43zoCLi86sVz9djH1hkGNnfaHt39uU7jZgwUIWVsx5waxE3PdvP0rg5gtoLfniU20ez\n",
       "HroBFZHZOlV8pW6dM/NWTSajaN4T3ZideKYJYW43yEEF1D93nQA6YX8ML1BAFou/WnpuS3XHJ6EK\n",
       "puDdCra6rwuPCcat7xmJH4/gLMOluQ3/CVKXOI3VMBGxp2Fsr4k02nZiRhxK4sKb1H/ANH/sg1UC\n",
       "pRJCJYgURkLlZQ19zZ7ZXDFJie+EUFpVCDvjC/8Q4b/xdA8trLEsAk7y0ASjzcVSDPyx4IPXF1xj\n",
       "R7EBo1haSmQYWRW7WMp4LM7lP9Go6wBOak2Wc3O4Zz/ThyqjVGrbW6jpoiRWjeHJ2InwF19yy4Jq\n",
       "/fd6W310vlHBYr08HtH/kFyGvDa5DHu81pzxUQR0NoyBSUFOshUz3lrSgNEOvTFUD5CYtSH6oYKx\n",
       "IWMj5EYgyNCg4kFqRNkwLQLaiDX46Lt0RMwr1vLm8nosD6lMfOH+aw0hwD/JdZ/LzryCq1Y3VwGM\n",
       "wJOx3OT6RdoBz3mptqmljBSIS5kgG+4HlqwsyYheuGZzmH2wVwKCPORkuaUMih43ytMDiw4X78Hd\n",
       "9oUrFrdKcuw1tcr5unuNDGz4L/c+DQGQM1ZONba39U9apBwR7JaKfWi0ZV29yyoHDkyA29OIwwAA\n",
       "AdEBnpJqQz8AdrSomoKRbCzN11WlT9AjgAw7h9Cy9EKOlxlLze+RBCqccorG/7gagALBDa7c8Nsw\n",
       "vjNGQ1dj3CbF7Dxev7DBHZ0qQsis862/E2t3FF5lyILSDjyCfROJJm0TaGK27yFv93QvOqYKbCQy\n",
       "Qc0dbOxJ+0RROe+hDb4G269+ex2Z/6e1/yrdCGnvxIpo13WLf/YqrJf43uejTK3OpTVKbsn0zvUN\n",
       "Ix7SY/i0eIFGXtR0gZhmfK7jfpo91wXjRlHPx0YjOfuhfJsm0DJf2m3bCd+zfF/GJfG6f5cCK+oM\n",
       "6NXi+CRjinA5HDLz7RdIeIbTF8q72Qd6xcTgprT5DhN6z5uPAhs5kkvhULlJeQIsvWNUjM4uFDus\n",
       "Sb2XcSkR141rVe4qq7SbIMGyX8ghbLPqk0sEaAsMLl5/9Qe0TTDnl3tqm8BRoqtjxR3heSLx4mzv\n",
       "utSf8/sAyc0sUDbOPFsiAWWsaMnrK4buxnYBZnSIS01o8mARzy1dApCidPC7Z4rhEUTfW6wH95TE\n",
       "Qsuy5hk4OCZaPIC2Ta1lHe6ksJX1xMaq8Vyduowm7Jf7ssExxXwiQWJEptvUuaPOCUz96uSg+M2X\n",
       "4HeY1S++y0YA+YAAAAJkQZqWSeEPJlMCH//+qZYAiBgmVHnCXhdk31bfjA1QO6Y9DEAoAce2v72E\n",
       "5FSS7ZbMPXHsPrhQpcYJzj/acb2IK9WdlX8Ud2bQMNtj/OBboN9Pqw5JQBQgx9P0PmkluC+C7wJa\n",
       "zjA/WDYrrtYmoDEGnk3odSz2fy+4WLKqrsL71uJ9TYpXHx2PJRojxDTt2HvJSH1B8O8vFYZBY6Nz\n",
       "CZgz45aMzhBWprO7UDSwn+qJiDcACGAoGke6m27+EHX82uvobVMuLyoCjtwFQSMeIXdSeYHUel3D\n",
       "7uVHpX7twGoTxXKPSvjWZdQM8LvkWGEG8E/Vz7J2okNyJ86R2rS1wPv93ZWK4+MHGvLRjx8KMFCB\n",
       "tf6OWnvD8Pctmlxf6aV3yqgoFDepSsAk996sS5woH985sJvuIfQgoV4YXjsGDrZ60fxhRkD9aWXg\n",
       "mPjHDEs4MESrwljPk299KqqJNHDrmdKmYNoyj3wvuLlNv3OAaBHnppb8YIWUOT77XyyXDzYfUo4V\n",
       "jdc//9MNnzqZ8czLY0No6h2laLxrt7VQAuFhHjOr1armr7Qg7wZfpn/+aN8499yyPvBqJ+0Dxi0Z\n",
       "kgr70tKAuULwQ2hneFkvrMnxfrlXyslrKSxvvIpX1pG14qqkbPaqQa4dyA5cJ0czx9Ero8cNfomf\n",
       "0R41ma8hyDYHcDkLbvVAxOSISLVIZMBUZN5ITuM7VyuLyVVdyA1iNuaa+Z3QX9OSAAWfiWY8vG/6\n",
       "wsEwI/MdZthMQMb/haHz6JMFe/3WKrzTPLFTJseuZh8GL9BT7LglDy3BQ8YW51OVWorcPH2qwh5w\n",
       "AAABt0GetEURPDf/AGG70E+LCIcHvrTiL7qPvbr7y3T6Hr2//EbOwAGwzA28oFc0kzewP+A5KxAg\n",
       "6ts9eq28v0ABLrc+S/yUK2q1sV2Ly97LL7I9JQQc/Qzt3fD9uaGR0jQatJg3Qou0REBD+PMXn/zL\n",
       "kt/BCXHRnlMO/0n9ozfwYBK0IfA9QbActE0xMLhFRpR+9iLL+MGx3TMw5frkTjfU4WhYKXPNOB0n\n",
       "1OiCTz9YX1HjbmS4EH1wDbJV3GV/0AWo4SIdN7cTv9I5/pL356PcO3nE/El5q1T4JrhQL9h1nxoL\n",
       "RTFHOFrT1f8TVOsTGzkYNz2ftTt7hZrb7NCrmocI5sI+3rUu79ZKH9hBj9Uq8c/FAHBNTv5i3GOM\n",
       "YN41Y2voHnFBIBm4Fs+WeebHtSTNTOjT/UWvG/ISqi/IIU7WLalGIO3s0KLuGUYdrMWHPbibooD8\n",
       "UIdZr9bRFEp//tz1sgb0ozIZ7Z+cs+66dr+llXInKOv6QREQk1lK5LPZ61NUDCE6DUsYrl/A3vvy\n",
       "A5uruTsSXT3iKE96/26L0TJ3Ccd8pn72dJhxUAucTWdSCcQ09+Ky5Zpegx8AAAG2AZ7VakM/AHa0\n",
       "p2Zpc0/O8/qUYpVg+Z14cg2MhR6jiCnXXaoqafGVOWe6Mcbmz316CfoX8nWsvd+I6WLJF3Ucgr+y\n",
       "IpXrvETvg0GzF1iHP6143AC5m4dUhoFa0jpOblwfr9LMwNd8ittIqvPQWt2ws5/4z2ymp6G1mqJI\n",
       "fAtI8vwej2qzlr2LMv1adazcwhQifCG4375XFiUSzUwnwygqP56W6krJi2LWEbrWOTlnO9aNGi5o\n",
       "s4ypM7Tc1KHcOV1ICg2dZj/pk10Iz/JZTG6SfAPQzyaqCScmna9TaJZ437/EVexZ/vlqgst/Ys3l\n",
       "GUlwXrEakqJ9WrH6nDPish5ixRfjGOrom+H+uQNlxS6En1mOeRhIPIE5j6B9hSa3XRbuBwZ8V3Oo\n",
       "VmRffvHlcdsgf4YvJJcIqEE+C2UULRkLGYjA4gDl8R4ulUmFa7Wd7/wMtlUiGYl2uSW5UueYXVCV\n",
       "7evQ92Gj85oE1bLC6Aax9RMHAAWLY87sk17gPZLTh789oWkjGWNrQ3rTH3cTT0ai5I8Aq5yk2/qK\n",
       "zsvGDEfzMBgF70InKe6pl0S93QIG0g4nMp6ClcJuAAACgkGa2EmoQWiZTBTw//6plgCI/WKb/Rdx\n",
       "sCLrwq2qwm3ABGVtf3sJyKkl2y0ZPRalBAHwpEt9c5MqLbnioCEoWVx2JwcdpcPN0aTW9W40QzwI\n",
       "CK4mS94HRWk/l9ypaLmdtO1Y36+uMRB5ealdv/G5Fdj7vcDy27NYvLzXP1Pg/M6UhoFpApvKKXdY\n",
       "lC/BAiRBqp3HwVPHub+Ireb3NrE1hGH6IV9cKWIgPZwNT+KLufakjvj9zrFkHnAKS1I0kA1wJibR\n",
       "fdM8QUvXfLr2P0uBRvq0J0Hozmow54oXJe/NPt1t93FCfBxXRlC9zYYTl1oQB5D+etMFGH1BwxBW\n",
       "raxlUYa/bK9KWqQssTR4Z+HPvXlyvsTb4ok6Ey/okWBJ3YxQTocMzw7C8/KLcBibyDUA99+7WYtL\n",
       "biOLyOQwbQFV1Iea9WmDjqnL/vvyPq+/PLRNw59B+7h4/Mc7C741PVLQF6f1IY5jXdI8EMagR2Hb\n",
       "IBOX8PrWRTuya4WizRQJMVN46VxF1mq52LMZx1J/2Q8ahs3cN9shEmnlFj+ZisBs+ONnUAbocCg7\n",
       "AEdGekMp6/1cxEPdqhbDYU2UimfLI3BzfS8Q7UaGQJHglmIGZfo4WQ6JUNd4CScvI5+UqpS5Q3UR\n",
       "1ohTrS8cKuHWw1m0kux6PuZjF++ZIl9/J0gHBIENM1b2aZN6hEmfIUmzpLT7tSbMygiHI/ZrXBKv\n",
       "j9iS0mNtdLa8VRV4S3BCVPHc50VIc7eGIGRKUhszF9dVUuWHvwHh8RXJ4ho2PViCZihSGIbyeIRh\n",
       "fjn25SQhepkkquwoQEy6wuBj5UweKla+b20zJzhdufE2VQKnQNZ37x+7TK7YeApMwQAAAX0Bnvdq\n",
       "Qz8Adsr2sQFtveCzzhxDf8wtzsYNG3mHHFSIGa/cgGftzW41OLrZmjU1QhGsuzrd0tMEFeHVRBGb\n",
       "ZpxN36SaRuJgvCEFU3s40ALoNw7zpAUlmr+dcCwVrdDvMrl4zYMrA89n+hsrp8hQ1ScKMoII7cE8\n",
       "wGVgefAACfXNa30fu3bKhrHXaJZ/HxOObs2usM7CKkynNvozyxfMGtvtdelZqsJ19hOGYoC8B7vW\n",
       "ogOHwlDS90C+W8rqLmpO/YDrNIf5YuXFFiAzo6pnZITz7AClY8yofExjijn3inHHY2e8gN+JXZoa\n",
       "d02Fj1ZtYES/FJNLRpLXW+7obRe+AJ9BQAflg+BZh4Yrv8PMYoDTVeJZFbYPrVuYVSbwb2BRHMSL\n",
       "0I63oE78Y+SF4DWHvsUFBvO+zruTm581AXP4fEdyGoUvE/fCArn/QMN3vPYDC2sTSF7m7sk2MA5S\n",
       "UkyYQMFgSz9mWfqL0WOjikroRNBztCuuq45EZHrk6H+QD/EAAAHMQZr5SeEKUmUwIIf//qpVACIH\n",
       "HO/vpmnH5iCKdTmxZuCaiinYvMFBb+Tp3W7c7g8tqoTE6TMawAOy1++YHvdeY4DaCr80YRfE8Ikd\n",
       "+aZj/1/IMVrX8+mpswOqv/WR46QrZCr0Z7t9QcP/tNfTyoLPUqWcyVANW79LlnAaJoOSu+wzDfxh\n",
       "di9lqNS6wGEtLlHZLsEOAL9MAhiOLVifGFwieCeMT0mvk1H6TRzqjXz423rx4Y7ABRJwux0LTtXV\n",
       "e/fCEr1klgyLg56aeJuF8341Tp4tMn+MT+FCvEXUQSN05tq8mbhlgJvsxjiv9CN/ZMwJSd4Hcgj0\n",
       "v1Y6yHlga1MbCaJT8dDWk3CNSiGlENP+DcArlkDzzOjlnAoNy25igs+sECiyMn8QKohBXxDQa7ws\n",
       "Y/w71L5ebJmIfjqGx2uvwsk8j99wEVOtEITF420HXCIrEioJ96ekhSifrEmDg/iHHgviJqIDRljl\n",
       "I9xtm3qeFWhVo+IEtzRMAt2c2/SCIzaNfgZIJx5XunUsVw0ohh72mVBwc231x4oLOrBJ5GXxq2V6\n",
       "AerbVBP1KXQ7PhI06+nGVX5lblJ9vzKU3ZgXEklM0CFZQT5+e5RAs8aSuAAAAjNBmxtJ4Q6JlMFN\n",
       "EwQ//qpVACIG66P3zq8wPHKxkAAAlk9NKMxFUuaQffbn0jHNW+TRw+5nE/EOtf/ek/1sKDcjDSEj\n",
       "p/+DCmGAkTrxqErB1nBlne9/rv2VXvLyHTn6YtAm1llcDu60Xb76mfdGj75w4cUDURh4UYPvsm2U\n",
       "V1DuSxpddCAp7svk25rtIyT9taQ5kF4ZdkxiCWOVj0qlkixhdzSmivveVbpR+AIu2brhbdUl9cxQ\n",
       "8u/ry841428pXh9U9Rnix9x/95SVGxQZ1FOm2iJWibQvkk3fCzchBF63tfaKoX77VaX+0ewAVxry\n",
       "WOhLBwfcrd8oh8gDcGQ1cEYwAyDA4AtrPBD9vlzeYfsNXLy2srFuVyZGRikTv3KzxnczMBJr8KdR\n",
       "SW8kjqrvYhecx3m4enHOpdLK8aAmtLCU0sVLiyCbb+gpXu5pKvgC7eJBXOqdjZT94vhP/ydiEUq7\n",
       "SPkoPOZr0H/cSIbdweAr6HhYFqWc2IJdNX0CR9LR/3lK67CGmW47AEiKnZoM0SkbZ6EDunI12kI7\n",
       "94oPXVez9/0A/8NOa/o3kQEAfsnhF3MOsKKjdD9kTF2nj09U1+mIl/6QudrL9QdBhUy78l+BjJXb\n",
       "datQGJTMX/DLG5+Djkko+5daTv+qDdmyI6iw/W24cKQ9I5bkLzZhLffjh1vdooEQIUBt/YIyudp6\n",
       "+f0PlzNpTuJk6XTlR3mkmLm4GQwOdqdnnVaM4Hm0nCcn4ilO9JIkoQAAAaoBnzpqQz8AdAlE6l5R\n",
       "QldZcVsm6k+i8OGYSBpEM0C/XJm6PvUvl4cfTfpbDFVICtzb7SP/8pOE9wPNO1fMUvVKkScAF0ES\n",
       "id8HkqUhRMSGY6LrtOPJDxR5HKOLpWOOcUI//IoCtWnHIQGQjQ4JfvIqeVu0WyKJdlfCz6LLNxsw\n",
       "/ec6H77/CWjIphEcf+4dEnu8GpSdbqULl7hieN//XIh9t4J/g15XDxbBTjSSl+EB+iGxuoTgQe+T\n",
       "BCoNBmMi6/Ah7RJeW3xSTBMsNstBbNtqyf5UHihIWLON/yIBgq0Tic32whYfhfpreXSjFnDSY48l\n",
       "eLl1OGh/Rrq4KXmnTVxawDi0llcSOH9RWIhvx0tQppJS9ReOzWmg8Cgu/lKCOjyQLYMRRm8ZT/Ya\n",
       "SzLQ4HZrMc2vD79qmzylpBho2jDc9GefbLWE1y0iVqsSsB4Tx08w46w3zW40A8OvLosArtT2UoE+\n",
       "osSpClsxgIKebXopavMq8/JZ6jsqmBFyNR9WCGAshGOlvfH6MkjtG9IVqfqeOrd5BoTGSa2BdrPx\n",
       "s+vdR8UUdC7XXMWWDpgAAAO0QZs/SeEPJlMCH//+qZYAhBh1hrXjBljNMtgK/IRGwgE1ycvlqAqM\n",
       "MxEC4nqR0EXwK7C7kDy54Ehb0OAdBf/et6MkGC+IeK+YaJ3W/4AGMr1zu+mA/3CrRHqK2bFMqSmC\n",
       "jAIm5YjP5DPpIrBhJM6eXbc3QVAGtSIvvwEf248MNYYu/hM0pd0CFmVllursk67QH6j6vCzrVaIV\n",
       "H+tzicqmoCxbjLB6as8yUK8GsOVLfX6Vv/uUWOQ6TqH0Gmhmrz5gWFqcvvyw2szMbLbCLzIiowe6\n",
       "pz3mCGYYE4+BB7+6c0jNa+wdhxAEvUwYCkRfTHU0DQ2ApQ4EhDk5XZSvPWWWhbf9bJYvzE0Lc7M8\n",
       "lXsPJEX7v55vamiO2B2b7jnxSsPRazgO3Uy6LHx+gWayYWfOqCKSLHwK0dB1+D7whp5RynZCHt1u\n",
       "6OY0DGDIDs9zK/kl9I6A/dOPApVVGA6ZEZ3RdZZjFGS/JHT1pua4j9wBz7UnYbXoo9R64qxiaGKh\n",
       "anlb/iqD5TkJj+AUul5r+1mAWrST6ogZiEo9E/MWEseCFbJ5Kqay9VHtDc7Jx33uoaDpw22TGXQ/\n",
       "BIlBZ16nKmXfxYaXSw02YX+supxfx1JNOTihVwe8g5MJgz61uCPxoLxpJO4KHR1buEW5iVHkutY5\n",
       "kqoIfWk+xRlnozHhnq8g2R5JY6kTc9ii5ixmJcrppEUgcGOSitOqGvEGbKNSNkgqKsFYrajWj76W\n",
       "h5H4+38mbDgzFc392ruKXb0Z11nEdzfdRw0a8B5M+LmAIbWZhZCZpjqN+yn+2PNSa4Fq8J/uMo+t\n",
       "Jkv9u30lcwb7xPaHt9aiwHILcFsDpOVhpzJZcstswEvwZsw7DDMH8VNb9ISRJAaRwADtldj+OJ7S\n",
       "8JOjIiFpK83jK2xyLVOvl3+zkafxdGhXZASUIQydGpxKrlnImLPOL3RdAwecZwmxkziyXO7TT0Vi\n",
       "amNBGEf61DyivJJcjOzCkNUZv3mY2/SJX1XOyx6gIxmF78o0/5MzpzWbv6r24+X/wNm6I6le2cY/\n",
       "eJErZvkJAomf9fhE1e5m5aFIjgHZ0dDiTbFkGZQfHig/PRPbU+oH1q0CGxKkGSVPMfxhPguwuo0f\n",
       "C9AjoqktrAC//xrMJfS+Xh+LHcP98ecB5sQOfJIkyfohjQ/tD+u4IDdNQGWcvfAIuG4iXbT1wUnb\n",
       "pvsDj3+5Z3ZcTGdgqGWX0Lp8YorOvznmAMqAy0e2ggHoogC9CY2/qTz+wU/26fYrc8/7eWdJAAAB\n",
       "fUGfXUURPDf/AF9dDP2JcDK92WsSRxEG0lKsbjBUGACZ9rhylfXy6Yk3eAmWVrc8GCpU6NZOZWQK\n",
       "3UO8sTVizUkTtK3uHZhjvKFFiSkPhVtb3NVG8fFrA7IQ/0m36UmFQigfjtC41omxcy461J9EZdq5\n",
       "Y2fOLITBT+w3oEJReV++C5zmIm/ZRvdRvhG/Xwvg1xgQR8Yd9nxWJded2B48s5+ueVAmuItv0VXN\n",
       "/W9IxDOdp2KzK6BcyoA6D23Du0JHu2tKxBQIgSx61leWYu4tZYpmF51xx+LKZQfi0reNpaIjE57y\n",
       "fqiOPrkJMxTpI0e/OQ0hKOIEAakJ8kKWzcuUi9wdILySHTYHsG6loTfQ6SuuudtiA39CAyQBnV06\n",
       "krSkqfMgfqJWusuU2YwvydbYxZbJKXaF6I7Ssb3VDUvEiqJ2JfRaRftJz3GmHzqfx25D/o7u1/zd\n",
       "S9bKnueMsFsniIjPfSMHJ/RCk3PT8PFWMek+rQhKsKOFKQVBhylP8QAAAZoBn3x0Qz8Ac/ImZWpD\n",
       "3ztzzByNjUg4LLcblIN6oCuYvQ0wJediAEcV43sAkMfmQh1e+1d+FH4oxc5EZc+f+mQuKC2/ryhC\n",
       "F+dLV+MeK89n4VuBeFUPwQXN1TU02cxW1CCxV/AnBSyzNvh+m1WyjyJnuBYmmsUGk1XPmyz5EOER\n",
       "d4BcJAyeY9xAD03vcceZFPYc+WgnyZ1eUkzZu8xAtKbX5X1Vd3iosurDn6aGrWgYUUL0fIDCFanu\n",
       "Glndwms4usryYmE67zcyloKuoXP14jtMhwQjcsnDVm5UHk2t1dvXUfpHXgyYKj8o/h7s9fDOSZne\n",
       "Snj+E5s5o2kcgFAjDDnSw2LHs6n6tz1cnfXcepBtw6VXaWIN1tH+xKSfqmJfAV6tqkcup/xLdjq4\n",
       "G0AnY+18aMtqcuItKEaDJomhm5WEqLyyRbt4aFnpFze+ifdmkdervykgz0rgQLJT/cZo8Zw0W4vz\n",
       "dKNHR6wML+nbWgzl5BCvZiAWBteKvZlESr7iuF4LuStYxXXD3TVse/JALErvtpW8ERkCfeMU3AAA\n",
       "AbIBn35qQz8AdAlE6m3YqaXskTawWjrzD1u3CRvriarof5w9sN9YFkO3hACyQmNtAM9yirR+WHje\n",
       "5EuiHyjcisYhvbsaxbuCImq2nQRIjDb/7rNX9YSRPHqRzR9h33FeC4qqKoTESkj2LhtGajUs6h0t\n",
       "bUZn8Cp+nUE8BONFyu5/4StBzGP5A4awcpWUb0X6e9lR5VQBdzPGYKcw3e/UwYz98c7enLIGFkUD\n",
       "smMz+81DttvA+2n3FzrfxosWAsyHe3sWIXnHxxTJfjwx3yWsUy1pq/rf8D69RAkULDTlzoBa3Vr4\n",
       "Fv6x9vLeua7eMnvsCSdw/ojtpJAXnNIr5PiFbRxhb1+GRX04eZ+x1G9afvzt8ehbeUwvD/z3BGTP\n",
       "q4S+fK3i6OX46lLUfEqxNRk+moH86beWAcOerv6A4OLeGR3tVm6EXv5O5H9/40S0tiDE8JGxZurv\n",
       "uWOTp2gD2zFrndDASg5ESrlIzmsajbAutmsh0mzFHP05my7SZLAjTqKZlmyRQmgEt4Xr4T4ysv+3\n",
       "Fz3USzS3gJnECBTMl6m3/v/iq9Q1fxG1jyLjHLM3bpJd0ujPgAAAAb5Bm2BJqEFomUwIf//+qZYA\n",
       "hBokhgDhDzrxIbCC93JyUm03MjWIgKD8u9em8YZdKeIXc/FnwgBqo/zgSOVyxjQZc7RqFu4SDEUv\n",
       "4ndxoe4bi7e5mkqisU8gLbltpcw/7Gb9kV4L831yxK6ti3yqZCMycUGJad64OxJ28C8F8anPMy+v\n",
       "kHGUQXUDWCETfOUNc+/F1HdZ93kqS5S3UCPoqINBZwHRAkJBWsB5YGiUCp2anpoka8ukvitPxVu2\n",
       "VjLxJjDpDqZcb0XATnyA2VJH5Y9WJum3DUhsQwBnVmCZlVfi5q1TEF/V/BmRegfll7wjfdzo6FLd\n",
       "tsunSuZWNmfeV629jFHreE4Z4JqJYhYhNnAHkK0EMKhONp3h3tS7O2B8BaYQee7u1mZuEOPJ8ewi\n",
       "iDAz2NIL/PFCH1onHvWq1ZmDUOmxyDz7zaz4isEHUd4JiGkGPHGuCQa6O5Ya235Xu3fA7fTWLrNI\n",
       "LbkbpCrj0xbEJOSDQxHPtqLu6rzA4aKZXRG9+7Rcb/9Kkz/AnmGXc/Uxtv8Ekqjgjsm16oOYwMJY\n",
       "11+RHI1yiOVEKgoXtlITDX9HUP/+x6WEcmO6UCB9LwAAAedBm4JJ4QpSZTBREsP//qmWAIQaJIYA\n",
       "KW8X21fVrjrZCL1iACLgnN1ncpJ5KXjBJgoEktrRmBY7V5sT6JmC6ncLaIKiVCbRufh90dTO11aS\n",
       "o+24AcYej5dIU2i3wNXhTkS1t9bcONxjHTIC7eLZRYPbuQy9LtZMa172l8JSiek+FAKhpMuTnPZE\n",
       "kIw6nk8llERksQjnWuNAu9XUdbYGPjFlxPBpcPzxRVuEvtInwhgV45G0Kn//1RwkohYsDdxmf4cP\n",
       "Vwg6M9CTMI+i0wIQb3p36iCX1fEogSC+qVJ/tsJsri88ESAdz7bUHhrdzHBQ9B6LQ7Sb71PQo9y2\n",
       "UqerZRqYyIohQgoeVrKaeYId39t9RmTEzMG8xijjNglMlxkiIu5W8XzWnpZW9l1c9FOAC/8TFEvb\n",
       "2si+Hxapk3C/ZybidBXTlRbaaftR/2BbXy2XbBP3ddkPsakYIluuy/xj1xR6HotxL8BJMDQF36H0\n",
       "+S30+iPPVNlxbvUWeaMvxSTmp/M01kxQ/gOOr5fjTqBaNdxamOP1eD8w+2JSqFS3xSUxqafSif5y\n",
       "n6xWv/KYgXXKkF/K8/BycKcQN2P16u9R5XHfe1GX3KM7hf6wsKSHpLh0/r8F+7vXdxSZyvvTda0Z\n",
       "Rgwc2mD4jj/sAAABXwGfoWpDPwBz+SoiVWysDACwF+RdHoTQTIxn31kt6qm/2pf61W14vihZ/0hn\n",
       "bEMNFC0JyULIQgAugNZrf3BaIHxAaVQCIJGbx8zfdw9AqdBxxFObEOCKCT2EXtaljYU1AR9ElnVB\n",
       "FMshw8Yh0Mc0W/Ji9nQs8DxjSF8Q3zGLleYUNXyjbA7KqZbDLIKY+dhy6BscvfyDoBkhEnI4GkkS\n",
       "YuDPt0BulQHLXqhyK6aveEUt68kxeYE/7+raXiRfgtCExcjvdxVrluCpQkrWfsOKiqNwsAxUH26A\n",
       "AAEKud5G3G4AAKJrNZB2GEN1bDzkB2kSv/X8gOwSykrvDuF63Uywcg0wnK2x0JVPazUpKxEQmM5Y\n",
       "Pdi2Cy0Q1u/aXUkFDtcCCTYUZv9mcz2XKIJ3Qcw/pA0RAz85ZmemqxALabivwA6QOkP9ftECrWXb\n",
       "2KF/t6snZS3PwXYlyrylz087WGQBmQAAAhZBm6NJ4Q6JlMCH//6plgCEGiSGAOEN6FZjNvrmRzTF\n",
       "rNTn8pFQQthEgbKtDJc6PUfMMXHWHJSCfYxGNnCpSdMble0GseZYLkk1cV48wYiea0qXdlec8cX2\n",
       "Pv++hBfQWJ5dbDDZkXJPcDFOLZGKcs1lCFyJdrFVZmJ9Ooyl3fJGDAxCv3u0b7VEL00NUYlmps2u\n",
       "gIw7GH6ktguV7tz1+Pa+IMR1kw8d47PkXLKNCk769VIUPF+RRKdlI1AT4BjJQ5GU0x29/yQqgpaX\n",
       "JQLM7os+HnOA2SHvcG/pPGDzuJ8MCGrWhro5xtMrz3OqB6Qyz+92u22fzTihtpe/xckSvRgZdHro\n",
       "Pebof7sM7iFkiEysCLLbf8z/x9/1MGSnUX/GDbZSSVhkw68aT67kmsn4IS78LQ71sprQ9fkQ8apL\n",
       "BkDfK7g7o9jp9HO9QCDa87XcGKU9M6Rot5Aers+DpSn3LbC0SO3BG1XQipQhw4NFfPmIFqHuhMRx\n",
       "/Sr2H3xAtPOjikfTdNSy2j3ACfg58pIMp20/ZOfhVIUsCS5ayDMiiM473drvH8mT6iYwTCyRkw76\n",
       "OXsjuDvb27PGV7m/9Ttq2BXudOzBFQGcbXA7NAC49lCkumOasTJxGIl/tEUGCfrvK755Vpj6hFTB\n",
       "6rdBR2mYg4eu+poOTb0fsazX+6mGMA6KDqeEkGREUG49qN0HryiJ5fYzhcuusBAAAAHYQZvESeEP\n",
       "JlMCH//+qZYAhBokeDFyBmI4I8LQuL7t8zeMfRF+Xw5omGevVHbNBC3IIDjE2iVzgHcwBFxpgbgK\n",
       "Ky0xhicG1wyoLQrpVM2sCvR26GTfeUJKcpbAKAVibDCoUoDGilIT+el+LYoRP2JV3W8JDgfpk0G7\n",
       "PHATUWKOMQlTvRtLOnf62OrMoRlSEi2SQHG4pf46nhLudNTlstwfWTy2U0k6XUa1ZlA9FY8uP7i0\n",
       "7SwoC3QOpDkHRVRGO4PiLBxgEwandYpZXOFnXUfVynMK/NavDkmgthyDUWMT/Aur0Ii2A0siUngv\n",
       "EfPujbyeMJ4rDMd2VIcUwuthcC7PRXGK6IIwXb1GREwPR8x55x0XgUgtV3XHL5CVxnYOQAClpTss\n",
       "Y1blHx64afGw+pLJdCBtUFK1PV3Byi0tCPQakan+7dUSKquYgQGZthP/3ZINez6Z9Vv2bRorKxR6\n",
       "WT7i90BKdsSgY8svJtgf2KJXDa5wNIFgE6ehCqLnMeMnRkZsMua8e9z+LlsEz7nYNNpaK3ikwurI\n",
       "ISDFzsxI6gCrI5QmGG28ejxc6iDd2gzSbkC3gkjKZwtxzD8R12f7RlNx3PLCI8wQQ6GRRdM1KhlY\n",
       "4wBxfpWuZNPpoQAABqZBm+ZJ4Q8mUwURPD///qmWAJjyg/zk079LgIVayUg5PuB8Ux4EytN4DEqX\n",
       "SEOj3R/CRcd9WucFz8OIwLVzOolI8wVjp0Loma6L494AgaQXvBHehD+XaGrwrgQJ6VCE0ZbWxm1R\n",
       "ryodnZCn2RvaTwOwN7klx9WV+fmcF+0eEWnWTgD4HG0axprbZQRAcBe6WerqR6h+yALl0J1WNojT\n",
       "K9B/Flvqh2ZD6fx/TskA6wGaUZz4oTrKKMNcCA5xZByjSdylPnOzo6tajfy/5HgUXs1zyknn6bzp\n",
       "Dnz60i2bPTR0c8z8dswlwMJvLqB9VdM0g0t68V5s6AS+FIqpml5ciQyOOnsr/4luwrhcPFqk84mh\n",
       "lxJda7+Wy1gVM5+KsgX0p2HG+gJh7mDtwYI5SeVFrU0ataqYWYOtBoGGZ6HmSAwqMkV5t5g51Qex\n",
       "CXgG9CHWKtwFWjYcIp9eLxGDEjTJNTMJEU7kzIRcoBLumrbvHP6cf5qLbUcBLBgzc7fTr/S65abv\n",
       "kQLe/+RU07zZbo9BOKTI7TgD6MDED3OSLwoTYeT7sL0iL1NEtvR+H3x5yCTe1C/1vc3J9VgqBbc9\n",
       "BIHlYZMwkNc6iUyYNjtv8zYDfp8HiW49Pt+dtMLBX4Vosbh51q1vuB7h2F/cUktK9kOOHjw9OLPJ\n",
       "1hDvByRhxD5l/mP1+8VUkLiuw62Hm/gmGnwyjkDSlyJKfJIS6kg4gisWDQrYerVmaW47LH0LVFWP\n",
       "toTkTFOPX5uZh/1lIJbPpV77IADOsWSsMfvbtopJCGiJRsP0jEDCYuyeGFlY2W7niRRIUfJ/d/0L\n",
       "ZsnBPHuqJ+UsAEHOKaZXa79UAxgPbZLoi60AfXgJhEG2OpP3c8SlnoZktlPDQCKLpfhh8QWsMQKE\n",
       "cG5bxPm6gONjHr5oS1xIu6sJiWdF/ZwF7RVaxRSYWFaYp7nG9Q6h00K7IIbJkFgC8QV7UjGIMD6R\n",
       "6cem5splOe7B/CwJID3bI00By45Lf6oExf8DpSo5BQOfJEoPYZbw98IhdDcaySagf0RYiHV5nJBv\n",
       "0uDT9Hl98QE6351c3mKbTnQL631U5tdIS/lV0kZ1dcyqWXbXdmNy26lA/bqfLm82OM1rfJ8mk8M6\n",
       "rJEVCMhbkZb05Oif3zWMVzpuiepxSPH5uG+ot2CNxUbOPvybgadSuZQ8IlwJFC3eA4oPhUiiaJDX\n",
       "n057FPrDIhHBKLahXnbQGTnlhxhGj6MG9F6jC04Ra7zySUiGAn7VlybdyErnksv/2F1xOVJfJLOd\n",
       "WdSysIEIweJB/HkZOwH/Ce+528hprU4sI8dK/dsxml+UMIQfmC4ZWwJqfyWpAzdv8BJ0sZpnU2cu\n",
       "TpgM/u00KXX1ZxreubRRQue8FwkFF8pknbIXt+6DRii3winH1LrSAh6dTEu8DrKlu5ta5W77NFH0\n",
       "kazHCOnAUtd26l7XI5TabB+Jl+B3iN++knKWbCtdjgEM4DLylEr+fRCKDJIrjsCoFZehoNbsLchf\n",
       "kzMjlHJIRUKq5hW//oZjPpsR23WVWGt747e2Pc9N/ZZ9aJ8YDVeGBGIxNHN4Jp1aO3E+AOOqC9zZ\n",
       "rN/PafnYW8RxiTJVnjw7N7GoA6lFYkWawXlqEsjpXq33CKhV282AWDmRCflc5VNRVfBoNkMk8TSI\n",
       "PV0sx+WsJA9x+C8RmvUaDlQS+Ip8BnJNfALHV36ILnWSp03sThWHJZWwjRHyg4kPxSJl5IgANRux\n",
       "3ti53lzc9ELUv0xby8RHlPgq5Ij8/OrlF7PTRLgV/xL7LzmgaOsBDEv7NWBpzPJIbOR/Devb68b2\n",
       "RU1Z1jfwUIr1mLkbJspDXJFi287vtq+zF3105YAVN+zZZnOEvihTiaEY/dQWJtzQFzqZJ2Ro68IC\n",
       "9SmpkXo+jjq0+wyEmsMRhRpsWtN2f+5LUQmU4yO+Q9YKY4FgK0mPST13m8qNB3PkVIOjb3I0Jwsw\n",
       "lVL68t/X5Bezojico3SIsbCfv9chFHdMuQeAot08499D3bYdAEa03Ut5CutOR2efBNBAk7LmGohr\n",
       "XhP/yEbKhMBYC+oOfhFh7ZEuSxFED5l3nmgfrNKy4AMh6O8zvz2WeLk/MX3WPrNz2h5fbDX3ZqOW\n",
       "wqApx5J6kvS4Z59xl4l7aPqsrBgjQ1/lSk7qxNT2n5DeNhQBenb7sxqak9d5vKjQdz4rXk/u9TNC\n",
       "cLNSNzZw7MbJOWqpV0uZ6/v0bk3v9chFHdMuFdimt0843O1E7ptiuD188vPQhg7P9FT8yJfGLKBP\n",
       "zbV58qFBAAABgAGeBWpDPwCC3G7LOb0p3xVLLPEfaCstOxSQkiNbUtk8tmXa3eBgqg17KDqfeR68\n",
       "JD3wsCYzLhjEsGJ8vTSngXe3S8EntNiyUifbEtq7n2E87Pz5QsFIjTG1VZLJt3SXxuNBLJsMVE3F\n",
       "/hUfKDjuF28V8Q1xH44TcOEuEoXKyHfQP4/8mHeweexY7pd27SmC28GtviOSRv48gNJD4J12Yb0Y\n",
       "PCTHl9MraSYMYG6nM3D6hLPvqpx8yvN3XcZCDVaNRBdIufXp4NF1fZvrwpXqJzyg/3agV/GqTxwU\n",
       "rKiZX4ZqGRpgrqrNx8bSae5UiZ5RljGJEtw+18wlU1zXdbz1d9zUSJpOo44YVoxx/2pNED89KL0T\n",
       "jW+4/Q47U9DoxagU7fZsPh9qTl9cAjqN0T9VqhV06XRdoGCoVMjK6bip/LL8xt55rSeSVsXJbHun\n",
       "1UkOxVZPwW4FOG1VypcfaPoPC14OilpOYEQRXdnZ+URmSkRz3aQzttCj7+JscEVQhhqEvQAAAfBB\n",
       "mgdJ4Q8mUwIf//6plgCYGi+P8ALkBsbUoa2vNzIIwY7LXoOI67ttcKqcuRkbnLc6MW2LnYhGs6VL\n",
       "AOya7bdrQb9esKc0q0rycxHuB2bAfvDUpzQvlHisRps1zHHJnrpTtHOAcER7x/MVmASAZyrKKUpx\n",
       "ZwJDK3sjFnHVT1aguYK0PnRwrfMCCg1yY3UVB5pdSbF0oWbKlci68a3jfHKyMkhuX37E+2tZEQM5\n",
       "62cmrvtIRy3UQWSLVyGUpto7vz2FxdC7DUJiyhgwsbKnRvaqbDLJelQ8w3r65dqTf4bj72KkowRz\n",
       "N12E/H1hWc9M87ZQdt01q/KG2VE7DDE7vM8DepFptF3AcTC7hnydPp47drdcAMhlPtuuDrQ4GTry\n",
       "hdFq7f62I8I+zpDxmuq5r01rUXkXKRxOxLV+3fq0Ayzul9XxC/e22hHLxlbXiwdH5JUprP2aCmvI\n",
       "k7z5a7pk7CHhUJPMF1iN7Eky2iWK7YKlOEXa9VuRlhtqs1f4tUxnFpIaGyf+gthDTCxNY4Kcmorc\n",
       "ecBaMM+9L5ST8u++xVvcufzYj4hnGQ1y/VjJSltUSdNIyiSuaURqlJIgeVgQ7/KUaf8sYS7eIbkb\n",
       "r3ldYzLsqghDd2YlYgx7KM2yDSKr5jnaUkXaA8MtjZ+2hxh8pUTBAAACCUGaKUnhDyZTBRE8P//+\n",
       "qZYAhBokiezCLRmcFVJdr1zJy1slPSdVwqcV3m7lSvl3zi8PigUlyMl/2OOSJbyTWa7Cw0V59uVo\n",
       "ZRfKKuiSnS3mZMKtC3ZPw1OaWqHjqNU+C05dAAIvFl//vnGGO612+iBpyCDH0rnck8JOWRiAoWiK\n",
       "8YWxba0xnhRR87n7rLESKx0aR6+DYt4Fz0j8MBcOUuXfjMYsQG8bno6xQ8862HQYvEBmwVkHd6b7\n",
       "TYUVMjdSIlDEUlpvbuNgViScm6JraESnYAGcD1ZZt2QtXuc/LWaof5fEAqy1S9mT2vTIYNCXOLsN\n",
       "JyZZ+mrzJsSHM/neY0GX7nejFGIjZ5hE173O/MMuyu5sLoYrBZGJmpEBL/GFyN8GGZ4HoTVuFiXg\n",
       "Dt8otLCy4FqgEcLOm2aP2yUkAwaST8Q61hYZ839uRvE8fYcsBO68sIqpnhCLdDM8LHH9lJ0+OmgJ\n",
       "/QtoHwpWGNFcVA0b7w6WWzTpCoT8o+iXQAu6/L6q3MY7So3QnKQIP5ohqxzldp84eIwNzPerjJ03\n",
       "5ODnQrdb7kMj86NwFZCKxP2N42myoYMKOCnr4DQNYzO5r97cQzzmwTAwki3SC1XaPIG89IxglD7m\n",
       "8XUqVSuXzGEya7/UIKZ+lOjQUFd7/7J+oRDxNXxlSsShxTuzAyT8Nk22Wh3w6xTM9AEgAAABEwGe\n",
       "SGpDPwB0CxdoYv7ch6aGgKmafpxa6v+RHmSKjkUORAWcWrzS2565bZ23N6U8wYwfjX+5hKrv//Oz\n",
       "pbvX7KrpuWPApDhGV6aUSeP6aCzXmi3CP3eoxI/6XhVhTQ3qHXaSg/p7WsuY7PIoFMihQARB0K4E\n",
       "4wdWyrSN85llw+9GYSe09BZ7l6h5ZQIAtutx2nHLdOaFCVAlWnxVo5OoOHtKJKdxvAPFxZHbeAXC\n",
       "XRK+rYGuwh+nAeAfjournOKII4Ibf6pcdv0PQy9My0/jx357JwPtje42kitPc38nGKzAC2qTRsWQ\n",
       "hFHFz3Xgt/3PxE39PhDOY6VqZjq0kg6QaWiv8ysYha3DVvakj+HYcA6594wIAAAB4EGaS0nhDyZT\n",
       "BTw7//6plgBlvh+x/e2SaQY5dO2TVm6fyb0HYAOopT/Dfu80BDTJOVQBWRVVsIN3g7OgFD1BJUBA\n",
       "MeRfAxs6g9uKxgCwJbrNy9ElbASlR4mjNOuRASfY6zrhbIOoxiyRjUKrVO198cdo85733lN8CXfo\n",
       "1LynZ50+dcYSAGNj8bUBR0jUThtgDuf7Hf7yZovc86wB/dak24QWgxY4c555aej+cxr/1bIqhzIM\n",
       "4PgkI4QzQuVsvi08Lq2LPS6gzWije4TfWUoiAPSfVF0upxz3CvHPDBCcud6pogoNsu/mZcS7awU3\n",
       "sSmpjl4fxXN0EWOlA+KMTO3SMa+CtC+j+UpMOEe0G9XUkkZXzZYTnbu66oiQK+xMDfcTTZ8dDRzE\n",
       "4yxd5owQKZBse0v54CfqA3yvgVbn2Yat1nfQuKq/e/yoHieMes6n0pxT8v4TGMqKT6adp9/r711b\n",
       "sIjrjbw4gTmXzAYeDk6J66zj+zOW1PyBG24Cwm8iLsh8/Pm7yfU+bprMET1sYLQF1VHJ+FYhfxeb\n",
       "DJ2NspZXQq18FZvOp4Z7JaKhVDZMk1X13fBZeQfbZEXphhIEzehq+r7+2AOpwqRVAPPXtGTorJrI\n",
       "n30QKR5d7ya1tE28ZTq9WQAAAMwBnmpqQz8AWJQYCV99mzru2WOzvy3IlekKsPCd6uzkLZvvooM9\n",
       "EFSl7zTDojtC05Y/GwZN7RFfDysuV8g6hJLoT4AmwJwCAlNUklTRg+Zz3aI+p7Ja5bblXi4z3Evx\n",
       "dm5OfyDZxXyF3f+i8Xe+e9BC9g9wLPxddjEWMsim/IhrJ7zYYMCtjRyvDnG/ayjrmY81C0tIRtYq\n",
       "jCaOzOkSGFP5Q1pUacaiYKtuoq0Q0rRV9spvsa0PxDmGgGFDPDD/pZX42xrPMZSAOUrcT0gAAAF0\n",
       "QZpsSeEPJlMCHf/+qZYAhBX8y4r/mN/838gJHMv7nBDClMH/rScOG1aPEaanA5Hy7gWZ0BRmgm5a\n",
       "yFqp0rhF6gBzkiyvagTS3734TEWWiApWZ7jW9dhwTEAvqdLFOU59pk5M6g9ykEFxfzAI+tz4sovf\n",
       "M1LkONxwQ7dyw32GQ/m9dn5vFAyEXV32LAqyf8gyogsVSV0pkvrnmtL2Sn2Ak+zMqJS0S1oiKYVV\n",
       "zcHyWlU5SQK1hum2t/JXcmmk/5FRxA7zcVTB/EyGh/IBG5kRtxgoTuoAXHEm8kOGAryYJ6G/KCZB\n",
       "nHIqdnIx4f1M6GNfUONsa+W3aZU7ZzTjdVe76VjkwBLpA6El91TzfSqxCEPMqeTPvnMLIS1hd62h\n",
       "KOWKWKbFo+nlJ1hWntyvnp9uY++hXgLHG6LCPwIRtKphPalc62KWtPqS8QGBSc9Ru2//qjAZUPP4\n",
       "+Z/9mTRKKCrDx4nz5mvmuYU1ooIZBmZfGy2CYys8AAABRUGajUnhDyZTAh///qmWAGKj/o7MuG5o\n",
       "2EIuKF84F7d7+YfFtPmLeSiRWi8jn5AER5O/Ri4417WCNV9Q5Uw5i44pStIQWw5LOsLYYRyCJ1KA\n",
       "cXf9XTBnI3wSjtOJv6alrmgGI4QFPA8mVbv/7GQv8PHTk9lob25zYe//ot2WfpqMd9gTPxHpjXin\n",
       "37Z2RKTgir4/IAhDv0eMcW1dUlmSpZqW4IucM48P5osNRyRu3PRR7MI2u3byT24wcsE00bqPr1EK\n",
       "7bAw9vRwe/MKnks+5W9S+HaeMH+Rl/JauOuzAOSuMVozGzKGTHQSpxNc1cPUBGT8X4dL7DbObZhX\n",
       "rJrIDhM4bKVP72AcR/1dyW3YkEa0lN9nVXjUMxwEeiTwugbo5hEXCun477I51bi9LIpIc7V08iqy\n",
       "RwvSSiI6p5r5aRcwJxryu8EAAAIvQZquSeEPJlMCH//+qZYAmBokhgDhDerNmQIJeZjLovfpTATp\n",
       "cGHwDJihThpWG9LVjMDNgC3gWbq0PQdL/9vvttRI0BJLbI/SOZ6IXJgtv1sF+gZ1LOizJGxqUQnc\n",
       "TSISgJZsTQYimVOCoghUbM+cKKxlYL63xgn8GS6mL3v/eb3otTpe7vZNjYka11vXef/b+c06avW1\n",
       "EImNUVHa5/z4+VQTbPNtzU8jLBlClVEoqdSfWtWYEYr0cXT1SfkVm8v4up4CoK0bgYTm3ra9RKr1\n",
       "wW4qsohy4Q+gdorMozf8iCqpLGDJAEEpZP2B7Z0vYvo3dapJ9t2ieeIgqp9a7CYsPhWMcGOKefns\n",
       "CgaCfvx1cTFnE32T5wbcp8zJ4Q9t+DLWyHY6q8BqbfivfrELsSV/VYpDEm+ga67xbpzBBjo6jtu1\n",
       "AmybSAyk39nQ3dnz5F0DLNKJvFnF9Xw2FjCv7rx9U/avpjOHmxIO7DcpzaMzrOAHl4TsPwoXi260\n",
       "BXu4x2nEZJNupHfDwqLptqlBs3sRfIFHBeMGSYOSJ0MSAPffDJzz3eCTXiq7PkESRhJ5gO7wCZb0\n",
       "IC13UPsT1Kpol2IeB8UISrAyNQYFiCG9rUJP+S54tURgwjqb0NBa7IvAI2XxIiTTMzeHDNVK6VF6\n",
       "d2GM3ud9ThAXgLAYe+sC2NzPwZHVGqVNAOepjhH2JpMrB4Isco81SixkJ5aIf+EUFTTlD+v797iX\n",
       "ZLyi6TDYm/IfwQAAATVBms9J4Q8mUwIf//6plgBio/6LShw6jtrAjaPh2FMUYnUelTXsB+uLTAKr\n",
       "cZwAkJCAifHpVcsg889/ABO4WmbEUwFlYr7PLqcpTeQH2HQA1t4UbWn80GNZrzFLETpq0+Mf8JRZ\n",
       "BvTeb9eY8BVClOLc2DQl4eK3YAHiPAHeXKJTE23EJEh+awXxIxJRSmCSJFvFb7BGCeyzliI7SRYN\n",
       "fY9+465f80r87KS7qYKYZRJse9wV8lNVTNlM5Apzg3HQlNZA/PoVNOzloDxf2ym6JsIQngeLVR2E\n",
       "EvI80wcthXiNx8B7YSNQ3iwFVRG5WBJu9Em7YsP+cqEclikY6DtBmBaKR+WWK6iTEhTUx7OM+du2\n",
       "h0EnUoCq6ybuTmyHFucjV5BonDYf8Oo1POFP0lXCW1qohVp36+kAAAHzQZrxSeEPJlMFETw///6p\n",
       "lgBirm1f8mfb0CFO9L6q3LWJpOf4YRbW0UopJelsO/wrzfnpAV8LEtwWP0/nQuPKQhJBUVQ0NNUT\n",
       "+niFqwOhbMk3bqLE/vUT9kSCDNStLTGYi+zwJ00PLoc5ktytqKPJgPitqxMRJTg8EnQ/1oDq9UlS\n",
       "whps7/ni/kUeQ1xIrRwbZrlh1k7BFEcBqyW0NuwmNHy1N9dRNjLalTDDJNNjW6+cQMFEXETUnqqc\n",
       "zhSf6eKeJ2ElBeNljMNNqWc8GybaKlFsFIOMh8VOqmWDlXyiH4iTThvL2DU9e+D4YnKifHoY23oF\n",
       "cTlgW2RHX4baSUnCArsiWKEax90GmA2lpbpraaFuiUQXxQTfbpUE65Dluhkiob7SMF+ZtKYglkEn\n",
       "vubSXFMfCXrXf+RlvjANOiOSJuGDu3fIbaYDCvU789nsulRg0Li6dCucb3TuSh6azHm00AIDQFZO\n",
       "1pm8JiCOK9BHLqZ7s/TsI95L0j2KrUp+4hyWh8d15hvkztQdUck2+Go0/QoVAe+OXyM0Dsd1zIca\n",
       "LmkiH0lmm9mZ3XYX/T0w1IAUscb9Q5LdGgS29qA8pydoKZZCKBagWwlJ8RWWJST33qcGUNGkSL3i\n",
       "yfXexUSuVCjl7cxNnXqUJI5L+upseNvlWwDHgAAAAWMBnxBqQz8Ac/TfL2i1NircCWamgFa6/M0K\n",
       "2/K/qEVcXDhE/x41NbQhWbZu3WA0yqjLPW2K9E6xttXQZRx4Xn4WbtWZiroaQU13v7cMUCu5ZZ3P\n",
       "SuDSlyms0eUKRDpgnPXiz1Qm9ML666/SqO9nE88ZBlYAIfZ5QiXX2s9HE3PflPFvWdOgfn9DUW5O\n",
       "oQTF40VYG1aIFOPIxA7rnD71eDwOj8LWDrYK7Ry2v2Y27dg1VOSrcQxPDNxjuD0p7KqPtSMSo5sN\n",
       "2dvy6pNP8WlzURb4T9eh5GQJ/hO2fK31XvoZM/suCTPK4HbqrqsElObjK/9r3oDvGn7p4jkNiD7H\n",
       "Qh2kzfwatvNzvVDGiOya6nZE7RyqUTVHKWrQlCqvEtugYeu5+60hWFsAPqeDuAPw5tbgTJSVxri3\n",
       "hfKTEmLp87kvoeEU8fJ327cW5Zgqz4yCgsTV1qyeIR4k6G4jQEVlyjRtEZE3AAACgEGbE0nhDyZT\n",
       "BTw///6plgCYGf2LEZQ6d280lYIG1gMOMg8fCYDLjNZJlRRT3jIPOxQHRp7ZcFtG1BClaZOfp/OZ\n",
       "LOVfcAlj8dLPaA104BZKAQiispxih9ZhQbwBQQmMYx9VmwoVDhsGxP+jWqks9KOVcwxhuk+rPw9A\n",
       "fIzPqzIo31e9fAOAnyBndmSFP3jfiq/GJK6GALcQ0Gd5C/hjmhMFizu4dme9enkHpBtE3i+NvmJn\n",
       "W5MYruSXqhUIo1Sd+tpQ1zpNqnwDNp5KPgQsZgTewViwvsB5uNXIEoXlaDbso8h+9ccUcuPhgluO\n",
       "liajZABnEqv86HL4JpEwtu/Su5Vt6rSB9PSDCbkJM0epJfPhOzKoX/TEJn1ErCUDN5d5Tg5G4mkF\n",
       "76UG6YUG/EpCmLK+hevTZ+lpYUxF1B28G1pNJyZaRwjq22QsLAX4jxzs4jIOU/M6mRxdvthIDF7k\n",
       "nxfvkeV2zDUMUhQzfUyLMkUpwBvxvk2xaUKiROq3qfKp9AYrfqrAF0SEjNPrA5XdhQc1Btj05iyc\n",
       "LWNiY1mhQ9dxqQnl5IGgInv/sX9oUbxNsJ6inf9TUrDvnh7SPnNQGMKYTrDTSe0J26GsLjTo/2Xy\n",
       "jWheYlF+beGRWJhUyyOZvtuKTDv+pIchvqsblBdiCwxmCxatYwD2wKHJVK7S1YWyKFuCMt3hYP2m\n",
       "7w6rqgUtkOat/cs2h4uIt8jwF93jeJrYkAPO8uY8UWeHiF/la5oDt8/rKq/zMXHmV7/mPa6XPkpo\n",
       "9hAUAa+roaKZWEILdMUGyyY2Cy8q3/jEw6msaZDltNe9Uv01dcSphuTmseYtTBk7HTJNpq0jBQ9d\n",
       "0ueAMkEAAAGFAZ8yakM/AILFzpaVtPjYyVI3FAGhx3XXQdj9X4w7lPIfNO3Kk7udc8puRMMNutYE\n",
       "mtvAkTwfmdSG+aZC2ZQDnFjWilw+tgQzxZRGeyT1uOmMAF0w2PiN6az8T9pRmeInwgrOdrBZEgEF\n",
       "f9w7uP5kHTFi3rEh6yvP5sNr4dRKsgGnaSi1N2pTwJnNj5Hsq7BOAPY5fDlZGiVrk+KGGj2rYQZ7\n",
       "3iThucv/LmhoGufcMZTPXXpn1GBmkrzFs+qFUcvDYBcLCt+QQxPWozy1e0w3g/9rMJGXDXqxcckk\n",
       "w6CNQmtvGqtHJd0kJhfkBaedrsQzAnwf1Ip+3/3dfb0ArALPhbO8RxqJmW2CmY7xNM8MhyYnV3V8\n",
       "dvDyDpKaZU4oijVU7gqWTslGozGwYNSIBwwp62NiQdNaZreMegil8YVx42wVUPQMUcFlkPd8Gzmk\n",
       "/bsdld8ypXDRJag5DJgqU7Mgb4yh/NRJts6zDHNizw/KQ+A0uDBEdHsFlr3syYZ4iBWxmiT4o44A\n",
       "AAHOQZs0SeEPJlMCH//+qZYAZSPiEDxhb3QB17+Hr4JhWuC46qT2CJzu3U8dq9CFnQnGZQAGa9Cf\n",
       "YaDYGk1laWYjWaIbG+OSlmzsyP4hgiDoKaW7hych3LpSCIQNMpjXDAjdW3AIie+jl4LtCxzUrkQd\n",
       "fpF72kmtzePIzi+wrLbMB33u014RnBLe4jL88PTNMy9qC8Syc6aWT96VYRj7IqKTqlJ5DTnwvwGn\n",
       "dTT/2ynGzFu3qa6BZkZb7OVue0y7T1yXyzrhBVFTONUubVZvnJgY/tmwRSzp3XBPRkAGq45pgDtu\n",
       "m8pxEHq4sxoTTPo1T2NB/M75eGNlvEHy2RnXo8q91Ao+P6BJXl+IVag3SZilqDS0O9nwBgA797qi\n",
       "iHtyysnPu3Vbys2t8pjyP/3j/B44bBWiM16C+HOsV+lklytmChDXpZuD9FyPifsWJKH3BJHtj0Gb\n",
       "Ju2R/0XUErANtHjbEHgP7Vbdhs2Fyn/V/X0j0OZ/OpdcxGNZDbvutuJPknPGkxJNSqeiuKU8Pp1P\n",
       "6nFBUCFc69WwkhyQsHSfa8LA2zxylo1P/dany0+YU6/w1GhZl+5aLxlirhDS5D/kY8DJk6m1U6K1\n",
       "K0ooL3ENpyPgAAAB4UGbVUnhDyZTAgh//qpVACIHFFCBtpFhqlGEwf+6FQKW+XB5XQaNZdPW9+wj\n",
       "EPp/UkhUMmrs0oY1t4uxPuncSgCgFNBxYdOoNy7zTZOZaWn/1KOZOba0k+1NTF2uB3I/qVDw/8Ty\n",
       "ZKjT/VsJYfejbNYNBMpqDtbk2X8BLsBwTPtDNH/7BTh7hoCuPBy50yWNC82ofbEcO/BmsQcnooeC\n",
       "5qXabQsdBh/0XDux3f8pY07pfiGy32RigeBZ6aZp+1ya+IoEDekXYOkbMNqe/zduaUTl8i8dHh+2\n",
       "CAP+Cslc2R9dAwtsk/71nrhgnzYBbXP+V+ppiMHpw6uMdPZwNehmnFODBGa4hUJtBKTH0oGC2AcS\n",
       "dRyJrFvXsj/X+3puVU022t66GqxHOPDUlb3DHuIUQFHmrKxz63DcNms1hsWF03Yv8UBmROJtllTP\n",
       "EAnmhpn1K3g7X7NZysjw/4RzaK9AT8/nze6+xLr7ookeCR0min/71w5doIRz5MJh0JVCJmyYah/2\n",
       "gE/tlg1BhqKv8KH6aZrH3/XCi/bIC6175bfxmpWIowJyBHQ3Lkt3jYaO+lV5hFi13Jl2oc+pTupg\n",
       "df+Vye2GCiEtbM5Y9n2rlcsOnKEk9ggB4E0OLjsXvbSy8BvAFKUAAAJSQZt3SeEPJlMFETwQ//6q\n",
       "VQAnP1QNIkonN4LcS7RtHfxbXVaYOxFR97cJ/uzL6FHkXg7gp3x9iZJpMNj5syXOwRYoQV4grd9Z\n",
       "REAkARfcWTT5wMcdpRD2mhKvxSf8efi/GlOwQxuKTa6rzeJuFGdO9nP1Ntx+pRsK6N/skxP2ERIf\n",
       "K14xQw+yPgnU1o4LACA8gOHB21Nsai+zs4my5UPsmwg+AH50/9w1VAmXtaCAKhtVWxfP8nVEwnkp\n",
       "2dU1cMDtzM2Dc95QIk4lF2ZxnJnNB+tm1jTpi9kEJTanGbLIN1jV5CzYtUynMnYP/vjd5RcQcMWr\n",
       "w6PCN+9rdwk+KzH1dts/JmcpwcMMv3MyTOJzBf7HVw/K/C7jd7H5be/9mI5DI4QNLZkYieLOK3TW\n",
       "81OdgxR9Cwp/VdpSJu8Rp9D+TVhGSUizRB1idLRnsMaGZVUtR351qDMrvN0NDYDJYQw55QOQe+Rm\n",
       "SN6ilRWbk79dAoLtH46cht4DmMTdt7uXq5lH9b0Zy5d85yIZpD44H3iCDLc7oZ2DcMPfzM8v2dK9\n",
       "YyNkMN01oPvipBLRAhOyJitMh4HlKlDozroqmXd5YlXLhzlSwgWd8mk+cOb0jGxR24qLbfJAAJog\n",
       "XeOVzgmK11Ip2+0PkvjU1kK4XnmulyjvvP4TZ8E6MPZkE4kctyFQ1b2dFfYFdOrGnOqaH8mlHvhj\n",
       "ksF6D2+WUoBC3u7F6Olsxb3u/mWeohuP7HcNuFcMPe+cZsnmozMkHfLNsjh+RqCKyNf8wAq3yOFx\n",
       "TsZPnbll8/lgAAABlAGflmpDPwCC2iRvpQchcu7D/MTkwFhIhtFn0T7b+KHq2EWfHHCST0If5p+u\n",
       "Kg98uiWehh7soHQE9lTWMGlXSkLiKCI/u10f4RcsWNg80ywgChdOkvUALdtDoHL/9aeZm/sc3o0r\n",
       "i0WRGwHuIW0r+vj656k5tJU7CF2hMDFb6BJuRWg1oD3+akVl9wggNVYrgh5D0ohgIGjlkZ6dzZI4\n",
       "iLifQWa0yODYA7Kz6XEv4rJfBF6NPrC+xwglbKqm+7yRfCU+/bN96+QK4fS4Bw6e7qZLl7G07mWc\n",
       "6XZM2NR6MkI4wUuOCQeLdsLdCokQWpt80IUK/rKlr7hjT4no0jX7xyL9aM15X7UdJOBQv08wzEn9\n",
       "VTylar2N8R7KKiH41MhqlTstMBi0YkpLaJlBUe9+wdcV1eof3fRe2HBNQhi4/Hcizdu/HrzfHx+g\n",
       "a2DFC3eai+XYJj+aWYO1Bl4r7WWXlPS/l9+aIlCYH8lBfYOrPlu+MFEZq1LvNSFIn1Z4MN3qrxFq\n",
       "hIrCMduWsPl22bdA7j/9fLuBAAADzkGbm0nhDyZTAgh//qpVACIG54PpR1UrCTGE5y8vqwwAEMvJ\n",
       "CypLjZLEoIY/dlLeRW4nBc7aA/MD2yUr2H0TSk8hv4BBnTiJhZDLeO/d1HmYNkqCLoNVSNOEVU5M\n",
       "5hMWH8K6WgtWGU9q4v/AhPD2ZfmvIKzMwW/bIBe6uuQXGEdUF7fLecyQjhCdj2JR1nM8qtkG65Sf\n",
       "iYzHrlgkg+eUKlTSE9K9ScjuentvD/QUMayJBfuKnIXEvd48VC7U2+Q/0R9BvG8nwPKQ99NuOETl\n",
       "gESbRRLxLqQFRp+h3/xvYUjmTdEVEmQaemy3xcEpOFKr1vLM0Iyfuao4zQr+rY+OxrKR7Ccparn4\n",
       "iX7pkwsOX/lG7a8HB6YADKBrfKPikKvdiEbBWGXwRRhRzISRaWUNMMqFLtoMDabkOcxTdjvT3Oq0\n",
       "dj+B3MqA4j+2emGLgqkLsVLOFzkXk/CLWH6F3Ud2yEUHmq10FRNKx0d3QSHIW8Gmj0UINg2XjoeY\n",
       "9KI6c9WfDmcCADq5GFw02nQtbAhozAefUQtkfuRtmB2p6ft+Bm5CfnsnVd73XQ9W8PJ4HUvhhplr\n",
       "e5mkkFoEpcxBs95ssv96gAExRGEJV+GXyRhPKajwuPfdUFk8LB66XoCRMu7hiomH+zWtM0bQnXps\n",
       "ZNetbPWoBCCcN0t9W9C2bBQS0tGxpjHfWKxihI5LlO3WGBu5sM7EmZc8qaeiGCeqm1z0/cgDrRCi\n",
       "ncHF6OhHpAsYGjdc78juh21JVVSptNF0G09OSaqJx3tp5bWGryKibJZEIqOG/iKwK2qrKbVYCYFv\n",
       "oCdPoy7iQ6Zv/+HXBIdpDa57Xx7utH/H7EJJxzI89LrsOXrnfnLEatTQ5n75ltoG6tpZYTskWIoW\n",
       "6wFoDLE3ka4WmgnBMf/+VNt+aRygDLFImvFttKGcmP5N7ltZ9ttYfgJF5kV8g4EObnmbFnTeKfMw\n",
       "acuYAE3thbJ91icFX3clflAxyRApD9nTtp7P+zuBWw/iZRGHxcPwjDhtlbFj65B9ndA3S7RVg86i\n",
       "29+SodeXI0MvyR7yYBXI6nvcUMdnwXRJmS3eCdbP+mWFYl6F66c8LqB0vGkYuu5o7AJVeJmmlHBi\n",
       "LdHdFkAbqNwnQEAXdevWd04ry0PBoXrcx+AynWghjSIt2usZj21tTvtZ3ovnA7oPzYurK/DXbpF6\n",
       "46CJUtHy9nnt6kR5/rgUQhOH8LuR/5ZIxico8I2tuAog+kRNMC4B3yNnl1xefsOrJLPQq+tqcTnM\n",
       "1eP7SnmxgW+JjPFfTM9NjcLtnHd38yAbtXtLAAABZEGfuUURPDf/AF9Q1LV0KZ32R4+xXfxqA8o5\n",
       "Y1S30qoyC/4m6HQhKaBWOOZgIL1wbLUJ8UyRpJVYVV76RrgEICGAG6HaIYUs3yES6xGe+XY4xlyv\n",
       "1VxxiwrMrmyhJofqRtpUAGj888dP1Ibce5udvebonIvb0F+J0pGc+2XiIBWHx49TEjsoEp4LcB/s\n",
       "r68UDi6leCEoJih65uNMrPZXlv4p9UxbadPW5g/OEKnHUK2oXPy+n+f9la3KPs8YQPvVpLk6ZGWq\n",
       "w8VJuWfPvS3PO2HdSMYIpPyA1JHWn6MUTp2/Fsj1jSWyu68+k1S63EOqiD/i5/vUMSPxYFyrSevz\n",
       "U59dXECyMNPlhu1l/FioEVSuDghv2PsooBbWQ8PdMbJ4PwIrNdWt0VpZ1ni+ygd0XsyjnG8+0n+z\n",
       "Tj0UxFoqiaKOCi+h9Dwl4LjmIe5DziD4KX26ouyLyYiWAimHtMTM1OYoxaF3AAAAyQGf2HRDPwB0\n",
       "EQPQnJtI6mJfSYZ11g4+CHrkI3Ep5KlDhgNPT04uDCE2jCHSAXfSpf0fLLkPCdG1NSADQ/kNxDwQ\n",
       "o8xxGxOLfsLaXWQJJsv0KoxKWNKdUT+5kCsBgRT6RP+VxSkmWbdiMPq+3VWPInse5A3BG9FiwI5Y\n",
       "a1HAgOFplqmi5pC9LTET4SO15N1VSXIh4hS2LkHhq6ZYcoGinx/OvKCv12ilJahm9vwsC4O/LFEh\n",
       "Er3zI5kcde5GO8L5waR3CVip0QRxDwAAAVIBn9pqQz8AdAsR3NTmzXGmGd+v6M/vF+x9C9kCk5LT\n",
       "fDVG7WXYrGRYlbW8wYcRQsrKfaH8AF0FCzcjBFNFBfZ6keYRcDjeARuzZjFXmiXDpgAyQGajkXhU\n",
       "f3iOs2XnKs5Lyii4HdvJgtdk9aK3JTCSyw0bN2SdXU7LT2VcRvfcr/PRtnGxfFPwlWkBBdpSg7UN\n",
       "+CsMKTfaE6cX5J4UAviqYMFefunUavmPoGJpzRP0XYjWpVLhqxi/W6hYPTwV1xcrB+NAoL8e66fN\n",
       "iuunTrL6z8SErJ4KUspTjjgK7vWobn5FsbJD+7aI2jDKJ9L7oAzpkGaj4KqD9ocfjBpHNhFv+Chl\n",
       "m/m2THCC4pA4Du98beEl1/3K+5p5Cb5ULPe0Ew+sG18krOL/6WUnOu81pxlDuB+W6NjAUP/V5vpa\n",
       "lLQit5uZgL0fCK6xI8Cy+OSZa1YNmAAAAk9Bm99JqEFomUwIf//+qZYAhBhrpqm63MRymHrDCAEY\n",
       "VUI9x/hYc9mxtjFTU3y69ZmgrXdEiNYBNtB2pg5S8eVHvPvy31czxT7XSIbAC0lDaBENwt46oO+6\n",
       "iGOCooBTP2U7ZjvCY8BTw7SvU0EbS1Rb4Y/FB4ooYsIRj9P0x7XJsYgA/+lmE9o9Tgp4oATDUt8V\n",
       "xfHDOZRD0PgGwvH7CPEZh18ukN3wovtum5yMcCDsnYFQ0Ie4o+2g/GhAzuKJ/x+2vCNkmwvwCuWW\n",
       "wb8DI3kf8oZK6HheCxM+W3e3n2bBKbUosg2yrUoLf1hjYApVG8d1BKzAQjHsWdTYKzpfvaaqsKVM\n",
       "tejZCIBskk0abICp5kEoryNOera2jYRu+OPvVIiVoBu+mnNv/nlSHi7A1EHOaz1wW0s6GGG4iRQu\n",
       "czwyaNkn0vHruw2WOVWXBPNfuhqkbkZwnme8psYOutKGWuOCv6qKlQZjtKuUERLIauiE4W0jf9y1\n",
       "69pAqi9ycB5eqBRpBLMwakLeQ9NBn5705n8xeo/CxB6PkiCKqC/AygHse9/Lhy9ovWh2Gq6g1acq\n",
       "0ATmpYrccJCbd4w+uLwsGIQETV4rXyQSN7aTDf2BCRToLiU9Znrv13frhecmXbeB1UnZK0rRMHR6\n",
       "z+2Xww3v9upyc4mU/65+YlrJ99VNLbQgCBZzzjXTlYzTelyGohaiaqES+fpa3RA4JC2lGH4cfUv/\n",
       "f4hbQjcTG0CgqT3tQSel0rJNFhk+6dZNZJQXBtKQDiLnKTY/2Uxg9kp04UQR7w8AAAIHQZ/9RREs\n",
       "N/8AwBhjY2g9Wohjqhi13RN9pPTABJfoxG7k0+Vm+RVISE/k1moJrz2U9ww1DWFVTJMGFgJq1CI6\n",
       "D81UUWyfI/wWmuVdBQKW8Xm4QxNrX3NaFKbcIRs3aXj2O1wnUaQhlnfOVPcBZjmoNjSyXdg3+B/A\n",
       "NB9+BX44qOIaDismAXMfilm91Rif0y2n6mgiqzYS6b3uTcjwRojY5BN1LnEoYpKVV5Tfrzd5CebU\n",
       "HmE+LenPHxV2PxdHuI2ZL8wz/lC9e3zCPpLVioIZn3Cdcj+fecn2Kfted6UdeqT8+w5xEMCoLKq7\n",
       "49JtsuQzJCDiHXrPURAtsKH/4MotOTvTOIJ6CH9QRK2b21bAxPJNlB34Uy6U6WGVEWWL/9TuUK9n\n",
       "517epT1Au/4dxWdgvrXsKZ+cItdXmVHhumT7pGbSlcZmbEPakSCbdH0j+Z5kmkXIMkEnTHNRVBV4\n",
       "8JpJXvkxBpoBXydjEijHJ4Z6klr0cetYiupks3M5STjrjRzYE+xaV1g89KmGUstM7lTlAcMradwx\n",
       "k3grAGHBEYa2mLoiP1fSkBPdbsP4QZtthhC9pnNcX8RlDQQXOEawbUuOGX3ysW8fgjUa2KwHrMqV\n",
       "RC/m2PLSe1f+nv0VUmIC3eYZA/6wORMoCol5CQqttGNMeVXpstLV4QHRkc/R4xoFT05fSsGXB/JP\n",
       "AAAB0wGeHHRDPwDoLF5iKqhqL2s0PZ7z9i3JYoOgNZ7K0udhxfvz/lXySH9xrLeCBcNmAKD/IUAk\n",
       "EK9glwK6kisqp8dKhg3JwRDpfJJBJHqF3MHOdmqD4pEN5iWJAzJUBOi96jzje3inZYmi1T6moTfn\n",
       "oZWwlUYgGvSAlTY72xLhPWLCiqSLPWyARs3e/n0W6YmVun7VTJAREEWn4DHyAS84BaEx+xP0J/ai\n",
       "lhzxpzf47GrX0jIZoPlXUGdEUGn/VN4DWAWraMGMhkA+xmYL2uFJ9AlQACO49vo5GtAlgtPWTxvJ\n",
       "bLKh/3k3AWazBXz6oUbKn5e8K1wYHenqYdXAMSU08I1m996+LcyAh3UyPYvpvLF/ueaL1o7ramy3\n",
       "Kx8ZkSWUK0XWvFl2LUuaDsVyAiATsIayDVplJGQdD5xoaGLHhkkx0Kz7O2Y4ztc8Afl9qsZdh3Nk\n",
       "k10HXU9l1VquGWiKwwSN7U33r+v7VRsApn2J98yxE6SVq87ryPwYjRzxDYrST//+ALdfjgPVgbKJ\n",
       "JX/rfKIIrZnxU6bsE2YVSj4w0/eztzrRNGf6b1QAWHfzubpX+aMZ0H71Yl2IruxuPU6ktqUcte6G\n",
       "a3fMqsEL9RgB8cik4DAgAAABjQGeHmpDPwDoMiRM4pve7PpuTw0wZtpKO2s/zeHvhAlyYBdZmIyH\n",
       "wFCH/E/KEH4vafGNX0Al7NBTkOcPHOyj6Ac1sAC5noDYUk/hXDP4Ir78B1hE2T4fFKAsARcBEG4m\n",
       "0XTgsysGGyUpKvSa1Eegp1548jmKIyQFaVGxWznJDUd5ndJnSDCvvH1JJv5NSfTW0giUi1w8cXgi\n",
       "c4z2ehPTzdhg8eYQ5yKl+MYOenqUK175YfKGbGdxN3S/DAEyMgv7E/2H1gliH7FMLavBU7K+cgEi\n",
       "EvJUlv9CSaWJW9Eu4hJTPmRjawCaNr0gXg2mxvUjLcCL6cW1nT7FYd5mzEnAP1i+2PbHm5LJwz8/\n",
       "E4Ohj8KiMnxtLY/s8n04IQra1E2+YFAJ3EcFtRoO1klMCd5P/V+1vANnHIwGVT2Ve0qGucwgsc5h\n",
       "RN6GFcAFed0Jze/n+jB3458l9rnB9m0O7Xxxv9VDp16MX/AC6Na94fZv3BqjOvPpSxlgVb7MaIC0\n",
       "NNOt6OM64QX6QZ66YF6jEzAAAAKkQZoBSahBbJlMFEw///6plgGV7yEYQG9eaxVVTKzfY5yGxAFJ\n",
       "kXnnM3AvV6BN11FU2OknL4eeBsLMy+bSqS10+dsPw9ODgAFfD5zH/t+/Z7EZvdvX/SHF2/pQSTBz\n",
       "hLFUlU327m0zitVoGp+oJlrEYjnlsiLkDfGHneDZ0m1bZa3ukwg3CHTYCy7Xsr3vVSh26ebY9KKu\n",
       "HkwJeU88Xg4dIWNRsYOF6+lVe/6FsWdi2uV/TNdL1o/CdYgk4RqU0ok0LSnsewL+Z7JaYZMsm2U4\n",
       "+TgMX0IlLpfWJDdfHixhOvH/VLpn/QFtB7wiOkszYCXxkB/lX9n7cDzl41ggxcDiIcEZqbKwCx9D\n",
       "elnQlGmT38BKyma0uA+y1sftq3RC1vT2+tJk3yI54m1HnA8jsyubUZKkeDNFs0VUKoO1XyxzDgqx\n",
       "zyijaXcFVjuFkl+AvDQBOj/pslhbZuag16q8K8V8h2I9A5YrxC1UvPhWsn81TRgCn/syUmyXMpB4\n",
       "zGiM9DQhr+Wfo1YT+u1i5ubOsoDgusT7F+0s3lPtj6ysj0UVm52jDdVl1CWmLJxSkqoPMpOf+E/y\n",
       "O//4NY2vbrbKs6pcMarl7vi0DBhR9IwngA+wvukezfQvA/jFoCGXxdWXIclTWfYWvrVLxXJzkyz6\n",
       "TW45DZENTU2wpkgjDNRpMKMkdMi0gdKGxd7G4wQ0r5A8N8x9N9cKpPlWjWmy/TmBCJUpO41KUVzH\n",
       "dD7z0dW9wChQE1yO2w0FoRGZMEKnEyI/XYLGeNhVVI2OAOiQ3/wIxGYijI8aWAZphjUhuFfTiblJ\n",
       "Jr9RGmSZkVmVQ/6OJ5KjqqE4pq4xPmMfk2u4ShnJu+kXW3HXUX93MNkvtACRPasm0tLRd1jpW43q\n",
       "722SoHN5A5r+wIZXewAAAYsBniBqQz8BUH2FC25Mp2Ckxdv0E9BndJuMIwFRtooCI/0lAk623DHo\n",
       "ChdwgBLLTLzfJ2hmQFRKD0E8mSs1/zzRq8gDzzg0E2p4FkQotCLsvH2XII8kWgtselIj7MjHOH23\n",
       "GAfYkQqb3MUJ2grE4tigZVWyhv+1ceP2/9rWIc8+4xWmyQHGrtkINOSGw0uO9O2B9fU4pSAH8ueo\n",
       "TzVoI7RPnl6qts/u1aIZzBpHz856jCZcCy1xVSqz/uxesK2E//Z7xG1F4kn261UqP9QdKWgEQNxt\n",
       "LYusNFs0ufpO4wbrmH+ebmrGXl9fpOuWNhEMooL59y9SyWvjGQ+ZE9d17Akj6swq/otGbQSGTwj6\n",
       "qUBpgelXux9N5DSmFwhuQHSxQkxo+5Ytr1LWJCTgp06Ga0YfGcLEF+0+NvM6CMiQLgm408aPvwhT\n",
       "PaYZx2oEssQnWt/jyz9KSzc2RuOOb+CIQ3gP2Ep4Wm514SjHDHS8m2OHiBUobFqRlvBtVnQpCDWw\n",
       "OO/bwTv8Ay7x8JtNGAAAAzRBmiRJ4QpSZTAh3/6plgGrWJAREXDj8ek+C4PwA6JpGpQckxVJPEs9\n",
       "CQ6L39Y4RzpWiZ9LkRgu6/XrxoSEeZpGKVY1+/XJylErnc/T/EBXw4F0B2SZnZqjRht+4u5DH4/b\n",
       "+Mkf6R3SUunaEFzZiVbh0mozbAmri0LPkg9MXnoXBtCj3jjQRdtPTlhsJZWqD65pKbr+prz9QOdZ\n",
       "taxQVf3D46EmRgo7dVTyskiS6J6A0TlE0q/WqsALT+MxMTInrsBhrMKODLkajNZUsKtUpe5j7E9K\n",
       "iNA1aYuZSOQ+pe8sxgH+RJZ4QlcKIv21k4Ge4YMaFrKKp3JNiFMyq49Oh34DfxZ4lxrAFOxg2Df3\n",
       "8nHB3p5DeKvYYT1k/99Lwje0ZPZoWdJMD2K0PTNlfwHKaNocRD6scn5kU1Wxk2+hnXSVP57hz8NV\n",
       "kGofVUoJo2Ad5Mh3ScknUn4mvz/8TmZPJmMGqVdlauo3eShVeqm+POIRUD7cFPZViqqsm2C5DsEK\n",
       "4d5zjXAPvRJpNCHf5jZPjjhKY4F6o49gQATK0TljReoI6t1nAHlGvfp/9ifbR1+/qAuT6R3xG4x4\n",
       "a0y4XCtalFImmZ3Eb0WugTIXFotgffl1VXTLzAc0F6uKSRGYQKvJSgnlgMeb9Pr0V4+AyPIRWTXE\n",
       "++ztcELqHBTuWNuIiv/1gBeih4hhiXSmcVQ7qfSmP0Pj0340gX/rsVoxRKjQ4JDQ4h8YohFEcPQe\n",
       "kvDv8QVVfbqiZSXO4LBN2topDG/TLbZNUceqsnGeBJ0eCGEKbGd0BS8Vyp7bHGjKKKJCtgYB7b28\n",
       "Jh4J1NACaWLFYgLOwafW8pYm2GNWJkJiDGfoZRAv814Zg0iJMtyiqrO8aFSC5EiSh5VNaDgfK5j0\n",
       "4NLcJsPEcD7EnGt4dsoy5Ofk+yggzbbLt6OLahM5LDqnolMo2OiktfrRAgUR7eUszA5QPDboMp9F\n",
       "Ovo5x+ZGxp9bO6vWaxeGKKhj81QwgpvxKpjlbStPbF9sSuHsVZhAs+jrP4p+sCGVMOfNOtBQvWSx\n",
       "YSeUQgPlvI0TZzvsUZMqVDJmkdH9TleBDLY9JAyo0GdckRdvrroxAAABikGeQkU0TDf/ARr0/X3k\n",
       "CdWPux87SmAxPw3MqfljdtjZdAbDqG5WGxBeumlXVQrLxJIEy9wT7M2VJHLkyCLBsnUcK1UpbJX7\n",
       "CQAcR6TL0mV30T/dxnStzlVXvfiebRV050OK4F+TMugJ/XC/8QLAUU2ggQx/HSqIbb0zWuAVlzFL\n",
       "bangeiqYD988/8YIDDSXfOZiG4bKQwGGi3owTyHsD9070kGjXXUbJ95hG27Lyxt+7Vqa6c+WgCti\n",
       "sWMLpsF0suJsIiSrzlRB7CBqocQ5s2SOKSvcVw6e5W0R4JUxfSYT5X0gQUKzC46HLe8sr6dTzkiv\n",
       "EUM3+4aM/MCuQLa4rE0BeX1Xq7POb1/HXo5TJ6htTYn9oPsNSBH2JU7D4ml5wKawrXfdo/hWVJl3\n",
       "Qu/AEcNqKFNpahhY9j0egRXZFwiKKWYUcMemstQ9FySgxApqn/GgD7uCyZDfooxjJZh2P6cYDOCc\n",
       "nkVklWztsoe010xTI5kBvjnyZ20+3nq3bvdX/y71TiuzKMAhRqQAAAFpAZ5jakM/AVB9f+2Kb3Im\n",
       "qQz8Sj8H4RRIPnopZUOB6BhSk9tAy0hG+Y7+3keLoWdIZ2aphpeH7ksf99QPJokyAFz0yh8ZYQSp\n",
       "fahxPtwfjv3h5z0vXDtfOtN38y8o69itB1iwPX28UyNbY/yOxnXo+l9GSCMXhmsdPQrEKFGeJnOs\n",
       "GD1U0Swkw4mQUWOOuc+TRgSzR0MpsWQMVqUOa9PaKivNvj2B+0ioQWPOMSSi1XnIaoDnsWhtrOq/\n",
       "N8f599SjYVFJ0JhjjmA0BVS8uQGK2xEMd1MLODdWflcLdGJxPrsQ9PTYAhEDTny5uhQ1mG1roEZ/\n",
       "/F7G4Hymq04xW6ujFkfkoc9yClMpnWi4M2p4KrVhIjmJ4eKaV0awBhGrMiTOfQpppnc1COOgZSD8\n",
       "QjTZ96yyV92CPs/uz7CXzOb5zs4bOPktc9Mj06RL2mq8Wsak9f0SYsHqlwSl04BlGFXTQDIAf+G0\n",
       "Gych6QAAAk9BmmVJqEFomUwId//+qZYAiBPIXkuJpj/BlYS1CjTmd2sL+Iq/8AdK1hnq//tqpuYx\n",
       "mzZyDXV4zow23lZSTPsXA/hhOBqc+mE4FP5rI8mRvVWH5hec6r/K+8y+VcbXY2Z4OO+wwbz3PTsT\n",
       "/EsFCY2rBkWk4/58ftUkqqDKMialuANKERmwaB6++cFK4fTSo3c7otCEiq0Nh9O2KfKKTo457QNa\n",
       "TZG4/tfw4rUAxkSKyHIHkHPnH+hm90PkHjveKj/h479uZXciUM+Ep2+DeUVPieEyrTuZmdNLB3jd\n",
       "CP+4mAO28/vdVDtoHrkNd8lP7Fxptb5DFso98McnC3NwDRD3ChSPxGItou5TTFJuZhxVguvFQjzs\n",
       "xDMx5nNG1hLTSCg3aTiim4Z1ffs1HCMq+vTQ1S/PU+pwssQ5A8fyLVuu+BXV6442K/FfC0ZzAugL\n",
       "LXZCRbslKDwNbuP36N26mpjnJNhFgT5PbmoSTuFUizj8H72CGw/YDypbV5/lFsgrFCiYnnxz7e1k\n",
       "Lda+NRMmulwlbWGaQNgJFy6Ek2cs1TqA7uQks3deIZTuj/iSo1b2tcHaET7q2lSRUckznrHKRj96\n",
       "BZvBjQb35ic4AaCandOlGOPxGQ+b4+j5xRa8AW/n75lpNHsabxygkFe7ZDfd1dU9BbABFLGg+jK8\n",
       "J/B2xQPYPA/R8M7rg4fPrOY1+4U8wpSBNY3CToOoQuBfi0O/kkdbHgehuKfNyqmjoSrXYUNpKwDB\n",
       "jcx51U9m3JtYUir98N4m9OxUfRSsn+6qU8KfqLkAAANEQZqGSeEKUmUwId/+qZYAiBPIY6rqbf4S\n",
       "NIqoOHxFYvgBx7WGe5tZdh/MlI0FNsy7IS9OjQ7TNb1nKRyViHXnarnhfik29bcydKvrvWVWnys4\n",
       "ypaBM1pZLkuFTcWXlmPcNEgeNjYn00sQ+NoTIsbugYKeOLP2tjjRlZieON6On4WW+pGqz5Oh9Zom\n",
       "DBpPL5CgP2gBVKt49Tor3zTdQH6vyz/7wFydfC55I+oD1V7+w7CAt3rBAhkNOtHr60gtifd6r1qt\n",
       "S5ghQIih4GYprYpH2KwlvaeTup2BpUSiBue+cWSHUcwbDQo7KAJLqjC7O5EjaZI6bfsyqx5d1tKQ\n",
       "OjK5PFzB9JCZnGcecN0jKqgoC29KEwfWzulkLjucpLfGwdCUt2IAYKr2Zhb1AB/v+WLRuW1CooMH\n",
       "JQbZgDsgQZHZe11LkndQrwOHCfm3v1d/pM2UGqWbQ1XJq/rkVyp1Bu4w1JUZ5alVH7AxrvwkeLRG\n",
       "RB3qkLpqBilRK6cakNmvt6QdPCiUKUqFiq3TLyFW5uzcfY+UMgWDbIxeV5PMVfnXnh0wsJP5pBro\n",
       "d6s4kqfETqceqPJNQV40Q3qxlMEI7ZSiopsZXoLhvkAGc7t+NSpqfvln+qAqrLarfKyI+NanIEn2\n",
       "P+vhU3nXqbsCIY1fqwaUlnRe5auHkRSDW0dOPYNM372bqYhsgvot5vck0UN4afxGhAw3PE6ETlaC\n",
       "bWKh7L20L7nWLwJC60gC3WpwtXU9gtkpL0jgoBNa88WiROH0IywpMQ3436DOKOIWQ+ri3x0xwzQr\n",
       "jmKgCZsiG3cvDkUW84oPHYGzv+IwePd+PF7yeCBvyOcZCRvFV/0wg8hXWZgtccFK+aOSh0IAnuSV\n",
       "JSCqFnHcanaLbjl6sR+f4ytOymIKk3UYrwe9hAAkZhHUu8R0o/7qVElp1V3vc+15leXWvGJTpMz6\n",
       "yzV7LrC6moozHI1M91BuSAkXuSiAyRA5qB5jthe5OUWLkvyyXCIbgu0brE3jGv1gYEehuAbPrSVL\n",
       "FtrzVYxVTVbnlkXLOUmPmwH//Dz4dFTpnt2E5S6sFgnZQVOWdgp66cHPedI8EaTxYeqLjAuTxAm6\n",
       "/WdO9Tz6qpsB1gNpZoEAAAJUQZqnSeEOiZTAh3/+qZYAiBPIY+mWaP67D62hsij7cSHnECb4gCIs\n",
       "0w6IxDb+rSLrp8FYEI+XYtL1CepV749SAd1BCutso0X8QqwRhYfBdt3CrVLrS+oNxKw2Vj7W8dEe\n",
       "nlwvi17kD7Cdg0FdkoidZwkl2H5gCnO1vu83B3JpJbT+G6ZJP3fJwFmuYUh4TxCPNjTT1AxcuNfW\n",
       "+HKGPnD3B5N9Tm/HNEv6PYvTFXcm9zuDPXKxA5Stdiw2cP86Fs7fUPYXZKX3bFwN71cRZXF/efOD\n",
       "l71nkY9wibIpsbel8PtncAKr8kZGko61P++xJ4nHYWul5v/cDxuF9grGhZUAski6Rze2qwOQR9sc\n",
       "LfQbIwnOLx+4n+ZzZmPR7r0n20xZOnobAJ4jM/nxRh8FepZTM4BlYLdHc2dOd33/PEFmn6wgvtSl\n",
       "n1J5J+NLwNq4XokSDp8anvzmwRTAIRjO/tGsg7SFsMdTkaUGmriVF3IdBjDqICsyEHrIK13XWd+c\n",
       "43x62lCXHWmd0oroSro42YSYwQ3YZbJ3s2RUKm0r5tuPk5aoZRFSQ5cilEjID1p50KNZS2NWwqvJ\n",
       "lvEgM/znivLtGuGWUDLrG2vQSJ/FS8aD0BltBqPtLzSSXdKoRU6NHTB7ooG43357oep2PI3I6Jxu\n",
       "2+NtJtXpy1+/syD4522xUiEoy2iO/iFRLScePohf8vShiek+xQsnaeF0hyoTvl8mvHSz6JPDE7nV\n",
       "bFcaIx7G6fKGh528vvw0XWfG2T2K3bALRQpyHBXIxLhM5nMibeYcXanvNmsAAAJzQZrISeEPJlMC\n",
       "Hf/+qZYAiBNko+mWaRSZ8Q0evop7Yjh2CfrQA2xnbFZDzGqPz7RaGfce9fRjHe9N7hbKTOL85fic\n",
       "svZIVVXqnFt95OxKWwp+7Sj9ENjQ64xEq2aIo7l2iIlCJmWRRvyUNitAFgT5inNxJIAB2exaEht5\n",
       "Q8E0aGZ4uYGa7WoFWddjn84Y8j49ZeBc8jtJVPIZAHOGTmXDmZ8JR7yCVR12/vcjOyYZaBql5GsV\n",
       "hNgp1rRIg7ZJVk1xQhHrEiiimSiM1KUd1BfBiurunZ6gbQ/33Gg0Dhp5YdDFCA305a7YiGksZbxw\n",
       "IVX5cdp1ZnreC6CpqP6E1QAvjGUJRqODfsskRhJpE9JMGgPEZ67EbtPoHCbl0+U1+jXsS245JsPm\n",
       "xoLF+JNOG6Iug0rcOvEMyvdxERP08Ogpxftzjg1r+2kPlVUeDKs20lXjxGHS5pHsJTE2No2vX8XP\n",
       "UOC2zjW9QSiWbK4vhP64AnFkDliEe5IMqpjknv8IAzItsyIYjEjrxeaDx6diG4bfPRp69JCFS2O6\n",
       "4tp8CYqdbGfm7VSGDN/A6J8R3gxpGqmbA3X7oaSUBFdORsTL7eke2b6AXStjVjyvptDS6ODIy5sV\n",
       "Ype2Bp68Lf5BL9NfP08IVi0sv/O5ps42dCfOIJhxyd4LstyLpprzPq/Idf5jlhanKVFuF5qZrs0y\n",
       "pEbblqSvF+8P9gKfE3HBQK238xrjGmSPZDJtu/6J9TC4UZRiqwefzsmRm0krQswMx/OpqI/11/8U\n",
       "LTFjSLZvLdvvL/3OnyplOOZ4ePYDKgKVH01Yrdc5reAFq3Vemr3gZImSM+iyrzbOAAACi0Ga6Unh\n",
       "DyZTAh///qmWAIwYHHRz9oYFsP91ewS/+8WoaK/68+2gAOLVdRwViFbh5CCKSo5sCKFqxvngP85e\n",
       "uOVGUZr98mnRrQzO8fSS6kf+b1QTIjHdOzK9ibSalNmoIrpOghzBwLLysKiojKNRxkvyEaLs8PZJ\n",
       "Xe3e7MfrcVo6aG12YdheAG2ukdiqh2i7LhgAQkzFxwXjI8bswd1wlMGorDxfPVEnE6l5WhNu40RY\n",
       "Q7H35BUsgTkdGqLV93L3l6DrNXOUvBCBZkKLESeiltvqm+SyJzextWozukvIsclT7TaYMe325tig\n",
       "OTa5Hxr/dXFph9T5lyy4/HTBJmD0Mxhzvr6b3PEn0OfOBBrHtmXbeE9Bd0UQMmxFSjGR84cjjiRQ\n",
       "g97n8oLmQ1FhoGa0LKOItg5oZRopo9YKAGfZPHcmDwHm/0yqT65UvjcFHfRjRujrXRlXv2c0OfOV\n",
       "2iXLCtpVTE7MhnCufJf3JJoNdR21H/1hXUJE/p6M3oBXzI/NvtDTwe8gFQqAQivRFXfilNePDPVC\n",
       "472To9J9YOFFYsqDlw4vo8/UmEcaw1m0tA2TpRrqI+JWiGDOSmdt5Uw/3xcjcY9NXxngTt9cv3Uh\n",
       "vGma67QtDaHrx+DETMlkx65j67kuOBEDYGUToNUWfxIdVEEriS8eldLOk8ek9DdpTWB3QcQNDC0k\n",
       "hyQ1OV/6VgRcAKaWj0aSMsTWs6R9Q4K2JqCVmfBPJsnzMkX0FrZNMgXaVWg991m/lx5OTwnQJrcK\n",
       "WsQ0zwbDyd5zvt7O6oJbtIneIvVhVDGIAZieIcOHMEqfO6CS8ONQCJZv8nnaUcMuvrdcXgAlVuX7\n",
       "DSynlT8JsvYQw3G0KBUReUrQFAAAAqxBmwpJ4Q8mUwIf//6plgCMGGujDFzmW5ttSNmALS4rv44a\n",
       "uwxgG1+TsAAcWq6jgrEK3DyCeFeg3Lr+inYbqA9NXrI7Ooh5RaJZAd3UPB0vqSqevPF7WLJhf71U\n",
       "aZ1aPdcXEBh3g/VLlFAKRrat9JlCXRDwCKN9sD3ULS7MZN8hPYIWe39c3UFqpDBgW+sJZ5fVON5Y\n",
       "h1ZCnwQht0kHV0I34uqtpC4eyIhPxRpXkl6Lfpaj9nZgR+PC9O8Et4XpGx3Mx0cweriWZQP1fSxR\n",
       "cp5VzYndZOx1joOK0+vHqxR3bM9GLS1+6Hc3mXY9MHBZpmnBsgIJPqvByhmHUm8gaXHP6JOK2vuB\n",
       "bCBDPz+ZsEhM+/vLEHaIXlU4yCxHB2kJ6RLm8HzVqNjidDl53/3trheNCJ86sgllXZZ+OPGhPYqW\n",
       "Qaz+4mT/osY6qU2Gho228l/emgU/051L4E96JBZzg900PSvIwQXv55MN7lqAo8T+paCSI6wrr9Ov\n",
       "ijbY18/uStHQlcMeNhrtCmFsH+8wrJi+fKEDLvncQ/kJov6p2FghPXVW5HuzyWk8Lki2DaDs63gH\n",
       "ad734h59CFtP+PgPFvkrLZr0+jcAoKwG2K7KeUekVDFm9FwcjM4hQ2Omh9QPmA14XAE0VOVdb6kJ\n",
       "ZTZJ2kc4OO7TrGt3FIVaq8zI6AQoAJJAV3ARrMXE5iT7DiBGHMJ9Drv725KOhVDADPRqvIG/d1GV\n",
       "JQoB+Ajo6PXtUI/15ZJieLwpyqpZcKM5Jutj3kZHWB1FQzJZDc5SiQqXKerOukrj+0tVOVZUHT7m\n",
       "mqxhtf0iAxL9jThBggdjuifrU7e/gmIjkYVGfdYgKiiKt+fqTByAgrdzZkMSRPSj9L0ymGVrGTeT\n",
       "PzpUe4oItIbghvv8hzGGKvRl2VIcDXEAAALqQZsrSeEPJlMCH//+qZYAjBgcpwjDYNJNuJcsD6AQ\n",
       "ctm8tQHF/v63PtYKrRWNekm21foKB91+IRLq+4MkIegj/QuxHPDNP+gWkh4viiJtP+dDeeomTE10\n",
       "sDeo2J/Fhp3DSvJc7Dwk0hc7e9p3JRGXcU5vLNH04cdxgc2ILSGS5G3saMvfmfFJATyHJSjsPoZW\n",
       "kMlZjFHTBdAJEKHM3cDHp54kht9PiLRqu7qlIMR7AxFSPIO19oJbGYHcxqkYUKcBQ/BpLv6CpZJR\n",
       "hSegf9/zeyBPD21+JEcCGGHcsr6TYM3BKwq5fvDvrMIDrYYLjTnLKZo60Pcb06jUN0WaACdBlJDl\n",
       "/rjqVIR9LWzSYdoE5VGNk8RYTAJiOD1/R782ilgl+7qQAVcmFa3taT9xj3kBGAiLNifn9noaC2zU\n",
       "2IuI/tJx1exvlRzhyC2q/yJzRf7TzoLlmRsBC2arxvDI6UxcuO9eV+sx7lvs8g9g1QyLywkkOw0a\n",
       "W6lL9lXofEtpuwmjeQFq0jX27xsXsSnbmJXFc5img+vQeU215zbNP6GLJ1qXMV7UVaDxopsghOc0\n",
       "wGiixRykmo9CPJ4yTZyMFjpYD98xciv3p+CX6J2IFGr3gxB1NlTRZCc6QS0hNdlY+MmVJCv3TmP/\n",
       "vzPA2UKC3M+XXXByzc/NN844enxO7PwdTGxBQWgD+3luOoMLZ1lQ1oHrogpzVy+lVnppN4l1bX21\n",
       "IS8LnxgqY+BOvmGH4EUPw/f8w9+t+NAycw37hpbCssc1jt1bNJOVBmObGysbBVbswHOhDm9mAiDU\n",
       "BC9xXUOfR0ZMxW/HSNcKniw2Xn1dNQRvTwEe+EfuoWtEPXfZ1HpFaKZRk6++PVhxNVlFy+CPY9dZ\n",
       "gjWNNyBY+RMVdnx5qiUoR5nfREEn+oQprKQhiIevDdMwNIk3mJ3SIxgI1zclUUNDu/KJN6iXz8Eg\n",
       "ngdjGjhMFwHBq2FvUQX/VEujo8usbNoO4lWipsf/jaIAAAK3QZtMSeEPJlMCH//+qZYAjBgcpwbb\n",
       "mIRWfK6+Wm2pmTSvOGz6gCxT03YqNokRrG5dI2ls97bhiusv54NQzv7ZMzooKLSbsxLF0r9Hco+s\n",
       "+V3Q15NeqhQD06qIjQRQ9Bv37GFtSD907r7wFqOn2AJJH2bgvPnQuM3cZDeac6/355InjtBxx06C\n",
       "6thKqGkKPD6ITHePIyRGzf7f0fl058EZvKugFkox9VWHfrlZqcjr8FjoqhfspU0tRX+DkRVHz837\n",
       "giZSCYkgGk/eOB7nLmlAjHjWXvrKQpJcQ30TDQqLWZ4wJKDzLDRQG1Ybxw+zHC5w412ZxyG8fRqz\n",
       "ETDviWXM37/2+A58U0oSmrm4PzIqsL3fmVoO5wOTOK2SZmbpv5r4h/zn0K9GSy4nMxN+7uamqrcd\n",
       "cRB9OOo2EHmKzwZth903i3CVt1AgedB/oSjqFAeH9Ex2betFIo81g+KTO2A8E1FcjdWxacwYs7D2\n",
       "H3WZeEz8qqISyVEPmqU/GA2ki03q1KwyAqDVk5YrLE8qucx15b4SN6Jnjk+zillUkNh2+xAsZ1ik\n",
       "AAK8K0mOi7UB1zyF2zd5ydQasz/HdYSnZ9/zX2xbjjh9HnPHDHPr/VTv4pUDAHpyKXZ+hZP4OmDf\n",
       "CBMQGUREm/4pAd9cOkEbI9JEqoPSvzXdhld/cdlHyNsYjrXM95cTM6Z0/STiSWBSXucxq7ssmclc\n",
       "vbjbFvaT0o4aIA6uJAffhT0dAy68zsw0S2vgTbp9hyV/YGOypCsKx7zmxBdglGnoLALvOizprIc0\n",
       "Q//49yEb4yyjOt9KL3mEtykMeji/LnIDi4dEfo5QG9y9Cj++qByzkrOVSlW4Uka/OHr6j/ZBVJIj\n",
       "6nTmSjYElr8+BvSzPOhzSvp9oz/iD50/0ftnX1HfMzssYb49QFm4wSBqJA5mD+gAAAJfQZttSeEP\n",
       "JlMCCH/+qlUAatxSpu5kQ7ZkuoabYy7lN3xfY56+Sp+QjwnAFb0MqFp1eaimLz2ii62QKpSUI8O4\n",
       "x5MK/Jmsk/Sr96MxP9ytrMbGE6otK0z9AsNE7x9jiKvYb35XYRikFTZwj9jrfraHtD3srhUmwdE3\n",
       "YV7fCixMfdPEsdQwZUlroCrN08Ej2bOSEoH2L7YcgGS5bB4IIOsIiY1VN42Oi5kmXUdwQcP7a1Ch\n",
       "AXc08HN7biiFMXndOu1OfzbTS2YAVRiBm3ZnZbdrMsE0YJKN9I1ltsWL7t6UPBS48Jjmlg0FirPi\n",
       "n4pBYv5f6UB4ur11Qua101MQpYuUv026TH7/SqEI4BQPbJNcbrAd6sAbymClPkwM4AvOA0uHOcGA\n",
       "+LEWRW91/I68U87ROYMf4+UnXxtnkdhAz7Cy0vRWy4cNf/p7B1ENyK0Fxy6AWwiHxCwW+IPKkDzQ\n",
       "BgE2qNAS++h6HpkgbNqhTLNokNVN7csOf5WNnkmRuZZJT9L2ZbJElH4hHSeVIF/byEOiH/dtPuKE\n",
       "N+pvUjIQIaP3K4k/+gi4TkxxIzEIJuq4dtX0MupGRWnUx+HgSAg2aILcRdIMVM0aS5aTI+RmBq9P\n",
       "dZZkW0+dQe/9sk4QhGf/3nEu4Kn17eSKCroaYphJWK6FCy55nwDl1SofDWbiPHfPwpqwZkehCRj1\n",
       "WekAciURLjHDmXEOpiI9a1yEc6pXHz+UZy83YgmBiXdXD8Og/lL2ND+eHQFGrXEwz3pCu3sc/BFB\n",
       "Yf6Eem08PCqzXdcSsN1i89bb3gx56zzaJKSElha+hwAAA0VBm5FJ4Q8mUwIIf/6qVQAkBxRQLyTz\n",
       "vUvIx+/uKbyJ7AOqtZFw3q9Xb27jUUYONiZdY3lLAz5YNFtTqqOTXACVP/LlCSl7GpdfOo3o0xrv\n",
       "iDmcTp+PQuWyAK3pvO5t2rg+ruGfQ8avyyGV3rApx72bKrqHDi3iiBTGCf2EIOCjERE4S5vmm/iU\n",
       "UcfIZ4lDd4fTkKNalvY0UwkiZ+gc8lIr1P1ihfCexLZ48OZj+NABwGXjXlDp3EUA9OfQee/nvQFR\n",
       "NSClqpUbXkxX+lWXYjyM2VylpyRik1MVykxHimMzCW03z6bL84ciGFrAi2vTWBzmlnF2XURd0avG\n",
       "aip9YUpD89sKFuRnENoPBUX5NFxyN05wgZcTa8dN5JRU3s1Ui/EfpAfMPsxIFiY8EdQd2mTBAjeD\n",
       "o+bR/PFWetNBkAfPUJ+lY4Hcmnz3BK6MxwonMYxpCPCGAtmM+0gImx+UXIGLXo9yXrN8uR43Dbju\n",
       "q5S7bCDvpWAFsLSCsmgd13n9hf5XqULRVYkf6vNC0cBkSL1Kuk4jYS53Qi2SlSEXRVTxw/cu7pR+\n",
       "aUqImFwgxDkkpXQQv4vadzlttHg/WAA4IyfNl4gyC0HshN4htEagwO/8SYMpH2QvVrkL0m0TUWeB\n",
       "tD5Di9nFYNwNV8dbbD9yAjv5oV9yLUUbg9uwk/XmBhQeWQAnJsp570eECrXJ4/Nn8F6l9HK7tCNc\n",
       "FgTZmseXlPgweUY9q0RXGTJiI94G56inTgfR0DTt349TOyogYZHSQ4J+KqxF3H4toLIFHAGO2jAo\n",
       "riLwGoIOinRO4oyC1rPJkt8q/zgNmi8q3yqvRNShSYqNvPjIPauTEBpgpbSfmk8VtdfCj42kirW7\n",
       "hXGZ+44SfB2mt3vrekYkKg0YMg+dy9Xe4jHUwhZaLun7HTDpVkcYYpdA/lbfmYxRV4Q2K7o8VGEM\n",
       "iAamBmoqvvU3oF6tUnoA2o8CsaHb1VPRXLAVPR5kivjhiao1jK5VRPRLTxShBNujqmUKBens33z8\n",
       "XZT5h8ZdZGw95+5HyKkhnwlE8+NpTNTruabp1Gdt0adKn5lSW+hF+FkUo8KXw9rBGSk2/7FsIw34\n",
       "PumC+3gr8obq8r9Xu+yGOIEAAAIqQZ+vRRE8N/8AZDyPQB71zA0V9T4+CQPEXF0AKAZdBQpXMVRZ\n",
       "jfPu1Xj18ygIMFsgwbkkWlop6pY/eQoVNnVxDFo/VgSQij0x/s8Wp+v4IFAc2z6L67Io5V2GEMuE\n",
       "/+j26/TvLvCR4L1HWPAqoe3zjzZ80gBlZsxvQV+Ce1T+M0q5AyDIdhEFEYItKB+VuWnALM9sCM11\n",
       "Laxzk/mKbNfboCcxXNiskhLGC4N3AuZQkmdlPEpa4akfcKMwmf3TO6fBNpt+bOsVNs1exqU9pGW4\n",
       "v/bt2unCDXQxWNj4LmrSyjPdkZ3QR4Vf4/xuQ2Q8ZjFjNLD+0WAr+276C7LkRmazZBjzD+fl5xMe\n",
       "90u71yjlV9f5Hlu9lBJjG1PBJggqRGTYNXnQ+yzjLnXAuIvNQOfV51cwQKcHhnOhKyVyTx08IquP\n",
       "z+VXkZB/XpGCIJyjhGlKXFo+kNabfp+nWphfOw9e294kg9YBZlrwwZ+Fv6qIg/2KLjMrMWh6tDBH\n",
       "e2gxJ9aJCcMzsDqOXce0G8xLrdykZtWCeejrw68Oxo9DQK1ktZVEoC4rHsb/gSSxi0LNQtkOe+E9\n",
       "zjtrbh4RGV00JfGzqws6r5XJHQijyh+xOkEMUH/FcFHGGdr1MBogXFlqafiFcbHbr3XMyeF30Xft\n",
       "jY0dijJt3N6a4ealMEftv9tZptLUm96FbtclhL5Qpi4FKgSjza6J4kBtZcsG7y1DOxIPIeWhKr4c\n",
       "CYwAOmEAAAJbAZ/OdEM/AHlv5FjgAaqZbUN+d0zl7UdntC+tBAJDtmosa2k1dw+zVzFj5+7o1kjN\n",
       "3oa9LUmx5VweY1eQEOFTWdKF/YCdrh8juTMay9WWw10u8O8ME8DCloHrhCowd+g1zzhjMvS9H1JP\n",
       "Vh6jXRu/3LZZBuIZrnPd0+YnEl7tEERcpikvbjlxaGXBKLkyZVtScmcez3ceMyykniH2o9EmRTIX\n",
       "BaHaPfX61L7ycXH8lvQFvdIMsYRMtsXSO/7O9y0507DdeiuyVUX2cJKsOSr643d+KUhLTfqhLOVD\n",
       "6gov4Wq4+kBOBmiH8u+7YfmO4pIX8x0AV7dubDI43K/s6uf3Dq9jNBDdd6+eocjOb5urt9DsiA9e\n",
       "L2maiJ4PS9g2dKP3s+XSaR7Q+6aE+f9B5rFBfuufIwK9uu57GAN9sntsJeNwTnUOsHh+QTDcrLzw\n",
       "ODwTWaUQGXGa26IjydpuGghnUkiq52bhe8cKfHIZ4Fzk9U+v3poyDGjy4KZVjc/715R34c8UCw37\n",
       "5mR7j0dRa9h+6ZmsWek3BqGgvei/NkuiZVGlNXP1H5ZXyuUuMwRqP8jPh/VqcinGGY+Vz2bbPNmp\n",
       "swX96YTI8R2SrR1C021n4WnZRIZhr2RdmG9A5z9BkkzxH67PhTIdZJPTJj3wHMh7jKVfd6aSbbzN\n",
       "uOADA/H82owOnCtS65/YSU1K6aLxR+7h2/S97wumEdpb2tKUW1mcAbmU4F5AMsXBQGPK4wHOhavP\n",
       "7G5VWXtMvUND5t8mFfj4M2YdvE22YuuX2ffqTqaLxB6zPvfwaN9acJE7AAABngGf0GpDPwB5ixTD\n",
       "6Bj4X2MpyBMr8DFcBinmkqBf9WuAt/91bttA3e3X+u4gogklIZqyoU7FWV3dWTIB+sJpuWDHhWgW\n",
       "uOi3KrQAt1SonvrJ3LoRgHoP6CaUDlecYcjTELoru36lfhUPsIF3HSKkTU7ndpBphRiPKidf6rXv\n",
       "+eE7POmlmS6ex4Uo3G+914zZM+lbs5XF9ANh3ApTmk7TO/Lu0Ige1edsUBOKxoDpBVcYyLTxBpRb\n",
       "v08RaHAknELMgRW+zi0C900KYx+rfm5j4ic/NWf9HamR8OOMA8kecjoIxy4/vGL6weFIJxHPGo3j\n",
       "WboNKoTWF4ybzAPDr0rOR3jTxhmey6O8uFWFWYSMcYaaG1ZJu4KkHADrHmKRxiv3sKJ6ZNmt3ABA\n",
       "rG5boJVTB52Cg24nAy2TpegGJPBtIgGZwj8Kl2DKXdwi5exmyBzlejFDDqaK8hDPYdn886eLBGdY\n",
       "gOzpNT4IUcd/eWgx72cS3HKE/1t0qS2V1b4f1ZNlofRDMPWmRDJdhKlMGKbc6LATcR2mvu7PIJfz\n",
       "ne+/wAAAAkdBm9RJqEFomUwIf//+qZYAjBkyRA2eAxXZQK5c4CGqu2rPYtgAITfpuxUbRIjWATaZ\n",
       "Im76A/8fQc8/z3EX3Eqd6AagR/t6U7BUSzdp6UoeiULOWEKXPvZD4R1EGbd+emc/gvKE3MR5PkqJ\n",
       "PcLKTq05nnEC4C8t/GsJVjQWVCW2GL/NmeiXFC1dY50g6SDyDyaeCnqe8GroqUhVei/roXCEixWX\n",
       "hBM/W53Q/bZ+tgTmENXPsJ6ny9XG6kZyWl/w3lFRFqIW0nIVOVPDaXKIISXHAbJn4Bx+WVdQNuKo\n",
       "WAek3PkwcINvKqv+wD83rU4NIemArK+hqrhupBx8zgkj1IfsGVzNGhoW5+YfGxanJpSUpPX0DdB9\n",
       "veLkG9nqhnoN5+YhlseYUnR2FJkoOjsokj8bRqmsFo0aWBcRoQvh/zvbPx/XTGs6PJ9HtHDMQBnO\n",
       "cG0VvzP64KoncFB4sqO57jhDFA+1IsZz1jzjIePXXDVNKrUdBS/yssIlw3D2CfHcMy+YemXbCZft\n",
       "OmgoltWtsV53f3MhTTqRdtDrtCpxjEdq/U4bdPV56MZlHd8A3Ew86ze61TKVDoBwmpnhpQZR0IaX\n",
       "BzLiZdgC56+rd8jjZK7DXNpFmdKdVNdFYJhqhPRJhw6O2NEkyGeRunbFbqA5b4uQRYOTa+1aRLaz\n",
       "jmZ7NrfHn2ulcZmRNTBluReP8k9wKJDhd6NVTlF7jlll+IKwZ/Sd18jYc9z3ho/K1WSRWp03PClz\n",
       "G0fG3ojJeBOoQM/di8HLIs78CR2RAAABaEGf8kURLDf/AGRQjmdz+1L3N04GicZVLJOcdxaP2fIX\n",
       "GoxJgSQYxw6D79Pk5mnfARvUO/JuWwdIeQUTytztD1VprDqxeJkqAE0vngZMatPYOa/W3MyYpLIS\n",
       "YwpSibIvL1Bro33sbaMQ8/jVLW/CH9ecvAxhSGOBFdoVOqCrwn4aXwHpQnqUrTAW0HoZdQNYUHbt\n",
       "qTB/90ZJq1e+grKvzzwbfD6iSLGzi1M7e3S3VEuvxjEh+D3cKhA+A1B9YLs2E+WQfJ92oSn+U1rF\n",
       "cjXZUMk4vInCSF95rRctM0VbPzz8sI5LUIGeJ1xAum2mwru6w3ftGzibDExfkI65Dd/1Xilz+pOO\n",
       "uuX/rCycdtr5YTxaUA2xcZzWuTowooqqaXWvN5LSsnxz9d3f7IyZSBTfELJCjSxOoXk0yMlRGcB/\n",
       "tz+Xf6qvP4/7/SD53czMkJzr1Nrn+Co+wX7X2Sp8DCszR4Z//0Yf22xE3AAAAZwBnhNqQz8A6BtP\n",
       "VQUr9bA6kOrFnBDqjGO0deKu78osXeabkRPeWz+KefHDZC09Ju9Ao9NDgZUPXugIIKJWY3IjFk5V\n",
       "ByJyAFtv5dz5evPUHUzU4Q6AEvPQNGdArVzMdfd4DyNAmwdJ+L0uf3vCiS2s0sqUATJ4s7S25yVg\n",
       "4Dd6kKqi14WGy5s1YxQGL3n+5uSO/0aJQdresJ9GF8Cb81Z4Z/4ojs4IRcK+fCeNFIevjzZRC/cQ\n",
       "LwJJKFs7VM6G5AjYiIRz57n0x3QVhpsGbp8GXYX5tZPzT0xd65hRiDZtYt5tY94x3U1j0yji111M\n",
       "NiYk99IqETr5b/RNgXC72l1hrZDKYeden74mx5VgrlfunKOvtzwgKRPvECTfcrAxu2IPRY/ir3ZN\n",
       "PNTedDCeM6tgjj6uP8y64I6aKHNEKp7BxprlwyYblo+pfuzbcgw/C4G5R1fb2ShAvv9TgWrOUu1Q\n",
       "s1w77tog2K7bIza3aaHebbOsxWLCng7LDexeyWeQaMIlorBvs0QwV8ss07EA6OX/K+5OgzidAJE9\n",
       "QCkgAAACU0GaFkmoQWyZTBRMP//+qZYAjBokiBuLU/VqHKcygxbFa/TYAiU1zzwnobNu/ms0b5b6\n",
       "7zXn+Hthn5iEQ3oRzepGf2xhP9vy0+91YGp2ye/dtyX4gDJNObXtO8mqlQmOhhU4fItmEJPGYWdb\n",
       "8zoZZTZrm7Bl4a3A/3mg9hDbK2OdCxt405au0VUeB8alPxE8Nh1N+Vu6nAgxajJPCLB1a+cAq/+A\n",
       "f/9CAD8uUhBuw408iA0Qd4r5mESReiavd7S/5whAvH+InshNsAAyBbJFAfAHKg6ssrtbsvka/toW\n",
       "sIPR15T3xRX6UqNhwymNiPrTFXxlLYImCk3DtC4g7AMMdzhRewya1wspg5d8zm9q8f+K7NIaMXAp\n",
       "MTMQv4gKOIdpXMsD2Ld/T3gOYAqOnOvXcX6wkf2gZsIlQUUd9W/hQOCu/1R4HsaCbHoJClJF4tzL\n",
       "aTDE7Wil52uqZAmvzAIR5LfN4UHg/uPtBBWKylW8Y0zUmFcJZL0NT1TJsC3wHhOJY91PaM+zh2Ct\n",
       "BwHPNmKlV07hmh63zYg35ZvTqxTiMnqYrPwvIX/LwlcxLp6wcWhefCX/sz5xlZP5YWOBoJnu80bs\n",
       "qMNlyNV7N45lfQtdAliryFxM2kjAbwblDZAvw7Rl2pMObGE1c5Kf+8NV/OoYMk/6SFpdBrzg2Uvt\n",
       "fXvN3mMin0izQW6T5ZPEjL4Jznb04KygUUGta33b12jtvJYkJd7pI5cUcuKczBrnJydpKpoRlSaa\n",
       "wbGwwSnRtH+6/SVBaQ7Ml3Clrjh8Z+FvvPLsBR1su5UAAAGbAZ41akM/AOgyJFegHApy+I/ZEbLI\n",
       "k69n5mKhjxCh9yljUq/uo6wdNIgJVzeSQAqpAqzu/tR6Ej91142Uhyh3t6GPPzpXNU6Tk4tsnQPe\n",
       "mqia3U9L1utmyNDKLKAFQaoJJ8IJidw5Cg7vPutIyvAhp/m8AsQwbPloaflPeCk0aqR4/F1zqRDC\n",
       "crL2yY+HNu+iLvux1TAew3FI4szzD0FJPqETRj/UOuB9D9Vc97By0kJsgwRKxqujfMxwJ3PzajJ1\n",
       "16kJRg6N1qX+xEfCCkmkRVMnf7t7GCyCHMeFsfHUHVGiHDm8xtbvaeaURU5Li0+Wo2drgAam367l\n",
       "c1C2dFUT/00NdFIZlisnDakjoRybKfDPVT80391AW7maF5oyHK2mNdcly0Rk1tIoWCPxsbpPSebm\n",
       "ols6DVFPsSj7T+KzQCcxnepPz5idLvafo+IQVcV/oiJyJMoEqU5EyGYuqLpmENRZj/LaTnJjlbU3\n",
       "l4aO4EgIpBRUyowxzqGGgQAlk/e6u8vbq6kev0X+jPxATN1NbMf8YAlLok1+8BSQAAAD2UGaOUnh\n",
       "ClJlMCH//qmWAIwZMkQN0NZ8q+VaTmY7zxPzKHYOsARNbZE7DxNJLLsf/vbn50Ec3EO59+rX9lgj\n",
       "yE0usbQwURAAzaVVK8ZbZgITQ3yu6KlsB6i4no+BueGRvjA7LFDkHWWTyCzxlL0Y7ittrjkdNWRj\n",
       "th2WNAHIOoPDqX3eMRiNYWZWC6eDhyF5V36QYTZcUjtUVZzrSBkumxnFf/tO3FINfmDsOhCqTMjO\n",
       "eCeLftjPY3/lDGHABNaEfKGpCNgwg6FWg+AWh0W+i8BIeSd2OCxmZcbQrROBobiv6LLuR4G3D8cr\n",
       "L/h8QkUVcG5E3qxzT55zrQJaWqAp/nUGobAH3+hvG4wh2SZr3VQdIhBlHl+bACTrf+KoshT/N3f7\n",
       "1mkk3f0+eEKPMNh8vuQF+y87DcuGLLrHjLwDW3Cqd9dfdjA0C2JBt8ZATo60o/35X6x3sicqfjwT\n",
       "zH4pAflS3/8wchevYYQr+wsx+10YwoKtazzuD9Q2hcm8Y1+RAjScHSj3FL209fXPrieJ+tJzxEJO\n",
       "xsDO/99lzpJ+G+so/OajSxqQYSPZKSpTfUaeZH50nFM9EZKqH82Ni0MLUFs6EWM47Xtf5GUJG1bV\n",
       "zXT3/3Lx9t+W2IXsJvR+uKP/OeUCyPjUTmvXzHL1ZxvqFYctSceOuQCVbZrEyGCy51X8hWDJUW76\n",
       "N+vJaZLxveWFVmQwWO+AIHlp8lULmB5mxAF0+5LvNxTLOnbPuoIy/KajrapRApcCY8wLxVLbMGLb\n",
       "0nP4ffeb86rxE6Z5R+hlFW1N7uliSE0NMHEl0J639DbBGCQz2/xeJ6QCtq1MgmCSYNGNAJ5ET0fD\n",
       "v0+B3NTKduHrK3LfwTj2BZLO8gpTH/ejR5M4H4Rm6KahpeorO3a538zxlyQcHEw+LspZtsAhazS0\n",
       "T1qjZvUej6lgRfAzpR5pXX+u/BQWS8kgsguMW/RsNqmS5zCd8dji55g3jjcZdCOuRRdRx6eY0NGA\n",
       "N9+j143IgZm3Hhzz3qEVh+Ym+PEWRZYTXCB+qJrup7OE9euBsjhJ+5hK/aQIiNo2cXgYw56ia2GP\n",
       "f+la/hiwxyjyUBDRQHVQTSV0mmnzD9YNkbjV0bR43ozAwQrsdX31W6fPj+G/jVSFON/CQlSfZxQC\n",
       "G+R9wxCQA/pL/bMRYXyST17jtf6QrnGjQBNK+43hyqregDzqin2KEZWeo7+lDw8ROu8fykMSBDhY\n",
       "Sy/UbiORfxXoDc9E3YvbERC4rP/6p8fWkVMfhx4QafKOA1QfUghqqJLYf5/ZhqfbG4oIm7p1Fcmo\n",
       "6SPZVj1ZfotgpXEAAAH0QZ5XRTRMN/8AwCAXPNq8otPpAhXb2hvqJ0AjgnFWhc/xCCsbnx2EoqWD\n",
       "deRfC7GDc1f5rJf7R3zxm5nxqbFc0CsXucDg2r9wci+RnVAcpoGpwALpPVD91svPlz/j+rdSUmKJ\n",
       "UnTr8D2GyreBMe4+Tboq5IcI3f22qGG0t/HRRFn4Vt/zfKHESJTsmIUrwzgkg+KSg3Z/pAluf0VL\n",
       "BkKGzSCcd71rglCnujB02Dx7A57ihr0BDy0F/8QLMli2kx2ukdeQbPZ45lqVznQn8MXUAASpiDYY\n",
       "UyE4KjFe1XHcRLmEL+m3lNEUan90K7UaNR7CWSl+ldRmsggbqO5ndovmDEv/QUl6aWpOMRVaQMgg\n",
       "RAxyvkkEq3wj8/xnAvzdYkfxwkwk5/Edi0ilEEKr3rC4ZwTDeN+54MzdWtYvVrrcubkYr4PQ47KY\n",
       "gzsrswbwv0D2MRULWQi2HICOHHggrs6dfWeJ5AdU19L5TZAX1A5yP7wmu08KhPWvmcR5RcgP0B4w\n",
       "55UanAU9geRtoJhppf1Fy0R3IGQbLCFcF4nkGCepc3YgDu4BJPQ88Uf5eew7pLyImLk7oY8dIEOi\n",
       "DYja632VSdkZv7fkhe0NkAWBbP4By0Ypz+zcd7uJcIuwO318b9sXLUu90AP7SFgnqYT9ySkEsEy8\n",
       "BH0AAAHLAZ54akM/AOgbT1RtN/9g/wxU8iLmBb0oFNI7fX0GPux7JZKDpVhWoSey52bmHTebc4cJ\n",
       "Pi/iKP1ku/Mw6wt/0vdYqaQrRIOcALoNayQdpQoaWSDUv9ccClnKsUe4+l+ALLFn/8RCTz+OlQ3I\n",
       "p2eBoqlwtVCQalHMYYLGsdVIsHvGg56WToHhZUxzfZd8LkwKqdKuImPC7pDETFzOxGkEoRgl3B+B\n",
       "CVZJYq/w98Q3+gAnTub5+tnxSQTrdh5lKuacPMcwztIGr3zt5gZkI0nm+jzHOJkvOdOOMOEmOVUa\n",
       "I+SePYpr/qNhBt1kijhcqxqAaxB1fphm1ilgJqXWaBZEtPoGmC96JiDsIZgPqxHIMHQsZRBud5Oc\n",
       "0mMlW4Ck+HZURYQuOe8EL/2ikRFLIw9Llyn/B1DV3Qog2HCts3AiE1CJYsfqBNvhFr/aZlyNGWW+\n",
       "VW+TLTvWfsWWKBKTJyON+/7sZ91Ym5M/ZNyFtiI2Eimh2Y1xhy2CayqHyT3J+wkIUfBGzuQVOcFT\n",
       "D6korlETBjzhT2W+h3Yxkb0EDbWF5NnTt9b+2ZyVKYGK+qXrixsLiJTmu27St+UZzYZ3JUVf8gEV\n",
       "2WiKoOSe8VRQAAACTUGae0moQWiZTBTw//6plgCMGTJDqsjf8Mg1i5YQyGx+qL1kEAOPbZE7DxNJ\n",
       "LLsi1ClMRDaDCYjSzV4IkbYYZUMZBY71plsbRZtmVO9IfMgXlGFAnefVoR2CFYgpCmu9BHo7VcbY\n",
       "MQ4kRLffRFZCSKABrXXTLl0CwsA6FSw1PKHwQeNqZeqL7UENt8A/iosqbVkTKeJCBg+vkptbP1O5\n",
       "LqsSQXV04k32OJcQSsD9EH263Zw3Pp0uVy65MQwprEZP+miDJB+5fnTjhJzV3LnVjwd3TL3fxv+A\n",
       "Opn+ziZsTOywiMxMydHXhUSuQTDOq6jgRYTKozt4cYt+Z8pVV0TV7kHw6mupvZ4q7/cV/d7peD+f\n",
       "sWFpJB6ZVhshoUFQ+llajVj0ZakPFXcT8XkfbIXuDHTpnHegcJ4PpeWwzdeL0wSsvqjCkeoCdJCg\n",
       "nEKwrsdiVSaZrMguAL4KmsNBLRcy04tXmWvFHswxLY4U1V/ZrZLuglKuNhMA/6TaqjPrG82zjMgE\n",
       "G66nKB8pj3C2+cUj5qMHfPvIHYO52I2GUJw/3Med+e2MMCgJaFOR1aKsamSiNefwnN88rLyPc1Pu\n",
       "B/wE4txKRBlh4akFtIjTq4bLz4Vjtak5wnfhiCqp4JlijeOUIVpoCElcv5vW8hDMM1YEZI1GOdYx\n",
       "vG6uz10LJcJgZrk5hdvrsjEe+oC6EtMsJ9TokBk7F5T6CWKzBWnCKB3YbfEQhRwF/7cheyj6tXua\n",
       "DHCxBkysJfEiB6O3Yk1q8CJhWxzGuEEuJ/SESMUbGUEAAAHFAZ6aakM/AOgyJFeRs7rTrTqWLy2Z\n",
       "D80loUUoY88+yU2nN0/6bNNVa5AsSe8555ZwUdCTGwArY/DrvRddrYyXzTJbhX5f5AtRlDIKHmpa\n",
       "NZ43nMlx/9SEOMJfGPjE/uE9gKXDw82nHsTpcMGHVFSuQG2XSbMp6VHe55nyDAKgdXve9ublU1sb\n",
       "0F80HRbXmSw0odgt/XuoPULeqYC8K24zjb1weAHqtJbOqzee2nHawp68kLG4RRx1tUvgh5C3jUrc\n",
       "a4QJ5iFQ5MeNCpHUs0ao71Te1SRL2VTnO8RBSC25C+cKCJTS7v4N5o6nHKbfntcvb/nERPpC97/G\n",
       "tkQgEZ+1S9TcuFcV8vKGkYW2MCrAMh4L50GEAAFKN1shC+0pKd1cAvnaxnSduQBissZB+/cgaz2/\n",
       "T0/thMNyWvj3sQNwHmsnDfm8/LurhKls+ze64zi6YSGnrd+p6IQfV7bAwYVtPTVK1Vt2+O7VtmEd\n",
       "ZJEfGpmVwnQhdPXiPWbCWzOzFUjdmdqBqS9XX4i9xzIIpZnKm6IhXBXbG/79GVvDA1VklQWcFjbx\n",
       "C3/ZShPsXYpYwTTkIfJopbSmyINM5fDV7jMU9jtD9Q1IAAACgkGanEnhClJlMCH//qmWAIwaJIdW\n",
       "XQ/0Pzl8YLx22AAa7szQVruiRGr/XRXH0BsWNvLMCIDRvX7vROc1HTYbbpIh87b0TqBjDgizElVy\n",
       "FiaxbWaeczxUdGRZa8USQtjrqURKSAYYET4rD3c3YSPHP+1ZjyBXLRkk427xMceGvZhAZMrvMHOB\n",
       "8WjdpIJH/xIMmeCwB1as6DX4x74lwQOBOHFfUpuk1u3oCHra+sYeIgukoGuv4Qbw0twOu6zqkb0B\n",
       "IgoJ+unyx43K4X1JLZItNCqhOZ9vQnv0RjyWHp5m3isn2PvCXp/kyMlygB6WPj65FT25GXB4013s\n",
       "8elRN+WSEFNOztN2w4ZzPKGq7QTAc/++W1bPArx+wJWnkJNgLe08nNHMwbaa9edd8vQ5qoDwraoN\n",
       "yBjWePe+Ibw5EAj8gznQXtC4Mk0HwSmIkIDHxzb9wLgXLX8t4xhGZ3i+c8Nbvi0yuYFfl/z/OF7s\n",
       "46cA2Rg83Fvr68vrMdI5mHXBlBdkfruHI0UHz86SQ+Cr1VkXhtrIGCOXRath5cAMo6ssZyLC0OUW\n",
       "ZKvmXWKB6/WG467LfvS+Y1et6RBz/zyidwikXfvgFFOTf2ROekgN9rjcAIN/CbPJpvp9sy3s6z9y\n",
       "K0v/1Wtzh7mKSdD0vR0aTczNAqGq08jwBhMVOiGjRs+YLEGBybBPH/oJil1Otdp7nbju81yxy7ko\n",
       "5jzyT87cjknmwQag+fyHm90eH/zFaT9dvZzdqaI6aE5efNJvsnswR3WNKPe2jZdF8sszxo5UrmYs\n",
       "2wv2Tp2Vw5lBnKybg2+SRXDR2T0K83re5X//dMFYVfN8z/9/GogyIHFZSpqe0MJID2EgIQAAAgdB\n",
       "mr1J4Q6JlMCH//6plgCMGiSHVeJGfJEdyUQPoAW0ec8II1JJLSeln1vt01i4j23qdxz0dgkX7I6b\n",
       "q9eP9exTzOZ9sKfON4EoiA+WhYAEjzSgmpcuospXXrXJH/wZ4ieLK6Jkk07+gblv6JjvaaJjQhW2\n",
       "OLDxU7MhOyKz3qASFVXCJoqz20gO6ySn6kh4NVh/pwMQZfWyn0F+zt7iGjvful25WlEp6bKB8NTO\n",
       "1ZJi3BCkq+ge1LBJtAyc2H4tAWUXAJA9ICTpFfPNdEnikgC4RThgWHv0pSg8G3f7HlNf0uhVaizL\n",
       "kMrFDa4aT4Kc3y4hY3Z3jevUaU7vbmWxN3QcZFTMMW9eZTj4KLCpusSVZA248tQiYDqaqzbSjcje\n",
       "J/JS8QYNUVLI/sdgtmUSgG4UeWzRRBPxuzB12pa+1Zm4kIKbIPhxU2uZLHtLGvaRkMjoYeQVTATB\n",
       "pBqbrXrZrCGvdkuWmYwWZyFuKn9zn67GmuY38qSOP2P28kMDxL9/5ZtuEtUabtvSK/b+ycznXaM1\n",
       "dYbHZ8+6JiW6Ii9bTQUBMtDaQhkdHJlETfJQAauxxglE/stYgNDvdUwIbnERCFnCXXWJXIlwTSg7\n",
       "OQOq1Chmsd53+rtfQg7AfBATvaQsLI+B0DLBHTXkctau8/urAoEkq0gnQvqA/yAcsIb9bl7mgkjr\n",
       "P7j3bbEAAAI4QZrfSeEPJlMFETw///6plgCMGiSHVY2PJWfmvcHZ+QjGxAHMgs3lqADS102ETvMN\n",
       "HSRrnky0qP+kOoqTwbaiKpe4XrAzbySeLYPk57Wr+8MqIGtSsGxeETTu9I5F/oZN7zjMHdjhprtV\n",
       "BbT4UksmTGAMFeUkyQymBtVYJ+/bGhVd/3NEBG1/gDs7PulE3zX//XJ9QW2nKsGwR+H8tEk8hATN\n",
       "3s4jkQA8XZM7E2B+CHomcTXzQUDFJuGBNASCeFCeFtYQwgznZgrRxxYjfVYY6RoPTkfkpuK/sWxM\n",
       "3Z8Wiacgk8CdkVn/0KTX8olwr/gsL8S916FMq0z2V6Wf88oWaJR2zs68jRLaMKhFaxIgMVWch1n1\n",
       "qzZNa4yj2blskcK7N4dFeyppKEPDAnNj4/K1mPXx1XSaPQNR5aqRCg9PG+BY2JxPOCuDCg73txVV\n",
       "4928hk5NlZTerCfGKZMLuA1+0SGyUvT7CfkGD6SKjpsv4q9b4cWA6rg2heOeX4eNQYm0Dfi7L60O\n",
       "88B8E6dTx6fDEtdzvQxb+liSBzRBvRAOp8F7uC2xd0ctHjLP8Fz/ZceWXjJzlb1yKtXMri6JjsYE\n",
       "vhFqKVLTJ0ypxaeHoOvRKndTQo03jWeIjW2C6wuQ43SaN7DEt/iJ1oVxI/FviApmZXyjpPNCdxCW\n",
       "hwgtKGJuBIsUQRz41ld0YTBYMEFKv5Oe3QTR8bmhEevnXRpxPzTJhwOev+AihBt8h6bBZRVxdmrH\n",
       "JFkaxtzDCAAAAawBnv5qQz8BHw26Te4927+4rP2G9sKeJbXIPPY1kvvB1wTS4aXEBCnezHlErQMA\n",
       "LGuLq0jLYPDG8djZUdoLYk0APXcxmIoXeF0evZJ7uaTEnhCohAQmsN+FjH7stCLz77UHqnxUfeKx\n",
       "zwOpzjQG2IAc4dq+qSzhpU47kq9MD6MGmdCRz+b8YeIXxDBy8Xowj3BQbGMJff6g4RvTf4wfCFEP\n",
       "aL/f+4vwkVxxMFf4v3eA7UfGIG9b+a1SQ6j3c/ZRSlqBYP8vIBGcxy/yQHt1xpQM2cGA422yHc56\n",
       "HJ29AoreZdsmP8vZdifRxLx07Tn6fef8q+FXTMciiCPCkO8TDD4BddyWrekyMy850s4R5G906pLM\n",
       "6OnE6CF4uk4hZcc6QpsaTDjF0TMZ+KXRA+Fl769lKBi/Dny4G1PXfDoy8SWa7vpYbqzdeqtwuL2T\n",
       "avnRQNzpHElxyVDyLqrHL27TO/kj1C19On8K5jrh1aMNDFOnSNSNN5PC2k6TgRxp6DF3sRIPmEAP\n",
       "uYfCqgaMVTt/DrjK/bMOCiTx0Rdv95t1ZLFkQbsQtBkMXXKdWUUyigAAAr1BmuBJ4Q8mUwIIf/6q\n",
       "VQAkBxzwDxNo0rx+hv7FYn12DAdTiNXPhpIIMD6memsxtlYKGXgr+bZakYG5gBAS58CyJb2tNRb9\n",
       "7tS69WhlKV1m+bo5QAx+2Rp3fTho9OLSCLcvy5QvwhH403eO0Z9f9e0tEr/Dtu7xt33CGgfN0ZSh\n",
       "PhWXldjZNyQDdof0oEW5gheRzfzY2POFgYiPqZr0I33iN+cFUOEUlT5isjDNx3LhCOEghomc2mFJ\n",
       "NSI/vmOdeErM+vGvmodtTP8R/eALVmNOf6loJxoDDhOs9rCyk8t6FMTb2fnYZUNFdtQ8d3nvo5v+\n",
       "m2TgN7EuRG0w14T3Rfh5RvvXjPvmBKFHNKl26ObE5IXc09A4KRLFmX9vNGGr0yiSMS5JPjzODR70\n",
       "ZCjetdPiZv4abrwQhEZUHyZ+VF8mU6dFX2yM6emKWUArNrFORDZMnowvvhUkxypCZQqs2VyWaBEn\n",
       "lJwinHbX7TozmtY436ME4p9Ziex/PmP3nH9Qoo2yOJOzQxyyDzlqO0+po1aQRrEfEyRk6lVVuz+v\n",
       "ERk6BPat6dbC8FdjUZVycAOAfjtNJ1bp1pVmwLr7j+m7uz41s4VH302M0qC8RjYUtVmwIdXmulrm\n",
       "NsVIghOxCqIbOqmwuiERyte23c7oGAwxqDCwQDjEJEZNRORqbgpoSGhmoCC2+RqySLMOSjpef0mY\n",
       "eK8y4fhR/ZKtNb2yT1vGF7ZFUE9MwMKQoITd0vCN/zRKhVzvM1eW8u8XkcRyTj/dazpuUbgqhAr/\n",
       "jcd7YMxKGJi3vY0ygc/0XIySMiq0ogzZNpSvnEwt0+ccMe6r+XHgkkcQZ1hySXAAQIHAnjuoB2jK\n",
       "blKWfFj+sFWUbI+DMe3ekdFA/MaXwjOiwPRNqR89yOrRJkeNBY+iisk+3m8FBHdfc/p/pyo+8832\n",
       "dzExDQAAA7FBmwNJ4Q8mUwIf//6plgCMGiSHVeH5BQdMV+Sv5rsFmxzw7fgOgBYcpBmSavdm2cwP\n",
       "F+pPQE5ILbUtyUMPs2lcnWhW/JwrWeZ3akPepSU0cHUerk3ivXGGNk2czXUcXOd11cHbA3MkEd4T\n",
       "65Lp2nhbwz/99tHf8uJ98LYRjkCl3lCaLRq/LvO/5WJvu8TdYj1Kpbs5Nb47gATpCI9Xbb0GOBMD\n",
       "iMJ0EboCsqHn/rC4GBUZeemJml/Wbqjqs5sDa17jOYvft8gTf5vIwRwqDY8f3mSEeZDSQYb+/ZXn\n",
       "Pcq7YUbQ+6x4B8a2TbjPJD3u6k3GZPCZDsRqHVwknxuFXvV+Zhefm8WRYnFEGFRU9NRaQiGrQBTe\n",
       "03oHdFeb3FnEdeGHSlziqKd3L1TmuAeYCbnVZ8gnIOeBtEVt0D/dyBPk9rJUJ0uXxyRv0a7odF5l\n",
       "rrH9Lv5KA/pe4uFDxvBlln1lNtuOWLGFrDjvWT1lEQkqVCHut77KaXheMAu/Is6dr8Ln+dwOwROt\n",
       "JBIfpQ3+IiLNaTYdINRGAGnfBOBH9KFb4OqKmNZ0s6sw3avfk+5+SG3bNVWa+RCImwtc6FoLsH70\n",
       "yjGIiidOzGp3xbJeF6uKvjhD6AX7ptxqABGdkNSUnbVLA6fRRWBWxBD14frEhBpmsZB5VHi+QooZ\n",
       "cln6GNaTMERWiBHxYEfxR+X0U978U2G/5K0y8wqC7CgdspwCpg+WeYzWHW/pZTCtTzApnoWBZdY7\n",
       "7iSc+z01G6dmmKElbnC+nw8xN/wuqITrv7wfe3ivOAcYkCfZ2gaxLu0D3hWjEO3lT/+Xvje/jdeE\n",
       "0TZNol8+zLS74MO+0W4KuNJBFnZtDo+jfo+Cs+or4le1v1o4Q6uUdFOQJL0lJYi4cLeE8awAOTO1\n",
       "XjJaSFC44IP0a1IUOK4k3jyZ3yjO9FHdTo18kEZV5Xd6bqCdqNe8itW7fW6Sj1eDRkVbRktR5fQx\n",
       "iLRoN/YhMyj1apMX0d/QSTWmCzwiQh8J8fJh2KrR/iMNTC892D4wTTVVCZt2XvqcMVsLPDphCugd\n",
       "ug5QNgCtSsxFM6iTr+UNJd+9GQ/cePlgSIcbXkNsIFUP6H91GbW3aSW3Rvq5CiuK4TzYeRVv4zet\n",
       "kuouzabZeDSoDp2nMgTXbVboeKU75GXE5HjylB9a+Q6OIivPTjubhZAT3Ipf3FGIqdAXvVkh00VJ\n",
       "G9TVH6PuM/cDUnLbLNbBhhWpI1sJs4eYhU3GIs9unVLPi93Ufvnyf8gAAAFXQZ8hRRE8N/8AZEBB\n",
       "uk4SCpZzBql2w64f1FO9uQJe1Qy0AHkrYALXImzn5ofPh9x1ikG92SssxwAemy8OxqvPTBL2P/dP\n",
       "5yThOqBzmE+mpPf0pJpab2AMSknNqFwBIKHfBPwOt95Zz5oUCD5xu9L1PpKSiCXXv8ShdII3gYHA\n",
       "v8if6hvV2m0tyHbfYt5EQbvBPlSa9AXhzo+EVNsjzpnobyWYYQivIj0IPPT71YPGSkLTFXSFQqKY\n",
       "ZtfmDZ5PZXcNQnHs6H0IckXum/toiq0huWaS8ZS53nK8JkhXNJbRbcXbhEbFf/by7unvkMNZVsNG\n",
       "W98RQ4njForphjo0vLUxCpOfmeM56IsTKLTd3w6bf89BDXRQWu+Kw5xgR2453yGrnrUQxsX578Wa\n",
       "q6iyfhD99mOZiGDkbar7dM7vufhPsPN32OUct2LewOcDES5zYfXX0YY4e8AScQAAAfcBn0JqQz8A\n",
       "eXTfL2luxWR0wpadfyRkoXyP96g68TE/wrrIx3jcFmw8NFgBcENQsr7K0jTUqSh4oZvrG1f1Y+fy\n",
       "53T0JfkeFkpYbRZm6OuVTMqbU9ES5RjOpfSGVkN0/Z5r+nAxicSOod2xBPpEOqeI7xkDRn0OfeIX\n",
       "sxpCsAgtstHOAGyoRvWwcZ4p/w2HfLkEeqiJnvnCuHMGPKEKWzqU9AUCfTZw1GjQMuchuw4+wFAc\n",
       "X+1OnfNuUXzWPP6XoJP6r12AB/PrPbZ8Xj4ZwAlm2a9CMr0C8qqwl7YEIfQFzblEuLIbaaD+dmBF\n",
       "dh4XPn/j/VWFGRUsDbWyicajJ2YSKRDKnkHbY45M5AhpazazTc/7IbPZbC9owWiCs8H123lhRuTU\n",
       "vwoT0r6p0R9vZyMOkc36mmBMqCvpcGn9xauE7vF0tEuFr6k8i7oZne0epb+GnNut41hYnZUc4A1X\n",
       "z8VkoHmrgre/Sc3NGQqe8ZBAFYxk558Ctqixj1a3Ynn+lBLlTh/fl5jroeImXB4KdVP2s1OTHObi\n",
       "TsXY0iYNTucvMdLCvltvtAhDDBJ9a5YSpXZIjJZQ3rGZ9ZcojHN5fnHcWW8OO46S+lVq62BWwxLL\n",
       "FhEnXcDrgAm1l1nviLE26AdZFqMeKZvNxrDGUdcuzQXlbV6DBrgZUAAAAh1Bm0RJqEFomUwIIf/+\n",
       "qlUAJAx4WHioRyb2L+6n+pddQ2CZ8yqRHmkUKo/J33zZ66d0Los770nGHELPhYM8QCh4wiNE+stt\n",
       "RMLkRrQA9X1x1b325v7n6vLgDqjigOYp96AHKPwl3rGuM5n9xmqjb2VKTe/ZnU0Fi/IfvVk8snjs\n",
       "gY47l4x/c+6pikx6M9gj41w44EGVphbHcoc9jBEhZSIX0kZ53D3WjQRCxK/re7KP5RKoF6K49RZv\n",
       "7LazHzMWeosU2gnELTtZU12OYrZjWdchayXW2vrctbR+o9ysYqVxBz5svIbWUYvriOlCmv1/jQg/\n",
       "4GLSdzjKEgEWdcVObNMKGXBRyOs+ZS5TyVi7MQF2/zWk3b3rOo6pRucOBmbfetyAUt1D06X5iBbn\n",
       "PmL8w458Eve7MCh/+fUuEKb4rq24apC7ks8xjGhUvGBolVmzr2t+kzkPceYgvdRKMTFKhyUPJVVP\n",
       "0rP0e7NAlYYEzw3e6Sn+wkfm2Z86+87Hk5fmjVMXd0U+VSr0yEn+7+Gk8Ykp84DiDOrn2VRx1Owq\n",
       "GftSctgMsPo8QLvE0kBcbSZsHzcUYk38Is9YZJRC20JpNkXmCI4zTj2vAFCHBnPZh2TPPn3SInks\n",
       "WeHuAPcRblHC9C160V6hJVEPKpetUZ/byD22kJ7Fgb07tjNdyJ5lks/AcvDTx4iSNvp09RjJ2kXK\n",
       "Ej6vPuLWT58nUWaDafNBAAADQEGbaEnhClJlMCH//qmWAIwYa6bVd4F0O+xStzl+ZQUrtdRvJGYA\n",
       "amyJgIoKtOwDcqn17Mu/tey2o5YgDNDyzffnHi/PmbagoLSdIp6njF7x7LV1CLhLJeNfFijnix/C\n",
       "skAPok+4k1TTDIPVMBH6or5Jo6sNj7hiCqPtYFP01FGFE1RYWF03en4kSaglUMum4fm1ileZ8CFO\n",
       "RSAlpatDzpiUquBiVLnvnSZjn5HDucYVmPueb7mSkJs2qEGSgTqjOdUTFxZnmu/wZj0eFEej6IJl\n",
       "m53II1ae8J+2o8S7FH2498xqKtyA8t/60gDmwn5W5a4eA7XRUcS3dYVQWMmRKUPKk8xi+rMmd60D\n",
       "gibrZHeC+iPdYFfag34+yeER3S8u9NnOHCtIT7l9ga+th1DdLr/uvi0eqEEcm6QMCLlCPZHL28rV\n",
       "+XBeEdTk7xS9BSyEDuS0YFNXgzF/bh3Nh/89BsqI7oTJa8WThjtfvmivzxNeiLyRm145hFTjqRm5\n",
       "OMFSJZauhMFjlZoIwGFZbV3xVyjFa0dPKBpSBvm9g+V1Mf8efSuU01oS+diuNmzf8BnicSGxat/k\n",
       "/ttqFd5GpYfTFrr+Fv3iwBd6vHTixgxJheNersI836WbJLlE+JQQsaljMij+Ou5ZkOtL6aJs1jmT\n",
       "sZuDROtu7rqxzvjxQtbJuelxHeHVcSrv1ZiKU+SGpWq82uCpyaOw0oF48Qqf+iamrf7VVhOOEARo\n",
       "xI7+zpwhiw7qAlwX1jfTY0KTbzzQZjfhLaeawUTa3720G0cRe5eRKBvnTiMww1JgP7jigvtO/R2Q\n",
       "fVIFyhZBmfEntj1QpDlJ5UGvi+xZxdcSUPvLUzO0vd+CLTwwa0LWBLw0mTrR7UXghazPeWsiyvbD\n",
       "xq1aZuNHPd6/uUlQ794xev7pvCsUTqSC3WsVToXRaXxo8/ceFlNzqvKxsEpNxAgtJoNoxan+nEa5\n",
       "q1i1utZjQo3NSmYwIsA9Zq5aZGJugIwm4117SadaZpNgaBAHhCCjSGoNk4J+aqMLCwo1P/a4d5u+\n",
       "6MvDF9YjiuRwqgCcIi5VFW6ezO02iVpjYJNo6iHmCHphj0+2E80SMr8xPKA8NUoTdqqUNYEAAAI4\n",
       "QZ+GRTRMN/8Aur98SNRZXh7nrSAZ+fYxedGNNKALPLx2C5nRY6ue/uvv5e4vsyoBSwXB9wZ7BekV\n",
       "1ST/t8orCGbkBC9ixzpc3JGd4FxOQndhkGCYxALgWkrhTxD9JlzhglebTIhYero0IOWTM586dKZa\n",
       "hfk0drdqv7DLfqdM/9GNyVWEWPwxDFKN2gBFp95DGZwzcKGg2fBSAe341b7TRaOYIAyzn7Fq8oTX\n",
       "/wQeveVvx5rZIpsxuiStXmfuRNKrM8b476OcRgjJ2U5DorRyZiNWZ5yLHcmaBEnzF4fTYoDgA2V1\n",
       "INj+aT7s364K16dowZxAeSE0jblVGV319OwfnW5PJjj4DGsYhzXErGTrDBokhg+IIh2rO5AiOchE\n",
       "UCMk5pQYPPycgHIkd6ywRsIwcWLKeBh9e5vpg688au4Dz7kAFO5zFd5Dv8zJIc+pSHZ50AXyNcej\n",
       "S2u+k745EiS0l+zndmkAEKuMdmP4Auhh5TQXhyrew5KjAcHGQEp0TscWFHn7NoYxiYHZKEBiNqv3\n",
       "3WLYXIyqJ3G4vsNBZD4w7pD/LYsdpywBTssuMfdGhbk/R1S7OaGJejMVm1tJiuKf/m/7k4GEhCJa\n",
       "ifmjX6K5Zk9kGGk4JVAoVJYm/bX9hBfrL3970YGORkm7wkdj4ff/SA5My/LEl0RMjqy3/N5B4xPp\n",
       "hEeIJC3dzNe4WCH36wwmjc+INTpo+w8m8+UnopgUivY8SY6uE5r/Q1sUZRwEhIIZuHEVRgWOOQAA\n",
       "AckBn6V0Qz8AeY053qiivPmrYqVy8Qbq84MRceO3GrpIkgMXriT/s2kl+dracdLaZD+Yxg0gu1OM\n",
       "AiMmf/ufWkR7EawNMJXXN6LX2sAF0GZEF5451RFKdv/Li0wg24o06+in+uRn1eKSqi3BeBDn7gjN\n",
       "x+D4HYCeiP5GX0WhT27ADL2eMCO+QkIpV0Jloozlj2TDKc9qvR5VnV++GeOxgvcPW+VQzpL3e4dr\n",
       "QV6D0K+FPKloJ26Upm8OwpIXAzotOncjvFtre7JsDihUwCo7q6Co0ZLRAR1VBfGV3KzvibuvWt7k\n",
       "DJ+7vbk0lC4tnviblPB7CLZbV4A+BAr860xhPAAABjrwpSzFuy4AABMFq7Duq/AAACRxBp2AQC50\n",
       "y3u0dgM/jTWrmvwQMuuUQ2tuRXR8ePSb9MUrRlBBizLXIH+XEd39Bk3PubdwnwXtzpGgLHE7XY1b\n",
       "UqlYJo7NLaXYAuHpH2W16GJU0dlhL2GtSXUuT4TKVYrHh7jNtF7YhB8DAsoxmjirIPM1U5lpYpea\n",
       "Gc8lwc6XI+kGGkM+I28sGA9kd4w1y8D9LpJQrm2dpdgdg4TElXCOaMWBkedP39Z8dLf5Pflsxt/q\n",
       "/BoxAAABwgGfp2pDPwDim09nim/jV2QEvTeYTJ3F4bAfK09/953m9vFA0DcvnkV4B2bfMAK+hnVe\n",
       "u00M7AMjYcZ76TF632muVy3UJZ++zLuDZIA8C6N/YEHGxlbICwe+bZXn/KuuU4hUXbr/cSxQMiTt\n",
       "2bq/M31sV+zg9KANTyui4X9sU+3jMPD9ZOlBAXKZ0ENfctm+xv75m9flbgcjg14PmR11+68JjZYz\n",
       "pCNl5DqFR8v7WVTLTBQpiWL10AcwTq9+QIQcwBQV4VIZ1oYU1ESNllAsnK5CAcOO9pSejRLMht96\n",
       "p2A9G1wrX/beCrajT7bf9g8N+o+XO3rCggPDb9V3+I0Pif0hjQNQQrwOpbUDZ3nF+KJHTiiuIcwI\n",
       "uEMPjwv1T9SJQ4SoBojbfcFFCP67shVZdEy/gVopjAiKTOF+PXljdNs9GC9taI7nmnO8/1pVEXHF\n",
       "Thmca2AKzUEsxLX6pnnACSr8SvyUMW9F04SAlbld7mYCv2L+UQecrPqhevuUGwrK6WsaydxzbB3f\n",
       "rZXAimjfEtb//K45vA/YvmtpQ05DRLNKyXoUWvuxCOAVoHRPj+WT8yAUGXGWxIItfevISjJrdEUC\n",
       "PgAAAjhBm6pJqEFomUwU8P/+qZYAjBn9h1Wic2FnYBNzoIozoYnsbA6wDWHas6wfwZdAtZb2rNNu\n",
       "Y3LOyIf47OzsF+lFDI7twNTD/kfRDUV2WpOzP4l+fUJ79r7Xu1lraFeai29gk9O1z473iYy+UY/B\n",
       "UtT0WIbIj17lXreJnISHlXKDnUC1WIUQf+uoZCrCb/3AA+JBZTz29JXtkCRqpFZQmmjZWwlvPv4+\n",
       "BOM/+QtKU69WgfsEH2kYrc7epkFKD4fdUp6/RsK5MybDOGfapVvavYMbmnCQ/qlhUG1ExVtgew99\n",
       "3J0cGm/9p0ZexnNQnGiiWENBMfxh18eu6dqbX5e9pXBgZ/cx9Ywlu01+ydW7EeaGQZqRWBw5j6vV\n",
       "XYos+AHzQjx/3EfR6kFeXxfzJxXiG2/SW8obawv+rJ/u7Tp1iPfouUKj/xxc9szBzqfvryDoY7/u\n",
       "SYfmCw5iRGtUELXa1L0eCdTlrkj9jkZlUPNSOiRuquoTrWpIJXYlnE8omIPggx2kmDoP9CblR1Kr\n",
       "e5hMRTNIRm6k/0u3cUoQxKRbyI0ibUpa5z9LkRKq6RTsZEV53/0a379cD0cPpWGZnz1fRBhlzfCC\n",
       "eOu1z/fnUiISGie5A95oS48wFhvYEhikaDvzjAR/75PwoGCGxjruLdOC+w7XXqhXdCDggx8cpT7p\n",
       "3y+vIOMj4YD9/kHxdJ0auVnpRIJJr8NK2Gn3eOo8uiba933rZijNmfqbjlfow8m7Hw9+UnuLAb/t\n",
       "pyLpAAABogGfyWpDPwDisiReYYSKaQz2tBjudLI3yPc5SnYL2ZC3Sr+mCf+YyMN+AXIf3oT4DMDb\n",
       "dTu+Dkc7v1179exqc9hENpX35fpP5f3XEiAFsU/kNmCv3nkFqCici46NTJIgV8QLYQqeqDVxpTVa\n",
       "cJF+TO2waosTlB+C8LK3YFqvgBsDm6yLwvbs+ZNzG9Q42C+kwz1RPrdPMAZZNNUVUfidZabyW9HU\n",
       "ioAqBLnb5XhdXDPOwCtWJ9dRfXHh1YMIFWLK9nnOf62f/EirTSuBaG9EbP2mwnvGWex7Ay1sbD1B\n",
       "cYMtgOgwvDT+6MLK+RrVoUv+0EKpyOynfHCyVAS/u31aRplj9uNr5yLnNKnJ3tbaQfOEyDy6Xhkz\n",
       "vpDXNqI0OiR4O+XCGuAtCCqPsitnnZe5iZcPr2biOHLKM9N3OlkRdmA+uqd9AcQurDOFosjtKn3K\n",
       "urT11a3g7Yp8eItWeqM8GBr3KhBhs7purMO8Ugo7kQH7sVZfRVedF+zvLUQmLTV/CA7P8CNuEh4p\n",
       "vIUja6PO12ABq4RqCxjQmPjHqRsXzFRgZcEAAAINQZvLSeEKUmUwIIf//qpVACQHFFAPJPPhS8jH\n",
       "7/AzsaH2BCS+LXDer1dvZuOiUsWgxR4tgo2PY4cX6zsKMANtLTGaIGgJ2l+R9HXQY5EEmZdnKA5Y\n",
       "UuUy0SZ+vXvXEJRyJUmjml3dbj8QmqOdopx1rerBJU66/AyNYp1UQcCtU+4GgFHfClrKeDrycHuJ\n",
       "P3gLGyc71hqXAyHh1CmDQQS+IDRC5S2iB3T8uUIR8O/RddAjbIb9aORrHrItm/rj5XMyb3m45+g2\n",
       "2jCIh8Cl4KqajvfEutN6fBY0oX8WwXU43DQ7PXBwteKUq9NFJJyyI7E16vlN0km58aucfOe5C4+p\n",
       "Uo48I3Ajn9dTl4DCqEPq/3YDJdWzJ5WiF817hGo3tmVOBdMLf8dWj8UGgKIeDUUsEmF5T0IC4WeO\n",
       "0wd3SZd6QH/UAKcrLluuTj/hy3MyrCOXt4LRUv566zJqNeKH6gO3J6sukm7uzui4Ob8WayHFPabn\n",
       "/F1DWDONI62olCVm19/jV3x8C8t5TT3gPKwcpfEMzCkzZ998Kv00//zNeOf5QJUfUbuWJQVf0KOW\n",
       "sRIzQUsbDj5ptiqge0SHxFgC+5RvqR0JXq1/feTDVZEG28K39T39vsIRvH3ESR43eD51P0Xrk8YN\n",
       "pTzt74UIxAmj7tupnL4EH0BW8kNntTBtB6A3lmhxiqHILBzwSgagNLXmAAACzEGb7knhDomUwIf/\n",
       "/qmWAG8j4olnJfp9PmpsvT0lAGplHIYbVUxyr3H3XIWxMK6wYC2QySDJQOQgMkE0Q/2ypfBjrpg5\n",
       "9mvN/TJCiMC6C7p+KjDn0LaAHHuyvJr+WUSP4H+qRhsH7DQo0WSuYGlA6a4RE0vljc+tYwpUaacz\n",
       "6Nuq3p3JWL+kZs0Dmqqlb+1T6wsH39sgQR7X8sWT9my9w/rqK7RTij2PtIDB0+Sy/TJCqkVIPidI\n",
       "8d/8JX+8bT8kYmI7i/Xdtf9XV9NMPXtxuzs2kgdoOPeVsswQbtLq70FYRvL2hIINlddjdIrEpobS\n",
       "ZTTHp4g3SJxZWyzkNXtYDr1cx3sv4ijPs3U6zJ5Ub851RvepxbDTTEJt2QpxNJaGfQsFkvcBlk4X\n",
       "VkH01el+PizOG/Y29SfJpivaWzm36t77uWqOEAo7DFI61nBbuoXQr9U/E3i5E6RfUCAV6b/bP9uX\n",
       "d3nlY4FNfZfxuuFvyI1UpizhkNYUONUWpUzEhdfAjvoEV6Ywuugz8dTJ5qFHNV84RlF+PtpBYgG9\n",
       "cngBsHR0UFUP8uHG/fBmtn6TXza4qN4+cy1bDizyiT3Ie8A65ujRVkKiaWOE+WNBIZHxGA3mpXYQ\n",
       "jSIp4m1gYuoj8okJzGALfKoaU4pCxz4gRR4KBQeiKiBYs59c8yMdewR37hs4KpFYRyeCtJXGAChH\n",
       "CGwatFm2FWTm07lXQvzEan3SWPQO+JfsVqH8jQf8rcZCmNBo8Urap1GrFRJmqbfQ7ew62Naauh1f\n",
       "xcny91J2zmSTpUNOZhD3hb0CpeD+SGHJ9meKdKCd6jqQvlrRyIRnHHpldl/AGI+r8pyWwXItRB5f\n",
       "BaewcFyHWdUvJ9Jsr5GGt9dRTJ2mNC4BwRmscfXvhavCiB3daiijNAEqNyxtYVBgOr7QeA7f/uqk\n",
       "SJ0eFQdkXvLkuDKAMSwDZc9pvxNAAAABWkGeDEURPDf/ALrFLz7avI4xyrn/MuEv8v/OzGDpCdlq\n",
       "itKtod7yqo7W5bmf6InW9yHpYo75HesTfNJbJBfFBptKT+5mdFgAFq0/yyofCAqgkpQ+Av5lHL1/\n",
       "FqjvJKg031G3oP/YcjjjmNAJDTY/+zzaIbCzeSPbvqvBXYszfHyrPxg2r1kYBDj9NWWZ4XBKXOgb\n",
       "CRyyddhhvuXHxvdZPUUGAwZ/7Z53SaHSy+7Jp/HFYqsBr00kVo2XV50GywMdXCNTuE5uQIBg9Cvk\n",
       "stU2rx9G9CQuQi34AqNxs3Q9dZAwe9dfnKaTQ9Ea1rJnkx+/cyMJsYc8tm3w77Pdu/tvqJI7Tgiv\n",
       "34W2Hod4uzCUCYee6qazXPnIoxyKZV5g6LPWjHO6MGk5281N8/uCrhjxTjmDHohpIZibS1Mht3Uk\n",
       "FNgP2WMBujQs+T+IkcB39d+E5PzR7QnQIt82gfMAAADuAZ4takM/AOKbT2hvmzAfV2EUK09qZxi4\n",
       "P4xRS1n0Nj6n03IxnlzGyt/ImnXrK85J+lvQLNF1uJugwAZ2oCLDsaR9ugBBaY0gIKpU0peW5oYT\n",
       "cS/ML7UgZJxFIEDKOtW4MDwxTJ3Rb9UA5kNworbu9TESenlLytIhyJ7VZFaHXmoE6VUXIoWLRpws\n",
       "pmBkQI0XY2gsgSY9RUa/RVsM0eSeZxhJxsqWYrSNymnOxUuq7fYRMlLAjrcgTGviO+//isxnRAEZ\n",
       "amZ+tXxa8ZIIPxqnJ0s5/BFv05p32XlpWOJim0I3N43jNQnmP2OZSaB6QQAAAaZBmi9JqEFomUwI\n",
       "If/+qlUAHHbwYYNcaOGX2kaygR9suEPul4IsyySruvfecVw4mVhG9V51vQ6nbACKIuQme4U/L9IB\n",
       "QbzirYyeufl1UdqQU7C/YNDHoRcfVeuL3dQLW/GuHwvNHdPIokM69JcJE3w31Z/UMtT8NOkFqMj7\n",
       "3/51P4+3ZTdeGbPDo+Uh3JObHfob2CLvpbbykU5YloAKBC0qTX4iil0vjIA4eez+pNsVJTReWpMo\n",
       "P3SKo8TdzWu1SeKz2remyLYNIAN6jJBox3t4rrIL6PEs5AebdqEW8bLzlQkyc1jYzTy4xRXemRpf\n",
       "6HOfxi9yKdcL5RzxFjSM1H9id6I2Uqz8wuHJUvPIgpIG0Tb987MXa1GyuyWc2Z0+44ZucPUeB4Ky\n",
       "M/UDag6liD4P4ppN1xg1N2YErgrG6/dkaHqe1FK/cjaJnfKZB7g/t9031QrZkRZmrpVZNSTVGfXT\n",
       "b4/DEsJFpYFJiL9i5ju8YkQttiUlP6fKGV8xCWLi4ruPN1+7vmemUA2u7Z76JaTbspQ42AnJIiOr\n",
       "3iixyDVHpBd4xZQJgQAAAd5BmlNJ4QpSZTAgh//+qlUAJAcc8A8TaPCnUn/uoXZBvb6wN6ez60ja\n",
       "qQfr+XmXJuPQ59Uq5BdRUG9oDjFuV+js3Z6gwqCt/QWV7vPw3GhNrJb+uUAC6Oem6yMJbYcmFgh5\n",
       "+/coLFnt6jN4ZbtqZw92nKP2n83X9mzl899lQzoVf4EUCmpC8DmZdKpZABGgD3h1D79LFtb3CxuA\n",
       "8tGIRnstk1i8OCRlUkWZJDfTPD0JQvJ1Cb5tnCsaQTARk2KKgB7Y7pLW4+J8jkScVeuonwvrJoOg\n",
       "LDeXIaw5OfvwztAS59gMOD6s6OU0A1rAQFB1Cr6yCue5Q7tnRLtwQ2DAM19lTUCakRzqK2PejlRz\n",
       "cS+xCiPCLUqMHcwKj1CI/DCo0e3UKnf3l4fRtj8cJXm5s153LPL6/r3/8JYIk78sPl2s2na+W/CN\n",
       "C58XBpzFBkfn9g7W0vSDjABa+H/hoXOT8v2CqKdjjRCTRN4WIZ5L41Qm+He2a6kc4OJbrKnaRObA\n",
       "mhf5zEpzNpTWVUOiE/V6hKfuPfzM+9umpy4iQ5YEDc0LpwX0AyrL48wZkEL0zVZ2z4s4CqShis2v\n",
       "nDmGKN8izl35R0hVduy9FAkrab2xzUvsTxDNebp3322I+P3+qUigAAABTEGecUU0TDf/ALrFLz7e\n",
       "R4s6VzcgXcAgfOAC6JbkM3HU59NqbeGeMwptQlXjXTRTHQY8bdvVEaOSYNHliNV0yAbMJ070MACW\n",
       "NF/c7au85uns3Z1NWUQ7SArizsNOrTeg7Ie+YG8QyQd9Y1tMKbKCEYEGoBPlqdPLSlFdp8Qfdtf4\n",
       "rvK6BMHju3SJ73BLXULsyhx44F71a4qn2G2+SEryoDEZtb4u21PrTiJcOsBhQz0NtzXarGqP95Du\n",
       "sddl0+9gehu8kFBkktq0vJTlFE6TVCjW19dgIAiaek2SUQ2Ry2zLOgzKzzWckNCsw0BxzLkF128u\n",
       "wpe78RVL4JKnIJsn9u1viLRR/oBtbkBhQaOj93cqLCjeKmNOP0pNy00sAaUntL51RWbOpEliGs38\n",
       "9RLz0VddBBtlRFgpbaaAmeIlHDqdRb5ZinGnH4L5j9HrAAABCAGekHRDPwDiakFIqCXQJIm64gmC\n",
       "Ux+FpggZOY69OI7/eOOvOLykvjb/BomxcCmKLaONmQBdo7RA0RwyJLtaPlwp7K9J5AAAgHd2jRWQ\n",
       "phtrs8dSX9KLBblfy/K4lJTcMvHv4RVyRB83FwPjPgmn47gmPjCpfJpN+KszrU1Y+ZwpCgS/GhbB\n",
       "OM5qIXbsc+C36HzOS/cSi4DYOG+Q0RhtMoEZvpUnlthtqhmzxEkMwmdAWO3SdzOABndOAcD1/Baf\n",
       "UmngCcvbXNUxeza+EtTF33ricVZ8Iv014dj3W09quo0eDB6kSstfsUNuB5qifkTxyuMs6EVGkNyE\n",
       "Gqcj03jxRlL7M2qOwZAwIQAAAPUBnpJqQz8A4ptOyvA4abvHwJnHb8Px52TNcDF9p/F+nqAIwhQk\n",
       "91vXhcdpjGvkb4Q36BbgALqAxzlAA9wrIUljGU0amfOpthyhWEsbJHX7lHK5gRUgA8y0jxWWN85i\n",
       "DH9+lKE2BnV2hJnuWA5NGvWC6ElZh9AyAgkMtn47kj2pyGD5VzbMib9uBoXqalQpLCeka1IV4oY6\n",
       "Gaz3jJb/e4tzq+moiTZQRoRf65+7RKP/oMFZo3D7uC4JeheFA32h+Kmn/lDOGiAtUI1qtB+Hm59j\n",
       "dKUAlY3fJ0kQAPS3dLmk1Pxi60U0jGqnLJMJrrGv2OcZyOgFTAAAAj9BmpdJqEFomUwId//+qZYA\n",
       "jBX956Zkf0cQ3zw+gAHtURU51fMNqPH63BaikPdvsFHdTFV+OHUkhh8tzhACnvn88BuiVyl4baT7\n",
       "1K145+lADdV40XvbixsjocIdbBnp/7lWuWPCRoM/ArkGzdLuDJMpnsYXJ5lsYNCxb9BA5APkFEXK\n",
       "RQ7gOqbmAeVsg1WrpwKHgsJbpIEMG+3wNmKlNxPB38t4Zf2zmvsNMSfucoebZaJSqU4sKuQ/l1nG\n",
       "ljiCZcHoee09DBhOStLIsTxvz6TviZh9Vs8/KK/jtoKlwnfluhHYYlYG4v4fWo7Epumvika/B1Kz\n",
       "HeKjfoExA3eVM9VbiOl8OxvzvpJPeBUUYFCswMBkf/kjcev+AQE0obhLBnBwM/ahTWFLNLReY11L\n",
       "HjncNH9awY8BLnUbUHr2lox2E3W5eRNGx2rpffzeMb1U6EmDYSjlgyKVEW0aR/whlOrd0FveCLmb\n",
       "t7hJFl5KLXwvXO3IjtapXZgB7MJ9MwYBCy2bVM6kJ60rRLofaTDhEuCUKqfKRePVaC60+aP9C31t\n",
       "AEUP2/bhr+//aZSygs8g2BiV3ofDZsQq32wkYgJ8nebT4AE11WS7cmCCkTZIQCBL/lu6+V4CxdMR\n",
       "m3V3Hm+g+YrW0ryjJg4XlAwoGB9HeQGpWv5Az9l5O3XP8a+F+48jFSwGaDBd9rF9TYGJudrZssqI\n",
       "JtwclilPgHw461lgMnNst3JYNNXEhlcC+EULoaaItBzNKApsEMAZOwn11CrjxwAAAK1BnrVFESw3\n",
       "/wC6zRje3keT1Q1qnd4KAk3gkdsZE9NAdKMnCZc4sYXEy9GSvwhm/uHsiP8qyCo/P+OBAc/A50GE\n",
       "fQcJ8Y4aQDrzC9iM5WEBHXyGA6F10/bQgnG5O9ICWsrXwcXR6esQ6sEHX3HrjS0C5nyjyzeCWdYq\n",
       "IOUYyFBJAB3T28fDG+9jxmTv7v0LXnhR9TO2bl5KYCIDqIkOwAc/40sPx+9NQVKyAglB/wAAANcB\n",
       "ntR0Qz8A4mpBR4QWgnsOVrc4w297D5FwiIHt5B0u0qslbuNb7h693W0xI855oeA9aAxmKu2ECvBK\n",
       "3SJPsQNmDB1AB9d41wtVU7XCA59f/StPDVyZFz0WTFSNOyN8R8zSi9dElsczZjjBFSmOdcR8NCEZ\n",
       "ru00mumaJALdJk2S9N0kEephikPHC7yWqt6bpHLbL/4rMB++KZ0SyfkVj4ac1+xfe34/5QoUako1\n",
       "BKayYBkPFSn40rYCb+qLghTO8NJDIcFFc4c7Jq1f14lH8+UA3Tw1vQB/gAAAAQsBntZqQz8A4ptO\n",
       "T64f4Z/nMPj5fe/bTtKghpevhRrz9fLunMajJZan3AzwAALoNaqXcepqgZbvixW/Hb2Hce+1ZjzC\n",
       "N5be7IJgw//3BloYVu554nXEfEjxQJmMprciMM4+lEuga+no6WB8NbhOe4YU6UUScmGET4r3q9+i\n",
       "vXikwDpHBORVj2sHsvRAcnJDK1yMe3PSse2w89yR7EkLM8FMiJ3JzzEjej7XOd4GKJKfHD442XrW\n",
       "8VxazYkHRkNaWewE5gtjdcK0l/WmEmdmDDz0rdj2dSr38PEVyWSVJGv43yotrEtYIPfqbvlPm+/m\n",
       "/dtV8/qhUR2rkj+4LvpA6IWy3iNLuiYkPCwTBU0AAAGgQZrYSahBbJlMCH///qmWAG8j4ow8J/S6\n",
       "emxg0qDXbV0iHdrvglogDTj6sZeRKl2+c1IS/ExOXzZfhwW63/RzgAE62ZsL+XmJFKalR5LFDtyu\n",
       "qceMkdocziR9ZYVp1TWq1uNiahAylAZbzh6+eUGmqwKj7IvXScDi4XvLyNjwoef8jlyYqBEuH3J1\n",
       "MXS7aRQ6aNmuOw66TZgGPzt3Eoe1UvI8C7Is9kgX0XbWIDQlZEInZylK6ZIJdS2rFw9TA2toHpth\n",
       "WHTaynGeQdEiM2Uqk9bFf2qjJVTxqh/QUCQFobEdFVj3IFHuM4nChpeTYR4CkY6ZierWafhKL7Bc\n",
       "eWk1yDQyk9A/tJTvIA+3eIUknY0mND9tSvxPGBNGBJcSnFYcNFM7M3QaEgqUxUz3WcQtD+3tNZ72\n",
       "wNtJuoJw8jcIGaTPCQmvlSDuHu0O9kPI6cuI8UqtwQ45YsbJKzmJGXqV/fREIzNs+gFvh+UzFmkc\n",
       "rb/a48OG8qRGEKX7vsWeTjlv3HQltUX+B6HvfWhNbwQlfSdgCDz62x0Yif9wU2PN6hsAAAGqQZr5\n",
       "SeEKUmUwIf/+qZYAjBn9gthladoPOttVKlsNi5D3y6sUMTlE7P2r+tjkTfwTQXUByR55P0zK1i0x\n",
       "wmiDQgAS0J4yi/ReUCAs6Xp92vvS6HMQnmybN3pyxvm552DrCGXBC1fYARQcAxFoRYYK4VEuzBcj\n",
       "dIFTlwGgxrF6ONB91o0hxaREEV2udr2VAOwtAwQAOSEnK5pDsM4KweQ/5sM0lSZUnr/gcRtFkASU\n",
       "rClov0b046c6ND+7O4niimf7oiVY5rd67c/+qk2j9/WUBNCavA0N7E1lNx+dsSdDMrTr/VW2tlxe\n",
       "dHakVD4+FovIJkikrjqczcStRPCQKv6Vb/8nimB8FjlOxRsMHkK/EJgb6z/BW7HB2wMdW32Iump/\n",
       "AtNj8JfL4BZC5jNKV6zKFUMuIGHf/P/F+jxgHG5EHspKKhkI9Em6uz8IjVgfrp+bhiyiCIUROucg\n",
       "f7i3S3xyRTdzN8/06VhHJFBzEA99AWNaSHjj33ylOku9rLU98IO6Hv+pJ8D7OdEIYmCLUjOq+WsJ\n",
       "rIvXIdMxDgVPUuwcVW3rvrUT7Ugav/EWAAABXkGbGknhDomUwIf//qmWAG8j4ow8J/SqPVtH/6+x\n",
       "Qqk8AjAkosJnfIQq6oPCHzA+0LxMmJFh+AE66GcxLGPE9XjDQgprVVdjq90g2GNzgEteKWxpFnyZ\n",
       "8Q2aYm5BkxeZk9l++rWM2NRjyMm5Za/elIJ3rt19FKxF9TL4BmsYfnYurvse+eTgvEkm34i0jX3G\n",
       "4isCVHLv5uxN+y0kT5tVLV/RwOiVW0qObdtTFzH2yYV9Z5A6juzTjadolTSb9NkA0fGtTIRcI5v0\n",
       "fugAculRyexkGeWab81sTAUmev2hWGUfcPkk79Qd2xfZfINbiyzSM3ll1tFAn4H8AEb4R0Ca4dIo\n",
       "ijMgsFYMnu9TmUEktp88fWJi8dfKW+U87rZ2QOx70xykV5QEaHRvzGNRc2IEe8xr9JsbiiOOCLTa\n",
       "kXVzF8JpFAA4zvEabSwHvvucfE5+jc6wmWHgUrICqtmDSqaBAAABgkGbO0nhDyZTAgh//qpVABdu\n",
       "fQRxDoLzQJ+fN6SYHVM+qWKbXWWnh62LLh+iIjtxVmnN3ptkMsyAF0mk+zUmvlP8zDCHy5dXHSeh\n",
       "+UNvZDOCk97e83pj2sxFCp1Fo1+c7asr8X6a3f/65geBLpfRRwiHu+sGHuQDPxa5WpJb1bMq4p57\n",
       "zbyBMq2aSx951tnxcKvY8/2KOfm/2vE0KrNXosP8WAtj6YaTtIgucekogjZv0YxykO4Rdzma9S4y\n",
       "a1/4gZwuPVQfZv50i53KrwcU1dEUXeqwFE7Pe3TM6FAg7qUaK/uEmtZmLSkm7kY9x5N27upQvgQM\n",
       "c4ndfNJ/hgsHbJoDh+Xs4SDgut6PLu8cGexuZ4ku2f/JC8CDiiiSRimmgBjikoQngOZLvQr+K8pu\n",
       "eSwEaZQhGHZPHUw2KRWsWlACyIGIH8Twmk5hCXx0wQQqikOtQEIDCoarMDjSjo87ypInueUP4hxx\n",
       "iCXGC9bveZ+ZASntMSHlJlKaLQJUI2p4AiyUAAACOkGbX0nhDyZTAh3//qmWAIwVxeel0w/FYSV1\n",
       "PTmZ0gRNeIp8yoydkiRVtaMglGpi1249AKr+YkNI1yrMgf/+bAG2ZpIFN2Q6wcTj3DGfnr/ugzNR\n",
       "4QCC3KiM2F/y43H8Q4WzsJpoqUxR27Lj+L32/Lu3cx6ZAgl8SYkCpiDoq4HEiGR4LVz8tjzrZv6Z\n",
       "N4Mr6LOtf5Zh9yPh9lRK4zItE8fixj35V04GZ2pNDuDRCFbyU3c3bNNXxy2FU5heOVdr8lVYPw2u\n",
       "IVmVxDaCX3c2xRExY9zmOzy0Or8wom4VObIkRkMWH0oysplE9TCFG1PmylM3HqdlfYj9KT5ZyfoP\n",
       "mMyMerX6h0F8Xt47hAmC4g4pwfIsnPlXC9QZylPGefqvfPcdAUU4WDgAUOJ531a5QfsjMRf5iBO4\n",
       "TiVXPy/Rz5Mi7ljKdPGbf2mcSH4ceZLut9uRTsMpmiz3H0apwn+47R8unZqe19TObFQWD6lrGIr5\n",
       "AHhQaX0ot09I9MzetaORX5PNSnUIbfZ4OqrMv4Bmwi/QuIFXHiANMQOS+AbRTbctWBgxOxJxPh3j\n",
       "iYyTKTHniBBRUKp5L4+KNhjnAMKJUa6/EpeJERdcaP3FgY+ad22IGwokHpwQhWHsDNUhz5fMOUqx\n",
       "qt5J232R3Z/wfBojRrT2Aa+aBsDypBgNJuyGDo3nwaE0cu0DsXCP7L+XmE0rfLUw9xzjoRy/oASa\n",
       "hbpLBovbkYviS3kFfqIfpVgu6PG89oL4aeP6QZvz2QAAAclBn31FETw3/wBkQEG2AhZsNTw5N7pr\n",
       "L+MTbMP2jhYuxkiuJbOUPCaauzMQCP3e2NMmMRZCLTc1wJLdoJ5iYNth8EdCPWfvpbGP2iUBppg2\n",
       "jrRS2hDBdWtjAvwJDQEZobPwLVwhGm4XaCYF7/IWqvdz94BhpEHcYo/2DKV/ub9MgrFEXWVxwgS/\n",
       "0Kv+bajXl1xu3BE5gr1LLH97nwEFL2X0szHnTClsgfiQu2hA3JtKjyMfpPBFiB10xSaYTbTx309f\n",
       "J0dJjmWr7rrechaLchE2MN7VWjxu11iZ8xs2LryNquO/EopV/5n3P9r43vWShoevSFpNN4xwRjpd\n",
       "BLc+i+LDRvf8FHWSY4OujuOVDiY/SLEhD96y99q3e9D9ClAzG92GenfT93aq2ZzNtd2Cju8O2Kes\n",
       "HEnQjYK7LR5Lf7gOlLSAmPvYk/5fhaqClA3W6M5BP9JsZjX34uXKHQzQWm7MprTZfxajZUHkG2yh\n",
       "rp326uClu/EypGa1jeCWD1AgQ1cUaDZv6Vm5LNEGuzn9lY362qDj09kE1xQY13anBXPgqfN6BI+L\n",
       "WSiyxuNPyOq3cWmPKXHoVJc6xytS0+aux3In41Q98bkJ4CHhAAABUwGfnHRDPwB5kQeGBTw6aiJg\n",
       "upZR3ZPBCq7yAC65KjnfRFb5plj0CNMMSKO/CL20M7ntKWop/AC2XwITW5DyREFtWNnbHNaUB3dH\n",
       "EbVklzusnKQpkBTVGWP+Krr47uajkVb+Vyg1OfBTV6r1ww5GTgUT/yF6S0SZtwCeSD7HjWBKXC1o\n",
       "ckzhGthLawt2kFSKo1t9RExXG8SPiXny5ZmFBPlxJ2KEGx+oClUMHb+GZYkUhconkWzlCpqN4bBF\n",
       "32hGbpUF/ChuWb80+dwtr8F1r0wlzQrCzf3hLnjj5sZUPfMXfJblsj0uABULS3KgMSGbxUvT6fDH\n",
       "8dIwrx9OTI7eQgx1eWQnp/ryS6kPrEILOicAulvQebyd9f4+RIqPvgkD9eD9NLy9keh04Aq6qqWG\n",
       "yLmxNyFh2v9zZLTQaZb4fJyUjyI9OG2KXJI+A6c/dwcbfnZdwAAAAVkBn55qQz8AYfqp6C6Ao6PJ\n",
       "KxLUjkCQ+qMCasS9kp2zlOTjUHxIi/lszrRxGWAd4AjxQqu4xpeFDrzJcgBCbpLTUAkVijywAEZe\n",
       "jXjjxUemwrhEFEFja19Fu4e0qviGR+7AvSnJ1M4Q80ISiIgPyOLNxuBn31GKOSrfd/5Y0LxJ0y1r\n",
       "rAOvS1+skVyieS3vLvYfUqjGUzgh9BHPOEDu2KrZyyrxWawKI11qx+hNUXgDFBdm3KfEpB2BJZwd\n",
       "jAJb6NvkuDZlzMe/AKfPma3jjcR468p/gtYFr3jrdemCBd+u3iNlDvEFT8CGvv0UJMd6JcX2OEnw\n",
       "kNFHbUf365AwPgKF39MCTSLTbRRsGeTbsMg3Kv0ElxcRMsFcUSS2XX0ncI6jAvrf3JjQyA1GX/aT\n",
       "XUlbAbp/24nksiPqSPSDW0Zuj+atDMlnu5Aji8QBvTdyaPhtaYByHG6NnccAAAMTQZuASahBaJlM\n",
       "CH///qmWAFt34ow8J/NuqTdsxjSfrMkpdfWvvkh0B0vMw+wyZC+frqBsuycELpBOga/AC6UJLt/S\n",
       "23dY9LHi2i6SSSvWet06GB3mMthbuKSPELXW/PHHXBphIMnGFG52c9wmNuANBh/1WDy7rWdP6BrG\n",
       "k8yCnHxaHADUFZkloME9pwmQKogtqDPBOG7/hez/PhwmdMTX0yt4En8dNoboha87dcjdtEyMCfJr\n",
       "py+5UJSdkX9UcDH4ycmL7Z0xW4IAfzyKRLccZv9fxQle43eBPy/rG09dz0SmTBKQ79QrIWoHdMrA\n",
       "I8NOgSK7Jauh6aUskUyZS67bcq+5UxdHS00+3OhO30okXx0yweFOuofdWuJWbA5HnGetYFizy0r/\n",
       "/8VSkfmGjIcZIrcwXP8eMrK6lf6VTetKXKgAPa0qyDuIonZj2gk0prfT8sR6BQxjxuD+rvZJLo0S\n",
       "McNupcA/jVGpaDfUbA5MJctgZOsarZOHz9cvIbSmY11/lUPjRMne8R3fnyLRr5u8gv3vdjChRz1c\n",
       "QOqgHgfdCBqlnAapDvL+cSk9wS5TjfYdN726L+cqRv6NsO54mNvrVwF1PK6LdtYgmPpDxeZv1/of\n",
       "VuB4eVLDQqs3fXxzTAqsqrVWFr2ZFI3j+6cJ5Xvz48RuXJfwmE3x60gErA649yNiewQRAB7Pv1N4\n",
       "HFzp5hHu1KUJWfylGg600GtIwyBebLD9fwUvrlpDBnZhwrwdKX0eSCF29QWa2kUw7fwUliQ3CMz0\n",
       "ICf1aumgtcfW691zf5BYpOPkI9cJNDWPT8N1IrI83Uf3RMAuElHzsdbdOBujE8d5U3g3XoGI78Oh\n",
       "z9YzF5hP3Gk1DO0mlA3BPj9SiMwOgSPcCP1LN16SCQu5FvQhMeJYKoEbSjMmg5KqdeTO5ixiiYaX\n",
       "C9cG8K4/E8+l6W/Vb3HeBuzc4NFuerlJn9QogtQN45ONokbnGh0hSgOkNF3o/83nwiRJXZF98G3j\n",
       "BUjwto1lSmWaJlS/o2PnZuT/fTl903ZRoA8+rb8r7mriZBkFgQAAAi9Bm6FJ4QpSZTAh//6plgCM\n",
       "GTJDqtvX/rrEzcfQA4xrnnhPQ2bd/Nx/ZQ0mZvoZge747htAOYpXYElpXYz/o9xLGBVC4SEkgsbF\n",
       "QKbHqxtAVM4rSxAebo2aruSxkXEagVdIR1VwrdO5Ekwn5AvpduvKQMcLSiBYUXV7B6dM4hbgdH9H\n",
       "P+IeThSrfpe8/vG+KLuPD5TpProanWdy1dD2jPLDK71EmE5aiP9YG6Vp14LbNPM/m5JOObbsLnBI\n",
       "+CPSDgLnFFS7gfiRs8PX9I2GZ1THFWIUhUxQx0EpCsmy96+/A+z6bMbKo4KVWG3sFnEKzsXL1Q2e\n",
       "YXQfb9Z1/xArioYuraNmKkw+dol/BEmOFQLP2zlHXy2OtnIOVFqLsV85DkQJhCnQjGhdZ5Wmd8CX\n",
       "I3eX4q4HAoaDtSpAi2/vWnCht2Yr68qpnP3pPUqosuCPV4GyL9Q90dBoz6lnvNfWn9zF3+X9hnTj\n",
       "0h95n6qgUn27/lIcCaFv733+OHA6hNcI7A0AQxBT8+r98pDqB6Qb/EEZBCbJBRVcyWGXb1kKHip6\n",
       "2yd8p8CFefPtjUkFhZ5nFsXrrkb6olosL4K69St28bCeTxBau3cmcQh2rKEVpaDX8CJYdg2awF6v\n",
       "Wc4h/zaR7YoqnaJ6dmari/4M4LTdE1j8SrPd/sKCu+a0WVlLC1b8CGwawaYSivxnRU+4rYRXzHxi\n",
       "Hyv3UC190Ief4qIG9xrrxArjja7FpD0AtfNY22CwAAAC2EGbw0nhDomUwU0TDv/+qZYAjBP1xv7y\n",
       "iXc9Ecpa1OaAFgKhsa+fBh77Nz1Ya/Qnud0zbl4QrUOPDOJpO63vGhE3NSFJp3dXcFE+0/Uf7TJa\n",
       "wseie8GvgnD/Pf0uLX238WAN5dXjm+e0alqVw5hP4zKMBLejsTSjiUpJnZGoNjcAkc12s4//sSkQ\n",
       "N7h7tfUm4I2xwk6qRzLN7YHbg9xYkBx9iyZxUwGaYv3VzTXHhQN4czLhUU041wjZ9w1ILgjH4AaN\n",
       "psLf7MreQt3dot1z8Y1afyzZu7eb77LaNH9Jf18b6xBWME31Gn91MeIN5nVQH4ghunrt87s3ORkC\n",
       "a3msuHnYOf3mGlmUIX4c6Ub/zbKnT3cBpP/MTsao2t7fevcOWepq4U+eqwN714te0LV5oAnBAWAI\n",
       "MHUBqmuzkxmpgvWqJsheRbhexuDyGRyy5NazaxwWK03TU38/fA9PpYaqRPe1pKecAuaSPyv+2v/c\n",
       "E3v7ShwJBfFT3700RU6fGcPzQcuF8WQR/1RL5gMZ0fQ95vgsueimcr4OQ6rPoaAWnPgFa/m+p8yA\n",
       "cT/SABnEsaN+jjnysTXyTJajBysHHEHYCRXVmoZeQrOsiUK0BMVvn1a2Fm4jURU5OJx8QiwP+1+h\n",
       "dhqO1DPA0FIWF/YipvjCKNKCpIJFePvhAAjMVhanB9ikdxarNg+B2n4vu6F7kHLvMHoOwdTgBoW8\n",
       "1ykiRN/77qPayd0P1d8PY+oNi+QRqTS09wARJxOXMUNOrr2Ctr7PbQbDaas5miATA/asneJk8yyD\n",
       "7CqhR/E4HUaeF431OPTrAlrhfRBfzDxuz3/smT1UHibgQzLOUADZntaCdJAGPbrofc+WG1Ob5Yap\n",
       "VW7nytXn+nExXlqQD9WnL87b73s1UKGsi2HWi0eftrf4TTN4en6wy3dosM7V/+yHJAPw4Gt6Z25l\n",
       "XEx4RyCHUjKbwQ8RORGF6POwZRKjAAACNwGf4mpDPwB5ckU/bi709NzgD05gjh9LCaZ5AB0Co3Qq\n",
       "J+V9+5amsfrKGV1dB6lPaxbMgb2Up/4N+q0v/qP3bj3zTmtYpm8uA+xzZOGar17Lls+rJrcH5ho9\n",
       "VOOoLBfAchqqV6+s5EQ/dN3HTSZKjZAXq7QW+XlwDrmOrlOvt1yjof1vrtv/NZKGRzDqV2GjH2EX\n",
       "e7QIzePjjkA8nQJTThnOoucBgQ7OVzvElTFdobthu2KC/9QQZRdPIVMRWkTNLoxRjPv8jzkmHONF\n",
       "PPBbT2gcScezVgz1SA7u88RWR46KTSGKJmCeDQw2O/Rrh/nWZm95Bb4jcKnop34qCG8PiWQkt9Gu\n",
       "WXm8X4JgDglKjwCLl6dV0D6lEnym112uSlDvn218/ZQ/5jbui3E+4IlBYGAKe0++O04nYxWfs9Ss\n",
       "LyzTIdfSAmcijOZjWJaLnNDZODI2w9pIOY/grUNojkqRhpZBmN26LU9PzkEwwWg46z739TfmF1Mm\n",
       "L8Z0prdHRr/Vx0621Yn3iz63VaGM+zqwhmHiPW4098q38p+V28eAmCo6WTH5Gz3qAB/OsvfSyopL\n",
       "mOQM/51DEI/LUMy9mhSstF0aRXadbUQkF9rrWOVDKXtiw7I/2PhiRXZTa3BOZJoJY4frcIUd1lS8\n",
       "/a4sGhKVKBi0YUHFRlCQYvh15TCOl5Mog/yG37pDFvZ5QlmSQZyZ+vzGQEomGLIFKo1rmUhcZohb\n",
       "Vjm/iabsD8d0mRJV6aZzW3fm3LInTAAAAqtBm+RJ4Q8mUwId//6plgCM/SyVylj2M7D2BmYIpmVe\n",
       "aaTZkABGJpE7vOmRzTUmzj+JXPHOHsoCYO3VC3m8oMlbDDeqq4+EeGJGmlt40BNsw0k81USaO5+Z\n",
       "63qjgQd/kuhOhdDAIQO6mxn0O4U+v0VrrB+84ZuuO34oMeI5DcW1juIwkwl+upVwmsQHd2Sl7Y6S\n",
       "HPiSVN6rpMzDKN7jCXL3eWfrzQMGTwiAnNwFe5wx8zaAPxQK17behl6Bvqosr4smSIRH+jfN8jBd\n",
       "+d3CBo94psRjMyyHWGiCqPIe++P8N8EhDlCptGhEeUP6XX00Y1o4sHBlQE62DQbGh6iyvBQWzQrF\n",
       "aj1HKl4o0pDmbMo8D9N+JVA7q7zMZEkJ9YN2AA74apyua7Jftr+AxKBSkB5Q8LSrut0gXHRi7cyH\n",
       "gTMfWo4zL+N4+QLw+BJljALO1RK8O5VmkS3SU0/D07jFJYf5WLwqMeCW0NRFAzSml5R3hZvUOwWn\n",
       "xAjPzXL91FqgdhiEgS1fCZHRaQliin+/1ZmZlfN5R2kIlcOXL+BexN0mM3K8wkoNz/gL/d74YawX\n",
       "QmM7bR23Tby/5BVJrDLVjxO9xj7kdkJmZMlC2Gzyv4Zkqi1HSn3cY4cIgX6gDuWCAMnajp8mwatS\n",
       "0tuHz79QPqqVaL4dN/X+VSlENO8SOYJd08s2bSyHtdM7IYqwap76rq6VbBUUKmujQg7EqRCjExPx\n",
       "wGpVqgPDOXrdJcOz4ANJH9n+eVoMtXpjJF1QZuWNeMVCbvKLs3mbXC53779fGox5A3m8VrAg7Vc5\n",
       "MLlLzpoEwmdPOs+5RgNtMpnObwyxV8Z23YxxrY2hCJezVOGvlIt7VXyBqOC8oo+VPmInIMyKRLup\n",
       "ekTUiXNnzG6sHCvvX6aLDwDAUVXZCdZkpwAAAkBBmgVJ4Q8mUwId//6plgCIE3Eb6Y85Dnh906Ea\n",
       "rrAjnLCgR8RV/4AjK1hnubWXB3cyPSZ0OcObfuH+JsPFrW/cU40qB4AlaK2/Z1vjmTYayrOSJIhk\n",
       "vtIeqj5NbSV805RR07Pddb+WN2zmCmxhudoOa2Hvumbu3Oso5JO9CoYOgAKbRi5VnR9hGiGJtpKl\n",
       "kVfvTMA3CFTq6pQ25a8IWf8HpF8MS/D/e3bZuN1dnwPpiSC8GN7I9zPrEyieO345vQjKnhYqVao6\n",
       "S0noJWHZmoVWxYc06X7XxEED/YDJDBkyverPqm1CGYX0GF7FO5mMejT8HKfAWOERrvsueOn6PLtr\n",
       "fb4b35Gxd7jfLFV7PKg4ufZH3K8K+kHPAbdsVu7wAMSQxl/unW4cXsE7+/QSIi8TZkmuWA/vAzuP\n",
       "yalN9aQ3H173GokHNVCKtO8xSQkM/Dp0eIpKT/l8vYC0OZ7lXfNY8ugzfQtiVa9rcox/OV2CSzXK\n",
       "26668K8OOUe3IANUkakTgb9YrUqELJAimrmpQiYaekHTjFNdfCqchBoo4SOtbN9dlwqYGvb5FYa6\n",
       "Hnbt2MYGet6lmMs1DXBL/MbB9OkFzkkMeQ8VHNvsewC4V3g7TROqSJDnNjkvHWhVTvf1FJZ7Omhw\n",
       "QGQZ0ZoT6GuHXXvtD+huWUilToDhhZki9ue0d5yGw95/07XR+ODLTNLIPou+xCz7mEuby9Ydg6JF\n",
       "72MDS0IgUD3FfS9dI0qGi1FjnicjjKbRMuTXYWYgRMVdUIkAAAKEQZomSeEPJlMCHf/+qZYAiBNx\n",
       "G/vKJdMRD8zIACwUoTu87F5zTtrzryp7pkr1+oBw9LIjiykU0keFy+yn7l1CjEh/FyBbUT3BKORx\n",
       "gP53V3GeatkbbNInlzdxV4sX/ZRPB67DIJE4EasCHQCgiSlmwGSdtFP4t9tA7lgyfPnbNpuzY66U\n",
       "H8sBqM2DWnpEv/Klwa3W2d7G8eIHzm44cZWF0TWFa0kG2igRqEJN5LCdHtTKu0KBakusu54Bx7Vn\n",
       "oHZFsz3dy0VmKEzXJRUPFWEOwR0mDyqeI62YHO8PyAH9dZwwhgGbRIWMrIPe1SipRZCq3ppZRTsf\n",
       "0oUHJbUCqLVJa5BkMgjfjEGPnLTm9gocLwzqQHogoqnYTW7ZEUXisQnjejKUWHEVsDU37mqTEznC\n",
       "76T++WOBgEOqKWm7OHbbsubrxOk9pFwUS6Gfhk85grBns45BhdvZxyWpac/ytBfhdYi5stqWKwup\n",
       "JaUc4Uism+bZoMwgqwvqnNRj0lxhHE6FSJa3zfs1f+qMSC67+I3qxznrWgs1fNLv5ru07fa1cUKv\n",
       "YzZiuo90RJLMB+s53MoJ8RuQrzcwhpWtaVBpA5+YfYsbf/F1HH4aMythdqQ+7z5IAeC74+r99Rxa\n",
       "nEAyiG/U2gKVqbBrLfNytON3z+/WOv3LmjxUXBMBTtRlXXuhpqB5jcWSwddvAXWsqEc9ycUbjS2n\n",
       "ICnGlTIkDOvd9JvKNijlrxOesQaq60FAH/eFgyFo1s8gWLz9FcXlP/lbwiTnObHu/G5WDLrpP5S2\n",
       "ANnoSdbhmBGqSwvg1BJUdMne2Yn3MeeCpqJkCKsvMbq3twBZqiMpqmnjIve1h7iPTSfehGzvRF0A\n",
       "AAL5QZpHSeEPJlMCHf/+qZYAiBNxG6rnEQ54fdOhEvoj4irEwA49rDPc2suTxZlI0FN7DF89MdmG\n",
       "JQJdOhXCmKTC/FAhAStYyV7hp67+HFKn9ZTys/OVT6Mt830QaOsKpJddJPeUdqYy5kDINlxZ5B/g\n",
       "GGnvgA/FPPF0g7GbW8h0a5HDkwyScYEAAKL9vnzJv+7x+prhY6wAaAzE4Vco6Lav18mU8Xx0UV5t\n",
       "a8UuLypWbOD29Co+NbrIGT93CrcPl6Uzv/RGhAydIee0VMqklkU8hDn5X8hpJwASk6U5JjKZW0Pm\n",
       "t/jJGK5KPLbIcSe1EVA8uVoumkESRQy7GK7c/V8GTq+1ZCwdtgR+Q7ePcNn2AAU8DlSc8VRjSPiX\n",
       "1Y3QhYEdogeAuxKJDCPVYZjn/dKFCyfFhnUhXbXM2An+yBe849b3vxsdivDTf4PprIL7PQvLW8oG\n",
       "rwpinUz5K6xWG8qq6Xmae+UUl6Pr+hpViJss7QCoPRFnym9l8iMyxL5+S35XzHJB3YLq4R7MCgte\n",
       "nZcQD111MrXinYXnBf3FQSn/C873KiiuWWHqNhBVNNTZeC2or65ySd85C93trYP+F5FBrSgLbxV0\n",
       "XBlDbajyMcauP3WE52UiFJQzn84YUw8AZkSe4dP4yWIbP3v2FN1fOTcBAUMENaROlF0pMN9oh7Ci\n",
       "5re3x6MGss2uNaNV1YEEx0+rYnJ2SkEG6KkJSoBc9OZxVW+sUZ0JtWmL9a90vM6snjigkchtqHWx\n",
       "WmfwxxBuj9CmrEqBFVt3YxnaAjoRWStLmFnB4tu4Ew4jDwX6Bh7adE3TbHD85z3u6C3IjnUQv/8f\n",
       "fTiX/vQaH0dNVemxgkYpLMhSdPRLjsYgCE7WOazNigjfw08c5J52cdajKDPMSw6CJCxCNXyhO71X\n",
       "mAS9j7au3gtXpj7AkLeShxqglOQzZqotcNQLyagdx+v5Rqd7qaeeK3QeK49jOtMpWK8AloT0kGi8\n",
       "5e8iytsrbdKHw4HtzWuckKSymTu243EAAAJlQZpoSeEPJlMCH//+qZYAiBgmhqm1by74Y0AHG9Xm\n",
       "fB2OyWIcqeMmuEkRWqvBFsqBb32B7/2EAm9y0mJYIdjNkqT3gKW6n8J/+/KJDgUBVhjJQ7aBUSka\n",
       "VP5izvGqb4B91tib0Af3ryhXYRDc2BF7ltieXGQlASXO3YKFhQpvBae66aPbnhA6xafVPKRpf92P\n",
       "WaREWdWjHJeKi6zkbhJCaZCMMCzhadyUSTxzMK+mhcGrEWWACrMwH0cvh+m9k6aVaLwdHUZpZNCL\n",
       "w8tr25ieVKGOWn7X+UZeE90dujduU8nagNFV8R5B/8JxcP+3OsGpEUfbTIK0p7NjWc2yCee3eZTX\n",
       "fbVlS2WeYG4bxdifly6Ouu4upGxWvL6hOxi0YxG9A6Xc0EgBFUEqa33zz/BMRE27ysLDSWAhxECm\n",
       "s6c8Elzjj2cRZxOhVJawzNcf6tkxCJqTgfAbwsJTNGSrtHCebqXlSfaaOQTTAc7ASzEJ8J0Pkq4t\n",
       "15mPzHCKiQwi/2RAutWFXSQCrun5nj30YoQ04pir9g/N+Y8oOw3qEs4qVD4L/kMngquHMnlyI96j\n",
       "i0Bm47QJhOIEcwWHsQCiOYjcfGMkSVoB2TB1j9tm7eGxekH+Xphxs0c8LNGHLcc8HbDePxV9T5mf\n",
       "yajwnVSgZZWJ9PghMXWxIn0az0ro8EYm6/u/qdldgJhdmlQ3GxOLKMOjP2hJ7eAiVJzZmaqkzrK2\n",
       "EBUFj3oRZ7KLHsiq5u2uT55zs5R9ZzlZ7iv/sHne4zZxjHLYDe/A5PBOaC+0HcfyjYclxk/jM2YR\n",
       "zBfALNSa1MCLyJVT4AAAAndBmolJ4Q8mUwIf//6plgCIGCZUecJb2KVmvSw3mOzw7f6hgDb+2by0\n",
       "+dGnMbaI0X7+OIudhvtF1KLNck1F7HbSct0tqyaSRg1bW9hREDkHxJtKq5gOIKSEdh+3IK0bkMmw\n",
       "3BkWZR2qfRjYWpTnGMU0S9tKtB6u3xsoLXXX4cDyVjk5hvt2hkJRuytN+N8v6AfRxAdkGTlJ3Reo\n",
       "2flwvpmtP1HaL+jcqQOlrwF2iHo1qBe7T/5gq8PYt39UANn8ApkzyoYOLu/qUeIbNl7d1pldt3dT\n",
       "ojoQBJkoSm0RlD6kuBni2Gj1bv6Ig1FK+3Iq69Ac2V9SUH+t5JHYj0xBhgajt9rHtEKojtmr3tCZ\n",
       "n5QbeX05A+jeQG5qvdxQ/JtMa6FbySaR5feMawi2qIoYi3XY0ZaYMmfK8ytteDle1qxPqG1iddhq\n",
       "OzgtQvtrCJw64NaISXFy2hGT6Lvj4KkkDmQx/EUnx/mBS8rR/UUYl206HleFqTHrRL2RMDqZA+kd\n",
       "4qZuCZPUaz9pZSg+KWKVXgemkBkoZ0ui+T/mYTZSdLhf1khjiHJiZr4DsVD4rTDpvDp8JySKPpPq\n",
       "phdwUfbplJXuyu4DPmhRRdAZxxMXkXgPGXH9ObrpyUNJlNjsGkXh1qkF8qCqggdo7AYlw0uMHEcG\n",
       "skGxCO52fchh9qNwz8GdlE1MkXqC++N3gwG1UpIDmvyAx5Guj7tnvUtMG2MfpVONEBxRGcOoW2rQ\n",
       "f0WMa5qiV+i86LAtk1cC9smkqsvp15/WdLJoo6KlSLJ3cgaafyHMjtChruAEeJQQnPgZJMg4JJgu\n",
       "FoDXcS2HoYwzJhpPCj0Kqrws4tPaAAADk0GaqknhDyZTAh///qmWAIj9Yplw9IGXzS6KyUXm/dC/\n",
       "CWjHQA48GhGHPzbc9l5tnmumkkbN+77AgaUo/EjISDK3uPqsV/u5WPNdeWqD2Bu3A2iW9clcntaB\n",
       "T4RKB835OPGvtv39N/MosW71TTVWfZ8oxPfVsQQ/zcd7eMvgd26RrdrZyvj3vTZ+HvgVbK9wafpc\n",
       "hApjxJbo1/Jy/1Kxv0PVE7l3BZjVU0DSLdZ20D6RvWWC10hINF7CGER16pzqZ0PXUXyrDEAlbM3x\n",
       "kaflV3vaJlzKiI7cR1NvCb+bIgqHEtPGfRM8yFUFLtOiG+tma1d+p4lsJa+QNjUFUqI9iDcnGlxi\n",
       "CJx7ABpAZ9EPWAur0HpGVTq/kZ8/kr+qwZS9M4nDgwueZM+kGV3H1iF+XKEJIrd/AoTHBveqAZZ3\n",
       "10mFaLLZdTwXN3GfL9gYc9IXDhbLPzG8yrhccNnUv814y+ZQefN43EU6adAg8xa4WYvI2mJ6197X\n",
       "SOiIFrdpzLXrrGS/Zn9X20pZg5GRUumHa1fzf9RXvyXqA11Wu0we1TBl7HNgwvvXvCElAIdABGEH\n",
       "UI1j758JFFwI1X65TL8JAYzyy/K4ToU86ZO5y6enA8e90dxUkYI1kzD7CbLeOkdk7ylDUAds9RX/\n",
       "YbuXwpg/y0WUsb1quLOpoK7TyH9fm8uthAIV2hr4xcvwlcKAW+aIRLsV0icFIr/XaMQcekGtmCUW\n",
       "pCU4DfDG0E3o0cxUXCYD8om/zrnzELLURRDsZTKRFKn20STdPi+jX0hLuuv65haMYblQKgdRl4j1\n",
       "k/gCsC7XMI0NcwJoF+8GFY4BDt168kvsHjwqqj3OFSKegt9kzi6IKTDKVA49LFje49JDF4A+xDVy\n",
       "A/NiODvAsevTY45KaHmaS7ed8cBt5FScE1o1MtL9zSQKoYEBkcZpGFh4uMyq+X+BDpZTS+qB+tNL\n",
       "nllYr0G/F56LW9acUXgNOX1zD/JNxzveXpz/CKylxz1Q0L0qH7VLtkTT340FvVtd4g8RKpMSiHhq\n",
       "agrUlCWq1NjiT/Sm/hp38248XVhQLZcsQ63iN5nVVCy4TV3LuXoqgxRS/7lVFiHJi2fbdYV3rgb4\n",
       "kuExRaN983Lu9PZ4ZpOlGZ70xnyw/1NtspYsgPtEadIP/Y2nT8B43Uk2q6p7rqAePnVfH5TmT7TP\n",
       "FYJfvBf6R9xsSTaeICzuk6kgMaeL/NVb67bPOQAAAlxBmsxJ4Q8mUwURPD///qmWAIQZMkNTSN++\n",
       "8YIhtZH6NDAETQaEYc/Ntz2XZ5KcNBf+fPFC0BKky6QkWeKKqrKU+gekewIQ58nnvy2vs9Rbem+/\n",
       "R5uhFtasB98kUCvc5G6uuDjv20tSQEDAN7ynxxPUNLpCgU5krdcfr9ebU8yWNLzGc0N4WX8dgE/v\n",
       "A4/GkbtvxPlaXrMzhBZBLugmaYZQF7YCbn3hjbYFEdTI1uud7HWJKF4naeI6vXWBy91akbDPXFYE\n",
       "iyQM/lDP7pF6yNlEJTawxFZjlXzByUQ+JNPr/UVwxR0/3ep3exXhKvrkmFJd6hWtwrLEtAsNgiye\n",
       "lXVDXg35SI23U9u9Z5Xcdtq6Sr/73W7mydyoU8UORlD4HZel16gzk8b4a/kp+q+2yiJQRR6+7eaa\n",
       "Xf4oQwjBoAJw/1gYIRE7MtqqCpwuVUDQV9U+TW4Sm3US1GMLHGL4/kmzTWjFFOYzrvzNT1Ui+n+Y\n",
       "JVyTljnnGqA3zripDyY1vjyeDlnKogsboRX+g4a6Cxj3VZPSw/NFJAzzoMvnipR/khk/GQjikTVD\n",
       "T6JTvs1bnrN3JdX4+kBC7H15sxwmhaVZw2TsIXEARQcjLx/d+7I7oMt2tLMQ5h6g2/7rl5OV3jAG\n",
       "EwEWnbZizKzyjyl8ZrmKwBWq1hWwEE05MS4jB/6PctqjA0pCCU7KAY58Jgg3mwpUl/nHzX0JuwD6\n",
       "IQKaRl760BroPiH7HGsuDXmPF6mp5dd/2F4hMZ3uwLa+DZkITz7zGYqhpt+GWtE8UC9QzoSgFE68\n",
       "sS5NNRDX0WAqAAABnAGe62pDPwBz9KiagpEZ6wFjWuOEx+IfK+uhdkYlZNJcrMHkdyaFEtP7oswJ\n",
       "H6pGA7eYac2n+w20Vq/O849Wz8rzem0L8U6FOzLcHwF1PusauB00LgBdBuGyt8kKzIdGOSg+4gPJ\n",
       "AvBDVq2tKUwxNB3+gimZadjxpZDF90jv+viPGDQl7yPykmjMHaXnOVSokdBJa9pqDNZWmP489lH+\n",
       "90yz/qnVh9FOOQ0P0y7RHN8fpo1l1/83NQMfngkaaI9l78DGhHUZ2LQU2Da3a6ioIjn4Of/6pVDK\n",
       "QtR1LcqynEEzQyvJX5CUVkgqwEbJbf12L0f+MO+tlRAYZoGIoj+kjUptXnfRFe1fjTXkB+VKRjim\n",
       "98pkgAAAFO6c0ya0Qi5OgZ0ioP8ouWuafSfxBWnq5o2z0vOi2QDawZzmrlChMpSO0qCDH4pp2FbP\n",
       "9OG06RoxBmD44BvKJOkDWxZrJq7aHZWo5Qo+UwM+yiNKX8ldOGap5gCayXky+7o452JKAB+R4W2V\n",
       "gUJmwWPz1BUkstUBX7OpPNw9DpM7+mPQCtgAAAHKQZrtSeEPJlMCH//+qZYAhBokhqbiRUodba+s\n",
       "QXg+rJ1j/uLMEpTEVZMjwInnFn8bOWrcA1WW/m/3Ma4T7P+UNHqgA2i8zOYsXTdsBqMxKLJVjA/t\n",
       "s6ZTx1mfuprkBXwM3urCasexG8OiSBWWbuv1vAEeEZc44LkdBKYmoRCS1OzOobfXegcEw5U6ZQ2U\n",
       "IuVnE/raQscIAcSdAbQ0u6PcRM7JkUR0GkANf0AwerS68ieEEpCRbno/h3D77b7pbrCFJFn+5xMI\n",
       "owy/vC1KQd1FvQttoVZCRXeQs9qZMkSnDRMC3hXRSBJ7kOipMK2JXijHiWFByaf8hy9lJxfWuZZl\n",
       "v1ocb0QfmCU2e/8S2nIe6Q76BoqYF8uL4ooB7GHAO7Eh7595/oR/JxB+m99NokEMt6FCPlKlp685\n",
       "OjsC2medTL4k5rVda9dLIPxTTBH89hM+Rub+PrqoeW98WKaFKOfTCEeD9i/Ctk1ZmZYWwEFFDwaf\n",
       "y+cJuS1yJFdeOhGkRBHouxhT3TZPg0szX6Gl6u2LcSZpeJpzk/wLyQ2eZXXmN9WLemGvwFcXXngG\n",
       "61yezHJCJEntdtJNnvrZijmy82ES38ChVcSO3Lid/oEAAAGdQZsPSeEPJlMFETw///6plgCEGTJD\n",
       "U3quTxVyq2SaNRxqCrZM0yLMxmZ3YkVx8fAb93m11yQBr8qeRhOPfq9NjB0iTbHwcLqz3ZAWMQA3\n",
       "RDy8uDzVtRg8s4fUmjLVI+MapMJVU8dfcS676Z4vecH6PoZq21Dq6YlGdv3S9tf+BxMPWU22u9qd\n",
       "9tmhOzX9fYpgYjwEsW+X00AxTZTKGwpwAvO7NrLD8yQWBH+TeUWlfR7VEnWmTs163MZA2NIeWft6\n",
       "Eb8te6SbFgE+K1Dai027Xj1evnIpNypdj+kMcCTHXDpTph/0zisvfN3oqgxee1EiikekxMuh92PK\n",
       "pjpXSYUp9n9rHGvQ++gdtL8mvvL/0nQHpQACBq+Ahj5WWvil2vWf331ANk1nJ7/peF9spbcBulHw\n",
       "PvxBIsFv/osAahJiv4ColFyXAR2gWqbHKXqCB5Nnel3mvOzBCPny+Yki3q45cvyoiWpud08RiGc8\n",
       "qkZ6cHpgnz7rKiKRY00lcN+NgM5v/ZY53ttPCOn8POxB+o36RjMe7cQkyjSurrb0sqEAAAF+AZ8u\n",
       "akM/AHP0qJqtkT4Ek2HLg3VfufoIIWMd0atlohYsm/tgOVCFHLQu/Den/JQCFGIUNEm4ZaKjfgAl\n",
       "khYMhzj4IA2b65F2PBegSZUj9NFwMeJLqykqagr/IMC5a6F1MV7JgNlZAqO9TPmg/2Yp7Oe2AFAM\n",
       "52CohSFSl9HRlminyU8Oe2Ur64Gaq+Lt6iTb/f1vDftfKYkeNWVXqYHgyYHXeZq719/HMSIFxBo6\n",
       "UoVL7LK0pO1uYp7SEMawFI5WteN7rtnpaSNha0NXFS3M1XddltV1oU7NBy0zq4+D9LIn5ar+CLHk\n",
       "NVjlWhWrLtRZcG5X03NAQEP/ZM3TkAVMlD/rEPVMChjxXVM2PC3aIrHlKNQRjY393Dc96pITnGTk\n",
       "N5MT30byHr5Bu5y6wzusPz4QyWbhnw0pJE8MPShQ3602Sr+PVbj8YA1R4Dl+XRpxLjALzYAXxcZh\n",
       "OPvXSo40xvwMD9f6dfYhKNZJBrXJvUSc9+CBGSKxeXXplABXwQAAAjdBmzFJ4Q8mUwU8O//+qZYA\n",
       "hBTFf19Gna/Sw1CYDJxPQsOwSycAXvNMcXN3i6sWkYf2taaL4/v2RR1kbSRGfv4JwsWdJjlA2z92\n",
       "LM/rUKmoIfssrSRrogEu76lZRDNq42ddHQfwLEAFu765na13wrDauakoR/TfamNXIjczn4zKJCLk\n",
       "LlcsmcowXIyPfCZMlcXtaEvzRX6EviLof42LmEa73/WPzFFRd0ENWuCrFcnrF+5Q+VrMqYibvFKt\n",
       "9XS1SmRFsm4oODqQWja1RtzB1yYidC2hox9sKtFVkDzjBlB5oVnswzCc4xwP0MYUQ37q84sdusY6\n",
       "ESYTz3rU/jTzDmyDHrsUTm+UmPliQcCXdyQD2+mOUONM+WB1lXrFPOa/uYfkbmRhu4oQkVW3TniL\n",
       "dGpnz9Kg/hIB3BGM2I3PQQvLsnC/x/JRrdslATrE8ASNKgw0X4o7SeksMGGnKwVHsiR4vbvDkycF\n",
       "NgDebSzOTRMjPYAZyt80P8rUpw7+KnfJBex+dr+iH7zO7FxHmLEe0Dx9cBFXZsSrfRlLN2Zkb1ss\n",
       "HAQQcL+lxvSUNv6arNCrVtA5SK2pDnardlN0PDwJjYo9FKIZzF7Bz/LcpMwCev68VB4vRggieh2K\n",
       "dUBQ188vj0SpiLIU0OOWmA3XLLva6XCEW1aiDzLfYaMJCNnDVHmC1YqlI/kE6jbOmf4tvz60Fgnt\n",
       "0YTHRY8xfFnhxf2A3VjDPGZ0zsGPR5xJj6sECZoC5XcYUQopAiAAAAFZAZ9QakM/AHP0qJCHIp6k\n",
       "U5xKxilFn//Ge+SGk5V7BOioEN1CefiOMFg1rNvUX5lzgS+Oyi6F3UmyWtsp6159/CBwAXUBg12W\n",
       "k/4SwN9Ulrt4xG5zkbJcZ2Y8rXEpDzjl9SxuEU3iir0XPUA+54vqaQKiGqkTrXv0FkrxRTlR3pge\n",
       "y+vzWDMDFWf1PjBXlpPu3XWpnJqWzna5xFV40aNll7oQ55mvdEUfxSdt1vL/Bye/DwoBQoh2xjTX\n",
       "m/gf9n0CezkGuCxspwis0AHnKq2thA9WtbzovaL1uQHTlYopP80OCgGDGABnBxSwCM2nADZGGjSM\n",
       "mz1ATEJSOJaM++bhVQP+3uj/HJYieFkIgvrKzA0p0Yv50pzO90quAzVGp6BvfUcB3oC2Gr8M9mj1\n",
       "zph9IguzBQbTEksaA/7xM8SBuEge4LHrQ4RCb/5LngBlj/E6osR6wnUcUA1IAAABT0GbUknhDyZT\n",
       "Ah3//qmWAIQV/eXCqBK9PB5HxnIhHNZq7HmdqTl7ral0UJC2xQ7jiV+EACWLwmWPibPXtG/01g8T\n",
       "0Wonk90+AJQu0PNK+Xd60LE9qGo+Z7pFwgFXmXHok3JERFO/boK7fH9BedDK+oqfshcZ0Rg8+dRH\n",
       "e1BOVPz+MIX6Md+y4frcbUfgjb9YApY/OB9/BhJsr5quCHOy/NefrhsoxfRKBAcLiIgQW+ZZKpbL\n",
       "rOC6ahqmZhOE5vmYKNlYn3qM7sMpp2lV209VQC7YseMy7lZ8gGahhiofsfKqDj2NUZAXFrp+3S36\n",
       "ykJxekTTsfzpRk/KOpD+s1Qi4hV6xqdMJJsT0U3LqYqpgsUP+N+wSD6DF0n/kC7zx6TbPFO62/Xe\n",
       "WrZ7Cn3q8Io3hXlP7FN98PqFcTXiY9M4vKTpMBHK2a/tBVMdnqCU13mDAAABZkGbc0nhDyZTAh3/\n",
       "/qmWAIQV/eXDNH2CuuiNBMBCOLNSnd4vXW4lHtJLbmvljx+HzLjuvVZLEBUQtfd7N6JpxImbN1Hy\n",
       "VP3/SlsgsJ4KHTfdt0vdwM/TmNsu+mKXyH3HrYiHFN7xtFjlXHhkYJbQ2EROOLU8ibCfmfNdN+cO\n",
       "vaGdtDapjjJcjoTrHdzQW2djd+4UUuKrtb4PeFX9aWLn8APgl9TfyoBl2YHpdXYWrHRMvZh+pY/R\n",
       "qyZSIZ+fDbOlRTbNGeOHCeK7eIOX3mrUt6YJXNfKq1ffcGgS27uORKPBRtr40yEdCrzzRJ0DjfDZ\n",
       "zOoj9oSGsqwj94DTsuBHlZETSGwfGty3YgsIJsxbXP0zcJ3wUArFBVzsgJkn3rcNCz+YTCrTV3WW\n",
       "XR+bTqoGgWpB9ZzlrfHVtP9IwsYFn96a24gGu16+S4u2BKUdT63koBrV7qFnro6D3d21TFYug1Fm\n",
       "w77jTUAAAAZ5QZuUSeEPJlMCH//+qZYAmPKD/OW3/S4DN9HlQfRdwPjEeBEpMS3tn+EORVD5dcvn\n",
       "Vxc0vfz8oBApdkRfyJGeVKHZL6sR5x4weK7LsVxwjONnevP8BPfgWpvHZHNm0W0dK6i4uA+kLmZW\n",
       "mr1belEH6K1N+tB6JTxpdEVjC6IClsDlN6oKCPaaEN3ed/rasDaB1+GeCSyEVX7YQPxahEJxKYub\n",
       "EGytXwrMUEm1NDOVfp3+b628sHUGpE5R0xHK32kb5RXQZ30M3mdsRfMvfY1SZX7F5c1mqos1zrFv\n",
       "iZdMMIQgxwM1OuaDpBbXMYxtxgWIUO9JFmyhCDPTXLTtcDYaSl3EpgJsNwUtPtCdHAz61fwN22Xs\n",
       "U1T+Y09LIcLVW8G2PrL5hZB5a+o2mGcQPiBpGwt35Jip1qazDcga4pdFy9F7sw074JUtssOnikVk\n",
       "crY2MsQSegIbkMddF0pNWAbblDeaNyYdk15c/DjKLv+jm5DFrgL+CNEN8yZuomPO4coIsS6wEnsK\n",
       "pbSBIi9li1Cg6ve385i+aeMMJa8BUz39PQ/0Qb9jqUZFURHwGZzYwgUPQEnbOcF75+cYzLt08tu8\n",
       "I1/v7qfCcejbdpT5npqVH2JkXejW5owzRznJsjchdPEX0EWsAh7h0gpHGPAjmCVglJ+nRJ7NojQX\n",
       "bZTTTKum26Kzphc7ejmW1hwu/ywk/l/9zzsb6HHVlmoJyK3rOkTZcn0guQwVxXixdWwuivFZFoMd\n",
       "p4uYe3vcePwAfA98fXTu4xf8C5vJiWgM2k9tskmJp+FwgELyxopsFvIc03l4a1J1Jd+kXMkJ4xXY\n",
       "/o3j+qd/WQzHAYK0zojQ+uNl8IDG9SguJW6PM8P/QUfnGAtODhYyRqHOj+CkxSEoYR6DpAvjVck/\n",
       "L8XeVkxq1SIhX2OXqzT4wEhuU+z2bPzMW9IQCOt5ffCLwEPv7u6LEMMIyjhGn8/k146zdCIw9kwc\n",
       "cm9U22lWrFxX1kJ4zJiXCaXkwnL83DmqnaecBx0VXWIcjU1lnkw9HFGwaCV2ar8bA6fsfoFhr8qW\n",
       "yCnK/ICY8lgGFBS7kuwKwgJGVWp8RpLiO8E6pqEqrvYOIzDsxWb9gutAKQGB0+CpsCKvqgfkyJEi\n",
       "XXhW8ssc+srG2pKhd1kTQn5w31PG135QwS5HjsD/wvb9zjDTnbx3xd6TtTkHzKDN/2thdb17lKXB\n",
       "ouft/3m3qMsQinFacisJU8sAtcighJqjQQbJsP2kIUuqNltVJcMWGXYy0WTit2LJE4t2WDNFQWgN\n",
       "tkL2kON2JG5gIkCjoMmAGgLamJd4HWVLdipulSdtaVH0kalq2KQqUtd26l7XI5NyE0kpqDaSQbvM\n",
       "VkClmwrXY4AfYJnYqUSv59EIdfoyltlfJk2yROtoehjPZ2lKNmJfn9Zshi+Y+uv711Sechk3RCzx\n",
       "fx4dGfXgUwGZTINgAlYjIXyMyeTc82HWY5Wry6c/Ij9hKI++fgd1XOOi3PWwV6tII3WY4IqZ88KI\n",
       "KNF3uxarfF0htS3MvgPv2e+GoGSacBEvLIsUpEf+G0npJoRIar8RKgFRykK1FghSDjumGL1pk6Rt\n",
       "68ycp16ZD9atDTBT/T4pIUrPqeIdhs0HVLF6K0oneh0bcPcQ0r9lSyVHSD9299WW/p3rgeL2oitd\n",
       "ILSpZrYf1s/4C8o4XCl5GLEam4HpIxw9AKExGdmmHf4OqQpEmkHyZKMYJva1rZjz31TzmpofKIlV\n",
       "3JKUJjNHYW+KY9lzAgYypVQmKV0D+jfVXpxsmpZTScy99aO+O/+KAF/7x7Vdu60aTcvMCB+NP50a\n",
       "n4NY1uJZw2H/6ttkHvLGkfanYDlb2ypEhDJccmvgJLfs0B1Aocy1RwJ9hyYoTJdoLcQF9q3xBj9l\n",
       "LfIbU5l/UJd/9uwOnZONnaP/dRGcJRkFe7cZYQJlkVxi9cGsF+fsUCCA3XO23VWfwEHwhjNCZjes\n",
       "giAKWY193raARPfhF+y0Qq1MqQPkS98WOhJrzyxB4obHZP2mEIAFWxOlTzS36oI+kbRWyeKdawhi\n",
       "H91zHU3yx2u3CLaDVSw5ws+Rw5puasvCiH5MFXf8lxEiN2AXUPmWwGG1lV/BFpDwOUgB94M/DJY+\n",
       "H1dUeVVnLgoo1ahvqUQCWBmgk6hIThYPC/Mf43bnEtqhG/uy46BVtr2WKMMMSFZ3DhzdCcuFneNV\n",
       "CecwavvJeCdd1xb+LAAAApdBm7VJ4Q8mUwIf//6plgCYGiSLEcIn4zZ5FMlzBlJr7afKpfuB00o6\n",
       "pu4aVzh2i1r0OOH+RlsNPyp/AA4BsQwA4RLgfEtmSriQXwZ79ODp9AEY+SuVcDZLPSu45DUi/xj6\n",
       "n2Vv97AITJDSsOA0Snz2XX7p7Li0T4eaAbPqIx3OyBORG+xZJnpeEB4nXQ9J5P204fzaYXlIOpGg\n",
       "ZIlkSucrUfwISDZMoqaeXHMoIaqiq+SBfKQSUbqpl+uvBE+hPOaQvZPiWKMbWzn6QO9WFYOoki05\n",
       "M+rVmIQ5xaO3FIFB6ohlO1aZodUCSwoOUV/xsK8UtFJh5Ty7+DHSavb7I67KPwJne8BeBoFyytRe\n",
       "jerr0C0cg21mGunRzDwTjP1mhfCHXrdfr/2aGOzjQgd9kupJtYH1FDuRYepiHBjldOJhlIj0Ahsm\n",
       "++uILkrN8UAJjVhwS2NPbgOmXPYhgB9qgk13s8B9s9btNAgf4kj5GwHaH8lygHKxBXI/HjH1K9UU\n",
       "eQBPwI0NvWX/tNdyG6eL227hyD5WLOkU6JrjKnC5C0VmEQpulMy8nD7aczE25b29LQ0Uf3Y+X2We\n",
       "8Ax1la9bzSISKB09GF+ylYKTFwpGc8u2+wJHXAnGKmUtPaBEN0ti/nyUG/wBdkd+Ctcjf277H3+c\n",
       "S3+ruWLyteDiOUuLKrjmLdVsa/oFRgx/+bmc0hSLplLM1+Hp6/K4EmABjtDS6vmSpC3he/SJ3r85\n",
       "/Hy3CH6AFptXFZb+sNdVfBsSKQdDeaOikhMtcJSRdLOEZqUHvqCPQnVCR+7GXOMNN+eLefA9kpog\n",
       "s+njgzkczUO8EoxOJdRcTepfgEXMh7RxfUx9JviS/K7IDv6d7L5TAWAm29J7mehXpG3oxjEAAAJE\n",
       "QZvWSeEPJlMCH//+qZYAhBokiezCLRmbjbvbC2PsdgOvm3Q2GFWBMgJlr0qBEuchY12VX4Ch45zC\n",
       "AzklZuzLZv5imAJyG/y/PPw8fzgOXr4YSOhK4/qVtXLzPkixvMeiensVaElZP4rgUijdUr6iCyT/\n",
       "X4Ks37miOlZv3HdcP2XZr9XucyD1YDlakop0NgR/0xzSDVVUab57JNeTzm2UZmOmhJpguwx9BjUa\n",
       "t77D83ERHJ8HLMclcqoeHbp//arDDaL9/G3NNy3LLLGG7VWQOqxgcHPbjJ2gWEmo6GUz/nLwLjVY\n",
       "ie6B3OKf/vn/kgN2o0wrl9CpvOPypJdqVPRPnt6OBqvSijPtEje57zThlFWFISRJJyHwoSepnLSY\n",
       "/mXVW7ePBB7uo7M+A7D4iRmhHirqoyoJ7NrGkmfcBWWicPgXSrJGG6As7aHq+xkhObcUB0hD5ZSR\n",
       "WA7qTOkD8e4vdmcYX9r52GCxdEdg7Zztxt7oR6ILAP7pctz+UB0/7sgWRQdeXs1SsXgM/thiUBg+\n",
       "GhrQOH4UVt+klcUQajJD+q60OTr+C1q6ubJuPfNx/ea4YUtHfAWsOqZP0CJ9Q+PrEdEyeB/t8vqw\n",
       "Rh/5ozw8grIlHigiu263tjH+2CA7dawKNaoVQQ8rOHgI/nQGWIjp0DkrhA8nEBsVwbEm7rHL1zWa\n",
       "I1XBnXkSWymHcT7WSt1D8fc1SVSPE3Z7mIvOWqMCgnbzEOdug4EE4xP5yuHmygMxzesH6/HRa8xo\n",
       "+zCOJLlvxFhVqwAAAmBBm/hJ4Q8mUwURPDv//qmWAJhKLynCvM4DVYKYz1nxG4Vh2bdtySeUPIkd\n",
       "ABlQK3S7aibx77u+qJbrkZJ8MuMRef8U8RXQ0v5C6O9FpoRZyQsjgOVrnWgwzNINrTyDl/x5O579\n",
       "vk6Uj+iUvek36udzFo+KbRzy5ftS2cvSTCZ0OnLNPiFhf9efv3PKacXN04gvAL8yxBQSZbdNTnDn\n",
       "HScElNMuvTvNDdD+x6bAAlUT93k8Z2sqys4Bacuq/KmALINc7o+ymX6nLcVLsZlPAb9s0qqkyJdJ\n",
       "ad4yhjIlQ08dCa0CdK7Wc/+IveF85JvdVgkuoqOLkRbZro4NClD0U6fD98U0EWdlnm08pd69Mi4l\n",
       "NqogdBSw/RYTFDlF4I97oFBXCW6wpNyAZzzc4qE/aUt3zOm5rKRJ4WZO/K2qIuaJSL5rLQ+HAGiC\n",
       "3sLE7dDo5DnBTCqv0gkccgAkw73v35rne1r16mdnJowTWCEVoDCMYTmjWrhspqEbIrlvDQiVJl3d\n",
       "rXmyLxYRP9u4UP6F7qO8ZI+y53RiwfYrJkwybl1nv48YqgMg1O7N/fqaq8u2wRfnc1D7YO3zhE9u\n",
       "nfBjLO1YVX3WDrHLsCx+EjrH/te+t0hnBwdJz6FetN/STYIORM6zmAbqmRyb9d6HBh1cQdrZq1Kd\n",
       "Q05xGZkknG3y2cSHXaWIqU+/YhAPGeYMWrESMygTd92L/q+JkDvOrQMF3+FeqxhhgR2V5vKqhWAa\n",
       "i/Xviz1Oi4lqdE5n1hm3x9CWLOiU7BNWnNvu4A40e3HIn7i1eX1KPEGmdJ8WrpvoBM7DkQAAAfYB\n",
       "nhdqQz8A98/bNQ7mdKtwSM4c6XQr90aPFAoHkDVmKR2GdYcehADHywbvug6gj3gIVlu1Si/ZupCI\n",
       "iyGgBHmeyLIEVyfRDoqjUzZuU2Lr/K0O3eOv8Q4Zlpq1Inm0qOK/39XcBVYjLcM27+klqMALlVoc\n",
       "RTHkEHNxj1NsAtgyRf3u7f7XFVUdWsViNeLTHN7UaOPo2QW/d3Ou7lU3FWIrEngMtp8Oidj8hdni\n",
       "OohP7y/wY3bBlZQNoUnzijqq5X6TTYSUVSYWPfxNAjVzJdOoOJnVimj+samYfL+z0YKNUy8HXHlk\n",
       "2mWeRGKBSuTLD2mzi9Sq7ugvcyJym/0NyXYcnh05kGB6ynDGOj+aXe/ut3Kj06l2Z2v7vZpTSU4Y\n",
       "3tuOsd9BlHdlkgBd2Ugxxm+8CR5jh8T92aj1C0NjgEERtXAgJhC7V/wX+cLcyMb6LBtNAFfs2PRv\n",
       "bEYrAGVZl5N+Ln01OQ2Q7YlDmM4v6gB4RpT720xTL+mNiLEmrXZbO8DDSA8a1N40Vs67WMcAldlr\n",
       "CHdDrIZkCcPq2d5lmbu4Ryq2jp0O1ysPHSjaTEzXQc9s/kR4n8/zQ75UYiaq0sG++rjdJt+FGV5J\n",
       "Idf3fvF8SMO+gIf59zCY5kZVmTGOAEfgAjAy34nL+L05PxL70toeWueAAGLBAAADTUGaGUnhDyZT\n",
       "Ah///qmWAgHiHF4umdyz4Mx5+UNSitHpzU6uC4VMxmdSh4JknwoOZ4OogOh9wL9yWTGz4oINs7lu\n",
       "AR1zSmYtN0G706A1Zf96bcOgVxhdtQsms3OqBEWt1Amn5AlI3J0S+HEqbKXtBuGVoeAtBgPPLE9V\n",
       "+zzzDS3gO9WVySBEc2D/xOap8tHC4gfSRoyRvsl3Piuh1LmgFEybi+OoqgRomfFbJBfSJlyuM1Vl\n",
       "ieXahKpoWSDGgnjby2qLzpCPGurQNBHSkR6viE879BxGzPCkm4ozh665aOrpdAgj1ZiOMrdTXKpU\n",
       "zqf6sfffpFP/GPMz3WHP2Y6yrHR/G6tJFntDH4DECd4SjbmotD+gny3hDjgRJoAWNtE6rOVdjELf\n",
       "+M+y1Rvu1gm0UlI4sVVsmoHbMU2r7dZ8je6UGfueCEwK4Of4Q0+3nw1SuFBATXW+3528a6BlLZsJ\n",
       "aoPSNzLdcjKlmroWjw7CX9ch6gMl8vtAQTCa7QrR34jbk/l3I2pAJz01sUDEpoJKC90kHy+d/bKy\n",
       "DwGKcO+9htc9dEryV9xvp2o4XG6xH3mjafylwJ5x5SHb1sT4AEB156w4zPqQ3TFRlCEyJK73xZsj\n",
       "sxHvvBgevghSV5qlpasIQEpvIG83NHEEbgS3OKwCiOuDUnc09V5cwcUbDAU5mNqBUVQVvCaQJUy1\n",
       "qz/J9jgrHemgNEYIPB+9WSqy3JATgjv3S1z0rpnOYuZqoDnq6RK2h6vLT9MOqr87TI1wK0/rGbHy\n",
       "97TyTxC07rQi7p9SKYAfmH/FNPffcXmOXBrXLRzcUuGbj2FqXm9kBPxwpErMLNXKvaVRfEPHtJxC\n",
       "3NkJA8Z6gXNdDXlIY5PYnLaSAjKK9ULnXQNz8Pk0RH8EmzqJOcUJcZvrXgQkfznK3RPwKQnHwh0L\n",
       "6L7RsSRe6fVJqX6b0yxqGRcdabillGR/0SQcuP2/Gwy86/wLwjxdFwQw/BTt0WyblyUQOwscD0Fb\n",
       "45+0NOT9NgitVJV9bakrSDKFgHJB94CoGuCx7XdzrlyYp9DCgvCmQUNoYHxj1SR1oLQ09/itcFtg\n",
       "4DGPPn0IgVPgc8WOxKQXtGOXu5++0qNDAkKUm+i9jHlFsMD4Yt8eAAAC30GaOknhDyZTAh///qmW\n",
       "AIAaJIsRwifcyZpJ6gfE2PxrBJbo0B3SOBD+zrJUvPp10HiUwAJko9gzI0zHL9nM1hiJQSFa51R1\n",
       "mbJS1uUcMfi/VlokSGHadCDQgAEh1C3OkeWDdopdthemH9oEb6RncorGAx7f0hJyCvzArf+oNueQ\n",
       "mw8GPKPhEx13kzuanaQZCurGV6LVMPy1bZRu3oBI80/zIhtjMbrUnO4VceiBSRMeq0dVdoDCPZ2a\n",
       "VIAZyChfhD/EorSbQPN0k2SbTL5aiPgdvecKrWugw/mRV9s2ulf/ycrYqq5LKDaGXI9mgSw6WPjN\n",
       "q6/WdbSnIpNqsC585UC1M/LuaUVswr+61aWLI+97AAeOQ0vOr3ZtP3gKugu3eS7JkxFe1EkCv8XX\n",
       "0bS3oOtQBolaFNeFJrZkP29gmsJ5G5JqacyGHjVMcaNnQ3qhUL+6WRnT9Yit2b90j2iyk/0Z1v4m\n",
       "1BM1ksVeuIMJQm5gvhILFpH+AX17yv+AuSbBte7d4eTyVqg7dabukgtbUH+8aT7LC8gHbm7Jgt9R\n",
       "I+1FlITG9XyBzJuWC/I9L1VXv3ZzEYddEl5JETrZk7seETKVKiiAeL6/ZGz89wM9d9ykybN+pm/o\n",
       "6tHt0OJs/l4IEq0VEpua3f9OjnseRvWxEoITgueZiCEVT1f+msF5KJrtcqMREi8pG4m3qhC1VSJ7\n",
       "+QYTUncno9OuqgErFUFw5xGr8Cs+FsbIbrfM9KXAiZnKmCzT+MXZG6ft6mt/UM4SM1tC8poDiB4C\n",
       "dHpxQtN7P2A2B3ni5PI/xJKcdqyZ1Umq31+jmlgPrTEZe1TEZzeOEBpOPvsUIKDsMyqZE1lnx309\n",
       "1drJuYXoTwNkrANapyIbPpWm0Gsxq0etGBk1q7+fiwqEq/6i6CWimSw0xhKEK0UaPe3qi3UO8UIA\n",
       "2GDidAHyp8+hOq6/fC9+vtwC/BCqlg8gk6xedWnd4CLf8HmrswAAAoRBmltJ4Q8mUwIf//6plgCY\n",
       "GiSJ7MItEPfmw/gYtipkOsNUDEUvVt8AhFonZypYIj1MIRKF0J+04kdt8Jg6TYSDJLtAdOSoSIWx\n",
       "pNgieqcGECg60RmRJq4wziiQ2Hra/zFEAkDP+WjsvD21rA68ngVHWZ3hT5h9/635boQ99U0p59Nu\n",
       "13oXQI+n+6XyoWKt6+6ntPIbcln+8ikIymIG+qCVauVjlSlOwDCcD3UaWKisA/eX06HbEczWJIBs\n",
       "yIs8BslGfUigKFqBwdPuFUmaVk6TbnsOTmuScEhuY0FezDqoV9wCo0PxLljFzvYcs+yiTulhtOdL\n",
       "WUhzZ2c8+WBtYPVN/CUBmx55O6l0gc6Us8FOmIikvNPyppiO6B0DwauF9nbfxrLu4FS3FykwkSHp\n",
       "HoARTvLmTe2Hs7qoIU8nXqsIrvnfw5BOSgBKk6L2NygXtI1ADUdxCNQnJAMUnFxNVUecUVSkH+yc\n",
       "9fi+M/nMHRXLGSKLkd6BJJT4IzRLibKPQHi7NZyKu8e1+RP4kyN8Tdw+ybXnnL6PujftIL5pCQAr\n",
       "n6zws8wQkI5EdJdXss32SQpEvLf2qNE8QqBWDEe19wTI2XEKu+UV2ZQDeD8VViYp8gD1D9pTrnma\n",
       "aJH+gjYng/YmoobtjMeIbRxYMutbHW5/g+22ZJMj7FVHySMFJxpbA0dJIZMRkaBq3HwyGhKNg0UV\n",
       "16vD6edipsQYfMyDeEn8upQZe/Os95kz/nHP5kFldpWALuTirS6ASQeGouFiKjva7RczuhnMeeR9\n",
       "ZSaYUBvS0r6+zdVxuVEH1WY2ybYQ5vT5EaK2dIdMqBx3KWU8QqlyVaWSoY4fR/X4PeTeoDIjyYiA\n",
       "zAAAAmZBmnxJ4Q8mUwIIf/6qVQAhBxzww9TrkSVYEzywOPMHTOMEi9oqgEL61IWdia+AnYDVeYJp\n",
       "Sns6QbEpH6Wxscr30c6XZfg18V1olgB82wGJj1hmbnR4hsgCYPoPMACcnX/HlF/v1i16UXjPnf4I\n",
       "Y8iHb4dB9XkzayhFI7wxDSlkWY64PRXz7i4hn06vQqVnWWnrGReZsOx84CGudaM2/0HwUT1/8tm6\n",
       "woCWq/xbKNQTFOmfzqIBw+gT2f04NDohDEYzLhWMYCh6VNbVHOWl8Vfs1hJw1ZRuEWpqHspCnure\n",
       "tLAKhtlYHklmTf80CcLstb5FNyK4pB7izXmOuhEtnFY5mNo+kkwTccOA3EG48hs7td/8AcCtnyER\n",
       "OwFViSfp1XUdvyURreBt/C3mwVMr26PM1YKrf8h9vSDZT8CZSo2zgdfhFJ3gGbCkXkrcaROU16w8\n",
       "+X+8WTdRu4ixl4+s9MvBWG5tvQrLymqh6KGW/d/WGQyNf1cjn1z/8KhDu62+obQjRukrxkrLBJj1\n",
       "POblOg4BGReB4zUumEwyixR9RffBAPOqvzcc+MUXlQ6s7f5Yao3s4ngjsJNEtsr9nHWK0O9bcKbF\n",
       "YNgeujzbZvw2ySWNAoKVCTXGJbv5JjKLiCPG10jgkiVD5MILg0c021zCF+zNJYd6Uosu9/pl1K1x\n",
       "q67V6vgaSTNhQzQwlwLO41hG7de+eJlKJNpzNMAKlf3KRb3FGwtSZK+JJ9zEvbIofIkTiHVb3Uqc\n",
       "ClhYEu6iHNkGrjEbDTJIrBcGqw8KLA0gVq4pFRv+/2XU+jvVQY7BK8WWDr0RGu1DnwAAAuZBmp1J\n",
       "4Q8mUwIIf/6qVQAnBxzwgbwjRuO/DI49ww9rqECemFdWpun2nbwurQnjr/DVH886kI8Fceb7m42/\n",
       "OmrMkWI5MPuYCLHdboRoNtdh2s8v6tyN/UNnBEVPxOc29CAQj5yNpUfhMJS31yUXYx+aT9s58hNo\n",
       "kiZkg8Ryc3ypsxX/Pc99+kFIvPq/ecAV077v4pbSZ+l3Srzu+CrpNdW58bRpPAOM5aYtOHeH4pYi\n",
       "NovLejTg30jgpVFeRuGBZG9LLIhA6d01bL7KCdqEwEVJYPpcBVCfzC6Nw7KNISZImjSnTYEtish+\n",
       "JIT33+vayzaxvrDsRkOVHpZmGMSoD4EwJaSw+J7ebfE7XQw7s8vlMtWe4wO532YC4qnHvDswWP2P\n",
       "A4yVXtb+W7CxqJWN8+my/OHIqudN9BCzoMKIXeD/T+jmsufnBtKhblUjVsOqAaHyT+75lV9VCBmI\n",
       "oYzko+XFQzGBp5r1/Hv84psrCnm1XYdDd96XfwdZUgcKbR00cQ0fhS/KdQtGF3HdK3/e0WfjII7l\n",
       "f/cYzGUA1hhNrZhrMZCdk2LLXgMt9/zhrskHTo47McxQn+BSakBVvUDLvZQAnBEDEWCF2uc8FsFd\n",
       "28UtY8zIgG9n6YfZoso1zTHbR8DY9+ANsG4oBWvBGlt5AwpxZ3bJAlArn0RF4xuvjiyZcoIT3lu1\n",
       "XiL/1NIL7+FW4bAaO6gKl+iWMD2RbABTODFi3lRbpe9wW1whwaPkRHGctbg/8LfzT1s0yAu3GBUD\n",
       "Cq15xgOGUGJ20oGkvvFfoo7gm2wnhslIAbH++s6nx+8wc5jta+x4fhpYvybrb89XN9Ajko/CKrTO\n",
       "ZkumMO6DU95XkV1xDYEEiAD9LdiQt1vg9P5K9H88b0XMQlGHoeUSJfJtJfLAFqHshkj1zZE+8yqq\n",
       "hq/0E0zDmcC6DUszqa6P8fPeQhLI2/jZ7/80a3tqp+mxxyGChiQItW8zzXzySaAcrBd7KKfhAAAD\n",
       "4kGaoUnhDyZTAgh//qpVACEG66RA0TK2c3WJwjekG3LpWT8hHSIBCPV0n69Pl7293tjLQCnlBckl\n",
       "Fugk8zHz8eRi+xa0oVgg6f4hXXDXJvagvMkVQ/TERTqaxZ5AZ2b1A4EqusztA3tsuHRwMYuBLQhu\n",
       "jLleeYCtWdCp36Li3o3+GD0Pq+WajOV8oBlB9agJMwYjyBIlEK6PW+W39MyVp4aXwUouarYKNAEd\n",
       "E+kzy0u39uss2rkmX+4yfY+7ByIbUcMI40tpmFeraoldgNRiHde0G/XnX4+rUuVpKAIKBLGJe+Wa\n",
       "M9iZpdOLxKxJEhssK0f+j6tLH/IdNTRdPRaDAPXa4KQvkHgk2IVf2+7PfEplJmVqZkayLByvyOzG\n",
       "pkP4EWFI4Iy//muHUqnp5ryUs0fkwPZM0bt7B4+T6adPdWAI7LF54/TtkODc3QerH/h7539qPHax\n",
       "1Tm/LrgRyQS0VSY9kyaSGt3UzJjQv5bGRQCbKjOZb/HW/7fsU6aVF2Uf29Gwyi9CWAjG3ocmuKRB\n",
       "M3ESeg1T4YbSlosvmblWHyhYtgmIHPbIFnbXgXmAsh0BGzRoZI3UfPegG2QvCW5zHORWrMSL2NAY\n",
       "SphvPc7tj22n/Nz2fyFCKM0cOadj43skIrE+X6aGfUNXuMLSpgrVwI/gQxnFWWIXpsml91bk0chD\n",
       "P3W9j9GC0eh0epaKwy4AtZ8LPUS/yxi4xDafy1iEqox11CGIqbWGjpm+iar6oMjjjwtiDPQJtItE\n",
       "jhyW8laGPaoFXTel29oEJhfNC2l2H4HYWYkkzzSyikiQbvhIAOTOpYwLJO/p6xSSHt+dlOBjF2eQ\n",
       "ab4m5+EO77t5cmUsIstv842Z7xFjqsgpFqSM/Pq96qstB13n1tH6OxPxZzH2v3DnRoG33Eh7UFh3\n",
       "LULZ10Q1Cdbx5ev7yyoCsZvPnMGPMybfy9cVeoQwdrZFRmfDPFbUF5G0l7FKYn/2AipS3k/jXHFp\n",
       "DuErtrgoj5wvji/oeV/xJZwlSfD77DehfK6m3QvZmAxGUFwnhqu8iH8wOP917l6El497+0UGcQyn\n",
       "7OWeRlvJXw8vYQwgozTD/d9eMPMHIRIZKO2Potnyhdz44NjMLtpLM5FCNQDI5qOR1wQ9TI6QW5/M\n",
       "nIN8VNpG3Ar3yCHkqfVN67AAhN8WVitV4LJ9xPXZrEzuX+vPa+Fjc/0pjrCzMjA6MJKKvRM8vQ9b\n",
       "8AocGmed0iuHyG1enT/g2BrKNR6rHyyv0gtGZ62lOs9HgQLQ/5QPLP8TTuq0Kdv6e7SAMUUEXK+g\n",
       "e/fR8+vC12+ByxuOfoDnH8Awz9Hs3B6VQ+IAAAHZQZ7fRRE8N/8AXRPWmvGUy94zPEt5FmxwkJPk\n",
       "+Hrpj7fhiJUfu/unCp0HyfoC27YyOzRlHkjp9HE/sqdUiY+tQrDbE/kCy2w9XNOrABwYyRHTmZ1M\n",
       "RD/h/w4dL1qS+Bybe1vk64GAe0PaIi4LQn5af9Hd3lvIRjspmpP+lb73poYvUU6MBN8RJH9mVxH1\n",
       "tNdBgmRwQi+Dn9tS3hbdCJY+FMSlqvxKZcSFH1u+tvHv5STBybw0RCcZJch7s2XQUCOxj/PYAlO3\n",
       "Vd4WlY0JY4FS6rPLR4LdCjChgoRbQ8z8WtUnX2BVL1ONP3Ba0MGHcOZv5DYvTreH3DVvxJ+CHzqp\n",
       "7rooe/i+xWtM6bB+yOulovZwiAJoGM/BNyebMtqead1uzPr3rQ33Tuw1jmgqJ6t3yTYjaDMrYbnU\n",
       "eUY7XlGSHb6A9LkqrEoM/w9oNk5yb3Gs0ONgPQJem6YluUIiUqOEntY/IYGCjOhyDSowumnWorw5\n",
       "lAQyzaOLSIZLWSRFikfYBbat1XcUPLG+JDy05o5T01cMLrGEAlYL6qiUm9cEwgkLVCJTSZHzch57\n",
       "cyuaosun1f8v8iWzcLT1s4H0Bg/R/EIo09wLuZLucB0uFqjd121QOtn5DcAAI+AAAADzAZ7+dEM/\n",
       "AHFNagAWN3//XysGo/FvM5xQf1fW+20Wuexq5wgupY12hGuk6nb37n2BVoOKJk6AOn+uQ4wFw543\n",
       "08AJhRzL308E30XfAzl0wGE0cOcLBs7MS97bFxZpxyLqO3xjhLElNEV2QRLND8onWtHB19QA2f7P\n",
       "5UyzHVs99fKpj2tFrzGWy3cQj50xKZUSAccDdMSV8taYlMIhmNnO0V+7rbD4ZYKmhGe8jtBfE5KV\n",
       "eMdlaPXc0alou4kUKMOCzPutCDYPc7fuAuhG3uGYLrpxoV2W7Rw5B1DHn0nhOZfAd8f2wJ7uQHxi\n",
       "LreMIaI/hhgRAAAAhAGe4GpDPwBJbiAi9HJ6t8tdTynugsd334yvVy40JLbI2Ore6AVlv0FxAeqK\n",
       "OT64jRXDqv9QV6bzN3B14ybcrphBu9rmQxsBnybaXemQYLg9tCJP3E0M3ag3xdwAtMYmH4YEMXfl\n",
       "glw5+9dDl6pdRYy3XI0jJvIka0F7OLjNm5H6Ueg44AAAAhlBmuVJqEFomUwIIf/+qlUAJwcc77fe\n",
       "Ecu61J1OdDnG4a6vF10TU1U0GrTVBEt+gRd84MmstkFF2HrlrWl9NJgBwIbohNqTdp9aTDIPiqLJ\n",
       "ms967KCAf+cbWhB/vGUaE39eijsT76+3vQO06lMe6bQAN5tzeM7q+n8CDC2Mnv3grEPtCwiWI1Mu\n",
       "TghIaCAzGqxN84fqT91W1bXfsRIc3ITYcW2BycQETXB57DfoqNEYf+KGdV6jfUn3d78F9/NZC5ro\n",
       "//gIMm90gT0zTFEf/u4GL8TjZmA8x6O8H9p/Lj6LTyapT2wRS8XqbCBc2XjeYNHKE2Ff15pi39Wm\n",
       "EXuwkMcZxdU315LvCH/m1Io3GT8sh8v5Knh9tzW+BfevJ4e8qhg1+1xH+GKrAA/uQH/gzwL20SwP\n",
       "JZHygH9/XulZxH/9tKtt38tiIMkp+dIqvxreYsx2MVlXV6M4ublQRkDXCqKFs81wYBCoyRFsQfnm\n",
       "awY8kkGx9y1bCYC5KhW2Q0XE/4bx7Sk70j/F63KYPD335jmazQm4sx8QoUUmcq/7CPVnQKekTUWU\n",
       "o3FE2lP4f9QstEv+6Io+vA9YXHdHw6HbDVAD0diu54/fBLNfkBZp621nm5YhBs7oCIMbzhZsskOs\n",
       "4wonNiB2mb0Z9k09wEq2K16/Hz7l/J60azOq0SfLoifS54j6NhG8f3l6hAoGLCZcvE11vYbHatuy\n",
       "0pEAAAEHQZ8DRREsN/8Aa8A+T7aBHehyp3vijJy8WQvVm0G4Z7udHTNFbONb8Et8BYbOhLMlR3Qn\n",
       "lMf58idkdf8jcs0/OIARV4YKpF3BuH4xLquPjt/9v//kg545LZhcaNtcJD5sD2xoiluSwAWUJlju\n",
       "cTvWubigjnLekjRW8Y8G+Puuw49350UbqG0oWz1EJf0l3XtE9X69xDA8zeU0DVEUc4x8A+lAVsSe\n",
       "LlJoVPClO4q5zmgIn2+XiP6LEttRSYRp9FGjxrcg760uBhmzxg7/9lwEKGcQBU9gfWXnw2bgY0VE\n",
       "z40RQ1Va93VcxAaBs9hgocpJ7/HiNkM4i4yLnh+gXX1Cd5kF29gA6YAAAACIAZ8idEM/AILjXfNZ\n",
       "Dro1b6hgqm4uoaLEXWPZPTBFdsUYjPhz0vfkMkNbcwpCAbY7jvUU9vpmrHSFQH3z6OpIRuh8ACFy\n",
       "PQh/uGopojoYaZXuuxxUoXkAxBr4+NW5pWwDUOJ/UYS+fM7kVPf/LSXERnq+hRZpVbZk52oMiB7m\n",
       "cQqNFboDwI2C7wAAAJQBnyRqQz8AYf5Dz01O/Naem+No+wTeVlMVaoSpqU1nCn03n9+NP2HpfNXr\n",
       "94sy9KfJoLo7cbk/ezk5Zb67Ny4B9TqUeyXyHcD8nzxLLk+RWOHFo4h6qEo711oH1K71usnwJW/n\n",
       "38AAJVZEoxOVIeTafHpUqRwOzBnu7qWpGfKG65ewdPVe3Zq9+Alclv1SBTwtcCphAAAC1EGbKUmo\n",
       "QWyZTAgh//6qVQAnDHhVvOFl+0cwkumRZdZt2SYIlC0U+0XAjzlPcIynfA91INet26bWSjsm5uFl\n",
       "EPvfdcS9Ae9IR21FQ31nkPhZI+4zZSYmUkQzfxgA/KhgdsH6dg+zSodhYTCRexeGTPhSg462gqJX\n",
       "afQowRLpl5LKf/78zu8BVor5zvPgeyU4rXkWsOBcVTOKXJr1ViE7ssg3+2iETUHZ9oCUSD2E8Sdi\n",
       "6eSajc4v/QVe7kJ1BbdD1BWw6zwq9E63uqQNxpeKI0rAW04CANI8QSuJn8E11RbjlSEth9UASboC\n",
       "AbKxFICI5RFrU5PBlelsM5rnjfn7k5+JLDa5TR2aWSrOhUxVbiqtWBTiVcI3PU0UfLR5hQXppFq1\n",
       "yaPhCQ5BpsVawUvFutMU6FbmxKqQUS6+J3faQneW7HSIj69pL7lgn6w1UaRfidX5KpCI1UdmkkHA\n",
       "vXlGeHt1Oau1KJ1PwLh+4/Wn///nP/axD2y2ofxrbkPQYFQABOUTKFsI4oye3qkAeu2JGfzZKdGE\n",
       "2MSzSjuRhQVc7yqd+WSfSm56/Vlsmi2KMkXpszsJeG2/OZ1r0/SR88tPrGUWiP4j170C/R8YO6mw\n",
       "Z8LRRFpV99g0Jt+YpSYZX5nz1KxgK6T62FKrez/o79U9UTLGTqunodqfy42s6D12l0EPixvYjeww\n",
       "y0S+wbmKQ5qD/dBRAJxJrhNq4eLzD04Ips9+bXWsvh2pK43dB3w2/V8QABeb5gR6/hNiGDG4NQLB\n",
       "Izq7NhxrC1KtuyLlWsy0uADo5hIUOFGISX/+6BSR95EP9dwqJiEQwHyjzVKsc7iRWxf7f1b4d9h9\n",
       "vvc2swBBI13cFes4xttDcg41B6JycWzTWKMxGtg/6+XCPad/jjjyUVi9/wp6nMbergCTftjXlViI\n",
       "0guE3PGFR56DJ+keYA3ePSHp9FtSZoCUpWvC/f3Ld8FVtBkAAAGIQZ9HRRUsN/8Aa8u3J6UtvQ/e\n",
       "z8CsFSpmY7PqqMQLFqC6H0zSvSqyYrpymFk7lO0IS7qmrFVcYLzx6IolT37OZotOVuXPhgCG7Xzl\n",
       "F8FZt33zDwDY3cVkY3yGKX/MA5Hct6oYAMJMP56pL0yANtfSO3yPSqHYwmJ6ZVXPaHYwG8KlX9pD\n",
       "35zCUl/HRJKTxVJ467MbYZRGlkt1tustO92C9z6Osx+zmTg1lgfoVRUP0pKt2jPQ14bloNtuGMY7\n",
       "YCTvvN8bsqR4D0W33gDAnuO+DsTglF7VG3gDB14ZmlzbHfQeEQ/v3TgG6dVj3e5DdSG0doVYbA/k\n",
       "3f6uoln4E/KS7ds2WsadIN5NDwfVdoQBAL3IIWwsVNeuyXi1KseRxLc0A9xjvWd0E+F1opcH6EYq\n",
       "zGXM8tV6sjryhdJj35JBgfLpWEgrh/V5gzpRnnt67K2GbQH/60H3iqowthCXcIT8PzsXcUigk4g+\n",
       "gN+YTlap1tRCAmUmfay4te6ovxvsPo5LzdO9OMgAFTEAAACeAZ9mdEM/AFQk1g70l43akLNA6oB7\n",
       "u6L63+0w/zdjMAzm6dsNkeyY8AoEIM8BzYpCKQfbn3cjv5swZ3fN3G0gk4CiXOCBNXoQn79SnNrg\n",
       "MT2tWPyc9VC1SmshSTY9CeeSNNyFbM72oWYBB7i6Dt3MQRrAOU1Gj5QOVQKc+QKcCG3n0pVjj8z+\n",
       "JSLPxWPh/JE63e7YtTmz/c3knkBhCHgAAAFkAZ9oakM/AILcZBBih+e11lPvZ4FNxA24+6/HGv4N\n",
       "ZFf4H3PvM/EiAWJv1B1W71AVfkv4x/zaUACwpxX7pqEdll3SvsJYIuFL0k01MhTUpeHf/Xx79xgJ\n",
       "lBUInG9JtKSSVbja22rSpgGZ1coaPmWm+hzNjpNuF6Olk38WrPqFuu365TE3IhxtAYtgpTCdpJ9K\n",
       "BIocgOzyuLE5hoLNOgeAvZeeS48a99ed+j5NPWJR4dXqsOA0Vpe5/VbdGA/Lbf8Y4aA5aS9Sworj\n",
       "V6AEiS1/W2YwgDs4v/UjtSy532k+xjTRO5zkNrShxd5flSHfvRVZF4KakxhZjtgEfrsgowL+oW9d\n",
       "q01TKH12TzQTfHDCCHMfxNDab4WYAuoJ3PmuAy7lxHT6caXcq3AuyChb/7J0kgIQBOsS2WAWe7D1\n",
       "YK7BdIiLmm/VYo53QpX9ARO4uh5RKjS4QXbo7M7iB692aTTnq6LaHdAAAALoQZtrSahBbJlMFEwQ\n",
       "//6qVQAnBxRQgZtNZiTKDcV8jn+MjsniZRqV8ydgAtg5NKMxJFsmnHQ/BVGWxgbG2KVAonCTNuar\n",
       "KwQ5LM/p4SXTKqM+cxa75vMlM3FiJkUu5aQq8IXaXXrPNb977j3ltIvIz+C+JOaqPOP+sHb45PCv\n",
       "lzDwf8Y0J+N4sxRGvREoGng00RGbL9kpelqfG4ncccZztGBDzlwitraShYB3OLgQzfUQuUWuihQr\n",
       "lRnbn1J6L43lD7BET0qbOqtBq7a2nBhzkHuqyZgOMiLkfTV5iJyeZnV6v5SqjFDJULOJsmqcsxzg\n",
       "zwC/rpHV+/1mnqUXTAeap1kq2UBDtV88sHeb3aJmxM48ebxN2JtmE6rriyLcHrmpEqcNPW2ieKk6\n",
       "CDy19ur1GQD70feTrpmIMHhGJ8pOi8RM01/zoqb1uzGd8RRytPjT/w8tv43TKL3/MEAA0REQ4R9u\n",
       "TuAYL0XMXGKi/LS8Pa639yz6CRhLIlU5rtFbCLc9K2Cjzss5Nv6S+DcyZUW/YqGd1OP3kExCb/KX\n",
       "4JS5EhUQ99aVD3DVIfQVASsWU37lrijmu3Mf3WuMMWr5jWNQ8kEjYdB3QyxUZzDkL+bjGhZBBycI\n",
       "RCjg6vEAhTll1fga0c/nxsMf5Y5Qaiq+8BSMGHVbR5Ycz/jgyOifzFmKksIdWLF/VusExzQW2ffO\n",
       "z1ndwkCrPzpELbUOeMQ3M+ANLSA5N3ULecMKyHqPk6NE4myQG3Mo0trsZfvtB2wu8dCu2Kh3KHqY\n",
       "/Xyr9aJyY+6q+WmebHCzmGs/qMIIlHzlpQb/dGWqKAhufPVbBzR+1d6i0xPbrCYwW0pcpZvyOvaj\n",
       "g0DYQ8KYCeyZ2r8TXuJvaQli4+1ys6x88GhftPck/8lsGX3NbXRbCHhntAEzR70DCN2YJ/hDyeTS\n",
       "TgZRrCFTQjn1t/ag7/f/uY9wMMFQIbrvPju2a7o8mkwZIUH5T7bkmmc2r1ejvGjVAAAB7AGfimpD\n",
       "PwCC3Gy0Irm7a7H2vxsAqiONQyaLiZ2BtY8DlUwoz0gj1JhtFNo9wKYfC8V3F8Pf1MAqlbHOZKFL\n",
       "XhkqhhDJHx/9KcYvwtPVxga1eLU0ERxTVEZ9FO7EAEkju1KkhNn6tysvpOGq6CnpcmxiyC3RKRVh\n",
       "coLjqtUEtC1IwABOCESMz6YU5KwWYGczvuWfHgvwmEJ8mGW14DeLOGfUPFcgYPEO2zESiUeimvJV\n",
       "OmaxhagxKjFsztmUgqttKP0wajVFtQSl6WIC0FxU21nk7gos0cVFbSAdf60cA96cVRmO9IKFskFu\n",
       "k5BHqT5Rh2BtF5m2jpC+9eSb19gnauiTa+sFEEEttTeGxcVKU1MKCGZiDeah2zzINvuGdXsLTK2c\n",
       "c/CFhMxYh91kVqWHAv4okqAZ/Yfwv5Ou07PnOec5SVNMFknKly3P/Y7V0c9Wkf3/XhdRq9EELkQL\n",
       "RSoBMMNksh2PP/puVdpFmrWrn8+JaHq2pLuq2PoY0OozZMhVNvbPWKPjIgUH2eEHE8Q8tMlXJ7Up\n",
       "7Jxi8aN8K+OesKddine6+SUkPccvQME4m0rkoh3zo2YUPcGwOjmz2B0cvC7Vk3Qd4H0XunvSci5B\n",
       "0vFiCdQiW19WUefygjC/WrzbluK7eSKqouHdTgDAgAAAAwlBm49J4QpSZTAh//6plgCYGf2KBN0X\n",
       "9BMZzMwBpcSnUPYsqZUAWKem7FRtEiNY3LmfIuH+6s7gn9uk5fLT0b7iDde/+ujhh4qNtcciW403\n",
       "YsqTjSt4T0Fa5ZbjMGh7d7nznIRWSb4FhjtVpbr+WeN7WGqhX62SHZz7L0H3z91xf+R2p4h7bkZT\n",
       "Bd1U12OSAXl7uWEqdcSs+AkcFBkebS5s/lYe2xUVlmSrUbXaB14L64cicogqBU+h4e7YII2l7+My\n",
       "pZoPsxdjFNuwNPDF7tkaJQfq5VFCPqK4FsKa+j5iFVqmFeQ4zopgOwc3BUuXgOd/BVviZJl3fv1o\n",
       "ogU0XFX7I1Csdi2BiJubgm6AmKYBs6SEVojFL9Ehr215wwyM8nhNGdTia/KHLKpLGyT2xzVmS+6x\n",
       "bQIoKNMQELvybGiVDD4MaTH3qwDp4KKSfvprvM84LiRYqW4tGg0WS2ZRiTOTupD5Z3uMvBZVNqxv\n",
       "sF/l+Xa26RE1a1P4W7+h2+yCyNp2UgS12ShWU+dvT/zwmt3kG6mbc2vtyzx3NLttl7yW1rxAxHGu\n",
       "7t6lpVEoDx3B7MAdkSKg3TKUW7Ki1cKGFynpJ6SeYbbxoPd10koG+hHNKOnz99BZWmR8sRnpnJJM\n",
       "9C0RE9wxGZQ7+er5k2CHh57Qvp0Ft/36uBgKYyGz226j+xm6KwnC96TciWL4hjuWwtpN41p2T9vq\n",
       "4xEQEzQy859A36SclaUXbdKtYnR61tijP6Ax0rWtY4USy9haTolAU1+NkTd2hKEHRiEue958R3Mb\n",
       "aI1skqwQlPgp6b5rA0k1hYEJmH6hECTTb2omO6DWhEJ8Oq/ywws8K2gMLr0b3WuLly/pHNJ6LtZd\n",
       "hZStblR+OLsWyWgLD8Rwp3PFNLbDnHB8qcjXSaHg1WVpG7uqAcJcFCEgkyM31AEPLtuaf/YoFFsk\n",
       "an+U1Nb23HUPLZbmR4PeIu8zrnr1Dx2TNSQ5acFl56PJpzdoCn9YTFosbW1yKjCqgZY0l7iOIggO\n",
       "ayaEgJ7jOlZXvOB7KaAAAAJdQZ+tRTRMN/8BAdDGQdnTWQCZoklZaWabuoOFIhCs3kwZBAGxF47B\n",
       "czosdXPf3X38vcX2ZUApYyA5YMLEOqrMbApYpWcgehbJDS3krltLxtfWBJzJgVv73bFh3/sCKjAw\n",
       "MbMwVZvWHeyGB+4vGt4U+bNjfITg4AIox9+owYBncIUFv75GcUz4WjQlEGKZBgT9vsHIDVrmFDab\n",
       "bSducL+mZs6u6RGa8RhRaKnue/3/rwCqSlM5k9r9Yu2fxRBTubpeSIHIGo8j7X1wBvsgWoRE/VfJ\n",
       "nQRTJfzXM7EqGZ7JgbaocdHKtNwtQtwD00/eUIeC88/+n513r8gHYLrl+/wFo5uwMc43iH/UroBR\n",
       "HFKSko08ANcC4xNrNfM2OjwPqpOqstRNGEb2BlPBJK7fpSsnfLAY5XBhvyvjpRydBopLZO69F1jH\n",
       "uekJGDH0syn3vdGAt5t8ezIPpYKUOiYF3ehnPY7fFUCNCjCcM5EsiBqgqXk0Y9gqopPKSNczS0/R\n",
       "0/MdMie8zRC4WaPAbOFlY3doDgYCru0hKtssERjm27OfeCk2FZXtVESR6PTYdSp1ZCEDgwBAI4kG\n",
       "2iXoxXQ/rvzUbpHRvG85vefTttpf5RKHEIbNnPPu4YvlVNcUIC3jb3SgWv96hSPyrhK5A5zKU0M2\n",
       "88cl/bRGDrjw6nFr60yBtOON53Jig9q0iPszR25KnlJU0/QcZpk20gZ5VMfSS1lfM4BO56mQKcpl\n",
       "rnC9ckqH2kw//toI5930deLjWQBPTWCT9syCdazS640dfHLXJ1IP92Ds3V1DS9XB/4NADMkAAAID\n",
       "AZ/MdEM/AILjeV1C3X9Oj2KLTxrur0lZc0EF2HjCYBoR1Wx2uS7a16L2Tcecm+candXVMu+pHSDD\n",
       "BskkYiLjiWZSIrr/XYO6Ny6gEbjD5gPD3zgABwE3KQ/7uioDpkhG/hxejJ8aHFqrJOOrenH9TuzP\n",
       "X/KzQ0xCChAEvyqVNaPNusefHaN4A8iH3uVBZFMiJi46pZ4OhtR6PzOMwkovO2KdIV3d+poSSILg\n",
       "nSFfdCnd+hklPC1c7CO27RqHevRPwBwLwAOSGviabUjM0KgGhxI6juEvkZJosqHIhlwCleXIc6r9\n",
       "gXwUjyBlLbUb1XwCIQy2eEILrl8PX6wqHMweDu3n7bjeJqRcDHbEfwYNgkgZugvYHFrQKfb36e54\n",
       "7K1TFWIr0nVadL/XRTvsLD1qMICbjeshzwyhWRjQ1npscihAEAzCGB+oegvzg1cKDtxoOFtRbbfX\n",
       "/TKS/eCtDri2theXCEuDkM7TAuv0K4xVlw7ApRSUQRZbPdNc1LK7Q0+6HqpS2Y1hy5hgLL9G2DDx\n",
       "M7fVon1oGX/M+9uRUFk4DJd+JVMugdc9jT4DCYBbHc6LkX+oM/PBRV9KFi2VHITSg6qH8J7MQPi3\n",
       "Uu80FSoLK9BILxsirXHlGMBnURXuz9YweIpeGG7XmJiyPB+Ee2qFG7iJJte3fE2iWZ5/alJIbVMI\n",
       "Av8AAAILAZ/OakM/ATU2nH1cQw5nYWb7FFRO+9OppHNkHNaJXodxy4kFOZOREncbHHXMMtxaYzZu\n",
       "rnskCOqB4T/mHy24S1FBb6H+t7UL0+UA6X9VKI6OvqTyCiNT4IAZ41jR4VpKmjR9kX5uoOTnhAXu\n",
       "d8qyefDre+vdvbFzKM8SnvdG+ovL7ciGFt++a5PdtRr58wytFsK4Mznf9neAd5ElkUWyYSC4A5cI\n",
       "8tixW45C3oYF3EQR7Zz0WsZ26orG0m/QV/J5YfDCcuqAixIsixg0h4WJkYXyl6fToiCavOUZ5lSp\n",
       "+pqGlPkl1ZTRomZeQ08zqlaKrvR1DvyXieMSV3yAIE/s+dciJ608fxopolOnB+D/AhTU+q7vnuxK\n",
       "xTaal1q5h1B09b10jZj98agabpTF6vjHS5k74Alv6aSQ6WZQ+LiMUxhDfkx4Rb+VxSj3p4rIDK8j\n",
       "zwBd72+uEhtJlDhYSHbLoBXP3+yFSwJc2MAs1l2Jc7x55xrErNqwj5x4ZyHvx2alL+sr1ioFJ1JP\n",
       "elBPO5pJE4oyaSaEsmnJowlFuUPqpIlDuz3bRNuyCcx48VMqXk87TRWad7QlmUEY34W4dfpystvS\n",
       "5VEPnVa0A9YFQUYyGk/H102GGVt9b80yHSZZA8bC2xunwR38+Dh5PzM9p5zPbWaSC8Ct6e2QYptm\n",
       "aWiKR8EPUSctr202Z2BHwQAAA2JBm9FJqEFomUwU8P/+qZYDgdQ78y5+lWnTa1ZLjkVXVsTG4tXO\n",
       "gfP7zbF4PeKALBVdqYhcVlWSHCiX0nzHMIOT9IUUmj/b/FOMcHYd2Q1HOOWD1/VBaqePgFAluj4V\n",
       "AFh1y6BXXXoVG2+4Pt0sdfNiYnQwQTsuvCCuwjGHJ84DkxAhFLPDNNXNuziSgmFogGKImDNfdUjO\n",
       "X/khv78WjejyHmE6KgrD3OnPMgAo4G+Wh2R5Yp0dQ53ROLzvaNBrHOSdOWKdyAloaV4cCJXYpcJv\n",
       "g6WkLSa3z/I9iUYgEGp1pv9ewR1nTx2Stc0dtK5qpmTWd+/6bMIg1JkK25OqnvC5yjoHe4UcsdwS\n",
       "1QD+IpLnYET81EjOl4kjH4zRkcUjPRlbn5LB+4YeIT1PIsh8ziqcg/EV+JDoMVb9H5aywb+peDtl\n",
       "NI84+OpYmZhryasePoFk/YhsR4HOlwZMfnFmex992vE3o5DW0XW5cls4i5CdWbYfr7y8BbAwN80j\n",
       "BRU+pXNWw7Hm79z76e8YmmhWPxfmsAzSIvV9BGjoZWNWk6mOOG7EVZYHRzSp8gGuvzwur0dq8Ny/\n",
       "8ZQJjZanhGGM/SFOeISeXLzCEt9PywnOLL++C1sscnD/lgpflSlGLtvn5r3Pwy4ZT/JEnDS7z1kI\n",
       "Hp0Qvltn6IvQvUHpEsG5VC32CVz/P+WGoatDxMDh6SOEne2w9n8d+teUTBdUyKyFfsibwgX3CgFE\n",
       "vlJB+CIdOic0/m7yBOz8zYNwmg61/sSrgWazLOgWjBHp0DJbPnJChVrc/ORcz3rNmvEh9hA4kakP\n",
       "g/5OgtTT64mfyUYM2j3H1tz8ORGUudgbuwCZK+9XTUkfIGhyWA4t7iVmS+I67PYKkhstCW6+htH3\n",
       "QzjYF8aD6bYbqxzf9HcJQgSdv4Sbd4VDKbVEpTE4MIpffnElXKyyY8GKRzbLRvszirDWpDqcoZcj\n",
       "KszYDdefuQDNediTDz+tTI2TD9xLh4xcXywtdHam7QwSFbkqjHMrgUeUdyU2dIS8OqIWjSZ3ADt0\n",
       "ShHdK5LXQsvuylzkNMj/pxcAFh03oo4jCr1d46Iqnje01QphrS+S87zrohkB6OWJrMU/PFQ7l5W1\n",
       "7DPm7PqMhYDhy9diS6T9n7ZTZzQdFkxGcujloaU7lwAAAjQBn/BqQz8BNPyBjAKTK4W2OwwjMcj9\n",
       "pZE24V/1pJcIMef7F21XkejKuxuQqJfWJX1eSlOAEgjgBYIbJ2b6WAMO/U7Iufthg5SfXs0ZyUhz\n",
       "g9+kySJKQrZ5e8yHJQ4MzfLjGDcE/SY9uUAGbkhTj44+EV294ODUOL79RM/s/KIq3BWLxcobyjs6\n",
       "+r1sl/Ab5fI3zJ7hR7k2IM+itNqvzCz+sPE8uF7HtizR/RoAbdErAAnUbpnW04yF2RHmwITWm/Pd\n",
       "LnCv0yvLCjH77+IxdhCa17t/D9krTEDlYM2Z7/WDdufa98ozkbNMlDAHaDJUdE3ahqMxv20Jo88Z\n",
       "zm+4mby611M5mQrVn/BowYbJy6p6ocS+aAiXfisRNZSuC6nEIn+OUuZkQwSherJlSRmh/OB5AdHr\n",
       "UX8YnBXd8jWKItyKIrLX4EBOlEzSsA/GIIPmsYmJgly5UpKfQVclHRV041oNK1UvSKV59PiiCAVz\n",
       "OVh+0W1BNRrS8dGbhv9iOg1JqOjiFewxuIxNovD9vIhPwlL1mVhb8k7yzkz+Ljfiyi7X8LsmnuvN\n",
       "M6PlCETHiRQTg+mKMeMGwJDQ7RhBSltfGatLDJRfq7GYaP8ZVSqLN9uS470fqy5cce2UQbzjQjlk\n",
       "+t2ZHVMz/+q9EHWg+DDfsLGldnPQbwdEJo708ihlVkVzzHHop7DotuXtj1sVd614Ny8ebuBdR6wL\n",
       "7C1yo993AVkto8xJtBRlviiDHdO4dN+rnkUAJOAAAAOhQZvySeEKUmUwIIf//qpVACcHFFCzalMG\n",
       "DeaNMWqcx/CxxfgqF0/a28+hKRTBpn5juAvLnHnyxF2OFuC3aovwk11R4uqACHF2Vqhh8mjeU5FE\n",
       "Ihx3xODz02I9cxRJowdQBU+WycmRinOYpBwr8+Wix0FjthzOOAwo+xMyRiXxSq6o2ufzV0gwGn9p\n",
       "h8iO+R2nytyV+jvgzsJYdXAhMm5lPFGY+iCAFJL+1nDazrL8DydSQAbXwjIpWYgvXZVrcWpNyFhw\n",
       "T6CvKPXlZLuECH1rcO4prWwXd+LksJtBhuGwHvyFTmRrPg3URtnqPKgSNLZn/fzeTOmYl5gVt/mm\n",
       "W9lHeeX3N1fuZaTsa/wlltwtfUJp8w4lOo28U6vMWfrxSeKH+k+t4O6BIYhc77mCkD7ymnFs99UX\n",
       "GJjJ24FEwtoU2ErWB8ksGfAXsRZwm7UH4x4t4e5jJapoM5TB32jtjjgnLTkMUyKarcGAGtw2QV1S\n",
       "FCp6fQEzfvQkD1b4krpCtuu9oHmna18eXRrUrhlnmaR92VNKDlBczQH7RYnquFDnaECQqNEk6SPD\n",
       "Ae83WNZ4+Uw/h+JZ1MHTFRtF2i1LpF0DHtS7JbjwntrwQc4LQ+dhNiv64zNAuzZWsjkseIIrr/jI\n",
       "DwE8wDBggpmzLLAhYRmmoKpBFF1XZ8vfiwzwfBzip1jmuitIw/dPId0hAexNOT3wSG/ZUE7+MQFh\n",
       "ajGqPfUtRRGFkYHh8qFEU1UhHU/8pkhTVJUuBalTyuC1oz8aWGXqYZeJnaTn8v59ihLMk2aDTyhV\n",
       "8s9deuig7+r2Ka3khC6UACo6Lso5FkblU2kEp7LTmiuCZEn6jhvlbuNlajw5BU15epyMYgui8gV6\n",
       "zPERwnll9deCtHVbn7TYPwGy5Dib4mVqSi49o2wOI1SHxhNzWwU5HUEEelLJSbJ9rMnNzUe/hOnC\n",
       "S11t/TKohgey0oyqyykgTNEx9guncJEeL9TsFuRGRuahsGcWVRkPRuRqDRgDqIlindbUPnxRLE3Y\n",
       "PQ1N9r6AkLWuz0e4ic8Mr82cFTXpJEt1U0PWnMj7NaxRGDI9hFgSsvBqROvT/YgCE1QzBF7UnmMh\n",
       "oe/cO7EbnItkbDHICzqnQ+npo1QJr5wJIIocZDeD57Pr9IvX651FUk1K5SX35ffjZMT9bpXv5y5q\n",
       "fXR6pN917WUg/WWAtDsaIG0sr6YRapFKx/cjgiXhdbea28t37zYX7jfxvL1E3z/RRREAAANAQZoW\n",
       "SeEOiZTAgh/+qlUAJz9UDSIzwZGf4Ucef+7TO9gs/3yAA4x6brzNx82TTjkmnK0tpjZ9SazW+gcc\n",
       "AofqwY4uv6DpxvmSZXcnpS9IQDHK7YZQT7vqwDGXkf5QvuEg7VrmeITZGNz4IZDvc8lRPamfE+Y3\n",
       "QggI0pwAF8659PGPm0lqFadO20AqF1Mvc5yhtZZQy/zhQsVerZIKE/abAV4JyKcQezidePskJA/w\n",
       "bGaikDWxJxstqKN2LEQveixkQ9csp3wqor2/lA0MpSS/H3vt/dC419yOvoHtaKO6HOOM/122C8fx\n",
       "Ff54A3I6bP2o1Stz8Nl6y0VrX0HJaARYvHBzouZ4XRtBW9UPySmtsg1eHdto+uNQJ1Tf2ZDl1//I\n",
       "sSQQJP8qBg31g+qXlh8j3vOsOFanQ/SiqwK7FHaWpJWA6CZV1BwUXurXfUfKPgcd5xFuAivoCbEk\n",
       "NApq7vppXulZKoTYsIl94J1Breyd8pPj6BlMlWZvYM8jMBCS4LKLz0UnOmD9Y2SPDf/irFTZXPE+\n",
       "nG092mzz7O+0rIUxOk5yBgfdlHcrlSUKOopGUjdo9ClbgVy6BERCCUiHfd0b0ka/mOf2e8qYqf3Y\n",
       "DsZoNrTSeelCpHVOA7j5hkox/0KEKVlf/oEbtWM5cS/K+Mjwz759/edYwVgu1fPzY1pj1UWXo+Oa\n",
       "dE+DISoWq3+TLQ6Wj1hVqhe3mOnHqpVfHjcAnjOEQUP2A2+MPJhEJNZjBbKB7wvc4528WNMMTCav\n",
       "7QtKOTCR/zBpGg4a6K6yfJMY43/wCwIHO7xfWv4a3Oy/R6UxUhE640alYi2AOGub51+Fad+o286L\n",
       "vUb9+Zkyk+0w2nZg0juuociHOqopG9kQbxZwRTvpX0LLn73zLA4M5YOK5To6dbuEztg3o38c7QwL\n",
       "Avrjr30gylsUFrj8CnAa9kQcgXDh1gBeW1DUp/w56UUS1PXOfG9Y08fCzn4NhbnLfdl6zqiCdzv+\n",
       "iD/i6IzZcGiufyKYDFO4PrKSSpsQz7+v92GIS1gYrARfMTg+9M5oDXhc8C1h3VZDayaYVqm6qCSf\n",
       "FbN48CTV3ykoDwdfj29gvsaL61AVSTbkWl9NnPi5BAAAAl5BnjRFETw3/wBry7w0ciKcKuBHtkLE\n",
       "y7O7Tuh5t0FH9KO+LLsQJFJwCaRogkjrhcaU9fSZrtORN2OZJqLscN0R3YscamvbfgLLi+laLd5W\n",
       "G88zFYjgET/NFsu8fRJotuzBoZJ2wqvUYUQb1/16p4KVU7IAEYXtRGTKIbF9QTKUF8sDrtlhwlYx\n",
       "BJRZU/Dk93WMnVQY2beKI4cZmeQldnlgZVuAZMLdj4BzSXsqczCvOWs/Ic8R7/jK7mDDtQ3Wr+Wh\n",
       "xj7+gTFmVh9HshgNybCbPvfkUSxxRtDlutayyfeb9PdFXxKvlTPLVjDWzpyG0rtB6psxEpwLLxiB\n",
       "Pe7J0OYoxxT1R9I+JjPTRifK8QU5ytm+0Rt+o6AIvE86lnZ/84fJMYItAjtqbT3/bZ1/tctQt5kW\n",
       "RZ2NzEWf95pI7S8vKFseCQKYJ8Wks1jRfFXwPEmO7oP5x+5A1Setp7rfP475h0d4BpHW+FWB0Qa4\n",
       "q9pE81LeJXVi4o5/1yj7UcVsgemcKMPxqXhiMpeFdRsAlXtdF7n6pwjzNqED+5Yfiii61863xxDW\n",
       "7BQAC68PI2TakSA8LGRgdtA1OjMejMVYLVytG4T2A0wdtNlsaP/0kYyS+8tpCOM6AIlPvhqvegCF\n",
       "+XjSavVzkyAFG981jOgSOFrIGXfEcOlfn3rMaAXyhiJ6LljIu6bgcTyrlGcdu/AC6Q1GmUuGjSAW\n",
       "DW8EG0G3bo07uHbNWkIqHHCyuw8BCqwzsZRyW+j+hHh1WpN0f3meP3xnOooJnkz5P+3VYCUFyz4M\n",
       "nLrKyC2DXSndEeQAy4AAAAHrAZ5TdEM/AHQRDtU57no2sfnWqqL7Lw2Y7bLVe2XmPk2WumkxfS2l\n",
       "KH8qO/pcRee4RNRdIcme2ToXwKW8Nz6iVRQLbz+MPs5ffUVpI+g3Eo44YcVOLq6Yt2AC5hdN+Uj4\n",
       "afElFILPk97ALW5rYxFA3k6/op4B7Dap/ISuIR4lxcj7JwOVPJnHEr7XKno8qjhWcq+LI6Mc5V1Y\n",
       "v+2EiQlQv+HcE4yMsyu0/PIblULdqhmn+cIXtfxL0uIyZ+8gLIVlZJaI0R5lp5hOHo2B8HgJm6tO\n",
       "p4h6v5+w2XSjf0Yh3h9wABwJPDVYguV1bmFA8DW5dDrO2Gw7/JJ8B7f6lVb3JUi+i/uQvUIJkoxR\n",
       "Scb7iM9Ux8OtfLlsMbXnvvXu7YGBrHQMjIrXTKe3d3TnE3OUUr1OltnDbaiauDdYlcsdpC11WlLg\n",
       "LqnVECk1JkQaCUAHu/zYcssjxHV0tRYCpBKlYUVfFEQcOTb/VQEWYi43+dbI1xWAJWjE4kOdxOXH\n",
       "AtMoak2vsF11QTYi8TNog8PGGUNI1fAZtm1SdCQoNbhffugVSiDmcAfLbPki28NF1JIxZiVkKA8c\n",
       "ivdTcP8HE7Eurgc72gInAKRkO2g8tqnOnkpvBgMWPUCVh/4aEWbk20lhg/em30Ba0atgdMEAAAGi\n",
       "AZ5VakM/AILFzmD9aPHVxlAzLYY09BMwNeCZESU0wJ05jMX2vBimwP4QiTXgu/c+fTKLiyTF5MyI\n",
       "qKUqmiNDddw7Q4zsnrC+oTnom+BDJKLRFe95ex6tDYAQLmRANZpH1wiP+jW6s3qjcUafj3SVcX78\n",
       "s1h5ZxDEVA55dpdhgnhTQVenJ2unw7re8yXMb8WDBUDwvsWUjmMZHTV68gFsFpkW1h+I4tJKPZUS\n",
       "DbQrxr0Z9hS5L0Ykg9WJdTZl+gMY2pM6f6QC79ZPYlYEcprB2riuSNKOVUlEg/7czlSEdPRBBUP0\n",
       "WX3qtFTXZ8PzcTIYwPyot6QdWQbPi695FT9nESzDodTb405W2OkoAHWjMCFnmeVwSabYCpr8P8Z4\n",
       "q0zkQG7GzyFLdYObP4ZimgSlTc0NQ6wU9y51jxgTXj+tBRrntX8siH3Z/BLnPKz7dKQ//2hBi+SP\n",
       "4IvBC4D8/ffThhTIhUJAHi/AWQMhIUTMhnxvAau7asiUzj74rC3ASqQ4iFleXVwLk+0+3MU8fTRb\n",
       "KTzVFKIndibSbTb7/T0vCg4C7gAAAmFBmlpJqEFomUwIf//+qZYAhBgcpoATxWxslH0AX4118CWE\n",
       "cCCbvtenLNZ+QiPR7XRdereRRihMIf4loBxKVPcYXmhNTJt6xDJ8Gz8zWbn41MR3CF1d8tXpOVIw\n",
       "xK3YzR7/1PLo4LkaoGsliMjyf165q2OzV5ph7XuAJ5h8EUMvK4OMJzStpT/9qyTZGbr1YG9DaU2I\n",
       "wXO9RttTML04sDwRCgt2Dt01086tM4078ne9msIG7B5rFalxFfyXJJdC5WHI0rVNzl4yrnZM/UvK\n",
       "8GEX8OsRMqeJ74XAb3cByoYFkgWPG3lZ6EB0eTJecMKvXalUyvMx738jCxXXFl8oE+pIqPPFPkpw\n",
       "1a/4hBEhYD96Kh7zhFkC7IhaRfzXOj3xF1frkV6/rWdMrIVM/EaSHgBAFsSJ/+OfaQeTQu6V96Mi\n",
       "EkqxEB7aZURuCh/MWf3KEew5458698hxQxUkC2iUFybuJVJVlVlVsl+IHoH655QU6dFZG/1jRKgs\n",
       "FRglsIJbhx61ysY+HuKw1xcm0lFEEQWfoUYQC4mfRTIE556gZON661KNsv8FpZkHTLYOofuFvMSR\n",
       "Phf0NH19zlM9hkFvwqmQspg6hYpFG5yiXQxv+kLyG/ALcVHyCriIyirXSqME1W8ylaRbo5OrRlwF\n",
       "r3mdn/JeD3SyjmbczqGLD/OOgaQMdkq4/FcB11W/eWcT40cjFHOPT5+6z8L3XOTHUh7rvmY9KyHA\n",
       "3tYl/c027ZgG1t4OEETPUVA6DWqb9cGrzQJu3its1yyFny9f/cG6i3EZJlC2bQaHKyU98QaNRO5Q\n",
       "OdU6n+UAAAGRQZ54RREsN/8Av/9Gxt+b/HE0rCYEdoIkUji57SnYhj8rg4Aot5Hf31W7hdABPMTd\n",
       "KFF+aLpUiJn54bzLss90Ne9v9xkqM30Jwq7uRd+4YIAW6X5+4aDfTwhjPu2DyxByPxj6fWY4ElLm\n",
       "gnt8GFz+28yIq7d0Fhxic3hIy27Q7W59NJrAlUGKh6XVxKIAS+0sthHv+G9TlUBOpMHEGYwAzzZW\n",
       "MDOGrNx36B19FvxMB84OXIlWIN/8RzlavEPugeAMqu9e2EotnZ7JsjjfBQV7WvXsyBCvDTZ2phIJ\n",
       "Dkk9MGZSZhCzbtYcWHWibs8JlwHZPmfy0ODcKfxDQ4rZqI7nmb2F4rYtBg9hvrUNS+z3v0zLAnuR\n",
       "m3Fc7IycPFeuuKkspXvxo3zC2V38dsFs7r+84leEUzY9P5P7Xchfou8uvh5XEVQ0y6yh8Ppi22HU\n",
       "BSmmSgXH+oieLe2gcaWFwGk9apLqPXp/yNUgEKP7oAebmsB1gKlVjRPGr9ProifkCgEBlpVcNQAo\n",
       "hEDFh4WMvVPgOOEAAAGgAZ6XdEM/AOfqQREZZrXcEoZqzoUP8dDGYLHjKeqcyR5E4bTCt5NgHMMu\n",
       "Dr8YzmF90Zh1ZBPZWE42XVWynyN/9sPAC51DWxRRvYjQWPbJlo8aXELLLgvzDAYGeY+RchBKq0V0\n",
       "LO3I9Wn9vnhknBVc0H+6ALYCi0fvbxkAzCiGqH2jbyJ1uNbnnkWGS8LdLif/FaGXdHbtbD9fMHUZ\n",
       "Wo33d1HjLFHXD4ow9jIceKxQnPUWsq+d4tMAnNxL+lrHWvfLFpm5SdQDQj0aU40hIH/75I95g1C7\n",
       "B/qyJbgPKZvMIhHD+CJeMzNGeUJwVGs4wsGj7mM4WcjK4+BH3a5lbvPuqHqmuoLw8LtBO+imfjrL\n",
       "i0BUN/FzTYxI8lblgD5wTZR/CHaRovVBBxxnBmkK5QOV9ipiJdyXVzzqeAANzaIKtuOldvplpzJH\n",
       "CsamWbQg0BGotmLMXpKuAmeHEXxUJP0412cAJDzU7f1x4oaWQb74Ydc/mvPYCtxJdXO4iu8LApeA\n",
       "Ux+EtPhky7a7pFaboDJ2OJNVJwwY7GSa0rMHDcnwM+AAAAGJAZ6ZakM/AHQLEd1JzZgFfntnZSDZ\n",
       "VjBsffi3CJhk5a5sxDYxW4uMFyGMzlkB2xl8ixSxAQVSJ32Ubi67RIDGZK6nOLEao3o2DXgoeGCu\n",
       "y1KeXWmmC/o+rkM0sY0j8/HWzV7oZz6wN7b3w+KVojfxgyB2UWLu4NydFL9Hv9uwSaVdLyzJxzRz\n",
       "qvka9tRsJzGY9mOwss0pjAPKml3Dr3yTdzQJ2NNvUcAeP5gQFMZaUoFUdXDSl3HzHDOOiEFqNNB1\n",
       "75Sx48qPdN3o4j+84gXVMBrtVZKulugNyN1ekHLZctv06lxgfzFa29WV2pD1WYz2DSQUVe/atsyM\n",
       "xKoh7o+myDjXdrGsp/lCQ9YEOKCjtL4aaqZlmrot2qa9pQ0mtmysvbm86IuhGeWLG3/r/3nb6Rc/\n",
       "/MNi9UVPobBfa/y/bfKim/S0mu7VdR6mvVkMRuAfmDxFKcgrCeOViHniyWk+r567nJResr6Ilbdl\n",
       "PUE44KLmJS6MOyxEFl91YhGlS/Az7mtKARSgqL2BAAADvEGanUmoQWyZTAh3//6plgCEFAuY6ryw\n",
       "VOqBs2cGsiulWmgBEppTyvWItzgiuqavlbXdDk79/p8gBt/TZ7j6RfM6b+fhNPSfUUgrrPG73shJ\n",
       "0klSrj++230quJLt40ENcBr2gS9pKBBrUfE2EBEYZI/QuUI493UxbtNzmQ3Yf6M9HsQKeni03z+m\n",
       "ePWEQuTgipBdXI/gKY5gPJmnX9ujCEQJMBEcWzrz+jLd6gK1Rj/lgIoI3WsNcOQ7NRoIgBgMQj2U\n",
       "fhYrfJhkMrObTjt/dQfunNB56RkdC91a70hwjWjIw/BCh7ukga+j3BHxf/5yGTq479OFa9o21ymd\n",
       "PZ4cZB0pkvH2Nhosl1J6cdELk0jfjjTPvG0WOVjiwCNksjOuVrkNKdgEHiv5MVoGzTqC6uOkvy1W\n",
       "TNR6chxloeO81jy9bGqcCJCJkgznKvJMY5JvHshDvKgxHbJ1u471VWL9FI+HWDAV3DCJaDcTwe6g\n",
       "VM6brVZekPnoaaW+KJpBZXV7JO5fg0rtknX7OlG6TnCZU2/PLyqW6dHfxkpJfKqN4pZVAeCywGeK\n",
       "EzSvL/EFDtkfGlUPp/ARk5SCQjcHswjPlNlBRUG2jq/F62x0XDa5xsIzmejPMJQ3u+IEN1LozPWI\n",
       "0d/X7V8ZdazlI6+c5+vlNjdI8A2BIn9VSGkRD74BOy9dh7vANbaXYNggwU6t5TrNSmj9pxWb9OZN\n",
       "PK8S/JGoUYHrBPYoa/rKBoGrBPEeeSitQyuuQisOZAx52LCun/qXMsCo0vpVqwAal8V0+D7ZIzAW\n",
       "a3P3WJilwKhjmGxoyBXbG71DxYz/MLyHOBetisJvrImOQ9AlWc8KYMSDmpU0XAISyBd6pbgFHdgH\n",
       "acu0dXTcxXaXfldYzXlDqHCJ5jHqvKE61zL4Ryxueo6XgqMzDg0BLiUAER6YnD3g7m6DldvOzyG+\n",
       "XYFSljY3kJ8z0XInJV8VoS2dKm7sUF2uhznUHLNiRtRQ/jH4cwuBhYChNcd5CpWo4DkeRokww52H\n",
       "/Jcp0vQgxQTIZkGal4aCO4W8zdx4q4FXOJqz9w08zVg1/KiKeM3EKJka7F/uxJ4Dyt9MSeffVJug\n",
       "qhJgCeuu72BUZ5mOuCUaVkPRmaRIQz5xi+LUif7pDPxi0Ow6vchfH5yrAxhHfnCAHVz0tSXBhwWG\n",
       "fC4MT8Spwr9wku3B1xbPHFbHifEwdI7z844UmjKL6BDW70rkYDCXQx9f1so44FSf8neMmyR9Oik+\n",
       "O0c4C6mmnnmTSt/7ai8s8ZMZKAJAAAABwUGeu0UVLDf/AF9dTTMq7vNnazvt3YuJvqjup/uBH21S\n",
       "A18NfLASCyEChgLL+MjZz5501LAIheGzTGbx4zJqk3u+0RkwLFXP5fBCYmMwAmcY27Iiw6pIBLR/\n",
       "ZD47vGOPc2+QYLrVywZNKo8yx/nJ9Gcx4Ig190TeV0fxeetwn1b1TlSod/glguJEafBdasq5weDm\n",
       "KiA6tQCpvqr6wn3bimPCsIp0TjKWz3sAmT2du+sJv4YA07Uz5PHw7MmABHNWzNB2QCdM2V7wHOl3\n",
       "oj1kLMOjH3L7koEwbwgNAgASAJ6d/r8+58Jn88arYsQCIjk6C8y6pztCiUK5M1EqB5tKjUqLpuWa\n",
       "mjQu2UKpsJofpyTmfaFYlXhrK96csuMNC2gQ/64XhxuZp7ftjXhRUK2BrmLt9zBntpND4OZELAQb\n",
       "C8ZyBo5EnKD4wMV0lX+fLDqbsz1w5CuGRp4Btzmsm8WKQe9yHnDDMcotFQ50uClSeikOmQUqA3kl\n",
       "uBT0aqaLop4N32isL/n6pXSD3lbRC2y6y6Yer7ag079UK0LAlN71kow2uFZgOjuMWqG3ZoFeNpoI\n",
       "POF0bbkDe/0aBEkZZG8pwEjBAAABtgGe3GpDPwB0CxLVwauCWjf28kD3H7dUPIkYAx5i2+0nzqo2\n",
       "ndAonj8gA6S8BVOcNkG7xwaZFNoAF0BrU4SHkRewdx9AplxomUxsUs+2p7Mq/906FYV02sB/So9a\n",
       "/HBF+F9U6eqp227CaJpF+/xKc12NtAy6juKmmZSZbZBPFvDq0nhuyaw/bsyTCCradrbb6FXu3lNR\n",
       "CDX8DelAIQBrrq4KveShhQ7lDTtcqTp68Y8iHTajkFo99whwtkvrcYwHOnUqLs4s1jDrPuYEmEAT\n",
       "zCuX+tIObnziV9uCwZqK0BGoWfjtimo2cHXk4iq1J1g2Wj4ac0Fs3kZxjsPlJ9ybn6oazvwG8OPR\n",
       "1u5rSNREzhquw9WnuCceaqiKdVDceOS2FXtL4cF24USxYrI0bOOZApmZWBcunpLaVRqxBr7CvT8o\n",
       "sPstDA2GgpV1el9vTLV2LrJhOYJqWQkYL2hi4/r8EQVI6pnFg1ZwYAiNWkXEHBN+E7PXtEEMjQSb\n",
       "8CGb88T3qRrhUnwu8cuFMhdUhHRy+0I0evp1hd+8DkgJy8LAaWwrLYQDbFJqJfyfsHw4AbFYsPuM\n",
       "X30kYQAAAztBmt5JqEFsmUwId//+qZYAiBPIG56sMb8A01Xr8AOPa77K1iKlzTInulL34fTzFEb4\n",
       "EyiASebvcKdxpHIwKDZwmlypl95MM8UaxhQ0AyDiY2YiV/W09hJocwp565OeQagRk9eIeNcGvD0Q\n",
       "HvEepsf8hFon+RLveRfzMysW/W/w4/XPwAcqchOL7BjhfiN707xFiiOlqK4qVqVBXTFO7p2Wak/H\n",
       "wKaf87XtfthdtHXJ+gfBtyWGACwcEPRkQihT+zweev9Kaq/+eg6tR3ddRH7bznYcUnagQ5r1rUAx\n",
       "CX1j7ARo5WLlSvnB3I8RGW3XJsgRZwC25+LF9rVtf18KzIld+boFKPiCldIq8rLPQhuV3vtKQV+U\n",
       "ZzFta055oNFfjC46BX2uuj6gD0zxa7tkHzWQ4ekm9qPl1kwUGeWMAk2bMPNaY0at8EHOS2iVqSLI\n",
       "8SF6eagKUXvIwc52CStuz5k5fBVk19oRD3uWcL9IB/Xa/4pi/4Kx2z0guFiYRQt8TbCWCblIls0k\n",
       "SR3gxZ3tHwAO6flGaRmOA4yBBuPojBQakEuxGMCCdX1noG0H7bKvDeSFUcSnYyqziU6HjGRKA+7w\n",
       "lUX34RTd58juDwiFv3zm0znxdL6rIJZzU3mvyAin/kv++Wb2QhbvyrCBjQCTpBfeLOh1vFWzOuLf\n",
       "5+LRD7HPo/YADH/wKcOlVNssrEPR4n9ZJmW/tVqU5XxqEUf1gDksmSopxRO8CIwJR7awMCxhnlde\n",
       "Ft9nEBTHQCvEF96G7LOcTWACmHwUcfd2fB5COsTwgHR8/b5XGvHNSlq4GxCNdtpn00VT92MBvjyo\n",
       "2ewq1Ijo7uqZm00R2Thmougkn16w29jZ1VevrDNwmSVFtG+xwQPPJtGvgAl9JHaeMAnGaUpNzaZA\n",
       "2jXp2lJX0l50myzrnvN4MyAT4VWrmZyYyfLryyIoSyj9UUkmDqE4gK/4ygZJ792ok7uTvLL3dZtC\n",
       "CvltrL//N1an3Dyaw/ywDPl1WwGVz065/Atk+eZrQT1TAltdYiElE66qPY/9PH8r4wFI91d/ixam\n",
       "DN3SjyXSCcZ2hou4qpTP7+4nwDW861TMwq4Z+9hWfROVSep3KgAAA3FBmv9J4QpSZTAh3/6plgCI\n",
       "E8heS4mmP71ANGWzQAiU0p5XrEW5wRX/zaWBvXUfpVFTUyK/0nUcK6eLlDzlg/uuscAxjWAcvcfR\n",
       "sSuRjTZvQGchwnHGW6gROUGEBDUL48YPVrSToWju2cpchEiUbBRILy76aVRElT+24MDlKP6bSpPR\n",
       "MDuyVRoAX4KtjLGsO1EyPexy2hGU+fDiDxAOTWhSdC0YQRcjJqTKrukYqd6hwgt7n4InvHomKzei\n",
       "D/O9Z94QaFEYD6x9IZ4DhxpHKFkDaNuGzU3jWYRNvoLHoy/bh8s19Q8rxlV2ojrpAzekoZaXyVGY\n",
       "yV4ZLjiu7o0y4ekG6jGFX1JRG9Qpva4HZhpU25XJNEz5LdMh07yfuTVSVb+FrUaI1FgPjbSAXAAJ\n",
       "TojcY9n3Mqj7PpyxT8UEMazEmZKfEmqggPc/EB8KUo+5A6StiJx4uYu1mQqASCWloV0neLONmuaV\n",
       "USCiN6UpvABkP1xZQ8fGXBWRXgr3L4TXVXBfAUtBdvSIrv0CeTT3+us7t5p65BeVgTgxkJxE7HQd\n",
       "G9chtyV7eETPguUpx0F1BBk3iy7/ufGRQKAw/nQ0GgybOphNYzvdsTYAVVGHT8w6Hbh2WakRnoqO\n",
       "hIhGnOSTFshCyGrZUYoAsE0ch+QZA5s1ABQlSmifD9cu2sN92vjilhAI+wFKjsN7vet6YyVXjZUS\n",
       "uw7r9yOjs8d4Xl+SjxZ6qxlcEEx2XftPlAhGiHbilefE7LXzfXiyurQpoW8iGqDMeK9NH30yZ/5X\n",
       "jU6pwOyOdfpEC97e2j0a7etvwgFf2UdCq1dZCKQqcxLf6O3rCf2+SyfpQQom8vdd/VQHoJj3oBiI\n",
       "HjaLZUGti+qY/VMNM3GR9poBbOQv5cyITUaq81R0IaLRGEId1Z7IUXdfBcbqMb3j6S7xocWhJwHs\n",
       "IklPZfUHqTQqWbtHjhIUknqqmLnePkEbeRFe5dlvfv/5jFC9evELTax2z9dxgLQl55EJvqtWKGZF\n",
       "PIPooKnkcoD0/DKEu8+v7deXrxAfJcCXWQEXRF8YZJ8VK8fL7Oqi8kJVGEACHEUGKtliaekDeCRG\n",
       "n26S0ybN2HSvzboODP1nudFQav3ugIEVOigvFi/qxAz2ZYrZoGpEgW4TcoYE6kH04Vr5FQx3Kaw1\n",
       "a0ndT+WD6DwvFgAAA0lBmwBJ4Q6JlMCH//6plgCIGGumqbnfdAYNABxvV5nwdjsliEkR6UplnbyJ\n",
       "Ff2R1h827ZRt+mDN08SAsZ+M6AKaUXTqzSui1O8jvegPtwZOv1cosv7KUSL+sYVq5ay8fOeAZ6Ka\n",
       "uNhwKHIou7XjzlJ8qlcPeiqGRv534SwnYp9ORDrlYVfXmSwhsJ92iP+FmpQyI7KDPU31tQBUS/6d\n",
       "cMvdVOxSeKbZYYmx2/iYiwQEarQbJIinhczaCI9FfTumaoavo3WRw+C1KBuoHNjdIBM8XYPIiirl\n",
       "pYlWZLP2fkdTUWNZPJeRSkOtmNKLk3z5aPpDnxB+7Qvhwm4PTZPK1twI0rFoOdX9ZM9OORt/iULA\n",
       "UJefvtapSpK14PwARiuxFIr0y5YGWzLNGahrJmdNRFR75H8utL4IwV6bXYsb4cGE2pEmhikO+CDu\n",
       "x9S0iTAwu5M70zVzYot6iDWFfEhQybcKjzgTfmXWGTlb8OTKDNwTz8UtUyb4VcbF7hMioIXBocGK\n",
       "HKvbaEP34KsauBP7MumwqBrB6L8kje3oykpHrm50ShD97gMq2obGN2EVmhEc7QRARVky5vi6B//V\n",
       "NwXT7midCRPUDtQSEUu7aVs3JiJ/P8jJfAZom2soeqDeIBzkRNoJG7JPMjOfjJSKfCKVoFk5A6kS\n",
       "o1bRVpLAgXT7RBXrz/WAr+XmhmpwrFozzj6t4Ig/r1a+QK/3zi40K1wnrCLTV62Kaf9tcgrLox8I\n",
       "NwzGCntB5onxH2jmU14rCoJJNkJXclWbTvcesNvhav7/va6xODkZWsAd8ZMhAPpDM79SvGrLodMX\n",
       "U9p/D4ZS9cT2lIkGrNZLdeqeD5jzGb778m/OMOGourZxv62TaTfoCGxTYxU8DcKeFEl6Rc4jT38c\n",
       "dniiaVoBcpBL1ZhNRN3ds8HsvnxXDFGdAcZ0H///kZwqMcZ7b6lvH+LFz2pJa6zICPWiU7gVqXK7\n",
       "o0p6kFiBS+gE5nw0vvvZ8qIP0jHTaKdpYPPcv7prnmMHGgEhyzWFERwKS3Nq5B68RTHpiT0AXaUJ\n",
       "PncIOW5lWca2ggOzccf7aY2dzi4SsaNMKpXanEz/w52mdRJ9w+lT7vWqgeC77YinKjy8LbUS867L\n",
       "AAADN0GbIUnhDyZTAh///qmWAIgYa6bVd39o9dbaxUAo9TN5kKN6f9DZSfOVmPyLjcFAn1LPtx3o\n",
       "2k1tAWPdLd7TZjNZTzapGIvDGIqnGJMYeUw952M2ti8VsCBuU53T+N/L20AlI/NKHYed13zPRKTe\n",
       "vDUSb3xQNgY+BfGu5cJljIjgjWSYu3RHqCQsp9I1Fzt/FH1wVUoV9wtv0ZFG2NS20zVpOtP7eTyG\n",
       "uOd1E+M79EZ+VXqpivYS5zlXO7eWhf6X2rR7cZo/yKjKcMd1NKlSMnD7eQwuzcKW8eR8A601Q9nt\n",
       "vLo+kNp6yPg98DgIRHnoAvCq2LADmu8zw2yMSjxp3CpdiSJEpIGwm2vwDvam7u75hAfFvr/qL2Sp\n",
       "NLr2QFRYScCyEQnHWXgNf0GROE0dvFxmmjm6ffy+p9pG5rgbh8NUb8OiEPt1vaMn1SYvw7X09Ejz\n",
       "uX5QLQoPJrwonzcF5ShEEEJmQi9HyIhuKb+eDLH1aTa0cFiaSS32CZp4KZiOEHQiPF3pWT0D4pNi\n",
       "3kpEyg8PRTeobeIEHMeDQZxp3b41/HRSLUTTaBr7KmZE7qeswBr2dc5hk/IKyZsKhNmDaf5kWCmX\n",
       "h6udp48zy213cGpgb2wrw9xm0KPNhsmXw0dm5M5oLxHzTexTM4nUyUpQ/ECAFh2+LqWA5GEeNWfn\n",
       "+4rpqF2Z3gh7VdDU/s/3lmCFgzQdVfeA5r6cWpLMVXifluhcM8qOUaT3IFhoTx09/IQFJJqpzCL8\n",
       "Lz84MHFnlfmGsIKYbX7xWJESvHivyVm6xlhADhD2m6pFshRZSnIGB4JrMSRHxLci/Z08MA3VzBZP\n",
       "/U/6x5VEpHGSD6lW5htYHd+h/U2XN1r9TzE/5seRQ2ExosPiyb7mwt6UevfC9QaSB3ljze2DnZQL\n",
       "zeVE6XHptyJ0O3SD8yjNlCtZ/51hOJP//8QCEdfrVgxRg41vutd+9JAyI2Mv6hllgXweb74mDkNQ\n",
       "qix9Zj8izr1a25ZgBQWyDtEwxjhunlytyLqdPUJBzMBCrM9+V5pA+77neaR2H/2mRwoxgsEcFpYC\n",
       "5gjThvHyBzV5bp6xeiEwiLK7rtje5XI/3u4LWSQAAANGQZtCSeEPJlMCH//+qZYAiBgcptV3gXPp\n",
       "5aY21R93tg6xPJn5CN5MAONlIBeGRK+vxuf5acGomeNP6k9TcT5uR9n3Mbe+4dkWgsJlN2M6g8Pu\n",
       "li3rMkDsES6UoXpI6whqWONPxh8/Kb0nOGeUNCETvaTJ/VzpxkN/gCVfTQr60ov+/Nk3ed2szBLc\n",
       "6V6zD82Ol3mn3akCZeDnatwLXxfZwaEymrKqwvmMLlUuoAOnm/E15VJmkjDfISi0w0uFNJ8pKANI\n",
       "mh21yhLchNmX4LvQq0zDIAiXIk1JOpjYPcDonZ93bOHSOCqOcMVLfeMAVMBbsGYFMRHKrhns/+hJ\n",
       "zQ0GrxXd6arfzHnbMjxj0r9pVi2I2zjzXtRGcJ2a0hF7mqpxyZOXP5F7/IjynyaLFz0lEskH1DS5\n",
       "/1criwygBSZKSdB8X/Lg6AMVZP+TQ3HLu4uGB5gxjpwPPfx/2dvEkn02Sxa20+7YfruMdwO4DzQr\n",
       "Bg0qsVTUqqGFtZyPFHeh4k75v0OukFkF42Ku22jb8d2R5fCi2aAgh6laz93NSgk1VBqmnP1juh7h\n",
       "kx3PbHyDwwZ9Osw7FeeJgs+iko4asHhiMq7th+d9p6XaMmgI3jaxoVc69VqyKSSl9dREHQTp3G87\n",
       "S5pocouv4FnIrnpexMadm5ivCCTcr6nDe0NLQNqxkUp//DEuGyIgR2uVyNqAH56di6tIdHvwAThg\n",
       "0o6Bhr4as25Hd1TNoEx9xidV7LzoizaV27fCBIVvafmo3nQd4Z3vpXZJmj1uLZwqdbyLs+dkumuA\n",
       "oY2+c+VQW/Yf4oRcWnwXyq1hFwBKuPj+xYdhoxKhek9JiFJLEXyAaJGkva2cwP+QGb77CgKq0MYB\n",
       "YSxP8eGTI+EWQh8+ZAC2WKOiyx8HC1ECqMZ89Mlab8LT9rirQTMoFPBL1r9e+heOJ4WVrDR5XoW+\n",
       "uYgJTupi4eTFKTftZdcPzNCmlGJUhbaekpOHbm93n1yu5yoKMm0jXgR2gFpfGUjZlkipUNnc9fkR\n",
       "RfUD2FSpPHnTbWI6AvjvBlsmYNuo81HIMlpDZPH9qIpAqfMuoOeWpN/9vxZhv/zvs7ovea3I/TIn\n",
       "PbY+rZr4yVqABp2MOE+ugQAAAztBm2NJ4Q8mUwIIf/6qVQAkBsPZmoGGH9bO/HTnKT5SA0MF4QRD\n",
       "wAC6rh5SbNrUkiEBiBMrPzo9y3NH3Val5gwPUpi4Dm4C9WI8XonnFFTZz8SgOSbuvZ7/3BR21WIT\n",
       "mXWZF8ghQWmGStCMjHG6+jpe44tpyO8CyZP6HTrlQ4hjKqdhA+glCqZ8YpfiWvWEnSQmneLxMjxe\n",
       "bNFbfD1OkkXHWxSUhEnKjkAFgoiu9Dn5Ynb9g+8qlJn2jPoV23MxDwG/c4scEgS7XzVOX4V4I730\n",
       "8adb09Uv5AcvXbzqrdPxSme7QOn+RVy4MLd5VYEADhnNBap3GlEDSWMvt6JPMXgmQL9A+9IThtzN\n",
       "4ACt/JJU1UKyadTZOsvkdORIOIcb0+Drf7jDstr3QBGDXiDUc/fEEKQgLghtNNhXsdP2tS2NRCTs\n",
       "GhibD07iuqjjtzsXjhirqAkm6yb8x4upRwKPYpOlwbY8ngAf6scGNce+bIIce6PDvwLPJkhwPN47\n",
       "kvRH+ioX6FLnubUh7hOxcbyEpcYIxnfYIZ4GrViU925zvbD8rYJeyXpnOybIe0WH1fOHvnstCu7A\n",
       "XATisyC9iMB3QFTrvWJ/PO9Ss/ugraPy2IIeKwr9jwdFtnZ+287GAubSW0cMhv2upW9namarN+nF\n",
       "GoDAa7P7pmF6yagooQSLDeNb4T9c3JtJFM+l1G4KFLnY2Ltsm6lVv1/ZIU9N4yPOrOJSFbS3T8uB\n",
       "mfSqcxVztYbE7LhXFc6CBynrGtyY7GlxVgtlkvgBTsx2hUBeiLn8mE3mMZchfLOacS6tRNm8Y4kt\n",
       "gAy/diOCF8G18xhgv/RrDOIYQYzM6/SW6jaJOiskzqvgoCcZ9y7bmfloE/lpZ0XSwRmjJ9i5n39u\n",
       "PLEr4o5KVwdyLg7NN5Da7NLCD2VRgnlry5AH32Q24+uiFz4C+zHGaZIsl2MSqNwqPxPoEOC2ziS3\n",
       "CAC1/RBnIXOfcvAlfRcdg5YeJ6lLAu4L2sP7wM/Gni0gva4nYMK80pH1TfgyDKPBVInK9Pdl2eTH\n",
       "BGrfyqhownAy+9s0vhgjE/SFDqRmLChdL2ddDJ1NmbBuYKuDqUq8mayPP2epF4HgpAAAArlBm4RJ\n",
       "4Q8mUwIIf/6qVQAkBrQaQ8PiKPptCq4Vsn0qia8sABdVw8pNm1qSRCLsOdzQmWjUjoEGf+w/uDnN\n",
       "LInw6LM+tvpuZIlGagMEAlLHHm6UULI9Y2fTXKAfu2zIypwxCnWA3cPnX2r2eJFBpgkGlKfWTZCp\n",
       "bWac4y2WbWoHGq1D5m0RM20TgTF8frkM7S5YX9NmU7M8KRu/UQ/phxT+0Xcu6cN8xi4YQasF3kHW\n",
       "R0rB2+V80yjG7DqGBTi6J0ImCxp5zGR++dkvzf9YvtebnET1VGAJxyLlC8biTsnq7uo+f7oNpEOt\n",
       "7vkXVwx04PxXIMSNJEc+9woXDx2Af2B+bemTUIXss4Ho8I+cMBV6pwjRSkoQLsc2Z2JdZVCcSssS\n",
       "6PYyz1o37EgkDaKC1yScPFhSLIf1gLYgPzH13Yv5/vH+tVTRL/aEs+9n/24k/hHwV073lyHkoUAL\n",
       "NwVISBFnMb95XBj1xzATDxELZ+y+7E59atT2jiUyXx0DVfbcJaxrumJY4jNirCpIgz5h4njGthiB\n",
       "b6lLxocXzqgPKLWbZM9B+cz6WAUjszxb9uuiJX0wbgQf47JegWFA/YYuhuHcSKv8bVgHGEDGRatL\n",
       "ft37VnG2ipzIKRXC9v7hDf23yNlTmWgY08EYlk7g82uTA3O49+QNK2tJrDH6I66e5Uj+x7QWqVVd\n",
       "JseTT0L+PkvX+DPEfLp3x+C3CuB8X9BTFlNh6UpyFpIG0FVGaD1I+U0/dMHbPIz3vpxyOOnAWz/e\n",
       "IrnSi3+bde5E0WuE3kkpR4+/L85KgWlDctZ+xrsP3dIRGqY472HqgawllVzZYWtSDPJW7r6xveDr\n",
       "XIg0zDyzhUg865aGT5H9dTiJMLwSOjsnJShVidvSabe5uCGCtztS6qDsshw0HSIi1d+BBuX9Fuf7\n",
       "XwIxVXP5lkrBAAAFXEGbqEnhDyZTAgh//qpVACQGznaS8VJOUxOTzFu+OgHWrQwCa+rtgRIWx3UF\n",
       "rpr1SDoCnOjcx0nPinrX+k2N3VIRwa/AEAw2rEiUdKfuXbFcx/YeruatwrIfY77HNBKFVQTjzVNs\n",
       "dcswF8abHYY1HU/jf8m+cydAo1Fca3z3w5tcD59mN5pYuR9xfgCQlQKTCZ+ZW47HLpR/2a/U9oND\n",
       "OdltMfQT96c1PLQ/8agZNmbFgTXu5zz+DeGzvuD1TUZiVqbiS43ynmlrvMEZ5bOlYuFbjZSphYml\n",
       "2o6yvgprPwDBASr0a4Q8N6kah7uw4kU0rHQFGQ3hadVoqcveRPQ0wgLA77Vx1AkRosygynIFgD5y\n",
       "kJx6e23BTBi/fp7JV0lHKINmPr/3smaZC8kiF8rzUxAflgTZrWxDPchjOvvk3r6L3n2QOv5Faqzh\n",
       "wCwKjBTtaamhzPX72uSYp+z6AE5Zjiafy9wAq63FYEq8iHEZdW/XV9SHwtzZY9Ni13k8XNs91IvY\n",
       "H/IBKYz+PEuN1/O11C5EslEt9edcAf4ju12eaPE700gGWbyGgY4SCxXAa/rkDkHgizoLwHHQ6Baz\n",
       "WFg0NjDYBeh7RmCYpSc1VA34XxpMAONrMis1Pb5Ls6+qIWNqVZTOwWFppwBr/Z9KYxKu+nfqLd4B\n",
       "xPqsZHjMN90WSniRykyy/7iCRYkK5jBdaKVaBhynoI/dHlCxF75AnbTWKqAJlY/oSpzVsBPrLPmr\n",
       "eK5R0ZQbiEfcLg++NnFYyp9A0HdHFXY0yZGynwzlm/OaFqZ6JRH1w6djDp/MS9UvtduwhYrCy9WQ\n",
       "NMERsT9nKGVyItqVbTALze5Z2Bap4ZL7xWxvM//tanRNdKffkcaxkDAHuQBs9CX3j3/0g8OGFXGC\n",
       "0gkWTBnEFIsDbvU9vDlQIYKRCmHP3xDAFr0iNx0YeC8lGMl7/peLw8ZhROVjIU/F2NirWEyWq4gG\n",
       "ZufE+tPxbZoSFMcosZOgHgbtGWeR9DCbhthkSsGPuJflg+LE+Xr0NX/aZfdymHdOOhKmSkZVwVhr\n",
       "ldH3ZwPsvZ3nYbkidW1pnFFf+LALLLb+Ce8dposgzIeJkGrUS2A6lEv6AYXGQ7ZZBzkm6z2MpAKP\n",
       "tdmp3H1CAvtQdxgifAHnUZ25rumft7qRebBmKz2o7ZBK2CifhgRZ3HwEllvvymokjA8y+mMEN3Lf\n",
       "L1RQsQdmfNw7zo6579mPUIYW4vIRHs1XnqvTSodhjdXFTnIbKntn5VpSPqgE6ra/06uK3Ui4Rxi/\n",
       "Zv8h4YaMEVl3tTmWOmafw+gBj6LFo+2l55Pf26grCRqBlLf2UC4xqMZH0OW9EKuloDqQJr4FPLjr\n",
       "ngclwV2+DOkvyULZvswLiaJj9AZqvpITJAvsne7cHhzijptS3zGnf5Lquk+0tsn34D5jE5JpKbr4\n",
       "RXLFCFnHsi3GFpL56VrwaV1QdKO2s9dg7Y3DEn1eQsSrmAg+vCqSA99cqRCGm8Ltf6HSgBoe6KqN\n",
       "xMmwHXFD9aa1DJI9GyHhzmmin9iUMCflK3vOFMZgG08cGTI+EWQh+oApmkVXhQk6Ei3SFHL/+Y55\n",
       "scPydH+B4Ut3EGppc9e5KMAn4ChsLHX3DYSnvq4rvx6amKPd869bc5uR++EM6CvFWNlGz5uRMkOd\n",
       "FWjwP1hRHoKgA1e2xmtyLjm+VTqfLxqyOd9rvX/nmkBHPSTXqZNP9oPfDEw2/IhX60AMWcEuBb+k\n",
       "jgdthjuvAYyg6fxRnb0VLMTkH9bmakPMEkC6LzPKOgndpPxG1TCTDVarJt1FG5pXcvfERolRZL9e\n",
       "4jYkYTXZJu7EnEodNoFaccEAAAHQQZ/GRRE8N/8AZEBDJvKV6ObJDR0F6ZevbibBbgeEVOxRs6IA\n",
       "AEift8EWWC38JzUywAl1uhQ5TZyv0YZaqISuzQ0ZvXpa5W1jR37o+X/9w2bCR8dIeVRDNdx6vpP6\n",
       "f/x7heEqWL+YmOmYUaS1YbDshIcdDMp+oPctl1sdg8/HnXIz8RTi5tkO/vDeYew0MYClOAkob6Z9\n",
       "U2RnqGi7Wjd7DQNZp/oGwCoJD3HfKtynSJ8Ta+ZHJsstsXXYCdQR/66eJ/Y8EDrrqlU7KkFPD15Y\n",
       "0jVRaBRckZTeU/ouht2mwU8s4v5fRdg1qvRucQCBwD5JrWmb88Su7iKOQmYmqciqkODg63cQZ+oD\n",
       "LihAHKoiKu3S9xr2EcbPIL2qZJeouOFtWYaKwFjgsM+NpPy1a2cKqTbQxwTv1kxzhznx09sYdRJk\n",
       "dhTIH959Fi2Gs96/DhJWX+UV2SVT1tJsYs3aPBWWAJLC84I/f1v7LB9jJfkCWth4El38mkvoExDu\n",
       "WN8j493p4RoKbAu35Zk8/prcY24YU5jo4C9NzEgJiQeCjRfEGp5Cx2cQJ4W1tbaUtUcP1xt/r5RS\n",
       "JxJIXpJZDNk0BAvXeinK8dQJbC+cI4/5H+gUwXcAAAKQAZ/ldEM/AHmLHIIx7XWvo8piz75H4xo0\n",
       "I/KAHL75XEd4dO7pW/WhCfG4/9Il0ODqe+YJOupgR3fxMPHj/mnz7ngFT0ZpKGCUe1+r/DVhGrHZ\n",
       "ZYsh9lEVdu0PNQJyooRh9NnakK8AuOlq6fCAUQn4MLcgzVyHzd4h0DrPcF//pqkJcWzVqhaFI1im\n",
       "bEyZMYr/BiYATs1ktitKBrNfZEg4oNWW0NjpLmI9Vn/HY8/AvX5uoM8KWirc7lEbxmIjrP3WyLN9\n",
       "PJOWhgxgd9bmwLNqVniYbyt9b0YsV0WYZiVh2/kVMRzG85leFh5OZBCB/Tyl3ouZZtQ6ZSmd4UiP\n",
       "pNFprwypbcN53cgt5nRMOKMWynqK57YyWz/nnLNWavxWlFej14PeeKxc4WJoLI/2nfNnYv1oMUeP\n",
       "yKslnjz9jPYvTO+nS1VFX5Ip7kHHUmAU+XxaEK8r5oKNdts5vPV6APIW62siBmM190x11qn0KV+v\n",
       "0zy5TDK2RXU2D/drkNNeVYrhDfoVPKu+K7wJm7Y64VgoCEymbnSMS/R6YcD8hN6Rzl2Mwzjo4wDQ\n",
       "oAAAB+rmyWozXqexg0KaQAABCjWuVJrTfbM4bxIrmfnEg8VOf/oYdET7mZAO0ZT8dv6dg0eadKAr\n",
       "231wvhQou5Uqbk7YIulMOY6EXAJvMon72msb5tBy2SVfjtVl5NpuVQUwhxJQlrsQilmuuNCKs1Vp\n",
       "IfXpQv3Ii5x//7skVBuBklMa0BwWEhrDF5nTiglI57tDoihy6z0mtKc7rm5xrphR9W9ah377bTQj\n",
       "37wfStUimaLZ2weyFCAphl/uTNRNUWtanaij7hrqREdnbs1GztrUYKusmc+pt85cRnJGcCHsYBeH\n",
       "kINcP8EAAACfAZ/nakM/AGR+PIX3A1+trnwfHUa5yfHj1eN4DS9LrcVsz6ls9Pey2a9H1RgztylL\n",
       "rzH4yDchazjMyqHKJ7aW/k+isES8RxFVzeHqJESmEHlmtt+jGqZzSSM/r4cWJktGrkhFwArmABUU\n",
       "mynSVnS/3YddRHv4F3IzLwACk0tvoJvRmIH4TbKZG4PYDAc6iWhcX6e4Hpl4MMzp93LzgPSAAAAB\n",
       "2EGb6kmoQWiZTBTwQ//+qlUAJAcUT2mSbcGA2HyFO2uq4M1NOMNkZXTN/TbHWqVQP/s1T2XrAAg6\n",
       "e7145aJFyrVcgoZ2x+jzrFzq0r/L4PLJg0CP2IhGxLi7o2KnRJwPckSI3IVvhunAv423/yyc1JDh\n",
       "fMGZMZZJz3ddn7+pBBKVuiwtlRZpLDT0xlwGT1MJsLmc3/h5sYO64fMasBlPj5CbPwH5oi8mFKx+\n",
       "+gHpD5vBnw5cqhAFPm9zWknqGmyg7c1IqTUIiSqWZBpNptysPAlO/PoQ44ZU2xiIzr98Ys0ahWu+\n",
       "/Qft8lNKHW2wCBIose1nZuGrVY13/tPv5ObunH2JEqJIvvz7nk0CEttzvX+jPxBlQjB4B0UCQnRQ\n",
       "xQm7e+SKAw6KTjvvhf76FjMJhXBmvpQxjg5kvxYNecUY234hVO98scUDri/9ZN3GXZuU2OISIGFH\n",
       "nMxSu4ueU4Hvnp3vhtNJTQf4nMdJp4wZKuvLbMI3Dw3Yl2ELZNdiPFQvgWwNb/GRhKQC/iwZ53RB\n",
       "KiOHkN2wukb9BXIKLSWFaSW37+ucReTmHFrm+CxtBKjrJe8LTkbqqiBE++urAa/jKZfBA/GmHyqz\n",
       "qE6oCvAFp5A0MoO05hvpCoAAAAEhAZ4JakM/AHl5IMmWuzzjiiAwlzWLXmoaRn4GRmqxVZb7Zpe0\n",
       "FxBfr0j6m7hTQWsigPKpqrjSQXIq/ovTJxd/8ARTMtVJKSOCMk1iLuatPgACIPXggKmUoeu+HE4T\n",
       "zR6Ky/FgttKudSpHKBVtvaBlVezUebXp0/LwEmcUiq/De1noRhLVygR4wr4mLBkWrlGmgOM0xiY9\n",
       "Dsp17do+gILRpnnojr0K5YVzy8Vem6EwgckfDw6sosQ1wnFYX9X5V0MS34eWNpy5g/5IPoqntBQJ\n",
       "r4myqFS/jljipnHTa+0W9LNCBkt5BiSzfRiMxbU2iWljs132G0d1TaEAvKiemTZrmYdK3zmOkFN+\n",
       "bYwrIsibY5cvqWNfx3/v/t3A/JheB7uBswAAAd9Bmg5J4QpSZTAgh//+qlUAHSMxpnSVEH7q7HCn\n",
       "zABVpO4hqlTmVkFogXUnShJlyK1Tf8GAS1aJyvpjlslXHgzvdEqmL9UkBOjBwTmB//qeIs9Znjm+\n",
       "M1u+qnaIBwvNeS/fE2t58edKW07gvooQKfc8JY3XQMfvrUIkl0JdMGg/zdkU6Ktkx8TQt2q6jMPj\n",
       "p4sfoEDeT4BV+czvEztK0yzE1ehfk/9uEv58neo9Lx4X3zdgJxo+iGSH2pydVU42tlhlE6JjgOdU\n",
       "VjSSfs5+pHYIm3sQlCCYpR11JVQfyl9hCL4+wBB7CY2I/yQXWlWmuam3N/zGoRctbRmNXQpUvwlz\n",
       "6ZuOv7LS8ef7ltrZqmxSbojmxITVI/nr8fT5zafbQcvP6aYEuczZV/VojIxQluikDIp/cM7LIR+Q\n",
       "pYuVIE/dmNfESqXeAeBTrrGZlgMfOpz0WlT8JlLg/r4mTshFwGTOZvylZ/XwIK52zEQXsmcOEFDZ\n",
       "8gUBmCBp/guLOzz/GFwkDUdCdJxT25ThMTltQxb5S5Jz7MDFhPZkLLU5mLs4tv0P7N8usTIwgxKr\n",
       "jT2hYPjp9VPL5x3i1JqfhqaG0mV8rFG+vHXVenLtMfWO3R3ttcIe2RVCqZm3nU2UfHr4UAAAAWZB\n",
       "nixFNEw3/wBR09Mm8pXoqfM4icCdC6OOJfLa/wQyG7Jp6xth1wIlNrKJYNQss+3OJ0AZXAAcSP40\n",
       "mhWvtFbIXT76CHY4v/lZQ1rNjHY9WKPQp3zLOjdC42zW0LuAQaFu7roOgOhrOE0pFURtOw5/FU1d\n",
       "Kyf36nHC6AIx8fXTug2UoB/iGhsUFBFrOXayuW2aDDMdBylUEjzIu7S5uEmD7Lrwoa7NHFgVyZB8\n",
       "2vwlmWcg4QzvSo/YHp1z29k9jEqzilXEHjlBT34t3SZNsv7MiJo6P5ur6O1xr1ShbD3tyulTRPKH\n",
       "7LY9+Rl4l9X8HjhZGK/dc5Jrc5M3kmxyNi5cddKmCElZYyhFHzC/9dXA2pqeLo4r5d5iytJFmcne\n",
       "hJcVC6vMy1RW0PS1NhwfxGASIUEGjcF/5Eaql8Amgc06nCsWCVPqdTuEoO0SA9AS2O3l0c1ZM1kt\n",
       "QL/C7Z36GKMwIAvZWkKmAAAAmwGeS3RDPwBkeFTTNGGuaVaw6QnX6pHYC1f5ZBKz8Q3hYTRVVUZ9\n",
       "6Ks3BTcN9+DIG0O9jOuavuPO41iWhbxrdKPNHujYXLL/Dofrd2G8Aye3E7n0hE4zpA6nnk/uS8ys\n",
       "yyx2iCjpvk3BdlATxk6Np5mHB8yIetO983jaK5AhlQyZ/GS+smtdUvwH+UyDk9FO4LTtyieYefh8\n",
       "uAMrAAAAkwGeTWpDPwBR4D9sLdjZoaTSnr/HDErqtuOpoJzVgUr0KunVkUkbgUs7XaEJ5OVWHJqE\n",
       "pvKDmleeHgFGgpqXLx9zC+2x1ODslovV5Xfr0I4R/WJSaDcXvhW4i1PDNXWtw+49Bb2eW/qDPJT4\n",
       "/BLOk7Vtl6BrMOm4jjhl3uHhnW2hy+rbPGoF9eLvELF5T+sLwJURvQAAAwdBmlJJqEFomUwIIf/+\n",
       "qlUAAAMBvvephsuq7juKiSpOWN8GUoADVXyEeFwQctQ9bktxodP68J0idJVrKzrDML5Bj/IksYsg\n",
       "diaf74eon0k4j4l4vuG4xq3294MWjwJiJyimHTYSDQXqwzMR2wA5irUP7aTFV/6mgWdfx4PSA/CW\n",
       "yhoB3wte94k8GKYbqHnXSlWh7d3G0f11az/DFfBqmZJ6KXO8hZl9MNqVt/6aL5wEXu4Iwe373WaB\n",
       "hpzHqZOgo1Sd3QPdZRfiGuLpEj4x3a2vqLwfFDHY83P/n1URkSIx0A7EdnVOu3Ho3KOhyO7+nqVD\n",
       "d4znhzHf398XRXl28EM5cH+/NOMCP++kaGJh2v/VyzIAiK4dedK60EybL39zXaaAk/Yx6MPZsjVA\n",
       "AnLfcMZb3NfUvzBwhvuohzij5rT3qRsrTYGuP5nqkw7tNrVrQp8KfPSFJxzuFtkC4fvWSOpVDwPb\n",
       "yI/wJvjlstKncVsLtaHsVgEeCMPU2vcSGKqnNsYSQ976ievSycGfF3kM5t9SeBPIHR19POkwosVB\n",
       "sk9Cy1tMVdafy2PNkyS7NkDidZwk80Veao1B1SBkGniqgvYyoLdelEoxn+hJE7HZqCD8gsjo+6cZ\n",
       "pvlmg2l0/IojZ52AasDM+HmHJ4W3dmN+oW1OeX7MYIgv23tfdINXeMb4tlvXCYFdKTFXPtlsUVx6\n",
       "rY+KAQUljU0ekedGIM+wjtI2IRM0nd7sbqol+9/5MD5dtZPSOBAlX28gzUIfTkLfvr0aGyxCFsD3\n",
       "RBeCYTc2yhe1YVR2lqaLzo2RYfVONT+Z43PFe74XJjJy4rGwkIHnnScKHG51GPbbQYL+EQfRQtSe\n",
       "lKmRjEnConnbnNIx+upBH9LWLUwTn5rcEn0Q3uh0Wa9FqzGeJeEmDuZxkVxGM14cI7F+jr43X9wS\n",
       "nmh5cGq5fczV3hnM5+eSRq+ooa5EhN9XK1kSWEsT3m2hNPJ+JNAxkqaUzXwrqCnGmuaIfkxeoIF+\n",
       "5gC85xTMTCbP4aOwmZHo9X5UppIhAAABqEGecEURLDf/AFHQtCAuWvpiNQ0WiEukPqqwBa03EDZa\n",
       "P5WJ7IdfeMfoLAEfHaFzMaxc5t+JmNse7edyrrvaPoTgN/9TmOn2XBWw1VYD0uUGvD80fIrvZHTB\n",
       "6s4qqeWAL5KQ+jDteKxiCwFb2Ep+zh2x9bzaLgpJSn5uI/OxZyfXkomxmo2Z3XTlVOoSnbO+7ff9\n",
       "Sd5v37fcfioR4pMRA0tonXLahLeHAbKmv+FjqsQoAfZxGUFN3bpX1wAqxZybdoidOrFDB61xEkHC\n",
       "ZdAtQQKc43kd38+KLaL6q4Lx5+HmNPGBV8ZgCHTHswKbiBhqLpWYSLHENH7DzcXnL9Xux6pSZ0VZ\n",
       "/Le4IE7rg5ATcG0loCUaQKibuweeGHGb5O3fnKLiTVAcZa4hjaQuLS9YkSbgEidBplm6Ax55MxLv\n",
       "2dVrPNTNdXIYINvjZGLPtPOgVOTzgpUapiDapfAt0rmJR/pgp0vBtMnz5kSsdbkLYmKVyfieKMWv\n",
       "ylaya8QPs8xYOlpAKYAM1NkfbQITmph57ZPTPpZjp202bcdcliGiPibz5HNYKryAfMAAAACvAZ6P\n",
       "dEM/AGR4TkRu/q9LU/RILH3PpD2GSV336WKgjaAxtUpIGTiyPoF2aLXZnNZ99NWUQe3uDQYtOeFA\n",
       "PPzsAEORRRGy2RunRkxwNr8kOVpovweK/V/lbfiAgbgT6xjACMLPd2BPBDtdJYtFf6ONM47WBZhW\n",
       "w1tlJLIGwq6sg0vFH5mZs34G6iOgKCP40ty+czuZ0mYcORx40//wJBEPnErOXLCMPxZo10Ucwmkv\n",
       "IAAAAP4BnpFqQz8AZI1+Pjg4wAjfmU0wrQT5bprZ1bwgVPeKnWLENFLmKQBWbfVjhe7Muc/04iV4\n",
       "CeU0vlUwguzX3M6phADjnelqvrxQFYxJACHVObOfX+Fhtf6b8RmxxbxI1kn/kaQly5zAy5YnQFgU\n",
       "j9+z1sTBtnbzjZULL/xFDrAwVKnQctkVfkx4wLbvI5AjNDM7TI2LT25DSXvrqimJ1MpZy2ZzAKFS\n",
       "2oEsR8T/M8SdGyKdeqpTPtwv9D8e1DZhqRPepgtoTD9/+/OE8zM/f6isbhECEVaJXfjpEg++InUx\n",
       "lhgsej0hxLdbcrceo9+Q74+HtVL8R3om4aCNPdBGVQAAAeZBmpZJqEFsmUwIIf/+qlUAGAlfLcqS\n",
       "jbr35KlJ6dgmn1A7MHPza+s/Rgs4DAZ2bPibrZv5gA49azclCI5S/PIgKBfFzxMeYtXpFtc2GS/h\n",
       "nouAHbgE0wJFDUAKcd4WP+4samoZRaS25idJ21gEYPe9h9HmYQ138ygOwzdh13rtSoJOuFRngI/v\n",
       "VB0u6wEAA0Qx+RKh8wnCo+2wlzkByDirZR0066UjYLSqSt+o9NCJfDfdALeqjE1Suu6FzXZ3ZecC\n",
       "EReB93r7HryHDmIbZdfPQsDuXvKu6AehXUVUlQUh2EK+IOvV+i97aXV5nK4KCFmiCNixYyB0DINK\n",
       "pZ2LxB0daiskE2iHt03IakIXYMS8YxkMRFr1LGxt7Yx+3eQFcZzX/4xg1W+3g/Zmrm5iwg0TBYJK\n",
       "mhNy427SFyhcJI8JL64vsw4GlxhUohOwA3QjFFfRMhMJcVrX2ZIawGBozUrlxLdHR5VPl927xKvq\n",
       "/RcpGhT0hR2GdMi9y0vXLEOWevAYSExyaP6U82IR1jVUqWmmgw4dQRMiFbloxMK7fBILtOvWbOQD\n",
       "YLjd8uhjaNdp7Y6uyeVubt05UKs8BLcdseNwJgXXcZM5qrR4KWbj6BbwOLruUq+ayh+HkvaTPXoV\n",
       "TrGtLBcTUIAAAAF6QZ60RRUsN/8AQWDJ+sOghrToVHD0tvOqqPhBuoLvph6p7haksZLmQEynC7L0\n",
       "vsq8FcNEANyr0yj4rX2UZdrcpN4b41nblcxwFSgMZwkg+IG8aI16F2oRpS721966BIcVtfQ0HvrP\n",
       "b9GH9O9B/y3qmAUkPIEfwB7PLe7b+d62PrHED8MTVeA4kVN4fTvShM++K68c8aSdxPh2MtSywTSe\n",
       "w+PMJV5m0UmlTTAn+dMDVJpX5kyRw90ANR9LJEc3MxLMqBYBG/G8BHM0sXtI9XyQS6TLIYcbWH6p\n",
       "1d9ZQaIjss+BqRUKwmVKhlCYR66zzfJGV4f9anCnjP+sA23/IEpoSimDh1Saq87NpZvpRQjTU/pW\n",
       "75C6U5NROogVctzTa/71vvKDwTrEaFPYxD+TXijuyHdtE1QKVRfui34dlee+zIKkDRFztREeaHbK\n",
       "ZcuZqapOE/go8lCkJnMYl6Uh2KZsH7jR1sLGRpyqCvYBHI1KVzsj30uQhZdxY0N6AAABAgGe03RD\n",
       "PwBRzyPTW9a6pFzJ0gh9+AuSNJZRLUgsEGbhLZ0KIgj7lCkc8Z6B8mfqIASnw0/Kvcg4M+IolqWf\n",
       "fVThhb1nq4PMpQH6CeojYqtEa6vvvH277VCWsN/8RbudZuD5pghsnG3St899Huk7ANymDqKUL/oY\n",
       "lwKF4mrrKz7kniNdPNR+nmrmk5E0W0xO7SJ27kvEkq1zE6+ApiUS2QTYb5sap6+opw7UZf45wkzy\n",
       "7fxG6SS83IZi3mDgsS8F80zT8ppnntMWhP0BBNMJUn6wKJhM1aHpaESvDNknE7KZFN1lFAF4Mzbe\n",
       "cc2OI8Y7KFPr5auddmJDzSZKCYDa39hdwQAAAQQBntVqQz8AUeAnmQ0aOmNtmZhCMD9CIDG1BTs+\n",
       "Rp1OL1nuN/QlyHYTPSXN8Pcj8WBnURSy2lpDSuAEcMULBFdpYXo8Cxf9ycpljE4JsYwmgEsTpcNh\n",
       "8jNLC1IH+u+K2VJ/W437STGIoDR7N/UvLn4sL7SoNGbh+WzTaNBfbu76lqA/Do40qJ9RGWXaDiN2\n",
       "3Zhdt9mag4O1VFK+k0U0/KBZ2d5DnIvC6cKr9nbZxwcVhoC/ePEQJyFePqCK8JoBQliB5f0BrvRX\n",
       "EA/5NbxwmVLmkRS8NSzy4f/oM5d91SGtWfI42xcGX43m09/7NwwhOmjX9O23UxfNnxEn5pH2qAmN\n",
       "x/RDZgAAAc9BmthJqEFsmUwUTBD//qpVACQHHPAx9WPRyWzhP9e5n3og+rSqhaZ0nAfcB1OquBVR\n",
       "dfXtO6M2NnSLqJuXYvSOvaPA7DRelIAL67cNKx6BI9TZW+X3tr6SFHbw8nJ1UJSEmiNXAcvLw8lv\n",
       "ggRHngHAN6UvXhYIQuQDBwOxXEDiBj5gYiJvuXxQqPa4hk+fXarQcVfx7FRcXdovCppIMixfBOeH\n",
       "C8iy65InERpeYy3HjHisu2MN9vuFnNbZ+q9Y/e6cR65KqRhS43dAs5ZTvl13gJwQF2m7PGsk1UU8\n",
       "0ePEqIKOD8G689MYo//hFoETgKYsxMlkiSXjFDg1exTeSfEFeIbETT1oUMiNrVxfuwunIVQRvtd2\n",
       "tKHqWoPc+JpgFvYa5PZQWL/KFGtSEqNPA7d8EGsWBW1yOtcMkRs+oDVVN8MymTS/7wGh9p/G01sI\n",
       "8uxUiwJN2TZWItbDkJ3L8oUhhz615rus0xFwGnHmWf/MXVCpp7Q3xp0MAYbGxrR6sEQbvxC36ZH8\n",
       "H692Ap4BuDBT67+xJ5+BuMefAHPRSrIWzHqn2PP7p47G0JS2NsosRJtBIMHIuZGBKEpF1alVR/4a\n",
       "gPwD59iC675HmlRM2zmBAAABHAGe92pDPwB5ixTG23fekU/lWMeonHf1zEPtin1jlITiAU1JvvhO\n",
       "Is9HEK/47cZRDsJfTbtQAf1xhpr0r1QIEMpknCwQ4gyYfG1IJ5ktx2yNR1FePOOB2spssvpC0uiD\n",
       "e4fg2Cvla8TYgQBy8MMWKfxOoYkipJFuO4dSjHlAG0/1elBo1afvpd8eMINtEIlJz5G0G8/ddYGL\n",
       "mMW1TFwD2oQBu86fkxJUFU/etZSwZ94W2C/nsPQu5ycJCl/EelOj66HlA6ueAnxxa5UlZi8ejmb6\n",
       "p74npeq74pVZP7b/AEpqWV4wCd+q2Q5nOJLGBjTweBKzEq4Hf4jWTZzPhtvPpJovzvjjsJvCJhpi\n",
       "uudth/+JtSVH+/MkkFNpwD/BAAABOEGa+UnhClJlMCGf/p4QAtNoDCYlW8tBx5VjSlyHvlXRZL/r\n",
       "OEr+7ai3KXJVVZtTdAC3gMGjLc4I+nM5nJ8uC5eFzu0v1J++H3EITaxNK0N6frkMVV1XbUlNcsYl\n",
       "f6/hsG9vtzGATX0NHs5Lg3PvF5CMkDscgi2qYHhGPiRr+yTRAFnqqkdwMzzKW8eHhV6m3Bxa0hWu\n",
       "ksScAKWWIRPRgCrY2Hy5t90sXSAmaNhr5scI9CgAIcrfwtiYOBYGF6AnQJAuQKIrqOrQWP4cVvOs\n",
       "pF5uqeoLdbxhspa2ROlOHHlLWLJnob6nLUqondpbNvaewyJpakh6wezJDj53qHzmCm4frqSSEQrZ\n",
       "2S4ZeOAeJpYHep40IehVqsSQvc8zboeBOTcphnyRJi2uIhQCPJxMnzxm1LIdeK+bYAAAFp1liIIA\n",
       "BP/+97GPgU3IAA2XOop6H+EVsfSQUXqx2aBk6gAAAwAAAwAAAwAACIeYRQfwDYf4ijH/AS2qkkU4\n",
       "QS2fw8G56Nq34YCp+jVq2dC5Tu95FnY/KmqnLS/ok+SqX5kM+SFOLd7+L6pjdqSHRjvBa9AADfrL\n",
       "HKIotK2WF2pBKF6wm3OoTsrserhrXVYaMCi1Z5Hdxt+zptaRN9HoyTlsO3qDnHXg5wQ+RzkL+9xq\n",
       "2F3UAAQHEK3ZBqchF+SsaO80CBV6R6NbRo8tpLEiVoGp4A0cWmMhAr6QMhQ99i35YTiB8/DvAhR7\n",
       "uKAREaPZfVQia9+AMF/c6efjwJ2KDuj7O7N46my6e7UIiud0UDYbUm9thp3fcA/OiTqWcPZETk3M\n",
       "KUSAV7mbFHqV3b7rFxHyyC8UvcqoDWiHpEcYXsmJTvOSkaTlSe42RqCwYnfp+z+gYNHaADkuv9hN\n",
       "9RUNRdJgvziNDOuPrNhOYt9Q4tnrfXt5WpbTMxTii606AL0Who/nxJICdL+9CezFCIdz0v/moxDB\n",
       "qJqowHlF1yCfeQ7emoaOXHxG8q4lwRGdcSz8Mzv+LxJ9kR5HYj3PjvTTtLWKQAaafpH/2mqmxgme\n",
       "jXgubl9fnPBydfFwmPuOs7C+m/c8eDh/jZAEzeUQ4gPkXIkAuXZ5FfmwLUBk+X6oj688zkiCNaOg\n",
       "T6yaBjHq3baArHXVFP1Assw5SaccRcR7iUtWkB52LnVDlIMJocmAnXeH42Ty1Nx7UVXoiGUPqzrA\n",
       "HCRxtAIpkygOJpdASp9BwEs5+sjGtsXu12ytbKkeqEQJ+iMgj00S2hdqgDMb+35SPZgLm4taRXiK\n",
       "csAP3dLD4XavHe+I3s1pPlWedNqnlPVhn/Bva2f54bFp7to/N0U6lRR3BLUNQa2cj/fVjfGJJNzO\n",
       "sUSYqco6trlDgYkUqnQhQd9vujrF69UHFcWvZMJuCeq1v/WR72yQl4DunGR9Iyc9saTeHz5shMk2\n",
       "1Vi0io3VtdWBguP8EKwfylsgWl+jfqEHZvFMpDjmW0yuEcSQkP+WjbWHkhp9SFJHOgZSemCmLC65\n",
       "+9n/bs0rWSiK6zCBX7OIde5Ll/+KrvMdIhVn+RcZLCsQ9jn+FGk7CIlov3zzo6C4QK9zfqqzjQl3\n",
       "pIjRkL+iEMxNIBCjAIvdjm1Clj/hLU/FP7k0KIgEn60xfQIwU4T8OupnyDvibINc3j7dI/v96pPi\n",
       "BRioYKpzIvJtAHf3egZ0zDjT0V46+t0VZUYh3QD+Ro/L1yeFkSI05FSQvroCiNGXQIzOeJiSxp2E\n",
       "WDFmBIhBMoFd9N5cjhGpMy86ljL5UXEd2Tmo9bSQAN1faBfFkpn2dcaL1LNnJKFlBMqPDJEAvHZH\n",
       "8LfAUo+X+xR8OhAjTj/gUPsR7D5/8AkbKC/24SQgfxO6gM2joeRy0jcSfSz2Ey360hwDFzzVGK45\n",
       "++/CP1vRYBo0SxZJyY7tiRqyHR6wdIDDtgXd2QkUa/78jjZjtXKuQGwfPwzNY7bagMjRxlMtUQIw\n",
       "DgvzMhwAN4nhGMOXZZ/ZYFyF7XY0Of8DJeCq6qEnS43XQIEQfnTdWVzb+x5OYwktWirdF6X2p3XQ\n",
       "9ErbilvdOCbdj5fbjxlqZUCOSHA/2ywE0aPQRGHFOZC90mhg49RpAVEW3iO7dFO9Rjo4FfCWC2Ai\n",
       "VnBs9hXusfli+sFILzDQHvTFpcab6M7JLrhtKGz7V2alFybHTA9pbgFUhHSPbwIHI+0r8Zyg2/dG\n",
       "kK6ewzqK1Sq/yi/DJa/dhvDReKooXVwW1uY2bs04EdpKli9/UMg9LErktnxTlMN/ULASTLUlpPtS\n",
       "tzmqvHYHzsFlTyKD1jvG5v5RsywRNBsTd2B145PDitQIm1zma/AlySI3a0HTzTYU2Oo8rV1c60Ol\n",
       "MR8FUCb5/148uHiyjGXSZIJyg3bpoZG9BEZQBjGXHy/d5VpuoJt66SL/fC0lAqUsZb12Qr4afCRL\n",
       "8Tw/UYskr0VH5/4NMOQVQe0Ptvq1ECepH2kdp2S+Gy/t+LrhebKEgAhs6q1DbydAVOMu76LUSMig\n",
       "jnXUxf2h9aq96hcN/nJn6j/h8oJTaZW23E4T32R5IjIi7TvSUt2FQC8b5fx+eOtMVUq9Xjjl816R\n",
       "xkyckxkYXI94ZZNd0PO51pcGeBoYGvbM7ehyj0mYqe8ex7+jH7UF2qtaJy1bNgdxGB38AJrOpmhX\n",
       "7ltqeBXNvknbxgXtc1Ed6H3H+w7v3bEI3XEpVk44HPx6OrNibaoBfkQaWsRFWVSSJsqY7TImG89m\n",
       "/BMv0peQQeBHBTj9x3uJgl0rXsMXpGeoBqtAAD2vNKNOOoIJKYLKEB8uADvsSZh2+pkdN+yZn3Mm\n",
       "+Ox+B4rm4TF7D0STnDTDFzPnY8O7yeO0m9v9nEW6D+MpIFUVrrxFzLf/SsujnOME40FUv6vG0h8C\n",
       "cDQ+uisM1nOTUOL32mpGCzNU4paCajM7r+0tlPYO4c0pXIZnonp6jfJkgtnlt10mRIhYT7i3wQRx\n",
       "v1GNV0bBhZEqoHCNnyx0Ne7sWSeYXCwVvrgDmFDuiSwMbhg1eyRUEpX5hA2WJBU+LaGGpGuC1fbn\n",
       "6ehM277LnAZPXiZIeSaNZoS78ccwX60Ed2hq4BnPc+0p/DaIklB95F7KKxPV97JnTbAETv9v/0uE\n",
       "QVPZo5DVM+BkXwxF7jAi2wWIpPj/A+GrQQ74xvMA2r02ZZMoJFPgooN/zNfXjleeB68SBtpZh/wc\n",
       "Y7ScES9lr1Y6+9BFgVelCfMC0uiQEJyATKTKQ1Wu1ik3wTpX6hq5kyrmqfITVQtbDTwDQNinrUqu\n",
       "gS90pbwWCYf6lQCKgvAA2p9+QjyMSEwSPRV+B2z0Fxjf7JSiA0/UGmZaND8bEX3C7yUAk11XswEV\n",
       "MT6OSN+DoIOWosiJe+/yd4CqAADerJdL5+9nkiB2JarR7zhQvCLBO/ClHphgylaJZ9GIM5j08O/Y\n",
       "MehguzWjjIhHeVRd9IAJ3DzZsNwK+lg8NFapUDHSz02JOaGxh4Op91vmjxkkuUx01ac72JUxWOjs\n",
       "aTC+jGauXWyE/qYTsBun/1b225gof+u1LZaHuPZ1ducTFOfhP/4/Lj//7HsJcnTTX1EPS98GO/dp\n",
       "jKT0aEoaMPpHSuMLyN/xpIy2UvilizeIWhdinB/qDe2NF2x61Hr66PTB5MO5UFho0bIOv3k+N6L1\n",
       "uZBFX9r4T0iWL/+RqTkNNgCV6Y357xADBK80jbgAYa/ICzGvxPy8qYJDpTikZCsnOrWISFCf8F4H\n",
       "NSwAeybYX6QwPb9bVmII7Gd2yxs4mRo375nIRTNbITicEeTOxA5lJQC+jkNABlOJ+a5cnJBV78lM\n",
       "hofHIy1TEApksbE5ZHLONNG/+TLJAi3HLtAPdQPzdZl2McSmDjL0hfbJUNApQTZzEFOUVlZKKI6h\n",
       "Brki8sXeLobYQgpxzaTCmKYvUGOZ2EXRE1Lp2OBjWR/HDjxYTEzUrIdm+zneV0wD/FKIUsilwT2V\n",
       "36f1Z1rssVuvofoYyJ2d37myBuPTXNxcI11mHoHOHS3Fadv0/p/IaTCLRdL+Upot9SPRRP8IblIt\n",
       "M8OkI99XxPqMA7LXwII37VcptUa/6UgSaeuLi4O383XunCSD6UmJNjLqNjXAgOmQiEtzUlgVr1Q+\n",
       "2lUwjezPIx2e/71EBrcy/NuGz5WiGkBS7PAu4nYM82cJM/c5sLiIXrZe9WSsKoekPklo3UlFzoKk\n",
       "8g4eA0QEcP8MtLm4R4C8MAOnF/hP+3a5m99SlolxSmWj9bEPhbYteFHsJ3YQWhj6pX3xI50Ci0hQ\n",
       "iBYWIrcl3lC/wTsfsEwqy7sbtrzf/7Zmag9z5vTFdpUd3On4rXKNILIkI+BNtqMBUcmpjJzyEDhc\n",
       "5Rr/j0RlnOBKYRh9zJVC5bLLozuz6QoVjfmr6bcQKI6/N4ruVqJLH/12g/Wgq3YKQLuPv/kT4eA3\n",
       "MC6sEGU9RdBIacNTV1Ek4z0wS48+K1xtzEgn8sDd5M2V0XxWS/hNt0kQOQBIV5POxOu1CvqIvwkW\n",
       "pPmkJYkohSFj/zE2qynRXco12Tnee/iuMhnDO2O/vntAcGFUeGDqMznw0549yw3h3jqNWKnfgpqx\n",
       "4egAcsN2nrWHbeA8XjGES/eyNXCtutfHpPTt8jmetWXJkkJyMXIVcPNhzUeKbN9BYDbMZxsm3+8Z\n",
       "YlQn1WjOPktz9lP9uOYxGW+AOXDILzLM5wByI3qqQSp+fHm0S5rASO1RX2QXzPrqcsCZEq0DOTWc\n",
       "eEBqiNcqF+v7aGCsjKZMW/oL9pq17siLKO1AY41D3F2tb4ghj+YIdo7HpFCXVePBSGQ3xSL6yD5u\n",
       "8jUh5fECcvtAntbeICBRsTVgYydcWoKpp57g9skOw4zTz5RvV2QkxVhDJ5mMSXCIT1X54n/3VqwB\n",
       "ZfMMQEwaevCRfwN5UqmdCtgLUVCgG1rAqM6Wg78vcKfOGlWRINfe0WVtk2Qk0PtNRpsuorrzOsIp\n",
       "tTr7NVeS5YYuSfrnjChUmqk8lLKl7RllKeLdACgimvKMhSCWLnNDR6kGpMcV1vucJSy3nsiv+4Sh\n",
       "Wd4EgONWVaX5bpLooAoCiQX3XUfN09j1CGzdYsCvyUieg8mPGnKscRPcQz61EqxQWXyrLtOgkR9F\n",
       "EvIthNMYzMFWFZ/iXgTwsr1R8IhxgT21lpBvPo/rHliCcEYNL0c7IZW0VQVF1qxV9jnxS1Bl1Dz1\n",
       "+k0sa9pTV/H+ye7dne728bOmAKQSK7hLnh7ldEVujM+PTjtgFvMjeJ4Uw64y2rROYKy/dYQbKFRe\n",
       "Sh+6d2uqdvwGl3ZUp5dpelD8UHGXNpfqzzla320DggJtdHZkgYcNYA2x9H371XY+cmCIS+lKqB6D\n",
       "weAXwxhdudhzZhNAd3Ih/8EfdSLS2LFydoljs0LkEQZCalLPW2qEE41gyoc+II/Vu0gT/Oar4UkE\n",
       "NwG8i4q4RMQUr3np3qTPyeWqGltWkmhG9LPfg4PF4PCxNXo10pcFWSj5cmqpVsmAX/erk8AMjJAi\n",
       "RjueuRjulyjgd0HLe9MU+Id+0ePHfe57Ut/oCbk5qqj+O16pTK+GFevLGfjvcASnyX/LeDoggvGq\n",
       "LjCByFOtCcOm8Jrfq2fLcpZeZCE9TneX8t9YyEpyxEJrBemHT1vAWIEp9kPDQVB6FXgk/w5/gCIP\n",
       "gMjcUfha7IOlpV0dk1LV1IuWZxUKs5pKXtMcNV5k803z/9ew/FEjgEiTl+Or2ZMf6AFOpBmV+W2x\n",
       "Kcn+pCQoomRu30G4Id/gQCJFnWl6r9pvIiy6j7sEQbfZem+VxW94ze6RCdyXFw+YSdOhuh74eIeN\n",
       "x5NMbouFn0m9rkbPl6L3paDNLoBS3iAAIc1gD6/WPOd1DuScUamlkgNtMA2myTUhaDKj3hgm0SMX\n",
       "SS4QsyWC6TDcT4/Y5bwHug21Q0tNHFFeRxxvvYTDAZh8EimQjuEG5QEjoO995SbOiZn7IZh5ldbo\n",
       "RLiSAwij5167IDhZ0Tl1lVOtGD+9oEv/eKrP9jwRa9jNng77iHeRra6B8rq7w9PfMlQ68QrvHOcI\n",
       "m0G6+/8GDrHugKy8xJMwBQVbrKRfhs3GxxI/VaJw56z6lADYvCChNugPzPcdlcLSFn9CS1X9JbvN\n",
       "nxF/6U4haohTBRhGVkqU+8vqMgZS9zrsnjoD4cKAyEVOJWxRskkl7OCmyv36HFC69kZqAtG4Gkfj\n",
       "tHDmblgM+MyPASYrQTEpqW8yK42vkCT7b+YNn7xVXyb5x1uTCanlCXJrQqGAfmHan25zSGQK1aTg\n",
       "LEYFiXuT8pk3NZSB7pNCcFgmzYkpS3CRjwC9yD2KCMHUdIDIyLMuKm8rCEvkZKQwcDOE5SK5gAAm\n",
       "DXaTvLq6hvfVQ12m0SVkdHKO2WN2WU0x38t+0mg9R9cU7yFPMhHbol/qXDsuiPVxjOEFJphHPfNH\n",
       "MFLtyDiDUGc1txyT+xYOKD1B1wWgV7zKO30HfvqGboj32ELOys6Fr/WCXxABnMVA9ZWpS73eUGOJ\n",
       "kprBjljSCUA9utfmChxo787YTRFAQq0w1TFynn/KYXveA5OlRYvmFLD0HvdChZgwPr7VqDHvQAES\n",
       "kDilcJmtC3fKgABgEM4TP0MKAo3doI/Neh2YXDwjSanUOlwxgXpgaFDOZ9HEhQ917O9Sz+ktMVGe\n",
       "lxCMsdG1KoRsHkg5rQ22mBX55o9pLwRgz7IqyH9ZQnrqo6Hpe6KA8vYp208FoJStDh0TJP/w+v0l\n",
       "+CtOVyoFxF3J+8gQ5RTQOicaSP4M60Jf9uNNsLkQbwwXjJ+eT9GB1nFaYXwdnTze6GmKe7pndsgV\n",
       "4X3qe9i0w9d3ZaOCkSd/SBy1PsUqrjKA5AewgznKlJvhdEm7v5neTMW+Q274Dt2kG6RXRL0MlD85\n",
       "pNTn2HWVTBd/flTCn3NYF0Cfz5rZUPYWWrsfU0zBdfDD1UrX6pl6EmnVt21ScJdLiPWJABfUQTcc\n",
       "eOeDl11hMWn/O6Cwc4teRrc6bx7sL1Wwt3aqAjCbSd0EzpVjN9E1RTG+zf67/6+JpQRb0vNshOcs\n",
       "yZvg2ceqla4GZZT3TgasW1C1mkpryF1iyey8wvXIhflIAubFOMGS+nB7YYWF70i8/4rT0zZ30zL3\n",
       "B/sjAJG6aB5Yq0EBeaAWFSOhnsxBEMDT2PxKTcIGboBAL4+qnmOcTFGwRp1oc7OQnla5JkeYk1Fi\n",
       "wQ4Cwjq0uReLcVEfX+dNCloa8dKuhs9759WESpqWpNpco425xSInLN2WSNCxsK+TH+OV2NwWumC1\n",
       "i4DG2yttvHyykiNrziOZ32uBRosOVGDPh2gd1mmKiJf2e8x5i0KEJZJTG2XRzFKtTdFCe8Az8a2d\n",
       "I7RrUN1Gwx963wsscfxnAYpsV44C2KGLsfVMp9DQ2ZRcR5pau7UfdOl8s1WecdAmbvmlAS15WtCk\n",
       "3a/HYUAwMI/PoWAyHW1zqG6N3W2bNis0UseZZQj9LHcFIDTmZ0YJ8SUJK0sa9PDG9LuYfInpYI5k\n",
       "yuhQ1g85R6m0ZOFym+oZ+aIvwn0BC/HQ+C5Vt0PSgxaYvT9j0cbJ0ZtAcVzz292Vf74I71jp1wX6\n",
       "70aKFTJi8MX5SRXL5WBGfTKV9to9Fvr4q+nd2PNDIE9KXayHvFwifL+FjEuqvMd2LpqE4D+aURxk\n",
       "On7ppHaBhiOHbXCe157UvnL6JsTwdwgZ1JrVwOrgtwWsHKqbOqiEBMT8rcYo/ks3Kc555A7LsNUz\n",
       "mKjOO+RhRwtwVqePvV9JN4oPtJ3BP280Xme1q+MKzRwGbkU61VflGdVA0QFfiYpoVot7Cr+fiDjQ\n",
       "KRLP5KSZAN9t+hXS6cxt+ezMaLDpIpDjcbewWnf+Wo5RMqObRJvSBmcKpHs+mcsAcCqinpx84ebZ\n",
       "OE43fVVUihUugmLyCL83y9Mpgo2OpAWqWTcEsnMtbT6PymVx9SygpqlW6ygr+ee7mMHTINYIDJwk\n",
       "/8JplTGLngSahsVvMzB4i2sviO+rlXdnvalfmdalxkOisE2NVhCpwYXP7jBG94W5dnPshnbOH8qA\n",
       "rbey1pJbrF/1dK7HMViKz7Z9+AO9OE4aHA7WLE57F7PyfKFpkUGaT+pJgjYGAwbXZSExgJ9XteZt\n",
       "7uflQ7Rm/ka9KTB6cQr6drifdIWrlWf1/llZhCnY9Vvd9lRbCK9BBWu8sIju6IZEuMAMdUfV7EAq\n",
       "FPin1b/EhDI7uzD6UzVLS6HXpv+/AAADAAA2YQAAAUpBmiRsQQ/+qlUAAb2ZpmnwAGxIA/qJa5wP\n",
       "E6Pby2Nj+2sXsSgJx7xPkId9+hZP+ae3N5c8hIHxukRIKwKDzUTY7dfhis38Ep1RQ5gAABHUvPwk\n",
       "duh9I5j2JPyeH82CHPT1M2P8Hb3Dv11Yxq3GKGE4IyCqPDXbcbov81S8NYFlYCE+o+2SpSsPqJJZ\n",
       "gOJrK6djNZY5/umv4JQ5iwh9bkbb0kOrQEf3w5zIZzf4Cg8rGrIdJFu4eXcuE0wxdS6oKE5PkIwh\n",
       "x8qN4NCfh1FUtn5EucmX9M2nMbJcL/gD/GV1jISmL560aw7HglTP3u3+CnLOnKqYMa6vnH7qmN4t\n",
       "efnUtHTqHacL6th8m5Jcm22uCT3OhTTaK6NzWumrIbeInTZ6StMvjiPbcznRuaG53CaUrj3xzGvy\n",
       "MKZlEAtDi8afmTUxFefOGb4AUkAAAAAyQZ5CeIb/AATWNFB2+h9/nV64IAAACWRSudp3oFa50FP2\n",
       "+Wdt0/1HQmqMfuqUUoUJLaEAAAAwAZ5hdEM/AAX3hUw4hN1V+NOgcAAAAwGSDFsn+72/ekYZHmpc\n",
       "GUeE3UtlolfUADjhAAAAHgGeY2pDPwAAAwAAAwAABa1BfteiEB9moPVyx3KFKgAAAGxBmmhJqEFo\n",
       "mUwIIf/+qlUAEwOKJw3Af1u+sLQgPnXuRHp/MrHQJu/PyDu6Lag+o9/m8cBAAAgePC2kox6HpX1e\n",
       "z+1DoQd2szAHQXFz3nm0PrLaGNpgBQsotR5cS2q/31WAGkDQ9tSok6E4PmAAAABGQZ6GRREsN/8A\n",
       "NMXXGNJ4suB50CX+omTmrJ0YXVmKeIgChPvlJGg/ulLSudoCGQADjcjd3lNckZR7Ux2tclczcfDO\n",
       "COkH+QAAACIBnqV0Qz8AACavPQvjJYkjz+iCWgwAQR69o5ylkyrJE5HwAAAANAGep2pDPwA/hYJC\n",
       "o/ISyb3SV5Yg8Ox6v4Tj8RGVRTlEMdnpcvOQxS5vdliCsOeRRtWnF3EAAAToQZqsSahBbJlMCH//\n",
       "/qmWAIwYHKcG25vnsQCg3y/zmwBEprnnhPQ2bd/NcCvLVUPAHmR/YdfKpAUwsmSv24OEULM3iLm6\n",
       "QVS7TZczXmo0JW+wf2dUQeJrfv/D+H5BuLLz2RwPnUChRbZ6T1MfhFg415NLEAcHKbJdEgP2Ci1I\n",
       "G74c02hzf3hK2r7LDHzpzkMyLeqbA05TMlrgDgNFALokQUsgkLzUtxGniFy6w/0bqvsPQDDRJUiT\n",
       "Ve144g+G/a8ntxnC5Zbeg7XjyknDgujJMlz5uAN45I0yZizDA+twD0MQcAsTupMlVifym42o+a4t\n",
       "JdbGD8f8zin0BeTpCh/aYBjfujPZIs70IJ5jYMLV26XOhe4WSXvg7pPGl3rAD503+9fWM/o/U5Xh\n",
       "XyqR2ghZyRtZdDkHL5dO1agB28fmU7dEOVXHf3qXywSzAsQtB0LstxEcwFIJl3P5wd42Y6CclHXH\n",
       "yULj9JJa9OGPmOcuX+D0XPRreyC840yXyv2QKz2bC6oSjw93zSVPyvDMNwp6f5posOGr/mQ690kP\n",
       "F7/r2YkG7CJvxE53ycZKbNd3opXpAVNpONhX2H28XYoKfr/Yb0tfdlyTuguW6z/jwuBj87j/22Y3\n",
       "ZwHAd2HS635ZP+FHmse38EQjPjGyuH4NKCDZaES1h2MblxNRrixTGsESRfYEjgdN+nHDwlU5hM/o\n",
       "HKj8LTwGn55MoYYBzl98HTRhYr8cSx+x8fRDdqORH95BdSOtUsXwnx5dkXrAkPR+603SH1xqUQFw\n",
       "ZPEGzP0noW+uZI1QPCPbNfvfnt6o6IgX2EbjdBafGHSaf5ohAgu+qBIZf+J/524lj8diSSKxH2pr\n",
       "eyr9DGqT6TgDFw/9ED/+QECDfLmWKn+N31sWqpFYekpjeoynJmgkeilqso7Gty3qnl49zMFonFh2\n",
       "7rf9m+/WFRX+8Yb0wZs9tZfSI2ZFBNj8fDzIJfGhOvtDJVe03ZVLTbLAgKxLQ//PxrH3XKZT+ykW\n",
       "IsAdOuSZJiuDuO7gN++L8W7liRukmx1KBr32Gffpo1ER+8rSrBAi81Ypxn/Ako3sBFap1CVWzgIh\n",
       "tQ25FhfQOTGQcXf5s/2kyek5uYqChSHNd0fl2sNbzD6R4hDSbB7qGGUjF3wf73Q0p30F8De3bgav\n",
       "M2MEG59dKN+7YngbkntXykwl7r34l7ppgPD5vBH428YquS6aH/SUJ9I/4NhsZ2Wa5nCx+iECqwrQ\n",
       "/oCdn+FQ0+2Z11tpJDZE5r/H3SfDRT7UHG9M6VtIeV2A3vWrdbKK+LkY7Jy526+IPnGEqY58jTgT\n",
       "A0EGEFEzMuaitgObDsWBsO47VErn0apoXdZQrPhxcHhF5fv95kD0fYVDQDD3yCXWgmGVmYLk+rmS\n",
       "vhq+YAby/B+Yspc3krdidwaC/LosrFJkfCkIvm2MKRDI8C0wiOXlKKuxB2v9MvfVwn2cn+xXFm+i\n",
       "G7OGKUZJde1y2KudzOV4oJu4DC8b1aB7/pShkJvpFwAAOsg1Ne/Qq9ggoZZ7T9GE6SaojVPbyk3D\n",
       "zJGvYzhureG6wrDuE+1vvqsnhT2T7y7PAGSTO2uAakLDa1tdD3SWx8WcKaHEuMExv/wrlj9a9IY7\n",
       "x3DUJeCUP0ysmKGpSGmSPE5XK5ZtxyrjXqQ6Yu1mzb151EKZA91+NQ8OUL381UAAAACpQZ7KRRUs\n",
       "N/8AZEu5mzSKIgDAQqzyiDFq7i2DEKxh1GmzAYVhAxfIIwX/MWnCZ0ghdm+KFM/b6b/7hRu25jVN\n",
       "f1C5zmOPem82Xd3XKKHMqtIJSTgQ74vz1ApYBptmvfG2bHsj8D/3wXNjGUJYPCIKgXrvXVV38rXW\n",
       "iUcWtnpzgghABsJnxN+Udll9GxAZd7wQWw0WKq6GgSdE9RvtIPjcvYy0DLIaj3p3QwAAADUBnul0\n",
       "Qz8AP3kI7gAAKgN3PADNzctmc1jhQgiHPbxCJyyGTy32KMgi3Hq0Rz3i5oGq7QMBswAAAgsBnutq\n",
       "Qz8AeXTgsdKFVG2p98KzC5rU2IfgC/u/DsrcOnd25sA+qMvQxFnh6fBbaomInq+CB43Cq674bUaI\n",
       "tAvekoZDYoyv8eCCmP0x6pM7UhXgFtnwxcIV2S5Dv78J6r0wPCcnqGTLDSQej7vT7QyiVA3HLmFA\n",
       "iUVw21p8NIS4oPOcrfpHbBp8MZfTlL2wVCmjl1S0FIAw93xzWMZGOJSHQbQATr+TGyOtEILkhZIS\n",
       "nR3Yy8944T0NzfU0WsChoH6tHtf1i3ktJH1vc7WuekzKjJtkaxjYiWK205BKL1RTLORPcp938UMX\n",
       "Kv5VgV+AMWDSq5NQXCOAL7RG6nc99biDVLW60qI7y90TwHoTER2FGtOQPEIgAKx9Cw8q5iRT+YSC\n",
       "5Wo8ClsbXMxQ5Emk1uCVFxrmpyN/0gJX0dBWP7k93PTGAEDITbnWwzOL2oGEjkOrnVQxRLTm7H94\n",
       "OlfaNv4KCvgOiQMHVgZ4CY59Sjgvtc6TSzoYMSbRibe50jAW1hF7YF09NbfhKFceyKWboI+/pEko\n",
       "cLhouiq101MV4xVBPDCqKjIuMescz4Lz2SoTfIrNqFKMTzXGabBGIErrsyBPFdvXj+yMP270eeaZ\n",
       "eiihyLW9C9ngWIp2Fl+JU4rPIqhnqde90HuKJCcKeat1gWdGzHSoGrqTaBjFw0pamfM3ipOUaH5S\n",
       "6dk8ICLhAAACwkGa7UmoQWyZTAh///6plgCQGR5ruLg10Ch9o5E3ohvvdkMAAbNhRW5v28fBaX7G\n",
       "Na1eqUvcDywFfoKDVZVM3lqAu1M8TC3VqPntF9zHXLGRhmojRlwbFAcAmN+gxVf4mVwOsZte4mTl\n",
       "CEhzstz5ZFnJirCpLp2dAvreaHHyPt3n8YS5ZBFKjIeG+5AJkA5Iq36MmBnk7zshfWZjGA8KX/FQ\n",
       "pmGHn3hblAchKLnye/ZP0vO+3z+pK9stbtgWZ4xMsWHdCw2Vcd2woZLP5qgZ0zc2IBgJX8vsnzZ4\n",
       "9tMibqzGOwQXQloYDZAXn9blIPI9P7pZeR/oysVTLnF6UYKV9x8Nuve+G2ksORzyLeL9oZTYHx9v\n",
       "d+g9cZWg/CTYRIqsnUTowUw80xlJrpt0rskfhXNCgiH/a6fhrZtVJfoMv3pU8TxuR4SEel9Vwf5P\n",
       "VAfPQY4U3cv2OrKQf0mH5/gzvwbdx7heGnnfCgL+rENrVYstN4EmVZC7HmACU+qvrNEJFWSI5atN\n",
       "Dy/lVDJ2+a2VBvLcf4k2CZ80fczIgEatHPo/DR4NSgJqkhFzUYETqGa5L0y+BLpCZBYiLmiBdpRj\n",
       "RTpkKY2LFpu+KOcih+VslXUWL/yALWhIKRT6nq3zgfg6k1VhMe69EQVWNrhaa40p2L1D2ammPTnX\n",
       "Bfl0mF/E4Cp0bssWZRoRZCifXUt3RxI4cQjan/lw2fR+KGNG7x98acXtw2fWmohnUjFU834gM/vY\n",
       "Pbn3Q2NU6ydv4AS5QK7ZHEBhlpc1ypfqaZrpo03CQRXHAOasiRHClgUTGA9Y6btn1D2LooaWAj5G\n",
       "XLUQvc4WWhhKEN4xbeQRn3CP8HujSCyYZGv+Xu5s8xudSsAqbVMl1hK/e9Z3p9dta4Ij+nRAZTk7\n",
       "hjnfUeiPmAjN7cB1UFlMK4wQZni04AGkwK9mki8aoWUAAAKfQZsPSeEKUmUwUVLD//6plgCQGByn\n",
       "BthCjLFj+T1gGvizgB0KqS2Vs8/loY3hu47JbPsT4X11CM/SSNQBi4e2RgpYtUG6PcSLMF+NOrvE\n",
       "dPD3TyaR8p2IfXIZN+ahJ0b/JdvzXlPPowmvFEa65lb8iZjwaVjoCqWEaL1aZz8jKtAwg5rtBcnl\n",
       "wi1CqO7Z6tbY0Jru/LUivzXeC39BSozG2Hx8+RVb7TZVs9QrwMIT75qebWwyiomO9GIcvhqNtRXO\n",
       "fu+aWF/RaGsNduYFcrfl5VztFBhCGuRkuSiAs7RjnDvESt6nLGiT3BnYYqT4lcP6YshDnjRshBNR\n",
       "A8bwp662k2T3tq1GNtCngcHDccUxH1DPK7PalUPp8eDBYM/cbEkuAL8VMcajKz+/hJEDy5FSwopv\n",
       "e1GwFCuMfvGw0ak6nEeuUVcXjmhkvYVz9bXP/M3SpXkE5oGY4xVSyFcvIZUu+6t3FdBYnjOCLQwJ\n",
       "dM+FFk51PwdY8sDUTjMpBnR8HgmLrXzscMjUR8jsc12l5+I5RdJOP17AxLnyTfByHmUqFjvSp5YW\n",
       "n8ImP4jBfzN3/38V0oYztZVMiS9shv4rOoVTFEZ6rmrecGDH+EyrHDfJOFbXnGj+UnrEFhW5C4F+\n",
       "Moy2RA3xRgOZ4leTaK0d1CaPZO/tl0JT6o86fVo8PfIVsJ1PYkIzZWh3mXk5bIr4CSQj4ZvD1EdD\n",
       "qv4rHEV25+TlfALv0rrxeRhIjaGp39n+UD1JopS0cNBoosnGd1ca4q1UjuPp38+U19EgLdcjm0yW\n",
       "Qo+HiBoxEp8lsdKFkV7WKBqdzi5ZoHP0rDw1Q5PnAwi0V79z9G47Sa2/BTkQHuJrZs1yGn8gI2x7\n",
       "IsxjL1RIa5d3bcJ7S+6+SNUnd4b4h2AAAAJLAZ8uakM/APSGF5Efqefacs9kVoKULW85EVl2PwAd\n",
       "AqN0KiflffujgmocdTeTWgpu0U+cDKk+ZRjbCQs3v329Fe/0/Jpo8F4HO6cQH/TdiPFtLLHgCozp\n",
       "P6teVEsxOR8pFTfxiXs8kn00XXF2ayevRCCPRiwJVomybrtM9lMAzDnLAvDskJNB7K6D2FJGvvYr\n",
       "8r0Cmjq+YlPhSTzbQ9I2sx15K7Jyxn+faDwLli2fnHUXJAP4hf2xhD+dv/4qKacYJmu2UYdBgKa3\n",
       "LMlfQCxW3iwi65IszqDFX6eqBZVFJbMLbMjwzWSfBed/hduDZLqBnHixWHmtfjM7OGymPC6HpnSA\n",
       "/wJyOqpka4Tr7z+sZpIeUz6+h7p2962HAptwdDvu0JelZAhjzYe636QmDJ0Du6q2U2j1SwEbKzQd\n",
       "x0nnqgH/BTGZYGqX9OdzYUfnTZ4YXO9B3w59j3TlApgn+YQI63GS72yTVP7ddhGGzxK/kN0ei+h5\n",
       "ea97HAG1ir2D06n3B+NQGcuN1iS5gUdaMoPz3nz2TPagcv63ahWYNQD8BctOx24oHA9isvT90U45\n",
       "s9YtTPk665munu8r5vYuETPFGb55pWFV0ZgF7HeD11vLgg3dWaauVccYl9HhYNx5+sJv8OAc16s+\n",
       "61IEn/lfIRP9ViJbECNP1+eG1XlHV8O1SUZaN37sfHKlNUDb/R38ytEvtaJVLUJKOYbKqdY0zjou\n",
       "6va4Wz6y43KleMkFnhmaJjauHjJHzL7SOIIjLiWQgxsEPF+d2SeNAr50RlQAAAJcQZswSeEOiZTA\n",
       "h//+qZYAkBn9iBsHx3KhH8cbmaZsOoAOLVZ54TxYbd2OQttUsVLaEiF2yBALJy5vKDPZSBzSZ4/f\n",
       "51hpfi0B7xQn4HCEhMStAW07VdXg1WSH2gnxuu0ku5UzG3Bp84O4gqn7rP/FmGlFmNFxzOU41E+i\n",
       "Ez0z7Bb1AnrR+jM2W3Teeq0jL4+6lPWQDOLGpmzqHsCquQcjJNGpKAVZ8f8fwkn7KBgLsZyHHSDY\n",
       "wt76+sHhVOEfsrRj5DnR4pTbQ5U6wkOCpJ+AxfaHgQf+4Q4v1YRHCx/nrk8fSXOlS3dAmQujiUBa\n",
       "+Ex6b7QPg18w9ewf0041SHsV4LsH6i1t+RhqOGwqjHCE/+P/3hZEEbTfHm0P2XoqzMGZa1Bv9w+O\n",
       "prcEVGBbgeUr525sPPGrCd6yrnnoZgRknmkZcYHxAN0+/3ThDiOLQ8mT7LtSJZp9lKLSr+AROmv4\n",
       "+gXGqpy9E/mQpTRPa3Cyb/T55hyUrbYrPRkIYq6a34MFpLdYKQPS+u3WVYkw5lRwDF3+HxAMo/FH\n",
       "+Y0wgQ1qqKpHUPMH5Y8xhD/f7I2GUV67kQXc1jDslLWu58JJShpGysgx/eIrfDyPqNh23G2ro5r/\n",
       "CniA0EZP8Gfg3dEofxrWUlraEhwPvIyp6tqCWSpXkm02AzUDjYH6TH1iqvnPIk4jiOz3hUIaBEIg\n",
       "5t0/lXTCjcq1xrw3ep0I00yF2NuJ32eg42OIV3/L/IQXPmLYrqkpacWVY0yutHiol5+XlfewHnXi\n",
       "UQ4+Vfy8AO2okNFhspt9K5ad2PkB+4uKXwAAAn5Bm1FJ4Q8mUwIf//6plgCQGf2IGwfHcqEgd9fq\n",
       "9k5n1AAMs0dCIQ55zwuGCOx/M7rU5XoL9QrGBCu+rOvW0cVKx2xKG4+qwqL2MBLzvbf4+tJhsXmC\n",
       "ky5X8f2/pQwpp32SuvTkkvrinR3/LpsJJmJnts5OgVqASmP2VUtyJIMYh85A023vkFMFWoMkwWt8\n",
       "ypw8GoQW7zUWP0mD4qH0fBw/yDdhOJPiWgxElaSeaA+UESPGx8CECtNEzxGtgCX8zoAgTDGPAXVI\n",
       "gf9ax2f7fz2Si3hAB9oWIpaffpekpfuhVfIvnqxepOo2MFhHZS0PoaVZcroXrrl3i9UE2HMuZbIE\n",
       "V1Rwe7BuZYqheAazb3CZwuaQiwWyPVeRaj4P3p3OZu3VB69FYgZvbeshov3fYWYzz2T2Q19gD6mL\n",
       "u39Hlwm/C25EmiZe7HhFu3g25bVoahz/eq/IMzmXxgrAev+ryef0dyeyUt4P+QZUCXlHb1NV+rg0\n",
       "Z4d4XfcEvUeK/JI7YcFZMvWFLyZgASR/F9Kns1+a9GIxV+BfxI+9svOoxMAHiXcLxS76K/WDaWG6\n",
       "YSXhhDcRIU/V4xi5of9dDZIw+p8CuVB8Oe58x6nscb5mHfZC1B60gvtoQrXchqol6hBlMQsJBTaU\n",
       "KXgRDXZN3fm1/WCdHi5aCkklMbJPwzbGoBVfPn/GJz/In1xNfIaLQrOiOUz/HXeSXa1on2/Z7H6M\n",
       "qgLDLLJC0VM8hn9FPQja3dejzWgHPzFbBU9jpunM7qC1VieUh4pdJZ+pVad5d7KzIWMaqAxCx1PT\n",
       "TY9C43AWsGjyjVJDK9UFmReNq6o1Tg9ITX+qRpsHuYlCani0p2/ngAAAAvhBm3NJ4Q8mUwURPD//\n",
       "/qmWAJAYHKcG2EXw0t8xtqzNDO3Nf2tAEfHn42DGlg6akNbVzfrLLu1qZeR8Ow5ffEAiBnk+4EM6\n",
       "ilOesdeF9BYeUmdbkhWUpZYBx+B9yeCri8jVWrUkOtQbAJKdJmSBif31WGDE7bKVcDizQ3rxf+HQ\n",
       "SELHgEZOFciy0cFGncbPnY4L4lDOaiApu5kf/Uh/OhVQCqkqqj1od6Xhfq4OmT/8tPQmShEF6soL\n",
       "vvSBbUN5mAiwU01PbljysGQ9XeT69J2AJGFFgYtzh/wKkqH8J8HyQPVMFB3Nw+kSn2NkcZyBUA1A\n",
       "umxwkbsEnsKzBAA1adLg++5vHYUwpuePTEV1zplCTqDzEqnAwgmKWsoK4WbJ3sIwLC30ksTwzSF9\n",
       "GO6WzBuHdzpznCO4SQ66kRto5D+se2cpzzURtnELuSwQDhm+3cnkms+DTaAVPXFbNmYuINzRynu2\n",
       "t1wwvN0jxJz8q8RYWqmSwhPyDXOjH2ofJFMfJyaaDn39j10rIpBiUmdydS8S9RAqfyBdlcgAG1fF\n",
       "bm564deYfcNdbnAjTXo9NDBE6A0dHNQuuKx/keMPtfI3HAjjOgC3LRmCBsI5SU/q8dfVBwV2aIMv\n",
       "qmXoZ/GJVMgsiDXvyYF8FT5WxsiUYTP6qaCi2b+LE2sDopSfIVhf1zPdOep7Eeg6Dui2jFDtKfba\n",
       "p69+/FwASAkAb66D1JMGMyq82CzTSM6fyCoIoGOU5o/Uorh0DGYqiP/rAec6VYy7HnfbjuQx48eI\n",
       "7ofzQf1xHjFMUvmVLaZgOc6/cB40s+pV1LbhQT7rr5sPvQ07gVYa+07JU6ahN/ZVyvf5mn/eW6Yw\n",
       "+eFJlQQ9ONFGGS7kYOT/0HZAy4awGvFQ+Reg5HI871pOd+4FMjZmkwL5FESgIetghCR0x9MS76Mt\n",
       "ZaOrVs9MtQCNFZD5vZxMlfd2SbZ/b3bTKr2QdhMLFGnFNv8Nei9vS/4uiZtWIo0mXTXdelWn8dL2\n",
       "EzRhPw1OAAACPgGfkmpDPwB8NOCyajj/B/SqpLPInUOPbSoO1/YKyA9jr5ECAON3Un1CFNI8C04e\n",
       "sBpqN52kAI9CkM+zpdI5aXTgF5Mp+wwX7TycQnsl/ZwoY2gHuLLlilUl1i3r3vgfcSQyrRqmly5H\n",
       "lZLsXW08KzlSTvwiINTve0FDRlCywk9Wdg86HhPQPm0uFlQrAKIwqL53C33W65bImcTCHdwj6VJd\n",
       "FJe9NFlPXLwKhEK7ZrR6MZoRMpRp8jwgLM5BI4YoEJS9q+TfIr+iKlD1c1mVIVB1Dq/ZwAvlquJh\n",
       "g172El+1C1+1qPunQFVirllsNr1J+RbhooIjcUvivd9KR4fHrFOWpaws0EUgBsl1DlbA/Uyao9yG\n",
       "N4t6roDmFW8tt/cmD++epcbVWLcIHs+6ZvUmqR/EtFE6QN5Xnth5X3zdjFOz1rx2tqgZSudpWwK8\n",
       "7bxDD6ComEJClopTNhkmSKWQ2SGtqi9MADZ6HrxvWMt4CQS5p/nZhJON1hFz2ZN6Sk9bXVS1q7H2\n",
       "pZvF6Jhcgdh9+o04m36nqQpvs3Yz5DMq79kNZBXmEZPSPsNonP8jxqmf//iqHDSj06VGBY5ZpcZV\n",
       "seg4LHkmNT8dpa+JkYeE7RPnWsri01SZExVWZva8erbp5Nk8dZx4TngjyMWL8e9FPYUcqreEpYDC\n",
       "wmGRHuWdoOPtnHrFl6XC0q8HNX56xeHOca65ijE/BITm6kJYgb7gpfGJdKw0rAEouahB47NC/Hph\n",
       "KZr5ppUo9mIRiNCCgwMAAAONQZuWSeEPJlMCH//+qZYAkBokiBuLVhkiO+GNCAEYmvUcFaHhuI7a\n",
       "0YfYf0KNdTI/sRw5Vvc6xvh0XSSy5Mfp/eQLWVHpaOaSGOufqQBuXek7AwN5njorA6t9ZCk+D7uo\n",
       "lwF6WeFn0seUHB5eZcM4fwXoDstNiwa24V6coVXjy63mQKG0BBQEqMJL6X+uZiSra8Ho8ZHgnQ/X\n",
       "pUfGanM1ND0d/tYkbr9O42Uy+rSMYSZ15jiqnSe2vRc3r1OUPDMPpD2Py3ARSmfKRvqmyCfKSqTQ\n",
       "aolxdADIiI1SSCDBKp5FCB7U3cjbXzngwmSTDEMUa2yz8RA9WO3yc521Lj2yh/4VZuJ7iN61mKTO\n",
       "5MFfJ0PXkH4IoHYRXS6GdOyFej6NYmVnXSXlzjc8ra9xpTwbRFSeds/7gNkXpuZtJD3KLB32Holf\n",
       "Gdit6zVIGr2WW2BP7YJX43mxjY449V0UMIGSAkGZpH5ikY+ONZc/8Sp8tcY6bPNHeU8Tkd4nnhHm\n",
       "ULYoLeJrfV1sq36otk5BRBA9sq2kMzfsw1V595ydDZ+5Amwq5x2s0eYP/LI67/fYjBJH8EZ9snR+\n",
       "92S/ADPNyE+PE/vKVQDNXzpyV7lsuQ+E7V6jmOiivBWrw5T93ZHgw7zfqxY8ZIi/Sv6ZeBjdCuBi\n",
       "pSAUOt6fe0x8fJSy1BfIofcAS3inwuSxSMaaiH6rIK1rdFGNfkKmlnCbdEZ2pq/q/ZP9SW9Q/ygt\n",
       "A49ejv1mYst6HR+VEzyy/VEdXgGE1g0jV8JnwYdaxbFiGhbMumKS4wxP9Jky2zta3uXmH/uS8kzt\n",
       "hdAOS6uy+4jMwSwkBny2GbkG0hqBdZ79NII6rdCo+KwpawgGNYsAoxcG3+4wCIatcGg0uyd0ECY2\n",
       "mF7W3sMSKQnxHxWtBPBCOzebRqZaa6bPJ61MqF6DrZHUGvfH1A+CQiqVMvnIr07hZ2nG4rhWcW9a\n",
       "3XpVaYTQwpoidDxd1ayCbQGmeO+aIQ/U6P9N2EqCpiWerIpcJ70UqBPv3P07IiqWZF8ixfEi6lEB\n",
       "sS42liq4vFDIDPLT+D7aCCVNnndyAI79OGg5navx/wB4mlq/2/OTNNFq2oWhbF1p9FT9ggdnSBsO\n",
       "Yx5gkI76D8cuc5L7H+0YtASWpE1KiBc+C7+8mKoRVnZWO+3XNSuINtUqn8m9bDEvyxFv0MTxzJoL\n",
       "MteFXrjP+iEQllsw51vxAAACDEGftEURPDf/AGa70KWIiAljRlVBs1hPo95wMiAPh9xUeon7BpmG\n",
       "HWxHXXbZ0cvGbIT7aCe7oPCASyiZfFyvOPv9JpRPm83qdrHjr+5/sywCF0YSHDBm5moVmv7CpaAA\n",
       "sITtWxWErew/B/91pERhtff/fTrTlYMM/WP9jFzJ3MOc3PuLer4t5/5UUQevoJF620Kh4O0FAGdp\n",
       "8OBUD9rs0NtwhVIy9XMEziFzZHS4kX3eCCjr30ps0hDF6noD4+0pJfCuZX+Nn6xNWTA1E/HpoASv\n",
       "+b8Jd1aO8zbWXNclbbzHjAaIr1J66ztq5uUgmwS2RyyEn8CXD+UYeUUOr5XbUCYMNzIL43lrD26n\n",
       "PMjCygcH19YMiXBJgH7h9FiTwClAdHUyo64Dh2/ECyRDCxlNd/4i3xIYn23zdyL/tFm0edUQNujb\n",
       "S3O4aSALXUmwu9deSN3OKlDTl/Ov+31RuailkmMTFG9vWE4/ovZ3xtRg0TFiq5d6J9l9FPF2GdJg\n",
       "910akBKcctQXQMi/5BTqmv08+SQuIBI4sIRYf6sHI/WeolOQ+rTmW25jtFTUypOWhRmw2Uw+HGds\n",
       "+Zyk3dFxtyiDGO14MfkCWK6b9NKXkiDwTzl21ToSwc7AyIXDI47dPpkr6dDpxBHGi+cVrPcmsWUT\n",
       "IQB+JCNAB07+pM5lDQqUgInrLGO08iAmYk+gUAS9AAABmgGf1WpDPwB8WCypklF6pzcJZY8QwSFG\n",
       "S+BbaedFG+B7nPLqa0QPtAi7k0zosB8rmXUOC1/X0EBMG1DXBykfqRe3BJq3Arqsm8MAK/KQKcoK\n",
       "ZfDjSZFN5BjJsA60lQ88Je0x8HxUJ4eBmBCPUy4Q93CXh3+Bxxa/x4Yf/toqfk0r66/sixJu8HB2\n",
       "OMyAuwnKEwJNxjigcC0AAaw5ZnyG104b31wNfKN3Sst/11LV8qRUJDo+2a9HUy5KEwKFLJpAiHSb\n",
       "jBKI6H+eWwg65awLBQsXiaie/Bbb1i5sBoE7aogxnFTbC2XlFV8DpN1mU6Jf+Ye9aMdrMm5udx0q\n",
       "WeSHiEXyyiqeGS+JKW0fbkBTUERJ6SN7UDl0tV9U3aPQJ5JqEJMUfGAOaNmqnaneAYgXj8TyDiJV\n",
       "lHMcjpsVG6R8zSLc6H1+HMpxck03D1qmdmvGPig0OkBJ8xoZpXZ6tSa4T1GDg5p1gXosLyHQJxVP\n",
       "R+HtkKgzueW9xOHGGiyD+Qs/EkC/O4IpGZph9mBIDtXGJ9+ZsmFDMlhVYCygAAADREGb2EmoQWiZ\n",
       "TBTw//6plgCQGTJEDaTc1Ie09sA65lqDkwEU9nwA3F0A9QMjJdXPWXLNEY0BcBrnOszQVruiRGr/\n",
       "W1+OQe9h+vUGez0BJhaE3jcIt7yVFtMqv3wSUl8F/ravThNKCwkT8xZxGdXfIOvG0CkkhOtUUCxG\n",
       "/iHGDrLZ53LD+S/3Nun+XDXH7n/35ziqrEkWfYOH5vqWbX2Tel+ldDD971w41Bm7PvWEprzqsyQ7\n",
       "v1g9bR90jqudBtJfSKaedZdnZVEHkOaWR2EfXrRCLZKbXCFZDmfKyJiivQ0hfqbYqq8T0SOoe/cH\n",
       "8RdZfl2WMU+9KSDW75TFbc3doOFqfByWkM/H+ONpbh634/4dw4H8d6uQgMMujwG/hYDVVCVJLVZu\n",
       "bkqYbnu1cS2FxG0eWc6+XuBicuVPTZc4DDPfG8XlWBLVzXaaLAtGeRU+TWuLfOMo11pAKgTSHSBx\n",
       "txTEhOr+7dFvVuzbvD0yMiVrI1smpeLWFCg+LaWl/e/2pr71dPaMdseVSZS1EIHm9bxr+RRJ3oJj\n",
       "8It1OrVbKjEG4SnvJc3pAnqRUWekb7q+t016q6zpe1jdeSZ4xk+8i0HqoYPyxRfU4Suj9RzaO25M\n",
       "g3ayMgbsdYW29xc9WEyd+EQwttuBDJAtrw8llg+9h7alIz46zsGtOCE0ItVIgyeElk0OLZxXbXkE\n",
       "mcOD71eQ+gFTfhqRJ3ht+JAhnR7zoDbG7k59y5OsnG8MZHwOosn0Fo5jG1ODwd744+2YqxISg+D0\n",
       "8zLlpPogC4PZvz7sDRRUkLEi+bTmnxgVs8l+odXUQVz2I8He6pyZ4yz65TyUVaTvj23DCRIbHQv/\n",
       "xYIU5O/AAfP93oRtp4EITi/ds5aFNbeG9FfrF4RCTsfTW5b4g529b0iJS5aFHEHRVF2Nii+W9+oW\n",
       "wzyDYJaMJ3TjyNdztvjHWZaiN1IUmDr6Rt/yhA2ZKjAJ2O+5s2GyTilhPVYtt5ejgm8mcAm0KT2r\n",
       "JsYuCia0CprSLKLo1Q83K4LIT7PgPhkpSOpAjbmeaXYVbrCJ1Kmf+Hw3eybM9AjmNWCK2jPH9/Hu\n",
       "DSvsY80kz63/hMBlmVyzGzj+QldPquaz7M5Wa1psAAAB8QGf92pDPwDTIC/KRs8Cq1z0R6FCwTGe\n",
       "sVN/m4EMTl9pPrxDOlZBNl9239kWDzqpr/S3TU3rrIsvr3142jg6GlQqO5Ot7RqP6I8w9iCnPyxX\n",
       "EWpti96AEbZSWlouE0gzk9UZtTPlZUdSF/XdgFwblTjWmEFhz7xzQjshAfq7eL1x1NBQtqw4oDIO\n",
       "2NuKSrJJH2ycXyCrx2UStlzPpXZxvAF9OK6jcOT01/0RRAUX/jKnaqz14piL5U8DIEu1J+1e/h0O\n",
       "Bn3e7OlRM0+fPP8hTRnuWugLj541BnyKKnlYLxroc9IZuwvPQw99ux1gOt2vL+byAZ35LNqgN837\n",
       "nZuJJXO15BEI/dG8+wiXLv+usvN2OipcaaEvzlfG7GjmzQJHD9OtcyxbExLpvpZ4SLu+ijdY+Ukt\n",
       "deuJe97dyzDx7SA2IzX0LQlYKdRwY+aND5CA2rtyUS/Yek4jrdJaO2+KuzSxwu/5Vx9AIyURV8Za\n",
       "vhrxUuyU7V3vZ54zbT/G7tUxGPcGSMDtiMtE7r8GqbOdIrS3pqmjs0ytf2BsHKnWxIWU/te9s4m+\n",
       "R9DiDonT7AZqnkwF25rV9PjDc4itH5IfMODCF/BzpUerdHIbtXCm1aCgCwGv28ezOFT9c2iEgydH\n",
       "zOaj+JZrbOSuxbhBcYA4oPWBAAACFUGb+UnhClJlMCH//qmWAJAaJIgbi1T1OtunCxUAIytr+9hO\n",
       "RUku2hsxOYWSmvRbOAh0uOOODv0TTDD0R8lFQ//8y6zFW3ZAeQ+StKvGKeYoIsCWI8TKvlH+y20x\n",
       "Ictw949jBO4SvJMU6nkNkIZ2R4fy5yj9MdY5KD16e8T76PRSoDG/l+o3O0ptlWKrv/6W/RSHYK6H\n",
       "gaRPASHJqumGh5xv0IP0SzvPUeFly9/L4jawI6HpET0IsxUao1mwEK/oKHrnwKM5vdSZ3L1v+VC6\n",
       "Gq3BKaW4VSXA07heXbW8CjQYwOswECsJOnerm57mlh56jZCFjGrX83GkLoXQZD8+9QwLlybfHIeQ\n",
       "mKMV5x1jiLBOtH03Ua1uR+dvQN0LYWvDS+UDImLKDT7x4Zj1wLTsLP51BaCChncA4+grWfUIChQb\n",
       "1IldNGa/VTE1oXRpZ0cKh8t/v2SFfQJ8jXo/ZErFengOd/N56tYaaNfmCNqGuTROFF3vCPdF4XCy\n",
       "+JnZRjkv8Qo2wmc5DjscEjLjo1aG2BV7nuT0QdfVJm20rwPKaJUaX0NUMFDJO7reJlnFlr43VbG0\n",
       "VejxOqltKTMo+4p0WFRKLXSNvPbtSqihTkH+VH+S+jR0pOI6ULYdH1qhQ0LpAJUzy6OVFKsuBxWe\n",
       "EUPSlvLnpjLqapfxmV4AZROP4r+u5cIurXlVTGkdVYZhBF2vTzkLkFNAAAAC6kGaG0nhDomUwU0T\n",
       "D//+qZYAkBgmhwbYsKewGv/Qdn5CLtgA40XwiDkSCKyaqBoi1KCOEACzBQmg1lvIKeDDu699Y0x+\n",
       "8Zm0OgtK2F+KdrtP48KVNBaXmdAHHDYG5bDGuTI79qIYbkXMjJTwYhdhbsngsUlyonpnG5hDMTk0\n",
       "OF3ZB9w5YF6cyVh6LIJrX58gAOa8075sN7atkXM3YHkJHDqeKwNf2zs1raAbjGLDvf16SK/eJd31\n",
       "hGuFx+szXQqplbfThOsQi+ZjFMN7u2CRlEEj0svbADnC/rTl3hvXniRniVVKy9r2FOP0QUno/mjf\n",
       "PTy5hnPGa4xMLJvfFxZBLUnugGFDbMK4l/5R1HVnAJRTZVlQUdN2yX9JrSDDl4om6fVrOB7t7ioz\n",
       "/B1UrPbP86dJsPugr6R296GTEhjNz61NgyrS2UPR6E2lcQvJFjmpLTOAGz2wigCuL+EvcIpxw4ml\n",
       "Ghdygvl6Wm6vh8VLZ2f6G7xum1N2Ho+WxelCdwRyMc9T45rB/8JKeTQiIFDN90n8WOpQCtsMFb+a\n",
       "rEnZPxatjmjP1lE+AcfXkB/KRvM/rlP2DvPlFMMFYiccJzqdXAVEwLuAW5soYbP1baBJkRrX5Yps\n",
       "J7dhdMJ6gZlSlMm25jx5ylvezisHIpiC2eBIRi2l0WCVLY3B8a1yVOApKH6wnowv6lCFE1Iqt0M2\n",
       "br020ISySY8ed37HEx2VdWw3XOCRhmcThP2s7mi0sOlRo/8TCHSzAKPJGLbY3GuMldVu/FoQj4kE\n",
       "g9X3txFAD6zVD5FvvPfayUs0mGzlOv5Q3KJsvKhLponpRMrBq7OjX2IJ+yp+KqRdLbxT7tYL9rzz\n",
       "3Sv6jTKPONUROoGmn6ptcr6qo3k/O9Nfo0YJLk/jE65rgJkEsC/x/p0wdFag+F1pFDEEAVz0CuAm\n",
       "KIyrREbKqF3BTBhKWz0jrWKp/NxrsEZByEpjU/EVUrP/pSICDQPQwVb991phZ1BnlNegAAAB7QGe\n",
       "OmpDPwB8NKiyaqLHl8Oc+OvZ73b2J+dGfDewkI2kG9FBXUAo6bqNXNaHzfn6mUWIPLtbaWipX/10\n",
       "MGZoF8tiEeVpswvL/5KIR/UuOXSLyWXz6HXjCebgawnag5IO08uaI/unnMoprnYYMMEteGOVHiLk\n",
       "IqYWhkMbpL5+Tp/5hjr8LvkaCRDacSPsxs8ZveFVt+XeYHCUn6LulylnVATpPzpfKOf8EGV9z1of\n",
       "oBdVXXhQ6j0Jfeg6u3s50kNPRM7fzcGVAMrtg4ev49z9bEGMDDVANfR8EnBMR/rV9ytf2Ko8OAO8\n",
       "jPcA/Prp9pUeJl88V8hjqcIr6DUNJ5LtHqubeJrQpXLIbplhHovN19ylY8ZxyeIuCNwZXdDNhXoC\n",
       "hpwSvXitzbJQcnextmZvUhqovGfCx2r9Hp0TUPG9ZRoCpkhrxShPTvOigLUih4BmbhQJQdOeCTky\n",
       "Oldnii/LbDpXypdK5NoztW9B29Q4oN5mkvSxIYPlnou09kNSmHy3K0IWlaFS+uHfbATGvFtM/Gbd\n",
       "798iMQjley7GvWNfTIylP+YwSrwgFjOu7YsQ55uLSrdkg9pcJewNjOWz6jNSW2KAcscLtCmMKJpV\n",
       "EZzSjaU5vLJzOZZeVdc38pmZ328s6T2vCq7GeiiDqE/YqSEAAAKnQZo9SeEPJlMFPDv//qmWAJAU\n",
       "xNWHHJFuAXzampvr4vPEBnw+QU8rgE/pNbXjpohHM/B9Xjr+wrg0/sX3182LRuckq4+SAr+LWiQn\n",
       "ULnj+Mvh4IGIlwHUG3KX0EOVcNVK6A+ykln5hOqWjzFpInWz1izCczNu1WeblVxOEE/fZ/rs80MW\n",
       "wDBaPXKZOoCTbeG/O8ssTb+6qliwN3z/kPefWG9Cg2fSF8AxCCBvjtxTri0XG/btjPVr0J19050U\n",
       "jO1jmcGzZsetOL9AyBYXnh+Iu+hJYkGP3AvhXtc7c+1leUXs+WhcLiWYHez999TurFmw6n9FcRPa\n",
       "TA270ad8JeyO31LFeVeS8Kzq7JLjy9yQtDYqzkjsGNUrllbtemnLwF5JMfYkExDSBW0QBIgHCBHi\n",
       "N/q5G9teFeiJystCi1ajObarioeLZCjG7POSPBsgQnn/FuBCGMimQoTPXPAzq1DSQq6OFy6F6+u2\n",
       "gZbllInnh5b7nIbMaExmh1hL+Z3n4E/KCtecdQcqpCHN+byM0C26XMK1R+sTHyFx+5EaMatxkKuK\n",
       "2qQ3Qsl6tuXuPGjLpU351AWprYGGB4z3PNiJVNHgU6ZM2A7GNlac6QxU7qOh1Y63Av+hZdkD6ste\n",
       "FZREfKtSxNNmSwG126+MICS56cqOCqEPjR8OraatZrcfzn+GYvQzL6Z9Go2zTxmnRv4p6jhobo1g\n",
       "7QRKkFPFrKx9D/FOesjclnysPegYlEalUrmJaCfyNZuUFK1vKoQ90vYyiVm+/+pLKMyRyZXGXgV7\n",
       "gaq7pwWsNqVYj2mTTS2vyGkPu+dG7bMtasZeFal4HnRA3wSy9VQAIb7BQVfkfeh41eb75AaK2zoY\n",
       "Y1vd1pSwMjhqrZOBH8eTt+cN32CEVg1h+ADnMIfHr+/D1wAAAh8BnlxqQz8AfDSnZnB9P6sHP7DG\n",
       "/apBdMwkgC/2OMXWjZa90f4wsXKiWyZAKd+q1EiGoh15OERHkpeioQt7TKNn7a6mM05oFFCnDaFU\n",
       "vy8oimdOiZBtZkTtoSKpihmceueiVTOehN7zOHXlaFtRqlq0yyGjZUHFxX4Bjst82imAtSC5y5UU\n",
       "yB20SYBvmaUtBYr+KRG9mO37FHwh//42cdMcL2T4D1x95GuXZlk+ozrE+N64twNYt9yvFDpURiq3\n",
       "+f+OipfqoQaEBo17N0nY8hW2S1/LXsRrPn49cNk9jG9KotXgUQOueLXIj1rXKUiEeNuTRJXUNwP8\n",
       "JHwh4Q5mTppmYMF+An3hxujp9B0C2MU+wW/BALRZvFVcHfXKcq7D5rioph9Gxengsl9LqDDtAtgb\n",
       "LdydvIxQEOyQpVrkJgKv8b5Knf1GyPwqL8PagSWe7iasnGaivSBgPcBbc2h1oqnWofjpv32QN7AM\n",
       "Vo4VUQl9qcXGFN8NJGlOUPfQ5ZSOPZUzOXO2SCP0gceuOzSB6QWyw5gEdyz2E5oiyqArX2RySmwb\n",
       "fikp4MCY8sfC3n3teQLuuOKRvESOVpTDTPLQe6q5q6qK+HT4EZ9oo15a/aK7ax80L+Tqalkm++A5\n",
       "ihm9Pfoq+OlAMcgApj0kCIjvLWxfyGCF4hU75ABV3rWGu8Awn2A6Gwan+Pr7wKAAr0BEIktDuRh/\n",
       "b6S1/oabnwTAEXEAAAQ5QZpeSeEPJlMCHf/+qZYAkBX8x7MuWVk6JAnC+JFlD171FAFkbNBpUHHm\n",
       "t92tJh9KuRMW10r5NFKnW6h/CpXuaWx3tTk+RxeHVUoQYy6/ijbNEO1LPPBee1uNdUALoWeuBkWD\n",
       "gOvAEJgGdmTpsmfqjTd7RLPA+ES2nVTuD1i0/kYfOuJup9eUB1AWoHF1tkEG5C1vb7GhUU5iyHpl\n",
       "fAlPryGWmpsApjw63DxzJ30RwUiXt8ouE6oDXuYE0YScEX25y8nl9w0Yn/Pt5ocxn3TyLnvhR3cB\n",
       "OtEkQXsKhveQjkgGdzA2bhNtfqAWvuaxyLmfad37SHaGvoe8xI+H7ApyplHKHkMnL/pGS4XEu12g\n",
       "3nVWVcaiI5TICrQXHLojCILtY8UC26+MNXUNJJW1GrLwBwPJZIDFv0DOgRbBLquXrSDhcuwfkaSO\n",
       "9CMinpNrHWFGvxMz1tjrdpIA3fK0PiB+T9fj4klkH6I/CVDiawU24mc/FVUX2DbhK9vjfWmb6btP\n",
       "cO7giyg2lvq0JnAQgrd+gAlFfYLB7WAaiSVK108EeVuc5s2V55tr5qPFUJJQvHwaRwj5M7dT7L0w\n",
       "zlHcQf5IMvTyiYifd6qOTpSXL+1Bk5HjxLEgdh1GYCwUFDe9my3KBQcUdAHWChxHvxFWcvLIxNnI\n",
       "DJm72NkoHvOzEFFeVW1JqGipACGOoEqoCkM6bzs0WWSLTfp019j8AkIw6hFpiSZIxVrNsxC2h9/B\n",
       "WHxKjO3xsIN/AMbwB95m6o7s4gcI988uVkn8QrU4R92bA5SiOLtVC/zGavgr8UBOrePgZoeZzcRi\n",
       "vasVRewTx4vSqbB3XI77yMjVWX9r5N7Q94cbrpa1b1sVzGIhKA9sIK/MyfQWgmRTaovohneeJkCg\n",
       "zmb3jXW4XvyoMJJp5tZ6PehSS7VSesfKFIc/2ZvRFHHf7JAk20pkqtM/tNwoFuAV3lK2EFtfBLnq\n",
       "k7p6GSTceS49WT6i/PXxe01hSf5NCvTigl7e+WSXLjR4NB35Q0oYQPHeBeNCmX+vOOVug1nIrQB2\n",
       "DK4Cq4PVw+5WFUOxdxlX5R6P9CC5PSsKfgt0TwXz+ZD4rxggppZ/9hUAEVhpiwmnEnP0E7IxfB9J\n",
       "dQdjFCvEQeAYbJPtIxo5ml50lSqWYc7koEB4er8CCKk1grkGJQsqcJnthGVDSNuR/v7vcM8V8oUu\n",
       "YKGzIFs/vGW8BCBrgHHMOLzikBQX+Ko/5D1a6glzYIet/QS2yLU8zIp3NnWDrCtOZgYa7yd0gLoE\n",
       "puoVBkXogZ6sWtujPd5lSmPg8ly0kp/8OfKWNqWu0THoWd6zl5gm4iJmoB8/Ex8i0qWRl8I2MPVQ\n",
       "+dA15xAb4xliwC2bCELdhmgk7jIkV+JrlnOlv3qtkiTN+IWRdi4jI4Q1G3knhI0c6a1z7TRrNPuo\n",
       "hV4LGvamax8dnMsLgQAAAWlBmn9J4Q8mUwId//6plgGrWJAXeJY3Ml9ZGEYD0r13ll/2yrTMQ10c\n",
       "DimvGGdr1i5GR5HwpOdlUHyjUJ+LnlKQYkroRNenX1x4U1HiVWjpEa3gcbGoFMCiZCsHyPUjIC4l\n",
       "Yp3fYRrCuJXAZKmDXux2afjEB810y2+VjbMvVKAAu3sQauhAewKUBJYDhnoVaaVWpzDMq517ltt6\n",
       "rPNs17xCyVzpC9WDoEH3tgYFkpgFaOSESph79utTKWr0Qc4Dy8TWgFgvIr0hJI6Fa6yiwIv+FVvJ\n",
       "o9jYdSJfSXYypcgBSGdkvL9X0wqKWB/RjJ9U9SERkWFlO6KjFW7Rh+r8AA43XiGpJR01L5lp5Ce6\n",
       "vAUQuShLEvGanVL4YPrXezl+UX48RgnYW1jMuloyOApbNFIBQjYMbyvrv0aW2nTRXV6Qps4LCvQb\n",
       "9/2F6xI+GbrtWi1pd/fYjCSKwqAT2Vzdx0f6ukSOEx0EsCmoAAAB1kGagEnhDyZTAh///qmWAIwa\n",
       "JIgbDENyjMvXEHFNd92BLbjwqTMoXJosqvqKI4C9XVpIXb2AmoMcBFUJqcsiqtLHcw7+AAAI/Rb8\n",
       "Y5/wtaS1uPelFPohHyWAWcO/Qk5vhrbvcimac5fVT2odmaE/mN2vjUFmv6X+KaBJ4m/6k4HDBhHF\n",
       "2qPKOe7K+thvd2XFbv0Rp4Z+Mp+nDdSRG+Wj/MJJ4KCC1z3u5pGDJJw+7VsFFa1p9slp9HZrt21O\n",
       "8YztKmLfyyqjEKq86FrMMXbTGfHP4dwN/kX/IrOft9FFvT7cW46ps3huRZi4kwSQFV6WF5J4dHn3\n",
       "I0PdqgmKC8B+9fjO1H2F1r9DZJfReqtKXPiRi7hWAY1wc5xQlfP560k8xmmjTMqqV0WgSHWhf8GT\n",
       "j8hUUm/2ttuSUX/H+V5AonDAqIdz5b7X60aLSgqu+e2jzzZN3JeX1Y6xqbvmL4YQ5P9ceXDBf0hM\n",
       "4mCa/cS9RNHY1Sd8EJD/9zcai/HCoWAP6ECnsTXXUhBjc/tsNfIJrQBcP2CqNqpbxjPHtHQPTYLh\n",
       "QnaeUmwnd4CbyvCpNJcr2oCAWXRanOfiAf8wVu20LPP01sNAYkIYR9w2TPXgsGg8BdUBVreBAAAB\n",
       "okGaoUnhDyZTAh///qmWAIwaJIgbi1P1ahxCuX9HlWm5x8xF3FZxV2T+Bv9GB0QQgJOK4ULD53wl\n",
       "GHCJK7pGP8jdiSNbeQilQ/9ARcDnUNiP8xu3/M+ju1GU51OWfcqDf7DF1ewXP04EJhPOjtJp6pQd\n",
       "MK9CtxCfKVuao6XPeKdynT0kByXnnAooMORSr/Y/LG0/Mkdd1uIK7HQrdTElgoWmHWAarsHkMTS1\n",
       "a4SHWKXHFF6rxEnZp5LR1HoOhEFDe/1mLlUxrC6bJ8hIX0bkGuqQWlD/j/oRiGRXzajy6/tBHOHc\n",
       "VSWDSi8xJ6v+RVlGI2Xe+UDuPPbqQUvF1EI1lrWETdwE1+XzNRsjKepjcz5K3+0rZ8VVmoVhkr32\n",
       "b7b+c7eWAfr25N132ipXgRZcIY0aUkxnFEJTcSQeINvUi+6hJbvUC679Zm3YsK2ecxgxrXypn/m3\n",
       "/qYe2aobajQegBQFZxiiVPMwkWRGyZHf2Jyj/1zWg3ohcpIVYDvqGfqrEcnhqYe/dJJ/S3EcEsnE\n",
       "7t957us75I2PbHkbnVBT8J1GstAAAAIgQZrCSeEPJlMCH//+qZYAjBokiBuLU/U63KcygxbFV1C1\n",
       "2i7K6fOkqy8jCmDWmEeKHntGbXEKzGmfanNVAlH0z/iPu7VzNfVZfpbj5mlUxoAAIyuyuvykQAPG\n",
       "GI1YOwOeLEp6s8zh3rLPBcOhwZ7hWb/uZZKBB7VZo7GuXuI3g31CBnMQ9Dc5xINCklxJ0ctBPZZD\n",
       "PqBpxh+MlQAoZEAolvwVwemobKSIwvEWCx6+Qse/QdnGe+zwi3TnhkPvYEKZp2C/WuMohYRxuaOK\n",
       "6zZbCrAuUtMQt56P8cu2BrrUpzNoud/8irb7IjeB9OhJCSxsJUp4Q8+9/dm6+rzL2C8aSp+OX7NA\n",
       "abOjZ9XYDaNaptEisSoa8F/tvaV7UciS7iCEnxH8YFUm7GH7pdMau5eHV5DKf8DaaEQuS1cLRJqO\n",
       "kwVtBW79bqQRlmFSFqY0ZCqw5lp7Fc2/z98ZHdwLHFqC1cPrpiXDI3c7sBtEFitSRMVeQEpEam9B\n",
       "J+yVibqDIzJ+3sYZK7ePUYNgjiyMlpe0dUmWxqtJEPPmZhkSTDefFPENOVjAnkNggf9VkVhkGcJ8\n",
       "K/nHyKpoROfPAKZZkAmuH4ZOayTPMb9BhRAZe1XDzhtOV49V8BjbbLMUAmwr3thuaht7UXK2JTpO\n",
       "ajzBgPF/Dcw6DkXoN0g7hVdG4z82L9EunGD1T0499WeDoHCAJsfPgaV9RKzkmSct0Bsudq4Y0QAA\n",
       "AbhBmuNJ4Q8mUwIf//6plgCMGiSIG4rogOycS0mHslTKu3QphAqt5YUUhuqOBaG7/6bO2CTbKAEi\n",
       "q3rq9twmanyDQnUmxXhPeW8iTx1aOR7ryt9bzm9jF6r+BDZEOpbvp2bCIDu8EraZm9UTgW6929CQ\n",
       "Io0/JZE2ThvPxNGPCmlgAR1WxFWoIjWudOISJV7wamcj8TImzK0JzCl2AxCKPSZBVRg3/Pjn73Vv\n",
       "kyXj/p2BnoagSd5CBLaUGHVxlvB5a381EYjoU/AK9QigEbUDfVnZ+LPBrKzOYBXjWoHpaAoK+XLF\n",
       "7S1K24u/FU3H6NNzLly5ZRDukDdNQbT6yHeRhvYmUQdXHyG837EvhHoEPnCWY8dODj4pNu48J50j\n",
       "ZQuzdDTuVbE/gX1N5HFWiA1FJ6Q6vT4vg4Nfv1HZloVgCPJ+teu4CmNS+dX0j6evDDHYu2NqOdK5\n",
       "4H/w0AaFsUiIHQkx9skKK0RmMRW+zLT01E92a6U2H1hBKEVNPkAZA6KQ8h1q/HhkCZpjEDHxHxEn\n",
       "qsLQaPAtwxytWhjF4SOrbY+E0Hc/PK+i5pz98ySkiqdMOpRf2qxjmo01+QAAAeFBmwVJ4Q8mUwUR\n",
       "PD///qmWAIwYJobVcxE7+2r8/tkIm8Q/aRNKa0PdzU9KgisCf/8X7YoUItRwXJWprWyhJVshXMLM\n",
       "JYlHJgxiejdAvVpCco4fiEIyMmWZn5gAcb3WB8EYIpqt7nGRNbcOlRQJ9zVQUlUW23yOcZbf3b/S\n",
       "umJEDAleOjJpmmVX3QFIrMmxxncebfarINlTSeL+FtMQdGt9fzcJbpGW2kABsLX7DnMwVIwQpdCN\n",
       "rj5fXA923DhNoLHSYwz8J4E3wEllqgBS7oegbgIgNZYsjOfgSadKd+Xd2YaOwPomVGDGs+p8YNMe\n",
       "7H+S6sdkhahesr1GS2huOjMg7okAm8egC3sCUSW7CUQcwZsRPIcD3Z8LTn5pMIPbM8qSMTjgY7qy\n",
       "kKGwM18vNJwAiPiKZ0lQq+/pOL5E8jY9nkq/qI4IyjT9ASk3uER3sRCNIwDQVzrFDa3xJXiA+pWn\n",
       "mEOms7OEXDOz5ayUUskBYyZITPM/i6eeusLYjfORppt38a4G+kGLL/XV+WL+b9nMfFQFcX9ekEwm\n",
       "Ie9JMQDstTFq88OUDrqhQMlWL9KP9ZXex18puApNWW0Fi2tRK/WKoGmaSJzRTF9WyiPrLizQOG9p\n",
       "PXLmMu/MonymZamjesmAAAABfwGfJGpDPwB5c49iliEPygng1xSa7hBE1EbYCyfszcvdhrp5dB5y\n",
       "9TIntdQILMLWO/Hv5kmgJ8jIJk6JUAY1NOjMb925kZDwGxsDiAFyqCVPr8Qk5lLLOMN5wjjamSTN\n",
       "oCSZbuvOMxbmngGY2v56yv7NAXxdfTXwUoeG2DTDRtfDxcUu9os9+YJZ6TFIR5mj2PnHUTwrWKfH\n",
       "zTsUZ7KcxElH2fldGnqD22FT8SO7Gx9uQmN9fnA2aVpgVRhZ4XODt9C2hQKqnq2pwr/4fkfswkYu\n",
       "h8Vk3JBR1d3M5kt3PwYK0JiXiOtCaoOnfH/Z8H8SNjxJrsXB6hm+ClWeZlUHolUxeSHAtyqYlWCT\n",
       "jTip+7gq+1eptpTkVK68Y3G4igiuoGLyFOD/E3hyACZ+NcuGMmQ7vl3M468mzCaQkyMB15T3Y/EX\n",
       "Gk7VYnOPyP92ohK8P1vDcDO+XuVrWO2nNJ00xpTU0c0u564PT8z1KvYDVaE57HOP5tZ13d2EkkOw\n",
       "9AGBAAACDEGbJ0nhDyZTBTw///6plgCMGTJDqtvX9K6iucbaV4y3klfEAA3Q15ry2x5WRTG80/+6\n",
       "fRXQskGzCnXtQdHKjKLKmG+IpxQPs222xBMxmkzLmAtUJ5j2NL4uUaMPBT7whwlb6kOSlffdEkkw\n",
       "HEw35ZmilgN7DDetWxHioBuY0fnLTRm2pVvXOPhY3KukWCfQbA4YEArh0qXJTiEXjWIPPwF7QvVc\n",
       "ZWSh4fA2MJgDEqRjePvWAVlGTadK9Gz8ENo5nPjiKklQ7zII8DoujnJek08YkyinN988oTbdJy8i\n",
       "6B5GtfXDzmd0Ne6EQioUtdtG2EY5mkxSYpuFh4YQMaNu7d6cxjL8AR8PJWn8Z/EiRL1QJ5o13dV9\n",
       "pyYSHL6h/SJBimWDtI7eTPhEuCMGOUCwYXbtvxrKB1TkLqNDH+5xqUdsL8mXpQLPFJOdgib4Qm+H\n",
       "SSkVMyvwLotDAM9bAyXDd3KYg+mZeeep//CSgA2TvrgEUUcfU4izLGsvrlDOshwBF8hlb8brkPQC\n",
       "yc0qNVfwyDwjcHkkA4mY5KQUkQ/42m/iPSqKnhG1VapYnJEXln9VROsg4sTdNlS8tGa8ZkMZeYYZ\n",
       "I0ExH/bG+zya8k3h9dQ31vJI3/uiT0t38FVypeOBJGoK7r/GehPqzTFEde9IpuXj4H+oZtjzEQNJ\n",
       "FNGUNfttn00w267kLTAbIc6xAAABegGfRmpDPwB5dKilKpFp84i2Jk2r+jhJyqkcL2SBJi7e6Hk9\n",
       "68jFhzP+bXZCnAAR/iKQmPlnwTWHJE164gGdr58yof1MwKnBeLR/SnuToqN+7GnyKpXTSytbYXgR\n",
       "PusAcClp+wvamog+BQJeke/WGkIfz8Tj0HX+0Kv7PV79OVVoEvlMBHnBMTfsg2M9rciMrfAck3zB\n",
       "UV/VhH5kCRGc266XYzqHjMEN/mw9fSaUcsErOulmMZEjrikKnEz1+UBO5SacJvkk36Tw5O+MkbSS\n",
       "ZIO8E6ll/28NXa5r//MgBwaXL9MpjG3Oa8SVAK8JGC9WsBLwsVhuPaqJW5aLTXbn83f5uupeJ/Jh\n",
       "kUNnxAhQZWYzrY351bR1qW8U0VeTsQ0NPi0WvutP28yLTxueZ9kGflSK+i9Mrou62Py/d+5GbAPg\n",
       "B5wR3oUPNf3MJ4YLckTxVDYuVDksRIwrSTdSdE9Tx/GZpGKtj3chQQV/DIc0Ptgg3WyXBQNPg2Aa\n",
       "0AAABEJBm0pJ4Q8mUwIf//6plgCMGHVUqCKP4wYl9zbj0mGKwBE1tkTsPE0ksu0rjQbSeHbpAVek\n",
       "PvfBJF9vFbsk34blfM+RikS8ypmxv2GQhhXuLuTEixaOwUTpQr4Op06gC5Qr6yMj/3KPDiFw3mtL\n",
       "v5gk86Z0FEmWh4kTveN1rAHBQflCRbxx/5FJnqvAltE6zVEqCgh+dTYUCi7uL9ZcctrIxd1ubJCr\n",
       "aRylHQO2weG4Sxdm45lviKyFMlwQTrGorKWXUbtdAufSdPMdo6N3fnqiw9Lxhp92LtA6AjYaN7im\n",
       "XI3GA5N/Ee3f/l1v3hzDYlPG1N5XSAdgP2+RpW4Nv9zTZDzHs6UDpgnHm2uO0Jgb4BX4MicmiXVb\n",
       "/XgyvFt1eoyZOE8kkgkKmsiSf7tfQ7+TWJTPkW3KfwpCYnTl9Q/+2Q9b2aFvKSuFMITvygLFiMBX\n",
       "Utq75FMuou35p2+8ln3sCkIrkn3rLSfQPDLH/GjbrlHKTE2OJgsGZR1hs+mTEw4WfMZqcHhCwAd2\n",
       "8SkYNT20sJZKYk+jRYASJrFHqn/G7jVj4lZ3Qqj32nrNveejWNcZFWgcdIvKcVEDZpziibZx37Qy\n",
       "JHRGcJ83dWGTf2gsPNa5NeKrmgtNQCHZmvLq+fm5TGy265gw45cIXIMcNFTva0PFJ+Yz2E3qdeYw\n",
       "0int1QETUGDyRyJJ6f+VfYV+VsxaRf7IohC9D3PxU6OK7LY3uCViizy65Lv0XDITqbqMRY/iAEik\n",
       "A2jlaaAMB6hQkMsDeC2QZWFkLA54PR6Oa+zYJBlgmzzO20fOarB4yzn8RYXeEqMOMEFRb4jKL5y8\n",
       "6MqMle3jQc5nda1NHjA1ZieKmmpuCgrfDnf4i3J+pggMU0vNUJnPTOn00ycFoYBX0gQnJrcdvJgc\n",
       "TgQdRget4wbG5JGEkeTpYJQUyxI7xpnW8vt6v2rcDkIxYo7KmBXg+CEeApBxuFIfnSZFNuvai/iT\n",
       "KBj/7FEzVJl2vP/zi/z0Nl6tfL+CGSSCv0MwUMI+RFQ1ujNIiRgfRbXRtVBeaqgiyNBLpbzbZBnu\n",
       "5GOy/6ItU4giNMkj6uLeMeXLPG04yomtSwY/xPX4ua608IOYVpGCithCwanfWE37ka9jkzTuzlEi\n",
       "MeuXQLUXdzuIcKQPPs3qMwMMeNJiQBauZedy5U1veeBQT41q7U4DHsAM3Ajhs6u84mnDs4JRUwWT\n",
       "/OGaDqzfDWt8e61H/kvUlY4x5X+a+noscbtaN9JVFp9rTZJb6JSEhoAHSHfyuwMAgCr2ZOKE/dd5\n",
       "0btLtWBZaFVTU0S+fG8RDX3Cp6EqxxS6pOEFjV0HeUcYUX6oPyare40O7L9daNTPT5KeFXyam/Co\n",
       "uMjzI2AbY46fxjrUBEr6f/xbzAaoG4Y9xTzEjIrlwUFBJSt4ad23HU38LsPZgUopFVlk4txqDMEN\n",
       "/BevDN02qW7VK9yhAAACM0GfaEURPDf/AGQ70E+LtR3M10osL7zCVKnRMeXAJnCP1dCp2aiE0ii6\n",
       "HON5JWqYP3xu7/PqADzAEs4bzBZ52UOtCm+vFSe7gYwqABUTJall+tu7d2JSoXKAULcUsKJ40puY\n",
       "wIs1beiW+WjaIuvJbsvO44Kq/VGLzvfFXBNmDPLJ+eMFkSZoqgoICG1PPiLbUeSKe1BFLnQ+eJx/\n",
       "WD+HoRBvNA9Y8NTvjlkH8k00YIWts5YInwU47Xv6+DovUTDDz5UJXezFhhRBZxp0DjPvFk0ob3xA\n",
       "P3tDv8ZCyXUjxvAsxr0KODRcPipRycr8ldflIe+0zRsAyNeYv1ka7ZI/jR8YGoEP7J80C/LfN2A5\n",
       "e+aCGKtY38I2KzlPe9eTxjno+G55ZT2lx3ShqK1JdhLQCxn2z7zLX6l2LnnphiMNGYuLeFRtlddy\n",
       "o02o1RbpEMPzAdcq4imkcuARnzS626vRze1UsBm7BGnjjCft/PqdcjfYfVM6AKertcrslAwcRDcT\n",
       "0vWF4btQETwfc2m6e4Mx/gbH1IIZd1+U1DWqCRDfKKt+azXuHmmOlSmR0vupoRwz0VNdZ9WSLnTD\n",
       "/X7MDXyNoG4uHJ1Gc5L5/VF/hIHpiUs8g5tOuQwlkSc37WGUuM9HAz5fQ4EPZtRXgqt1Fqrv9aVr\n",
       "ITuzilETEOQh+Vnhs1fe3z9qcQTkJ0VCezQkiF9Jgg6Osf+JjCST3vUwshKjs3dtjxv2QHczpyLq\n",
       "q8VTQ+xHUgPSAAACBgGfiWpDPwB5dKdmbJ9PzvR4GOsSpDPbcPqKYAv9jsdV7omxFQQh/Aq7ubwM\n",
       "3fl4VJPpZu1LnSR6TKJtjknfFqPCnGprTKmx3ahJsKIC8E5M7H+BkAyKsFjxuBotTJyiPw/FelBt\n",
       "5/Om6bgBgf7fx2OWEvrbB+OWe8hK9YtQfQnk6FhE5O9jihR1xFLqzYjirDBY56YoxNziTS36Ubnf\n",
       "FS6my0qhSWMakJvY/6pk4t677eMrVY1LgOJ6iG820UInK4ghb5WamWPVoMIrKGLMxterv8oyJsQs\n",
       "FdjMP4JOM4h8jsxEccLGbL/AnO8LZ8PvX5Q+nKm27Pu+tAsqiQE5pbN08KG+JRvuS6Db3vGQ7HPa\n",
       "RSVorUqpDctx3F+P+TTsYVKfhl5aQ38IT4HrY7bArK36UFYknVFltB5u94O/QzqfRzegxrczcVqK\n",
       "zVcCYdLZvp3fF6B++dxrQbp/9UR/hP+AOIBZv37WjnrtPBPvdxX4b1dzzQIlawDq0kE6+TgBdRBl\n",
       "s2gZOvzRi6MtWj5nNYNZDNUGNja/Sh66ZkaW/32kbuCgKqqQpSB7ZMjHE1tceeQ4hKb7cYtJahDW\n",
       "gOLFWqyMpG5A2MpJQZAUMp45Z8BtnhKqbKhvAYh3jQgMRjhi2CcyYjA/X3tZEwCgnaiPu3LPJ0kf\n",
       "RN2O1d3QJWLvUHYq9Np2VZOBAAACd0GbjEmoQWiZTBTw//6plgCM/WKaxRw3pNzDNoYAoQKWPQXT\n",
       "RIwra2froh3mUi9hEzfj+rGZNQ1BhNPDt/vPkGhGZ4BaQnB+sRmAOM4+kv7/BrHTZ3qgv1+Tc9Ka\n",
       "JEVmlDLkvHbJR4UMUYz0Zh5HRxEMSkTTfuDdbiJHH7qc9YrHrnwlraccTSxlKQrbNu91YNl4Lkgd\n",
       "ewb0kpYnE+0TmM6A2qChH+CF38R86b94pEIHciPmWnmHcb4neKcI5B58ItmuorqQb+9St5GqREzs\n",
       "C9rqWV0QhpxLyDOt9pBnzB9Cqo1zMxZpckO7X6PVQ6W/IxpxMY556ym6d08KcZ3IAJadZd2nAgXc\n",
       "MdkexbwBk4bOIgd/+LHLAjzVpAKRVutluLtcQ0QU1fcJs0/dacYrsb3a+N3urkRD3pZa6jKRMzWJ\n",
       "fheXuaXQUE8HFn/xejIwwUAIKyADoCII/sBZT48ukPaJJSMLZrVqZie5WB5Q3sVjx0FSkB0jj9iX\n",
       "B9JZIv5pNwMymChF9/2HvdFGyBaHL9q96eqb2/a1A7JE/HK+a5e4OX5L10/B2v9RWnftgH3QDsZt\n",
       "rs3e1t3wWYE/3PlyO0/IegW/pqI6ZB+DZAn6Dm5HxvMUzMrIE0U1/5WQ8RSUyo9l2+GWt/0X9a6X\n",
       "AgUMsms8pvJRt6hNoedtcvRg3itEE+2LdmoTGWzSx8fQlfZY/M6ix3vWDWEH+1pom0mVao2boU9c\n",
       "6+wF9nXsup91FpvlCI3UvSHspmVNdMXyxByZvnGiUVB+TPl3upSPxlRfbLrNFJ7seNR0bcaS9uiI\n",
       "NKQH5+2w6PEyEAc7u31Q9Mku3TQO/JyybvEAAAHaAZ+rakM/ANMG32Eyh4qgf7ktIxi9SfS+MNNg\n",
       "uR0Wx23hjhrdidBrURRJl0NZsSvMeIJ0nuAFqhMQtecL+ItALTcpsN65WuWmHzpo0sIpdgSUxs5P\n",
       "FXbdh19GjfTrswqq1jOHAg3dv5CrUQgsb8K9Imr525pRVZxm6PfqzmJxf0JuUye0xQTrc1yT7Yxe\n",
       "5yIXD57SDnvNf8nkdDEQOx1prDfnh2jfTEGvnIhjxn5DyM47EJuvHvCmv88H42OlknFbkho8QG+9\n",
       "lOTReDK6JGHvKQGoTaqYqWuzyA0xgFYUnaCrz+BY3lOpNn6wvJkNpCzp/38i7ADkt0SbTdJR4E35\n",
       "mwFX2sqdeiywMOMbXTO84SLB01OkTvageB1vBU0ii5oEAp20gBNcWi2HqCwKwhnf5N1dIwJ0fDmY\n",
       "l25rMqKr+irktm698BUTt5/tLJdCu0a0oPxdnqvzXA+y/HBg2fl7Wb3QYS57aJEM4E+zG+WqF8rj\n",
       "snCkKLG+NkaaVukrvOpKDL68yMZ29HOywwA/qz3ChQe7ty4ein3D115625OxNSjLGluN8/KcyDt0\n",
       "bGotpFYLi3NPQhURrML0ruSJ1In7prHve+SLgf8Ulz5aLusrGqxajWyu5wriAOmBAAAChEGbrUnh\n",
       "ClJlMCH//qmWAIgaJIdVjY8lYqQ3/V2aqvGD8/IR5BABbR56c3crooTzLvJ3mJ77xcyiTm2YH6Hb\n",
       "iTH+rSPfVyM66D9POTI06hnRC0ylcrgARfDtrey2z8t9G/BfoSFNUrZllKwexGC0Cxwp9PostzyD\n",
       "s2psktm1TM4hodmUgxXMYyfsmanzSvZA0RQrHfIpr9bcCa3pjaJ9ZK7sJkEvQVgeRbMKkmrCUTSJ\n",
       "7DGRwNCSmKGOwVoYVu5yJcQ2ISklPK5GqJlHy7xW1VOWc14dImXNEVzNHLzvIe2lsOs7Y7/vd3Th\n",
       "98UaHddiuySyUEO9yalZKjN6eHYUTR2WSJ8LklWc+vOhA2PA4Cdt01SAewPYUBpA6GnbTkLx7aY8\n",
       "tCd/yhSb/R7xgZVHiEjbGyXa0LTQLhjjyN8PPpNU4/UBhVd/Bbf1u2ft8VskHLGLcktb2gMHaph2\n",
       "OHy+v5pO9S02CfrzRYa6nu990k+IcshvZ9h9WfrcPLWXRI0FoPK3gAeYjTOPsFEWmt1RkAW2TrLJ\n",
       "OL6J6nEPU1AxtH1ul/b1HaLJkn5OEQ07/exXE6S3JXC1dAOoW49NtaE0R284N9Ir6YKhKRg38iW8\n",
       "lFBkW825071Lsh/osn63XjHpvQVwejD/lrYf9YCMDpxfe6rp/ZdJFjljMop/odcabSfWF6IJ/y4I\n",
       "AL52NA+JtnIr3pLh5Gh/OyMIFEc52qKWWLSKZ41Zp6VjVME0Osqhb6L/NjelRpFg9FZNuXLSniqM\n",
       "KM+dvjOnwFVUm/2wKiJkYcDb9ncTelpX/qkkLpIb67ssNs/m2rHw18f08RHIePt8Yj4mrm8cJffB\n",
       "ZLQSw3sY85SMilWBAAACVUGbzknhDomUwIf//qmWAIgZMkOq+tVXxgzFbWpU5kR+PLOHshOEk91Y\n",
       "FYlT83ZJNwsmAlijNuhfk7XfQj02Mq/Q35apOfU/c/3nnH1frW0DXPYic14XlE0i9SBQ9vRbhLgu\n",
       "2IbJH0bvJp3r5SfTiw2N1pVwShqFsXmzvZaVdqzdaVXZbJXXJqPZNlNjZEG4cXysOXovx1uxveNs\n",
       "rBsBu63LKQ6WYUjs0zwcES3BhYtDuPN6R54sj6i+ZAaN8quU+z77LYc4OiMBJGh+btMQFmJlff+y\n",
       "HeQIx7FzIZm3SJSD5Io66vVshy6GdysDDDtOQFK1gsUb8hN08Jl4FZefQchYHv9A53iU0TLsHCvH\n",
       "RmRHh+7A4/AMbMnVuSdOYdTDgg/8nuTeK/6YT/q7lBW6878t7R7JBv88Ceg3HL6R80PKuEQPNgzy\n",
       "dSordpf1jEjlVpaVk8opA+0kATKKXXxKdGqpBfz4EjzGW4rS7S+XA/Px06SecYMadG5pu+jPw/r8\n",
       "Gx741VtKZ/TX62z/61zqvSromOw0g9uzM8S0NOTw//Ut2x2rlVkE3ak3wMU++s9cISkyIr2iP5to\n",
       "EJJL68S4JDz3XYrLwMGTT9JW6gvscEjgv6vLVxyi0SqTxRMYq9Pjn/vbui3hklWU4W7Brp2tvwJt\n",
       "Oq6hnQM2W5XEzYPK4Jd2kzCsYAG/TiUNuLea5BQxm+KrRklcnfvmjdFwV7MefH65EEX83lV4wDz5\n",
       "tcUNqBtIPVKwpAxWtP38I4D/9oWrL1nne163FugHNjRspX/v+uVuCQSwLAAAAqdBm/BJ4Q8mUwUR\n",
       "PD///qmWAIgZMkPDtrCk3MowS7lWiHpkIQ6AHG9XmfB2OyWIbyXr5EnD0RY9iv1HsP3PXDk66rjw\n",
       "1fmC5eZ3/7RnVUL7q7PgxFM/s25DtNbLJdu3Upigu91BtSnQQq1q0ACDr25GiRv2GpJxS7uAGYwa\n",
       "xrX0Sv++CyxbHtZVswvR9lTfWMeKYxKv9IYt4gCxx/COHXBSLkdSUBZ1lZbqb29oSWVe+uIEoZWl\n",
       "RwumhzORhJ7MWuVvPDbwn52/l5nayPOjMLCayp9N5aK8Yr8bLuNw0IG5SjzQ4XaCSnGpeOWbHMB0\n",
       "Uyds5KFyIS0bibWRea6Eq0E+EZu8jpQKzJX8lmKQxTzMpOBWf1nSRKUT4/8PlSiPSfjXIgbpa6KO\n",
       "5eNa3C8fG7b6OlzSnzbCrt32rqyKyuG45rFLFl4J3Q0FFZVPVvWNLWLuwsX75jmt+mBX5spEQ8f8\n",
       "WkA94pbMMkTa6LH3o7HKCow9JmFq29A/hk7M4kuZl1DzQ/GXMuT6m8/qdelGHSE6YCvh5If+apOw\n",
       "+Mesvye78IwzXTOtWHXejK6rnAlTmRIZ5quAm7VssNhrHviSDAkHLhEw7GDZs3rqbNI0EjJ3xSpj\n",
       "GFeYKCuJteGEH8OPj+D9Ya+8q51Szpao9GEyLhHB/pBfQuFZ+zLD/HKw54JgwxFSCRxAQpzL52CZ\n",
       "Z6BU5ffPNaz2nw2Cg/zjIrym6h4f8LApTOPVCjEgGrylB/vyoN0DYeIhxOSV5m16l8cOS4kcMhMW\n",
       "q5O44aLPKeMtS4xB8rWgjM7bIrosEKAOGq/sYMfE4PE9yrQBSC4keR5k0Or+VKrdLUBLgMtSDlk9\n",
       "T29CM98glj6Tcs+c00eG7oEZtSAOKMoCny/Z5I4ooBfxl1GWSfQpQa7gAAABuwGeD2pDPwB2tKil\n",
       "KoqYTRBPZbAEmbEWcG7x4Q6IoQw1SfeBV2hP2sAkLRqW+AFn6M+CazE0ZbZqFvXdOLjFY0kRwcYK\n",
       "1LmbXdyEtTX93jNzY4Zrf21cABOpmsfqy7O14SCWla5tdE1nyRLegtFgkHjdFRRvcocwoJZzZbAa\n",
       "5p7VUqI51s2cts7of7Egrgs+KaW7F+gmuH/2SikBqhGTtKzD5CkagA4yltd2TIhfd8mHpQmZhnlE\n",
       "bgKn3QpWN598RVWpFnOgs1RrR2+WzAq/Okp4LM3kMwvp5iHSEdGThv0k3dOsx5JDab4X3D5UjLnU\n",
       "6YoPxm9eBmkMxeDWLGB/cEiI7ypYfB++VTaReyHkAMfbE0GD57NiklXbbfHkJnlKTuGlUu6BHHAU\n",
       "rKHHMw7PTTSpLJiioYYJ0FGGVJPmfVwNxDNjewXXnXrd2YNPeDcDOW1k17DNImVhljolYZ/IdU9g\n",
       "RbN2H2//4/1VMfT+IMDEjbOMSZV8gQTcZAfAdSvs8YldtWOECeLhGbTR1cQey+mBKidmxMFfXNZW\n",
       "uP00IZreAx8RTsMKyOGsZ6TE87K0XRM54FVpTWZwAHpBAAACVkGaEUnhDyZTAh///qmWAIgaJIam\n",
       "jY83Q6fkIoiAEZW1/ewfl8/Ewl+sXmVB3xaIk/cYGXiR1wBK9MhY++7fp3GC9yaRm8pKisHLontg\n",
       "92hWJ0Teb6Shq40/gWZSV2DjzfQiWIH8jhz61WiGZUr8MxtLbEiXuR22vBYBkPgmFPU4SPRmisYx\n",
       "0ukkElNFjcuq0d2eFmJsAokYwGFZR4euu81qIQmHKzMM5Jxix+qdZm3YO+Ly48/CkKbt6T13uZ5o\n",
       "74SjGXi2/fY9heJ4EOwaCTWrWLwHiwyxb3xldIsWciv1WsS2kL8S2znT+rVauSdi7SkSkTYoxt4W\n",
       "6Xl8ujKKizpne+lu2ByCdv5P5MlpN8xFbLVyJ+YtVQ6gD2lan4kP8Relcq7K1BPxGhQP2afauuUn\n",
       "tYktUHp9AZ9f/FvwhhFe8L024ZoPe0cAXUKmdJVwTp1EWi7gMe769IXyi0jkpVaEWHu2duEsxwbd\n",
       "HYrcF1iU/eG3Bu9omAvDWghC+sY4UOtVwbAOTnFv7wl3cW9kBUkrxbVJUeTgPJcAfkDl3CBQn6+V\n",
       "Do2zvitU9WDRyhnhmCZd3NdDnX3KXcHhdxwqeFt5pIEmEmobT1ZGCeGYCTQHl9ikQFJX9r8RV2zP\n",
       "lOiC66LkSkaV/DwycDZl43yXREmOujQCseCz4un1Fyctt7pz45CALDInpXaWtyH25YvTyRgBxx3K\n",
       "Y969AZPX8WtmSOAj4/7zpAMIyFwc3jMUMsQB3O5uHd4HSfxHdXD+qTcc8Y6bO289zKdD2e+TbDNR\n",
       "73eF23qephIAAALZQZoySeEPJlMCH//+qZYAiBkyQ1N61VfGCG+lKyMK7rhOqxGnA9Lp00lIHaj4\n",
       "2tkhO8hH1nIXpasek45k6fZacY2HojNjNsZcPZhRlHTayai7CjFCHnIl7ADhgDcvqe6RDNeQRUJu\n",
       "OGnhugPFSL5TzW3cn9hpRTU3i8RFH4KW4mPIbq7CobFZPvV+g5XRgmG1UtVGgezkb1A5Yuj3E/Is\n",
       "WKhD+ezxV9rjMq9h2xgqbJ1/i56IVQ9pnRS9wCnIhrbtKZ/gxbyPe2dPw3UTd4P+XxR80EstJMrk\n",
       "/s6N0UeKkzf986zFRmwnWjrn7ZLG6nTDc5Xe627stG52uSyuf0pCPYP+QdfvBFjPnlr4zNQbhb59\n",
       "epUg30E8uL1SxJx5IsJeRbmE3fizo3qvSCl1EXazDIIUDlRUnno3D2T5/szJpMMA8+qnCB1lJdSu\n",
       "EhVsp0JgUgXyendBLGsldMY1wkVAj7xXtd08eJhwgP0QmaPwrGPJLo7BJV22AHZvVqVOdHIlS5sn\n",
       "lcEmqG4WwCEVB0XkwCEaM59RljvPbIgFr/4oXk9X4UMlcYWO8XWDc4Q5ho1886JhBhGdTj5YPdGe\n",
       "B3zY0cYG6rmj1DGqkGQ3xf75Eze8n7mFILQxKfvUUZ2KTvrDoLlMmcVdLLS0YDA6vD6m6WDDRXfr\n",
       "jxVKWpKanrEBI8M5hh0SjloczEFnezvR5l0/y6KH2lEOtDkBR38IZzKi1je9PlVZZV4/R8MloCMS\n",
       "QFY2QsaJNLsYsRVpe9xlgq9/4fsHFWKqHsBx/iFYAABvPuBg/HaztEOqkB8RvxuirhNY5uRc6pPZ\n",
       "FhYoO3Xkc142WxBNiSH4obbQ8WSx6DbVEbKwVdomj0UngzJPs1LwXNEWeIiaF0R4GBBb+fIPzGql\n",
       "nz1zFM3b77d5ihFZVMTiAWW2xUzdMkM40GyUugw7S/d8vLBGFZM4lb9TaSLLygIig9wilRYBrtzA\n",
       "AAACMUGaU0nhDyZTAgh//qpVACMHHO/vpmnH5iCd8/GxaGuY5SNDBXVGk/bl/+3KPyqgzfWzmw4r\n",
       "a5cx2rD7v5OSmXtuooRqQ5wADe685aIAnb0Xqktg8G6QHt1G2ZFYf/dUtwDLlU87Zx4uqWChN0a3\n",
       "0VmTF7Lkc5FLMJlQRALG+iT+7A2P6AvGxYiETOOohkrDJaapSSbLjrmIBMJLzySMUxZ051iLYObD\n",
       "ZiUYDOlHKqHF/aDnMQcNBSdwXT8frzPW8qdIwEWzeI0cUZ5mMn/nE1ex1O/Yis2fQcQXXaU5Jlc0\n",
       "6+EiFun/28rTU2REI0mVvGuAjuljYStH3c8m502G1StN2jT8TKrAsdfvkwla/cLmTEFkkewQ2Qcy\n",
       "ket2PedxbCmgA3UXtzSwUQHA1YXZjV41H8D+PBd3uJq6xC0ZbXujzmw7orwVw8pYoDBNt7ix9Xq0\n",
       "i561EiUgzG8H73YaLWQoQaxbqb+rm8cLSigF5YBjoiasf9Ek5kbUPcN8ETA+rN1URNRN2cw4DC4H\n",
       "VpSzrLY8iCGu4/7WvL1dKAsFyuu7ONc+AdlEfGoy+YEIOp1lnAKjnv+DfmCsMC2TqQAnPCeOAJ9n\n",
       "ZE6FXyhJP7ps3ZxFQRXhC/pM4CLa7tjurCoXx+caIJlZIFyP80Pqfe5Bd0Zz2KA9sCTxGknaBQks\n",
       "eRSvI6IOVZY5/MtrLhOXveNWVNtx46f/1rvRr2CR85dRE92H7KehGygbe2dS1n/SdvmMKQAAAllB\n",
       "mndJ4Q8mUwIf//6plgCIGHWGqbooyc2X/mUyQfQBfjX42NYXA8JxF4630tKAtsd0nUXli+rv9eOx\n",
       "vs9qtHo5SfH7VvJaBn3Ljf3ayGw6FjmxZvSc1IzQ2CbV3hERaQYUaPPFdn+zVTf4kOxF6ErXxVc9\n",
       "jQwHX5k6yAe+gxaZW+mdWCwDPVfatwXA1wCGkp8/VRJ7DdJqm9zMiCT7u9h96M69Ywlwb6CYsbHs\n",
       "MnfVcSnwLVo1rDyO3ciDp3GP9R65gVRjn5oLuswYcGOCYgizg60uzMTLy3TgRozcn+Vj/6KO/iSV\n",
       "9m/hWXxVb5quKqT+BFqVcr5b1FCLymtL4EEwbSndkkOnpmss8m1WYGPMAdGKkNxrjKF+zRKoPbmA\n",
       "vkVmkgkvPM3UWe/zpJDsGA99ArR3roAdNxgwq40TOtp5a1Ie2ihaREs2yq7XWGCqOXBNzRnSEU2N\n",
       "HgwQoVknFZIYS43aNsIgcrVupwLA4ccBNaNJYt9EaIz02P0ZDfgbURSbTnhatXwzRx2WsB/MkpCD\n",
       "APiyOW7L3tWT6Bad3J6CwhHkqaToCwj9IDwFKXuMKb+IWef7T1+hCAJSSMYNhEGJyi9QPGQCEk5x\n",
       "Wd0yZEUZC2rlDYByoQWGZbp4orVnRgjeN/GvGhpWd4j4Ppv1ZsU6irBtn4yWakHeiDjP0UsTvuvJ\n",
       "cxKyccc1pWp9xeF1eJDja5/zic9gRXjZTB84v+K5RSFsShAsFSDgv41peCYjOq9rKn7UApG8FaXN\n",
       "rqydm8CPTVrIA3BUzEyM7SImyAaAYdxbBbJiDWhBAAABokGelUURPDf/AGG70JzP9CBE8Swo1tSj\n",
       "TxakgLXtmGG/FbiobPDDPz0iMp79PQiD2AGvb9r+ebPKOO5q95oJw+xnnCMKC3FvtQxJZE9Id5iH\n",
       "CVfzxLV/OzVNLMv85TmQhiThLA8Ac9tBCPY5VmhqhILmMCFcP3Cei/sSovWbI2RPY1oDarQ19RkO\n",
       "xMaMfuz8K+0QNLgSayuc8b8VUarEiRt2y+7ZgbGZi746h9Wziy8a7PwXTdYA9Rn4kwl5077a2kvo\n",
       "9tnq26l5Y42pLduRXh6UwrG4UZcRI28lNco3NRU8fedDXdUl/SYCgFv1zPwZ/afSkKKHSR8faE75\n",
       "PwK3LqWFTfEh0Zo+skmV6TZtFtrKkwqEO0F905YdAjJF0HN4zaby38vntKaWQOhWaYzutZ0tl5ZZ\n",
       "6k/yzbj2E813udKfZ0xMN1Gkt4epA5EKoucvznsT4ayqZC0/CFU66t3uGh93r8qcYphsM33yoI3d\n",
       "16zQR4Usi1sZjq7FDtfRNUvvMDydLD9177b4BvGbgmlxdakl76bly6GcUTiodrzj+JAACtkAAAGH\n",
       "AZ60dEM/AHbNadU+19FAAHmVCS3Hse1N70ugm247GTIuoTQrclB174mFhO8fNnifj4wMy2xAEr88\n",
       "y13FoCZyjuIAW31fNDVkZnUkuGD6qjkfr145vQupDNN7m06h5XQURb/oQzg2wLPtnaqq4APjmz/z\n",
       "Fy8JpgXFqmDJWUiWK+I2Wyx7AAs5HyBep5UY/Lhe0Kerqr7ei+yIel5qWfSjASSniTaMd3TIxFTa\n",
       "ViQDAiIsybqcca537SQEMdpAWPbrFH/mhr21l/ZyDoDHm4E4EZJGWwrw/fUmIgMWBt8TEItJRp9W\n",
       "99+tu3pizQy7oVn2rA1Jv3LNMRipPcYE6JGbjg2JqwDt4CdCtnA0oI/YKfSmyzdCcPT2CpFpYDX4\n",
       "v/JH5u/4F3GiTPdtxeVWC3LIKB2BqN+7gs7kHzEyzl4Bguv0QcKU6OBmt7tosIR6/hCR/EeFfU7B\n",
       "KT0NSiqgx0f12PupYBNKdnY6KCu0GwfsPxMcF01osnexT8RY4x6VG4/QXkOqLfmMWAAAAXUBnrZq\n",
       "Qz8AdrSomoKKmErPrS2lMqkFz5W0cTMPWA6YXhCklb+POClt0R6i3Htnq79GHFUgGsuLyqNopLrl\n",
       "tLVlV9YAWw6zT64wQUa5Z8WKK/wZ56kfrrkmBWDIDes1UThGkFd0GrfpwmAay/XWIoitzyKakFmC\n",
       "X5LK7GResfPCRTe99VoplA+N0fdnlaPdZvWP3GFyuuR3w8AX7CIP57Y7qLv3sS4gpg07nMwYLqvK\n",
       "h/qcthmzWoO7zJXDoznX7XNT8F2Zo39X87Xk9MWM7RC/Fp4vQIDT2DYjeMIZMzuuGGxqiF+YrLQY\n",
       "q6Kgh4ofKho+CR6nZHwNh9We5rvCkR+gG1m2cuuwCgDTOOPObstK+0F+Ih5zDNkjfxi69sao4lPf\n",
       "1G6WUYjEQ3EzTjJeyIvBupPUMhJ7M2zYl1kNlWLZ3gF49IMDfgQqMLYiCg5FZRf1k2gTzarZ2EoI\n",
       "qOaSQRHltqaSNX/bn9Aersc37NwgeEYAohdwAAABbEGauEmoQWiZTAh///6plgCIGiPBsuFUM+NE\n",
       "8AsQxMfZqnhEIKtHKDaEaeH4OM+dxSKvfuYP6XawFP+1pZfRaB+r3Nerc+9a1L93SdysALBaqY8Q\n",
       "yHMs/KaNBh5SshcnYOfEK8ilR/8h7zyg10g/yOPVh1RD3HfcXrYhUu4s68DcoAoGRt+L3Rs86W0F\n",
       "JpmnHapLUfJ2BM42CapkACL9IAtQnzm230aiNW1mWUuSaqK25RxWR+2x8zwoNrAvsMSvT0Aojhn/\n",
       "YZj3AhQo/cMQymmjRtUNmKL0yvvXzZa3H/fg5xb6VKHUJJS7UBa59Pi83vmVxvHJrO/im1p5ZwfJ\n",
       "oAKr2+AueByVgdI4cY1juZBpJJB5k0pdpFQRnl/IiYkmZIoCzrlxBjD/ovxmCIXpyxOdH2YoRVWE\n",
       "1EsR9GgXIMYbn7sVNlAjHQorVCQ7SftCOFud7Dzfu5pAErDXY+GE414o08YN13AHPIU+NsEAAAH6\n",
       "QZraSeEKUmUwURLBD/6qVQAjP1O4a6QDLq8xpwlET+pSnTHJ7EpL+DrC7tY3kcRcODrYgZLb6SWF\n",
       "eY8soQLMsFAQXHkqUNdSkBf4E86+hAp+c1iHs8TcD6Z6mVRQHOt35MOsK3qhPVokr04SecmIJSfx\n",
       "kJH9MSPk3Pl38Nxcn5BUMlATp5tsobWuyE8h7hQIab3I5CO26h4ib6gFVOLCF8+vSYk2y+we4D7J\n",
       "XBYIGOLufBc/IsaDDFERjWaa4DY+lxvo45P+xZHAnS1m/dyNpLduoquQFAoUVMg6rf9i19kwREJD\n",
       "KEM/4qG3VERtapl7v2cMWoFyVNVPdcTuxzceoV6eaZ146AOO4H7yUOVBhMKBoU3AcBifGs0qg0E3\n",
       "ObH1omUP3Qo+lyTOB2SVZAYpLxgNb3EaLbeHgryyKsgoHbi7Uup3OjDV+p555Bp/5eHZbe05ncmx\n",
       "PadIxwn5miMSYWA3glfAGmb1i29KDCW5FHD/+5s1qzLIzl4+/iG707ZzF/2v8EccIMEI+D+8wNOp\n",
       "jVzsSF868kin1GOQfxB6WQlQJ+ZCqMkw6RSGh34v2pm2ibSZyoGXdvy4ysloB8pwGqhrjxE+8nzm\n",
       "lnfRyjCJWoQEw/dL04PnLJdumOLHRr4R3MJhGU1cgpXf//EHqRRi5Hi9Zy7DRze+N0gAAAFDAZ75\n",
       "akM/AHa401a+nvcgZnTyCPGJPSwgHm4NjRih7Z4DrOQ9lGK/K2JvCjhNFuPtM6/USpB3AK0PW6qs\n",
       "fTegAXQbhsfcxZ5Ob2U6PNY+Q0r1Fp7YPGp9P486aq64vfzA10t7LKWruQ+4rjYHLn2fwOPmVroe\n",
       "sRkCzj4IeYlqE6spMVnK/yLqv2tZE/5TsFWvXYiCsDTVvJ7Os8Pizdlw1WTwd3tl+Pvecdt03srr\n",
       "aSIK1n7JrS7h8ZCf1FLIt9sP5krvTBcyWfzZlAQu3zaRnj+43+CE1xavqgqIhAGj/46yq9oDM5PJ\n",
       "cSE6UpJW2VcM+ID/8LbH5IiHBBsLtI8/8zNod1NagG7ncLc+W0iZtIr2JKELEzg76uOWkWSYFVN0\n",
       "ZeBHDfra/Izky/Blz29crByF3s9I0X+d1ml1+XuH3gRKAVMAAAINQZr7SeEOiZTAgh/+qlUAIgcc\n",
       "7++macfqsIp1ObFm4JqKKdi8wUFv5Ondb0L3bUCtBD7QYSFoJ2jNJrLSoMfXYmPDd0RxrJEbtkZD\n",
       "HJEWvbqmokKidH7uCUFRz3vJh19gkDxTFsKgjPDyB+Y8WZd56xubgxiDGjxTkd3DPuyXmIEeJ6yc\n",
       "0fpGkc8r5cpRJ6zt8xR4XSbVDlLTAZXgD4XqLo3IBolHL7obnD84FLzQUmNFOhOWZNZdXt+vJg1u\n",
       "7p9HG0PQ2v1QejMcBCY+yr6VHV/UfgqOK9k3gvRGPrAbXNYURJPRm0jKrDBTjG2rVGBm5Pj1POH3\n",
       "ik7o2nG90PeZJGp2tqnCQ07elOlQ93TbzliLic7Iw34H4wJmnVoJFABS9KKW8AXHQg9lcVJNjKuO\n",
       "i+YUD5JkYbHuNU31zgJHNpdQYbSerQ3a8gvD35fI2iBv9xcNHch6w1X85Ltbsg4V+3D6sFUNt23E\n",
       "oStj9fPY2sRDMqShsTnLW/+yegt9liCX0vLvNX8/nAEN9t1KolAjsgilPVuEvRjQF4kpqMC9L75D\n",
       "bKhCNvOHkY00xovwY5Tz5PPb1VnWR81I1idV9hAOuvNY78PWkXOQJPlDL3K72nOOBNf+2b13zC8m\n",
       "If5AiOZVuz2jTCwx4eB9pZvTcLIYSXGYdjXjC2QfvMk8XffaSfzOVL5q5kkKFck8qkpBAAAC2EGb\n",
       "H0nhDyZTAgh//qpVACIHHO/vpmnH8hqsObV8e08doc9P75LTyC5ptUx3GoYHAbSw/6JlAky8cdTz\n",
       "bkkOAovQkVWjKWZwVa+cAX5HuNYPxf6iV/21FW3rkfCKgDwra/05JKvXpF93qMQY3C6EtMAJRSxZ\n",
       "ZBxPyT+5VUWMtBOYCob8/RMgYcUBt9GMCKii5cTymJnn2qprFr2ZkNG2WFwqDILZ8UqVglDOxtYX\n",
       "HZx2F5qzzEPM4ZRUXk+XV6bP1zLoAQQBGm9RdzuHaOWziigc3yIoyv+9rdxSzj+86tAQwGoQ29E8\n",
       "7dOK7rDyemxihHQaN8X/JeKpPjkuXXGOYf8dTmuLaEZt2uLJIc0l/1aiWILPyvFPG1EXUnMbZsTk\n",
       "wiLT0E4cRi1hoNmA4tc7XcxXuW6N7GTZWxTQPiydJdpJ6HyUBaZo/sIE6BloFFgOssdncSX0xyZ2\n",
       "+z4Cf25x/i8mzbOQ2FLiWHxpOxXknyHZlllLHpfaegs+BBallhRaQmw/2KWCmIxhBQsIxPRmr50U\n",
       "RsZKzGPT1h5OfO/3FwQz0Fj9aeHmBhLZAgCbPCStoNXMx++osuZCszUyBJiqmRD5XXMQoOP7xiSL\n",
       "zETpFCcXZV9l+OZFwgS/tH4Lnz++6vsFogfXNw7akjX0146Y6BVC4K4BDfZoaEz1F5RGKbjk08j3\n",
       "js+q/31WwOnhEpdwxBVY0dDGl5xG+bh65AGp9ik8Wq+uqVb9QoL8Lgx48dcex40VVWFqB4P/rcOC\n",
       "PvgoNp31Jyh4edGZ9Xhh63lVVnfrxD0OMFROIslw480ew2YjW4LIDTduY/3NOl/qpnfsCsIG25Ay\n",
       "q2Pj9GeVU4EGGDaIkMVYkGUElqI7yn9Y3tLvXw/pVD6vrgVdiDR8KfjnaHpyTRNpivE58aD5gEzT\n",
       "a2rTyI1gCZrvcz7u7Mu6OtWW79SG0eY2K+RKUWeETWzAkLamRphFySY4AAAAs0GfPUURPDf/AF9T\n",
       "0Gs9wQ6dTqTTgYne10rlbDwV9DQvGqtaJmzCZBjRD4kHUEJblYOQnaiBoLivFnRa+khH5p0s3IcR\n",
       "ZSxOguFgZgTd8WlyMt5eN4ARiY5xfjpxWincx/dSB82URjS9eTySkbtmIKjppUZC36WaP9i3IsVJ\n",
       "wmlI4kGwF6BTMbV90pm8+WuwhXDIlUqlnzEZQtbcw/ennFkF5+sLS/hc+yNTIdZPMyGGoAalAAAA\n",
       "aQGfXHRDPwBz8iZO971sDoXKuZWX1I2D3qY1FJH2w3y0D8QDg9YZslN7myWn/zropeptGmRu8IXs\n",
       "Wf3/5Ph0ogIRgzMAjQXo6GNow8RWaXVVNSpM471lAFnhuyDbHHOZHg5lLYgiWRQrKQAAAC0Bn15q\n",
       "Qz8AAAX414HOBO1ci0Ww2uNApfyW9D3PRyYCFyBC4MRwV0DJGmEFhSQAAACxQZtCSahBaJlMCCH/\n",
       "/qpVAAADAJj80B5BVvONERuDtSPaM9PgaY3foVVYI73fV/9AgBOtWQ2Uip1b7O9j5dLmo1lHZbkE\n",
       "ZbYVAlF22/4bvgPnvjqBL2r/30O/1ZxhVVy32u5nrwhQfOPueIwl9MdbtLUeCT0gGuImzUfiZ4s1\n",
       "CHh6S4+TmqHDK6dAX3VZ10fW5GAR4W0b/BgN4eFUtQQ8mFvcW9KHFj2KA+17JyDZXRxhAAAAPkGf\n",
       "YEURLDf/AAAE1yMi14fzU78XBt9KUn18rc0hQLc83Hlg5KrZ5nZaT9ejv8kUC8D+KjVEmiURy/+B\n",
       "AJOAAAAALwGfgWpDPwAABfjXaW5bS109BJG06VqwBLET/uH5dAXkFIM3Y0G2BaTC4A5jAH+BAAAC\n",
       "N0GbhkmoQWyZTAh///6plgAD0E8nc3gBP/Vli7Sy61Kc0B2nSHJ0FpBlDd8apc+OWRtB22Hddj83\n",
       "5xRQpYLiLD5RLxOHbFVc1rLI6/qs4VFcpeYVAzGsxcx7C6/8tn6jd6AMaMLiYeE/6XCebh9RVFcO\n",
       "IrCmM4AW7YFGN6OBmwNd5y76UomArsqCZSZnLCJIxuyFdSqYGzqtHn/gXHwd4RuQuORTsIOLBHbr\n",
       "wz44qqXTV5s7pdWw4MZRm2pwvzn/RTI699SbubrQ/GUOtesdSqjsTSuMahvVORTU/uev9c7SRbcF\n",
       "/UMIsfNnu+ok5jz7t7gos/cWHreyaX02lNZ7UWxYlVb/ybx118FAskJAa6Lj/cvbaw32cLefHQIA\n",
       "9nfL6lz7+P41/IfD+35nvCV04+4w2tSRiqFOoKoCUsFo/UiPCus8yt9fhtsqvZwFGWUW+ObZzblo\n",
       "XYXZ01UgEWJ0pb2QERqmSgwB4nQMu5tzJ/tYnJ+jG1L62fKNYJ697mYCvennw1qwJh01ixyMhuR0\n",
       "EWlfn6LZUvL3XvYpKwp5Z1l9wjxBtXocUoePTi8lB9SPpBXQf80yY8KDixSAwH9pktMtd9BJUesj\n",
       "KTMiRiQuWsl0R2W0A7DQSozH/w3g3/O1XOUcHEXukkB0gtqQ6eQZCXnPHGMTOfYqrfRhI70BVD/8\n",
       "vIsEPEUfGK9jmWqYd8l6R23eOD4YykMf0i8ktnT4nHQpT8844BAWy07DkA3jVQ/aVjRKE9r2IQAA\n",
       "AE1Bn6RFFSw3/wAABNcjHuMGhNP5RkL4FN5kBty7+NgY2SsijRV5rjnpnzXNS7G5uxdk/DpvlG6W\n",
       "XlXNpHiInYPNfZOobhLzYGLVe3wEvAAAACoBn8N0Qz8AAAX3hGlZ+wtp+WApfFzBuXNi1Fx6hI7i\n",
       "Z4YArAf1AywAM+AAAAA3AZ/FakM/AAAF+NdpbltLXT0Ekg9NytHGp2IzTAsKrUQ728dxk5pHwl6C\n",
       "5hAI/I8OITIyGADAgQAAAIlBm8dJqEFsmUwIIf/+qlUAIgcUTzAVZLkkjfA6Bux/vUnzxudI9pUq\n",
       "ZfxcbQgNytO9fHb1qsqQbyBgh3/vKdby47MC7LRGAfJ69yVdp/Sb3417h6l5upZ20SV5b9X2SOu8\n",
       "fYSjLTVK6lX10baMysBNLBQJiGtU85Zo6C8g1A8nr/EhjDuoKHv5EAAAAeJBm+tJ4QpSZTAgh//+\n",
       "qlUAGolcOLrozQWUxqRxJC4R5KiVP7w4ZZMQOBTRysvTwUbnIZJcMmMmqKny4AiTldWcevubuJMv\n",
       "0JCwV0volwQJtyRcuTtDrgXIQ+IkMSGlRcCVIjO5vCytNpLD7FsYSdTep07wMTChTX3bdTxCpFRA\n",
       "3z1TgZPQzrf0e8tRQwqukXgU6uG8wmkoDmH0F1ATn5ocxm0odeGdttcNKn3Ou6yghTIjeMI4gmsb\n",
       "NZncFc80OnQoK7BgxeL4CCDTb/b3uoje3ZNhRrmRQUr87XgOIFJnIAS5JqPuPca8yf0oSidXhI7M\n",
       "GCRI6ouq5MdmN8Bv4qJ1HccLkg4DPLDbEk8R8EoWRaR3huFe9N+i0C9wk59xpd7n2681sHKIWsXf\n",
       "8F9o/x5zpEAPvk0taTtIgTT4311zmxAYYfMNRTa8dqUAgQuwoFes5u8cFh4tP00ZozVpDR+lHpe4\n",
       "h7rsPyHCxUXYggYhNkv0t4NRvBM/7/dpOthmlf5fckLN1LCgVLwL6YyDFEYJho3dgbWANLgJhaKt\n",
       "/L9V5mhu8JQzAPgVVREDQsF0qk+0k3+Hrs+STDBW4EHnVPI0f/qmM8F+6jZTI81fLW08pttAUdQu\n",
       "z8nycHSq2tI5XCplwQAAAT9BnglFNEw3/wBJYOZmU9iQ+3BSFOySTATNJ2fRnohde/o5GFvM5uVV\n",
       "h3Xg9s6oFWHQrIAWvWtT6EZC1J5hCU/dtPl5twEEvkrTTs+F1sTBpowT+Tvm/59P7SSmOotDzFbQ\n",
       "GrF5RO61edBZ5N/LjYBlAg/lrDdlZCBS1Q3B4nVG8XI53tqr1WlgrDUhQYFB/YylY+5/aa7hTSbo\n",
       "SdHN78RsPf/jhlKX37Rk2yw5GNf4SHitujH+92aYLSiQg6FLhSp2g0tlR5C7BFP3Vg+CR7NDbzHN\n",
       "xvCPxwR75nTGqOUKeQEv4e4ZlbObDAYcUzYDIa06TPa10rv4klYtPVPKtYQoJa3cdjq+dnOrmapq\n",
       "M12Fut/f7D++Y3rTKXuNFKewevZtg0/4vdTAJ/TG8A4HKwVLg/uHgV+UY4iF4JlpIBswAAAAswGe\n",
       "KHRDPwBazyLYtF8kD7OcSYtaEeTa6Nn+o1CBZu/7SSpcou1teAALmX4Wltksg99c2HAnZKpcm+nX\n",
       "GLi0/Fmog8IfN3wqCJ/9mxivrLxE38EGPkvYM2pwsI+tITtAWawZJ/HIf64smPgGJZrJyVex0mRP\n",
       "aLPPi2rzDAJ3AW3nQ6ZfvIqJgmaqMB1m4etsrmP44KGSgOMmMQcZK3EEzjG8lGXftKb8BzksNdc9\n",
       "4kUPyWrvAAAAtAGeKmpDPwBa4D6b9o+StpdWWAFZ5SS5QT6PeEc8ZTRXupND+yr3+7TXBsXIwmRu\n",
       "yBnWPfLwASIOjBl8lWgKvMuG+sgaz2lcAG1G/ym7N/+bimWjy6kpot6IvbBhaWApYg23LCu+snXs\n",
       "N1lVwcNcW6NNXdp+h8KazCe9OBlEW6MSO6G3t2gixEh1RMvilxGKYS4R2Yz//L2ODS3nI4Dp74aD\n",
       "vmB8ZaoKN+u955NLPGTSs/aygQAAAc9Bmi9JqEFomUwIf//+qZYAhBn9hqbZRd3s3E1z15cGGFZs\n",
       "iqkebkE+UcSRn0YW/hN5pWPShQfDwnOSq2U/MAOKoFz62KhuJmrzeL+MVPXnr9W//5oe7IDIlsUu\n",
       "pudZpBEHRsfbazJ/w/r9+hmgQCdfYnf2uoZw1LxPMEe8kw8a+6g3wD25mJH99bUA2dXn404RpbzI\n",
       "qZXXw7qGIN+wvLOVsod/Isp2jPPJEnHu6/MlgobXPxzQwCd2WbsrKMcD/FNL24l5n1FxizDz+UAf\n",
       "E+7BBp/oN6RQ4QSQhYdAn6XK61Xze0Z3G11xoZd5bReRYr/p/oBSK4j1Ieub+4aVxoRsqoXtsvI6\n",
       "2qLQ/BXaZiheEcSp3Xiu7oWN+6NjtcRKmuz2VHdxXshWqP64CbB3QyjNgtiCHwCrfv+9ZsPsOTh4\n",
       "0w1+42Fyj19VRGh1IKt3Op0QfEG+MmC51MHZbVmtoKAc3GiKi1IxNeHnnLgwGr/efqpNgc4GEvIb\n",
       "oUmgB3/XFQwIEB9RlnVuX5C4M4fX5Qmr2WSI7nil6mD6uoCKb9bQIo2YTVCUcqkbRsXcWUEFGmEe\n",
       "gtmsQ8uc/6XI797PMkA4FiwT9WilEdmzukbKqMIhAAABgEGeTUURLDf/AF9T0GjCxvSe1nPwCOZp\n",
       "ls8pQayjg8sm8mMFAl+sxVHB8LzaSG2VnIMdzjsNIAW0cvXY/iJLQmzyQ/3mtMkDvZXxiJtXeK4w\n",
       "rgf8jCK4maIC7h0Zlu/q1mu2zfZwXXJTuQVdP/1QDL2310ULQSAwowmEbyjmoQiMEa8VzlJOQZfV\n",
       "pHk56ue2NHUYXvVxBawgjkyC1YzLMySTBtc2slnoHajL4JwnxLS52fdakvulbaNWDi1wtEZibzn9\n",
       "e+EzYYGsnSzuIAbMmEdhwOY50L6bgBEwvStO1TBV3CrSIKLp3htum70W6Rwj7/XqJ/4eGkAM5H2f\n",
       "tPxZ6EBFb2vtHL0BgdnEutpPE0/FGyyhok0Pg2KxI6KcARVOg3+ODlyYSug9Q//02Ce+CouzLoJ+\n",
       "WIFVDVyoAe2oWqhuOcXrIfCKiD25HtF22wrrq/tPxwzMOv4o2OdQuvQMwIdaU20Mj4s7GiCSqV6A\n",
       "/W/Id5MThlwPGuIYDw+isukCPwAAAJMBnmx0Qz8Ac/ImaNkVbFOnFCI66WrYXnVha9z9FK/lPxdZ\n",
       "TICKrDo9sqRdn81CT5mw+nroXAlHhxR0KPHMqBZv3W3TJ11qqCtGzr1qHhxZpIjmQwXVC+Ka88Mn\n",
       "iDG9FryD8+t3qg42pr6YD5ao9S+7giZv3cWGmREOa/ZXXE/AOSshC5wnZCx9ZWgHyb4R6KfKbMAA\n",
       "AAClAZ5uakM/AFrgPqQsE4cJqgE5N4xsM8o1YI2H3iSEoSrPGOYeskQnW6shvm5r9FF8gFAVauk6\n",
       "bjuVtgmZybdJ6lUoAAAbOF+anS55q3nfjXhsuNPQewWBntIKcOn4BaNRQJZObfjEN4OLF+eNAfOX\n",
       "GhJzOmJzFHCDPhtmezQWdBPV++tjxL0poQwMALrzVwo3q5ZR7PHpHDNJcjlPhFoPN/ugkUd0AAAD\n",
       "mkGackmoQWyZTAh///6plgCIGBx0c/Y3HWYT3NZDNox0AR8eeoELiaSWXZMYjtMwPgvpD8FNo/MX\n",
       "ppQ/vaGwTLCyu6KlsB7FF6bXRLB1duGqmrYcs8Xt8YbtQj5fdvpd3HP91v0mY8ENCrXgY5KVcgUQ\n",
       "GsEhI0sgAvjkNDz2cjZOvx2q9AQ0R2RrFG6NLFcDSSqI74vzxvSUiGEweHakeW3dVhnke0NhbDTI\n",
       "uHfgwb+9bsmOZO3xvfFQJuGy9gsq/A1PVuKLqXtsn2yqMLo/1NXB3cDjwnOEfpObJI8yW8rg8U8E\n",
       "ZJ5sMRSGPGWhsYS2EdK5sC3bic4Ws28JCVRCKoRKscy2A1XK3qGmEP0PaqU5PGW/fphGB1+g56bw\n",
       "6K8lA16pvHeR99lRtD+/P9fQT9ak+cFGaSDC3Piuxx4TDxthHX8G8+mpS98qvh+5F7tUm+1Fk0pn\n",
       "6oF300Xvyugm26PE+ATuplaC0DJAzpRXAxcKYNfyHRHvIIjoE1WUg45ZBcB+ghugWcxtJpHCkHGN\n",
       "S16JXR9rqFQuqIW8CldOeTWv3+R5rKR59/SCxg+QVFliD104e0p377HzcEk1MBJ+yjMkT1aA/mOe\n",
       "BQNQOwGe2gAuoGufR9yJHlNpSR+OrouCK5PCMi9Snz3HOslbaokuIyZMvFwSH/PVM5rzr/wuOmth\n",
       "guLeGrQYp+FraKn3g1g3wnUAxnGjDzLHEW7/mSDl+iQpWLKC4HHhZdvNC2JDAQoG6JqBp4Sg+geS\n",
       "0J+/yJOborvJ6rs8wDcBjjSkZWiMOsF3FppHA8PlUlj4BfjmTobpIy3He8J/3i4GWqgpPMEcrzfR\n",
       "4F4KIoiZCeQqbTVNLtRBXOAHysYeu6XNRBARyfwhmcTZ8gVajFa95+mDg0DWsLGXlNhQg6He8wMr\n",
       "zCjnkoETJJn8VHWpDpjhFOc5Bmkejeg9YJAv4o5q5Z8yDfSjq35AU9Do8vCFFmMEHf9Sb90Aq0id\n",
       "qVhLilhGn02oktxa2NVM2lTlf8t4YrMxMHW9Q+6Ytz3g637UQdqBxaSJGsR8yvsPyDzeot2xDrCx\n",
       "/FFwT3bpf1ZoJv7bRVOMpQ+EVrGFEUakMGPof1H9EuOngx1jCTtA7SXyM3t1IErdsXxWA60DBrAf\n",
       "XQ4bPU1QqZAj6Ie2tNTts3KAb4V9hshUf5Bh630PY6NIerTW149wlebtVie235KG5DHX0vn/T90y\n",
       "MVACZ5jEFL4T6mEAAADoQZ6QRRUsN/8AYcukygfiqLVfhQJw7Io0o0ed0N/2X4y0vtpd0kxJdinc\n",
       "fd8NPmtTntlo3AA6Dl3HWIVXv/Bnggob7ca/p84SoB4fDuLmhhraDbTCEqTN9NaBCzCB7n3++0L/\n",
       "B+GHziqfbjufAh7jEURKYEXewIOFp0/Rr+YLMrpz7cuBk+SfYqpoqNbGLwbNkVaqeD/bP0wnDDyZ\n",
       "i/nL0VoAuBaJMjLTrmL3W6Rtp2sF6QbB+tNktoEi/ociNTXZ4t8WDT6YAeuR5q0qgZZAgt641C+M\n",
       "dhEJ16x4Zy9hCU7Sts1vJDAfMAAAAcYBnrFqQz8AdrTfL2kKxV9Z4cozry9hUWHyKKUgwcHP3E/R\n",
       "QVCeblFY+JO0tvQXmF5hHUKr2arVfvzpTiAFsulj+s8AnS0qFOoWO3Se5Md5qiifDWE1iwh34GLG\n",
       "ZiSEEhq7tLH7gRZZi2ivJEgcd6kHKxexHGApNI1Wj6pYC0+fRMd6q2wanySLvttCizPQd7gK0pOm\n",
       "BofKkAg5m4DXcI3UU66FqAGewLIIJ+fLHJiruShWw9He0bcN3kkyqxsdyZ4Y/gVdEzfJku7yvHBU\n",
       "uT75e25L4GeG9Dko61s/roZKYREkX6G1oAKHxO98HpReg3qwodo2Kg3uVNqCTMdUfAZw8ATftMxp\n",
       "38tq2Od8OqcNDOa8s5ZFhqe5pVXBcy5igW2rCtK2ZagNPuvK6ZiV00GtqdbappWJzFpsJOCjyw0O\n",
       "1mcDBMxipgpyF1P8BVhZjcjuwBOfSjnIk2PSekWe+ApQ8cYImx8RnRQMZBcAo4OfIE1Csh18SkDN\n",
       "G9nfFPIJ29BpfG/NM3j+xMLscPPNGv2GlkAPiDcmWPK1AK945wP2c7P4doh7AXk4pj50dEaY95pe\n",
       "pww2O6Slc6DKr9PAgMdgTGH9x8NCAAAB2EGas0moQWyZTAh///6plgCIGf2Gpop4OfqfIZbd5NQm\n",
       "jLZ5Cs2RcCq3zEYxsNy0rcotyLXdygTbMTV/WPMCo2wFFfs0AJYuR53/TqFJCU5JC8Hucln7z7M5\n",
       "qcGlh8YalGs6Tz+vs6GQiJKg6dt+JkPh11O+R+DhQZMiYnuBWPBtRGMxo0Rs0YlY07v3u6vh/tpP\n",
       "2OpgOhTIVoUsnjZzStNT0sPCQS13xWYPznO1uCRucYZ2r6hQUsptOGBghwGzrJQpXYTIWXBYRDbf\n",
       "F2PkSFHMLBZZDsXfI4yPAaxDcA9KZo9or7N/AgTkaCDb/t9qYuC2+/kkwsaAErjqN+QmL5t6q2mV\n",
       "XnQ+qQU74RPsQAMyNZRU9zd948wz3ScFSiIudyDy1ENGTRGjGHIkrJkiq8WPt9QdKU8m0QjNlraA\n",
       "/mSb88zkVW2DibR0qAPwUgUuP4OpdQhzyS/x5S/9UL5KZIVa9SHkY5F9V+suU8YHRM+JHg6X+0zG\n",
       "f8z+gGyArmCO8+F0MvMW6/+uEM1px73haxz7uDRxRMXCfP4j9o2sWcYS9L0Lb9NgHOjIyZHicfaS\n",
       "NqjjmhdPyP2m9WMIWcNTCvhl3QmRT4fHUC1lzCKVv7VqIjhpdG09o2sAAALcQZrVSeEKUmUwUVLD\n",
       "//6plgCIGBymqa7Nuve60z7lOOGXn+AodnzVOImKp2We0xt0xrx9jAFxRUqP+UK5Gas4tAuGyh40\n",
       "dimtSOHYUxwzL/k3EpftUrWHmFWNBUJiat/nokpXSfvus0WZMXvyA97S4LDEHcjiSt9zFNCWiomV\n",
       "M0ry3H5c5hUdX7u1vfyNPtl6FVvLsqTqjszrCic19awovU9NVzRsfT1icK6Y5dBq3LWWyaqj3rLa\n",
       "8EwgfYrJbAI3q/K+oGujnqkvlvUp3ambVOuLErAK0BtcnZ1/fEiZYolJsDAosAZndOucJ7cLXh7M\n",
       "P7I0HBD//reJFBVpjuQtHYxxK4e5YwGkjrhJ+FRqjzAlsneAvBLNeNuabt+6g/suDfQbJm6GSsjM\n",
       "fxT1BAhWeFPFAMZjvD+JU0rkcXGHfuIEr1Xmoeq9LK6UYuHtoPZCMO/0yDhnVATJ3hwVqcpTL6TI\n",
       "2RBiJDQG/AWjutWNNNSBjUHIB0qy2ZgiN+o5fAi7R6DPienbVsEt/eEaCOevol+p8ARpAaSU8+8x\n",
       "x/x5rzNISo9sWeVKsI8rYWMqURF/mGncRqyP5QNVbSmK6yvS099Vj6pXzvPYRTwBoCsiZj0sT/2r\n",
       "mH48mhpd8ZhLCyg7OrGrUmHY1XbOJZDOEVH56lOEBtqaqvWDNF+oOSmL8RDim2bTa39zjDqgF0Fq\n",
       "U8EKCXw36wdiGHcS//oF3RRdqP8/JpX4pS+l72kE6dkg7OlCNvBoKCmlLM9t2I8/7tlkEUN2BQP8\n",
       "8nnnyyCX/54bC0434dpblR2DpdizbaMCl5+324670w2LxqBrvZunCDeiwUswh7NQ89LwHI/HIz1E\n",
       "blfBPgOTsIARxaFBUw1uzlxwq09mCf45xb173FU8gatqBzcX4mdCgcEwXPnPmr8ppjmle//eRNc7\n",
       "pt2yHyhTk7EIENaxiwIgDYWMK8HNhi6gyS88aRyLRd/nBOpdAAABrwGe9GpDPwB2s6ndQoy77fXJ\n",
       "v5JYvtFivzOzHHQMCQ4Y3E7cOftcOS0XyHOUkUs7ri9tqCoGrGjj4jKCVIwAAFyrx4B34qJbNI+N\n",
       "oOl9H/T4HZcd4EMZUzYf/Q2lGFVV65p2Rj6CL/9Ljc9sq4gujhsFJIm3y5kxBqV532TKzODc176g\n",
       "9JDNbNipDRJyu8InexZ6dqOLF/k7h4qTy72s68RzogEBpSc4qOR5bZUtz7Y0G2x4dATlbrD1vLYM\n",
       "wPEnW13d46pKfzLFR9m77l7mDqbg3hp76lJXswX7OaE594fGQiiqYmMFindvQBPsdTSez5uQUI0R\n",
       "xXKT/QZxQG9XVh4qEa6P1JAy+wRk5oxQsEfjlet3MQVhMibeNktVjdwk2AYcS6mSaidkX9Bb7SZ3\n",
       "smfX5wr381pnRXoq0qg0I4VGGNrQXRqEZTXI8l5ELsaUdJDZF+hJlEYlSreDJfockaF1uGSFSBza\n",
       "PI5toyUHB6JxL0df6eazSeMZJHUlbkXjWzYvuIWuGZWxVBoinChDzcWTr8R7n8WaQlQfeHU6tvTA\n",
       "cpeyN7DRN3zSdmS6RYvBAAACEEGa9knhDomUwIf//qmWAIgZ/YamipLud56U05CKOwFB/ukhZl4O\n",
       "nhSfNCO82IEIVh6cwUaO7KKOBWl3mFPvLKWNdntyqrkPr52uqpAAXVczUgGdyktyyiutRim9CULp\n",
       "ygrpUloCNN4y0rQw9VdXH0fdEgMsxCy1mVJQlzSAR5jvwW/GrTPylCTb8p09jPQqgCxhi0BvALHz\n",
       "nFQk6pTcG4D95in7d+huq55hSkblV6ys3IB7FdkVmRImVNSBENN6ZeN/Xzin23sEBuABFJMyXrTB\n",
       "B4+wfzCJUm5aWQzN0AqWmNRq4x7GhC2kUFRU3WmcoFUO1Dvo08uM92F2srJ/8V5NoX0Hmij8gvcX\n",
       "rdnkwFHUW+h3SJ/gR1VbhfOqblUtiA0PCUWCDUTtz7zmo1yi4Q6xylFB/rRD8Eufy7tjMp3s18hL\n",
       "MJLrVZ9bErEguBZBwGeWKHysOU5nQGdYLz37mBHIPuOzFAae878BrZkKgp4C6+HBoVyVlxRbyis1\n",
       "/l1Otp6tpZb+ckaaJ7XJym6jfISPPm6/UoKs9jq79Cg867K/par82B1yw/Udch+djtba0hiuWFd8\n",
       "fqDr0If9KPrSNCYQUhzyxI1y8ue1NRCgPBASuz+DWMlvXU6jzYzz8qNe5TsIPIzVPPyGuXGGI4Lr\n",
       "tFns0tMsRsnwzfBKurn4eNFzCBGRTCJQ6PcoLuAAuFb35gAAAhJBmxdJ4Q8mUwIf//6plgCIGf2G\n",
       "ptlF1yyNutwTJoHAF8NlJ0nwQy54yMXRP6ZgH8UohzxFGyDuvuELKymVxbLcg25bJ9GuvpocXfmV\n",
       "QAtg0BBX7oXBDvT80PnXmT9uOQ4db+U6fCMvg5LLQYnAnldqWT7YCOSwYZcfEog+HPTeQIF0jYHt\n",
       "/xh917FggcR0ktI70EIpuIhutZRJSnpGAhQtiIORkrZpHyHp67i0wMn4phuxfAToHQMTDVqc4XwE\n",
       "a6bQwkjqxn6F0HS45ToUO7d9GIbi0SH+73w1aeo7b6RWsIP/eN1yig/QWhD1U8EScVbyv8KvxcFU\n",
       "pYJghUY1TBTHpPm+JlZiYMbRrqNZqlNaXSu+dr34dx0WPqQOut+INjM3nDtz8ODAocJ7P/GGfUpU\n",
       "0iwzXXylBToPSoKtK2OmFF9iwFX8Qj8HOmylchYtEYafgOwYKMt/aRnM2G8rZ9KqWbCX/BYoZRVN\n",
       "iggiup2deVV5INGe1jFc0q0l3FJbFcYeWh2VMrj/kHMXvWNE33zDff71eAMM9kfs7/nePyQSsPcT\n",
       "w4rH2gn13Zv9HFP+FFWyp6kVeuTcD7dkt5H1EsPJ4jTCmEO74KVZwPLkoCw3oJDQnXjPpvEkL8kX\n",
       "cx5PWLWjkX8ZeyDKvnVaPw6X51/Bb/NJDGTwUsVJOcuxzW4Fly4epKTbpsr2TA9Yg8HwHTsOgAAA\n",
       "A8pBmzpJ4Q8mUwId//6plgCIE2Sj6ZZtTqgpVgWgBx7XVA2dMctPjHN0O8p0q96GYqGfg4kC6NBn\n",
       "XLh1EfAeydn+nH7BMyIFmTG+pWHuIXBaGm1ZnvZUFAALN5g3FEtoT+9oZSs5VJrZ84Xf1EQ3w0Sh\n",
       "AaIJmZ2HDlSLf+VK5QlfsR5ebsGNNIzJjggZZMP7RI6jiWScaYgYvOaAiOMch98R7UncC0Fyxprr\n",
       "uwjBBMo01uy6PsKFqvlw6UHtVSWLFWQ+DrPPLbEHmWhrQPNbpBj4TDg2U/OCVQcNzkiDsE35gToa\n",
       "MU1B54J9COHHE3vrOyg1Db5dfvxjE2l8Nof9eo8AgdMXKc18q/Wb1OXRKD7qh6VtrCZFHIYBxbcv\n",
       "NS//YgQ5h2HTHUGbh5cZjsJjftsUVZx0Wi9VEnZzaxKgm4ueWN7+5qOgvxImumO3qOX+XGdfR9uk\n",
       "d/oQCoErDBIoAI2qW939M0g5T7Z+NlVH/exeUb6JffkMUIIMUnHohXdIheKExtBXwwWWu1ynfzsF\n",
       "5sz3jgSaQgsJyiSwxLdc0LGeOIwlqOfVPYZdKJ8RioYRp8OTLdYrO/Q5pSOTDWzVLMr+ats/SfCr\n",
       "HN6rkEKCQi6CwT5ViwEIVY/rLWxgOowc6+5+UG1CW3L373E3q8m/ElzMquyIQTcp8cM/IqrTbubM\n",
       "+UCHV9Flx1YAp8zllzicJg7Qx9V+/XAOAzsW95NzfjalWHM08Ze/9pyb6Y+PlPLSK4h5CC+eB5Yw\n",
       "E5682OSui5uNFGRTmOsk0tcJpTt2zobttWG27Fe+j16mVW4pKAQ4pSkHseNoRLBGF6G8BmW9EWiN\n",
       "GcS9cG6uIQHCS95MLhG8f/PvWE3/vmNwZndLFRJ1G9DaA2+8Q13Q0d/HEeGtxWG08r5FaeS/ytqS\n",
       "CwdiHx6POM6bz7dDMumdRH82Ig4rebQQVClK566wUelixYCN2kkcMAWPjbQC+oob49rFtcBlbt/z\n",
       "aLUb20ptNksjgP4Wyjg8jLdX485MwjTxlGgjNoFei3cX3VJ6T8egvvQVg8R46ItXjpBcPtp+V5yc\n",
       "q8BuHfnpyc6aCeiIMrju4uqGyBeaavCKdZ/UthcFlA9LwPqGunQR9fqpWH/Fz8/A7/M5+2s12umP\n",
       "riRQniUKKHysYCygqeNU08FoTrLHM8x0EqP5TsdK9odUA8JmetPSgV3UZHlaIbZa0jmPpGz9hBra\n",
       "U/kMbD2DtXLsfLUt+Dv5JwmYCp72Oh2KaCi9+1b9KH886yHQgNl87T9OW9+dsnWAb0mCLvVb74ST\n",
       "/jQhAAABnUGfWEURPDf/AGG74J+QM/52MmAYve9UuQyoxK3k8zbFq4nfyRWyTZiDa8bihzyphJHO\n",
       "luvRhA7DdsdEPwqyiZAYaiyBbTqPYrEEmXtRS9bJcRFwCRROt2o+LqPB8h4H5dDMh2HCXkB0TgOg\n",
       "MvYhYQcS/DEMghniksZPUpM6yKrs2EnvIkjaHYbGfenAeel4nydmQAe+84I0q2izt3HgVkJQo/ho\n",
       "fwKuoMK/skIjbj3wkBCPVlvzXWQUlJXhDqksZ6A56FSZSu1cP4yWTD9yt+KEJXQeZhuRL1jiiTjd\n",
       "eAe98Vqcjy9xITC0Nj1ItXjC3v38Q42gfeQERl/WlL93JW2OJIUSDOw9eWaIJE9pLqJcprydT9pm\n",
       "jMMpg5nWh4l8huRQXA5oOfvjL3GNUnCXuZGmWmuePM62oQw3Vl+FVzV0KS/EFGviIf3NJucyTKBY\n",
       "StwAmDVCDxOr1sWcfJZN+ANehcP0pangLUhAi82s5VhWooeRIE6G1cmUQS7/itnwXFYwzWtU559T\n",
       "DHUEsphBy3kt3mFj6UcwaLMntxu6AAABswGfeWpDPwB2tOClK10VArKR7EoQuInp2VTyqCWydHNk\n",
       "Do8++i4FHW/QjomTT8Yriu5dsozH6ZxoQX2UJxm8mfsO2fABbLLwiXWez+YFOziqcz83g9c7v06k\n",
       "Ajeg6JByRcUutZ+ahbkpVA330bs9glRu7G+2sfytkEZ/ODQRF2tuW81fEumAKCjnXm5f6fWcALEi\n",
       "de7Tw0/u8okGyBqt/AYdXpkVYFPbAAmMcl6f1bYxwMbECE2lLg2lxmiG/dHEYeH+8zOQPtrKGQ1E\n",
       "IYC7yQb82xz86h4ky3hn3v6PTHkCbvK7yw3UZd2Y2k+S04tcNxhjKF5R0TdmtZprzfuvf4SZGmWf\n",
       "XWDb8QT1ZJ/uTDMKoLpzkIAqs76iGp7k/7WA+Xnt6iCPw6uE611fHsmp7jExOdJ2he815ekiW4QF\n",
       "DjxZ/ASmbAH1DkOSB8R6j4EF6+Po+QciHUrSf/WbuJKwKK7wXhdzDleP5O5sg3ztduXViQeQITYj\n",
       "NjHA4SI1ptNJsEhW+RkLP8KuqFWA7kBHgzlN93qvls5ADcVqminNUpJly1iK/7Q270dRBNgLUJXS\n",
       "LnEZUAAAA6hBm3tJqEFomUwIf//+qZYAiBiNKbVed91bY5+gnJQANrDO9LG5Bqe9mK8/kk/zmoSH\n",
       "y0qrlbIEOiIVw6C+VrwGJ+Zl4+5ex4GiuzrZaD0mTaV23gqmzRLpBppVci/8K13fdi46LD0fj+Do\n",
       "Wl2Yyb+LoUojNxxHTuG0BJT284J62Yy/hDy7XpCY0+cXV0H6rFsuIlFzkF/ZzS/L4jJ6oM/zPZK0\n",
       "/PPLpMWCHuBPuT/2/AMRMgYVP/bDZLLR9I/EzSRiMPm+0fEZur9T9FXgJdZb+1fN5ZuPu3oT2zoX\n",
       "FphbpFQa42Rvn6Vy0PXHjmS4aRSoLp99aEEIRYMe0oXnORRjzpv5w5Xoj3X2ijdy2CT8zriqZikz\n",
       "9iF+Jt8HLFmyi6XOw3R+r2yEY3ziva/5V3zm/+2bSEhi2oyy+6ReXuMJd8cvKLD+3qQKkKltPYlQ\n",
       "94lnt+XxORTnXMTrt1eT33E/ZQpAO9YJM5kJR0TiTbeosHXHBVNmtENHqJEd0VyiLafAKa2YDYiU\n",
       "Rj7kZr6wmM5RkcKZnEREUEqzHuN3KjA8dYIaV2hpNTV2RFsiNK7yO73uZqmdVED7fgOvjoiZXD+Y\n",
       "CcA7eHzj9rXBpfrN0e7SfmnnjGRV7jCXPa9g4punHgkqgRYXFAgOUpXnHeykoGF3SeP9JURTk7Jg\n",
       "x5FGqEg6pnv8XIl51pfwgQQ+tCwVsCG3YGoxs0jSfPSL+z2Hh5oRyNk0xc4Yf6op8qmb+YA46vHV\n",
       "sIxhTSrfxcQbB/xb8Dcfr9knO4/UCeYxIyJKiLC0xWxMFrSmAIuzPwSR//YpDF8pcmFnDPdvbsCI\n",
       "V8jQZ6qMxsdVgN8d0nehScwwHJUDtvouHpvT6xyeUI2wtYDqfm4Xhh3Ct0XW/jFXTH+yDiNP+dQ5\n",
       "ehDN3ouXp0awRXltt3eITulvSH+I4avN+5e3sqyCJCFsuhP5aRAmn/G3eBuoXxlxfup7ZoM1vQBj\n",
       "0PU3YST3WGeR6N710nFci36NkKXKXxtDUqYwK5EJsNneigtJfSvw9Bo6EmohAOSiDd852r2nh9Ku\n",
       "GBk0+QYdpriFw4TOIDG35lR860GzN6wn1MzxC77vMSut6kTZfqAAAbI2CDEsPo4T/WB68I87hcrA\n",
       "8qjirSZyGPPeZCDk9qG6zfSEb6Pvdyj1rpJ+hw9Bb3O3sq1G9brW8FqN3JZgd19ayuQFLGjDs95+\n",
       "wZenBadL8q94D6XKzRqxhXTEIBc82ZoCAurmyEWGx2kAAANPQZucSeEKUmUwIf/+qZYAjBhrdQsq\n",
       "6D2iSYwlB1uCztbtnLHp7ur8hIDcADjZSAhpSJQrr5W4e5cB0cY4vjLRWROnzHRv4B/GLqG1g4yr\n",
       "HG2H+ZzJtcAr/Jl6/TP7SE/4eC9THvX/Qedk8v+7NHGkkFTg+WuzcGPiCfUKmqo6HwxdhkqSg7uY\n",
       "YSKlIm14N8A7t81+huocm2zOSKg8WKf9Sf2m4Q1wmCPJFvZNeF++I/vb9xMSiz68Cau6wkimjLUv\n",
       "yxWmw2mFh/K9Hj2SiwL0pRbgEFJGeE9VlBoCNxxPr96BGxaHp3uWqAPDuZ0KnstyxxHSkjUOpwsQ\n",
       "S/uBhdUYDVpmWYzOaa75w1AngLR5+7IzhiBtrNDFgLst4VdXdJFqAKT/45mPSglopsV+zYH/lXb0\n",
       "ZNSNkRCqjR0MS94APHjCczPzdHX+Odu1DPEDVmucfQIRWjvwtvoOUKpxz1a0Fr7kEq4SE5k/EMaE\n",
       "9MH8E0/MBhCQIvBwHunW27zN3UuLsiww/zReuG8d+SatiLAemyxzhq2hW3uOgWo3Ls8+Igt4rhdc\n",
       "p7zMTjweG/c7r5dL7Yk/x9/rB8N+HHhh2rFt5ihSeGtOLQWAarElt9Fm/gUjkkkIYpnBf9LBF7Z1\n",
       "lBm1MTnCydFh/3PgAEUfSRHmvZuJ9NezBaM9pjg+gN5HiwZT9xU5TkYOAd8ZEfxdXDrEYYBGW5XW\n",
       "fVPbE4Qr/igkIFJEdbhcuZlnUkSp7rKe7VMDqAj54la29tRQVwS1GEtckbyULcyLQWxRkxDKGeP7\n",
       "tVqzjpLkAOmdQ599m+qlrW3DWEGli05XztRKJzHU2YDBtmm6RDTRnk0SWxu7SWYwx+1eheLXE9Gg\n",
       "RYav+WAAmEmMWrGA3rAcyge+6aPfHCE+0ndZSLxHw/KAcSQBZNVwGP/AiZ8EEkOmnl9fb9TLFr0u\n",
       "WXOek/dl4NfIZgiSPcAFhX3j12iv37XdGql4zHgcL2BikWQ/hBwWJDl8dk4LfQeNGy52SpvGBNjs\n",
       "jBG8tBzDfF3GhOlatEwwxr7EIV8KZO1UeUfX4YjQPb1Tc7S2TsNg9lbuwhV4seGTwvbCbk4yKmo4\n",
       "2uvatTBZznNMkl4r+5HikJ6R0PKKXQcDY28vQAAAAp5Bm71J4Q6JlMCH//6plgCMGGum1XeBc+oF\n",
       "7nDQGa9elIAAboa48JY1KrD9frMjUY2wz9NWQmC5/G5yOs26In7fipcAFCWz0JVkI8WeJWn8wsB/\n",
       "xBOuvvFrczIGTZy4XAU/4dP5wk9SG82na2S/W7v9gS+4kC/HIEjJePaviX8FNmMWl1vZzB9uWd+G\n",
       "CcKjthH5a/9Kkof7ADxnKGPBKQrLc3YHbHXYcpCHsEZWab9AeYUSsn2mQvHk4kvAzqT0b/jUqnX1\n",
       "50RSJ68wWvJPn5qAzsXm9dLXbGzDNpr3QC1M2v/LyW4KqB4nFVij/fqjPXcn+6CbJ1zyPJTYACBi\n",
       "PPIwbJ5b0EtwPTwrs/prc1ffqAM8MR9PrBsQhAq+y7H0iUO7eSPmUvLdOZWHEVlxyy7OLiHURrkz\n",
       "2lKWC/aL368E/4vLtRGpQfTSpkGlR9trmqNKTO+qzgvbFvM5HpliDx3XCg5uvTZk6NuBqQuK9Nrf\n",
       "PquwjoE3hCH7Z+ktibOkA/3KqK+NOu6kdA/itFwg8MWdjnJldKEWhrxcJZypNrqMLI9KvEuBzGHN\n",
       "EeZikSHAn+PwD0t4RG9JlVyBbaULLWSE7F4SRXTzt06m1J9Z9OZci651eOz+AGDmHLj4orZr+76u\n",
       "gxQUtmbR4IY1tfdRGrlwVe/4K1tmYBWv/OadNpx8n8woARspDSc7ObwEXUr004WQiUNH7uzj11hb\n",
       "03ZMjY+bAhJdPm4KaUpZIORtP7H6M4wq77q2l9u/tBIAsBxtxk3dLPODvka1xI6y6GL6WmW1jwv0\n",
       "07dMDF1h4/bOWTxYlHGwIhgPwSFq/yqGPpKpVJqReJI+JQIlv5qka4r3jjS+hJiFylqBKyGsMYeQ\n",
       "yUsVjIQ5dWEX5qxs1SUQGfmBAAACgkGb3knhDyZTAh///qmWAIwYHKcG4kUIOqEg4QfBuoPz8hG6\n",
       "IAbrF/SAW6ZA9GqgaItBHpyawGnwFXKv3iHX1ujWyfgAldEuDP2lameqnYX4pzP6S8f72DFdNLYS\n",
       "zWLcLfmr+mW/EtPrig8NA/e0/8BujtoT0edEYBR54gPiVJPlBnmNerkAaXbZbbZ8NqFjhWiCJepQ\n",
       "Ly6Np28hrV6dv6H7SfPptdgzFSJRbGcRYxffGqpOnJcerGbASQIO45MiaGrAyydzTB4HhV2Mhjk/\n",
       "/2ynNaQxC2znVu95dkHRb1baqSV4miJLqrxtEf/sayO054NiA4ln/ydCuMphepdE9wL2xeIaPaDG\n",
       "I1anen7h1C8ERWh+GlmqmHJhcLaTSv5se3u4oSwh05INVCbU/9E0QOJd7KOpFv7T2Yz+1VMc77ZM\n",
       "XXC9b/vP6C3gse769gYZqjuac3Mgw9l8lAzEkQdVgbS381ns+slUWKHzW7T9tQ9HhsM4H0lMHfKh\n",
       "ohjubIVOK1lihBeSxAwICCSVrT3/jUp9lwumwRiGWaEJNN8UyQuhgvf6vnxvhwQ78RSnGjYtpIR/\n",
       "TbbopcnvNLkSeoeVwLAD/gLYnIiQTerrYOx7o5SdK397enrICHgnf2sgIdwvlYUnT87N8GGyTBeI\n",
       "Z2tVz+c/kEasdNBB0uzNYakFW1xEODZKYqEMqmc6fUmUAC/5fqqBoZtS1WfrUcin0lpH8feFfyRp\n",
       "tpeTxM5I7IkSNZdM7OGJiYDBQrkWQM9Vb6PYIcCZk0qyLn9Z9YNFwVhza8DsdpGSz840OryfXQRg\n",
       "HPGxkJo90DM+Py6RhsS77GDq6kMSE22ODtNSUDGZWRZ5ZIvhGwAABFtBm+BJ4Q8mUwURPD///qmW\n",
       "AJAYtJ0zO2g+8xiSHpG2+X0Q6gA43q8z4Ox2SxCOjHoI9f+ycQ9jfk9ljnAwBYD/yZOSjz6YdQMk\n",
       "B/RfFIkjbBWeH/GbS8VTZvyUnpH3H+MlqoKsYp5igD/jny9Q9emAVEhoBUH3tpW0wO535ZKMlxQX\n",
       "3RXjV6WLN/jwddlgADDaDvbzk1HX1GD63CjDf0xEsVaAjXRL4wEVWZXLcPUTBgsSyfGymYp/ov2q\n",
       "OARlhlds9l1ptB8Qp9L/2TmJpJTOaDZSVRCoruADuY+FNwthFwqJ9tAAbVIdijJMTw9707bwQOqL\n",
       "Iqhr2mYDkNGBfAbgcfCTBYbLrVBF2MIkJCZVDkOisJlfPy8vCnc9wgdHglErdLLOf7ZdrpJVEFc5\n",
       "LdhghZB/A5KP4wU9c3epHwYdM8fydLiUK0JBQYA0OKzGk/yjEAppmfdA74GNHRA50A6u+ywgUKEh\n",
       "bJaEdxQp83RefTcC3JP3PCE0VqQQcZK4C1JfSGAeYjBBhskbv5hUIkzbYBSn9Yht1dHWe6s4eCgZ\n",
       "7kcgWzUdApjtUARtIbbqJ9HIbDDYE8/9VwAvRtXkfq25l88cKA8lmqoX2mbwLKDInwnJDh3fEIkG\n",
       "7F/ZNv4Qvw7a2fHkT3lDCI5Mi/p6bzMqVr/376l5bew4nUqfW5vPXOPb9w2PK/kERQoVTb7EyhLo\n",
       "Uje0pfpHgu+KBH7ajltxVx9dg0diKcHF5+gn/4tKh6NE3Lhg6rBUMBcNJVa3mWrWi4VD3xcYlyfz\n",
       "I262xJYm+dnXgCHqU9Sa/ci3/Vpqkkzh8uWDCrzgNFjXymsBneHxq0Puym1FUYAOnZLge9WguH+Q\n",
       "kYgxzObG231r6I4JpvMbbUiAIoFAlDTIKqHMpIb2DZIC4oWMKGlTj3m6iKqzY2x5ypVR9VnWX43u\n",
       "16RdnSou14kDyplhVh9JzsXup+UPYpAPzroriZyit1i8GiqE5YGGbj0biwIAaPDyGT9lSDoKE7kO\n",
       "oh74kHzinP78cL9QlPd/3etcIz2gKhBJ18kbp2DP+rRulg+wBwd73M32FgeJUgcVFxMIKBCZyMnS\n",
       "xJ9Eb7nbmu8XTFQ9y2254bZV+8vRFJixiDtwf5r5Gian4z7fE2QFsczAgjpMEn4cUZoCU2/kN6Lz\n",
       "HxDJMKTTZGePaPmxo2XfQ+DmWViEbVi4VGDQ2t1W5gLkIVl34u4PuBihZQstccw4AAdPhSp/PwAT\n",
       "rRFdE6I3AOdt3niBhS7gJakhdNFIwW33zUfFn8QLh+xcIG9YKjCpEyiVR/34SkFLMhgNfxahiABj\n",
       "wUsC6ibaeZ20O6aixw/+H82L9qKpDxW8jw9YubblPUC+9tbo4PNj5MHu1SR0+NyvZxPbQKzBDs0G\n",
       "hvxJL71T8P1aisYaZAHA+x59b8wj4O8wlX+Cwq0UJhQ6sD3qV/WrzrUdJ8OTJMVJlZ7/0hBxzvxO\n",
       "RfOp6cPQJfUGufojY+EHOAAAAocBnh9qQz8AfErwJI19cFvRPw2B8zd8EAL68D9m7w/2bvYKXY7/\n",
       "lmD62F0Pw2/MbtlkWV1pFt9oub2/HSif17a5tNUKoxju1KxOUIiK/qJSXWznUkPRcZhrRMZ+Nvc0\n",
       "Bqg63nv0nWFagLx5uLPxPkdzST95kOI+qILx7imLzDaPbluEiPZd6abtQyYpWqyGVh7OFEQwOxAl\n",
       "tPEziPMwcVW0vMNOv9LYzZhTbjRvdtubJJaKSVcW5mdL0/g+3BmHxk6kJp9BdsY2eIYd3gGlgSq7\n",
       "Gk/JlNzMidC1KKCdASp4GWfvxr4FiRsB6vo74eAZCluQfp6x2QoSHwY0/YZv1lrAhwDtjl959HLY\n",
       "HosSXfZuT3BkRSCDrciOiQVkMww4cHYXhvhrdvXvfOLfbpFabCLWYduPPjvPgIyypihcnjLevC6x\n",
       "z3S4z0aLlUwC4jjUaZWCVBY++Te5uj+SOFuFJAYa7Tbe6BuIErpDBTxGOVrjYjtBE5yeoAPvOiM3\n",
       "WDpG0B+R4o8rUniKkw696XPfWp+CfT0lWY4XRDI6xeDO0uTa+H6kkLvkg7a/OemPGdt6U9lRokIU\n",
       "phwaoOTNNPULQisn9pfWGSSNG6Q85jgYsxkfsl2+PjiA5r8YqWS7JGGwMF9O29Evk7lTridOZPnn\n",
       "DD8YfGrfOyYbg0Qyx89/Nl98Xfcc3Ng6bhx20mY72Q2jHsIvmGkPbLsz3tEz6U3sDQwsQyTUXF9k\n",
       "lAAKoaXlHi7k7b31cLRnRro0CH4bGKyw4VJj7Dc4yL+4F1icStOY5SMaQ1fDHgM9HVN6ThqDB0Z+\n",
       "/mkVSqmq4gWA5b2v0O1yeHwu0qbK6Z1xMPQ4oD+G8Olz/zxgty6gYQAAA+xBmgFJ4Q8mUwIIf/6q\n",
       "VQAlBrQaS8Ph5PyArqK/ABJ6H27baPiH0Rd44Os/PtNX+XVJoH3hUmsSLN096MeoE0d645Uzw1hM\n",
       "LX3CUniY+Ms7iLWIeui//2L+0LwgF0be50o/Q5WItjI+TA4kq6GPKoZ4stf5IwMO9K7JiyQNA1jG\n",
       "vfuk418WZiFRsaVbq5I1iv9YV4FYG3IaeZXDT0Yol2pdW97pXuGWoArWiWx1x8F3LXuEkG1zxTif\n",
       "mUjMSNdY6P6VaOirp8bA7UO9sqaAdQvbiPR6EJbey4ZhtVI0PmKp00maWox/+k6uSZAVsJQSV28B\n",
       "LWbB1WHZ4gIYJnXlBqsjVQ7R1CA8ciRBoaRR2ejDz0BqdaerH6bdxNoD0vubD9yZrmrSfQI0MCcK\n",
       "K9lhirbXlLCZPttD+97sgGTbCq9orBDlVL02jFRFQwhrIf6+hT3h+bhNX9hV0dN2r6iTd/qMclpd\n",
       "iLvH6RfR20qrM9WC0IqznnvmP3Ajlla/ZLX8jjMfc0J6DdgKmbgb3xyiy57CXo3e/z5kwyXDrfyS\n",
       "luCB6oGhekfmTCXbCti7HiFf6PU+pr0tADBB5El0oalsKPzm3om7ZOpDP550KBTmxIA6tWA6kNjG\n",
       "q2zG92OU5Xz0zLwci5EXJfRFG7En8Qj1lpMljqsrSuxuIJRnW2e5ON7LPHpEC2/sY9wkaunvTyNB\n",
       "bHsYEFfu1D2jIWd4NQckzurnUz3qLOFLM+2Mthrr3QxXY0ulwLT9g238QIm1IxBidDHnEt7AGAI/\n",
       "RwwSJw7iW1lxn4jPbZ/I5INMFTtMxhEgobmep4Kutjf1Bb3YL6MHHeDszmXUWYknK3Bc6DhIKWlS\n",
       "HFOkBcdpCpJ4DlpxlxhBhFionFgN0GTz47/t3Wc/dl5z5I/U3fsVmpxQJJT0ETNZ/dos+CuzIv1t\n",
       "Yt4DrpqoDNuSj+vtx6dasTjBSEBEpKJzoDWs3w8H706zCrx2R28UMIR2Dm2At/v0wt8ixXkb7QCs\n",
       "YhkRD8PV/N7pdOAuYdhZ7U171W1rtsPSnsue43exgCB0I3a/R2yIf3gIPoOQbOX4fJ22YA4Mb1FU\n",
       "/Ln1VrzvtaSHOgMc1DtFcH8nZ1lnsOL79A6nNgx/SY9azjA9pW5HeUd93OAnyfrR74B5hksd/FD4\n",
       "Y28UUh9+/8Dlb0X+eCEEWoBzj9ZqU+ffEwIOawmWJKhwbfn1vNREqj4H1yFo8IW6mel4WbB5dH8t\n",
       "hZrH6xieHWFJtXYKtmUwtMtU4ijva4ofedaXIyrlxquLW/tNDZwuTQU6QEHXzp5ylTWu7wTdWL3i\n",
       "Y0tagR5BNyvA8r0NJMOaOuJu312swAAABJlBmiNJ4Q8mUwURPBD//qpVACUGznaVXgoF6E9VQ+nD\n",
       "qCLEAAF0nqYpmbW1z78AEQy0j6YXiM6V0ITxqEc5OTLHMsFvVPxYCnOLRAhfu3rpviZg+SD2CJb8\n",
       "e2/UODm+AnNAvbAYdtowqBcEE26L4jlO7AU21Og94Jiu9vrxKQt9E8pF9zzhmD7w7YMBQluvN+5Y\n",
       "3AxdALIXYsnukUAADxXMDii5nQLPje7Y8CDnqsbbjVWNzTYRnzcROV5GNRJHKAgYPGQECBeKm3fz\n",
       "EHGdW6zGQ+TIXiNY+/lDgjSMBBye1J+tW8gcjQENP6xLrpTQytaesLpkxvZ6JFMCEgCES0BsrxmR\n",
       "RQTFhSYPHBbDi5PCW+zeVpJ6qQxkmtKsI0chUg2DNiTB2Y71RbjGRh5xNhsruwFDSQ7UGeObdfE9\n",
       "viY2THOTHgvC+iDYeUbZhdFOJqWbeL7m8gcdxQu2tv7OjNZwv2LmM57pID9rY8XYr8u4FEuQGhBp\n",
       "LjQB+Dp0wMhbXYndOxo7Z+LrQ8CEujwDuasuic/O7aXMIOURtfasDvc4l28s2bnBblj60Jt/Pgdj\n",
       "tQQWdL9hzdbTvfCZ3GdTHYmhPpQrZZ5zUlGcpV/PkMDQqArS/xqNz9Jt4YYLGhcNlRchVLvpB8wf\n",
       "2CuHYLiMUMl02C9QfQ2VvjCPTt8CbyvRXJs/rxtwZxUSxTeO94h3VqPS3ITp/zXoNemxrIrV+LkZ\n",
       "853vXndumRGaZZAI3Fp4mBlpl8Pq7Y4Er+3jsf4lDNyn/+a0bwCtoEzdgxaRE5DnD7IYdTOqYHh3\n",
       "ZvKDYnCzVppd4uLCIwteUVg+YRqxO16MAIbEgIOg49y3vV1PwINEzZi1/97X11PnOrgCdMmI8wIB\n",
       "d/9mvFuUip4P1wG9kM1TteNylPtPkGgAypBE8MiUwK/tD7S7ZR31lLeznUbROC5XZHEXD3IlqOI9\n",
       "dPQhYqI9dG/y+QKhWZ1h8IhPwKHi34Qa9kESHHH8KgV+MxpP6RFxfC4UJvbQwOmZCcUT44k+nngc\n",
       "vZkEGHPXfOcPjy0Z+P/N14s2FO3PUUf+StZp0aW7jsFmG0+kBsngHONNKQslaUs8+qV/LcfZHeAu\n",
       "AFJqvZwQTCgTZCyMIHcUc+YbL1OdDxvQfKBHzcLg6yr7U9anwIx138P7LFVev5nGdSsYzOBKk5jW\n",
       "ms3CKdj1/PbxzGEqO32y9fepnrb5u2m71MMcB2T020P1mibKud7g58PHjlpLEfs8bvfMLjZ3PbFi\n",
       "iMtZTZTp5fgRc9YziHsIIGu1bGOVJ12anDadgvVuu32UebJohpcGflaALp0tXElO0hMozeGxzbIA\n",
       "yP5vnJRO7MHQbkgWTezyM4yPTGNAVpQJRuV7MAEfg7dnBAFT7ftm4mAdblSUEJorKdgKdCVf/1P5\n",
       "kv8MVSj4llwEAWA/e+xrGEO4c5yTWjIaJ+QvFAjZWOYMVsJ6sBqJy9noiSbSsKRd9WHFVMn/eeRN\n",
       "eD1qZycTJRZqgdEhAr51hlkkDiMmFcf3eoPWqLqRlUc6RV72xNvu7C3zdG04IhQnXjWcndknJEMY\n",
       "eq9dgZcJAAACkAGeQmpDPwB8MlHt+I/r9hvGddmwmJwV59G43xRjXgADbpIAx+uIhgbegiyL0gJ5\n",
       "KkecPsHrhtQUiDnXHc0sCR5GnFHWGsO4/oUw6+/QpQwSXDL/WZRwTGPQQBYgBqOSwUCmJDbY/qtn\n",
       "3mOZoV0tPnrs09fYWyVXznYiVG35Sc1bNeNIKB2zRw+FR2IvcOJMqS5kaMg4h18dddjhN+nGn0A4\n",
       "cueg7DqSqt1RHONTBozxOxAG9QxaNcHWXPfy0gKhcB2aaeppLO1C1o0mOa5+/NeLakJqkby3t1De\n",
       "RiexNvOdf1hFrSr6J8ied2n0mRPRsEbXzmdAEc57g6BRu2W1Xy6f0rLV8l2HHAG2G79mjpAt/tq1\n",
       "7UZ5ydj5PMBd9tvM8kmsLSjok06qWOqxztCX8++G5dMZlSKPSqyzOLIQjUUpTlK+sNGP0dUxZDkl\n",
       "QzAIpRPOFp1Yj8glgpuG0eMFNBl3B7ymHNxJQIyUMiYYYfXVAabUonUOBwoLhwWb7H7Ibp6poW2z\n",
       "rkpABXS/a0tvgJtOY6LFI+jdrHV3xha26cSL0tHH+qkdyUsE9ne9Vn3pKjbbT3nU/E0KTx7AXVAo\n",
       "skIa3mliu3qwMAb6IYvDNbGxhmYG42CczdgMQCTksfBaPfR3wcUW6gYQFpZrM7xtmQt2nJbjvft9\n",
       "BK1dH9CEvWcjbNyikeSg3HlQReMo9igV8sFvg+nlB0jRUhGQq78w6dEUvz3DWKM9HGmmJUSD6DfF\n",
       "XKB9HYXCXFFe4ekOWe9mWmylIHv7isqPIBcXNwfdyEOY1x/2JGRIfkAMJqpmkmeB1FAmUF2qfQW5\n",
       "+Pf+1hHZ6mt9NXZP9VlY1NU/vTxIVq6McY6sqE3W4ag9yK1daCFhAAAFi0GaR0nhDyZTAgh//qpV\n",
       "ACUGtBpVdcVXKieUXTIIaWAAv8MZXLFtL9/GH7T5tpecl29YUXA6+hL2ktjX89CqBPn5bQzIvkQI\n",
       "pFrVVwzmvsjg+IH9Znsf8oA0JseZQV6eyBnRAOvnUBEAEy/EA9C9zCGBovqz+VX1MxJssYmLguau\n",
       "RgCcE58aIXnmvYBm21d2zr4otLQtDnrVaQ6jqm9QPhqbuQ8bFMJB98Ihp6drEeqvD5VC0MuI0Ey+\n",
       "KVLiPlmUaFC3bbYtb2jOzdlZb7n0NUoKVIq6pzUPwOuphoyVbnOgYOGcUZfy4Lke5DxF6MvyziLD\n",
       "MSuXf2BmxFEGSpssDEfzrMpX209KesHC3mh/QlEMV2cEkrtOlXk7qgaSXwPPqKBmd0q+kwG/QVV8\n",
       "5zx0renlHexv9S7HOUsPEu5QuN+ow/6JarBW85x/ILBDLfbNnql7tfV19gBMRM3vttmiMAK3xAWL\n",
       "2MukNnvF4zZCwR1BvhMuAKu0X8RQxMePqZnGfJ76rCGWUt7epBtHnMv94Z0qcByZtH23dbnMy6tr\n",
       "o5bDt+IWShZS0JPulTK7Qv/1naLm/bXpOM/LyVhtLAv8S4CPQTL0kTEiklPhG2JwN2fHmhcijuQX\n",
       "D3nEFQ/xZCgwWdhmuJJQwIVZxqCuv2YEcGCoxc64OYaJeNHfEPxGaVi2hnJ4oQRjqoQwkluoaWhS\n",
       "NTdhZIXSjKgT9Z6uEJ6OPdG4e6AsSvaZ6IUVqhIfm5dQWO7/qlSxf+zIpPENemyaks5ZkeLR2pnz\n",
       "6fBImyQI2ss072zU97e97Yc8FFRLWrsceXxWzkpKnRmJwpfR3jQd1gsyLGlz3xkMw51L0C8WYclh\n",
       "/2G3ziFAQrjkgRTkdMQYYKp8Lhq61ouj7+dJe4Vocj9Ero0612WaSI2P67vdyyhBJkFNUKfBzRod\n",
       "OrjzBZcvJ0rV+q0XkyWk1jaISwz4vNcknUWhES/iB2O4yMRvAhvdqGkDeZrv6F/irccpsZS9Qudc\n",
       "JYxCaI4wHEM2twkIbgg3KMdyJq0QDxKcldaCMu1eo4foUYf4VkrIK6VlAMWg+wBwrQ0LHZA/h1il\n",
       "2G8TrQUbZGS4gr7JVfRZeUcRgInIFitGXPuDSWmAL3HyDD81qiA4jNAGflLnzOeP7jQiwvJ4rRTG\n",
       "DwwzLgYF6B/hGuC6js7Kw8CAZ+9yMPJm4iMSERCeHr8ZSlpQZolkg2Wcyc2teIbS+xrMKczkezIo\n",
       "qCmAPd5QKH8murxFxvIxT4KaVkNrC/hJvBW1OJrJRgw8Ihe1L30G+lLhjsw/Nt4uKZc6i6hTnn0+\n",
       "2+67FgfIVBQaFIhf7FltA6EDxZ8Okt8SsEHBrJYji4tjynNjbdfO9XosD0uPyNqEG31YFb8/zkUi\n",
       "OA5EuDcs9qDS1LALoVT5gv5121S+URJyBc/IvKmWjgxoZBFTWKqK0NveD0Ah9zjBHTVvS4whECOw\n",
       "+qMht+fiSH6rr5ZcKpCYbgLBPRm8cCmM8lxi63CsvYYBcsy7+a5I4yA6ZXXF6i9+SC3rWAHgEIGr\n",
       "vF0PTTlBqedLJ3t8YUvEywm5fNK6gBRzJjI2B9Hx4gzd+nUSqotKj0VBmpBxxj7GmKLmx+OtZGtZ\n",
       "UKF6qh4FGB6A/VpW5+GzFgjMRLfSWAIcHcD31PziubHlHcSMnbAoO0xeRnuaK3R8JZyQn7vq3D4S\n",
       "Ji4Ooz94VFlKX12v0tafxVunZGWraWmfX5c7ArljdwDjSU0oCqaEhQvgS6GVW8RFWoX3QhjYcCFP\n",
       "sCPcutaDrHHGZZyTXSzkGkoMYzVg5FhLM+XZT7xEbKNiXjNdDBg56X2OT20U7xIkrmfvyI4vwjsK\n",
       "OBzWRH2/i48i7SqFY9KeosP4Y7wfjfEOde6zZjsy8VKjSopcTwAAAcZBnmVFETw3/wBmwETK5gId\n",
       "hjPArn/a9kNjvNa+sU9KbAnXv5XspxACKUfle/lu1tfZDbPM0QFY8slVHrIIPLDZgc01ZSKYnMLn\n",
       "QZEAt8CTIpiW2MrwdpgZSbjfHaT9k22jwoT7jW36dydu9HSl3u5AN5UC197y/Yr1zV74BVBHBF11\n",
       "SrVn+wxR4jjsdz5L4Dzxn1bT+eb09+tnAgafuPDpkE6JZy6QiURNiUJFSPdeq0Zxu0kB+1sn+X45\n",
       "mb7oBnxxzGw/EatGTbpXFpCQ1HWXzvW2ymanFFd7f9/nokxANDSkNB1kQ2k5ggAtDRR0ka9fnEvj\n",
       "MmBcnpPgWqjAGzIr6y0KAIYQX5F+57u8+TNT2v+PV4eP4Jisk/8quoifJhebjuW75rCf+VuwYxPe\n",
       "35ubNUDEjRWOwsdfmXyVsSlo4wCVMvLV/W6SPXnFmiHmJLnaWd/jSFAUs4cv/9dP7bKLAF+vcJVq\n",
       "dYBVOKcGoVX8E58fNiqElF/vMvJDhqpBvKwK7BvudMyL/Ta/HIWFIK60kYIWPd33WL9tApjpnt4I\n",
       "Ttvp85z4xVMZFdV414QkhXRGBu9L16sn0ALX7pYuGosWZcRQSK2AAAAA4wGehHRDPwB8MiriFnqs\n",
       "KGkqdXX/ikJfatl4gCFX/3vin7O/3JlbG2GEjhQCWRSa2M6MbK9TMkG1UA6NkYR3suxbsxmUS52F\n",
       "80AyQ/KPLYcYMSjH2Loq1kACdaVMmIGnplgzfpbryJcvU3fvuYcxd7g11NcZLU0cIkzpzvJDbIs/\n",
       "eFbfMKRUTbw2qKi9pk4DOe9axl+whY8unhY+lz5C4EpCNGejRi0opJUvsdgiNXvNEyoNOe4eLuBe\n",
       "AYZ38xcEoFWpnNSvUp7Ln28LU8tvnvotUaTjRSAYqcX//OTPEXLMxixhAAAA2gGehmpDPwA7ZYJC\n",
       "tMJ8WPeYZy78kCzxqtpBsh80gCas/u0BSPeW25QoVEawWpePghmaIrzniwAhsyMiW5y7Uw4m43ac\n",
       "vSpfBi9FBKhZ5hQf3kiNXp/Jvqt8dhTVlrVLA+qLc0BqQTslbGhm498KWGXWJd/0ugvD5AgQwGV1\n",
       "I0ycUOsO8wNcT5ECTR+2rUFZc+tXHlvisXiCxWd6J3Ny860DZgB4zVa3JFfAw3+mVabSSXbM20UK\n",
       "og6OQuFNYhvov2ulJ8bTBMNkuf+NK5hdSLlrkP09WL2z+hmNAAABw0Gai0moQWiZTAgh//6qVQAV\n",
       "LoNcOX5CabNuy0hDFDx3uYWP+jdmOmgA4kMOxrJdOrTaoCtXc+DRZ6PZy+tE1/H4CKVLR/G/SVvB\n",
       "dt1M17zacnwbNtWDPMvr1TcGa7Isa7D1LH/e3Bc9nVrV/jpAXeYumDYvOYbi1hnGFb6+/SUnLbPY\n",
       "Pr8lMdYECd+Cw4HGq/iKqrbSRYvgmXevyE1j11w16EsKegiQBoGZBvKh6T56AqMxdNo1XF8NWDpR\n",
       "E9F2lSc1bIvezBfhqD5B1e5OQ8vGpdz0UUCtd1CvQhkGixELXS1QSoamupo+B7SEzyQg56yuOcm4\n",
       "Esz2k2W+jprNVmme9voBqqGyyNVEFjbjNUb4+tzjh7qkD1TZydcI9dd3GgroGvrz/u0HYWtws2Zt\n",
       "q1M3DrXjXyRHHh/go+zxZvgjlhlGTdSjbPc8N/28XKrKDmb4gMZB1iyufrAKd724lv45KnwR+sqY\n",
       "RZBRrmcFUksneWEcAc8H0PRIxbzlMDMBPI6Ngbr1pMWn/oPvz/m+NEyV6FHTN4n4NuVJ3lTJ87Hm\n",
       "kKkaHOK9bLcWbl45C9QynroPX9u7n56KWpW0m56HN5Na8KEAAAD2QZ6pRREsN/8AOgUOQIiFimCR\n",
       "x1iAAQykOJuffhhqanSsQM+tXfgvpTL9M0QFnIlHeXWAlUjP2UpFElLeCv4UQK3Rv7AgBCc93OGS\n",
       "OGWKYcuYITvURdjsuTdMiYEdAuh7hGz75elHOOg8d7V2GsW/7Dp7fiv2SDzjz/VJZ8yhhNttSur+\n",
       "9SE7Fg+2U0ipSIpNWk7GiEf/nepT6AvwZ0Mm6NUQDM7GfTvm0ei68lER7OX+1UmQ1hzDlkhAxZGK\n",
       "wo69Skv2hPk5kt2CJQz2KNsyBISiAKlsA2mZ1THN/GkftkwRBbbwM7cFObrPqIKVJ4scC7LYtwQ8\n",
       "AAAAvgGeyHRDPwAE+PJ1O38th1u19o/MuQo7HqC2q6YmzDJGPE2L//s4VLnBwAEQeuHEzNK5i9gI\n",
       "ThrQ4bh9Ayxvw4E/UmptNpqlw3kgmT8zLybxrUqh+PQmgWov83HvDBdhHx2h7npFHrpfKQgp5RTZ\n",
       "hK1iR+ykOvMftnyMWvLqOhu8RD4Je3vthknDW750hx4e3Vp0dDBkNbjUuVYaYBkrMyl2fu7QQaG8\n",
       "hhu+KRTKevGKkaQV2QgEcmRIahkpFQUAAACzAZ7KakM/AEduKKqTFZd0fTddxl149VgDDKFGq4Ih\n",
       "ANHMiiNTR0H54EMKZj+mawaoFsdACEwlbcZ6xh6PrnNOEXNP/2NKGapqKfYyfahJj1MZZcwOJrHa\n",
       "EDf2FIl8FveQXP4Crg2r7FAkf9bkQ/JpukL89A5ySq7MIIVqf1FHkF41FDC1f60NRS/clCjds51t\n",
       "76ChvgujUYlj6F5TZwqr2YqjZ4EyBv9rRxBP6+yUdw+MB4EAAARaQZrPSahBbJlMCH///qmWAJAa\n",
       "JIjsuGsofAMBpnbKk0PVngZxOkXyOhx4WYTdtcVGl45D2BJvN6S89uqar2a33mWoTMAPGClzE0TP\n",
       "MmN8kG0ABF3+JompRTQJlDf8cq5qEL32fGye6bHTmtO4/wB+JcxB21bPOeZ1jdGS8H1tMvAC2hX/\n",
       "2tLR1ww6Y782TNOiWZcdOF6Uu9vV0cYPrPUVMSBamyJZpr9+98yeymiaVhsT2vH8cyMg0iA6F8vH\n",
       "FTEaLuPGxPTcMLO91Y7qMqNNmvSKYqx+NA96B0YkRa50usgg9kBFT1KvOCBJh+5rXGEdUniPjEei\n",
       "DIuylspECP96FDyheadb/J2L+CZV/lu+bBD6sethjluBv61J3XCZring17GdSLGeBs/ZnssLaObL\n",
       "nN+TGBezGmMH0LoiYHUAwCX8e/o0AHmNse/2k6nzho5SzUv9WAAeBoHdsr2ENOlRhCgDuir7OBPy\n",
       "cir7KfIICo2OGA5pZqxTnro/JasNxuLzA+8IxBzViutoE0/Z/xvfcpfnqJ8EmFWLP3s2ZwzajYSo\n",
       "olzGG78gIjN5gAlL7uEiv8x0SS+lAPwPHfmcLSItUmODQ3RRGVxxh6HIr4y6A1I18S+mhHj8BNNi\n",
       "bFqMi6BpurmZEoP297YSCRserTcq/D63PGGvCVhvOjUkPL9dVD4+4o8pGHq4xvHCU7eIapdffEib\n",
       "/P7Jz+ggznpj2IClVSQcN4Fd+guy6z3RmNLNzumEumeJ+J6E8ZM71PHTsVHTTrBlibZO8ew6zDSN\n",
       "BbAwzofzhSxZmoSrS8In+Y3freKPWzBJAH8L+iZblzEmhSFPEIj+maCpUV3q93EVpqoTKKhJGqNn\n",
       "gkYqiXuJ4qKNlLJQMWbwbZNQrER3CZZLjn6ZBy2k+vIHWyQOqMdT+gV8pGXsi/j/NTC4nc++FpAP\n",
       "FuOkp2elypk24Cl+VBP5YJuOJmSYSJYV9F6abhuV9gT+uOg+vsf3Uq0XEvH6kv1OhfFakqHcFVgj\n",
       "fo8+0L+xHhNIpAc+8AQKzpwYIkAT0uIGwW+448x8v4k0pzXcyKLsnKROKcSixYfTpPqhcLp1ko0m\n",
       "5oQsSXj63wISbvpgHmNZshcyopBTAyyEJeq99+SypZMkfxSlAcPSye8p5Jj+JRjPkg3xAdDsYnhs\n",
       "QMgevwdegawhtUdOa1LrpmeNuTsV/4FYRdRqGtV3A5zqde/T3n9+Z1i5BIT5pRfqcmhHoZjBtgCp\n",
       "sAPAVkuh8j18dw/xlTQ1/I2+1wauf8Sljgd41ydiCXBZcoArE7zC5Bc+wjsXThusoWH/uETIIxIz\n",
       "AoYc3TNfplAy5znQpfUw/I1qrSagoPwJNuKiDZVa9leijXSoK62tAuOMDivBS9HYwq6f5tUuVIKT\n",
       "nEbnSREUcIRopwAKe4Cr95K6h+y8oqwvui2xoCddEE0ttbmdrObZBNZoswEUc1grts/BpdTjD/pO\n",
       "TEr1/kVn9IHcmCH1QQAAARVBnu1FFSw3/wBmwETbafWD8LOq6hsffgoNaLRBPa6fFRGOwymeSCY/\n",
       "JKiudMIIzDG3J3I6OujdOuSPt843UAtHKeroMsUoenc5xGpMcQ2kwMegTiS5IL4jpjXbrwnbySZf\n",
       "21JvUvk7dkeYV4GCFJPpoPEKplsU/UXgvFgID/RiScFRKqIooZsLJjbR6Y7QNkIDV1FoWkFEeYAS\n",
       "UboCkERxpFB2RcKDo0j+FxC8cn5YOWF7UnSaNt9S3nDTtp8cHMU7KsTX3Xy2F9Zhd1PQ5TjVn7Wp\n",
       "SLpDzyJ15gPxkKd189/m+hfmDivmYxYaaXJ5epPsF+grc0Eao5FQ7ss5WwevbvUR6Sh8vJiuwIXE\n",
       "iFRBfdAXVRFJAAAA3AGfDHRDPwB8UPHKoXYDxvoyJ32yUjx5HU61CVRGoYrCGaF1JZNrFT3xHOS4\n",
       "UIAkevwrcu6105xqmLHXaWQAbQU9uNPGCogc75PhQE4+ugNnjtZs4om0vrWx+p4K+BTNdBwiDkxQ\n",
       "frsyoSQUcl91uAJjr2xRll6RkwmrwLd/Y0arJksFl/td7RYiZJS4Swwu87YuuWgDpF5/NRQNhitC\n",
       "/AlQ+QjJCz2Y72bQ901ZZgKD4GK99Z8Jy1ayZSYKfvKMt+9XeiuFhLyhApn/ZCRTL0RkOxdl6SFQ\n",
       "lWqMS2gAAAEMAZ8OakM/AGmNhhMyOYU+2TnHRmGHGgtLy61N5jtt9C5o3U5lR7KlVpvetlHQtNzS\n",
       "6nwNZcPHQY23OnxeOAAIbeyclmTcO6Mx2yemIRhY613n0BZKhVUonkw56QMOQm7cgBzLF5tcukxK\n",
       "EK5zOqter4TIxHzvvmuZmwjf1NJdzZ/2Cg+TsHT5iWtXXDwhQIZ7b1wWfdBzjUSIB2S5FF19lrPt\n",
       "ZlQv/ZZi7p/ii6bE3Rl3P+PsnxSc1gALUtNadE/xEEWXbb7Q55hJtGE4QHr1o4NTZhWMt8ixo8UV\n",
       "NEZ7cdfqLKn4LQAxdKSsFwKbK3QnqkrxtPea58xb2KMPBDWI/yaA5Er+Rg+NvrgdMAAAAY5BmxBJ\n",
       "qEFsmUwIIf/+qlUAGUmDXbq4kfjig20NPx5fI9cGP9irB+hAdwXgm0xO+slWFiGYZ099yerAIALY\n",
       "RQTmAUKsJRthl/RAzsJShW3GgfDw5Z+WeYTUdss9wBaQRCB5gfwXI53Z6ePVkTobNuNEIqYeBV8G\n",
       "YM9T0Vn12okxERAGJoWcoN9+nK4za4BDxfM7S97Jy+Q7rS//3uyik1640OM4HdBw8WSB0IvK28L6\n",
       "64KTzL6NxBVQ+lM+EMsKEpx68w4fcnPyrRRI4sNy1hFgIBoHVGLMoviwDBsPr4eTeUdhvstH6yzw\n",
       "E0EHLEQT73WFjn+XFE4VUA2hoRcqZi+REugrrklN64VWAs6HkXt83BMLGvfTU3VANEN0t4Z/pBHd\n",
       "/L+PuZBecT36ES/sDyT4Wl3M8eOrQzWGD0qcF9/f+Jj4Uzpf6PBDUwJvgSHc2Siq0TXqZwTaJpvS\n",
       "iziNiev7Cx4U193NBZ5Pv53G4YMdEvfCfwAWJZCg/516+lBJlJ7+KAUpFSyIb2AQZqYpZQAAAndB\n",
       "mzRJ4QpSZTAgh//+qlUAJQcc8FXdjQBxcYidUTrz8Ow8/+V2CQV5+XfCK2y2+ZCGtbXAASxIkP2/\n",
       "3k53Ahr/p8nYNGItGXeSNZYs7MEcnOLIiRBrgOUPKWJitAi280m+020S/YT+fHo6kv8YcPrH0uiP\n",
       "JJSYgBas7DLbIPu8hVrs8b1RO1sfl5R8wznL0yEednU4uFMc9Sj6LqpOIjaKl9V1gQ6Yx5MkIsIL\n",
       "PbpGu09tKxwA8gGmrhceXzNo6ISTxuz02Jl88OQiOLXO5cC9Gsc5r5hD2AXzCzMQ5EVviG7ZYzlD\n",
       "88Wc+CTHX18CVP5XWjIWZXOp3DZvkaWm4hrahA1/iyUyu/qHF+6fRsqrDydj86tsc7tnIL/rpThj\n",
       "TFjVgvTMTd4CXe7cIbGiZmiFZzfBPufPTjjeAgMX/yuBD3UDFBGsWw226BerPpAengPfyv2fFKZy\n",
       "6NHOywOOcTx+g6oZTcK7m4q+7i5tYb/QnbE/wmWBqDtDfaLJuOBzLQetOww7wxWbNcDeWh81YUpP\n",
       "pPI6wpJ54A8qsBYKkUDlOPwQiwMJ8q3X9m51abeZ3V+S+GlhYhHTbVMuDQU0EWh3C8o0HFRrzr1q\n",
       "OEKIkKyKBMp6MAJEdLSC7eIpb1PMifg0oYs8fyVNl/sw1etT4iOMZaPxUCtqTyT6/8GCL23bjx2o\n",
       "D69yHDeIhSHKTx+fY+s3zk3khlAoQJyeUqoAH+IMbZvAQIU/jSxhs3DnoFQ1NSp/3Panq9MnOQp0\n",
       "2hgucSoWGGQZSzl6O241MCNkhFHPo/cINa/ehw1n/BXaP6Yk4xOdv2Z3t8bjXQqYxfx9QltZeCwY\n",
       "yq4oAAACA0GfUkU0TDf/AGbARMaBeBqpGI8t3j7mmvgW/QlwsI6fiRmgjo38UFnzzl/kgUCwzaAA\n",
       "WGRM7gJw7BStInoe9gTeFLL2cS+mZJyIfH/kLcIpX39zsY62yiBiYMIQkcskmF/Wg+m6r3u2TRd5\n",
       "XAUBAaUlU+FgSPzkSQeh0dYIhb4TNnpE/h6W1QexVXT3JJ1/BcfJrAQxnpMUzTm3iN2mM/IDuN+u\n",
       "Qhwg6TDZO6rcOHIrM3NKzJf/i3sEKq0Ld6twnouMnRHRbGHE/XZvSAl1xEk01MTgsgkZThQyJLaC\n",
       "RUDxfZpMXFPyInpCsLMiMgdAgr8NSbUr2oZvwwBhL6+GBeaDugs98clkBvX9tBtgHYTGlnO2Z2Ni\n",
       "LK44D6lviJqkvo8o+GpJAPg3VfC7Pu6zMA/DwsLHPemoTI5EuQn3DmekOlnOJPYm3Kl7nX0OwfxG\n",
       "SUZZHFdhtFiK7NZ01rkNXYSp8zs2m0mq6twC1e0GhxKb1Rx/nocxxDzfq7UrqZ7MJnv7tunKTo/6\n",
       "Z3MGYriWjcysPolVKHw/7mG+P0IQM+z4xPTKMd0UQUP2hOfKjcwn8JlEhajznOXT9Vmt/lzwPRpT\n",
       "kOmbONRr8J9I9Hkxuz5n3mUrIPBp/s8vcdfZTQjvSBjjLBLHggIlZ+p1GGaCy207AttMRt+KsLWj\n",
       "Rw1090NB2IfMAAABdgGfcXRDPwB8UQv6VWOoBitWgAWEfFjW88bPxmN6+meOIgweiKyd39kqxUoA\n",
       "WRd9YtpryF5CsY/4vDEIIjZ1VoPLhXR560JVLS3ir6pReEcIFElRln1THLefvZNXx2xQnGu9LG0R\n",
       "kvG3mXt+VUzZvbf9GTmJRGq7/7gvz0hQIs/nWYdz1zM9QKxvt4+YDyuYrTClauwZ5IoMmGNTrE+s\n",
       "WP7VCwHXHyqJn/BRSOs6HTqlug5gJFfe864WEKlPYy8mS4JD4SsTjZjym9uSIAH5BpjPiD10b0cZ\n",
       "TKVfQnrXp/+AZ8JrcJyADajAbHvYIHxSDRqZH77J89ScC0a8xoHPY2LewbmqSYC+DiYO3Wblo1iO\n",
       "QfPnFsPeIVNcP968dXxYFPdKq7Wme9U6/LUrOT8vDjb3FvmAetWaYSoMjTn7mY2lS3SffEuKriVN\n",
       "f2ufIxTcPAQS0vSiTRz813O9DvLZmvEJBGmqaaIHoU7kyNPvD3Zma1+3wWPBAAABYwGfc2pDPwBp\n",
       "fkmJSp/SJtLYtSq+U2b7y3iyUzbK/dPADO/OyFbn7s7h+ID9gWHSSPQAtuX7XpIYDM5R4NRcEEPz\n",
       "6u16KCVXTgDHRGe982OH4a1A79LPHfh0Wml4y4B6CWCMfdc1QC4FqEkSj2hbhmBIK35fi9CylKE8\n",
       "+kGyBqt/AUiVhb6VY1bOmw1mTnuVd2AlcLo52o5Y/h2yHwovYf9GSrGSmm7FeS9lmMFk/a9XUWPo\n",
       "XOL/ZXFSUi63VEUUk1/gXK+neYH1BWV71wwRqSO6PCqCDWiXxeer+BI34erE5wb+Ep3oLA7TOLoo\n",
       "JGW+oLZCVm1zJQkcfwFl01XPH6A7GL9gnF23msXzO3WrWsNCDm5Zf74a+ATFxvGcdmOT0DybWbf6\n",
       "z3kdqDv4OGDAc+0rGYrEWC50XhYWpFTkpnWVOZCH6kssFU5ECy2sksE7Z/Lmr8iJyKAGVXwPG5DR\n",
       "MmVuDukAAAT3QZt4SahBaJlMCH///qmWAJAZMkR1yNwm/Od6kU6xHsx0AtRlWdYQNiIUF3ZaCqv2\n",
       "GIRLAexHTClncE/E2ly+bV/cXk6vkg1EDFeCvh4VOq0c5F/Ch3yD9UwyTFjyYJuR5BN5Oin+UwJc\n",
       "NUxfSNaJ0O/BVIukIL68mFfRPjfynze+ujSdbenh/yKqKk5iKMSDJfkqWPyEvbcD7U8TIY/zpTpa\n",
       "akHqLLsSYEKB8thJGEC/ODMXHDGKMXNpUxMPjKx+WT+aKo5zDRqQZhTN9kfazw1SRXRLO/GNq5dy\n",
       "VgVFcN3DWuE34lvr70XCfiCy1Qv+m6BkZrjSvwO9V281IrANfeHCS/DfvtyfqUpe0t9UGlK7aRr+\n",
       "YMhFQbjjA8moh//5lqeJe50nmK0AFZvoWEMCADOhu8spvcweahApjvHL5cYoTQTGbC7OwgQfv7NU\n",
       "LBTazFvYVfnDFe+nvttZjrYJzp7Icw/9/eyHHFxJVxjxlYNHKZ7qt8UDP+/hm0fgIooTuEYejOUP\n",
       "uc3KqlUdJ6yvpzD+CloaEjTuBbV9bvOpH4Ja8pRNGyE0N5CXSe65fSsMRP+MmuE8d6oyowKQ9OA8\n",
       "3s7piCWgAqL2ZeWLJb0NVl8vJR44OmB0W4YP9znCw3jLFCKl4rCD6J36U7mpG0BIwzvMeA2BuMxh\n",
       "yR1VIn4EVh2KGtB+PUtPihHaUh9UAie1NjJWetGzi0J8YyGzcirgGUGBdw9K3Bp/h27PFyxNes+l\n",
       "SnfpZDuspYnDN7vnwtxRa6EgA+EJQ60b7H9W/YtYTU0ck3Xko5g9n6Gdc3rXCnXyDCuS0zjyZx8E\n",
       "xBOFiGmFp/bB+113/gUBjSIoL8uDIRQz3jq+pKJ/Itra4UfAGy9RHaJgBI7f3t2NJyYo92UtxQb7\n",
       "aepUqytbfuRKe3TCzM3VM7tILdjXe/iZ50rXN3ZNqj0Ig2SOg9up8Xn0jmtCuVpqb+O+OsmhkBC+\n",
       "rrFjcf6A8fvfGEJbH3rfFMXfol/OJNQoDfRpMf4aqMNGaKlwamE3X5zPv89N2aS9yyZkA3IYam1/\n",
       "Ywk9R3WudRbaN4mM6GKu5ECFZO9dvqYdCZugeSUQ/0Gu0AxBJ0vNtzfrlk65oor7xP+OHpHCENW1\n",
       "tYSnC16AKy/7si1oVvVwcUjWVqgF1MCAZxYByzhFGxQq0Q7doFqZcn6vJ6J/kH9k9MCDh8hcMX37\n",
       "qizJYFaRrpV3+Is/2gA4qZTl+HPZO9av6RcOmziL0RwvjR9I9fGs6GrRSQgEJsygKZDNpNhP15Ky\n",
       "vsEKiQ1VyAo2c8USXx0Rf5Y3+2FybeNNrT+0IFE78vi4016a6jujwJHh0FFX2d8FxxVDw9YIuKl2\n",
       "+x115GkqumiBaVjZXkv4LIUHINBK8kZjsIi3sPbgeL9sWMCChCExI+XLwwQ/dwgJKgrxf8lfBvDr\n",
       "mNEcw+oQiXQPvKLvIZtqNG6eCPy2uZBMS4qjQgjbOtHKn4lyh52JGAIRTBUcACJDzQj8e5BdOjz/\n",
       "/mEqdRyWDHx7m4US2AZGzIrU8z31WUoO+P8SlnTl4bzW0G53N5TknJKzQCHobZ72C2j8nU9vc/XH\n",
       "gVeB7DZ3h8FAB06qCVRcYfStaj4OMK+CUk4I9poOuslhPDelo4d+Z46cP1zz71oAD3INeVkgkJj+\n",
       "UIJr5Og0HLcJ9VYDkelqdR6AThzCoU+DxrEAAAIVQZ+WRREsN/8AZryPSI2h20xOEXlaIvmStZ6h\n",
       "GjA/QqqWEhnyZJGrwPUGe6NCUSgkuqNT3YH3MfbhvaRZKDrwJTlpIa1R8ykIgq3wD8ojV2eoydXI\n",
       "O8QAIqK1TzjpC8GSeBdMqP9B90IrY/Hh3xDdf0p1yvH14Vk06kNRN/CKf9Bn94FWLS6trwdQK9Ua\n",
       "XYTVt5xc4hHpp7QqGlW1DkI1SrM++D09+7lMuzjEicKpqumII7jphFSrJrx1il1XJFMwGbLQPo1c\n",
       "jMghFsjoN85sZ/nN5sH6PsDkT1jjP6XQIvZW0X+VHMSYjA0spZUgq0VlSAq1XTPyq7eWZnvP+UXp\n",
       "8frmInJZufWzhfXujnWi3DIbAXyNoUAD6Cj+QOrMwdzyt2PMycyVlFVw75sjnno9VCENCLJ2m9P5\n",
       "m21v1cSfkk6qlkfHGDVswOBoqjpXGpFi9Wuty3ldR92mtr2TdxNN4IWot1+0a6hdEHg+DVxDvzCO\n",
       "LI4O/+TrLShfXe6KVpjFtvLqkznc3YYUA+Nu8h+1dOeirveFgDFJVMI8aeXQ7ctzHaU53mFSCIm0\n",
       "HDY7yyjDovvxUkx7H4AkLQylGkJP6eq9HI3pqM0t0nNM/csoND7rKqyo9AVjrpAUJXr4dYi9RMr1\n",
       "O9YZJDHMfViTSREi31On3p/uD166qIZShEDNOLFjb6ZVFey9V1gKVVonxPzi7lVwDPgAAAGtAZ+1\n",
       "dEM/AHwyKv5TtDRWngvJzY7egplQt9bO30icx7EneKlbCJLzDww1IAVmUe9sAkA4ghtvw9V+Fonq\n",
       "qoOt+pl80c267qqd6VLGA+xoRZTDL8z+5ECBGqmBIlrQheO8cU9xf4OYvYpOnp+KYzO3JVx8RBUP\n",
       "sQRTvOJi78ffg5IAlLEaUZ1X8gc/9kVMOQqqpHWtp3tY0VWCP1BVdBtYCAAHveyel3RZkc5t6WwY\n",
       "IhhjyidolbWkWvIPVewJOSb38tmRtVDI/P56K0rNXQBesyZd8YiZUDWk76TCbPrurflacXp2/47p\n",
       "E7vHrE570DwC8Iskx4KBCvKkCdCtllrSRZnJNSo+D0aKm2Mvp6WtMxWzzDhNL9+WcJkTjObvuPCX\n",
       "9qcLNRm6SY88QMuOOBJ8zl2PMWu8O63kHt5b4HJJw6Cu3yx4dciz0UfoEKKZbYv18LbbTQDfgO7w\n",
       "i7HOylOxCLC6aRS8fN9sgOhrAzeNaGaeVwsQSCbrWm3DWOAHZtjzI68bkEBNwj0I9lswfI285Qdr\n",
       "51vpRqnyRlnCXAp/vX6wSrnasexa+Fh7Zm9IAAABrwGft2pDPwB8SxYTMjmBHookUgk84BrH1z7O\n",
       "lhg2R44F2MQw9CE+7Tjxgf9XJuEWwNi1BUBuI4cjLw5i7OXP8HUgBbkXR9+HJl2dVVQaqhrk7kJn\n",
       "L8C0SdWN2mf6ba4rqmTe/V0zlYthwvRLhtu5/sbDqnXAvX9J+EirMg/gEw63Nz1QdWaAyzszWi66\n",
       "gNUAvReRQR8k8CH4WH/1Nrk2l6TR7dDog4xFcI7OfvfOQbRRXijLOn3B1FSZeM3V7IIdzBjg1Of7\n",
       "HWbPkwapwcjNcTut5UMNwuryFtIVkAZd+umPljAncyOjIJBWV6NtK48qc/GVDbIrci3aTMM8Q17Z\n",
       "eopcYgCg+u52WFGlDXnwWR2s6Tn6UeXlZW4nMcJSJAFaNBTrUrRgbNGGQ+mr7lOJcDbpnWR9BpR1\n",
       "IbaXMNFfOLhY26gnPrd2zLc7HFSludQpAwl0d0Q7jM0P66PESlSrhjaoK2Pyr+ah/57NX/4j8hoe\n",
       "yxUhyM4XSxQ6QaV3dhzzj9wmom1VtHDP2CuT4Gk+Jym+lD7zgFX/2pM77sruF/xGOidOyyPxNhrj\n",
       "S7ICc3EfAAABw0GbuUmoQWyZTAgh//6qVQAlCzOKr4ESh1sjvs6yNxVoIDl/HqXEc4uJx5TVudpI\n",
       "XqF3AAHXDqDRMBOdzBVuJ0nEZG2ngVq7mPZkTk7h1gQe6TaofRgBQbhOHGMawR3V1pZ1k/gxxXai\n",
       "/EIpyrslT0Nw4gCTlNpcM1OGrejB/Ot7SctqDA+i3c6h4twtB32KeavwQB9/2NK3ZoH8yz4zmUo7\n",
       "W6LNco9olcGyRaG/4MPdVf0furjs85ucz0U43Y3jpaVKf5NrPRxSsjnlHWsMjoGUYHLPgpC7O+Ii\n",
       "z14oKMfipnQN46U9qoxYcZgl/iz7W2x+RwjLZa9S9MFzM/98O5SlK94vTl+kmAHStgsvIkjg/uf/\n",
       "kSUhHdN01jUXhAR+wKOrEwAXYR1dWz4SLRcFqw8SaQei1UoyWU3Oyce3FLW2pU4nu8kg1N+j25wM\n",
       "lBUudQ9v4lpyaR+XLKO//GyuAChUqlBKVAJyJJHJQDQewfrru/7lYZQDX4VIc20XdkETl1ZxzY1h\n",
       "1ziKmPgDaW4rkYsXwtHzYPgdBVdPDhHg/r5z/GWCHHUo7hTLsUSLwkCnf3x9q5fOQVzi2Ec55hH6\n",
       "LnTpWeQAAALnQZvcSeEKUmUwIIf//qpVACUHFFBV9pJZB6HupQNZwh+AWtAn2Wtr7JQu8P86s5bf\n",
       "qskNkpwACf1eAIhO+3hT2JUGfQK8stFkDSWV9CBNE4AWJ2VC065wfoCwb1R4v/cPSVpTx1n5jm20\n",
       "QM5Z1YLFem4p3WuUwZaxuoaNECsfxxX171Nx+vZeR9KLLR4G+jawbRj2HZvh59BKDIidmuh05uAj\n",
       "VaGQqhW/RmriVpyYGKmFvPUV1L636RMSzUjTdmPZQ6qCMkfS9wYKIcW17kU+8lGUl1oQEAWchI02\n",
       "D4849/k943w6Qe90MNpbNNEK7mlfy+QZC89c7IE0oNkGGGsTptUw6wnDoBhemGdhNNJtMnHrORU3\n",
       "wcusyoUIjhp2TpZcdp6ScajCzaz3+Pzrz2rrlraWiw/UAjbOq7SCN6V/guMhgEM3x/3ifChZ8bu6\n",
       "snoCJpGgwhxUaAlHl31LNBK3+k3oUL6qY2V6bY9+7uEa2ZP0jap6nflXMS7SLfL7hvD0lwH3uVHd\n",
       "S6/+QPQDUePMQH/+xxgjAK4zr43dMlEMRbQh/86orM3J//cT+xM9+osIZELCisAjSF68CVDB4cGc\n",
       "fcgOvyZc1rN4oUwi1vl8jWb9m5MFI7CZqr7mEw8n+aF9iDdXred9LOOhR2q2KhXpHWdNh+Mw6Tla\n",
       "rbHGnlDsw8otGnzgJNlXQurxITlYtQumoh8G33UQVKvFFcsW05jPyfrCd27di1s79k3XF7eVAqb1\n",
       "NwEVwGbxKrMSfD0OFDpjs4/cx+vA9Onj+8jd6E0qJBlaAGve1qSYoZ03Ajpt83A76RUkOE95T5mP\n",
       "3CdHwpuEAfmIvG8o4EQ7UZhZeVL4Hj1utXSZqAamAST09iJjBdXHtreg5LgjdKWbJcoFUB8WRU+m\n",
       "AoabUmAYVRxbYgJG0xeocfEhgDHWNNpnRMulLpEd47eXlU5Fcq3dfgO83bdysoal1fUZd89NtOhz\n",
       "kpetqE5jR4fYWqAAAAEGQZ/6RTRMN/8AZsu6bUeMBEAx0CdzbJZ2rkec8CIicYQpbI++USSihMGY\n",
       "FJKMsJuRbaT8oTr5GW1XCvCtmTkyLlICeJMQvI1DMurUm3Bhji6RHN/uRyQLp/60rmtd16dNH/JZ\n",
       "MW6BVHapI/N6LoOuvrPGKgBNXubyvtlvcrkLyvjOgDrBjYH+ogrwNhZN39sTOJT6uE9e0ndRfw9x\n",
       "sBrk225maL0t52TP9GoOkB7s7F2bCP/Eq8qi3KpxvKtxc5DLBw0ziOZIjir9kAtmOBnR83UOHz5g\n",
       "YayXNEMP107CgkNIu6NQQ9jUoj/6uLdVLqF+lqxn1x4mAUbO87MCcH2C31rfbkjtSQAAAS4Bnhtq\n",
       "Qz8AfEsWAvUTsnUACcynj76uK37tTzNya2DrZfI4qPwso/AZ3wKF11Z5H25G4HG4f/mPwpmly48E\n",
       "AI2XNsIPQi2n7TlwefTpYkPoQew2fKSY9owYnGPyv/dN0m/MQgoO0RUdpS39rD8XIbTTq1yUgFHc\n",
       "eFkgjtpHpoadNxhMOoxvLzhs4uckgGtL8+XJmHA8Cd4yOM8RXx0zBIBWG5chjmQQa8w/nByw3H7t\n",
       "0FAfMF5iKO0x11HBBLZV4bBWMnC3dvGVyJJ+YnVseVCogJ5S43ANo1IoykPkTUqU/4urpORcXQU1\n",
       "Z+nSPFAfGGHZ1jJMErX9our1Gf7A8ub/f1A/Ogu/y0n0fViYokmsQifBYQM01F8AGgfDvexNrZIx\n",
       "2mIMsN9eHQn91XybgAAAAixBmgBJqEFomUwIf//+qZYAkBn9iOuHx1jQPrIRhagGGafgyFrgw8hF\n",
       "TkUiWa/nlCTA91VQhAmwEJEZGnTZpv2lwWfXmCtOcv9qcYnDdkws9ZtZR32Xgz0Qot7oB3mkFIQx\n",
       "Xx7x3JiVuKoCs/9L32dW+Q+COv/0I2OqqXg3jsGbuYEadtWbJee6fu/QiEupZXmJ8MTv5fhrAah3\n",
       "O04DANkKI/6yzjIFmoeLBSgDQ0oWHmtIPGyVeLbSFNx8eBNkTMjyEnKBmp85E7+EeVqy/5xJ9Sgs\n",
       "uArrrAKtMS1zCWKtjZE66Avn8FvQsvNB3+KPoNCv4pQc1yEZDHho1BCS10iUZ0sDJBHxvx7uHc3d\n",
       "BzmyOgQSzqPszRTHnaWXzglmZNqaD7RTRUZQmzBvhn2ReaV/DEOKsthb9WXuAvka4OfMyV6rRvnu\n",
       "TuRrRMwpiYtj+/akKnPbFlbESdJDq18tPOlEMf6bKhHPpa5G6bVBZAkXQHnzPOsObpLodBm6KBH0\n",
       "G4bm47VWlUgVwHcbUM/uHWZ/vBJm/+7midt2/DQxQxA9jXkjvpEMn/rw/faFibdyp67Iu8MJHjAP\n",
       "9aLfXuBuOM1HTmBl7P21YtHG2vlv8f0TM0lfFKqndsM/LC1V5vGZUrQpI9eP/O8hZI42FTgwevCf\n",
       "Y2AAu6iBZUObSJxeHg4HpmlkM1TC0ti5SW+eE+almtp//v7LK+sgE3QyOlQk9DfJccuq4Zdh1Ky/\n",
       "gyr7AAABy0GePkURLDf/AGbLumH5B5sn0T8d4Bpk+ds90mMhnGgrdE46IGXqdBLbFT3EEALDImeq\n",
       "4rmbHbhXOFYki1zPUBGbD3oD3Lblw9EY9OtOrQi5bJxYnlgBwQ6JgQh+u5H4LD0VC/K9cO3oJimv\n",
       "o6p73hP2/jKC36dKgyvevocabuDpBUMt2qo2nbL3xE2ZyVPUxhx1KYMsSL9SYxABM8wqNUOcqIqv\n",
       "QgDfkp4VHXZcIa8usL9z+fWiACjG19GfAq3X+0vfbOpjd22O/LZUNvNNi7FGRQ6a69nR28pFoOMR\n",
       "PHwwX38Y4SjHm6YvxaSVRVyvihx/v1m4KMM3CxyyUS2hJ7MpuGEtLv8idRh7qIp746Kv5KGo8mH7\n",
       "BOlKDV/4Lx/uaV+KV4gKwXLg3JzWg9uWyY5aNZAlda7l1NZadoBH/NgXWD58/NgOOC35tE7M3WyK\n",
       "xtRFIYQq1bTekDugknvI76sZ8vOwjGr4RNCG7kIiDACUjlEjjpIM04oACb9mAITuKi6Dn3dAkIY2\n",
       "DHapaagoWMMIk7kSl+dQQA8VEMqKfN3/m9tBINLF0B+bgZIPzo3yfv4zSPOsTzMcsMnR0m08cwmb\n",
       "99ygjXTT2bRNwQAAAQMBnl10Qz8AaXhU0ZZnO4nOYDIQJj4EfjvyD7j/JBsiPVIuEALUhqFjE5bB\n",
       "GuqGu9ktbL5+E+Nx/FHLQbdUFzANWem9S9nWRYTIdunPXEKyXSGT90fhBydIS3aqAMbCVA9HeGhJ\n",
       "EUznHUGtIOwu9GaMbYGF/PUbIXLtRb1/DwmX6CyPlXOI7rlTLJ0fIpQoSBsYElcMQEBImkl/yadY\n",
       "9oLCvMiVIPsAbMfKaB+s0SmgVX1rms+YX2UNgSdZBJXxGUFPgJt+5SWUw2tLQ4cjJpaMtU4gaizl\n",
       "PLmNP25v1nfU4kyoFvxsIyHnmD6uYkLfgYDm6euRvpMwXLabFUqJV6mbq5vQAAAA8wGeX2pDPwB8\n",
       "SxX/k7SmvbQRU9phYTrm5/9yyqMzAxC15SZK3KsSs83nBvNhEHNOXVo3ou53HEW0awcAJaMTl2VC\n",
       "pKBAAllg0/kFfgR/hvW+/mh8hyR3j974lhqD8RCHIXnD/66Kgn7RGN6P2kG4A63vObqxiynJlm0w\n",
       "KuQ1k4B2ioWON9O7QkFi+wHIxIoITIgpAxJhCeKSRMfEO/EqlJ/F2XNDjaZf3E8iRbTde6IyZGKU\n",
       "zTLOMSUjVHzKPrg3uu4yaqmHTLPDnSC5ervDXlaGUwcGq9YM6+fMOSYefquR2KCLTwsfRt4KtFXj\n",
       "QsI+THouIQAAAzZBmkJJqEFsmUwUTD///qmWAHdKeWOYXUe90fW0kvttKjS255NccjLXrzXeM+/V\n",
       "ppkAa35gwy79D7pAAE8JK3bA1P4ykdrNCTeeckYPtuluxle7+7DK8fPslWFJ2CyTJsMNejVjjYsm\n",
       "0wKTl7QFfWv+qrDn4VF5sfuwvL23tw5rif9xqteT+iWbBCXAiwmDmFHgqAp3K8dlKBDg5OVxYph7\n",
       "VyN01LYeuzm7xSTPzZl5KkHeXLOWKngW0WxQCzhckqb4LBQ0SWhJ1W6Bv+jSPsJEnaEfKWu4e3p8\n",
       "xcEVr5jnMOJ+ews1m4UoSpTjG/6C7roIWZMg9aEdSHqyNcLuV4S3EbwFbnyu6MPRLBNVx+cVGuHw\n",
       "KmVQ/fYuBzgpI3H4YdfKreNck6zYd71zDV9lJ7eRnzrjVUR/+Ody4CO7BJEWNKOMbRwgYXQQhM5Y\n",
       "jPfpF1BKXBdv0DjDJo16P8umIYCaAtPqOf2GEESauCwhwWbhFXs4CcWDWFYawBf2K18dsfjoKmoZ\n",
       "Mdg9tdktX/PZTbyC1NpIVLyRVk+ZCCEfqdB+xpCzFVK8+8KO8Ckm9+r0INB0uSznKRnGSuzyJuJE\n",
       "jx94f0zCMs+9uMvhv5qSLRrG5JOIscRh4qsVkQfxsw1cCHue3p2MfhB//cTdDei3BtjVt7KL1w6a\n",
       "Ys73NEjfpy2kEdT1DtuSskKbdI57vNSaepRjLlcujNlpqTziZuoTNDoWaUIxsDJK2UOqYcDZumve\n",
       "vTGsFJQU4TVhNfFIWO9MEARWWI8BNYZNiVMCsKDbjGkawQZA0lisGHyV3OaTXukRHKpkmYi8LIbg\n",
       "f3DANjo3r30AdJfiIsDvli6oo1oI/8sksZ7yaR+Z7+SPU3bqmjlWtZ0nlh1LmkGfEalj/XSR+Zmq\n",
       "ikmKQ/vRo4sMOySUlNP3kEmR0bQU5HEvdBd84KQsdsF8jZ3XMGim9IrHc9rPZwX9FxJ4z/XOXYsG\n",
       "eImZrtcn0OMX03GuYrkKvjbNOYCU7tT1W/sw1iwiC2Dj8gM0ASo3XoLzIDU1ffAIaFfbyf4Mn7cM\n",
       "dy4S4uev7qjKx4wY42iMp9IHsL+cmm/ftTKVWg9qRaKvrmYAAAEIAZ5hakM/AGmNhMSRTos7D/B4\n",
       "xs4D514zRUlQGHU5mHHjha+l7aIUrDsjkJeNdk+eytgVjOnFBwAfqigqpCh9tYqe2yCNi1rLwaoI\n",
       "1g7X/vAJB4VW5e7ANqgGZjaPo86CT2l8XHdWgep+afV7IvU1DSYcth1uuQHmVkiBCI7sNQjM54Y3\n",
       "MDvrwh8JUs6VGccWN6OzdnKeELVqZ9+iz23Izl9Vnln+WHbSJ+f4N1UErRYzsz/uYdV7FWRi6Sad\n",
       "qdvDULR6qPy2VQOmAV7OaXvfM40oM7BCK0MGH9xvDgOyp3/0Ld9fef1clsevbutIr3jbKEB7FvsU\n",
       "/AI8lI6DLbV/EFJMLhFJpmfBAAACbEGaY0nhClJlMCH//qmWAJAZ/Yjsl+smOKVbQaiP4gXh+XwA\n",
       "sPq5YzscspJdqzat18tRcdfPuEW0YUwh/nE+zklAA3SP+H9jA9H9BULR8EdEgZsvbdZwLZaZrpvL\n",
       "Tw2xlLeMy+/E94FNuaqjQSHPGcL5cgxTIcu+SYEyKapGNOHzwY67GGtZQ2CwHnsebVkKkGYqWohL\n",
       "1cA0whCRJyCYVrU8cAAgsnkaPafX3i95RmxQiXc28J7r9BBIXgYFtHmiPlbELAEaraQfvoV1RDMP\n",
       "wwizXpiqi2ruid6vX7TOzpwCFb3un2aOTDm0LX1diNBbweeXw6JTMGk/ccvuAzoVJMfu8odHX7zy\n",
       "HcXVPQQFW3FiMBXUtq75BJaD1KFEWWImdiIAvo3E2SPU0V98ow4rksO1yvZapjMJ4n4befj//Ojj\n",
       "Q6zQoeliDkFtuTO9rzt6zv1qXF+jjrFDfoGvPokpSs6/EaqDsBqQ0VS5+mw40i2ddXKQH4Ks+Rw0\n",
       "72Lg9RipYP50mP8Zj3F+ywrF0YR//dPaOufGmGmS0QT47HLHXlr6ZRRZc/HUl7uf9VBUCyDrvSUB\n",
       "4X/Nh7DkdxWBwf8LONJ41NViFFtclR+okRULd3B3AVdNtr13qDzylV3/Tpj8+csyVrk0XIbuDwId\n",
       "b7voVH/ktY/C0Ghs8YOb2kQ+FR1DrOE+nFyjAgNsuOqZvVkiM7kiPMLLKK+uslfokyg+H9DGWXSd\n",
       "0oVJ/j6nMSqn11th3rizqhIVXnpxUD13gjxsntbbC+p759ajVBv08yb3HgA/SeAmiMvvZw9WyvmK\n",
       "xq8i2nyBcs8rjW95kjUvAAACLEGahEnhDomUwIIf/qpVACY94XOruC+hGpqB/dKoV8mnV9r+Sb+3\n",
       "LHfqNwGVXZkzxgU8wqDR+36wTs8WMN4yMazskIN2MA1n/lyhFyUSsTrCKsdU77SPcs5ul6JqQJjv\n",
       "1bHQ41vSw+Z7C3LGoYItDl2v8Y5Vgrk62iADwAPxDgqoEK69NKZGluQV5yf+xsv5+TnYuWc5Lcaf\n",
       "UuRKUFg3X2HITXhIPqQUbrel8PTDCwE12fiPPsQKvcEJgNcjLeng+wfpZ+gsg8Ao7MTQs3A8NP/a\n",
       "S2NHRvIlGCvUsfcpWfO39uaoZMpb3AJZW59Ugd/frOJNhcy/5bSybm6l7vuIglTULqztGtmtQuZK\n",
       "J3WXpIvR+F2Kg73D4UDA1oU5PcwIyqAgNswVCoG/jI73hq2/BbA250J4ZvaUbYB7sKz72s6eDt1C\n",
       "+pvaWqW2PsCFGMQnzFyOY0RvBIa3x7um335X8w2HhU03ZRteaqLFkEB6z06Nu7YDL+H5F3dcTmrx\n",
       "kY9fAqXfnj1/CnhpIfOfRtQcShpIwiKybfzLWrf8LpG664yQL/QBKPxlvsll2LYQBhE+jYe8fPnu\n",
       "Wy7C2D1/499PSgcz++DVbE2Lxr5l1aQ9Zvvqv9HcgzxUhUjwFsHUSag1/0zlNnCHyuLAn2KtQD1o\n",
       "wL3ZNRgPlnl8yQeSYeMB+qFRxGUyLWR8Wb9YpMLE9VzYEEq1+rJBM7bL9XBdSJaoMQlDzxHeACWM\n",
       "T9xe92YAAAKtQZqnSeEPJlMCCH/+qlUAJga0EPAWGewNy8cdn5tKgABYdExg4Y/+0jD9PAOE8IIs\n",
       "xULFEjO7/1U7rah1SK12t/jTBF4QAh7kI47j3+6ywqAoBxy3Y/fOpPTo6aAjjTO/bpW477gIQCjy\n",
       "yyv7ds/GnVwvB3z8r5ZcvGgJTCj+oO56w0LgHvzJ36CalLlSwXj+hmVcO0rAKj3qmG7hZTj4Cp5O\n",
       "h2T5jCQ0LTIS+eH/aJIfqbTLNusZFK6cdQbPyAHI5uG7FwyOeG6uAPz/4hSbjGE39UuGJngByvBG\n",
       "SP3SAGTQhEVeR9DNN2npipUcOHJgPUVj7FvGANXAvqrAhoWZsx2qT7TGDjXGpuhBLb3d5/jkyaPN\n",
       "W8+RkG9q66v+osvqQiHAqYpPEs2I3GHVN/xnsVKRzyPidytWH+8NtQbkcFuk71LolFk3GXoLoaxh\n",
       "BiFFXouu6fgYDOMohpVrEJ2fax+cUbfjzBLwAPS5fpvCDNHq+BLUY5PhrGy3LvGrsufN2V50a+7S\n",
       "fQxCY0H5ZvuS6ow/M9maj79jSGOYNKz1eAhABZwuGf/ObxBt+3rPQrUQd7ceXFkAFf+I/jOk8jEt\n",
       "gqGWBpmHcyrRJePWbYBrRgrmGAfmoMFyNNbuEmcnEvs8JorVxvhs6uQ5ArNBFqJXjClq8UaWiIwD\n",
       "fTheBfgpewXDjdIcOY/iMH5ohHLNfXS/1uL0mVY0Q2rndIx4vQ9GRlDKXUCjp0C1Up6hct9pSFe7\n",
       "K5UGiwXXAVj3xwdhmmGJqtb9LxAJ6etoXCQYjOSpN9ZhCMv7Dx0Lrw3P7iorc8HXt6+XdIb5B35S\n",
       "BcH2mWAJxez1DD1fM8vKwKiTQirA4GuOYog2Hzc0KbsQH31vdJbLbwQBZDywpaa5DPqXn8AYCZxY\n",
       "7RKRS/vzgZ08oQAAAgxBnsVFETw3/wBpS6EFr4o/1saF5d8+EA27IxLodHesum6cxbX1pcfh9ilu\n",
       "lmRcvGHZiYxgb407hJZVdVs8AbvLy2e/85WF3dTtChGgLVk9GsEHBRbOeDK8pz1pWkt3EAJXE+5w\n",
       "8zwE5xPrHU4NKjO3Mr1CtTFoA0ftCLGGJbbbb8eEb9uLaR+fgVBaa6tmxsgjYKfM9Fs7E9iNdy5D\n",
       "CU90xV1rWJ0CJPiWVJVdokIyreJskqu+EXkxp3Jd4R9q9CduuJ48ovIqLGLHNjVtTO3P9ZM8qqNg\n",
       "JxeFkP46jrVDATJRimZkYbgbUYrbTAUl1r5hW3RGWjcc/e4iZd1OVXEPml3IXmtsjaa55Vs35D6q\n",
       "Wkt+FCZoNdU2SeDFnfA1kERsY/4UfZRBth2aDZ6NFgrraRfQXU4Sbq8Avw9EWRqlf6WkMsjaBWDb\n",
       "RoQEM04r+P8MgQAopQevOw5jizjxrLhwf08JepjlzA8pd+gB9QYViLDaafmPGVjvJQo8S9VNsU0p\n",
       "zekxEnCpPwVihG57DbE5U0LnjiLXAWXSW6TyEmiG6eEjmZYGkbF1S6WVmgraliwUl2QT7Z0oYzZ1\n",
       "DPgIqzwxw8Revmcm2x2TDo2RWq31G5MVo+2hRtzbLKNouS9uawLYbfDetJypr71bhqvU4EntiQyB\n",
       "Px7o4DS05p3ahWQJkI3ABvY+7o8bRVy5eQAAAb0BnuZqQz8AfvTfL2pN7mRB9ihdkbzU57i97sc0\n",
       "dTlrWSx8HKc/Cc2JBSKsYEacgTnY7FA9dTI8tCuAVMWG73MZTYoZQRJqT8JGbaJOPEccEo3Srk9T\n",
       "zshAITwbOy9wvuLth8dCMrcax2dAMk/DaqdxuKwUDZNNzlvpwyDIwp1kqG6dGwSjZpkALIUuPfVT\n",
       "hzYchgTR0woe1GtrNckB+S5ROG6mRiO1AG+zSJX33e698ysU5BodMTrO4nIwveSs53uxH5xkBMBG\n",
       "Zj61IoSciw5FkPcKXo5hy2pS/i1KkI80jomyosHP/da0u8mUkjWlRqW0TdVzYGPopL28wijhexhP\n",
       "PIhwURTHEpJx136UcQVo+gvWMYA0qA4bRLK6At4TdCbwoK2NBAXExR52YWXoXfthF/tSCrx7XeV/\n",
       "PL8hI66h8eoPRZbbKWW6SUKwkialgCm19DoldHgZgZB4UJZyXb/RoFHGWFyixLkprbHr2AtHJunq\n",
       "eKjoRrqOUyfX3nuGe4vM3OvV/XPUdaIt470e0AmdqO+ToOqSxIzcoyPyj9Q+W074sU7gjF6hZ8aN\n",
       "qjpUnL1nDEno9WaMPtXV5lJAAAAEG0Ga6kmoQWiZTAgh//6qVQAmBueEKulYLrZC7SUt2AboxP0E\n",
       "/3gGqOMeLELAJHrZ/sPIatD8VMNu6d+ydqI6TRaXumuZL1QQ1MJlwX9/rWlTDnzFHHQROvxHDg2g\n",
       "gZUTW5if4Nzpw9BisLFYzGMcRtxYyXbpKXiL2yJk8q4Ohf/9JI1Q8x575KBBrQO0EiCSTO7QaRgD\n",
       "Epc9Be0LVoz/A2zD3PEdL8isTtTznHm9TcAdBbReAPdVfR5V6dglYlPgTfpVCOColii5uIJ/n2WF\n",
       "wab3wC3JzC6vkTakVcbjDrBg+PhFfGstuJ0buWAlcr/76wTY3FOc229Zaap3Hnfvlg33iVxcnGD1\n",
       "wEyV1i12hudD+AyiP4pNUQ+KV551RVKFATGK3JVU+VYHQbWvWJ7lsxRaLMWA1A3EWgJvAeRLHlgO\n",
       "lzWKBxyPbSUf+ifOHz8YT++oKkDugLDzpmAj80dVFriSsw29TSKlYvYotKglgZWigV9E9vsXJmsn\n",
       "r+KJf9cSnXkUh+6kugThUgHQxij3KKdakxQfd1Wrcgwpm44LkTcrRTBzYVCIYdZM0dh9AMVkEm4b\n",
       "STcu0yMGyhovz0nzxW7ySIP305uE/6URe4dw7AMJWndswpFUvh5X+RhRtO/knq2GqfjiQGMJICWL\n",
       "EI2rt9PN2GyYatps25bocU9q3emIZy54ZsobHNl0u6XdEJ3MM9TtWEqgxDsDEOQvBY14gWgz6LS2\n",
       "CmQx51XjKmPk2Nv00upO2D3BwUuTeHcyzQ9w9pgZVw/7/cdwdr8xYnA3oHeLq/e/WKA/E720DvyF\n",
       "QiKnAj/HOUG23uwezg7wVhYvpMiwXIiMWYWAJoPoF7XlskpmGa0REObo3G/7krgdz1uidaB7VAB0\n",
       "o80hAqDSdYn3Aj3GM2PR1EZS8Rh4VyCr9GOAhICPtBbFCearc2n6G8EJv2CQEzBXxpMu9AGxvsqn\n",
       "Sjf/nmOqMwv5SYR4PhIvcFtplRjGppJTT+cnKXoZw2OcPt0BFC0acZce8SwPtzYGaWELwR73l1lA\n",
       "m8oMjrWk93TcnVEDv7SOEPTojnu7vgFtOTgWEPe2Qf/GZ29gE+yAK0wpYxhq8NJuBWXnQ8wS6KJr\n",
       "iHRgwph3cUzqRZC4UQ7qCi06yCb3aDmyobpN8Yw7I96AAWuezoLDofTRH/A6wGNhMhTVVav/7TIU\n",
       "RlfhinlZNpRL6vuifS/p3mQLhdGnkSMrGxEe2wTSNsn1UzMApjaG3voD8Ho+q0K6ksxLGKADYQhq\n",
       "X1ua8OQk37QzURpaLCEU83ia86rmENAfl3SzGVUDVr36fWtEcBZfSNVAsz1OC6WaoTF5Ui9hKR7M\n",
       "xr/5J8LMnE9EFlUj1wyCiVDhZRoisg1auoyXzxqRQ8rjJAEw8G+Jk/OvLhhGnrEAAAIEQZ8IRREs\n",
       "N/8AaUu6YWyltSPxfxMboNTGxEDHY9GgPvnaiGl87fj6VIWkNp5tpwiBrew5P23R5SxbmBD0nuAX\n",
       "SVh/SSjH2sxPCzsoCLixfu5hiRAhqPc/bHyRCAD97r4MJLP3ij4IJqeZTVGiZy3KZYxPZg/mx7KZ\n",
       "/ebS4t9aoPKDVPPFLydOngHCzspfK/Q6SLjpm9JZdJpCEDZR/iYsTAEJOIKqczzi/ggDTzyrKpGH\n",
       "p7VGKRnFe4HBMPd8aZkZKCbej1DuzWTvF4LbdAboMEzPA5ZdruiU2tP91cvpDm1cUJ2+lERZYp9p\n",
       "CeqrQRf0+x8IYobk4Z3dmkZwaYU1aj0WG4WLAJARK+brjZ9/svgDzmKnyguw1ptIWo17Paf+lgJ2\n",
       "N4A4xEPo+M8jHbpB8xDRjtzcvf/O5MJrkugf8GQ+znKlO5ul69na4Ss08m3GkFotcLf8jp4F/sAu\n",
       "A+n37chWEIIo1qtJfW/s/prQoi/IXDR+4WB+k/LuydBvE8EIZKPGYU71QnzCxRRr4+6+/ITv/t9S\n",
       "Jr/U0Jv7vKtAlT1BTdFgAc39nDaV9I40t19fxoyC79tFO1sWz+PlC8QR10tO7QMdU7EgAhqNo1py\n",
       "TDLkLWvXNZ9kQc76Z2llWa2YvUTMmQoFc0OTDb1HWZKbbeszMUiyX4Y3ypLhC7PDLe0H66HNAAAC\n",
       "NQGfKWpDPwDJIDAns+jE0gvmhqv12BH4yXYRsQm8WTbX+vwAg8xBFJV82vwjxQLKAu7oLgS/uqXG\n",
       "DkNaI3msqiODUpQaQeSiBIEvVOvYVaSTfrbvqPdpsYmRxSxKjXbovOfAx9PhockxQfWnLUdLAE/H\n",
       "UJSd4TW9VwJKFXtOQExYBxElaNeZ19eKLFNcgbi+IOlVYUDCU9JOFSAhw4FFJgUbCUaoIM9FglN6\n",
       "UXpnvYBwoqVMnFkMOdzxvL9LQi4bryBlxg/cGmJM4WNT9QqMIDAJc1xqhhvqdpjqjfN8fQ1kb0uh\n",
       "5QgF4gTGOrC6GgDiqNECfmZw7HNO7pRYfQOqBpNmKm5itopCm2Fd+d9xz0peKt8NI+In0f4TxaRw\n",
       "2TX6CY0IsMLJMn06EZk3SNbcNYNhqUIwW+ej07CFMqmusuk00Vh9n3xFbFQK7wi0FbFaKWYGUlP0\n",
       "XkdcV7RORGkBBFSReuE0k0HoXBDLAwGqDnd6RkYzXiLHgvWyOBeCtWFtXuIuYVsmb/I4JDGIDm9Q\n",
       "T3VkgbRwGAkHlAAqgw1HeQrshOKwQICoC5IZ7W9oUXyex7CD+skAFUhia42NZU3uCmeB6ULGQLaG\n",
       "u9oYEchY/8qVEe9Bv2dAm/GfFMgU1fwid5xr2UjbjbPODbvUVgum2n9c3o9sS6rCq1nuvHh6uWpe\n",
       "iSlpjzvVcDt5Puf0M6ocYTQRfyPowQhTjFtB74Aiuf3wR1bSuYC96e+/OsWVJxL1vJedBtUAAANy\n",
       "QZsuSahBbJlMCH///qmWAJQZ/Yjrh8fKIS5TEYygkZ5flccvAIR6PehIvg3UEHmnAM1QrWXzSV+V\n",
       "n053/zvhJConRmJz5funlgn4/rL9UNFI/Bx50fO8ZKcW70PTO7SezhZBAJ+9U61CIToG1IIIphEV\n",
       "AuEiuzXnEsK6ov4YVSYeb8H6sUEkIdFmfo8Z6BDxVjYvfvur+Cu04R96k0WgM3P3hJH70rW3KmoM\n",
       "5afDLYDz/YiowAcL4KXzkYhiI/+pp4+auCfUtfEbrGdXcTx4q0SCIlcQx3Rqw24HFhBIuWoZCcfo\n",
       "e7E0KKpdn4rJpBXkHe1V+moTn20rZAfvvyoZlhEy9y97uk0JUnvZO8K0OP+xerUoHQxVByDRgLr5\n",
       "mNnHJHgZSuXKldiuSbFDlqBrXv8bePjiBPNoOwuaLgQulMsQ4X8GeKuX0yG8qHArDNeRWPLsor3I\n",
       "oyqsbM6xAgTumBnFoolcPyD/l/Ec4bRwwJMj0oVHYDyusRnd9PLaBnPDfxplRMPgtIlW7NU8tMUM\n",
       "tAu4kPK2V18vlFpql/Cv4Q8FiY0SJxagljsPMHqaYaWuSX+j/konvHjs/uJDeGLApwHPjcB09r+3\n",
       "IIgmRfFcRtlUvmLNx5fDvVeYx9lES9xBSRgVlAfTzZVwqfP8wAOLCnDbC4MAKa78FnMpgGjtJ5Lf\n",
       "MHbqhn2n0Z+a6iFXh6zhfSfBxj3wKkLwRm390AiDKzh/WLSRlGe8dopYDZGl12livMVk+UXH+Qqb\n",
       "4XgJN+6Klx5RSHVTrrw3YrSTeWWWwc7CS0AW1atobbH8MFbzs8xZ+1ZpO4gjNh016AESLmb1UO9B\n",
       "fp2s3YYSGtYaRXl8acVtTLwQMz9WJenBNpoR0QvV0nMYr1I1EI9RZl9OAOPL3SuUtu6gqcrP8M3G\n",
       "SNzMcgHNlE1bDUXoXgrCvpitkwmT7At3m7Ny1/Fo1MO2cUz1HwFJTt51zzy7NwHBXunRLv2PRmbY\n",
       "aq/ciwB3ZiO3ALsMGoR2HfHKiBQ47hPQ/S9eVimaC7scBtMZGUAfGvKO8XL8r+wviucE6jVqbgB1\n",
       "ZTNOdmpHIE0z2qhfGOUBluevPCal2+Vm/xVZhK/HB6r4nas1yF3GkbR3FtKbkoWOkPOi9oukEgsV\n",
       "uYe8n3IooDjT368Wziwp9M9PEOh6LqA01d1hAAACAEGfTEUVLDf/AKRNGPILeUw9lbeYXZrElxWZ\n",
       "ChjNEfMSLQ6W/3fcd7in/CP9kJdpVEFfPvlsjQnGJY/27YZCTd/oia3pKARSlD6Pi1XWNQ6nh2dQ\n",
       "4Hw2150gBdJfn7hoN9PCD1+Brl/e2zm073m6Oi80xsWQbkQ3F/dPTIpPAr8tlu17nUkNDHhCzx0n\n",
       "eBoebn1mSA0vM6KMybM6EqpklzfXn5GKpuLRLea57+7e6lMX/Xd+c7ZFWTEZDwp3m6OX3z1eUNmW\n",
       "hiVWHNSpV+lAQniBdOwCzuWiLTwHJE4VkvLQPgH8OlSUjQyoLvkYW1cEdJo4tUlXJ6sL5tCrx9Zh\n",
       "4W987+TtbYpjW2T2FIqcIZGesWTbSuTBqJ8OQHQJ2HxTkK/emRdluby7V+gznqP9Dhw+FuzdmuGR\n",
       "AyHDwl/EQ2HjWMZ+uAcrED89esNiEvjlmKs+Egi/hWDAdlb4+ACzgw7LfDnWWIvk8KruRFtgDE+M\n",
       "pIxIIHawkrZU/tq1FFN/N4Z/7To57b6ZqJvdV85PlAzft+OZA0lNdbMxHDAWrnwbxNY0DaQRpMfA\n",
       "dtrFTpFyCmR417LiYD/aTRHGxEh/fXTeAeIlOBY9MeDbpeu96SSjaR+PO/w4BLmh1BGucKTTHUUx\n",
       "UKdApjqdDxlZgC+iHJ6GDFkEx2jC9gGu6l8fmJqRAAACOgGfa3RDPwDI9dAnRzK7oQk/3AJgNe0g\n",
       "j40o3G7Qy8FD4b4JsTHq/9vfvabILYn60qvPRS8MbwNoPnNtMiYqty+qT9qPnsiXhoGMfBPZzigq\n",
       "jHeGLuZwAtwJhcmgriuQxPdq1HGP5virL0MjL0zU2+962m0Wq5dc46e/MuxcqrXrMCZRJXkYCR4R\n",
       "RlvCR6dWrJdN9am7NGUwhVJgut/D83VlCZGYsVDeqhLeOyYni31GG4hg8hQeBd9utQnEKQve2qdk\n",
       "+2BWBfZ7S9+YVrm162hkD8YbvfOMhh6aTdR69Uwn3XGE6nTaeegUyg8uyZ1GbkHagI5EYmCbGUnm\n",
       "mdo6NnbFCvwd7aIKO9SDPCDEAnoGKeVk16oxl3931J+SRS7epvtozRpN3UC5LmCYYUeR3zicvcXT\n",
       "0MlEvY1rkqBA8+a2GMmthlgBD6qgsepdOEw3qFPFC0xNpY5AJn+dQHNn/2zwJjFKGdAJNssrU3O/\n",
       "ANBpRwcLllCoLF5LPMYCOnGEYaQcTZ8YFJogqDCpeExxmIrvH4AFsKi3rNMDmJDEPfA6z//XK/tn\n",
       "nxm3WHpf5uyZqmQP/j2rdNVlg+cB4ab0HffGHui6LttCqldffFmdS6Q9zt8k3M1vsQkSq/lpQOda\n",
       "sLxclICSzCvk7q5mhWeZjlJZ0W5Qz0kTjoVGvtIBBUvFRwADZnA3lR3PTYS6qA7uK0H/2zPZ5Js8\n",
       "QhTYJTx1B7uEQC0k8YS97Yl84M8x2qyoA1FpvpKSB5E6XwAAAZUBn21qQz8AySAwJmrjExMu8YB9\n",
       "B4sc1OUCl84tbdUc3UPR1HCRJByX1UUMm87T3ocJORd+xMyuJX6/ZUt7mki2AFtz8n7oevkmeMyx\n",
       "WVFCi421j+GQD9FYcN0sDHyDP5vdo/SiStjdszRwewAq0PikqySP3OACAtr/O/3iiJZoJTDjRdCT\n",
       "D1UdExAdexD2V2MuGTRWXupSPF6H3pWuHkXBnxu7qHImTbHVLQkf3cONTZURspT8xcdEC7kt4M93\n",
       "6CLIat0zB4hG4uXScf/p7q7u4FDj6Ei1x7CkvNgAfsSBsTaF2rp4H9Xt4UmMt9nSpCbhNErYIQ0W\n",
       "iR42RGqrCx926GRRskI6xdI9AusqXVpgI/x2Gt8GB9Z/deP0KrLyiayYxaqZuaDTTJZCPtsdg420\n",
       "cMVvijqizI4JtJWiJzjWqLwKFPVwLoa0ScPeWVeQw6SF7VSxAt1v6dNQY0rtNNp2TThZUcZD+/Yg\n",
       "xSyCBVbB5oUQ9LQzcrApaskHuXGHdSjoVrKePZ0P+Oyb8aHQK+uAac7V9iwAAAHVQZtwSahBbJlM\n",
       "FEw///6plgB6CpnkTItV4ib+nRV537ORD0MsKnJPMa3QoVgqK/j668NP/Ctg91IVAN5hD7MBgR/Q\n",
       "kmyPcixQFdfn9BLUoePPvYzu3UHXAERhic0GsmNgXt65KzBjCvWSOOiivLxSLfFeWLDAi1waM3FV\n",
       "L/VwJIxZPzPr09MCCwjEysXI8juQcLXCuHFAU9Hdt/pSaBycalmxsc6msZ3V2oJUAfL6z2qXztDt\n",
       "WuQrLNXyBdO9YEaiF+9XMP8ShYP4Msx9D060SIexVZ9JY23LaisNE++aOm4Ng1x/SaiHEjJScvFw\n",
       "B6Vy2V5s5v8cvxKnlUnrBakrgVhkfUns30WmmL/FY9s6Is1xipv2nPNPFV2sVj2uue91KtKKApXJ\n",
       "uuFSoUZmz8vhP3zBP84oicTRiMnvb1uEjsxVg7TMRbbZ3ww6i4k89j/xpqRauIYIIwdmLpnuDiop\n",
       "4kdTQ96BfNEmG03SUcUukRNHXJRrYz1kibWT/5xAVi3/SGXLmhAy4gxuI7K0welVOMUBEyNdSpCM\n",
       "Ix7z4wd1ZnHcFuM4AzyyXGHIN0x1q0Z3b4hLrUoqErgMA1YyylUToaw94ceMTt1StqrsyVFWQh/+\n",
       "IvA31gAAAWQBn49qQz8AyTKgXiAnS8hKg8JkvEuiBBjbBNoElsvm7PG0z0Nn7iSNpWOWGUztXCDS\n",
       "gETpBGU68fnhR/WYAS0D5mL4RhBVE8TjPHbgODCJynMqN1lIT+gUVSC4deQQGxLMKg/JI4FLIXto\n",
       "43Bu+LygcmQFqq19GnuMkVW/SdHiYjrZbCDj5n38RBpeYryHVogCUbmtbo6YLbOr/i9wQ9xw7ODa\n",
       "hcyyXLSWsMSg1fp827BuNwR14/X35YPsNeSrMAeAsl5sB01dKhm8CcrxJPUhu/eHQYVxe+awLtt2\n",
       "mdZc0Xj7h/wkwIIBXPRyM3V0/oh+70whgWKK6bKt2g45rXUQV7q0rvM9kkv6jDm1DXr5udoCdA82\n",
       "mFYU43pSMR3kNvuimboc592qfPONIQx3szuNQVpbBk2RBqUQV2BWZ0SPL7z2rO3U09sFE9KpoGDL\n",
       "LBI1cJ5RaHTY4w1zRlwBTNaP5VlI+QAAAf5Bm5NJ4QpSZTAh//6plgCUGiSI7AtV4ib+kuH6INFX\n",
       "61+B6BQJiCCJxglC0/ziRJWyeaHd2TlsSCtGlbgYKj/NErEzNx+20W99LMWDft7rKMov0/Sf5dfR\n",
       "IKn6H486awzVPgL5EniZtj78gE9a1aW9zH67gAemZJxYc5tMDVtM3CbqhTcTiJWrsjCCc0xjiRoI\n",
       "Qky+vgrBIDsPpH7nLGhRcoRAs7HtxI60jzV+59p13ZCxWXOfP2x70RAIMedUg0u4NjaitjHjgg7z\n",
       "Y0I/BnRaEn//JZ+aSHD/i7IkdSYM39WRSJtR77vUewWuh0bl9RWNqyjxbI1ECwVDK0w2DED2OKbp\n",
       "2cdIDWsk04GOhMzKxt0cv1tGnZ+zupyNbsMcFuTPqB7flvFQhjOnCFPZ2/fSyaq5XbJKPKV7OiVP\n",
       "nG2UFNfQE0zEhML01kXQS3Vp5e7KSQhFe326dyPcKEn+8H9JPDKCVvjg4lc3vKnYim2yT4WU7Nf8\n",
       "eLrrfqYhwFoH5JgOOksJOzs9j6QekPpVezCktUyQm5KSlPSnYwm/2he1bJxjMJOrpyCZTn4wrPO4\n",
       "BgqCLDWpBI0CQBVwF6TF00FM+XDRI5MAu0JbWtZgibX/BsxH2aTpNTG5OYUZF50FHG2hh2r9Pk+z\n",
       "0IxLoREz27thq9x4edCOkWx3I+ESrogAAAGxQZ+xRTRMN/8ApEUvUhKa8em7b4qu5GPvUny6LSvj\n",
       "C96+BuEmsjNexjZ+PXM5dETxAU+zTMbRXmC07tM7IUaGXesMmoURH7wC0OGX6xmuRABc+kT8hp6v\n",
       "INEy/ZjNQMXJiUz829btZadNACqS9mOFKVqHUCnzIbdlCa9tLMWxwCwEjNW4N5EXVzAPPv3Kba0R\n",
       "yfrzVj1Fu+NBFVw45gNeIO2GJWlbHeLBdK6NjRZhIxSuoOpUSvjsMBwqX2U4N7gqdJZuNjNocPId\n",
       "sFKwGU09TGvNiZCWLBvgGjf96ZgEHDhX9inssMNq2v5Vwx94gUheV8yQETbt90dJxm3ochWtwayP\n",
       "upowquv4asq+nWUL2tF2LH1wnfFtUe6/Ymq185kYXr9UPQfEvce2u4ldeQ35S+kSQWsW2rvQo8mu\n",
       "LACryQXXl3c3ai3DMaT5Lfd3pNsyvT3vhhx8pk1IVlUHMaPS9DeP+aYbpD4h0sz8VDF1O/j8rOAA\n",
       "QKp5IUYggXOqr7xOm0PFzPPPJHwQa+5SoXjHSgq0FwIiTxiRJZWG8ayfINONEpT8OkdjmSAsutdE\n",
       "+ony2gAAAXwBn9JqQz8AySAvaG+/18hqAuactw8OWUmFmdh1E5RY2obirea93j8ZjwKhtr1LjDJW\n",
       "ue4H8iujg0sYkABLVsNkWesxEo7yrSs+EBhN+TWPZd6bC0xq+tU4BhMQ6RKjqNp+KBNhOK58qYq6\n",
       "20r5DZQKHkjoIBkp3He6PClsd7MSAe8D3W410enYYKT4qjAjSM9Frr+m0pVX/oFcl9WSBE/v1r6r\n",
       "RvwjndeLI2G+kYhgxQmiIlvQXb+Qct/ZMvxQkbxedQPccwLx67uUPHIzrAdsvBxirkBj/PdCppsC\n",
       "7DLVbjnbIdpTZcA0D1b7kp2043qMActd6m0PsW7HOeN94P85MSuvkSOAzRFvJaudDo0ZgI2gk1dD\n",
       "9iSqYRMIdVt/BuGPTrzbu+M/l6M7WAiyPCCH9oONydGXW3KxZ95njo6zJP3g1NlWgoxtgTPXJIWW\n",
       "IwNH/uZ41gZWDyzaeVG/4fBqJphZ1RvMsHLds2Jo8HKb7tTvNV7pLW++SZNgwQAAAZZBm9RJqEFo\n",
       "mUwIf//+qZYAZ6P+jVzJHFldRtUmqjxfznhzqMROmW8oFqaycT+LWxeuGc1gbc1AcA1bQAshnjBa\n",
       "svVHSIArSS1NP7u89mDIXW5/DP67OPVbd8xGC8iQKKu5MJxepr5ogUS5Py2EgdY0of53BLc3HiC/\n",
       "VB/e99rCCC4+nWjCqgZSaCIPgXlQMAEzaDyq9S/nWN2Bth8weTlsEAGM+sfjAJtBOkmIJ4O7lwzx\n",
       "at7j7jH7DntOtJZ+TkxHIVnfN/es5plPA2HTRjp62IhFrLzcqRP2vzpxhWOrlbhz23EMa1Z4Buz5\n",
       "PjN/J7JUTxFTTaB+RFyRW+B9icd0u0EaQyPLT8CcLXiLoQ8ck/KNpl8ctsHhtctmEq/VicbN+foP\n",
       "fdHUBH1PHtoQ/wSHi5rAZUouojgqxjOGoxX/MgCI1DdgiRBe/2xhz7jwpixi1XysnzY+Mgn3xEFz\n",
       "Kgj45ODeZsT9+uWMfrJpJdqRlLQdkwOleUWE8Tw17mfUvmJRBt/zCEF3z/0uGIvO8i8lBjk9leIR\n",
       "AAAEc0Gb90nhClJlMCH//qmWAJQYJlR5wtxx6bgDZeFOAdQA6VtmInytFo8svTnHGPBK90DmRNrj\n",
       "SDDt25oGLLdUfwpP3dRgArXdEiNX+uPJfjfJpBRle/67q7fD0UEBGXr/LN1DcxKXkSZ05vAa03GA\n",
       "6l0JAlTBD2q6s4BtuNw1f1ZGcBpXrfDeMA92Ky5IOuSTkwQo0kDAkmQEVZEu2U5rJdflsG36XdOT\n",
       "l9T9SDe5VwyEP0uhiqSxGJoYl6CwJM9jf/8rN6p2+LcHQPV6p6l6OxRBjGrWEP9enALMyawNbynL\n",
       "Nbi4XU2W1F+vn5pCdN/8BLlqoD8DjBgnj8pcqCiF5s9Z1MGMsFSrirPJ6TpeyVAn6S52BvDsW/Cq\n",
       "VTymrRmWH8hRnMDdnhcKYyHuhxhSNU01Kc9KrNL+YI7nacaFoNpqTUNb8FmEa1WoM4zuIxfRpPWX\n",
       "HzjFBFQuNlevqfmRZLsVKc2RKQ9E4JU0V8UYmuv8kEjxFe1xmq3EmOGH/QOTPm7irte17A6pfMTX\n",
       "CPJLwTVP/LWS8Q6i8eYfkBOwFTDcWS2bgCW5/bHhVHJltQvSb0nQOTQEqmgwEXd72BQZxn3Qaf8P\n",
       "iVpCwLezd5VidI3WEO3oE0aZb2QRhj0yEXdEuZ7E/a4wXlGE+J6Y/2WXotBbjyeKh1koOW6OhRC4\n",
       "70E9jMhnvzJkmGCXJPHQz+GK4x/tQ+yOBwrvZblmXF6zB3ct5mHPfjIRf7A9hpK79Q34dHi1OXEF\n",
       "W9H8/KhmVVMbOyoHuAafzmL51jbGi++W06bU+4LjgcSip7rb6ttgv2Blhf6slU/OEJqHA7QTo0Tv\n",
       "bl1VcbtFgnoOLZnZ4JgFlQ//SeMM1jeYB7nCiCfHnDXVQSSv0pddg4cX8BfHXdFquF1EsJUT90+E\n",
       "zTZPdZdFjt5D36ieSchaZjNfU2g6K2gtDH/I77hI7u23FoepwIStDujr75nPLc8Sr6lSzghRDCLo\n",
       "wqOBVGaJrPoYt23mWlxExmfzcFbSKp6GD/0zLVa1jj+TyKYENQtBcyuRWJzKOvUZfUEzO3/qN1E6\n",
       "PZR8OKyLszcMqACpzLif8gQXFXTQKTBqTgSzq3HPZeWjFtCodaI0pVxhzvNHvEfRs6EWiRijVL/K\n",
       "rHwUSsWUIxvUo3SKYmkMk4My/vfg8z2SFpBUCxuxKm7Jq6YCvQB6CxrKrot0YFKBviLz5ngDII8J\n",
       "xkhEnc0EUcRkO410THg9saQWN3vM3b7QULU5AcTRJVlrmGPGxbJunFTnQ3r4HiPcM8Zql1V0Lv6Q\n",
       "CUFUWMOlq84m+RRDG4Nbmxd/ougr2jHEIX+/cBCkM9ddbB/0sbZ8MYFbFK2uXP6YZ1auwgzRlmva\n",
       "iD06uFn6esS8fhMVaChTyY57X7JRu6+niMWm0ZAdS/comF420Zay65fusML0UVVF0eaXX06bUK0f\n",
       "TQr6bvFu78+1K42xkOdK9L3sdSKz1oXLmu+aGUlZh56dJ01hiZnP//oIdRP2w+SDPQ84sryTm1sh\n",
       "iP1JAAACLUGeFUU0TDf/AKRFL1IJ/fXW5wiTO3DkdaL+ufOQRlg2BwOUSQA6JlbUKXp9uBewqQ3Z\n",
       "iR3/rIFzOGCPF5Ekisuo5kXqrPGM2UB/OOU+hIoneqCWNTfJUb+YEmnhMSOPXJYS/w7CjzaA3oBf\n",
       "ewIVuV+bqMQgIgFAbXdnmwcpUTZo+scCK+QktO4ogfjTeuUDoiYzsme+x/aY7Q3fBFZYwTa2cwLT\n",
       "16aWCeZX+6s7uv3adx73SJkdXWNENN3eoqN8X6hcCEJyXIa8C/LkqSEbG3wA92vWKORZYxaqDx2J\n",
       "2gWCzaWUWgP5wdz/JF1rjPoBGOVFbYKtmrUaf6oaJqrcHcyfPnGXzI5SyLwB7bkPYv6PDSlm44Q5\n",
       "r8r5aEtgn1oCD/u9S5qDf3n3FX9OTnVPLnWNJRPSkNqRbYAhO9cuk/hoYivRkrhrkg+LLoIhMN9f\n",
       "3y8mNG3Mh6WIKO7gyNcYImqY4hJ4pCc1K/RvDqT5CYNM+Ve1+VLsGqyDwhFzKG1l2+8WWcVasv9n\n",
       "NzHnIqPFNP1SYhqVm28xL7oUPHL2+4Cfm6ciX8ZdwPZ25FUpVEabA8zu3YGVURkmMjdMzzVxBmoP\n",
       "Pf8sihw/T6fJc4dg/PsIc9+xvEc3t1pm06FO2eeS95IgoomlZxAqb4uaHwVznzj+ivkKIv+leBpo\n",
       "x7sUSpJeRL/5//zaawlL7lJXrt/QocyjeDMkRxpnO04V9hkUBGe6qXlpX6ZMAb2I4CHgAAAB8wGe\n",
       "NmpDPwDoG09/gzv9jvu6xGejHgE97D3rqMNyrPWAIODleB9739nm/sELcdw3Qt4ZHCC6AcFt7Jl5\n",
       "QrhQ0djHZj56sHQXwAefIzmSQlRf47B3C3SqfQm8h70+sv9YiJuZ19tplqju4Ou/SnPjThQT+rZ1\n",
       "3Twx2msEybigvd0A2g3VnzF/COjwCIrIdiUnlZ9IKg/kYU3/l15pAVpyumQVCyBf50qpuhEfDMTp\n",
       "ZjVhbnAjqemyQyqfdl5DpQGXfdcxxnW5ktBckUttqY/D6ccRn1APdRwDi9QV3s0YOY2oLKIYNgQ/\n",
       "pQ8gz33Oc5o43BS1u18OegS8NmXb/PkmQiJuuU+rKqvNamQMKY/ZZ58IDGa1mrO8Q4wUQAFleMeW\n",
       "bss6naPyCMcYKy7/ayhMWIKI4+9FLCMhsuW0s/emGwkZvtNBkgDXN/3HkLRpGfVbncNyjW1tuNjn\n",
       "sEyPohJ/6y5MPI8lF/cK5wuhvRy5NHJeyA3j2UfQj3zIz+Jt/HkZqOiGbh74jwwa1ZWSgr8JhLwW\n",
       "/HazI2LRXOuAhMruba06sQL5fzvTpI3aj0oUE++Gplsd1l/LqCZ8gUVdpcrV1Ms7z05jOSPjOI3E\n",
       "8IMz+PV5C7us3umSdcnTQSKHrC5Kb+cjiYyBuqEBVNS0ynnqCDP4asAAAAM0QZo5SahBaJlMFPD/\n",
       "/qmWAJT9YpnUtSMQsq6r0wvaxG8ejlAUAR8ec8II5FSS7aNyFFiX6rN17Ag36bsVG0SI1f609X/Z\n",
       "NEE0uuAu3wWq4unKIKyBnnO5CahvJn/yQtpXieS/i0J2w0B8FmT0BHDmc8nvq1Cg5t6lCVvGv//v\n",
       "vVlnW8T7lcIq/THT8DcDHyDDkd84ud5i62Xfs8XongRKNsPfeCKO/JIuI/x2efn+hB2Wz4vldOaF\n",
       "w4UlSA9c9POQuWcbbYXYrdWZMwa5MXgwNRavjMEUnz22IL6IWTzalWnLUul0TNrP13/GyaO1p4lH\n",
       "UH9vciuAboZsBZ4bQ5NeFoo0xeKtiFOMV3mXplo8vawp+VnVoawfdBZAfTEb9635Mb1Z1wlPf6dy\n",
       "SHHJc/x/lQgxW513+qwqnltBVlbm0pAdw2C9p+7AbrrRhCCcJducs0VwD6EspxxnsqG/7E8Z+dMp\n",
       "ZuqRyWXn+hfKGrRhdgAFX97FFkTZC7GuCU2VW9oa/R9hjbcDiU8XKeWkHOCdrTdm3o9jug6aoX3M\n",
       "H7y9QowRAiPPfWDVJaAd+mCR/57JL7o6HYuWuDW1CpDYDaR/qhq86gLiSaF7TUkq9G9onHFmCAeT\n",
       "PLCxoicHzYbXI51iiLE99HXkMNosAxp4gfptnwLgIn15hcgmQU8hS7UwTu3JqnOmnl4oq/Q3zqYB\n",
       "oXGCAIkM7ALOUkFkA9plC6MZ9A14qtuMMMCP6dxWRnJjL4ecQqOFCgaUTn7GgLAzoCdWBPKA4om4\n",
       "a/zGFv8v99l1jM83ye4dX7xZTn9TLYBcaek5D/CaKCInnNIv6lUnW9k/1mAOdJbVUVqNLEKusDgR\n",
       "v2CJ1qjsraD3zEfoi+g/DtvTRkHZXI9M2yjDUbqE8kxpE5HFhPNSa+DOF/8BcDc6nWcs84ssZrQz\n",
       "6Efn/4sh64cZwm/NENSZXanttvQrJFglgy4YSuLCjhpgFrX2B8yD5EkiokRHAJDax9wht8O+uJDh\n",
       "gcxNIbI55ROB6X0OsnRUQn1R2Sm4SeBpRWOXaYdbE1o5drJuHrDx+PVcW4KDsq0HxjKuiiHip+dv\n",
       "poO86bNONDZTiQAAAmIBnlhqQz8A6DIkZJ5HjepIpSTS6qRZdDyiViLWTc3hiETAAdF6tnYatHdm\n",
       "OAegplntMflNj7V8A0M0cqaaA9Rua5gvlXqQ0Y9ZcV3xlL2/kKmoPt89OZ6X/Tl/aXSSRKAFd5O3\n",
       "K+tgMpvqf2psp4y35g8JsK7X54uxaKDxu+JzxM7KeT2Zh6tPJ7liXSsYoMy8Baa5kyajFjn5Iz7w\n",
       "lnnMBmZ/XVHmgxGuLVfiaPPUNKfWJWDc2Gfb08OpAeOV/AV6MoZNdeiwZ2VCeCbjoFbDk5iCiito\n",
       "jytiUVOaFUmQ82DYJpKmN4bYhuEJ9VPXQbFV3Q89qoSHugC1jwhanfzxo7SlCVEl7jlISdudc/DU\n",
       "p/nO8HTe2e4ARAWnoYj66rujf224iobzwaCut9aLarHLUxWaw9UHlvPBnVIl+JAcjREM7GvD2iWT\n",
       "A1geByurwPOcTQX2fXpwBIaqYyGZ/Yo5pu5ORJeKzG9FefmH0gZatrj5kXoecQuDj5jH5jUZ4KBy\n",
       "C+EZLPCo+Z903bDe9bmkeuW5Vv9JBGKXDGRLPXzdNQ1bnAw6o6ojkGk5dtCP0wqy4lcT+8uSHyHd\n",
       "9paJOMMr6ht9iIlAXJFEsGerM/py5TwF7gDgHoYk5nJBXc2T0NinLBHQTivxhRMpFPjfS0f5sszK\n",
       "C4fROi7y4FzMi3JgXVxhw55hV1OHZUAFUVN/5HnvbC7Koo5CNvuA1t4vE8GET44WeC0xuzcf3iyB\n",
       "Ljh/W8VTrOgzpFNjr0/6tnvlUnrUMeTybnCrfTqRRus8qrQmWwEllOuzzsQziTQAja/OQPaAAAAC\n",
       "/kGaWknhClJlMCH//qmWAJAZMkR13gM9UB6p/WeO30y5PJVbkMoAWb464wi5eNq6sqkzuWUDRFH8\n",
       "L6wMSJueO2PugncW6iiRE/j1HWfICujQJsJJp8QFt883UVz3SPHYxlS0/BC3WtSWXSb7xIuXVj3r\n",
       "vd10ocMf0R6BnkuY6pT/OL6KcFqCH/MGNB3cn1TRXTyJ+XgIlJ34nYdU1mL6/QWR6AGHKbnc9Adg\n",
       "Y6jknW9uumt03LWSutrrxGfMvEG0iPoWsdg0yRQdWeJZXvekMZJiqNRiIkDav7fxRKePlqiY8pQ2\n",
       "4s1vptVn1UXG9k1pcRNSNvhs4UN2rkv1CD90WieRJ6fOGIFkQZtkjHREiY7EL8gcNvTik2zZJ50W\n",
       "DEsOwJM+HWoYd7KWH2e66VXDxbFOJjhrw04XMrVqHHn1eM3BQSqFUaAyLH7HntaCNQSpRPgeuWah\n",
       "Heq4sTYmzQHEu4tiC5+wQgFXV12Up08jiKsN9NA5Ee6/K6xd14i5H5XtT7misyNHeaymWRDlAXK9\n",
       "v9LcBqzylb0NX9a1dKMgJh2qomvKjdKtQFJYZG/5USra0O/KFSmg4zBYihLK5J1SJVDKnMvCzTP/\n",
       "Nimzq/fNTQfGKQzTLLCmS3J0DTqUj+5qDhsEzHhWasL2A4rfEN7SfDG4c3fz5XsiZRRJbFM1yq+y\n",
       "wZaY9lQoyRDe70feyrUzhNRIU7qkFVJEPgTm1p3RxVqyfYUwwNknGifPvP6iXoyV6uyMm5mWq5Qd\n",
       "sEHh4fPsRjLxyVK5ZRud+FEjhi15UGeQmuB4T1yxG6esy7sQis58GhC1/fijpfGOhGHQstR6bLb+\n",
       "o+h7ABSE2KYqN7DU7cstV7doWknxMZAY30BzTzM6hIYtNl0TL6oyY2LAaEHkFAjLjqJMxOANCJwG\n",
       "W0uAqlNuhjeNJud58yknZ72+XFv/pOdxTxW8GlOPYx7Xb/xgv9c7JENgRUpbcypZWAVDXvp7t+8J\n",
       "+zVNSN8YFW17gvdWePpLWnU71/PRwdDew3QAAALNQZp7SeEOiZTAgh/+qlUAXnyQ0q410ZrRg3L5\n",
       "rxtqDJuFoLMAHG9k0d645Uzw2djcZi0pVGct8fDnt9hk0AKxaQ7kbK/2pS+Vv7aMl9Ytv1UyqqE1\n",
       "didwlykSGu0DofLxQUR3UO9hBDfPkI7zUa1RxFlhJ/ufEBwdaGppB9gUH4hi3MHBsiKABBCwNV7U\n",
       "r8l5ghtkFChC0eDyDSQaa5/dh5wjfGPNgRdkIY73WXWmMgYU6YUJ5ipFsPQwZ3zYLDC9f7WXqKKd\n",
       "JIAjVyTNM40SthVjjig1Da04bTbsxtiuY1R3J85YJ6AQkFkWKwGPi/lNdscWDjlzuOZdnvyEmXQn\n",
       "ZILjN7Lattztek1hinzzlzY5gfYIDN4LEyBDboLwlX8GgR3z2zvz3WQB8sFid2HPpOK1p0GhMj3M\n",
       "xOrOMIePo0tjsRcF/9igA5e+dHfOKpFmxRlqeoTh5dbam9bCAxUMw45OSWxPuqxHAzK47cQxqezk\n",
       "x1U3IMH+q1nPZHyCFNrATzHSNnUbRPKo7+tW4lLvLCotrUEvCtLBEa2HcytnkNTz+9ttOAh1cKpZ\n",
       "/Z1Ze7gcCk21k4WRceT/H4LJF8tNhgT7d5iVjSxKD5nYe4feTMBBc7Oid2nD6C4reX3VtRBJTBZI\n",
       "15rSB3KA60rPwr/24QbAm6mdFIMHfPrg3FVfrzYK1vXQbiIZU2y09IdHSD0vW3+hzvUlAqOgjY2c\n",
       "lvyamEQ+2YultNgHaw+xlp63h4q8R/vCbHWaP6H3kLFTh7+9okyAx7goQ8/P999PR5CPkhunutGH\n",
       "n8PfFBrL59eURwJM7a24LBBtCk3Zn6qNTtlimKV/4K/G82kJKWXJAYxubCkfa+zU5f0hrGwfqqhV\n",
       "FJH1+Y5ixyD6egoLedBYkE2DMSHNJsF2tvM0k2088K/pvukYkXDEACiNyjsPi34uCUOD1G0k6Svu\n",
       "oAeYMApNAAADDUGanUnhDyZTBRE8EP/+qlUAJQbF0kvE45KnxynAnC/s8RIACWT1MUzNra59+Ua5\n",
       "Fbdb8Vk/wIZMiYMI/LczuCa+/kz31GXoKTAgzX3gCV4tiKgGOzuxpfRMIssiz+GMazpyxL8s4jzm\n",
       "IXfetlvIqR8Al3xQUSDRAj6UsDl1aG+0X5K3OHtdbyyJr27VDWGykEikkz8nALgADrJlohwAvNGO\n",
       "77mGpYPV+aS6sDIa1XsgEFEuOm1+SwZdbKxX/SVDUvJ+Ye5x0Qr9ulz4HO8JRYwIqSQ5N0rq/Owu\n",
       "Un6nQxt8GC13W1d1xgpTCwl6jC2ihMyEj5aNeLSFZg3ugjgRPZqRfVkyZh/NASSjBnB9phARjIIR\n",
       "pL1nFi9A6mHUB8CmOINH+SmyfmmQgg9aEkZe8CWto2Co098Id1XrHSpEs5+gXLqxq2QvXhi5FP5B\n",
       "iLxJ1Pf3aoIywRjT33Yb5DlvgFR1f3aUCOYTb5988eqEB4vYY8KudSKAhBw+l0foYxFSXdqzh2BZ\n",
       "Og/4IMMM8vEwItXPIrWyht7w9Uj5/N3zTOsqhbDxW8oNGCR3+FGlF/43SRMm4/bXy11n909TryF3\n",
       "f0WZ4kxMJlgS67E2P5sS7RgOmh+Kh54Ga9JgmkFUbTG9Qkj/3AyutGyRnuO5tKFdrwtR46qWIKv9\n",
       "jiqCRjNwIOWHPwiMjiX8f6iqzQSHANa7bg3Q/t6uTy5Lk9aAj+721aRzq2+dqgjxZZGYQ1tffeM/\n",
       "JlL+n+UtNP09vwBbBBK7Ecsoa3QVA996yd6f5v2nyOjH/db9eMJdOzohpVWWjtWBkb9Pm6CA+ALg\n",
       "mkh/2L/VKQTkk1g8mg/V3tH/sBTkSo35eS9uxCxrDhfMfjng3CXx2BM7aRVQiom+3P6AgXpqvNc+\n",
       "2JB/ODqC+mzPYI7inHfUvcfvIravHxHBoHh0sJzlvFqMOUU03as3rabrD0iwb0sYDKU/F1Fznxxy\n",
       "rjAgATsjwWbtqmnVQLTDCz36djmumuNleuuG9dEmHZ84J5cpAMzI9CecEQ2EPDHgv0AAAAJwAZ68\n",
       "akM/AHwzj2jqwPBSTTUh7P5yRTHrAAOkcIHVe6JsRTYwvdH2LAr3vmw12JR48Ue393t13RJZPd8p\n",
       "MtKIQwnkvSw5RE6tg4RbWbPulwJGL6swGVyjd65QGOg1CbTsUQQACmUx/n4EnSy1t9qE+4cecykJ\n",
       "hTUQklOAcdAFPuPTZC5pYkgvRn/EvgkJ2lHy2SkncWpeDNtgdQKkGskxGDBLpI8bjgRRPJ3/IN9U\n",
       "u47nv/n4t5nQWVyHFOqGDA/l+eO9g3+fJjTUJdJyKxyYUpWhc/kdde2+nqPq1VtmelsvzznHwTX8\n",
       "etDHZ83kA8rXBsi/ssMzX4M3paOXAGEzMB3O4dKfPuhxj1CyJdaBqJtvIx0JUcPkEgIF56YreRgP\n",
       "IHHMtC1tCDTM85aY2purAvVtypDw+OEtDpQRyCdjH6VXuKp1sNs3LE4emDQdw6tcO1SETuX1UvLN\n",
       "y0ILC6Z5Wx0n0LrfnYnoxHFUKou8moXSz+xq6XxWr88pV9Ve4plHqOnM47vnDf9mwTWC7PR9/gkM\n",
       "5cJ/9aSg5Z91q2P7VznP7kh11yoHMkw7qCjaZyNjlhPxyYW5MlKD8vgvp39b8qGi2kn/OpfRzM2y\n",
       "vVvY+N8Mz6fvRHZBGItPq/3bzsCUm6KkVjsOvNrMJK4AbGm/QWLs2o84DFoyi/NUQMxr60QZpb5c\n",
       "+NINdPbUdGy8aEoA8SdcDSSx3C1xifSW9HGI95O7EsIkG5NBhGotRM4qWwkS+KMEiwb8aqS9ZOeL\n",
       "SJ2ypmPsZEmm9xG+N39Ht9oLyLKydZxACkphhXu5q5Rr0Pk3TkYsS742MlNzzYmtABXxAAAGh0Ga\n",
       "oUnhDyZTAh///qmWAJD9YqW3NAQq1lRCRfBvnstZqVDPFw2h10R7M0Fa7okRrAJxOo89XoGBAb/4\n",
       "robSzu47fGlD962PrChXTC4c1EQ19+Y4JnX+qwvXfMxH+4O1Cv+sQ506WRqlGVhpYMxrbZv7QQrB\n",
       "Hso4fOcGGXzxnp5CcoOG1Xufktp3heFFFLhITIhoh70IvjOloZBb6p5pELS06FvV+0KdPHwA1rhl\n",
       "uJ7ruCO4hdR1j1yGpiuYmsG1YlJmuKmVLnCz9veygzUebdKM1BZKyjH5XDFSzslIIujsURM5O1L2\n",
       "bQanhAHGpJsfy18H9RpDPkWucYZ7lfphQJmoAbpwXuo6G4+nh1/K1NmEnHKc4xbUBJ6Ogon5we7b\n",
       "iuVbGJzsUn3uYYZy7/r4vQZTwHcPWDsSMYF6EZ9YDHU4yMo6fYs/Uy5YlVgZXeISwUk7m18h0VRm\n",
       "E/gSoDwsSe0NlhkE7SSjLC7B9+qLk2jaiQK/njtaDH21qjM1t9tFnbrMxqnraMz6B4HiY/HW74ao\n",
       "B9d8Pbi4Rde7/cIz5pG8/89VbLxgW/WplU87GbUpjokQ90Bys5Y3LPv0fxn+R31uylUi4Jq6InWv\n",
       "JRluP7l8E4kN1JN8ArbslYjEr99DxDxvUBwEo9r2bfCUH/BFlWpA7m/Oqo/O99eLf5xGpUwk5gOK\n",
       "sD1HoZJFz8MLLpsLMN3wz34HTKH3NbOwnuT+/tGJJYBDV0rz7BAeODu0RnajTgzRs5TEkyw2lYQ3\n",
       "p4yYXfEiJJJZ7L93cdLebYzmvp/sYqp67rGMCaPAhE27whsNaYDaR1edMH40hdECgo0hd2+LRim7\n",
       "PLyp+n1iOm0LVKkVNOEdZnae7812TYgh6Q5vqygvcIDBXOre7LeC7uPpkNzRLmeal6ovFOyYCu2f\n",
       "iibERjdLu2yIu2hPzuR+vvAol/EQIcl/ATCp0LYva6dqyj0QEe0vLssd6FmQodsKgn6aV6cTW/vF\n",
       "suXIWLNg8N7uGOmhYP+hAaOfG6YwbK0kPzIxIbj7TQ5BFLdIcJDnnyr6vDEhn1UdysF9BzpuDAf0\n",
       "Vgq0a/+L2xXDyRc5SRcrPschq7UT9S7MITIrqLxF1Gha6537NL/EZacNermq7x4dMDt9/lD0Ytks\n",
       "XkuzJRvm/FJ1cKbKndZLKaLEHO4bQpofyNUES+BiKarpEIzaL3DM5Ls2+g0DP02H/BkSx5LN+5Qr\n",
       "JbvgF2dLSSCXIfAwiKPf1Ps6RnMMIxSe79HX0k3ws+zR4tjVKivb61T2Ryn698Iimz7IvhSV5Guj\n",
       "VJ7JPy07WHw9gj5FChBLzAICfsqxs66Nmr0tVcfVecViBcMv2QCGnY7/war0YZ5328z/Cvu0OLrK\n",
       "KpLw/MqibA+H5mR9DBWMotChj/yCRUgmhiE7tAKxOcrN59+JH5tJFr7mtVPYxTUNwEwTCr7r6LfK\n",
       "0C+ueWCZs6vZSXuJe7yWmPMGqcGnbW5fXxmx93y25EyCTBu4M/RQ55RnkAB3YA8CFANvGQN/aQar\n",
       "mE/KBFhZrgjdlyetACDwNHlG6OuSxUmL08+CObB32QCJpErRc0979zPKId8Feyoukg2t3O7pLfk9\n",
       "gbu8ML7niO2xTY7arzYMU40toNKC3rdQSqGebk2cBgIx269OsUyGBEW9D0gvChqIhR1o9vtS+ZXS\n",
       "yTwH/nh9PYZHIuhP3GhsVAJ6nNmgNjT09BA3VvYQjO1YMc4/zdPRyjqVuCa91QSrMHqRRA3L2rrU\n",
       "V/zRp45VrbWLSBsj60mIoT0ntQCeOzTqDhktkvQXJZ0DybfMhhMW5dLX9+0lWdmFHimU+d8lmOPC\n",
       "PdnpxVy2Avuy2A13Y2+lfYdnLWMXTYlHD5sWzGMcuQCgh9hWhXG/TcKjFUl8F+K1pdNQWLRSY537\n",
       "WE1WCg+iIgtBUFvfUXuQP6+oBD2YtlvyM53pH2DNeGmBJPeBQXBpkgS1VwlvysWVCQ12qtkJndbV\n",
       "u+JyBGHVI4y/QRqsq3BA+vab4h/OiqlB/IqFAEnjdk5mShMbMLhJbg9WYrFTDwifH5Buk8ainLvw\n",
       "m1QuicOJwR8e+4q+D9+TrBLPev5jgbBTeEJBlRQWG9EebRUHsGUuCj01Afu0qS5scofz8RO5kdDB\n",
       "fYscCP/MSYGd+XYlMFJmo/0H1EmknOHhWvpGwUwOa1EZHmQUt9d2m7N4QD84udntmPuSmU1opubq\n",
       "ZfH0A1XzjBEARYL8v+qlkQAAA1VBnt9FETw3/wLf97mOYzPKE9TsHLdAGIMmZuG3y+bgFWoArVES\n",
       "rFd/6TGnqj7zHgV6RkE1RB58LaVubm9nnt3uahld+ou0FVHpkaqlGlFhSIwwckcBUcHpEgfnEEuO\n",
       "JyTWhYAUs8Iyc+ZZq8y8B9F7UQOM/apv7s8TCLgQ1zwxFo6jwR6YYcW22Qek0pdBtshKt/ij0k3P\n",
       "fjpJlKIwbaoDCS/h3zA7TmNosaZGqvMm5gj2SJMVrnqb4M6POXeVctJo92CHTPywweo08WRNdIVv\n",
       "CEz4OPB5ceQvwMxx/tl7r0cnSqTte1QMSjUjpd1GmxHgpjC2BXJm/fxApig9LHsaNxulTmMe7JCB\n",
       "pDwZT+Ikv4mM7zaMwp6XlkwK1NsylCWIfyoXW9er4t6DKbnz8YDDrSCI+lBY26veQqwvkM+eLlo3\n",
       "CZu5dJhqvmEQWTaamIUioN8iAZdThqTEDO6DrHNT7Fu+Y4bRNcdZ1/ku6//EuSgiLl0bifxwRCfD\n",
       "BQNsjFxd49hkjqK5PI8BPbrQ5hpw/D3h1avDb2RzL8g47DVnQrIyyRnVcclhEBg785rRyCKqRRXZ\n",
       "PXJqOeZBbYOTQ1Zf3imAH+ftLSodRIrsjs6EvlozfdSKdYzXudkW5AS5tdsAC9IPPkkbPvQwlsj7\n",
       "J5xXpPZMYQAu+kmpCxtucbeMuyQ13gPVJVHtk13U92IvReqNKs+M2KWK8QmDt6X7DUWUkBuM/JvN\n",
       "fFFldnAvHv/rixkG2ZrHriEDDZw9jsa6k8E3YC+fSzeZgFuzDHYl7c59z3DpCOcP7p2AILl0uPiZ\n",
       "Z+ztAgGUzZSpxiEvkpUuZ2z8+uS/wfdxCuow9Z1eCuGCKBDQRFkwcttkDLBwLS9E8sj2O/k73TmK\n",
       "9HzMDIaQQQ4n0Czepnqy1S4hjq14ClgKnPfdBKlZyJtnDFjgBkDNN+yjFIwJ8m/Aen2V7PN9hRNQ\n",
       "QxzMhsDGqL1yMk81x+vDvN8yHgo6GH+9KAUjYdwTJ6cBSz6MkTQ1vYWyLduRoBxo9GcH+qQXSfHL\n",
       "7fj497Lp7roc99w+2xM8dKvKl1jqyp5PiCkd82NXbfERP/zsOypqiUGByFHCb++CVK2bDtsXox34\n",
       "J3YsbcKrGrl4hqBwfmGEttQQAAACVQGe/nRDPwB8L1dl6FkC6yyph1hFzJGMJHJp8DEAbFJAGP1x\n",
       "EMDb0T3HOUm7YShl6Y0c0sILaEFLAjzVSRLb1q4VU8LrsogIaezaZ1h3SU6D1RBYL4BuODd0OGS0\n",
       "en3BepQRLDtZVB2IoC/m0VpLY6mhA1ztlZucjIyVlRDhv63f0SqVysZwvJ2okMxXmRxpsiNTrw2T\n",
       "sI+zVN1FFXiPf1Ycv5zNO5C2+dl/Q5M3BgsM+gaUq+qNZpFRzo097zyMEAFHfPpabywGcv0tbHli\n",
       "mDoBRtUapkmKeVNjf37SZkbpEevpakCKh/Ue+2nCb7/HQw5kV3+O2vgqu0NTA9dFS6Bafx26pPEO\n",
       "E1X+DtUMQcbA1VqA2DBY0XnPUnQQYNofmi/Iwhjet/Al8k/3haNKTwWQwkdoIZR70WPyJxTamprj\n",
       "jFrwpeamxZ52rQx16XiMQCblOcdGoQC3nR3eLxb60uIIamhj/3LxqmDq48yxgrzCt/wFrCjVT+ew\n",
       "DmBeCzhHGjU37TU4qb/hIVsAxZaroyW/4+HhNrIwjLj1SdQN7FDRPpe8z0NcphkISvyI4+9E+DjM\n",
       "4AkwJUQdTlw0ybggzftUaotTSt71/iLqPaRYMXbNXgG+6mV6IzJJE/0T9k622fRIk4ktik52uYXf\n",
       "jY+qjYSF+m8tuD9fBOGTbc48D5emrdEl8q0snnOCdPsrJtKTYVipXz8j09X1oxl6jzQM6Gv3WtOg\n",
       "lrZ54k7wKOx7aPf0bPi6EsJQ02jOXSgsrj68AdR4bDg7Q5oXMyOeg1v5lfXRFo7YLwAAAfYBnuBq\n",
       "Qz8DSALRfWl8/JXCe+Gp5YCiefLLkYAdI4QOq90TYipDJo/qwzxY481EVEIGUDAz8XdhjbPY46B9\n",
       "CSiDcrBFCA7+mS4qY3gcMCe8SFH+ITnEmS1f0FzC8LGHdqiY5WziiwxyMa4PO98WuqokaaPd/jNQ\n",
       "+COscwUi/NJD0Zc8PGN4RWp2fVijHnlm9TsRLZLBLqvP0wowX8F8M2HFGlybG/ph1eekFJvjJEU/\n",
       "EwZCgcNae9LJp3fYA5nPdizaHEd6ZBWJJBtBBTQAVoE5V/e9fiZsghWn2P4SXaz8EFu8OO93hgrh\n",
       "OVv/xry9RglS5RV0qjBnjLI92vd3M9EaMJaT3WRAmGAqAq9FLFmPp0DdSqf7+TpGH5JvswNBTGiC\n",
       "LUfCisWl9q7J7yC7Y4ht4AkRPj5dJYGFTJpHVQ/XMXJMTE8gpIrcG09vPiHpzimnCtJitrGxaRqm\n",
       "8Sg2xQC60RuPfPkQG5WYrGLICkbxapNBO04FZzw4vEt4aoD5MonTymr2q7ygQn5RjKJFSWcFpdMU\n",
       "w/qfuskV0qE9M+2mlnRQXa5wcdBoHGC+mEs9jsJ4i8Ut0r6cYXKgyJPH348ldcAazwyy8L4Mn7tm\n",
       "6RtdocUya6LTM7vbUtllz9QV+0KBrBmVPa2gM24Zp5RnThP0W26r5QosAAADIUGa5EmoQWiZTAh/\n",
       "//6pllOjFnB+NYB3HvIcOgFqMqzrCBsRCgu7LQVXHPXuzUdK2rw7eCF8s6FnHd5HzHaAZ4lidooF\n",
       "pJDGVGwFiCOSnO9ZFROE2L7DmhToBRVHArWYE79B7YdC6dkADj85kPgsA37BIlYIX0I5RiQJCH12\n",
       "NZOoh1f7z1Eqc52CrGxrF+K9uciegEqWG9d6Clvxc0BTZqcXf2MUpk47rErHxP5EnkVJjcVsLhS+\n",
       "QwjktgBM2r4SOIek0wXuYPgjwaOEwpuetwMnWkuWIQzG2fVYOTakZg2kDnm/KXZ6xKP1JIZ3tF39\n",
       "Ec21qXoZFv0j4FNg+QaWuefXzes3k1ToMCrcAlKmEqvSPQ+6WVm01f4CfS8wiFIzBw5A9wXMwuZs\n",
       "kIvvS8qhCqtzGbLaJHvM0Z7ALQtUCMeNQ76EjzwZ6wfG61lRi2+qDkg/WE3G1Imr493iozXQdhcm\n",
       "Py1FzaXf69MxuDZi+UN9Bqsj3fPt250vMK7ZeZMToljT6XkS/hjBhgn9iyM1F3uVeinkNMBZgGjS\n",
       "YFt2mnhHi83aWnTsi8gaWp4OmyJFBDZO0yDpTLGhEXzsjW6efGcnFQVzPvGYyPpZw01qMzICsR/J\n",
       "TERW6z2t1NY9K7716vOPRhCXB6gTtLBAS0r1qOsQcVM6VMvh/e20tzXiDJ98gTUDV+zP5GqKcW65\n",
       "P+96QUBFXEm2aVl8JZu9JV3qjpZKqjhHTdx3hB+JfMLlHNNyhKM+OFL976wZym782IbwHlWl6SvZ\n",
       "qPgGDQPhy2Z7rRQp24RCamixD+FmpNxFmzvbd+GJW6poPdPGjyJhQuawNvl7B8l5KxaSpE4l2BCh\n",
       "iWCSsq5cvNo9Qf/ZcO2+nQ8N3eq8PwiG3scBnUa97Id1lfSyaC/pOl6iYSYlNxDAEcFC9Z5BbppF\n",
       "O0dwNNBCcPtlYC4w4INBuZM61naIOxJCZrdlHMhZqb/r4gqMCrxUbkPH/yvPyl6VdfwfmWBaiej+\n",
       "hgGpdKHjXQvj7JtifIObX6voSCg05rEMckUaR6+ysZIcECidAaHsuj/vDC4Xsfm4qQAAAeZBnwJF\n",
       "ESw3/wLe5YDW/shTpLaFDHy1vBV4G6b0YMC0pmzzb0BLD313PRQyTXhuEZq6YcExbUAIxpU5vcDg\n",
       "UT5UunGQYBpYZnIRKZez/0NIqMBw8LOThbt/Vr/BzP/KS74ua/ViJJGqxQ6v+XYZ/rxX2HP261lo\n",
       "MUTx2tfVQ8PEHVAFdGGLQqd21L5lMYe5uyE4/bYIahSbSr5VEDYbwfyCcjS9vR3Ps10s8uieJrdR\n",
       "7ldLsEJaUNLCojO5pT9gUbIJjiQeUor18JAB5JUR6p+VlCCWN9EiWHH7us1tankZev5twQlFrCVW\n",
       "GQkSGyLsMZe/hUodxUhEkwT4j6MFdhlBJ6xHixLhzXtetlvq/ngj0MtKCTOv8W57r9WZVxKC+DMZ\n",
       "N1VlheXCdZKNq4sf/KCKcsjFzTwxfTbh48YlUvAwAVHmOXpX5tsVGbst3vXYHjWLC00rGHOqnnPl\n",
       "uLOcDb4sHrF76ttTd7iNcr/p7QrTtDc1lc/h/pWf4yx/P4IC3BOWLCFyCg1gAFJkB7PaPWrBPnbX\n",
       "l3LznVeLuR7WTTbXwXkeKmTUhlHWuXcMyBBe8u9ZhmSofvOBM5uem4NHjqBuZUh5RYeRRZlCmAPs\n",
       "bPXMwY4fcfVKCgkd7Fysv+hKHE5Ru8DEdMEAAAHZAZ8jakM/AHgm4tqk9e65H9sTR6MBst0FPEed\n",
       "d5yPi3uh4ajYw2SyoXtjhFsV6WLIUtEfr19tU8sq4djqgnd6WmerfgjVmPrF4uflrrnC3+G8BFVu\n",
       "l22/+YMAFz1JRtN8LqVkb9xmryJnsNL0r3nOkiie/Z00uOzHwRzQutrHHLcyfPvLlrl1jvpTnNIY\n",
       "a6b3Oy39P2qVamXCUZhWuh5Sp7UdYWBeXkGr3oBAmd+eWyDqXOI8JXFd0hha51OMWN/74endyOp1\n",
       "UEimV8i2f8D/NwF6pbNXrVAUtPOW9FC/24ZIlF+Fo161Q8jRPc5dpYVC2DJApp0UwB4c9XkqqiqQ\n",
       "dG2WMp5Oi0RNC2QKnZV2/N3T51h2yLFdS8JHrgnemBwjnoYWf2m5Xgc9k0yNkKAGowF6VuRuTZoD\n",
       "y7ivsyIrinZvr8N2iqEHnJdoSXcbOGCQGygnfYN0CkpXrY8x+BiZPqcBK9Vw5+NggMQaX5uCRExj\n",
       "8yNXD/br72g4+tMi0mqNi+gHgKTEQ2T1kMNV9GsgUqhMK4W3YNzNlX++w503otS3Ev7XkwbtWJ8J\n",
       "qvHQ8MBId9qOWY45tyKHHhXqvIeFs7xaHAOYehTc2oiHdaNmg0kYnxEf8OzhgfcAAAJJQZslSahB\n",
       "bJlMCH///qmWAIwaJIdV4kdKcp/ZGywj80unWgBxjXqOCtDw3EdsseYYFf/iWge9j0BzvHYs81m8\n",
       "Ru34oNO45Hh9chD6+do76ns/Uunraa8mP8/dKZEnqPfN0SYR9hOvfvqBJ3UpgY2r7LXaOt52E8fh\n",
       "AcWWxg68D613hBvRT5UbVkvvBLBmRwCpFqVvvMfuP4c9yFUCbSYo3v9FibQ6LM5386OH9a2iVmig\n",
       "hyX9u0kH9j0+8yu7nO54tJIzUcuuwPo9S4Ui151oZpDQY5bEh83GSRUm2N8zxPJ2/TTLZ/b68fJN\n",
       "wzmOa5JXhSmookL/AjSfBcYy61AT42idO9BRZ9mHmqgl8k239UwTlpXhfbIIjrDAl2Vsc4DZgR2I\n",
       "KZ0tqBZ/Il0Lf+f7GtpdgaEjtnZYRZH5GRUJfVvEd5r/iqC38vhTZ0wiG+T5mUfVgEvXfoM3GNcL\n",
       "9k8YqmyDNBenKFmq40leODXR5XP80SFP9siTTc91ZFMQUk3QJ154iPSPQMMZTIIC0q49BKSz6kBd\n",
       "GsPb3SWyCARcMn0Jv6Qa+P57rzIpuK7SJvsLb7Ry6aIQaV12YchrwuXMYx0Akza5NehZ1b0erfhu\n",
       "T7c2urk+AgCBkKAJtBO7Eqv8yjSQfxEcLpsddhzaC+gmvFCgmABldM3ifJuBneEX9sh5ZVJJEkXX\n",
       "GyuEkjdg6+i2l8jMDoboEZPU+sQ1Sf99QZ1CbpXMg+QQKxI/cqnjUzDcmdT2W1Oz3jZ8dbocr2cV\n",
       "vxrDwmh/WRmQAAACG0GbRknhClJlMCH//qmWAIwaJIdV4kZ8kR6AmWPrRQeZhdIpUbJFaJW6bF/I\n",
       "un3n7ogAsCBy+Ned6xjEuIgKSeZzjcfWshwSz0g8rfihy01YWI581LNN/cszHvUnUAId/2LUTrRc\n",
       "16u+JComS38cu6gJQopTsYOZCy7vGLoz89r2mUNbuj+GDCLIjBeYNGgrZSE0lvIHW3MFXkIOTU5k\n",
       "01Tl8XfdH40IeYYznXcjxfS84rsKwU+cqKwWG+HYV2mnBk3s0yQeQ3q3wevyHdeFIgKg6eQjNQPG\n",
       "zBJb1CvhFTp6SiOoboUCPSqmhhOxqJN/8qECdTswJZ8bO2o9d8wJmyzRqZ7uHip3WuywUMSAvaar\n",
       "KSLyr56QvVFZv5dfV4dQKT1E4ZTLey916HL8Ix7A9CG/Ky6ZLQLak6zXs339xqLCBQw4h3SvUSHP\n",
       "kpwUQZHzwfwDx91MHkM8e+5Uo6gWdFxhhlbDGVgj9GzE7mnnDzFyIe/bv49nrH7rOuewWzO4N2x8\n",
       "kCcxY7VY1zeHJY2HZCyQvVEvo5iFHOtC0G5mVDQntGg5QCY6Ikef8IiAr5S3am6zHK/Pm6dQu2ni\n",
       "bN6RQP9Fcjd86i4Db1YXKC8yX5OLGkgWa8ufI3Nl6ODDyCjCSQkAHTIXX3Zy63BuyBA+wZ3s4uZC\n",
       "o7QXXa3NSKyhEBgDJYD4mOv6U+2jLwgWkiAAA5zk5asohu2pb12hAAAC4EGbZ0nhDomUwIIf/qpV\n",
       "ACQHHOysFcDERJ9cVjblKLTmwmEp8S5QZM96u/Jb3vZzOkpTTwgEDQ323F8mN6DEIjMsaL0NACuM\n",
       "1l9RCPf7GH9NMkQNR7/OyHJ01EUabcrA+vrWIP/Xpp0XQo8CiVpX6hiNEQBlPWpVAryZRv+9bxkZ\n",
       "pFMfpluOuM1FKAKZSOoOVTGGVFu8oYvoHMXPUqLk/RSudADX97bV9cljGgZil2vGCSgB+o3FS51O\n",
       "l8wDfHmT9rk9nIBPJC1IKNwXcQaob16CERhJgLL59YeieSj48X3me+avgN0VAz4+YNBAKDEI3Wb2\n",
       "qEJ3fiM9qV127T9vUTm5sTnnOVwWTLj8+b1TOFpEWEiW8hxy4x5Fcju92Ti49dhOb5gkEV7u87oz\n",
       "ZnJ+J9UrnoQZqxN96EfLn/GhjhU5MwEv8JQxyAmEp7L8PV9pRTBFnA1zHylLuQrat4X8JX/P5ai7\n",
       "/rBoL2sHIpEzkyr7s4v0KWwS3jnFHS4nYNDucwwGjHPhlEl37Ra52dekwZU9lZegx8rmiwF1gZ36\n",
       "OaIxJLheKiNqs3LkNGO/3xaaLnCDgxlIHAQ5FXcapGN1B3rPtD8X3jIFJX1HoVvrn+cjj0JRExom\n",
       "ODgfkw4FBCH1BiJzYoKxQ+pd2Dr0PU7s5k7kNdSO0z7M4TiUZtHylW0VuFs6ajyjs9rygosfrEUw\n",
       "N7MsKz70qbwiwr9HA5chmaVep9/lgxhTXgO+vXWce4xpdO/WzHdW652u0CnhHePRc4hT0kGymKKU\n",
       "3uEKR/WU/lpvp6lwE3xekVIZoXwqWE1saO03yvP1oSgM8+tgKEFwCOxwWPnaxnpdUl9zmPKCI18n\n",
       "AoRxMWtA2zSL2uwSuZKoQ9zkYNmvyNEPXYaOAHY8blSovjBmhGONPMJzRbwR8yX4i4kRDPJp17IA\n",
       "P84Z/u6ouKD1VjPJq1efpF/GvgbfQ9jBLpi1QQWZwp0KGR7B7rAAAAPXQZuKSeEPJlMCCH/+qlUA\n",
       "JAbF0kX5+W16xK5jrcuCpAiXP4VZurPnh2/zgAFBhmNZJ9ASbDq8EIIKk6mOxWMXeJqPd7DzKiwF\n",
       "nCEKkvHNVYNDSzsoQH1NQcoVOMc0HX+peE6tMkx+ugqD9ELG4E0ogbHRZu0MH3q0S3CIThx8s4lJ\n",
       "vuEyei9h2bioQRiL5uxrMJotIlqRlwpEmccr5/Al47/bztXn4vh/2bkf4xfY2o/B05Ky/WqVX5UQ\n",
       "A/3Zm/+yzlKyAtiz+TWASIAKvjCMBI7MX+dzpc2/dPOnHPIwQkUc7i18s8LOw8501ad7UEsTjk/u\n",
       "y75uGD9I5BdLWEWMlfHi91FTbdLT0GRzSVuwa2Q3IeFi0OkFYQ64ozfSoNv4H9VOCCLoEeaYcxdu\n",
       "TFHQ/YNzLfOPkEq6xSVBH7g5LxhzEkzxhTM+oW2wKNwXlU2OolxCJatzmZSREcSM20rn/a41Xt8q\n",
       "eR3MyE8rf8ZyX/hTYWdT4pa538h/5qmbWkdKDtw4y8dv0BhFcR0A/rILxQvzsvqsQaK6ie6VKg0U\n",
       "4vRH4EzSU0Kg4hparTA59ZrvdHJ9iawtFETHvAr0ZxrdG++KlfAMkK+iRjIjkW3ZJdkzgEtQk+g3\n",
       "kNe1Q9qFVvlR9uRN8b8rMwDkLfRp/v0i//52W7nprNHpNPN2zxYOFeIDDys/9VLqhKKYJ5Obw6i1\n",
       "AWdaId84PFBVEOxSq0vD8o91BxqxyAirFvPIUy0BrZ67rOKEcKQiJtqne8WCaccYqltaG9GKCdKR\n",
       "zMsdUP3eHrrMiuqI70TaDwZ/84ATUWvx89WHrRBv5PBsZ/o8vOHWWRiQ6EJoUV0UWAReKoyz2zJR\n",
       "5FJZQWhDy4CL2Y/R2Yeh7qyasBKFijifyrOOguLSvJiboT9LQHhWQwnr9uwcY8GUDfp47QgZVXzc\n",
       "YmjHBT3LzGXgrFYQiodpbuuKEZ5KhOH/QInbGIQ71t+87E7ZZH215U6wuWHzSZ5WKvCmJkX4sm+P\n",
       "M12887E/qCX+Bj3qe/Z1DH+dRXTWeS92/WBYtoHqbxbVGo297KZX9WJicRZZDEYa9OtKP149bPIN\n",
       "uT4cqajoUHwM5qHKK3OGtuwVsiPpAk0I92aKEqTyzApCdnZGoXt3DUxKkSFms8+qEPTOnT1x+080\n",
       "w7O6Quz1EnMdpCgMpoAAHqz3ZkMqPqONTnT16JlWPVeJMJw3eyXZurqQCD5YAw2YEGfXZXuKXbuh\n",
       "2CIi3wnv4uU7+uoOdzGobu+yE4MX2DfjyzUTDwDWpfvjpVqX1G6RxwyYI6IHC081uP/t+yEc+3sA\n",
       "AAGqQZ+oRRE8N/8AZDrtktYuLKlSXMAO7XvUuUk5T0JnXiDwCpYVuEoxbOjkXMyNTeCS6C0hYkGg\n",
       "HQAee/wsmMIh4LTV8wS6YO7+sKvpD5EzQuKAV8eAzsSMO2RMJrjV5coDBvPEQJH+zkgC4aYvMMg+\n",
       "ptkVYh2JLRoju4mBDU/6uA2Um+nG9Uh6SeI97M9MPlDNBOMhJVXUMJcg8v9NsQ+e+e2rN4qEzXRd\n",
       "86EmQvHBmM2/VMtB05/iftzN/ZVQJz4rNNpj/k/2DQ07TmfRdrzUag+0B1/rjNCKqQ4w3IVc/XYt\n",
       "FNapQrvsl57tb2+LyDXT5/7zoon2ZuZWb+oFtWTfMhglUyoJckxIqBYRiQlJs/Gb8t1muIyN4bQF\n",
       "xnozMukBmKVzflivhiJfUh0DiGsyGcvOBP2wCquOzPHlBAAmzwOwHjztdqLTkx+X9QfZ0hx5hMy9\n",
       "HLSqMDXls9TWyBLlgE40KfPAO9m9Chlzye2gjnAcxIUMZ2OV3aBSqptj6ZBmLdw/o5Y/X6xqoTHm\n",
       "qldCRkQjJM0dGpsHgxh+oyaeShK/bsDQ7AHfdY8wAAAB6AGfyWpDPwB5dKilup9SFC3b2MTdeR4N\n",
       "l2K/mFSXLlOmzhW+TwX3SEWKSquRiJ1qc9JamIAVmUf2bro+47w8OzOxLo+9V+Fok7m6HoxhpiUh\n",
       "dsROvNcXDfAG3AFebGtQhT5cOxocRpbeR3YK5UZw2UkUykXQPgB/TVWR0yvkKpKC8BLOMnDvZxPB\n",
       "Nv0FPahSIPfhB/9igngKSyqPVqyHpss/0TjYTkR2mtpPuQcPzNhS8SY/inZhgUnIaSIbdACyQh7R\n",
       "M19YxlPaUq2n47ONgCKSXHEVPJoW4AdlGWMRMNp5KXBeHfQCc1edbLDeUU1bAwlpGjhqDBUQy9e1\n",
       "AdyzWJ70tPJdRhP4O0YUaQ6CoG6rWYQG+GU8b9UqdVCp1Mgoj9aRtjvCJrlEaPwAH7dKgVd+5hyy\n",
       "gTcW1AvhK1G7dmtB7KKZK/DVpF5jbvzCiuSDEr0XzF1HqgLHw8yAnDaymqvEQ7u48gjO4FHMfBuC\n",
       "S5yBib0JkGFD9LqQoBbH9Gs5yE2eKJ0lFzBxn6PpclKZcZWxRZeOh1fDS/P5GaIAo6CClXfK0Em5\n",
       "Y0YhAVFZTw+O0q1x7Nz2H0Kb9wyJI0c4CsD2KsrP7uOEGDh+o7FAE5ItsHzVE09w2sgduVC0M2WF\n",
       "cOeXew5izFDxAAACU0GbzEmoQWiZTBTwQ//+qlUAJAccy4iUmjvAuf+31tEnxE99ePMjP36qtlG/\n",
       "Oo8sIiBr5wBWY4zBW9BIPUka3k9q3Bsfd6Ov8yC9a/u3TWyrazF/SN+Uy6J+ssKjLvrT4fVTmH+5\n",
       "k+HyGxwR4wL4CYnSOfy/kLtfbagm1o6l+Vw8LCeLzZr+KVgtq0E+nzCStyl6Mrel0JREifliPz2R\n",
       "wsuUYIChbPcuiT7tZhctBo21P1cSdyINt8Hs/amzIV3yx0n/zQkp5ytixGcjzcvPv8mqSpA6kYOS\n",
       "/ZQX+tZ1BkL1DPD9Gy3scgsU8Bct+LGkIgOk5R2McPjLq6JwPvLfWj6DmU42dx5k/Qzr9W28T9YU\n",
       "2jWNjN4xdYuSLj3UK9X/URYqeOdc8g+xyr7baVHsDDIkqEga+oS3qjqtcYsxijZ15JzJJWCvxBZc\n",
       "BBil+0QNM4uU84SudCMtBIQ/wF+881VNnruFe2j0GG+kCShm09PuBDMNn7h2mwqsxceKosrjfFAB\n",
       "vJ5i2OyAnWbwg1TZNAJz0AIoPMYt89p8fyAQW8WZMAVqXsrEJtnMyH+e8woqsKjbDrDDcpayBZi1\n",
       "6H3aeyEklFC0tKbv5iHiOJOHi33Al+UQPDf7BV+j9rZa1Prf8HVviTqoqUIaOh4ZOImc3dykf52X\n",
       "Kx55DMOkhHH9PuTGuX94js7PU5iOV3imZRL6oJgdN9FTCvVt1p0jH8jN3qQ8ga7y8mycoEzD/Z8Q\n",
       "CaLpKJM4zjeXhiDdiiqUSu/otDwa0hIOxb6kmafRixW/Hqh+u4EAAAF3AZ/rakM/AHmK9rGFshVU\n",
       "/7Iff5HLEqyE83TBpbCTcCcw6PXCrYt9+f3m5kmeSo71NRsDP0kVzKQxVEmkBtAA0IbF0heyqPx0\n",
       "DT9h308CuvDu11vxv1bZ9EABc0t7THJyOWhcvKTkqvrwE+M/00hyjjAr3kabkvURNPXjUlactKBq\n",
       "KlsqmctkTsvN2l1ChzdlbEFL8QCbcYW2eDD8ur4Qkcj0ncUvlpGray26Krjo7Xvx00h6aiMVeBAB\n",
       "owYL+reTHmvZF+n/vRLZrtvfWw2nE16G5YPW2TVUQfazOvemtNRPWLVqGUzwDbCDwZTEX4rVXNdn\n",
       "fioUovyt/KB5S9MKssV3qqQVp0suOKgWsKLpFLWJw6mWJEwL0GSAfbDH/F4UGKel9xgrI24fW9vk\n",
       "MiHkXvTy2BtdXY4rMlx6hPXmY/4gxLQ4HZgoN4U1ilRNvzGaqowmPYyjYzofSx/1uqJEkvCvOHpm\n",
       "GvTu+o7xd8EhKhQyCIAT18j5AAAC/EGb7knhClJlMFLBD/6qVQAkP1O4nPAmFmnzIxicBmomeYKm\n",
       "5MQ1SprZPm8iXUjQlXkJ1tNpEIlsxFtqXx6QtrDbAj6Z70sd69hlVNdNGMQ1rM+3f2sgChna4+KZ\n",
       "l96q6Gwkevh2Os82trDyWxEUsc111HoilCIC/mCf10Hx7psyGmMx6ekTfchbf6ApnxFyXWkAdMTM\n",
       "66ra3wKvmaIkSFWhVQh0AZ26/yr5AouPkapE1ceudtZ1qQk892LxKM87RhUzGkU6tKv6CAKS5P5J\n",
       "1ZIv2jn2uSN63M2nUEQAng5eDm69gVqMKie0kYsDoKN+ZhiXjuXhcvVhogJCGC5IR5iAtcZ/1g0/\n",
       "dM5dFvyZ8L8Nye6zJJ3eZ4mv7uk3TSxNoM61Qdvn0CQeNnZOfYSmv5J7KzI4HylCnm+pG50Jjlg2\n",
       "QNG6N0p0kt/34qHfSSzlXNwibieBRq8OnzoKTlvaP4NRKdOaDUlAl5L1d7qMzWm4N7rv3yX5ukFw\n",
       "WjHlG7W8eDSp4ekqyosDCpeeY9yQVFhQ1g5S2FZKDe7HAOHpQN9Ud02Sbjzcs0pAZDehAfN6r/1F\n",
       "PJR73F+XXB+jlv8LQUfuifAUAf7aLNPO7olfoP33lFPFfOM7k/xQCkAQBHgmUyegp0LFHhzQoPkm\n",
       "fvm6Bi370XkvUDfXOXD4Ge2DVPqyhoaXi8KHp98MX/eFty+9IxxaoR9K7tzQAKsIxVMQPEbRJgWu\n",
       "xumInxeyYr7o/v106piGMfZrypHdQVh5IPxdIWYUQA6AvbXjkim+KWOzTNoucpxO/jy+yR0SDEuO\n",
       "WgCFZKUdpk18DXwK7SDav0v10C6mj73aiVXC5tJa622FGSp6heYcOb0wp2Sjw+frc66DH7x8KIeJ\n",
       "rA6V3Phf1XLVkiLwgtIcdIf6P0rxaEDNeBFQWI9tYoWPbjlfDtGR+DeD1FmT3uKOIVMWItwMEimY\n",
       "pyXq51fsAlHyxnvIxhroMxRzipjn417mQYJFcGnZBjtZQrsiGqWm1pmNFBPtAAABnAGeDWpDPwB5\n",
       "ivaxhbIVmh0vPeTIQo3XjVu748sfXjLlQ12trKoWz7DrOyyTbu+BZ2aKaQMLjup70glwvoAaztOs\n",
       "kr8w7TUEbYNVkLzJdW83nPK5YuXS9edVLYucFIe9OuLKMnFXxrUoKrl23TG8qjTw0bcNnYt04FVT\n",
       "WS58UPJvz6z/735VcabnYne/4tCV3pQKLeLayamlqxraZUI1r66C1g7SVRoScJACU2v9Xs7GRGiO\n",
       "8q5ftNi7fxUpQoFFd7Vicro33mdL03D77Ilp4aNTEgxDiMcVEhlpuhN8xAGrTsujprssxWCvKCth\n",
       "ZJajfs8NQAEOiabEinLaDGxdri/8TCPll2CImbvit0eDi+3JBL6TQqmLWUQeQ8rV5PXh6m0cxHw4\n",
       "KcIVCSd0wFeVCCC9p/PeltToMttuPAXZRw9rB4iiCl26Li7oYqHQikfnNKkBliNQ3/DmH6IL2i47\n",
       "X4YH6joRgqoIimtORehKxUHFF8mnZoJ+jvIquBXJafTlCafwK6HhyFhL+tyzqImhO7OOt2ANVwka\n",
       "PFJedVwAAAJPQZoQSeEOiZTBRMEP/qpVACMHHPAPE2jSp1rs7t+slQOY2fVTLtchQK2E8Vo4OV3I\n",
       "O+RidLn/FoEGhBhZsyewHq+8Zaboew/VqccdfpfzUVY9HcEoTzQPxdsT9UBI9rfOtudfhTS8q2R/\n",
       "HW5tTHxEHTjPbZPz9D4KoiTySYATJ8R3DBcim08i26CMjRi/sCjgKo9YFZGEh1kiSScJhZ2A9gtH\n",
       "2MXKzgyq0dpMx7THP4U9yAIJl/8TzY3tqOkghRdjr3aB1wo/hdoa7OCi/NwwtP7Xt+Eb0RwvrORh\n",
       "VAXeS+7xXcQ6GUWKnduLvPzSwRyICVKVMqN8S/iWmqBkzNYCuT1bsbSldrFyRup3tJ2GF0xyD+OV\n",
       "ayinInwWvpXEsH02jZSrASeBjmmYekrjmOJa9ThkiN0hKdo5bmfP0ARClHNYLOcd1ehPSLOR/cyR\n",
       "zlUsnXdDa6NVdZL7rIlGnRERPaTechbiGnyEfIN+0+Ef4m+1+er1zeOc6slj0MOZKZb3lol4KVQW\n",
       "AcT5sWJmMWNNwCesQx0aIcEqgFXLdrFE1iPQVRnr8viAAkvkAR7ZgEztYW6aZ4/E3i4Og3mv9+zl\n",
       "ICU+Ikfx4UNFVoTEfgsz/is7rCu/pia3U/uVnL2Mk3DUqDIIgahf71iApmRmsnLLohKHkfhlwm6c\n",
       "rSHjdlRfbgCwA4eskGJf7r8hbs0vxIwADZPpOhEUj+fbFF6YPh6vDKze1IgUuSLQAgan8cWJsdf6\n",
       "979Gvxu7wwWvycpsxW6yjSQOLTlVk2uB4pyDa7gZAAABqAGeL2pDPwB2uS9vw68epKelVavDiQB9\n",
       "QTOTbHSTjMXD30lYJRfZPadTMnyQsOlg2eKOxSYWDN+Qb4SP7ZP4ACPc+1J/Gfz6ebyJ1bqVNtM0\n",
       "I3XUgqhDv+2k9IY3L62v4uNlW8DQXIWqpPR9Rzd0aaeLt9y+2xu0rzH70hylyHuekQeXIJMHH6kz\n",
       "5iPtQEgdx3uWdDdQMsOBKS4TKewpKuqloH7NpkQVU+8gJqR6HIBRz3cfV3R4uDkHIeOd+DQWpEn7\n",
       "fMMs+An+AYzY7HdRWEzsuY/RGc127aqYf4cBJHyvU+oxXp+mhQ/ZH1ywJWu8cO7K2UImeg7unKrQ\n",
       "Bs/OwznZ8ANr/ES4YX8maQ0BeFC+VtOGLQ7WC3f6AG2viLvJRs55GUX8gpxLO3/6UAEfTY3LHdQz\n",
       "LU0EV+2YuZ5ZQN0507om+eL7iu7YiD4e3hPPTvtozm9W/LHdk2NcTlRkhnbnZmxZRRO9PcQZifsT\n",
       "vKoSwFeVfhVFAlf0CFktc+f14CmfSRacTj0Olc+O3QDJOH/Hr1+pI5LpnjOV4doN7A+T8wOjrQM8\n",
       "C7kAAAM8QZo0SeEPJlMCCH/+qlUAIwbrpAeEvoV8cppo4BXdMuoEkIV9G2u92N7In/tEDnShNou3\n",
       "qfWKxZ/dNlsuZr9cuSA7QGqx7ySE5dNwNi9dDvGYMgOA9oqcxBRAOWgH6l29WMUow77TFoj6Dh5p\n",
       "uBZQBglru7t8FEEcH6eCQJNUXEfJcZfC34xN65b+1opgLko/85AINQsFdZQC0cNRav+VBO03yw1y\n",
       "rPc3coGqqkTENa3pQrB3wsVQqjZwpTKUfp8vSxPEdu67k2SYTEUWaaUVsA21Vc7ciQrOqlJZA9lM\n",
       "jg9mGDSAYzej0JVx78VLO18HAomzE9cJA7qcpC54vBrkiHpozH1yuG+ajQyrJzlCh1LgDCMTQ0N0\n",
       "7vw/VPVqYO4qi2XIrbLMGBTbOj3uQ08Txc9YuFlhzRDj9YmoqySoXvifff/fF16BrnjH9hxjYX5F\n",
       "8ZLddGMzV/luu67Oe7In6MTt6dqbAdsz9tFXtfDfmofN+2UNtVEpcFGE19HTzjWpmeYS5A3P4rjc\n",
       "XC+wAeX5ExEbq7KhJnxKp0IV+WuBKi4KxSz5LKRyUrWjeP7mfvB7c69gxwR27yyGeXi0qSirYeWI\n",
       "6e8fGEf3nD6S7ekmyXhgWp8Njpe8jYpQy81D/O4jtMIPCUM25uhUQJMBWVr9WKmGZ+Sfh5q4uyLH\n",
       "AXA9NvrTou3AP/lwXrfxjqpm/7neM8NvjyWzkWXG6XIT7Qoinpx1qZMpET4547jlk9yyXKV7LDnY\n",
       "CETFsOoBVIS2BuXAss5HC5szok38HmAZ+dk9XsGmcIOhAc08WeEXhp9uVt7KAKwn3TxXyTI0Lwko\n",
       "4B6Pf58TeO3XUJx6mWMBDnYRnGJnSFhjfHyqkxnjEyUC7yKO06gacgXID397qJlDiidZNjTyQKOG\n",
       "/iTkHv3xDYbR1OkIydNwldzeZX/LHtu9Ut8kqOxm7zUNRvi+U+JJnHUZhhZ48KHNwm3t6006Sj9r\n",
       "d1uRkQ7ycboaypxeg8CAlEecu10TFHduzl/oNKurlFE2TM/G2FTEqG6nTMcheS/djzOtvH/p53qY\n",
       "jSXE6E3fkyC64TGOJORSSnkiQ+fYLne8P807duu/d7r2f5JUAAABlUGeUkURPDf/AGHKOl9qE1RB\n",
       "U+Nd7qPM4amHrlCx48LiKYmUeMQ0lhg6xggiWlq3xaQEzyXKO1oCF37snTUK+Y/JhkNsXw7Mpg2D\n",
       "yMzW7xTugABYhb95H2zLH+UlBRlM1C4e3II4ra4ZSaRlKPtLxQhfkbrKo0IRqlCuZhP9aMLrhmvR\n",
       "itx3ZYIlhO+bd3cKp4ijw72KukUoASqLbYcAt/+jvTFETql9BpKVkNH7LWpIUIuK9NFxVnO4umxk\n",
       "9IRulQzQQr7eGpe9gX0VtVoDnUjnqJ2+s4wqR20rrojJZErJ7Rjc8nq0T95QS1GDsG8xS5RIw+jD\n",
       "wyZ00O5aIM0FHU1gLO/1LpALEYm6Hq/8FLoTkKdI4XE09AlYpkEJbq3kSfzomyxO1VG2ZaDFI+B0\n",
       "HQie7XG49x7Nj59pZ14uIGfpwcQO9/O25f3PRZqlzM2o/C3/AL2JYA1xZaz/WnqRDTww6kfQ6nwt\n",
       "3gDzYtK4n+9NiakTU/DFPF7GZ5h7CyxMsUnaBQ04pm9wrrtdn23vF3g5Iy3htAAAAXABnnF0Qz8A\n",
       "drInuycQRfvUoUGg/OIMGKsYGKI2zZ1mWsOSFJjRyL7vvonUqD6nr791QwOl5nkewAtCG/m6PvZy\n",
       "73pDE1Y2JMx1+RPbugUDuNNSE+0UHwpaKbDEWyDpMqhVsWc/y+eLr41tuxml6jR8Lv/ESX6vNQI3\n",
       "2dzHef+Wlju4O3stzKkENEQVjD2MnAN7abLsE9VGiY/rAZ4xoqJsPAU298Mdl7B+WWCrSQP0Pbm/\n",
       "wERxuDhfe3HjZj/Ll1KyjScvOg5vrBWU4RJtmGaH5ufVxcOH+bvIpO5i5zSzUEflS5PZoyt9nq+k\n",
       "TnJiInl8TnGTeWsQiqWSaHjWX15yxpRy3qEHKAi9jqeRc8YMblvMhUBHSZ8PpdJNu/H2fSTUmxP+\n",
       "uDKj3znfODma0DnkIu0E37XH3IP1pgFOfJs2XpxEKsQCkEtN74PDckfwXyo/G2+rV0N14C0uREmA\n",
       "00NtITZMYpXzFwKxvU5OzIOiBwAAAYcBnnNqQz8AdrkvS9fENcjrDyrpXaM2O3KRA4OsJVX24VQZ\n",
       "a8ysjbux62vKV0YtNnsp8/jvp5tU21TSzQI0fIz9aLYKgscAE2o5Ryl8t5RkVZiTSI1lS0Jg0KlL\n",
       "rr6JGcrTfy5xbC35z9OBeOj3m2QRhHEJcjh+3G8djowkSGGuQJhbUWBX5O5ConkmJsIMs9C0hz2y\n",
       "wuhV+V/9DSbhaNn7ZihhEqBKKUf6X3YdS7cjuS5SsYAd+5QcSYOzQsj7sTzeZEdjUgI6VFppxvtS\n",
       "cW6wAf0TdJWO3SbKWnRTxAbEeuDJ8f7wKu+14YE6Z8kpeFdiamq+4BuUWca2TVkSj2VW0Dh7Gt4+\n",
       "lEilEag9iAfGtDBtwnnJCRsFF3Y44DGEjeKb89oKKfFIUOhbg4Z2kXPl7eHNZpts55LfSH9AQdHh\n",
       "W7hRH9qkf8IxmarvcxBR2D+suV1UcGyeG/tzWz/Ss+dY7K7a3/03oM1QWqHGjvKHAvgvt/H/SYjy\n",
       "Ydv0UN5+iFoqxUDBFnhBAAABaEGaeEmoQWiZTAgh//6qVQAbyYNddd1Cn3GYVaQSuYgoUWVwHGTO\n",
       "EYWcG7bDACp9PLGy9nAcC3oTlrVG3REb7tQFylJt+VsLUr1UFWSyAJDDW4SGPklTyydwue9bZBSZ\n",
       "p0Nd/PGBggV6zXKZGNSGOzFWEtFYDKLOGn5ZWALORhuBqdOeznDBfoiXzF6RQZQQTqWU6wjODpgG\n",
       "L4nmI+PO4tcHmQxtEp8FxWRr8g3G7mw7flATE6AVEtNRJlCendh7J7ohogxqBl6/A9anuLp4NVDF\n",
       "a4hRvkn9w7KDgWFTzdqEe1etttrfAfWvLZt/KHHu8tHBoW2mRrfWrNtyVVOzV5Eij4cGXB2Rhzyp\n",
       "xi0T6/8oO+nWuY2RoUfVEleXb5j3CJiV2NjFXm/MPjF4tjT3N6n5N5F1wBUCN/rLliW8FRkidReI\n",
       "QHNBC7tT7LwdRlWEpDHBa7HDop2/LZnBgPJmiKR2tOV2bLPs8QAAAIJBnpZFESw3/wBNY0MNcNsr\n",
       "DYqF7qr/yANRXIlx2xvFGu7FzyKRbcArMceVHDTUE2pf8EgTa5F+cYPDlVOY4aLbU4zE2jMKsp8z\n",
       "LJdVTbrYVvFcngifR8Rv+EF3fNVHeRriOfHu/iIbt1BrAwrrPGiRBE2pp/6f4O8XezYX1gRF0OOA\n",
       "AAAASgGetXRDPwBfkq0yFDC5SKdkn57ixbHPt+oodbX+KhpWrlczAYHzIbnd7+ECjzMKGrw1Tltk\n",
       "3nxw/wu4sY5OxClxHwwVep4mIKmAAAAATgGet2pDPwA6BYlmJiNdPHfnUe6tGJx/ujgZQQUxa3iO\n",
       "hBDBT0ZyDapLsjjZjqYaE0FLeQykEl5B9efq70E9rawNa04n7/DeirHULhACkwAAAYBBmrxJqEFs\n",
       "mUwIIf/+qlUAIwcc7z1USPpmmA2kgPp+utqp2YFaMubUiGUIgZNw9O5t9GkGtqH+dgD1jyL3S6c/\n",
       "ncy26ZGJrVetLMgXIAOjzCh/EPgPTkGb44DlKr9gvM5KGnTyCBcE9q448GuzJ21MgOywNCbEVH7Y\n",
       "EOw6OnKN/wtKLSWAQ7gnb+LCThUv34Pjm0E6tYbCDMffdBCLvhamJs9oOtg+6oi6smeVzzFMwjSg\n",
       "oLFytVqY8AdvqHYdTJjbGwT15EIyFJxE3ylIMtUxLEpRB5R9IGsAfh3Z7Pd9vOrtahFUeI8bQyVF\n",
       "wLqGNRs2jNGVCCUaKhtnjhYDGCiV9TDD+/+BlSQs32OISHsTBLGgt48tDVnwvM7pYmXDKxCUyGKp\n",
       "rDeN6OyZ6QjwdnWVkaMet3ugvH7rcn+CG7phHNeRIBzcOyViiprikWmdF1SP5HT8uIoML/n3J34f\n",
       "hBkhJ//BkCR/hj+bvjaqAjzQcdhUT05Tcdj8ZgDlDsV460AAAAB4QZ7aRRUsN/8AYcA4w7ndliGI\n",
       "PDkONMlakvpCDGcjSCM0s6AWm+e3Pt90ecQeHiv39zw+X1hfS66AOcWbkayGOi7J9AW8KAS3l+te\n",
       "K97CtYBojJ/LQ+R4DT3HsfKzqx+72SWDQU6ORRyjvtkE8B6qpzy6AcgHCNZcAAAAXQGe+XRDPwB2\n",
       "sh5VR9wIL95zspdtU+i33pmKMU6wrQK0uoAj6qElpdUwEEpsRfDImiGePhcV7vJyGAe9LuUl8kJ6\n",
       "txHe98m3V4py5ftXe7bMT8Ga9YmQj30qr18N6QAAAD0BnvtqQz8AOgWCQqPyEsm90uV2HVSO+MGC\n",
       "/1jhvYZRpQSrMMQ8YoSFG91QaOvM+nMtbNM3KtfvF7z1APmAAAACJUGa4EmoQWyZTAgh//6qVQAV\n",
       "wbqcVOD7DaNxJTHpVQYdr6VuIJKEPCbyT42sqvTc0dGK0zO2e3AOUJPiYt0YVPS/KkQFq2469NzW\n",
       "rxYMpXy0ALqvFXcXsMUTdEdPe3fPMJGQSYnKN/wf4m/KTa0In3xZJrKlBIxFgbFXLr+9gRNxGhfU\n",
       "L16SwQfaApMOBa3x6rAHRhmU9DGxt9MyHuwhLSx10yiwbbu78yqct064sDyVL/uFqkEzy+2MBj8i\n",
       "5p2t4AvK9cymkwxf/gSQ0VuXXElwLJdjQg8hHqFs59W8jg3uhPqdTOvO3qaSvZvL9sCMaWzLTU9B\n",
       "IMdM3hLj7Gc/B7LIBxYu+yMYOC02A6NZjng90nEj07VDSCv0wBEj/AeJJsfc9Bj0w93SerXSgt/f\n",
       "pfnNixJx+7d5WMSjmTSQsW/Us+2nkRUq6ectPb56iSuYg5yvjdY/HgYI5zfICIDxh2y2YV9oKILs\n",
       "J+LiZQ+EFDi1IG6DfXZPwJ/bOGR3tEexn92Gw5wcMh94hA2fQcuSJ7wjz5Wjm7myQfXqjBn9zXv0\n",
       "j9fucMLdpqoSvzlHUzc8zYvxU1IeFoPbjCH6Bs9/yV/pyMNF6+3pHePpsnxxhbHlHNVWu9AbLAqE\n",
       "cY/I9tKvksl0L0PLUkUHTP6X/JGITDcuk4yg6AUx1RMg6tPrvJEYdw7XYL6p9jDgfiD7Ecst3H0s\n",
       "ESbHr12i99uLK+Q+fy9BF8qnAwAAAQJBnx5FFSw3/wBNYOZmV3ypBRXIenUAICr0V3Vfyqwn1sCp\n",
       "EZtSL7G3bUvd7Om0AIS9eg/8+E0bdkUAIIzs0/Fmst3WgnrbGGMKatQayJhLnlHk8lDC35s3UTC+\n",
       "g8SS2g99fpSxR0JPCqvxBtnga3uKOwfa+xH2m6bZnPoA8ZeMxZXSmDzBRt1MvMYnXKVOWu25l7H0\n",
       "cko8Hod4PrTmYRWSmBl2xp12hZkJLhsLCxOvAW1O6DzZ/4maH0/jBGTXRC/uRy0oZluoGpYIdSEU\n",
       "v1eINtX+JWeZLbn2bDnVtjq4/RFsbHva2vTrqCMoqX9HWzdBGoxt3dXct1rxs0tayyxQ+YEAAABZ\n",
       "AZ89dEM/AF+SntowZiLLfa28ZU35lADXpNfNZnk39hKT+5FuRnL2jOW0xsAL/U9HFqC83FVc9AzS\n",
       "ExKlDS72odJWdDjFK0NsCWV0qFz/pt+0OyCWLoiIEvAAAABqAZ8/akM/AF9+Ravp0F9DmuHVBcU7\n",
       "u7aQATsWUUkHfJlTFjVXFN2oOLHaCmM1rU2bvNIxh/AbZoXRdOm1LdYJm0qSExBP8zcFEFAgaWcy\n",
       "DRQ6h0I6bWvFUf0XeAe/UhCjU3Nr8GUDW5R/gQAAAa9BmyRJqEFsmUwIIf/+qlUAIxKGa5aM3o3L\n",
       "ZJjaipyXUHATlEEzPgfrCWi7VXP8KtVhLZEBM89Cu4zurmo504vWFDFWZmjcaCohUpO0SBABwmH1\n",
       "jRRxGi/7faqxictu1rxVhbhlSWfYf1vSC+NbdQXGWO/ise7ZphvY6GZAiMECCxw1i3QsWvATwUAM\n",
       "u0wGSJvPT0MZixuDgXvbz2qGJ14U8ED/daCSSVve45V8nNMuzFMKxBjqmsikkDR7yqzH1FUiOARM\n",
       "edg/S7v10u1R8weSa34iPL3du4wiX2D0q3KjhPiXgPmk9kjpH0NNxxJYIV2BqOj4/CwbOiEJXsdr\n",
       "WAd/z9kc+VtZwR6fYkf7uIZzHzC5gWn5+NlSEAWgivb3s4gW8BmXR3j0hBw6pvR/HeaiSy29cxag\n",
       "HPXLV7RVf0DGM72ZucIgq93uWmytS2NIhpwXiFy4p7gWUxmZsjZck3f/YBsEaeZ0BEq5cZXM4wAq\n",
       "O3YR/w3oaDsry16UC8KNYddi+tvW39XhYSACLgUfz8thXT36jS6Axxcjr0MqCv/6DcCKX8rj1gO6\n",
       "FmonlpKKGAAAANBBn0JFFSw3/wBhwEG6mmkJQbCO3DfYL5KDcx5quivllXJ/ZV9QdwIZTkj03Ekv\n",
       "OgYHrgAEqkllBwSyoatXLHX61D61al3uZQ+CSuNnB69tX+4KG8TWwe3Sr1zDH6q4i7wrTkQvsCRj\n",
       "nUix97ExOI4G0Ng16iUWC4KZcuapSIfIUrHs0L7MtbkOeRPyUTIInqbeJKEFI268VYXQWUrvq3Pk\n",
       "3yjM0ybYzZXf1fYa5Kpd/CnkGBsYvOz35m5zmfgTb11Xks12CS2NBp8qIc1OQLsrAAAAdgGfYXRD\n",
       "PwB2sie9yd6bXtzz3y0bjYmOE5sItstjwd2aEwxS9y45nPAeO2tcXFvbCc2MgDTY/wlTHknUSK6Y\n",
       "PZ4jLQfcR0ZhSnJBcjxKwgMh0vE1DYydlJD9zS358MNaVDOmVfmwYrztxgrz1JoIozX0MpyI8IEA\n",
       "AAB0AZ9jakM/AEli3snzm4x5uGtUC0y7d0woDMZiIAwpLK+7HeipuIdf4Y0pfZIcNMkMR430nk9j\n",
       "3AxB8ohALHvp6OzE8ADx7+P8/J+DZv4ujakhdTIV/yTUoC8Y8m1+FJAU5d65k0ZoqH5RKIvnPGBs\n",
       "0fJBx3QAAAFEQZtmSahBbJlMFEwQ//6qVQAbyX0dddrao8/0Kv9CGHlcGdQ34S8ESqASKHox6KFJ\n",
       "f2V5N2bGLaVOPd9xKjRKgREB3oAN8Te68wHjOpTR2l/wzUSz3tiOdkHmVvBN5acpY+lswiVDBV8v\n",
       "sseE16Pbnm+Wnu3RW0U5/mVnxN5Q2NUHEvmODdjJE8LiG5JxaoiUXP0RbmkgdGdO7VB/M5zyrjaK\n",
       "aRmfATCu+mGPCEU6MuZKx3+MklzxGfYsS/EyYNlH7b1nSFPDe3Dp1IEYurG3TLk1SK5i+4i1z0mn\n",
       "c9WcB+E81rYmQ0Uy+nxDAQAimayO6aWqlb3XjV9a+n5xdp9gwFiIOuIJyS8lZgSbTlYZiuoncJ5t\n",
       "98a6w9kEEnjsEYFFC8f2nyG7zT873wOyffQ5jgqVDtjpxW8BQDDLmGQQzLjStYdyAAAAdQGfhWpD\n",
       "PwBfjYLMalMnr0OcF8sTJH8QA3eM5fbRS2eLbzZNwqceO9jGpfyYP2qen7ks3bA/ZcO0i+lnT3t3\n",
       "xiPiH/sFT0UDgNAdjYivS6A0Nsc8S2Tt0qATF7ajl6TdSZbsIiP/qcfzz3XPmD2R9boFD44JGQAA\n",
       "A3VBm4lJ4QpSZTAgh//+qlUAIwcUUA8RwNujE/IRSwgCt6FJChN5uOYUJeLLGUWG2J03LTn68m8L\n",
       "mQPyb01tvAbrGY0oXHRXZuNz/mzseINMWdpmEjK4HzAVl0dpbKvaGEBuChX3fjYVpiwWXQlnZgc8\n",
       "MXciJffThQzwMtLZ6lUxm2hLpsqVvYJ4ERBvWvXFiXXByuqWnKctLTDS4U0nykoA0iaHWyCjGcKj\n",
       "va4RheHSPKSjmqkV4cn11vx+5jBqnD5i2iFnNbyZFFi804bsF2FefoqqhdFsjkPz5XwdNaImjHC3\n",
       "IIw2FtUFouyK0K4c5FbnZWauUPH64r06piDDFJ2fB9bRLdtgEhorhS2O9qLt6t8Qj+zObin5gYIO\n",
       "RLkzdLMno3/Bn1cQdwwSqx/Ml8lpOFEYfrJlm04bcaNh4WzUUqEVOEBUZn+CjRAvBBuqAN+oevh5\n",
       "J2MN4DR6aScAa1ElyBRroQrhyR7hL+z8mXmlZk4ISDSp2+0Y/tqpCR+bzj789Vg4SsJl5Tp4NK8s\n",
       "2cH0O3i6z63GVnZrklm+buvuiCh5VW6GjW3jBAACMO20Rx3ke/hEKYHkmolTUgOQx2X3cRSdPcDT\n",
       "bxwUoDkltRd2uBmU+RmrlYbVbd9ZS4dkpi2lyGwgUuptw8pBz6WKN0pxsh/cv7joaYhAy9Q/0JBU\n",
       "Q8jKfi53o0Z3EdiZdKl8jQ0uPrX3p4xXRo3N08dig1mGu6DdD4rwdYGJxcviCq/acRIQojF0qdaY\n",
       "Ic0BTdrBpEysW5Q39mtv7Ss9uO7aVZNr3WnW2j4Es5NvuXKZIAwTMeUNVwBZhEri51u1+IC+2PmQ\n",
       "K/MXvIpCscJNUVYOu94L+vzP70pNBOh3DRZ0Y6yaz9ToNDcJ8Y6GPrk5YUQGVlLoixGieLRjRLt/\n",
       "dxF+yevL31TPxq5eGtuU1GaOlGOEim3iR1SQQSU5Z6VXDwbjrhv2vUMNs/ib5FJ4OGI4uGffMXNV\n",
       "MYr0sJDZWhyx1Pvx+vzWZwRM7D8clbGFMMk9bhLFidlDzlgi00xKYRpjIiqxxGhbELch/qCASMBs\n",
       "jag07KpoSL15DEKDXu0XXpbHIJJJ0lU32qE6IN9cJI1vbejmH2WRny8LK0er6Olf2pbzo80gtUeo\n",
       "EWzU3XHFd9Af5w3mMQ44abe8IALOGkErCZx5vRchElQAAADGQZ+nRTRMN/8AYcu44zQEqJKQgElj\n",
       "S5Toc6rJg7+6VhjuOjX04wOj2Xk0ArKOCqP9wwASfSxWiYEE73W+nT/Pdo53V+Q6siE1373E/o74\n",
       "Y/zykOWeOv1tIlrJORLICDdHGQp1S65HAGRfjhacMcv32KoS+Zy3YKvj6dqwyphzOmkWwOPrswOO\n",
       "ORstcunEMSs38hM5gyDU7EEGbh4lm2PfRyf59/FBAyRRqTl0vTa4b6VHJIhz+1++lQ0RhoCWe1l1\n",
       "sb29GYNnAAAA+wGfyGpDPwB2uS9y3FCeX8YAbW/CqwJ8UUlW9nzsebarbYYTJHAA9jGGlxACVxSR\n",
       "ApVAoyKjtMxOy69miAP20FDE9jGYYK76EO3yHqehi767N8Q7QVxm2yu5a96vo5Wwh/2o28wexEld\n",
       "xtbX5cr0tlsGt0m5IJQJutn3C1UwyJOvEBfgbD0ykhMt9UCEMkT5o+B/cMQ71ZWAx8EnhD94SkgO\n",
       "62naWoMNF7EOKWz2HYp1sPpqUIGF8EvfzvSO2LYOSdbk1G0kBoQBTuI1ks1PaXe2J6TNde2WEnRe\n",
       "0LvDR/6PCbi8Ai1VxaQTwhebjP2US5BcO7Trok/jn9DwAAACUEGby0moQWiZTBTwQ//+qlUAIwbn\n",
       "hAeKaC+dKspKjRH7yDucTQwAt09NKMxFUuaQjioM9hfZ+QnUZ/GQRad9u4UGVVABB9jbIGniFSG1\n",
       "s37kXg/rhL62TiQXWRk1tThpkHrwwxu3YTtwosSqBAUeYqbMo7L20MGTmbPmWoe7Em5QT253MbJZ\n",
       "vvgjqMrppcLZs7w6H7hUrXxghgW4GyoIBaLXT8UD0wtA/aPY1CTELCuMrJnOCg7SYEYaOs1vv/tI\n",
       "wk36zKzi7tjd6yPQE/obYJZzX+kgsKMk4+o2/VUks13H8x5YOypCDtJlxmcbSsr9Qz8T+GFUiw5N\n",
       "o1vLsdJFhPqQyHUOVa/8c5oKVIIWd8e7YBgqwc5W0qh4qVqr/DXHVk/iofsGeNowLdL8/QfGVaVu\n",
       "NJ3ALydiWhNzBjgEOt0iy/IRJmDqLY/PWYCIMfGiTYkTxmCX0TEZnq97GJsrKM2To4Z+l0wv5eZd\n",
       "Af0PGFkxUWUF3P4qegPjSxPEZ1Jk+QeyLm+j0/vGZ/+Ol5kTCMg2RHPbIIbw9gjYXt78rRnkFC7Y\n",
       "rmYgXyHVTqr+Sk7IHzneTsqSejseVdLsqGVctnxBoW06Uqs9Oh7G8j4fWrGEmkNK4ZKzc/xSj0Ne\n",
       "IKfylJdiDcrHZTkFoZMNmdCuFOQKNUTBq94Jq52VfW18BIFpimwvoVXV12V+jvYzloneSiiNuDTP\n",
       "V4/vJZw3OM/82jk0muwZBsP8Ow+nWXNT2LxUXeN1xzKZ6kQq3KCaqkCxa1n+FKG3SJbOoV8qL3+W\n",
       "fnkAAAG2AZ/qakM/AHa04KU3vuWwS9YjnYdS1+Az/amWRSYUo7LyE101EmooQv21Ifu4X2Xcdndz\n",
       "Oig7O+IWV3OXcFAvoI+GTzKKwALfHeEqR40YDd3mrBzKp6heu//CGx9u/owCmtFpXmq/Jz9+/eBa\n",
       "M7hneUcKZqHuqhM8swjYugUtG44lS05RDkt16W1Y4z1aY74xV8diCsntCsc8GQv57/SaWH6HB6DM\n",
       "sRSO2ziArlpIZfoLI96kFI6epmUWfcQrSgmFOGZJU84SUL+/FqZPoTNyAEkfk6Ej15KKMAhua94T\n",
       "9d/NdgIYImJYwzed2cVLyiBi5MDGvEYnH/UgrB3V4Ce/bjiYKg8ufdERBv7JacWcZCSn4o2W+anJ\n",
       "Uw6VoAFcDEQqwZdSfmvfTJBS6W/4V7BF9rk3Yj6nZzBSwThA06xnwaLe5fHW3OO0OpC6BAV7qU/k\n",
       "4mm96o4N96AYvX6/79ZNebTZShzaEJ4le4ColVVnH9b/eVmR+O9Yp1SqcrBGQaMqtSIqmBCp0m6E\n",
       "f0eMINpgJhChXfzjxp+iJb9Xbg2AjllOi3fDoueEkYaFdP4W+oLwUHYZcGZBAAAC9EGb7knhClJl\n",
       "MCCH//6qVQAkBudxjCwmhNnZWY4xlLc4y7gAtg5TFMziasn+Yq42w4rcJpa2mqzZa1fyyX7pNsG/\n",
       "ygRvfZRjDRPl+z6P0s6Sr4Uj/NP5cKhX+syrVMhfxzBPMCeadbrw18CoOllXNjpH669xEUiYI5M1\n",
       "n12cMLA6TDh83ZNCvrlC3g5N1v/8XWT6576FYhPpUNFdtC7ou2PoZBLUSqCzc59xsJT1oYSPHE3W\n",
       "f0dm0yUTGuHIntVxdBVyMmDgUdhMkIMpcppqNHZD9oElm7hLi85/5ER4SImGhW1wiU5octItTtid\n",
       "a3AbO7PpeMXaGh69xW6hrwdlu3qu7ZZiuExg8B/GO9ebNR9EG2nbwH/Qtpp7HlTPZkz6vHczoUXG\n",
       "25q4q22kPqYiI+P35QklScIKdo2sTGhHea0UKtSsOmSVRxawJSFNZC1R+f3Dno83EqcGMSEJ9D/S\n",
       "WEQk01jxtIYIQJ2mA96dnuZ9NqOcbzu19yRAuOHiiq5TlAvKwNuqogr74n6sRhIXzIAX+5LqLflf\n",
       "EpAPq6CqLsU3Vr29l1PIAmZ/WXwPg18/XHmEroUDSO9l48kf137U/xWduVljmH93HaUZ7nORks/L\n",
       "Yw6fvIDQluru8oCsVUk9eN0K5YRL8N4sDDuOfbTI3rPI+PXp0ApZjWaCgq8cH+bkpTVEX1zvgWaA\n",
       "pa/6IOn7UNmRp/9/7orpN7IrJPIj1NMpympMJAaQvA8sbPRXpaROx6EoV40/IniVh/1Yk53OaqNU\n",
       "XjWswCcoTBg8FBh9mJsdNdp5BwE5unL/hqzSearsVY1ANCnjzDxMEAL4wJj3BZQP8Xz6G5TPYyWq\n",
       "KsjfiOvB+Zu/1ZxBYYRkBE/XSdAwY8r5++kcgM8ZTEERQIr58m+xweDQK21eqnrZiNecJ8MLYf+D\n",
       "/o8OtYAJGOAUzu0kh6tNPB0tZ1F3FTEetd856Crg4hBSmumZkKghnGfh4l5Mfoz5ESzrjrdrI/Rg\n",
       "hVWbTCVT3QAAAcpBngxFNEw3/wBkS6TKNWpHiHoruv/TIK4b2gCZl4eh/dLeMeLGf6GYB/Q8D+L+\n",
       "mS4XObvT/v/m3S+u7KASsgQGe9GAG31crfzFbpJ/28gcFv5zqBjf93sHM3Skp/HBwFzvGsVFaGFD\n",
       "RW4yJh2CJYOU/VnOaCbQqQ5GJD0BGMIRrxeFoRRL0HSY9E1hPigD5KBo20GnpSRJwBkxZ0DjpoFj\n",
       "XgyMbEWX7hDzn90Fzd048SZ8XUhJE5vLdmwyINTCm9nA0eoyMeV2bN1QehHEeMOw6FYlISpCZVrN\n",
       "B2+5L2/b1FRHS1/OOuyVS7Gh0Wlimf+ZUn+rZ1lQPLHPzG9k23gbjbiFWtw1dDD+WQGoDmcQgTnj\n",
       "HRC33lxDTfg1z5tKqHk76W1gYipgigfVczcEktCkpMHhxk1z+tbUn+tiVhoPfRuE6mf63WknTdi/\n",
       "EVKIfXkQ4qYaebr7yeYz4yKLwAfbPHBMFnA836WvYce0yuAp5PgMwT53WOK1HcdCw5qHfKJJFQA9\n",
       "s9uAqb079hbAMP5tYMye9+y1gmlLofBbRSHQBogTu663ixdAAW5YmzVwlP/FlqDfnK7T4M7wYqIl\n",
       "BO00qXwUJQZ9kvBhQQAAAaABni1qQz8AeXTfL2lvWjPx9LOxrlOz4ajPws+lnRGmJ2x3I5PMlW0l\n",
       "DaJXhm4n6LsuKW6eQfBUnOkOVGxpdq3ergADjIujv8/p9ZAXD95KEJjwTBCB1i7tr24uuo+vQaLW\n",
       "FtlF+gebhC73kpegnbGReWBQ750tu9W+0NQUeqvfmvD/qSPlVAbpHPo6dT2IVRA6yX121dIR0U9T\n",
       "Z1yNJGLZ8o7Nmw5ipvxD1ezTszeKwZzGRnej7V06kwAPZAEgD/JqUWaDp7KjBvE9oQR4GZg/BXi7\n",
       "5buzcVhiVBNcIqirCunMexuLG0LQeOeGv0lyp1VlG2xpOu/B8GnIdNvOXKQEpWLtMRegOFS+di/K\n",
       "sTCmB2/XjJDd/ABScavO3UpeVHKZGwFWHcA+BASwDtx+4bVlp4lPsJTQAREIdhfgpXkqZaiOxJqE\n",
       "6SPyLYc/sWql1hHxunrkGTfrHJduXIRjmbiA8QpjkMdPnDtxVCzLUJrVykXsW/a3/FposOiGPCt6\n",
       "id54F6ON/CuOxJjjwZxnN1VPWUuTo8Ne46YC9Moy5oAUEAAABCBBmjJJqEFomUwIf//+qZYAjBke\n",
       "w6rbZQjFjLhXMlnflmwd26bg4ABruzNBWu6JEav9W4pU7ck+K+n4EIz6TVMTneTARkPrF6EqDzkz\n",
       "i37QStIi/x+hBZiU2u4/fbLP8TuJr96ROhD7TO78lD2k2iMnBHyL+e6NC2GUhvjZJodChradESfa\n",
       "yz7ClBbqrwudY5nhNLTMhtJ/K0K7Gclt6br53lbd2tVl/W4l77qLDmaTyF3lLAxxgiWYE3pmkVwi\n",
       "MCu1sImMb5oyeK+nIlYW1JRFUPR1BhkFh/3eend3PQAnIW1sobUFfHtPHL1YanLdncB/bJULpWWS\n",
       "bxtWmjPmp6jUaoytPddgNysH+yqZ8jLr/QR0a8CeBqKaaBw8CmF8Or5wLcRAkNLFIg07/FckDn+r\n",
       "HPL+OuPNflT+0F164bW/AXw/i7qvK856kF5nHDvSYrFKAEiyhVnLQXkoBkwBb9hz7I3unnvpTdvl\n",
       "QwlYw/u1/Bu1TBcuDS6houfr3q5GpYqLt3Yt0RcKVHpqxlwtt9LRZOdPJZjSuL/OJi9oJbnstE4m\n",
       "KlHgbeUZzr/Bhpjbx/39qKc3XHjI9ROvxEZyYXgYDVAMT5TyFzzjwRYcdHqFvIJf51+nKlN2YIeX\n",
       "sFsUWTVHRqPRVYYx4noBXCCZz4boDlVAKZRcsiYPJZMVpN5kQZFFR1DAK2HWRzJjQnXfxFhdKCej\n",
       "xGRxSyHMxN4/dhqmY1SCv87qbv77slMcT6cTtEBFor7s5u1Cg+xWi5Hk8OaaoHM6ZFvo233krz+L\n",
       "qAV9zNuVTedOBhyIBI+eQKf27E72HWkVoOIicjKIC9n2asXMx+8BlHYghKIwDpc4eojaRKwfutdr\n",
       "J4NNa+p+lSQMEbsQNcOnu6+b1j/0toAtNfCj+DmSYlkH8phLoMV23MXGNSQEfd3JXideu1MW7pFJ\n",
       "4ekUx1cScwjRnB49V2oeLmHmN7rmr0+GPOwhMSZMYJZJxLdqWiU2/FzB/HEnj4STba0V2faQycjX\n",
       "fK0BRCOxvIQkGMrfBTWOT1rT+wVt/et6ty9tGfFeVk4v3KJpKoNtNwtaCfSGzQkcteOudgF5FAkF\n",
       "dUOJnLNH+QpnlJyL67UsdN/3Ynt658K/BCgjiURSlFiCTwR2dzHrIQimWcb6aWjdCUyirJernSB1\n",
       "iePdaZn7hu8ktshQEFr7OLwKInbF10IEGG+GG/b7JDaoPe3bEkfIE52dc7GM8yqBYjww0MioVwLH\n",
       "W30wdUi9JsSZ6Ln5+BwPMuSo70LUfKACrpAuvsR3uhxlbI6zlQpxT2k73x+6yEHrWfyUpOiBwXYZ\n",
       "CwXk5kjSaTXp/IcVQDDTXWlshKBg0N27HamE2QLv+rFyp6D42nmC2LVkfCGHa606ln45qrAS0Z4F\n",
       "FzNUFpdpLjcwFKAAAAHvQZ5QRREsN/8Atj98TxeOOJ1nXJifMT/qaIZcZg3fOnGariMjEG4GJwv5\n",
       "ic1jcCsVhuy5VPXZfAOmdk361bDW5TudylCVGZc1yfgn/3JADGSM2QAKLAC0IHYyL85aAzccrn/f\n",
       "TIfxrnkiHJXaVS3g90NjWe/o0KbD7LAh+Kd3/tt7abnxtK6lcEezNVYo/JXDMOMXvT7+8tVthb8L\n",
       "eAxRdv0qtY8NrajmsyD8QdRErTx1fc/E9asbPTPrjAanQZbzAhLP24JPg4Hqu/U4kvWS2HZRZjEY\n",
       "A0yYIIp4P1V3sz6IAPPjtqgL45lzcv0EyGnX6DJ9hR0nP59n0rcXdXDZXsoTk85nes6RUKHe8QyE\n",
       "rBRoVNrPnYZso3p1bEIOMUB8M4o8oRDV0D4OmAnIbEsorpLGDOM0hEtBjL/U/0cqsqsYqMQKZgss\n",
       "/PgKrBZU2UKm2fqktmvPPLipwzfsgnjtTLC6UEzZZwzyPjWk57+DqjrlFYdRr3tsESmZKSewfIDr\n",
       "KEdLs/0XGpvJveAq7L7U86fiekbMdGlL6bJoXKeL8rPObDpyOlZcksVfCV/9jBxxA8cM9eakJeCp\n",
       "X0Bt83eNLuVZv/QTSrA/WhliBPA2D34dsDM3EAxgOPgxbx0JWTBLG88uVcws3T5DC3RjrA6ZAAAB\n",
       "owGeb3RDPwB5kQeDoCcWnvqt/SdKx72FL0dKBFeVEkV5ZsYXZXvfKKQ3ioECHThAJCy+C2vK8BOS\n",
       "6nU+bl8zWmAEsURIxHaSjT1oW4RmXo7dLCTwM5X1yVxhx7DoFbW0cM9eNvfUGeUlxDbiQx/JrJWd\n",
       "vS5LNzuaRry7rUdZNo/uRQVpyPWUo3RlwzblDk2oaSpCEkp9YNiQu4+1hB4jUz3taghXPtfBBXtd\n",
       "sWCYG7OWOEfPr1S4RaljQHyoOs+idZTMcX/I7r9Yd0gsBwY5m7SRrC9X2TUjarQli6kyS6Cu38bn\n",
       "wVnve6AHwwxXUTNqbJ2cdFBhSc4N0orbJA46N2hruwL7xgG22T19FjyAsR7NR3IBiXBrCnlUhfyO\n",
       "dT+e3iJWGAbnIjbZiedGcfoysB1F7NtIy7oduxYd0/WuLz+mBUwBd5COWJlXDhCSTXpCm5waPBbo\n",
       "wxWsA/J/gC8M1UFImrxjkdfGdPDVCBEqWigzgs0X0/7VT79PhXDz/sdyDAn4+GnIAcEM/q3kzVUu\n",
       "+9cegayhEx8pqtRX2cVDTgQIMKuAAAABxAGecWpDPwDdIC9/hhI6xZSrlFRvucoGNrH9uMaN2NVa\n",
       "WzHj0G0aiDwaKbe3/TACvyj2Hc+DPWM7KN83mqeat3x5I2IAn3jP0SVaNzfK+0Vo6j8RLslF70SE\n",
       "jzZg6TSswv321eeS/WwL8VwuFC3BChw8nb0mOcGHtDxm8i0UY7ydtGZwShaTXjYIaG+uA6tViePK\n",
       "QHGlcOKHHEwmapf9PgMvlR0uuSmkoJJMlICzTDJWgFbNxRaSNMu/L8m6BDwuJsYwQW1SwHS4jRgM\n",
       "B64MBH83AUrGg72+/sCwVAPA5UPgiZfp/uqoBBj5eXuYGW75bTs4KHjijxdG52efhhsHElBDbS1J\n",
       "oFIUR2n0+rdGhDKEh1hA3cNP900ZY9JQRGuBnDrlDxuLfoovkfwA3/FSlO1aw3t/sf6RihPt1777\n",
       "VEP3/1WwvxM3q4aVE3qJrJZZko5WGfdd/0Kje5U7kSnONdKuUj+XALPGZcQ+dkd7AQLHCLLKNGOE\n",
       "v/sUqLVvLeBpSQFlX+BxxJD9UAqX501CSQFEhbnXqmTlaVhoAbB+ZSXRUvoN1Z4kjyzSIylRcXrr\n",
       "0ZlLursAcdmXq+dwetyj0XG4L8i4AAAEykGadEmoQWyZTBRMO//+qZYAjBQ9eQz/ANc18hV5oAdK\n",
       "14LKNaMiXQj6cu5xL2YAh5HMC90ep7UMuUa/pPAfo4ujtAR6ucrR58Vn5ZkJDBWsCnm2Cs7NYLHd\n",
       "LI5PpenERGhzQwu/WJvLpDNbkNEGq28QPRBqa8LW0xG17ACFNKcPv5kAleokjVSGJLhVkhm8hBYH\n",
       "e/QSUJQUAKuu04Z+mrBSDoxPocYoZF9zztLyJmHl0+Ck8APwqRJ9VXxHq4/hPIeNRlYQds7Dz2nL\n",
       "BPToX9Y+iV2BxvZc8EFc31F0wXDtxH9tTXNQTXX/La02k0n2iJCx+3eQZLZ+YTXQQBbuHJMNLe9L\n",
       "/ac+mIFMROnj639BMslfWDPSUbFae+XPjynD3S5lvO9HHxXa37YK8FOnV3/YyrEGfYIlNNUwBqoA\n",
       "u/XDa2QA6pCqEV7+vKf/2323HrKVDnIwKFnNKS1XWLRZseghJr9EkbJUiZkOwGIrP3mMiPNhIY5h\n",
       "ugPvuUMGLKVi8cmfXbMdyLQahTvpduJeHqdMDBH9wCq9fdRrBHaju3pjewv0hp7IPNhmB4zzEwqf\n",
       "wzvEnlFzv1ruQWEbrA38UBvnqNWZHBBlpWFl1brRtXgmI+UqM84sFWq0O75/2t/SY4tK0g7i0BPj\n",
       "RTywuqfoq54cujOYT0R1oYRly/TyTqgM+kAs6n4Ino3P9xQpObyGkAhBECdD29LptJEz7DryzbZi\n",
       "KdUawK3wu0rzQu5xwmMSn3dzEMI5suSGrtlPDwQyeDK5V37Qmv76gR5AaQ+5pnpqb/aOZNhcVIqr\n",
       "J8Q67QCXEF0TDiNh/CpQwBGgsV/qbMq/Wm+WsKF7IidS9UHDG2du+vkIbqaX7YineReKcDYsD/1o\n",
       "Rck3hxrjuIG7wvpS1Wh3/6nEZChzBpCbZsCc8LSVSW2Goftoz9Q+qvsC8BUBSnH8tNrbvycOfryA\n",
       "spj4U0vp9ELmbqBbECDIk/z1gn3az9VJcgUWQsDwNdHe7cTMdl47615RlPl1tT5GYCa7Gja+avOT\n",
       "CsDR+h/fIu16fGQoFPAHPs0roLE8cmI2NzIJp7+L0T78QLWxMloZUcN6kXrhODSRI3kHvGZ9B7Mp\n",
       "s0nhiyDyt0TZ3ydAV07F7nz5gcl0hoDfgCqePQAiPyQ/MxT0Kr6HFmmoVyhFYMJ/PU8deYZchL/o\n",
       "YCSB5FgyCxCraybsVoTQZO22xNmjpjjdbd/SEpDGKqUnX1of1CrHjBvmAZ/n1TPECG0LOqpkmIYW\n",
       "JIPRSjBEVe6cGIJaqoJJyY2T4WHDx8Ddb4FH2uT45ou5qF3vweU5JUboOysCDx1xhmpKsyVqUiK4\n",
       "P6GM+4dZCW+ZTE3nqW35jF6WOu1WZhzHo2QpcpfG0NpMSjUEaXBMRsuYEMUwr2RYTvDOQeqvIkQD\n",
       "OYV+3vdQmq5IGNmjlXGeRRq7GlGSmXKOue4El56tCgh+dYu/o+dm1rYBHRAOB2CFXXsxkYpooZc3\n",
       "rLsOB1CFpnYhZoW2P5ad+cgMQ0ReKo1VzoGerNx/UOfV3gL2UpOTJe5sd6ZtEjRxAnwfWdT6UfiJ\n",
       "KPaah6YvcjLFK0UND554g16xF9iwPSxb3fRt0wgaVGf8FZTzIHd/K/4chFc1LQAmUiBsDu0lAAAC\n",
       "RwGek2pDPwDdMqBki8ZnRn2ciTUXKPj25uxz89UIE3wxCEYAX8LbRWp25MpqF3vruNt7L1bnO9cf\n",
       "51gw8+XOPb0qlr2haVaNXd3pIsR5Nv7k4GBAwkPhoQHaOfPUY8ZA8a4fi0Mcxjafbw5xvqSN0c2k\n",
       "CMOHXETFUJ+Q09m9zZ0qtIC5adRnFU+oUjlFwb7fJcNgnHrd6P7hwBKnifG5iwvhiUNS+Ydt2f5d\n",
       "veryXGXEV3/S7FK1GjY4JeSCQkctQy8X1jQ3ithNtNiPXMT31pw8BbPPMuTx8Wt3nEdrA/rx+FrZ\n",
       "n6NO3W90xiwiSC+Mnd5ZRxZlYJdfbEqw0ieG7iimQy5V2bR9Ogivc5EvCFPnPEeh1yiSFN/bHVp3\n",
       "80DvRlAWI736O432F9iZzeR8UEDbkejlqG/dUGEF1HgORCu5ceMcxPGUE/H0sMkcMVwDaL55h6ii\n",
       "UcJRcM7aTJ8JY2OMatSC4m7A4Q7JgcWVe5IFbA4VxMZwhNgnia3+roIoRDaQ8Nwr/8MyoODy5ISt\n",
       "r9LhKlb+H3AoaBmEB+9oTmfWozDfZ/CoBc1dX5Z3IN9+rgTj2gRMTVo8lWAANuCaODg/WnbNxmV1\n",
       "I2J068JzGTv6Aww60Dl08xiHMrtGPWqfJnupL9/gxWz2YNN2J3AflTwBdHlxpsO4uKDlglfSTIJy\n",
       "c+KJo3VfznYKNotK1ir4AsDOGRvxJ+CivQmDUp1g1YK9SX6OXtyofL0i6rQwuqtF3XrlP3kJOgh/\n",
       "oTr9yD3kWzdK6exICXkAAAMtQZqVSeEKUmUwId/+qZYAjBNkpDPtBmGSNAqeB/eWgPFnuIARKaRO\n",
       "7zpkc01HrbZNqubLLDNV/ecn0sQz/k3/M3lBXqGhVOOC+3LC53rMIvLC+PiTdaeFYCyjlK+21nGe\n",
       "Vv95UQ+TjcQ9HWyVJSyThGi1nxHYb9mVVdGMZZ4Q5JM3w+wle0FeuQcQlhJXfnAEtRWa/H2xa5H0\n",
       "iY2OZ6tI7pj8fmUKl0D9FoF2xgfj9guGw9QR3mz36x1bDsTW87/W0CyZK6JNiY54vEgM7uiX4KnE\n",
       "z6vSNHVDmAiFGNaZ9qpbbJlc/iJvszob8Jb/btZS/0TtEbzjF6Uilw42UHK8V1g9pDWIZ/RhoQE0\n",
       "WCmKkLxF8cGaeTF1B9SNxbY360uXEFaKpJWlKqMnxY2Ppd82kqY/HBaKahAEkAsPOL2OOaS2EQQ/\n",
       "d7bl+O7Q0p2hf9RpZwOrmc7wPK59qQs6sVuYrjQHzi+AEC/9Mk0vGDvVHGlDREO0qOOaTuYapVjE\n",
       "LBGsPkf+8yZ9osm3Sv4Ftl1AV1M0W49l4wtdGYyCoa5vTqn6pNfh5zU0lM8ygB7S0m3BJcA1p+66\n",
       "lVpfaNd+fpV4F1IKzn+QC8HRrgN2w677VcpfN91vqcmKZZu6h7XD3vTaxeGH9PLBGEhNDMCtjt6y\n",
       "KCiOf4h3kx98OzImo97PTxKOSsySbBfD9qXnC8LK/ikdmT5DJAA2mb6iSwaItlKp0lf15OxW+vV/\n",
       "NgpyUi6MJ3z2O+tsTj+W8W00zNSZ/grTRGdUGUzHF1LantzT6o53ddFJzW1WU/v8WdPuIAiHLkvZ\n",
       "o15KvfWN4Eu/uvdZ78O1pZcRCiy8yMyoBvkZHiWX2v0Kx0ieiGuavoOBYfGH6+IUGhW/AdE3/i5i\n",
       "uDJ8MH2AG9Z9z/6wzsIa2fPHy0kjmSL9Ai8rKO3K8HgSVLNX1akFXoKLN6hXnHiSn3xgF3PwxA6U\n",
       "pBTcXbd54z+9O08gHX3FzZ3REs+fFpKiaAwMEj0jQcY/XjJujBis5A9fQnnY67shEYuF2Lsa3DEW\n",
       "gd4FXPH63dKUTtwYPaerCicgHlkR24PYAsggfdoIJDbVAAADBEGatknhDomUwId//qmWAJATyF5L\n",
       "inSU03NXOSmD89CZbftdrGJ5xAnkIARdmmHREQ9swU7qmgAIEhGDCg/dCePpxs4CxJvAenoYM1Af\n",
       "zeUGRqyyaX+UkHk9Mqp/LvHnZAKKgUyaPqqwEWuazzIse7symw0HLhfFD8EaobVDHSWYTvoLH4lM\n",
       "4g63qAFMZHuNw622VfCdsUWM/SQstsMGrrNzW0QucSDr8hl8yG4+nC6U6xullPCHhaG5TxaTLqpx\n",
       "iEAdm2F7AzRLCoWIMuhVr7aWWa4/kzyglE16SPTrX+P7SqyLyylRvXUx3CCv2DA/dZiGZDhWkiqx\n",
       "gTkbxNeBavD2Uu9UT++7AidqgD44MCdUIPnIr6JsME/WakGbnwsqQoL+p/5qoP1Pelfj4dFa6KID\n",
       "GRgrvf8v7kGIRig/tuy0Dv9zxawUxcgaYwBP6hBmGunw0GqSIoN+DYIVA0hBDdZG8cwZ6rxtA2GA\n",
       "mhFd4STluCJiiS/bQtTWDMR8J3TtIjCZSKkH3OKl6hWkvhVHtaqEMksj2oBC1Zj0LYA5JvCstycp\n",
       "94WbPoPm9/E7oNRcTNqgJyhEgZXLLln1kW48mgWm0DyDwLVwB/MOT1crrvtqViUd3P7uQVONq0VK\n",
       "ulTTb9KcSsOyrjkv9PIolFs3aWqSl/MRuoIRs9k4Mb8hPxXFV3OQ0oIF3ahiRE6a+tL1CKD+H/2x\n",
       "kEqvWIZW8kzK4HCYRuj5hk1pLV0k/+hzUBFSv/LZIovPE/0x/4RGy9PqEY0w2Lpmx76CyfQaTg79\n",
       "wC6ZDKHANRy6tRiuzMWN3b0zX3mL5Q9pxbZO2IQGPrmAAQA60kxdlhPiXQh4BtiPzuL3O/E5QB/+\n",
       "KwHvLl0rp++/0P0LHHvvb7EN4+TtjndzOxSOtlphAsf8Nt6n5OoL0B1Umfc8sYmXJQvcRVl0fKw6\n",
       "rK81RKz9zYmNoHTluK7bpOYkFdRFNz5vvvYz0A62gv0bVGBiQ4cGutX9pPJ8vd7SHcqVAbU3ImoV\n",
       "KOUAM6QuuMRE42MAAANsQZrXSeEPJlMCHf/+qZYAkBNkpDPoSmGR2s+of4mYAAQkhaDSoOPNb7rk\n",
       "e6Pq9Fh2CadDp/3aNryNERsDVuXdJTrJ9oXAjxFuPZj2AsZ1wIW0FKnDXcQtBuXr/dyAZzKRCymA\n",
       "YUbhKTQCE2KRauAhVfETylOHDlxnCeQTwLm1ktMane02HjtFJxZ/EEapRBA0Ux/mLgVktHYQpHRM\n",
       "6Bp/MDQqIQM67UnmRsgV1Tk+ebl9Wy98QoqcvJWa56SajzFzO1PI88h5DwT0E+ewoTwGzBGhBfzg\n",
       "uBnuJMtxNLjvJ+gjAGqCE3NgsGyu5S3CGKFaIzY6KradK9oVWRphnTWHBh1agaDjUuc41tptTjy5\n",
       "7KNfk1rmgnWqe5buKgS6GLNTQwyesQ5jjC3VeQnie/W3ywOykuEQtkU+wCgRXOHev4LU93TX6RNP\n",
       "prqIOWyjkGbKs7C20unQLcnOoWJhVr0pYO/DGDflUqneWCD1YBsHLs8edDGOENTpUqyUJAiaynB/\n",
       "Xm3x9ns+AFKBtcPD8UreV6d2z1lyxDRoI7N7sljVU2N4Kg5ea6JVWzdQFiqjZoKVpcEGFgjJhBZp\n",
       "ZrmwQFleT1YaUaXpWP2Sr7QIUC7K0bJeBIs+bnA0cMsbAJF78KbeyknyHShpakF14Bl5QR3frKv3\n",
       "S/YNN4tsrmSH4cPHlEVNBfqaJmk44gRVpy6oaTlzKtxlF0eeu5X2/TE4s5Rz4E9EGEy0DttMLmWT\n",
       "IQG79Y5hCewT5QLmaUoTaoDwJUE8+Ue/x49cpgBdA7s8W330VCwY7RP53XljdtfZOhjiCIc7K7Fw\n",
       "+C1V6EW7AMioj1AA+jjkGbfQ2MLhDbKnBQJZhMOHvJoqjC4bfMRjL8U6d4gS3aWxWGaE9YMjirXz\n",
       "SCwPRgy2+9JIfvuXl5xSv+VwDbgQi4gcJ2btDVOqOutSiSxE34LKCQe7MTzGNfHq9eafGCQN5mjE\n",
       "iccz63H+iRwcZov6CMVRX2JA1VeMqWk8vlH9w+E1XTAMv8iH3Gy1eah91z+5aE0zxmu6A6MXtx/1\n",
       "XuDFHBgxVHjnALmIIfXH4AsDCqmeuqaMp/ARlokd7r/kjDBUrI5QrboOjmVtEmYh8uUhLO7kw5mU\n",
       "opNCOwAAZMuDhtXl+Oy54t/pDjDUINFDMuUae81oEEf6efcQAAAC9kGa+EnhDyZTAh3//qmWAJAT\n",
       "ZKQz6EpxbQK9LxdKX4ZwagARlR1ndJxJT7hlBClInIE80EuZgnn6J9HF4x7hsRpNtxhTfAxt7wlm\n",
       "Xd7YRdyx8X342jzIIbhywb+v70C/ysPFHRqBOt4rxogyY1/G3fpCe669IRkz96iioEQb8+/m2AEM\n",
       "hFmeM9CXgqDY4al10ALC+A58s0h71+P2uKtijlvRj5wiUDiAQwFepAJlC08yPm1GhCfUxbyfyuJJ\n",
       "MPuPAP1ByxOAxaR10xaMOr5HUGtxovzt6i/qDcx2IfLMSen0u98YPDZN6NXPJ3dQrxJ4iEuO2yez\n",
       "Ij/G/f/6u8a+Y2YpJBRjYGsnaqwtz2g1mrn2wSLG1P3LH8Apm9/zVlYRIdirgE2gtyRPlAVFx5Hy\n",
       "jm30/vRCofjPuG2dDfRbqDKvwL8SVtpdxMaWxNT8iHM1WrXdefqn/sZiyz1gQDkmn+UFYq4lq55u\n",
       "VJFizuBgqixpv0dqGWMr4FbnI5xGa5Jk6vazYcLZTRtK2jrcS+bqUVDff2qVVUTX/slUaonossXP\n",
       "2qSVdIdBCKgN0FTZOXVA7zz4RAfZDEY4cCr/MF/rW6feAG+ggVzzEMl1oj2jVX/lUpaWyS36mFDp\n",
       "sACZkQu2kzXfRy4a7yowjv7RMEx5/JUuPjixPO31H8Tys06sdI9wsHEzPyTnNQgidHGS0Kwqszh0\n",
       "QV9vU6bzrEvoUBbGJwPV2nEzkkzAARuH3o8ix6W8tkWc5PjuRBubNp1N4GlC1r8PdmLA7pz2xe+T\n",
       "BZDwoTMkQM75iX/k3Chgb5VT0sjmzBJ0hFXfimVgKkbiSCLwDiA8cDCJJjXC8VKUKK48rPXpsRtt\n",
       "rKNEPbr9QEhdEWZSHFZFschEGX3XXRfrD30LL6V1EWqjCD5OP5s+Ohna0luz7Rhj4irr7ztnkRKX\n",
       "BpodNWr/ldMahsq8HLAcLiPGy8qZIPfRefMtxanYpnLRDNenrPnXrMahXUlbyLAuV15fgLfD2arr\n",
       "AAAC/UGbGUnhDyZTAh3//qmWAJATZKSG9kR2XFvy6kXd1AAhcgKhuxg61XuuR+Bua7HdTyWSz8Hp\n",
       "iIeiJC4RF2LuXfq9dLjvtldzgKV1v9p0CfyUL38CmjtnkAINpuZfBIL48/y9JtuR8mIK/UP3lRET\n",
       "84yQsgqZRl1flemsIXoVtLOxlrAVS2Mn0gjzRk8ymcvaHxtLyjoWJjwtMd4RUFbstZJQUFFHmPFg\n",
       "cgDj4GB8RJmC9tbMPvOmBqc428lmZTan8MZ7ThDaMupZT6Kb/E7gd0H14uOIyEo80zzJhlKDGOah\n",
       "lnc6ZP18tHzOVCQ/VUUXB5n1GbQbxS+LED481ySQkEUZTIv9PH756BMLuj+Rhp0Y7KIGRZT7bJ8n\n",
       "oE1RpF4Fj1FUnovZNRFaS6G1il5vvii9LKYpLYFmnCYqlFn4v0idYVUF3rz3s7o38QlBAYsZ2PHK\n",
       "1c3NgHSnw/F9tPmtsv6TO1TrZR6917ZUCl8ZPT38sW4u8zoT63Pgua+dnMHyNznBmezmBuvf19Ej\n",
       "X+/opHhWkfd7+xIUF5HmGz/gX89L9TQ94d4GNhM6Wtr936MrH/vB2YSGqrGytTyfWwBWd2lrRnbd\n",
       "b/SRWFpjW4hF/cJQaRdco8Wza64T9H9uKgEO8mzsfHMgQkRcA0bnZX8yBbX/U4R9tGwBwHiaOshI\n",
       "rQaqPJFMBKgFmGoj4NeXVXpWv8Nan37arn4ioReSjf0uOFk9iSGdBSeiv9TR6gZL6QwSXwPTlD5Y\n",
       "CKbyvt6WM3/PXnSTQzqS0KU7sbJQFp+K8Ml0oVBGEwFXk9ZcRHhXip7LbOScASjDH8Tvw46aioks\n",
       "b5rgixiKkx4Io1nimve7ozk8QQcTeMoNip0yJoYU1+IXfjsK9hUu05Wiwk+5N3UacGRzc1KcDnFV\n",
       "upce01Zjmtamf2EPwZsUw0wLAYkYAeXB57aNal86Q+OIlb77f/Gq1WUN0yjvLE6/iP0Ob5Wbhno4\n",
       "XCY864kDY2q8JJu13o5SNAw6QKgmTOS2mpOKeAAAAolBmzpJ4Q8mUwId//6plgCQE2SkhvZKbMvq\n",
       "8o/MYYUARKaU8r1iLc4IuikJjwziai77d6J227VmwXJvaO3pFq/+nBIiS3KHfznuagz273MT9F9J\n",
       "5R23sY522lif8SyHG6av50x38Xhbd53/lkDZg3nErYmZ/96w+ubGZNaAoC6EVCDT/vGIhNrGmKAG\n",
       "OnbpJ0iltF+vtrgcohXPSj2qgkEeyexpI8slA/5h96t6kjnICv4Y1RIguXEu6t3XyzfjECSAZ/Y9\n",
       "gPbUmidLxxq0OcCxabKiqLtrJxb9a4s4c/t25tS1hFaBQHq9wD+1P6f52UFdOLOHnvWNJW0nAKzW\n",
       "HX9sBXo4g18YDQDkhF8m6FTIL3HXf1ze4XRS5obhcC84BJZwAJ4EvFbNkEzqviNxvYYyj7VZJczb\n",
       "MqnfFTAbG+UBrzs6AXzuSpuHD/d1cr4q8Qg/hUEx6Ct2W4uzPlcASrV/+8JCl/V1enM9J0R0dTac\n",
       "O15/xKBFHp9tp/mx9MbAL1kAtkdmef0zKlcbDJBV57Wbu3jQpTBVcEoq9+hiftCd+SuvhZFebtch\n",
       "YXEGu/8xluOQO44FI4/pxV5EjfH/AU3rqNc60yHNeZWLKhLyspSyGa2bLRrp/UXDDcSHtvwLkKNI\n",
       "uSqccywTHlrlZDudSoaX5Cz4mswhrD1IO5jhGK8H5iTpEdFVnzTtB4Pgq4Q6dAPr0YulZ1ECl52G\n",
       "Jl2Suahl04YU4ISXBF2IVVK+/sS0R/w/K5pX60BEjAPVvDZr6Zk8J0gXm/ArOzQ+ocBwPKJsBuIa\n",
       "fOAsHgIPjn0EKZEhEzVpvIb1C/xgLz7/Az92JxwfbgDVrwLhkrTxr2PwfJ41KII+pTTPpYsYAAAC\n",
       "fkGbW0nhDyZTAhv//qeEASQcgoNzr57BOssepyW3+GcToUAVvIvro73swWZhctl0tSmW+jrqs6y1\n",
       "DjYSpw7ZS+O3/bFeJLSNFZt0Euq2MuIytHE2h+VnRBgk1ovU1VctcXTSvxW2Hrp/bj/z7az7CFMi\n",
       "JkhOyLE4UYlQq3IvpRED/FEm7K3TOoWvY2qBq5Hqbej4PN1aEqnZfI4+zlPXMSNbnoiLMNIHOyIz\n",
       "YBs4J2ARXlqj/gaZ7k3mjZLV88hHoXPbITHArnvjAKzqXpyyyYskOkA81ifQpK/eVNIDPN3mO+lS\n",
       "czDF4UTQd5f1+w2DPwxjRolIuxVCLlfD7n4bJ0UQUqGshEsRUURy3pT3hW4yWp2UJyuueXJflNoS\n",
       "WbVSA66Qh7rJXbh3QnjtzZG1NN+6LGVvYXH/ti14PGh9tf6eBz+DcptTJCQupuSZYvPuD4hMrbaY\n",
       "yYaxN2OzDH3y9AKNno6vfuqEif+4Mkg9riaJxpfzJwfURRerVud8FnDvNYMPocubswrjABYczNyL\n",
       "pCX83wrZ9k2Q4so/vve4UAOZUmac7jazNCIMfyxfG6I5zvcw1DoUL4rSk0MBW3rH3H6yGUpYiXqu\n",
       "tS4aGYd5C1VOxsQBeeYkp1YNMUOnPedAdw5/UU6uVVKgvYKDB93Cx1mVUfnoMrdsOnKCMyF/C3ug\n",
       "L+8i3332Gl2NA0ZEt3aJzpm/5GGen7wXawcF9rM/oJoxymxNByOdFqP63EpZsh6S5Pbm2jenLn6H\n",
       "qGCFRyYZ07v8mDFNh6UVdscXgc6HWB5BEO8DaOu5QJNDaHPShOJZ2JAqjqFhXmD5BRuh/l8/imq/\n",
       "KqoQ4BgFhsUAfe9zAAADmEGbfEnhDyZTAhn//p4QBHBFp96Kf5e6Cm6CVCRO47AGxrb+ufNHOfT0\n",
       "4nEi+9wgoYIxVvFryIS8Rx+xyKkMCWU3kC+hCjF52GLM6/LHYLjV2Iyh4OhD6trmsMZOUbpuzS7T\n",
       "mRK2pKFowNA1rO5Vhm4i/4L3UMfxgyYWOk8QD98m9003l/40MRmDQYkqhBfTRxodEdQreTUcbvpG\n",
       "OZ4ZAxPKSZAt4wMTesXJ0jpXRkI2gwIuFL0i9ueAb+UIbuuh/qdlWZ1llzN3Y1ODZzQrG5/nNM+E\n",
       "nD4XHz14ge1cpxTKplhxlS3m+PTeVfRhulT70BEBGo+NoC0OZ3A2REDmOl4HqsfdM/nKqTNO4yRp\n",
       "7B4SjiAinNTLnSr/yDU7SbGtfTe2vA84Ax2H0PPAnAsfnw6nNK/sgJ4k1wsSXr8IchbZqHJMdg94\n",
       "FV4u+EbeaSrpJRu5Fo61wOPQvY72EXQLoF6FFKlsXPhcq1NohHMm9bZo+zrUKZViBHaVkuXj4uNt\n",
       "gktvVsIidW9fEaNr/+SwC4OIMhrdhGNHLe/z+JVa/rdRRa6RyJ6Wmn+L+M6QVXz7oPEogZo48Btd\n",
       "UJel73rMVOB1mHajvC5u/Vmr40oHCRAlsGoc1BpKtkzMOd+XKk81wCnEGPJqRv+djeUMZBKRYdw/\n",
       "OIkQpuQe77Z17LUPSkDmur68oMAEpMVAI5Mu3XuFUSP109M6RyZTWBOFNFg0AG305lBOUlpEKUws\n",
       "DoB6zti2z05q7jfxKEbUABa8Fed/oTUx/EXuKRLtKEuFcFBghIwCQ5P2ZcF8EJqLCRW52Kk0cDUI\n",
       "ZJluAsBokl6FMMDWR/MDJqX1awTV4vAE4CEnS+zecRheuZkjBSsPuw49HYNM63ePb1PDaXvmvui2\n",
       "eSNvbWO7K+qGuKKZbTWmXzqTrqbU5LdOWNvTyjoidjkb9zx9Uo4m8HEkIC4iYz4zlAz4ZgzOmNsd\n",
       "hPEsknMOY6j7krmJjULOqPa2NCXBii2OEchBzHqso0yxNwCZF/2PDq2KcVC5VAcUwcKvlYsv8RYb\n",
       "dvQBR56uFb1yUKfhn/tr5U4Y1OFY3ZwACNhgDWXPmlqaZGTG+HUfkvjycn29USTTG84vN2JVnpSS\n",
       "a0+6S02ZMpGUXwT8jwZKVayQ4VE24kOYLnGtSADAMNMeC4Qf5jnfPGjyDUosL8W4NLAJ0RvYNBM4\n",
       "AD2P/wDzLnarGfa90wXx3xZh3b2fENewAAAWNG1vb3YAAABsbXZoZAAAAAAAAAAAAAAAAAAAA+gA\n",
       "AJMwAAEAAAEAAAAAAAAAAAAAAAABAAAAAAAAAAAAAAAAAAAAAQAAAAAAAAAAAAAAAAAAQAAAAAAA\n",
       "AAAAAAAAAAAAAAAAAAAAAAAAAAAAAAAAAAIAABVedHJhawAAAFx0a2hkAAAAAwAAAAAAAAAAAAAA\n",
       "AQAAAAAAAJMwAAAAAAAAAAAAAAAAAAAAAAABAAAAAAAAAAAAAAAAAAAAAQAAAAAAAAAAAAAAAAAA\n",
       "QAAAAAOuAAAB+AAAAAAAJGVkdHMAAAAcZWxzdAAAAAAAAAABAACTMAAACAAAAQAAAAAU1m1kaWEA\n",
       "AAAgbWRoZAAAAAAAAAAAAAAAAAAAMgAAB1wAVcQAAAAAAC1oZGxyAAAAAAAAAAB2aWRlAAAAAAAA\n",
       "AAAAAAAAVmlkZW9IYW5kbGVyAAAAFIFtaW5mAAAAFHZtaGQAAAABAAAAAAAAAAAAAAAkZGluZgAA\n",
       "ABxkcmVmAAAAAAAAAAEAAAAMdXJsIAAAAAEAABRBc3RibAAAALlzdHNkAAAAAAAAAAEAAACpYXZj\n",
       "MQAAAAAAAAABAAAAAAAAAAAAAAAAAAAAAAOuAfgASAAAAEgAAAAAAAAAAQAAAAAAAAAAAAAAAAAA\n",
       "AAAAAAAAAAAAAAAAAAAAAAAAABj//wAAADdhdmNDAWQAH//hABpnZAAfrNlA7BB6lhAAAAMAIAAA\n",
       "AwMg8YMZYAEABmjr48siwP34+AAAAAAcdXVpZGtoQPJfJE/FujmlG88DI/MAAAAAAAAAGHN0dHMA\n",
       "AAAAAAAAAQAAAdcAAAQAAAAAGHN0c3MAAAAAAAAAAgAAAAEAAAD7AAALsGN0dHMAAAAAAAABdAAA\n",
       "AAEAAAgAAAAAAQAADAAAAAABAAAEAAAAAAEAABQAAAAAAQAACAAAAAABAAAAAAAAAAEAAAQAAAAA\n",
       "AQAADAAAAAABAAAEAAAAAAEAAAwAAAAAAQAABAAAAAADAAAIAAAAAAEAAAwAAAAAAQAABAAAAAAB\n",
       "AAAUAAAAAAEAAAgAAAAAAQAAAAAAAAABAAAEAAAAAAEAABAAAAAAAgAABAAAAAABAAAMAAAAAAEA\n",
       "AAQAAAAABgAACAAAAAABAAAUAAAAAAEAAAgAAAAAAQAAAAAAAAABAAAEAAAAAAEAABAAAAAAAgAA\n",
       "BAAAAAABAAAIAAAAAAEAABAAAAAAAgAABAAAAAAGAAAIAAAAAAEAAAwAAAAAAQAABAAAAAABAAAM\n",
       "AAAAAAEAAAQAAAAAAQAAEAAAAAACAAAEAAAAAAEAAAwAAAAAAQAABAAAAAABAAAIAAAAAAEAAAwA\n",
       "AAAAAQAABAAAAAABAAAUAAAAAAEAAAgAAAAAAQAAAAAAAAABAAAEAAAAAAEAAAgAAAAAAQAADAAA\n",
       "AAABAAAEAAAAAAIAAAgAAAAAAQAADAAAAAABAAAEAAAAAAEAAAgAAAAAAQAADAAAAAABAAAEAAAA\n",
       "AAEAAAwAAAAAAQAABAAAAAAEAAAIAAAAAAEAAAwAAAAAAQAABAAAAAABAAAMAAAAAAEAAAQAAAAA\n",
       "AgAACAAAAAABAAAMAAAAAAEAAAQAAAAAAQAAFAAAAAABAAAIAAAAAAEAAAAAAAAAAQAABAAAAAAB\n",
       "AAAUAAAAAAEAAAgAAAAAAQAAAAAAAAABAAAEAAAAAAEAAAwAAAAAAQAABAAAAAABAAAQAAAAAAIA\n",
       "AAQAAAAACQAACAAAAAABAAAUAAAAAAEAAAgAAAAAAQAAAAAAAAABAAAEAAAAAAEAABAAAAAAAgAA\n",
       "BAAAAAABAAAMAAAAAAEAAAQAAAAAAQAAEAAAAAACAAAEAAAAAAEAAAwAAAAAAQAABAAAAAACAAAI\n",
       "AAAAAAEAAAwAAAAAAQAABAAAAAABAAAIAAAAAAEAABAAAAAAAgAABAAAAAABAAAIAAAAAAEAABQA\n",
       "AAAAAQAACAAAAAABAAAAAAAAAAEAAAQAAAAAAQAADAAAAAABAAAEAAAAAAEAAAgAAAAAAQAAEAAA\n",
       "AAACAAAEAAAAAAEAAAgAAAAAAQAAFAAAAAABAAAIAAAAAAEAAAAAAAAAAQAABAAAAAABAAAUAAAA\n",
       "AAEAAAgAAAAAAQAAAAAAAAABAAAEAAAAAAQAAAgAAAAAAQAAFAAAAAABAAAIAAAAAAEAAAAAAAAA\n",
       "AQAABAAAAAACAAAIAAAAAAEAAAwAAAAAAQAABAAAAAAHAAAIAAAAAAEAAAwAAAAAAQAABAAAAAAB\n",
       "AAAIAAAAAAEAAAwAAAAAAQAABAAAAAABAAAMAAAAAAEAAAQAAAAABQAACAAAAAABAAAMAAAAAAEA\n",
       "AAQAAAAABQAACAAAAAABAAAUAAAAAAEAAAgAAAAAAQAAAAAAAAABAAAEAAAAAAEAABQAAAAAAQAA\n",
       "CAAAAAABAAAAAAAAAAEAAAQAAAAAAQAAFAAAAAABAAAIAAAAAAEAAAAAAAAAAQAABAAAAAABAAAM\n",
       "AAAAAAEAAAQAAAAAAQAAFAAAAAABAAAIAAAAAAEAAAAAAAAAAQAABAAAAAABAAAMAAAAAAEAAAQA\n",
       "AAAAAQAACAAAAAABAAAUAAAAAAEAAAgAAAAAAQAAAAAAAAABAAAEAAAAAAEAABQAAAAAAQAACAAA\n",
       "AAABAAAAAAAAAAEAAAQAAAAAAQAAEAAAAAACAAAEAAAAAAcAAAgAAAAAAQAAFAAAAAABAAAIAAAA\n",
       "AAEAAAAAAAAAAQAABAAAAAABAAAMAAAAAAEAAAQAAAAAAQAAFAAAAAABAAAIAAAAAAEAAAAAAAAA\n",
       "AQAABAAAAAABAAAUAAAAAAEAAAgAAAAAAQAAAAAAAAABAAAEAAAAAAEAABQAAAAAAQAACAAAAAAB\n",
       "AAAAAAAAAAEAAAQAAAAAAQAADAAAAAABAAAEAAAAAAIAAAgAAAAAAQAAFAAAAAABAAAIAAAAAAEA\n",
       "AAAAAAAAAQAABAAAAAABAAAUAAAAAAEAAAgAAAAAAQAAAAAAAAABAAAEAAAAAAEAABQAAAAAAQAA\n",
       "CAAAAAABAAAAAAAAAAEAAAQAAAAAAQAACAAAAAABAAAMAAAAAAEAAAQAAAAAAgAACAAAAAABAAAM\n",
       "AAAAAAEAAAQAAAAAAQAAEAAAAAACAAAEAAAAAAEAAAwAAAAAAQAABAAAAAABAAAIAAAAAAEAAAwA\n",
       "AAAAAQAABAAAAAABAAAMAAAAAAEAAAQAAAAABgAACAAAAAABAAAMAAAAAAEAAAQAAAAAAQAADAAA\n",
       "AAABAAAEAAAAAAEAABAAAAAAAgAABAAAAAABAAAMAAAAAAEAAAQAAAAAAgAACAAAAAABAAAMAAAA\n",
       "AAEAAAQAAAAAAwAACAAAAAABAAAUAAAAAAEAAAgAAAAAAQAAAAAAAAABAAAEAAAAAAEAAAgAAAAA\n",
       "AQAADAAAAAABAAAEAAAAAAEAAAgAAAAAAQAAFAAAAAABAAAIAAAAAAEAAAAAAAAAAQAABAAAAAAB\n",
       "AAAQAAAAAAIAAAQAAAAAAQAAFAAAAAABAAAIAAAAAAEAAAAAAAAAAQAABAAAAAABAAAIAAAAAAEA\n",
       "ABQAAAAAAQAACAAAAAABAAAAAAAAAAEAAAQAAAAAAQAAFAAAAAABAAAIAAAAAAEAAAAAAAAAAQAA\n",
       "BAAAAAABAAAQAAAAAAIAAAQAAAAAAQAACAAAAAABAAAMAAAAAAEAAAQAAAAAAgAACAAAAAABAAAQ\n",
       "AAAAAAIAAAQAAAAABAAACAAAAAABAAAMAAAAAAEAAAQAAAAAAQAACAAAAAABAAAMAAAAAAEAAAQA\n",
       "AAAAAQAAFAAAAAABAAAIAAAAAAEAAAAAAAAAAQAABAAAAAABAAAUAAAAAAEAAAgAAAAAAQAAAAAA\n",
       "AAABAAAEAAAAAAEAABQAAAAAAQAACAAAAAABAAAAAAAAAAEAAAQAAAAAAQAACAAAAAABAAAUAAAA\n",
       "AAEAAAgAAAAAAQAAAAAAAAABAAAEAAAAAAEAABQAAAAAAQAACAAAAAABAAAAAAAAAAEAAAQAAAAA\n",
       "AQAACAAAAAABAAAQAAAAAAIAAAQAAAAAAQAAFAAAAAABAAAIAAAAAAEAAAAAAAAAAQAABAAAAAAB\n",
       "AAAMAAAAAAEAAAQAAAAAAgAACAAAAAABAAAQAAAAAAIAAAQAAAAAAQAAEAAAAAACAAAEAAAAAAEA\n",
       "ABQAAAAAAQAACAAAAAABAAAAAAAAAAEAAAQAAAAAAQAADAAAAAABAAAEAAAAAAEAABAAAAAAAgAA\n",
       "BAAAAAABAAAIAAAAAAEAABAAAAAAAgAABAAAAAABAAAMAAAAAAEAAAQAAAAAAgAACAAAAAABAAAM\n",
       "AAAAAAEAAAQAAAAAAQAAFAAAAAABAAAIAAAAAAEAAAAAAAAAAQAABAAAAAABAAAQAAAAAAIAAAQA\n",
       "AAAAAwAACAAAAAABAAAQAAAAAAIAAAQAAAAAAQAADAAAAAABAAAEAAAAAAEAAAwAAAAAAQAABAAA\n",
       "AAABAAAMAAAAAAEAAAQAAAAAAQAAFAAAAAABAAAIAAAAAAEAAAAAAAAAAQAABAAAAAABAAAUAAAA\n",
       "AAEAAAgAAAAAAQAAAAAAAAABAAAEAAAAAAEAABQAAAAAAQAACAAAAAABAAAAAAAAAAEAAAQAAAAA\n",
       "AQAAFAAAAAABAAAIAAAAAAEAAAAAAAAAAQAABAAAAAABAAAUAAAAAAEAAAgAAAAAAQAAAAAAAAAB\n",
       "AAAEAAAAAAEAAAwAAAAAAQAABAAAAAABAAAQAAAAAAIAAAQAAAAAAQAADAAAAAABAAAEAAAAAAEA\n",
       "ABAAAAAAAgAABAAAAAABAAAUAAAAAAEAAAgAAAAAAQAAAAAAAAABAAAEAAAAAAEAAAwAAAAAAQAA\n",
       "BAAAAAAIAAAIAAAAABxzdHNjAAAAAAAAAAEAAAABAAAB1wAAAAEAAAdwc3RzegAAAAAAAAAAAAAB\n",
       "1wAAFrQAAALlAAABnwAAAvkAAAIJAAABtAAAAacAAAJmAAABpwAABBIAAAHFAAABKwAAAb0AAADr\n",
       "AAABsQAAANgAAALwAAABhQAAAQYAAACOAAADiwAAATIAAAGjAAACKwAAAagAAAIqAAAB6QAAAsUA\n",
       "AAKMAAACAQAAA1MAAAIUAAABaAAAAWsAAAEsAAACJwAAAV4AAAEpAAABwQAAA+UAAAFcAAABKgAA\n",
       "AssAAAJGAAAClAAAAj4AAALXAAACwAAAAnYAAAI/AAAEYQAAAdUAAAJoAAABuwAAAboAAAKGAAAB\n",
       "gQAAAdAAAAI3AAABrgAAA7gAAAGBAAABngAAAbYAAAHCAAAB6wAAAWMAAAIaAAAB3AAABqoAAAGE\n",
       "AAAB9AAAAg0AAAEXAAAB5AAAANAAAAF4AAABSQAAAjMAAAE5AAAB9wAAAWcAAAKEAAABiQAAAdIA\n",
       "AAHlAAACVgAAAZgAAAPSAAABaAAAAM0AAAFWAAACUwAAAgsAAAHXAAABkQAAAqgAAAGPAAADOAAA\n",
       "AY4AAAFtAAACUwAAA0gAAAJYAAACdwAAAo8AAAKwAAAC7gAAArsAAAJjAAADSQAAAi4AAAJfAAAB\n",
       "ogAAAksAAAFsAAABoAAAAlcAAAGfAAAD3QAAAfgAAAHPAAACUQAAAckAAAKGAAACCwAAAjwAAAGw\n",
       "AAACwQAAA7UAAAFbAAAB+wAAAiEAAANEAAACPAAAAc0AAAHGAAACPAAAAaYAAAIRAAAC0AAAAV4A\n",
       "AADyAAABqgAAAeIAAAFQAAABDAAAAPkAAAJDAAAAsQAAANsAAAEPAAABpAAAAa4AAAFiAAABhgAA\n",
       "Aj4AAAHNAAABVwAAAV0AAAMXAAACMwAAAtwAAAI7AAACrwAAAkQAAAKIAAAC/QAAAmkAAAJ7AAAD\n",
       "lwAAAmAAAAGgAAABzgAAAaEAAAGCAAACOwAAAV0AAAFTAAABagAABn0AAAKbAAACSAAAAmQAAAH6\n",
       "AAADUQAAAuMAAAKIAAACagAAAuoAAAPmAAAB3QAAAPcAAACIAAACHQAAAQsAAACMAAAAmAAAAtgA\n",
       "AAGMAAAAogAAAWgAAALsAAAB8AAAAw0AAAJhAAACBwAAAg8AAANmAAACOAAAA6UAAANEAAACYgAA\n",
       "Ae8AAAGmAAACZQAAAZUAAAGkAAABjQAAA8AAAAHFAAABugAAAz8AAAN1AAADTQAAAzsAAANKAAAD\n",
       "PwAAAr0AAAVgAAAB1AAAApQAAACjAAAB3AAAASUAAAHjAAABagAAAJ8AAACXAAADCwAAAawAAACz\n",
       "AAABAgAAAeoAAAF+AAABBgAAAQgAAAHTAAABIAAAATwAABahAAABTgAAADYAAAA0AAAAIgAAAHAA\n",
       "AABKAAAAJgAAADgAAATsAAAArQAAADkAAAIPAAACxgAAAqMAAAJPAAACYAAAAoIAAAL8AAACQgAA\n",
       "A5EAAAIQAAABngAAA0gAAAH1AAACGQAAAu4AAAHxAAACqwAAAiMAAAQ9AAABbQAAAdoAAAGmAAAC\n",
       "JAAAAbwAAAHlAAABgwAAAhAAAAF+AAAERgAAAjcAAAIKAAACewAAAd4AAAKIAAACWQAAAqsAAAG/\n",
       "AAACWgAAAt0AAAI1AAACXQAAAaYAAAGLAAABeQAAAXAAAAH+AAABRwAAAhEAAALcAAAAtwAAAG0A\n",
       "AAAxAAAAtQAAAEIAAAAzAAACOwAAAFEAAAAuAAAAOwAAAI0AAAHmAAABQwAAALcAAAC4AAAB0wAA\n",
       "AYQAAACXAAAAqQAAA54AAADsAAABygAAAdwAAALgAAABswAAAhQAAAIWAAADzgAAAaEAAAG3AAAD\n",
       "rAAAA1MAAAKiAAAChgAABF8AAAKLAAAD8AAABJ0AAAKUAAAFjwAAAcoAAADnAAAA3gAAAccAAAD6\n",
       "AAAAwgAAALcAAAReAAABGQAAAOAAAAEQAAABkgAAAnsAAAIHAAABegAAAWcAAAT7AAACGQAAAbEA\n",
       "AAGzAAABxwAAAusAAAEKAAABMgAAAjAAAAHPAAABBwAAAPcAAAM6AAABDAAAAnAAAAIwAAACsQAA\n",
       "AhAAAAHBAAAEHwAAAggAAAI5AAADdgAAAgQAAAI+AAABmQAAAdkAAAFoAAACAgAAAbUAAAGAAAAB\n",
       "mgAABHcAAAIxAAAB9wAAAzgAAAJmAAADAgAAAtEAAAMRAAACdAAABosAAANZAAACWQAAAfoAAAMl\n",
       "AAAB6gAAAd0AAAJNAAACHwAAAuQAAAPbAAABrgAAAewAAAJXAAABewAAAwAAAAGgAAACUwAAAawA\n",
       "AANAAAABmQAAAXQAAAGLAAABbAAAAIYAAABOAAAAUgAAAYQAAAB8AAAAYQAAAEEAAAIpAAABBgAA\n",
       "AF0AAABuAAABswAAANQAAAB6AAAAeAAAAUgAAAB5AAADeQAAAMoAAAD/AAACVAAAAboAAAL4AAAB\n",
       "zgAAAaQAAAQkAAAB8wAAAacAAAHIAAAEzgAAAksAAAMxAAADCAAAA3AAAAL6AAADAQAAAo0AAAKC\n",
       "AAADnAAAABRzdGNvAAAAAAAAAAEAAAAwAAAAYnVkdGEAAABabWV0YQAAAAAAAAAhaGRscgAAAAAA\n",
       "AAAAbWRpcmFwcGwAAAAAAAAAAAAAAAAtaWxzdAAAACWpdG9vAAAAHWRhdGEAAAABAAAAAExhdmY1\n",
       "OC43Ni4xMDA=\n",
       "\">\n",
       "  Your browser does not support the video tag.\n",
       "</video>"
      ],
      "text/plain": [
       "<IPython.core.display.HTML object>"
      ]
     },
     "execution_count": 25,
     "metadata": {},
     "output_type": "execute_result"
    }
   ],
   "source": [
    "train_month_country = train.set_index('date').groupby([pd.Grouper(freq='M'), 'country'])['num_sold'].mean().unstack()\n",
    "import bar_chart_race as bcr\n",
    "bcr.bar_chart_race(df=train_month_country,\n",
    "                   n_bars=3,\n",
    "                   period_length=800,\n",
    "                   filename=None)"
   ]
  }
 ],
 "metadata": {
  "kernelspec": {
   "display_name": "Python 3",
   "language": "python",
   "name": "python3"
  },
  "language_info": {
   "codemirror_mode": {
    "name": "ipython",
    "version": 3
   },
   "file_extension": ".py",
   "mimetype": "text/x-python",
   "name": "python",
   "nbconvert_exporter": "python",
   "pygments_lexer": "ipython3",
   "version": "3.7.12"
  },
  "papermill": {
   "default_parameters": {},
   "duration": 55.66725,
   "end_time": "2022-01-09T06:57:39.052176",
   "environment_variables": {},
   "exception": null,
   "input_path": "__notebook__.ipynb",
   "output_path": "__notebook__.ipynb",
   "parameters": {},
   "start_time": "2022-01-09T06:56:43.384926",
   "version": "2.3.3"
  }
 },
 "nbformat": 4,
 "nbformat_minor": 5
}
