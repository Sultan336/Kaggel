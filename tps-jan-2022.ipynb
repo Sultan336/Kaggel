{
 "cells": [
  {
   "cell_type": "code",
   "execution_count": 1,
   "id": "cd11a113",
   "metadata": {
    "_cell_guid": "b1076dfc-b9ad-4769-8c92-a6c4dae69d19",
    "_uuid": "8f2839f25d086af736a60e9eeb907d3b93b6e0e5",
    "execution": {
     "iopub.execute_input": "2022-01-03T19:19:06.714606Z",
     "iopub.status.busy": "2022-01-03T19:19:06.708103Z",
     "iopub.status.idle": "2022-01-03T19:19:09.103369Z",
     "shell.execute_reply": "2022-01-03T19:19:09.104172Z",
     "shell.execute_reply.started": "2022-01-03T17:20:07.734362Z"
    },
    "papermill": {
     "duration": 2.424487,
     "end_time": "2022-01-03T19:19:09.104513",
     "exception": false,
     "start_time": "2022-01-03T19:19:06.680026",
     "status": "completed"
    },
    "tags": []
   },
   "outputs": [
    {
     "data": {
      "text/html": [
       "        <script type=\"text/javascript\">\n",
       "        window.PlotlyConfig = {MathJaxConfig: 'local'};\n",
       "        if (window.MathJax) {MathJax.Hub.Config({SVG: {font: \"STIX-Web\"}});}\n",
       "        if (typeof require !== 'undefined') {\n",
       "        require.undef(\"plotly\");\n",
       "        requirejs.config({\n",
       "            paths: {\n",
       "                'plotly': ['https://cdn.plot.ly/plotly-2.6.3.min']\n",
       "            }\n",
       "        });\n",
       "        require(['plotly'], function(Plotly) {\n",
       "            window._Plotly = Plotly;\n",
       "        });\n",
       "        }\n",
       "        </script>\n",
       "        "
      ]
     },
     "metadata": {},
     "output_type": "display_data"
    }
   ],
   "source": [
    "# Libraries for working with data\n",
    "import numpy as np \n",
    "import pandas as pd\n",
    "\n",
    "# libraries for visualizing data\n",
    "import plotly as py\n",
    "import plotly.graph_objs as go\n",
    "import plotly.express as px\n",
    "from plotly.offline import init_notebook_mode\n",
    "init_notebook_mode(connected = True)\n",
    "import seaborn as sns\n",
    "import matplotlib.pyplot as plt\n",
    "%matplotlib inline\n",
    "\n",
    "\n",
    "#########################################################\n",
    "import warnings\n",
    "warnings.filterwarnings(\"ignore\")\n",
    "\n",
    "pd.set_option('display.max_columns', None)"
   ]
  },
  {
   "cell_type": "code",
   "execution_count": 2,
   "id": "e49ee10f",
   "metadata": {
    "execution": {
     "iopub.execute_input": "2022-01-03T19:19:09.131863Z",
     "iopub.status.busy": "2022-01-03T19:19:09.131187Z",
     "iopub.status.idle": "2022-01-03T19:19:09.219423Z",
     "shell.execute_reply": "2022-01-03T19:19:09.220007Z",
     "shell.execute_reply.started": "2022-01-03T17:20:16.583564Z"
    },
    "papermill": {
     "duration": 0.103279,
     "end_time": "2022-01-03T19:19:09.220200",
     "exception": false,
     "start_time": "2022-01-03T19:19:09.116921",
     "status": "completed"
    },
    "tags": []
   },
   "outputs": [],
   "source": [
    "#Loading dataset\n",
    "train = pd.read_csv('../input/tabular-playground-series-jan-2022/train.csv')\n",
    "test = pd.read_csv('../input/tabular-playground-series-jan-2022/test.csv')\n",
    "submission = pd.read_csv('../input/tabular-playground-series-jan-2022/sample_submission.csv')"
   ]
  },
  {
   "cell_type": "code",
   "execution_count": 3,
   "id": "34be76bf",
   "metadata": {
    "execution": {
     "iopub.execute_input": "2022-01-03T19:19:09.253026Z",
     "iopub.status.busy": "2022-01-03T19:19:09.252283Z",
     "iopub.status.idle": "2022-01-03T19:19:09.285649Z",
     "shell.execute_reply": "2022-01-03T19:19:09.286277Z",
     "shell.execute_reply.started": "2022-01-03T17:20:20.521652Z"
    },
    "papermill": {
     "duration": 0.05416,
     "end_time": "2022-01-03T19:19:09.286446",
     "exception": false,
     "start_time": "2022-01-03T19:19:09.232286",
     "status": "completed"
    },
    "tags": []
   },
   "outputs": [
    {
     "name": "stdout",
     "output_type": "stream",
     "text": [
      "<class 'pandas.core.frame.DataFrame'>\n",
      "RangeIndex: 26298 entries, 0 to 26297\n",
      "Data columns (total 6 columns):\n",
      " #   Column    Non-Null Count  Dtype \n",
      "---  ------    --------------  ----- \n",
      " 0   row_id    26298 non-null  int64 \n",
      " 1   date      26298 non-null  object\n",
      " 2   country   26298 non-null  object\n",
      " 3   store     26298 non-null  object\n",
      " 4   product   26298 non-null  object\n",
      " 5   num_sold  26298 non-null  int64 \n",
      "dtypes: int64(2), object(4)\n",
      "memory usage: 1.2+ MB\n"
     ]
    }
   ],
   "source": [
    "train.info()"
   ]
  },
  {
   "cell_type": "code",
   "execution_count": 4,
   "id": "0f718519",
   "metadata": {
    "execution": {
     "iopub.execute_input": "2022-01-03T19:19:09.314125Z",
     "iopub.status.busy": "2022-01-03T19:19:09.313419Z",
     "iopub.status.idle": "2022-01-03T19:19:09.333713Z",
     "shell.execute_reply": "2022-01-03T19:19:09.333036Z",
     "shell.execute_reply.started": "2022-01-03T17:20:35.690919Z"
    },
    "papermill": {
     "duration": 0.035625,
     "end_time": "2022-01-03T19:19:09.333892",
     "exception": false,
     "start_time": "2022-01-03T19:19:09.298267",
     "status": "completed"
    },
    "tags": []
   },
   "outputs": [
    {
     "data": {
      "text/html": [
       "<div>\n",
       "<style scoped>\n",
       "    .dataframe tbody tr th:only-of-type {\n",
       "        vertical-align: middle;\n",
       "    }\n",
       "\n",
       "    .dataframe tbody tr th {\n",
       "        vertical-align: top;\n",
       "    }\n",
       "\n",
       "    .dataframe thead th {\n",
       "        text-align: right;\n",
       "    }\n",
       "</style>\n",
       "<table border=\"1\" class=\"dataframe\">\n",
       "  <thead>\n",
       "    <tr style=\"text-align: right;\">\n",
       "      <th></th>\n",
       "      <th>row_id</th>\n",
       "      <th>date</th>\n",
       "      <th>country</th>\n",
       "      <th>store</th>\n",
       "      <th>product</th>\n",
       "      <th>num_sold</th>\n",
       "    </tr>\n",
       "  </thead>\n",
       "  <tbody>\n",
       "    <tr>\n",
       "      <th>0</th>\n",
       "      <td>0</td>\n",
       "      <td>2015-01-01</td>\n",
       "      <td>Finland</td>\n",
       "      <td>KaggleMart</td>\n",
       "      <td>Kaggle Mug</td>\n",
       "      <td>329</td>\n",
       "    </tr>\n",
       "    <tr>\n",
       "      <th>1</th>\n",
       "      <td>1</td>\n",
       "      <td>2015-01-01</td>\n",
       "      <td>Finland</td>\n",
       "      <td>KaggleMart</td>\n",
       "      <td>Kaggle Hat</td>\n",
       "      <td>520</td>\n",
       "    </tr>\n",
       "    <tr>\n",
       "      <th>2</th>\n",
       "      <td>2</td>\n",
       "      <td>2015-01-01</td>\n",
       "      <td>Finland</td>\n",
       "      <td>KaggleMart</td>\n",
       "      <td>Kaggle Sticker</td>\n",
       "      <td>146</td>\n",
       "    </tr>\n",
       "    <tr>\n",
       "      <th>3</th>\n",
       "      <td>3</td>\n",
       "      <td>2015-01-01</td>\n",
       "      <td>Finland</td>\n",
       "      <td>KaggleRama</td>\n",
       "      <td>Kaggle Mug</td>\n",
       "      <td>572</td>\n",
       "    </tr>\n",
       "    <tr>\n",
       "      <th>4</th>\n",
       "      <td>4</td>\n",
       "      <td>2015-01-01</td>\n",
       "      <td>Finland</td>\n",
       "      <td>KaggleRama</td>\n",
       "      <td>Kaggle Hat</td>\n",
       "      <td>911</td>\n",
       "    </tr>\n",
       "  </tbody>\n",
       "</table>\n",
       "</div>"
      ],
      "text/plain": [
       "   row_id        date  country       store         product  num_sold\n",
       "0       0  2015-01-01  Finland  KaggleMart      Kaggle Mug       329\n",
       "1       1  2015-01-01  Finland  KaggleMart      Kaggle Hat       520\n",
       "2       2  2015-01-01  Finland  KaggleMart  Kaggle Sticker       146\n",
       "3       3  2015-01-01  Finland  KaggleRama      Kaggle Mug       572\n",
       "4       4  2015-01-01  Finland  KaggleRama      Kaggle Hat       911"
      ]
     },
     "execution_count": 4,
     "metadata": {},
     "output_type": "execute_result"
    }
   ],
   "source": [
    "train.head()"
   ]
  },
  {
   "cell_type": "code",
   "execution_count": 5,
   "id": "38b279ae",
   "metadata": {
    "execution": {
     "iopub.execute_input": "2022-01-03T19:19:09.367948Z",
     "iopub.status.busy": "2022-01-03T19:19:09.362978Z",
     "iopub.status.idle": "2022-01-03T19:19:09.382610Z",
     "shell.execute_reply": "2022-01-03T19:19:09.381880Z",
     "shell.execute_reply.started": "2022-01-03T17:21:01.141949Z"
    },
    "papermill": {
     "duration": 0.035593,
     "end_time": "2022-01-03T19:19:09.382860",
     "exception": false,
     "start_time": "2022-01-03T19:19:09.347267",
     "status": "completed"
    },
    "tags": []
   },
   "outputs": [],
   "source": [
    "# converting date into time series data\n",
    "train['date'] = pd.to_datetime(train.date)\n",
    "test['date'] = pd.to_datetime(test.date)"
   ]
  },
  {
   "cell_type": "code",
   "execution_count": 6,
   "id": "6675b589",
   "metadata": {
    "execution": {
     "iopub.execute_input": "2022-01-03T19:19:09.413638Z",
     "iopub.status.busy": "2022-01-03T19:19:09.412972Z",
     "iopub.status.idle": "2022-01-03T19:19:09.419213Z",
     "shell.execute_reply": "2022-01-03T19:19:09.419783Z",
     "shell.execute_reply.started": "2022-01-03T17:21:32.712421Z"
    },
    "papermill": {
     "duration": 0.024323,
     "end_time": "2022-01-03T19:19:09.419958",
     "exception": false,
     "start_time": "2022-01-03T19:19:09.395635",
     "status": "completed"
    },
    "tags": []
   },
   "outputs": [
    {
     "name": "stdout",
     "output_type": "stream",
     "text": [
      "Training data is from 2015-01-01 00:00:00 to 2018-12-31 00:00:00 duration 1460 days 00:00:00 \n",
      "Testing  data is from 2019-01-01 00:00:00 to 2019-12-31 00:00:00 duration  364 days 00:00:00 \n"
     ]
    }
   ],
   "source": [
    "# duration \n",
    "print(f'Training data is from {train.date.min()} to {train.date.max()} duration {train.date.max()-train.date.min()} ')\n",
    "print(f'Testing  data is from {test.date.min()} to {test.date.max()} duration  {test.date.max()-test.date.min()} ')"
   ]
  },
  {
   "cell_type": "code",
   "execution_count": 7,
   "id": "1f321631",
   "metadata": {
    "execution": {
     "iopub.execute_input": "2022-01-03T19:19:09.452454Z",
     "iopub.status.busy": "2022-01-03T19:19:09.451790Z",
     "iopub.status.idle": "2022-01-03T19:19:09.462877Z",
     "shell.execute_reply": "2022-01-03T19:19:09.461822Z",
     "shell.execute_reply.started": "2022-01-03T17:21:45.404411Z"
    },
    "papermill": {
     "duration": 0.030253,
     "end_time": "2022-01-03T19:19:09.463151",
     "exception": false,
     "start_time": "2022-01-03T19:19:09.432898",
     "status": "completed"
    },
    "tags": []
   },
   "outputs": [
    {
     "name": "stdout",
     "output_type": "stream",
     "text": [
      "country: ['Finland' 'Norway' 'Sweden']\n",
      "store: ['KaggleMart' 'KaggleRama']\n",
      "product: ['Kaggle Mug' 'Kaggle Hat' 'Kaggle Sticker']\n"
     ]
    }
   ],
   "source": [
    "for col in ['country', 'store','product']:\n",
    "    print(f'{col}: {train[col].unique()}')\n"
   ]
  },
  {
   "cell_type": "code",
   "execution_count": 8,
   "id": "aa0528e2",
   "metadata": {
    "execution": {
     "iopub.execute_input": "2022-01-03T19:19:09.494357Z",
     "iopub.status.busy": "2022-01-03T19:19:09.493308Z",
     "iopub.status.idle": "2022-01-03T19:19:09.519901Z",
     "shell.execute_reply": "2022-01-03T19:19:09.519183Z",
     "shell.execute_reply.started": "2022-01-03T18:11:23.341422Z"
    },
    "papermill": {
     "duration": 0.042602,
     "end_time": "2022-01-03T19:19:09.520053",
     "exception": false,
     "start_time": "2022-01-03T19:19:09.477451",
     "status": "completed"
    },
    "tags": []
   },
   "outputs": [
    {
     "data": {
      "text/html": [
       "<div>\n",
       "<style scoped>\n",
       "    .dataframe tbody tr th:only-of-type {\n",
       "        vertical-align: middle;\n",
       "    }\n",
       "\n",
       "    .dataframe tbody tr th {\n",
       "        vertical-align: top;\n",
       "    }\n",
       "\n",
       "    .dataframe thead th {\n",
       "        text-align: right;\n",
       "    }\n",
       "</style>\n",
       "<table border=\"1\" class=\"dataframe\">\n",
       "  <thead>\n",
       "    <tr style=\"text-align: right;\">\n",
       "      <th></th>\n",
       "      <th></th>\n",
       "      <th></th>\n",
       "      <th>num_sold</th>\n",
       "    </tr>\n",
       "    <tr>\n",
       "      <th>country</th>\n",
       "      <th>store</th>\n",
       "      <th>product</th>\n",
       "      <th></th>\n",
       "    </tr>\n",
       "  </thead>\n",
       "  <tbody>\n",
       "    <tr>\n",
       "      <th rowspan=\"6\" valign=\"top\">Finland</th>\n",
       "      <th rowspan=\"3\" valign=\"top\">KaggleMart</th>\n",
       "      <th>Kaggle Hat</th>\n",
       "      <td>529583</td>\n",
       "    </tr>\n",
       "    <tr>\n",
       "      <th>Kaggle Mug</th>\n",
       "      <td>298337</td>\n",
       "    </tr>\n",
       "    <tr>\n",
       "      <th>Kaggle Sticker</th>\n",
       "      <td>150548</td>\n",
       "    </tr>\n",
       "    <tr>\n",
       "      <th rowspan=\"3\" valign=\"top\">KaggleRama</th>\n",
       "      <th>Kaggle Hat</th>\n",
       "      <td>918862</td>\n",
       "    </tr>\n",
       "    <tr>\n",
       "      <th>Kaggle Mug</th>\n",
       "      <td>520278</td>\n",
       "    </tr>\n",
       "    <tr>\n",
       "      <th>Kaggle Sticker</th>\n",
       "      <td>263319</td>\n",
       "    </tr>\n",
       "    <tr>\n",
       "      <th rowspan=\"6\" valign=\"top\">Norway</th>\n",
       "      <th rowspan=\"3\" valign=\"top\">KaggleMart</th>\n",
       "      <th>Kaggle Hat</th>\n",
       "      <td>868777</td>\n",
       "    </tr>\n",
       "    <tr>\n",
       "      <th>Kaggle Mug</th>\n",
       "      <td>488515</td>\n",
       "    </tr>\n",
       "    <tr>\n",
       "      <th>Kaggle Sticker</th>\n",
       "      <td>247753</td>\n",
       "    </tr>\n",
       "    <tr>\n",
       "      <th rowspan=\"3\" valign=\"top\">KaggleRama</th>\n",
       "      <th>Kaggle Hat</th>\n",
       "      <td>1514119</td>\n",
       "    </tr>\n",
       "    <tr>\n",
       "      <th>Kaggle Mug</th>\n",
       "      <td>853659</td>\n",
       "    </tr>\n",
       "    <tr>\n",
       "      <th>Kaggle Sticker</th>\n",
       "      <td>431883</td>\n",
       "    </tr>\n",
       "    <tr>\n",
       "      <th rowspan=\"6\" valign=\"top\">Sweden</th>\n",
       "      <th rowspan=\"3\" valign=\"top\">KaggleMart</th>\n",
       "      <th>Kaggle Hat</th>\n",
       "      <td>612472</td>\n",
       "    </tr>\n",
       "    <tr>\n",
       "      <th>Kaggle Mug</th>\n",
       "      <td>344628</td>\n",
       "    </tr>\n",
       "    <tr>\n",
       "      <th>Kaggle Sticker</th>\n",
       "      <td>174755</td>\n",
       "    </tr>\n",
       "    <tr>\n",
       "      <th rowspan=\"3\" valign=\"top\">KaggleRama</th>\n",
       "      <th>Kaggle Hat</th>\n",
       "      <td>1068652</td>\n",
       "    </tr>\n",
       "    <tr>\n",
       "      <th>Kaggle Mug</th>\n",
       "      <td>600870</td>\n",
       "    </tr>\n",
       "    <tr>\n",
       "      <th>Kaggle Sticker</th>\n",
       "      <td>304348</td>\n",
       "    </tr>\n",
       "  </tbody>\n",
       "</table>\n",
       "</div>"
      ],
      "text/plain": [
       "                                   num_sold\n",
       "country store      product                 \n",
       "Finland KaggleMart Kaggle Hat        529583\n",
       "                   Kaggle Mug        298337\n",
       "                   Kaggle Sticker    150548\n",
       "        KaggleRama Kaggle Hat        918862\n",
       "                   Kaggle Mug        520278\n",
       "                   Kaggle Sticker    263319\n",
       "Norway  KaggleMart Kaggle Hat        868777\n",
       "                   Kaggle Mug        488515\n",
       "                   Kaggle Sticker    247753\n",
       "        KaggleRama Kaggle Hat       1514119\n",
       "                   Kaggle Mug        853659\n",
       "                   Kaggle Sticker    431883\n",
       "Sweden  KaggleMart Kaggle Hat        612472\n",
       "                   Kaggle Mug        344628\n",
       "                   Kaggle Sticker    174755\n",
       "        KaggleRama Kaggle Hat       1068652\n",
       "                   Kaggle Mug        600870\n",
       "                   Kaggle Sticker    304348"
      ]
     },
     "execution_count": 8,
     "metadata": {},
     "output_type": "execute_result"
    }
   ],
   "source": [
    "train_categories = train.groupby(['country','store','product']).agg({'num_sold': 'sum'})\n",
    "train_categories"
   ]
  },
  {
   "cell_type": "code",
   "execution_count": 9,
   "id": "07b3be7f",
   "metadata": {
    "execution": {
     "iopub.execute_input": "2022-01-03T19:19:09.551095Z",
     "iopub.status.busy": "2022-01-03T19:19:09.550045Z",
     "iopub.status.idle": "2022-01-03T19:19:09.587013Z",
     "shell.execute_reply": "2022-01-03T19:19:09.586423Z",
     "shell.execute_reply.started": "2022-01-03T17:50:49.954040Z"
    },
    "papermill": {
     "duration": 0.053585,
     "end_time": "2022-01-03T19:19:09.587171",
     "exception": false,
     "start_time": "2022-01-03T19:19:09.533586",
     "status": "completed"
    },
    "tags": []
   },
   "outputs": [
    {
     "data": {
      "text/html": [
       "<div>\n",
       "<style scoped>\n",
       "    .dataframe tbody tr th:only-of-type {\n",
       "        vertical-align: middle;\n",
       "    }\n",
       "\n",
       "    .dataframe tbody tr th {\n",
       "        vertical-align: top;\n",
       "    }\n",
       "\n",
       "    .dataframe thead th {\n",
       "        text-align: right;\n",
       "    }\n",
       "</style>\n",
       "<table border=\"1\" class=\"dataframe\">\n",
       "  <thead>\n",
       "    <tr style=\"text-align: right;\">\n",
       "      <th></th>\n",
       "      <th>date</th>\n",
       "      <th>num_sold</th>\n",
       "    </tr>\n",
       "  </thead>\n",
       "  <tbody>\n",
       "    <tr>\n",
       "      <th>0</th>\n",
       "      <td>2015-12-31</td>\n",
       "      <td>364.382192</td>\n",
       "    </tr>\n",
       "    <tr>\n",
       "      <th>1</th>\n",
       "      <td>2016-12-31</td>\n",
       "      <td>364.807529</td>\n",
       "    </tr>\n",
       "    <tr>\n",
       "      <th>2</th>\n",
       "      <td>2017-12-31</td>\n",
       "      <td>396.011720</td>\n",
       "    </tr>\n",
       "    <tr>\n",
       "      <th>3</th>\n",
       "      <td>2018-12-31</td>\n",
       "      <td>424.995129</td>\n",
       "    </tr>\n",
       "  </tbody>\n",
       "</table>\n",
       "</div>"
      ],
      "text/plain": [
       "        date    num_sold\n",
       "0 2015-12-31  364.382192\n",
       "1 2016-12-31  364.807529\n",
       "2 2017-12-31  396.011720\n",
       "3 2018-12-31  424.995129"
      ]
     },
     "execution_count": 9,
     "metadata": {},
     "output_type": "execute_result"
    }
   ],
   "source": [
    "train_data_year = train.pivot_table(index=pd.Grouper(freq='Y',key='date')).reset_index().drop(columns='row_id',axis=0)\n",
    "train_data_year.head()"
   ]
  },
  {
   "cell_type": "code",
   "execution_count": 10,
   "id": "422af9e1",
   "metadata": {
    "execution": {
     "iopub.execute_input": "2022-01-03T19:19:09.623964Z",
     "iopub.status.busy": "2022-01-03T19:19:09.623200Z",
     "iopub.status.idle": "2022-01-03T19:19:10.279840Z",
     "shell.execute_reply": "2022-01-03T19:19:10.280368Z",
     "shell.execute_reply.started": "2022-01-03T19:16:14.891848Z"
    },
    "papermill": {
     "duration": 0.679666,
     "end_time": "2022-01-03T19:19:10.280544",
     "exception": false,
     "start_time": "2022-01-03T19:19:09.600878",
     "status": "completed"
    },
    "tags": []
   },
   "outputs": [
    {
     "data": {
      "image/png": "[encoded data removed]",
      "text/plain": [
       "<Figure size 864x504 with 1 Axes>"
      ]
     },
     "metadata": {
      "needs_background": "light"
     },
     "output_type": "display_data"
    }
   ],
   "source": [
    "#using seaborn\n",
    "train_data_year = train.set_index('date').groupby([pd.Grouper(freq='Y')])['num_sold'].mean().reset_index()\n",
    "train_data_month = train.set_index('date').groupby([pd.Grouper(freq='M')])['num_sold'].mean().reset_index()\n",
    "train_data_day = train.set_index('date').groupby([pd.Grouper(freq='d')])['num_sold'].mean().reset_index()\n",
    "fig, ax = plt.subplots(1, 1, figsize=(12, 7))\n",
    "sns.lineplot(data=train_data_month,x='date',y='num_sold' ,label='Monthly average', color='red',linewidth=2.5)\n",
    "sns.lineplot(data=train_data_day,x='date',y='num_sold' ,label='Daily average', color='green',alpha=.7)\n",
    "sns.lineplot(data=train_data_year,x='date',y='num_sold',ax=ax, label='Yearly average', color='black',linewidth=2.5)\n",
    "ax.set_title('Trend', fontsize=20, fontweight='bold', loc='left', y=1.03)\n",
    "ax.grid(alpha=0.5)\n",
    "ax.legend()\n",
    "plt.show()\n",
    "\n"
   ]
  },
  {
   "cell_type": "code",
   "execution_count": 11,
   "id": "322b4577",
   "metadata": {
    "execution": {
     "iopub.execute_input": "2022-01-03T19:19:10.318626Z",
     "iopub.status.busy": "2022-01-03T19:19:10.317532Z",
     "iopub.status.idle": "2022-01-03T19:19:11.360915Z",
     "shell.execute_reply": "2022-01-03T19:19:11.361429Z",
     "shell.execute_reply.started": "2022-01-03T18:36:10.251607Z"
    },
    "papermill": {
     "duration": 1.065263,
     "end_time": "2022-01-03T19:19:11.361598",
     "exception": false,
     "start_time": "2022-01-03T19:19:10.296335",
     "status": "completed"
    },
    "tags": []
   },
   "outputs": [
    {
     "data": {
      "application/vnd.plotly.v1+json": {
       "config": {
        "plotlyServerURL": "https://plot.ly"
       },
       "data": [
        {
         "hovertemplate": "date=%{x}<br>num_sold=%{y}<extra></extra>",
         "legendgroup": "",
         "line": {
          "color": "#636efa",
          "dash": "solid"
         },
         "marker": {
          "symbol": "circle"
         },
         "mode": "lines",
         "name": "",
         "orientation": "v",
         "showlegend": false,
         "type": "scatter",
         "x": [
          "2015-01-01T00:00:00",
          "2015-01-08T00:00:00",
          "2015-01-15T00:00:00",
          "2015-01-22T00:00:00",
          "2015-01-29T00:00:00",
          "2015-02-05T00:00:00",
          "2015-02-12T00:00:00",
          "2015-02-19T00:00:00",
          "2015-02-26T00:00:00",
          "2015-03-05T00:00:00",
          "2015-03-12T00:00:00",
          "2015-03-19T00:00:00",
          "2015-03-26T00:00:00",
          "2015-04-02T00:00:00",
          "2015-04-09T00:00:00",
          "2015-04-16T00:00:00",
          "2015-04-23T00:00:00",
          "2015-04-30T00:00:00",
          "2015-05-07T00:00:00",
          "2015-05-14T00:00:00",
          "2015-05-21T00:00:00",
          "2015-05-28T00:00:00",
          "2015-06-04T00:00:00",
          "2015-06-11T00:00:00",
          "2015-06-18T00:00:00",
          "2015-06-25T00:00:00",
          "2015-07-02T00:00:00",
          "2015-07-09T00:00:00",
          "2015-07-16T00:00:00",
          "2015-07-23T00:00:00",
          "2015-07-30T00:00:00",
          "2015-08-06T00:00:00",
          "2015-08-13T00:00:00",
          "2015-08-20T00:00:00",
          "2015-08-27T00:00:00",
          "2015-09-03T00:00:00",
          "2015-09-10T00:00:00",
          "2015-09-17T00:00:00",
          "2015-09-24T00:00:00",
          "2015-10-01T00:00:00",
          "2015-10-08T00:00:00",
          "2015-10-15T00:00:00",
          "2015-10-22T00:00:00",
          "2015-10-29T00:00:00",
          "2015-11-05T00:00:00",
          "2015-11-12T00:00:00",
          "2015-11-19T00:00:00",
          "2015-11-26T00:00:00",
          "2015-12-03T00:00:00",
          "2015-12-10T00:00:00",
          "2015-12-17T00:00:00",
          "2015-12-24T00:00:00",
          "2015-12-31T00:00:00",
          "2016-01-07T00:00:00",
          "2016-01-14T00:00:00",
          "2016-01-21T00:00:00",
          "2016-01-28T00:00:00",
          "2016-02-04T00:00:00",
          "2016-02-11T00:00:00",
          "2016-02-18T00:00:00",
          "2016-02-25T00:00:00",
          "2016-03-03T00:00:00",
          "2016-03-10T00:00:00",
          "2016-03-17T00:00:00",
          "2016-03-24T00:00:00",
          "2016-03-31T00:00:00",
          "2016-04-07T00:00:00",
          "2016-04-14T00:00:00",
          "2016-04-21T00:00:00",
          "2016-04-28T00:00:00",
          "2016-05-05T00:00:00",
          "2016-05-12T00:00:00",
          "2016-05-19T00:00:00",
          "2016-05-26T00:00:00",
          "2016-06-02T00:00:00",
          "2016-06-09T00:00:00",
          "2016-06-16T00:00:00",
          "2016-06-23T00:00:00",
          "2016-06-30T00:00:00",
          "2016-07-07T00:00:00",
          "2016-07-14T00:00:00",
          "2016-07-21T00:00:00",
          "2016-07-28T00:00:00",
          "2016-08-04T00:00:00",
          "2016-08-11T00:00:00",
          "2016-08-18T00:00:00",
          "2016-08-25T00:00:00",
          "2016-09-01T00:00:00",
          "2016-09-08T00:00:00",
          "2016-09-15T00:00:00",
          "2016-09-22T00:00:00",
          "2016-09-29T00:00:00",
          "2016-10-06T00:00:00",
          "2016-10-13T00:00:00",
          "2016-10-20T00:00:00",
          "2016-10-27T00:00:00",
          "2016-11-03T00:00:00",
          "2016-11-10T00:00:00",
          "2016-11-17T00:00:00",
          "2016-11-24T00:00:00",
          "2016-12-01T00:00:00",
          "2016-12-08T00:00:00",
          "2016-12-15T00:00:00",
          "2016-12-22T00:00:00",
          "2016-12-29T00:00:00",
          "2017-01-05T00:00:00",
          "2017-01-12T00:00:00",
          "2017-01-19T00:00:00",
          "2017-01-26T00:00:00",
          "2017-02-02T00:00:00",
          "2017-02-09T00:00:00",
          "2017-02-16T00:00:00",
          "2017-02-23T00:00:00",
          "2017-03-02T00:00:00",
          "2017-03-09T00:00:00",
          "2017-03-16T00:00:00",
          "2017-03-23T00:00:00",
          "2017-03-30T00:00:00",
          "2017-04-06T00:00:00",
          "2017-04-13T00:00:00",
          "2017-04-20T00:00:00",
          "2017-04-27T00:00:00",
          "2017-05-04T00:00:00",
          "2017-05-11T00:00:00",
          "2017-05-18T00:00:00",
          "2017-05-25T00:00:00",
          "2017-06-01T00:00:00",
          "2017-06-08T00:00:00",
          "2017-06-15T00:00:00",
          "2017-06-22T00:00:00",
          "2017-06-29T00:00:00",
          "2017-07-06T00:00:00",
          "2017-07-13T00:00:00",
          "2017-07-20T00:00:00",
          "2017-07-27T00:00:00",
          "2017-08-03T00:00:00",
          "2017-08-10T00:00:00",
          "2017-08-17T00:00:00",
          "2017-08-24T00:00:00",
          "2017-08-31T00:00:00",
          "2017-09-07T00:00:00",
          "2017-09-14T00:00:00",
          "2017-09-21T00:00:00",
          "2017-09-28T00:00:00",
          "2017-10-05T00:00:00",
          "2017-10-12T00:00:00",
          "2017-10-19T00:00:00",
          "2017-10-26T00:00:00",
          "2017-11-02T00:00:00",
          "2017-11-09T00:00:00",
          "2017-11-16T00:00:00",
          "2017-11-23T00:00:00",
          "2017-11-30T00:00:00",
          "2017-12-07T00:00:00",
          "2017-12-14T00:00:00",
          "2017-12-21T00:00:00",
          "2017-12-28T00:00:00",
          "2018-01-04T00:00:00",
          "2018-01-11T00:00:00",
          "2018-01-18T00:00:00",
          "2018-01-25T00:00:00",
          "2018-02-01T00:00:00",
          "2018-02-08T00:00:00",
          "2018-02-15T00:00:00",
          "2018-02-22T00:00:00",
          "2018-03-01T00:00:00",
          "2018-03-08T00:00:00",
          "2018-03-15T00:00:00",
          "2018-03-22T00:00:00",
          "2018-03-29T00:00:00",
          "2018-04-05T00:00:00",
          "2018-04-12T00:00:00",
          "2018-04-19T00:00:00",
          "2018-04-26T00:00:00",
          "2018-05-03T00:00:00",
          "2018-05-10T00:00:00",
          "2018-05-17T00:00:00",
          "2018-05-24T00:00:00",
          "2018-05-31T00:00:00",
          "2018-06-07T00:00:00",
          "2018-06-14T00:00:00",
          "2018-06-21T00:00:00",
          "2018-06-28T00:00:00",
          "2018-07-05T00:00:00",
          "2018-07-12T00:00:00",
          "2018-07-19T00:00:00",
          "2018-07-26T00:00:00",
          "2018-08-02T00:00:00",
          "2018-08-09T00:00:00",
          "2018-08-16T00:00:00",
          "2018-08-23T00:00:00",
          "2018-08-30T00:00:00",
          "2018-09-06T00:00:00",
          "2018-09-13T00:00:00",
          "2018-09-20T00:00:00",
          "2018-09-27T00:00:00",
          "2018-10-04T00:00:00",
          "2018-10-11T00:00:00",
          "2018-10-18T00:00:00",
          "2018-10-25T00:00:00",
          "2018-11-01T00:00:00",
          "2018-11-08T00:00:00",
          "2018-11-15T00:00:00",
          "2018-11-22T00:00:00",
          "2018-11-29T00:00:00",
          "2018-12-06T00:00:00",
          "2018-12-13T00:00:00",
          "2018-12-20T00:00:00",
          "2018-12-27T00:00:00"
         ],
         "xaxis": "x",
         "y": [
          514.6269841269841,
          389.25396825396825,
          366.5,
          367.26190476190476,
          378.2857142857143,
          386.3492063492063,
          387.9761904761905,
          392.6984126984127,
          392.08730158730157,
          394.984126984127,
          396.468253968254,
          393.1825396825397,
          391.73015873015873,
          451.3253968253968,
          471.91269841269843,
          382.73015873015873,
          375.9920634920635,
          407.8412698412698,
          385.9761904761905,
          407.91269841269843,
          394.23809523809524,
          400.3095238095238,
          356.24603174603175,
          353.37301587301585,
          365.7857142857143,
          355.3412698412698,
          333.07142857142856,
          326.3253968253968,
          324.23809523809524,
          318.75396825396825,
          313.44444444444446,
          309.1111111111111,
          308.1904761904762,
          306.24603174603175,
          301.37301587301585,
          305.55555555555554,
          303.76190476190476,
          307.43650793650795,
          303.87301587301585,
          304.73809523809524,
          309.1587301587302,
          312.6031746031746,
          318.8809523809524,
          325.64285714285717,
          336.6190476190476,
          326.62698412698415,
          336.0952380952381,
          338.5079365079365,
          347.7857142857143,
          356.6190476190476,
          353.53968253968253,
          611.6587301587301,
          530.1746031746031,
          415.95238095238096,
          380.72222222222223,
          387.95238095238096,
          387.45238095238096,
          382.468253968254,
          383.63492063492066,
          388.4047619047619,
          389.3492063492063,
          388.8174603174603,
          386.37301587301585,
          389.4047619047619,
          450.53968253968253,
          479.2936507936508,
          386.3412698412698,
          383.57936507936506,
          381.015873015873,
          388.55555555555554,
          433.73809523809524,
          380.63492063492066,
          422.13492063492066,
          349.1825396825397,
          354.08730158730157,
          359.0238095238095,
          339.1031746031746,
          359.43650793650795,
          344.56349206349205,
          326.26984126984127,
          320.23809523809524,
          315.27777777777777,
          313.12698412698415,
          309.6904761904762,
          309.42857142857144,
          304.468253968254,
          307.0238095238095,
          304.58730158730157,
          303.9920634920635,
          302.0079365079365,
          303.14285714285717,
          309.468253968254,
          312.63492063492066,
          313.9920634920635,
          317.64285714285717,
          322.1507936507937,
          339.2936507936508,
          342.55555555555554,
          334.1587301587302,
          341.3095238095238,
          345.9761904761905,
          358.8015873015873,
          355.5238095238095,
          469.1825396825397,
          673.1428571428571,
          448.35714285714283,
          405.2936507936508,
          401.77777777777777,
          404.44444444444446,
          410.73809523809524,
          413.4047619047619,
          418.7857142857143,
          419.6031746031746,
          420.6746031746032,
          421.54761904761904,
          417.3809523809524,
          415.6587301587302,
          417.4047619047619,
          416.42857142857144,
          483.85714285714283,
          497.7063492063492,
          417.515873015873,
          441.92063492063494,
          396.04761904761904,
          409.3412698412698,
          422.1825396825397,
          400.6507936507937,
          431.9047619047619,
          366.2936507936508,
          388.484126984127,
          381.1666666666667,
          357.1984126984127,
          351.96031746031747,
          349.8253968253968,
          344.76190476190476,
          340.07936507936506,
          339.1587301587302,
          340.3174603174603,
          334.0079365079365,
          333.1031746031746,
          332.25396825396825,
          336.1507936507937,
          332.36507936507934,
          334.5238095238095,
          335.6904761904762,
          336.14285714285717,
          345.53968253968253,
          348.6111111111111,
          373.8888888888889,
          380.23015873015873,
          370.12698412698415,
          374.58730158730157,
          383.1507936507937,
          398.36507936507934,
          397.8492063492063,
          461.13492063492066,
          792.2380952380952,
          501.62698412698415,
          456.23809523809524,
          444.3492063492063,
          442.1904761904762,
          447.8492063492063,
          447.0,
          453.7142857142857,
          451.3095238095238,
          456.4761904761905,
          457.41269841269843,
          455.93650793650795,
          450.77777777777777,
          532.7698412698413,
          556.7619047619048,
          447.13492063492066,
          445.6666666666667,
          440.3253968253968,
          485.9761904761905,
          476.7063492063492,
          470.484126984127,
          477.41269841269843,
          415.58730158730157,
          420.43650793650795,
          403.3492063492063,
          425.86507936507934,
          411.8492063492063,
          380.24603174603175,
          375.87301587301585,
          371.25396825396825,
          363.8095238095238,
          366.86507936507934,
          363.87301587301585,
          360.5,
          359.8333333333333,
          353.8888888888889,
          355.3333333333333,
          355.55555555555554,
          355.8888888888889,
          356.9047619047619,
          359.968253968254,
          361.76984126984127,
          369.57936507936506,
          371.9920634920635,
          381.8174603174603,
          386.55555555555554,
          382.8492063492063,
          390.26984126984127,
          393.8968253968254,
          409.76984126984127,
          409.37301587301585,
          435.4047619047619,
          932.9777777777778
         ],
         "yaxis": "y"
        }
       ],
       "layout": {
        "legend": {
         "tracegroupgap": 0
        },
        "margin": {
         "t": 60
        },
        "template": {
         "data": {
          "bar": [
           {
            "error_x": {
             "color": "#2a3f5f"
            },
            "error_y": {
             "color": "#2a3f5f"
            },
            "marker": {
             "line": {
              "color": "#E5ECF6",
              "width": 0.5
             },
             "pattern": {
              "fillmode": "overlay",
              "size": 10,
              "solidity": 0.2
             }
            },
            "type": "bar"
           }
          ],
          "barpolar": [
           {
            "marker": {
             "line": {
              "color": "#E5ECF6",
              "width": 0.5
             },
             "pattern": {
              "fillmode": "overlay",
              "size": 10,
              "solidity": 0.2
             }
            },
            "type": "barpolar"
           }
          ],
          "carpet": [
           {
            "aaxis": {
             "endlinecolor": "#2a3f5f",
             "gridcolor": "white",
             "linecolor": "white",
             "minorgridcolor": "white",
             "startlinecolor": "#2a3f5f"
            },
            "baxis": {
             "endlinecolor": "#2a3f5f",
             "gridcolor": "white",
             "linecolor": "white",
             "minorgridcolor": "white",
             "startlinecolor": "#2a3f5f"
            },
            "type": "carpet"
           }
          ],
          "choropleth": [
           {
            "colorbar": {
             "outlinewidth": 0,
             "ticks": ""
            },
            "type": "choropleth"
           }
          ],
          "contour": [
           {
            "colorbar": {
             "outlinewidth": 0,
             "ticks": ""
            },
            "colorscale": [
             [
              0.0,
              "#0d0887"
             ],
             [
              0.1111111111111111,
              "#46039f"
             ],
             [
              0.2222222222222222,
              "#7201a8"
             ],
             [
              0.3333333333333333,
              "#9c179e"
             ],
             [
              0.4444444444444444,
              "#bd3786"
             ],
             [
              0.5555555555555556,
              "#d8576b"
             ],
             [
              0.6666666666666666,
              "#ed7953"
             ],
             [
              0.7777777777777778,
              "#fb9f3a"
             ],
             [
              0.8888888888888888,
              "#fdca26"
             ],
             [
              1.0,
              "#f0f921"
             ]
            ],
            "type": "contour"
           }
          ],
          "contourcarpet": [
           {
            "colorbar": {
             "outlinewidth": 0,
             "ticks": ""
            },
            "type": "contourcarpet"
           }
          ],
          "heatmap": [
           {
            "colorbar": {
             "outlinewidth": 0,
             "ticks": ""
            },
            "colorscale": [
             [
              0.0,
              "#0d0887"
             ],
             [
              0.1111111111111111,
              "#46039f"
             ],
             [
              0.2222222222222222,
              "#7201a8"
             ],
             [
              0.3333333333333333,
              "#9c179e"
             ],
             [
              0.4444444444444444,
              "#bd3786"
             ],
             [
              0.5555555555555556,
              "#d8576b"
             ],
             [
              0.6666666666666666,
              "#ed7953"
             ],
             [
              0.7777777777777778,
              "#fb9f3a"
             ],
             [
              0.8888888888888888,
              "#fdca26"
             ],
             [
              1.0,
              "#f0f921"
             ]
            ],
            "type": "heatmap"
           }
          ],
          "heatmapgl": [
           {
            "colorbar": {
             "outlinewidth": 0,
             "ticks": ""
            },
            "colorscale": [
             [
              0.0,
              "#0d0887"
             ],
             [
              0.1111111111111111,
              "#46039f"
             ],
             [
              0.2222222222222222,
              "#7201a8"
             ],
             [
              0.3333333333333333,
              "#9c179e"
             ],
             [
              0.4444444444444444,
              "#bd3786"
             ],
             [
              0.5555555555555556,
              "#d8576b"
             ],
             [
              0.6666666666666666,
              "#ed7953"
             ],
             [
              0.7777777777777778,
              "#fb9f3a"
             ],
             [
              0.8888888888888888,
              "#fdca26"
             ],
             [
              1.0,
              "#f0f921"
             ]
            ],
            "type": "heatmapgl"
           }
          ],
          "histogram": [
           {
            "marker": {
             "pattern": {
              "fillmode": "overlay",
              "size": 10,
              "solidity": 0.2
             }
            },
            "type": "histogram"
           }
          ],
          "histogram2d": [
           {
            "colorbar": {
             "outlinewidth": 0,
             "ticks": ""
            },
            "colorscale": [
             [
              0.0,
              "#0d0887"
             ],
             [
              0.1111111111111111,
              "#46039f"
             ],
             [
              0.2222222222222222,
              "#7201a8"
             ],
             [
              0.3333333333333333,
              "#9c179e"
             ],
             [
              0.4444444444444444,
              "#bd3786"
             ],
             [
              0.5555555555555556,
              "#d8576b"
             ],
             [
              0.6666666666666666,
              "#ed7953"
             ],
             [
              0.7777777777777778,
              "#fb9f3a"
             ],
             [
              0.8888888888888888,
              "#fdca26"
             ],
             [
              1.0,
              "#f0f921"
             ]
            ],
            "type": "histogram2d"
           }
          ],
          "histogram2dcontour": [
           {
            "colorbar": {
             "outlinewidth": 0,
             "ticks": ""
            },
            "colorscale": [
             [
              0.0,
              "#0d0887"
             ],
             [
              0.1111111111111111,
              "#46039f"
             ],
             [
              0.2222222222222222,
              "#7201a8"
             ],
             [
              0.3333333333333333,
              "#9c179e"
             ],
             [
              0.4444444444444444,
              "#bd3786"
             ],
             [
              0.5555555555555556,
              "#d8576b"
             ],
             [
              0.6666666666666666,
              "#ed7953"
             ],
             [
              0.7777777777777778,
              "#fb9f3a"
             ],
             [
              0.8888888888888888,
              "#fdca26"
             ],
             [
              1.0,
              "#f0f921"
             ]
            ],
            "type": "histogram2dcontour"
           }
          ],
          "mesh3d": [
           {
            "colorbar": {
             "outlinewidth": 0,
             "ticks": ""
            },
            "type": "mesh3d"
           }
          ],
          "parcoords": [
           {
            "line": {
             "colorbar": {
              "outlinewidth": 0,
              "ticks": ""
             }
            },
            "type": "parcoords"
           }
          ],
          "pie": [
           {
            "automargin": true,
            "type": "pie"
           }
          ],
          "scatter": [
           {
            "marker": {
             "colorbar": {
              "outlinewidth": 0,
              "ticks": ""
             }
            },
            "type": "scatter"
           }
          ],
          "scatter3d": [
           {
            "line": {
             "colorbar": {
              "outlinewidth": 0,
              "ticks": ""
             }
            },
            "marker": {
             "colorbar": {
              "outlinewidth": 0,
              "ticks": ""
             }
            },
            "type": "scatter3d"
           }
          ],
          "scattercarpet": [
           {
            "marker": {
             "colorbar": {
              "outlinewidth": 0,
              "ticks": ""
             }
            },
            "type": "scattercarpet"
           }
          ],
          "scattergeo": [
           {
            "marker": {
             "colorbar": {
              "outlinewidth": 0,
              "ticks": ""
             }
            },
            "type": "scattergeo"
           }
          ],
          "scattergl": [
           {
            "marker": {
             "colorbar": {
              "outlinewidth": 0,
              "ticks": ""
             }
            },
            "type": "scattergl"
           }
          ],
          "scattermapbox": [
           {
            "marker": {
             "colorbar": {
              "outlinewidth": 0,
              "ticks": ""
             }
            },
            "type": "scattermapbox"
           }
          ],
          "scatterpolar": [
           {
            "marker": {
             "colorbar": {
              "outlinewidth": 0,
              "ticks": ""
             }
            },
            "type": "scatterpolar"
           }
          ],
          "scatterpolargl": [
           {
            "marker": {
             "colorbar": {
              "outlinewidth": 0,
              "ticks": ""
             }
            },
            "type": "scatterpolargl"
           }
          ],
          "scatterternary": [
           {
            "marker": {
             "colorbar": {
              "outlinewidth": 0,
              "ticks": ""
             }
            },
            "type": "scatterternary"
           }
          ],
          "surface": [
           {
            "colorbar": {
             "outlinewidth": 0,
             "ticks": ""
            },
            "colorscale": [
             [
              0.0,
              "#0d0887"
             ],
             [
              0.1111111111111111,
              "#46039f"
             ],
             [
              0.2222222222222222,
              "#7201a8"
             ],
             [
              0.3333333333333333,
              "#9c179e"
             ],
             [
              0.4444444444444444,
              "#bd3786"
             ],
             [
              0.5555555555555556,
              "#d8576b"
             ],
             [
              0.6666666666666666,
              "#ed7953"
             ],
             [
              0.7777777777777778,
              "#fb9f3a"
             ],
             [
              0.8888888888888888,
              "#fdca26"
             ],
             [
              1.0,
              "#f0f921"
             ]
            ],
            "type": "surface"
           }
          ],
          "table": [
           {
            "cells": {
             "fill": {
              "color": "#EBF0F8"
             },
             "line": {
              "color": "white"
             }
            },
            "header": {
             "fill": {
              "color": "#C8D4E3"
             },
             "line": {
              "color": "white"
             }
            },
            "type": "table"
           }
          ]
         },
         "layout": {
          "annotationdefaults": {
           "arrowcolor": "#2a3f5f",
           "arrowhead": 0,
           "arrowwidth": 1
          },
          "autotypenumbers": "strict",
          "coloraxis": {
           "colorbar": {
            "outlinewidth": 0,
            "ticks": ""
           }
          },
          "colorscale": {
           "diverging": [
            [
             0,
             "#8e0152"
            ],
            [
             0.1,
             "#c51b7d"
            ],
            [
             0.2,
             "#de77ae"
            ],
            [
             0.3,
             "#f1b6da"
            ],
            [
             0.4,
             "#fde0ef"
            ],
            [
             0.5,
             "#f7f7f7"
            ],
            [
             0.6,
             "#e6f5d0"
            ],
            [
             0.7,
             "#b8e186"
            ],
            [
             0.8,
             "#7fbc41"
            ],
            [
             0.9,
             "#4d9221"
            ],
            [
             1,
             "#276419"
            ]
           ],
           "sequential": [
            [
             0.0,
             "#0d0887"
            ],
            [
             0.1111111111111111,
             "#46039f"
            ],
            [
             0.2222222222222222,
             "#7201a8"
            ],
            [
             0.3333333333333333,
             "#9c179e"
            ],
            [
             0.4444444444444444,
             "#bd3786"
            ],
            [
             0.5555555555555556,
             "#d8576b"
            ],
            [
             0.6666666666666666,
             "#ed7953"
            ],
            [
             0.7777777777777778,
             "#fb9f3a"
            ],
            [
             0.8888888888888888,
             "#fdca26"
            ],
            [
             1.0,
             "#f0f921"
            ]
           ],
           "sequentialminus": [
            [
             0.0,
             "#0d0887"
            ],
            [
             0.1111111111111111,
             "#46039f"
            ],
            [
             0.2222222222222222,
             "#7201a8"
            ],
            [
             0.3333333333333333,
             "#9c179e"
            ],
            [
             0.4444444444444444,
             "#bd3786"
            ],
            [
             0.5555555555555556,
             "#d8576b"
            ],
            [
             0.6666666666666666,
             "#ed7953"
            ],
            [
             0.7777777777777778,
             "#fb9f3a"
            ],
            [
             0.8888888888888888,
             "#fdca26"
            ],
            [
             1.0,
             "#f0f921"
            ]
           ]
          },
          "colorway": [
           "#636efa",
           "#EF553B",
           "#00cc96",
           "#ab63fa",
           "#FFA15A",
           "#19d3f3",
           "#FF6692",
           "#B6E880",
           "#FF97FF",
           "#FECB52"
          ],
          "font": {
           "color": "#2a3f5f"
          },
          "geo": {
           "bgcolor": "white",
           "lakecolor": "white",
           "landcolor": "#E5ECF6",
           "showlakes": true,
           "showland": true,
           "subunitcolor": "white"
          },
          "hoverlabel": {
           "align": "left"
          },
          "hovermode": "closest",
          "mapbox": {
           "style": "light"
          },
          "paper_bgcolor": "white",
          "plot_bgcolor": "#E5ECF6",
          "polar": {
           "angularaxis": {
            "gridcolor": "white",
            "linecolor": "white",
            "ticks": ""
           },
           "bgcolor": "#E5ECF6",
           "radialaxis": {
            "gridcolor": "white",
            "linecolor": "white",
            "ticks": ""
           }
          },
          "scene": {
           "xaxis": {
            "backgroundcolor": "#E5ECF6",
            "gridcolor": "white",
            "gridwidth": 2,
            "linecolor": "white",
            "showbackground": true,
            "ticks": "",
            "zerolinecolor": "white"
           },
           "yaxis": {
            "backgroundcolor": "#E5ECF6",
            "gridcolor": "white",
            "gridwidth": 2,
            "linecolor": "white",
            "showbackground": true,
            "ticks": "",
            "zerolinecolor": "white"
           },
           "zaxis": {
            "backgroundcolor": "#E5ECF6",
            "gridcolor": "white",
            "gridwidth": 2,
            "linecolor": "white",
            "showbackground": true,
            "ticks": "",
            "zerolinecolor": "white"
           }
          },
          "shapedefaults": {
           "line": {
            "color": "#2a3f5f"
           }
          },
          "ternary": {
           "aaxis": {
            "gridcolor": "white",
            "linecolor": "white",
            "ticks": ""
           },
           "baxis": {
            "gridcolor": "white",
            "linecolor": "white",
            "ticks": ""
           },
           "bgcolor": "#E5ECF6",
           "caxis": {
            "gridcolor": "white",
            "linecolor": "white",
            "ticks": ""
           }
          },
          "title": {
           "x": 0.05
          },
          "xaxis": {
           "automargin": true,
           "gridcolor": "white",
           "linecolor": "white",
           "ticks": "",
           "title": {
            "standoff": 15
           },
           "zerolinecolor": "white",
           "zerolinewidth": 2
          },
          "yaxis": {
           "automargin": true,
           "gridcolor": "white",
           "linecolor": "white",
           "ticks": "",
           "title": {
            "standoff": 15
           },
           "zerolinecolor": "white",
           "zerolinewidth": 2
          }
         }
        },
        "xaxis": {
         "anchor": "y",
         "domain": [
          0.0,
          1.0
         ],
         "title": {
          "text": "date"
         }
        },
        "yaxis": {
         "anchor": "x",
         "domain": [
          0.0,
          1.0
         ],
         "title": {
          "text": "num_sold"
         }
        }
       }
      },
      "text/html": [
       "<div>                            <div id=\"608c1208-5d5e-4c16-84ca-20d46437a04f\" class=\"plotly-graph-div\" style=\"height:525px; width:100%;\"></div>            <script type=\"text/javascript\">                require([\"plotly\"], function(Plotly) {                    window.PLOTLYENV=window.PLOTLYENV || {};                                    if (document.getElementById(\"608c1208-5d5e-4c16-84ca-20d46437a04f\")) {                    Plotly.newPlot(                        \"608c1208-5d5e-4c16-84ca-20d46437a04f\",                        [{\"hovertemplate\":\"date=%{x}<br>num_sold=%{y}<extra></extra>\",\"legendgroup\":\"\",\"line\":{\"color\":\"#636efa\",\"dash\":\"solid\"},\"marker\":{\"symbol\":\"circle\"},\"mode\":\"lines\",\"name\":\"\",\"orientation\":\"v\",\"showlegend\":false,\"x\":[\"2015-01-01T00:00:00\",\"2015-01-08T00:00:00\",\"2015-01-15T00:00:00\",\"2015-01-22T00:00:00\",\"2015-01-29T00:00:00\",\"2015-02-05T00:00:00\",\"2015-02-12T00:00:00\",\"2015-02-19T00:00:00\",\"2015-02-26T00:00:00\",\"2015-03-05T00:00:00\",\"2015-03-12T00:00:00\",\"2015-03-19T00:00:00\",\"2015-03-26T00:00:00\",\"2015-04-02T00:00:00\",\"2015-04-09T00:00:00\",\"2015-04-16T00:00:00\",\"2015-04-23T00:00:00\",\"2015-04-30T00:00:00\",\"2015-05-07T00:00:00\",\"2015-05-14T00:00:00\",\"2015-05-21T00:00:00\",\"2015-05-28T00:00:00\",\"2015-06-04T00:00:00\",\"2015-06-11T00:00:00\",\"2015-06-18T00:00:00\",\"2015-06-25T00:00:00\",\"2015-07-02T00:00:00\",\"2015-07-09T00:00:00\",\"2015-07-16T00:00:00\",\"2015-07-23T00:00:00\",\"2015-07-30T00:00:00\",\"2015-08-06T00:00:00\",\"2015-08-13T00:00:00\",\"2015-08-20T00:00:00\",\"2015-08-27T00:00:00\",\"2015-09-03T00:00:00\",\"2015-09-10T00:00:00\",\"2015-09-17T00:00:00\",\"2015-09-24T00:00:00\",\"2015-10-01T00:00:00\",\"2015-10-08T00:00:00\",\"2015-10-15T00:00:00\",\"2015-10-22T00:00:00\",\"2015-10-29T00:00:00\",\"2015-11-05T00:00:00\",\"2015-11-12T00:00:00\",\"2015-11-19T00:00:00\",\"2015-11-26T00:00:00\",\"2015-12-03T00:00:00\",\"2015-12-10T00:00:00\",\"2015-12-17T00:00:00\",\"2015-12-24T00:00:00\",\"2015-12-31T00:00:00\",\"2016-01-07T00:00:00\",\"2016-01-14T00:00:00\",\"2016-01-21T00:00:00\",\"2016-01-28T00:00:00\",\"2016-02-04T00:00:00\",\"2016-02-11T00:00:00\",\"2016-02-18T00:00:00\",\"2016-02-25T00:00:00\",\"2016-03-03T00:00:00\",\"2016-03-10T00:00:00\",\"2016-03-17T00:00:00\",\"2016-03-24T00:00:00\",\"2016-03-31T00:00:00\",\"2016-04-07T00:00:00\",\"2016-04-14T00:00:00\",\"2016-04-21T00:00:00\",\"2016-04-28T00:00:00\",\"2016-05-05T00:00:00\",\"2016-05-12T00:00:00\",\"2016-05-19T00:00:00\",\"2016-05-26T00:00:00\",\"2016-06-02T00:00:00\",\"2016-06-09T00:00:00\",\"2016-06-16T00:00:00\",\"2016-06-23T00:00:00\",\"2016-06-30T00:00:00\",\"2016-07-07T00:00:00\",\"2016-07-14T00:00:00\",\"2016-07-21T00:00:00\",\"2016-07-28T00:00:00\",\"2016-08-04T00:00:00\",\"2016-08-11T00:00:00\",\"2016-08-18T00:00:00\",\"2016-08-25T00:00:00\",\"2016-09-01T00:00:00\",\"2016-09-08T00:00:00\",\"2016-09-15T00:00:00\",\"2016-09-22T00:00:00\",\"2016-09-29T00:00:00\",\"2016-10-06T00:00:00\",\"2016-10-13T00:00:00\",\"2016-10-20T00:00:00\",\"2016-10-27T00:00:00\",\"2016-11-03T00:00:00\",\"2016-11-10T00:00:00\",\"2016-11-17T00:00:00\",\"2016-11-24T00:00:00\",\"2016-12-01T00:00:00\",\"2016-12-08T00:00:00\",\"2016-12-15T00:00:00\",\"2016-12-22T00:00:00\",\"2016-12-29T00:00:00\",\"2017-01-05T00:00:00\",\"2017-01-12T00:00:00\",\"2017-01-19T00:00:00\",\"2017-01-26T00:00:00\",\"2017-02-02T00:00:00\",\"2017-02-09T00:00:00\",\"2017-02-16T00:00:00\",\"2017-02-23T00:00:00\",\"2017-03-02T00:00:00\",\"2017-03-09T00:00:00\",\"2017-03-16T00:00:00\",\"2017-03-23T00:00:00\",\"2017-03-30T00:00:00\",\"2017-04-06T00:00:00\",\"2017-04-13T00:00:00\",\"2017-04-20T00:00:00\",\"2017-04-27T00:00:00\",\"2017-05-04T00:00:00\",\"2017-05-11T00:00:00\",\"2017-05-18T00:00:00\",\"2017-05-25T00:00:00\",\"2017-06-01T00:00:00\",\"2017-06-08T00:00:00\",\"2017-06-15T00:00:00\",\"2017-06-22T00:00:00\",\"2017-06-29T00:00:00\",\"2017-07-06T00:00:00\",\"2017-07-13T00:00:00\",\"2017-07-20T00:00:00\",\"2017-07-27T00:00:00\",\"2017-08-03T00:00:00\",\"2017-08-10T00:00:00\",\"2017-08-17T00:00:00\",\"2017-08-24T00:00:00\",\"2017-08-31T00:00:00\",\"2017-09-07T00:00:00\",\"2017-09-14T00:00:00\",\"2017-09-21T00:00:00\",\"2017-09-28T00:00:00\",\"2017-10-05T00:00:00\",\"2017-10-12T00:00:00\",\"2017-10-19T00:00:00\",\"2017-10-26T00:00:00\",\"2017-11-02T00:00:00\",\"2017-11-09T00:00:00\",\"2017-11-16T00:00:00\",\"2017-11-23T00:00:00\",\"2017-11-30T00:00:00\",\"2017-12-07T00:00:00\",\"2017-12-14T00:00:00\",\"2017-12-21T00:00:00\",\"2017-12-28T00:00:00\",\"2018-01-04T00:00:00\",\"2018-01-11T00:00:00\",\"2018-01-18T00:00:00\",\"2018-01-25T00:00:00\",\"2018-02-01T00:00:00\",\"2018-02-08T00:00:00\",\"2018-02-15T00:00:00\",\"2018-02-22T00:00:00\",\"2018-03-01T00:00:00\",\"2018-03-08T00:00:00\",\"2018-03-15T00:00:00\",\"2018-03-22T00:00:00\",\"2018-03-29T00:00:00\",\"2018-04-05T00:00:00\",\"2018-04-12T00:00:00\",\"2018-04-19T00:00:00\",\"2018-04-26T00:00:00\",\"2018-05-03T00:00:00\",\"2018-05-10T00:00:00\",\"2018-05-17T00:00:00\",\"2018-05-24T00:00:00\",\"2018-05-31T00:00:00\",\"2018-06-07T00:00:00\",\"2018-06-14T00:00:00\",\"2018-06-21T00:00:00\",\"2018-06-28T00:00:00\",\"2018-07-05T00:00:00\",\"2018-07-12T00:00:00\",\"2018-07-19T00:00:00\",\"2018-07-26T00:00:00\",\"2018-08-02T00:00:00\",\"2018-08-09T00:00:00\",\"2018-08-16T00:00:00\",\"2018-08-23T00:00:00\",\"2018-08-30T00:00:00\",\"2018-09-06T00:00:00\",\"2018-09-13T00:00:00\",\"2018-09-20T00:00:00\",\"2018-09-27T00:00:00\",\"2018-10-04T00:00:00\",\"2018-10-11T00:00:00\",\"2018-10-18T00:00:00\",\"2018-10-25T00:00:00\",\"2018-11-01T00:00:00\",\"2018-11-08T00:00:00\",\"2018-11-15T00:00:00\",\"2018-11-22T00:00:00\",\"2018-11-29T00:00:00\",\"2018-12-06T00:00:00\",\"2018-12-13T00:00:00\",\"2018-12-20T00:00:00\",\"2018-12-27T00:00:00\"],\"xaxis\":\"x\",\"y\":[514.6269841269841,389.25396825396825,366.5,367.26190476190476,378.2857142857143,386.3492063492063,387.9761904761905,392.6984126984127,392.08730158730157,394.984126984127,396.468253968254,393.1825396825397,391.73015873015873,451.3253968253968,471.91269841269843,382.73015873015873,375.9920634920635,407.8412698412698,385.9761904761905,407.91269841269843,394.23809523809524,400.3095238095238,356.24603174603175,353.37301587301585,365.7857142857143,355.3412698412698,333.07142857142856,326.3253968253968,324.23809523809524,318.75396825396825,313.44444444444446,309.1111111111111,308.1904761904762,306.24603174603175,301.37301587301585,305.55555555555554,303.76190476190476,307.43650793650795,303.87301587301585,304.73809523809524,309.1587301587302,312.6031746031746,318.8809523809524,325.64285714285717,336.6190476190476,326.62698412698415,336.0952380952381,338.5079365079365,347.7857142857143,356.6190476190476,353.53968253968253,611.6587301587301,530.1746031746031,415.95238095238096,380.72222222222223,387.95238095238096,387.45238095238096,382.468253968254,383.63492063492066,388.4047619047619,389.3492063492063,388.8174603174603,386.37301587301585,389.4047619047619,450.53968253968253,479.2936507936508,386.3412698412698,383.57936507936506,381.015873015873,388.55555555555554,433.73809523809524,380.63492063492066,422.13492063492066,349.1825396825397,354.08730158730157,359.0238095238095,339.1031746031746,359.43650793650795,344.56349206349205,326.26984126984127,320.23809523809524,315.27777777777777,313.12698412698415,309.6904761904762,309.42857142857144,304.468253968254,307.0238095238095,304.58730158730157,303.9920634920635,302.0079365079365,303.14285714285717,309.468253968254,312.63492063492066,313.9920634920635,317.64285714285717,322.1507936507937,339.2936507936508,342.55555555555554,334.1587301587302,341.3095238095238,345.9761904761905,358.8015873015873,355.5238095238095,469.1825396825397,673.1428571428571,448.35714285714283,405.2936507936508,401.77777777777777,404.44444444444446,410.73809523809524,413.4047619047619,418.7857142857143,419.6031746031746,420.6746031746032,421.54761904761904,417.3809523809524,415.6587301587302,417.4047619047619,416.42857142857144,483.85714285714283,497.7063492063492,417.515873015873,441.92063492063494,396.04761904761904,409.3412698412698,422.1825396825397,400.6507936507937,431.9047619047619,366.2936507936508,388.484126984127,381.1666666666667,357.1984126984127,351.96031746031747,349.8253968253968,344.76190476190476,340.07936507936506,339.1587301587302,340.3174603174603,334.0079365079365,333.1031746031746,332.25396825396825,336.1507936507937,332.36507936507934,334.5238095238095,335.6904761904762,336.14285714285717,345.53968253968253,348.6111111111111,373.8888888888889,380.23015873015873,370.12698412698415,374.58730158730157,383.1507936507937,398.36507936507934,397.8492063492063,461.13492063492066,792.2380952380952,501.62698412698415,456.23809523809524,444.3492063492063,442.1904761904762,447.8492063492063,447.0,453.7142857142857,451.3095238095238,456.4761904761905,457.41269841269843,455.93650793650795,450.77777777777777,532.7698412698413,556.7619047619048,447.13492063492066,445.6666666666667,440.3253968253968,485.9761904761905,476.7063492063492,470.484126984127,477.41269841269843,415.58730158730157,420.43650793650795,403.3492063492063,425.86507936507934,411.8492063492063,380.24603174603175,375.87301587301585,371.25396825396825,363.8095238095238,366.86507936507934,363.87301587301585,360.5,359.8333333333333,353.8888888888889,355.3333333333333,355.55555555555554,355.8888888888889,356.9047619047619,359.968253968254,361.76984126984127,369.57936507936506,371.9920634920635,381.8174603174603,386.55555555555554,382.8492063492063,390.26984126984127,393.8968253968254,409.76984126984127,409.37301587301585,435.4047619047619,932.9777777777778],\"yaxis\":\"y\",\"type\":\"scatter\"}],                        {\"template\":{\"data\":{\"bar\":[{\"error_x\":{\"color\":\"#2a3f5f\"},\"error_y\":{\"color\":\"#2a3f5f\"},\"marker\":{\"line\":{\"color\":\"#E5ECF6\",\"width\":0.5},\"pattern\":{\"fillmode\":\"overlay\",\"size\":10,\"solidity\":0.2}},\"type\":\"bar\"}],\"barpolar\":[{\"marker\":{\"line\":{\"color\":\"#E5ECF6\",\"width\":0.5},\"pattern\":{\"fillmode\":\"overlay\",\"size\":10,\"solidity\":0.2}},\"type\":\"barpolar\"}],\"carpet\":[{\"aaxis\":{\"endlinecolor\":\"#2a3f5f\",\"gridcolor\":\"white\",\"linecolor\":\"white\",\"minorgridcolor\":\"white\",\"startlinecolor\":\"#2a3f5f\"},\"baxis\":{\"endlinecolor\":\"#2a3f5f\",\"gridcolor\":\"white\",\"linecolor\":\"white\",\"minorgridcolor\":\"white\",\"startlinecolor\":\"#2a3f5f\"},\"type\":\"carpet\"}],\"choropleth\":[{\"colorbar\":{\"outlinewidth\":0,\"ticks\":\"\"},\"type\":\"choropleth\"}],\"contour\":[{\"colorbar\":{\"outlinewidth\":0,\"ticks\":\"\"},\"colorscale\":[[0.0,\"#0d0887\"],[0.1111111111111111,\"#46039f\"],[0.2222222222222222,\"#7201a8\"],[0.3333333333333333,\"#9c179e\"],[0.4444444444444444,\"#bd3786\"],[0.5555555555555556,\"#d8576b\"],[0.6666666666666666,\"#ed7953\"],[0.7777777777777778,\"#fb9f3a\"],[0.8888888888888888,\"#fdca26\"],[1.0,\"#f0f921\"]],\"type\":\"contour\"}],\"contourcarpet\":[{\"colorbar\":{\"outlinewidth\":0,\"ticks\":\"\"},\"type\":\"contourcarpet\"}],\"heatmap\":[{\"colorbar\":{\"outlinewidth\":0,\"ticks\":\"\"},\"colorscale\":[[0.0,\"#0d0887\"],[0.1111111111111111,\"#46039f\"],[0.2222222222222222,\"#7201a8\"],[0.3333333333333333,\"#9c179e\"],[0.4444444444444444,\"#bd3786\"],[0.5555555555555556,\"#d8576b\"],[0.6666666666666666,\"#ed7953\"],[0.7777777777777778,\"#fb9f3a\"],[0.8888888888888888,\"#fdca26\"],[1.0,\"#f0f921\"]],\"type\":\"heatmap\"}],\"heatmapgl\":[{\"colorbar\":{\"outlinewidth\":0,\"ticks\":\"\"},\"colorscale\":[[0.0,\"#0d0887\"],[0.1111111111111111,\"#46039f\"],[0.2222222222222222,\"#7201a8\"],[0.3333333333333333,\"#9c179e\"],[0.4444444444444444,\"#bd3786\"],[0.5555555555555556,\"#d8576b\"],[0.6666666666666666,\"#ed7953\"],[0.7777777777777778,\"#fb9f3a\"],[0.8888888888888888,\"#fdca26\"],[1.0,\"#f0f921\"]],\"type\":\"heatmapgl\"}],\"histogram\":[{\"marker\":{\"pattern\":{\"fillmode\":\"overlay\",\"size\":10,\"solidity\":0.2}},\"type\":\"histogram\"}],\"histogram2d\":[{\"colorbar\":{\"outlinewidth\":0,\"ticks\":\"\"},\"colorscale\":[[0.0,\"#0d0887\"],[0.1111111111111111,\"#46039f\"],[0.2222222222222222,\"#7201a8\"],[0.3333333333333333,\"#9c179e\"],[0.4444444444444444,\"#bd3786\"],[0.5555555555555556,\"#d8576b\"],[0.6666666666666666,\"#ed7953\"],[0.7777777777777778,\"#fb9f3a\"],[0.8888888888888888,\"#fdca26\"],[1.0,\"#f0f921\"]],\"type\":\"histogram2d\"}],\"histogram2dcontour\":[{\"colorbar\":{\"outlinewidth\":0,\"ticks\":\"\"},\"colorscale\":[[0.0,\"#0d0887\"],[0.1111111111111111,\"#46039f\"],[0.2222222222222222,\"#7201a8\"],[0.3333333333333333,\"#9c179e\"],[0.4444444444444444,\"#bd3786\"],[0.5555555555555556,\"#d8576b\"],[0.6666666666666666,\"#ed7953\"],[0.7777777777777778,\"#fb9f3a\"],[0.8888888888888888,\"#fdca26\"],[1.0,\"#f0f921\"]],\"type\":\"histogram2dcontour\"}],\"mesh3d\":[{\"colorbar\":{\"outlinewidth\":0,\"ticks\":\"\"},\"type\":\"mesh3d\"}],\"parcoords\":[{\"line\":{\"colorbar\":{\"outlinewidth\":0,\"ticks\":\"\"}},\"type\":\"parcoords\"}],\"pie\":[{\"automargin\":true,\"type\":\"pie\"}],\"scatter\":[{\"marker\":{\"colorbar\":{\"outlinewidth\":0,\"ticks\":\"\"}},\"type\":\"scatter\"}],\"scatter3d\":[{\"line\":{\"colorbar\":{\"outlinewidth\":0,\"ticks\":\"\"}},\"marker\":{\"colorbar\":{\"outlinewidth\":0,\"ticks\":\"\"}},\"type\":\"scatter3d\"}],\"scattercarpet\":[{\"marker\":{\"colorbar\":{\"outlinewidth\":0,\"ticks\":\"\"}},\"type\":\"scattercarpet\"}],\"scattergeo\":[{\"marker\":{\"colorbar\":{\"outlinewidth\":0,\"ticks\":\"\"}},\"type\":\"scattergeo\"}],\"scattergl\":[{\"marker\":{\"colorbar\":{\"outlinewidth\":0,\"ticks\":\"\"}},\"type\":\"scattergl\"}],\"scattermapbox\":[{\"marker\":{\"colorbar\":{\"outlinewidth\":0,\"ticks\":\"\"}},\"type\":\"scattermapbox\"}],\"scatterpolar\":[{\"marker\":{\"colorbar\":{\"outlinewidth\":0,\"ticks\":\"\"}},\"type\":\"scatterpolar\"}],\"scatterpolargl\":[{\"marker\":{\"colorbar\":{\"outlinewidth\":0,\"ticks\":\"\"}},\"type\":\"scatterpolargl\"}],\"scatterternary\":[{\"marker\":{\"colorbar\":{\"outlinewidth\":0,\"ticks\":\"\"}},\"type\":\"scatterternary\"}],\"surface\":[{\"colorbar\":{\"outlinewidth\":0,\"ticks\":\"\"},\"colorscale\":[[0.0,\"#0d0887\"],[0.1111111111111111,\"#46039f\"],[0.2222222222222222,\"#7201a8\"],[0.3333333333333333,\"#9c179e\"],[0.4444444444444444,\"#bd3786\"],[0.5555555555555556,\"#d8576b\"],[0.6666666666666666,\"#ed7953\"],[0.7777777777777778,\"#fb9f3a\"],[0.8888888888888888,\"#fdca26\"],[1.0,\"#f0f921\"]],\"type\":\"surface\"}],\"table\":[{\"cells\":{\"fill\":{\"color\":\"#EBF0F8\"},\"line\":{\"color\":\"white\"}},\"header\":{\"fill\":{\"color\":\"#C8D4E3\"},\"line\":{\"color\":\"white\"}},\"type\":\"table\"}]},\"layout\":{\"annotationdefaults\":{\"arrowcolor\":\"#2a3f5f\",\"arrowhead\":0,\"arrowwidth\":1},\"autotypenumbers\":\"strict\",\"coloraxis\":{\"colorbar\":{\"outlinewidth\":0,\"ticks\":\"\"}},\"colorscale\":{\"diverging\":[[0,\"#8e0152\"],[0.1,\"#c51b7d\"],[0.2,\"#de77ae\"],[0.3,\"#f1b6da\"],[0.4,\"#fde0ef\"],[0.5,\"#f7f7f7\"],[0.6,\"#e6f5d0\"],[0.7,\"#b8e186\"],[0.8,\"#7fbc41\"],[0.9,\"#4d9221\"],[1,\"#276419\"]],\"sequential\":[[0.0,\"#0d0887\"],[0.1111111111111111,\"#46039f\"],[0.2222222222222222,\"#7201a8\"],[0.3333333333333333,\"#9c179e\"],[0.4444444444444444,\"#bd3786\"],[0.5555555555555556,\"#d8576b\"],[0.6666666666666666,\"#ed7953\"],[0.7777777777777778,\"#fb9f3a\"],[0.8888888888888888,\"#fdca26\"],[1.0,\"#f0f921\"]],\"sequentialminus\":[[0.0,\"#0d0887\"],[0.1111111111111111,\"#46039f\"],[0.2222222222222222,\"#7201a8\"],[0.3333333333333333,\"#9c179e\"],[0.4444444444444444,\"#bd3786\"],[0.5555555555555556,\"#d8576b\"],[0.6666666666666666,\"#ed7953\"],[0.7777777777777778,\"#fb9f3a\"],[0.8888888888888888,\"#fdca26\"],[1.0,\"#f0f921\"]]},\"colorway\":[\"#636efa\",\"#EF553B\",\"#00cc96\",\"#ab63fa\",\"#FFA15A\",\"#19d3f3\",\"#FF6692\",\"#B6E880\",\"#FF97FF\",\"#FECB52\"],\"font\":{\"color\":\"#2a3f5f\"},\"geo\":{\"bgcolor\":\"white\",\"lakecolor\":\"white\",\"landcolor\":\"#E5ECF6\",\"showlakes\":true,\"showland\":true,\"subunitcolor\":\"white\"},\"hoverlabel\":{\"align\":\"left\"},\"hovermode\":\"closest\",\"mapbox\":{\"style\":\"light\"},\"paper_bgcolor\":\"white\",\"plot_bgcolor\":\"#E5ECF6\",\"polar\":{\"angularaxis\":{\"gridcolor\":\"white\",\"linecolor\":\"white\",\"ticks\":\"\"},\"bgcolor\":\"#E5ECF6\",\"radialaxis\":{\"gridcolor\":\"white\",\"linecolor\":\"white\",\"ticks\":\"\"}},\"scene\":{\"xaxis\":{\"backgroundcolor\":\"#E5ECF6\",\"gridcolor\":\"white\",\"gridwidth\":2,\"linecolor\":\"white\",\"showbackground\":true,\"ticks\":\"\",\"zerolinecolor\":\"white\"},\"yaxis\":{\"backgroundcolor\":\"#E5ECF6\",\"gridcolor\":\"white\",\"gridwidth\":2,\"linecolor\":\"white\",\"showbackground\":true,\"ticks\":\"\",\"zerolinecolor\":\"white\"},\"zaxis\":{\"backgroundcolor\":\"#E5ECF6\",\"gridcolor\":\"white\",\"gridwidth\":2,\"linecolor\":\"white\",\"showbackground\":true,\"ticks\":\"\",\"zerolinecolor\":\"white\"}},\"shapedefaults\":{\"line\":{\"color\":\"#2a3f5f\"}},\"ternary\":{\"aaxis\":{\"gridcolor\":\"white\",\"linecolor\":\"white\",\"ticks\":\"\"},\"baxis\":{\"gridcolor\":\"white\",\"linecolor\":\"white\",\"ticks\":\"\"},\"bgcolor\":\"#E5ECF6\",\"caxis\":{\"gridcolor\":\"white\",\"linecolor\":\"white\",\"ticks\":\"\"}},\"title\":{\"x\":0.05},\"xaxis\":{\"automargin\":true,\"gridcolor\":\"white\",\"linecolor\":\"white\",\"ticks\":\"\",\"title\":{\"standoff\":15},\"zerolinecolor\":\"white\",\"zerolinewidth\":2},\"yaxis\":{\"automargin\":true,\"gridcolor\":\"white\",\"linecolor\":\"white\",\"ticks\":\"\",\"title\":{\"standoff\":15},\"zerolinecolor\":\"white\",\"zerolinewidth\":2}}},\"xaxis\":{\"anchor\":\"y\",\"domain\":[0.0,1.0],\"title\":{\"text\":\"date\"}},\"yaxis\":{\"anchor\":\"x\",\"domain\":[0.0,1.0],\"title\":{\"text\":\"num_sold\"}},\"legend\":{\"tracegroupgap\":0},\"margin\":{\"t\":60}},                        {\"responsive\": true}                    ).then(function(){\n",
       "                            \n",
       "var gd = document.getElementById('608c1208-5d5e-4c16-84ca-20d46437a04f');\n",
       "var x = new MutationObserver(function (mutations, observer) {{\n",
       "        var display = window.getComputedStyle(gd).display;\n",
       "        if (!display || display === 'none') {{\n",
       "            console.log([gd, 'removed!']);\n",
       "            Plotly.purge(gd);\n",
       "            observer.disconnect();\n",
       "        }}\n",
       "}});\n",
       "\n",
       "// Listen for the removal of the full notebook cells\n",
       "var notebookContainer = gd.closest('#notebook-container');\n",
       "if (notebookContainer) {{\n",
       "    x.observe(notebookContainer, {childList: true});\n",
       "}}\n",
       "\n",
       "// Listen for the clearing of the current output cell\n",
       "var outputEl = gd.closest('.output');\n",
       "if (outputEl) {{\n",
       "    x.observe(outputEl, {childList: true});\n",
       "}}\n",
       "\n",
       "                        })                };                });            </script>        </div>"
      ]
     },
     "metadata": {},
     "output_type": "display_data"
    }
   ],
   "source": [
    "#using plotly\n",
    "train_data_month = train.set_index('date').groupby([pd.Grouper(freq='7d')])['num_sold'].mean().reset_index()\n",
    "a = px.line(data_frame=train_data_month,x='date',y='num_sold')\n",
    "a.show()"
   ]
  },
  {
   "cell_type": "markdown",
   "id": "dce60152",
   "metadata": {
    "papermill": {
     "duration": 0.023132,
     "end_time": "2022-01-03T19:19:11.409043",
     "exception": false,
     "start_time": "2022-01-03T19:19:11.385911",
     "status": "completed"
    },
    "tags": []
   },
   "source": [
    "## Preprocessing and visualization "
   ]
  }
 ],
 "metadata": {
  "kernelspec": {
   "display_name": "Python 3",
   "language": "python",
   "name": "python3"
  },
  "language_info": {
   "codemirror_mode": {
    "name": "ipython",
    "version": 3
   },
   "file_extension": ".py",
   "mimetype": "text/x-python",
   "name": "python",
   "nbconvert_exporter": "python",
   "pygments_lexer": "ipython3",
   "version": "3.7.12"
  },
  "papermill": {
   "default_parameters": {},
   "duration": 15.980498,
   "end_time": "2022-01-03T19:19:12.245719",
   "environment_variables": {},
   "exception": null,
   "input_path": "__notebook__.ipynb",
   "output_path": "__notebook__.ipynb",
   "parameters": {},
   "start_time": "2022-01-03T19:18:56.265221",
   "version": "2.3.3"
  }
 },
 "nbformat": 4,
 "nbformat_minor": 5
}
