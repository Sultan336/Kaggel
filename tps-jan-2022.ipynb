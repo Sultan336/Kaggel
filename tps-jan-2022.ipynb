{
 "cells": [
  {
   "cell_type": "code",
   "execution_count": 1,
   "id": "06d9dcfc",
   "metadata": {
    "_cell_guid": "b1076dfc-b9ad-4769-8c92-a6c4dae69d19",
    "_uuid": "8f2839f25d086af736a60e9eeb907d3b93b6e0e5",
    "execution": {
     "iopub.execute_input": "2022-01-02T17:45:40.911411Z",
     "iopub.status.busy": "2022-01-02T17:45:40.909595Z",
     "iopub.status.idle": "2022-01-02T17:45:43.366148Z",
     "shell.execute_reply": "2022-01-02T17:45:43.365250Z",
     "shell.execute_reply.started": "2022-01-02T17:36:02.046589Z"
    },
    "papermill": {
     "duration": 2.472169,
     "end_time": "2022-01-02T17:45:43.366359",
     "exception": false,
     "start_time": "2022-01-02T17:45:40.894190",
     "status": "completed"
    },
    "tags": []
   },
   "outputs": [
    {
     "data": {
      "text/html": [
       "        <script type=\"text/javascript\">\n",
       "        window.PlotlyConfig = {MathJaxConfig: 'local'};\n",
       "        if (window.MathJax) {MathJax.Hub.Config({SVG: {font: \"STIX-Web\"}});}\n",
       "        if (typeof require !== 'undefined') {\n",
       "        require.undef(\"plotly\");\n",
       "        requirejs.config({\n",
       "            paths: {\n",
       "                'plotly': ['https://cdn.plot.ly/plotly-2.6.3.min']\n",
       "            }\n",
       "        });\n",
       "        require(['plotly'], function(Plotly) {\n",
       "            window._Plotly = Plotly;\n",
       "        });\n",
       "        }\n",
       "        </script>\n",
       "        "
      ]
     },
     "metadata": {},
     "output_type": "display_data"
    }
   ],
   "source": [
    "# Libraries for working with data\n",
    "import numpy as np \n",
    "import pandas as pd\n",
    "\n",
    "# libraries for visualizing data\n",
    "import plotly as py\n",
    "import plotly.graph_objs as go\n",
    "import plotly.express as px\n",
    "from plotly.offline import init_notebook_mode\n",
    "init_notebook_mode(connected = True)\n",
    "import seaborn as sns\n",
    "import matplotlib.pyplot as plt\n",
    "%matplotlib inline\n",
    "\n",
    "\n",
    "#########################################################\n",
    "import warnings\n",
    "warnings.filterwarnings(\"ignore\")\n",
    "\n",
    "pd.set_option('display.max_columns', None)"
   ]
  },
  {
   "cell_type": "code",
   "execution_count": 2,
   "id": "bc838c14",
   "metadata": {
    "execution": {
     "iopub.execute_input": "2022-01-02T17:45:43.392095Z",
     "iopub.status.busy": "2022-01-02T17:45:43.391433Z",
     "iopub.status.idle": "2022-01-02T17:45:43.481504Z",
     "shell.execute_reply": "2022-01-02T17:45:43.480806Z",
     "shell.execute_reply.started": "2022-01-02T17:36:07.600816Z"
    },
    "papermill": {
     "duration": 0.105257,
     "end_time": "2022-01-02T17:45:43.481664",
     "exception": false,
     "start_time": "2022-01-02T17:45:43.376407",
     "status": "completed"
    },
    "tags": []
   },
   "outputs": [],
   "source": [
    "#Loading dataset\n",
    "train = pd.read_csv('../input/tabular-playground-series-jan-2022/train.csv')\n",
    "test = pd.read_csv('../input/tabular-playground-series-jan-2022/test.csv')\n",
    "submission = pd.read_csv('../input/tabular-playground-series-jan-2022/sample_submission.csv')"
   ]
  },
  {
   "cell_type": "code",
   "execution_count": 3,
   "id": "7453c8ae",
   "metadata": {
    "execution": {
     "iopub.execute_input": "2022-01-02T17:45:43.504109Z",
     "iopub.status.busy": "2022-01-02T17:45:43.503171Z",
     "iopub.status.idle": "2022-01-02T17:45:43.545497Z",
     "shell.execute_reply": "2022-01-02T17:45:43.545978Z",
     "shell.execute_reply.started": "2022-01-02T17:20:07.076277Z"
    },
    "papermill": {
     "duration": 0.055507,
     "end_time": "2022-01-02T17:45:43.546167",
     "exception": false,
     "start_time": "2022-01-02T17:45:43.490660",
     "status": "completed"
    },
    "tags": []
   },
   "outputs": [
    {
     "name": "stdout",
     "output_type": "stream",
     "text": [
      "<class 'pandas.core.frame.DataFrame'>\n",
      "RangeIndex: 26298 entries, 0 to 26297\n",
      "Data columns (total 6 columns):\n",
      " #   Column    Non-Null Count  Dtype \n",
      "---  ------    --------------  ----- \n",
      " 0   row_id    26298 non-null  int64 \n",
      " 1   date      26298 non-null  object\n",
      " 2   country   26298 non-null  object\n",
      " 3   store     26298 non-null  object\n",
      " 4   product   26298 non-null  object\n",
      " 5   num_sold  26298 non-null  int64 \n",
      "dtypes: int64(2), object(4)\n",
      "memory usage: 1.2+ MB\n"
     ]
    }
   ],
   "source": [
    "train.info()"
   ]
  },
  {
   "cell_type": "code",
   "execution_count": 4,
   "id": "db946577",
   "metadata": {
    "execution": {
     "iopub.execute_input": "2022-01-02T17:45:43.572982Z",
     "iopub.status.busy": "2022-01-02T17:45:43.572300Z",
     "iopub.status.idle": "2022-01-02T17:45:43.588850Z",
     "shell.execute_reply": "2022-01-02T17:45:43.588081Z",
     "shell.execute_reply.started": "2022-01-02T17:36:13.987804Z"
    },
    "papermill": {
     "duration": 0.033602,
     "end_time": "2022-01-02T17:45:43.589002",
     "exception": false,
     "start_time": "2022-01-02T17:45:43.555400",
     "status": "completed"
    },
    "tags": []
   },
   "outputs": [],
   "source": [
    "# converting date into time series data\n",
    "train['date'] = pd.to_datetime(train.date)\n",
    "test['date'] = pd.to_datetime(test.date)"
   ]
  },
  {
   "cell_type": "code",
   "execution_count": 5,
   "id": "5b5c25a6",
   "metadata": {
    "execution": {
     "iopub.execute_input": "2022-01-02T17:45:43.615288Z",
     "iopub.status.busy": "2022-01-02T17:45:43.614559Z",
     "iopub.status.idle": "2022-01-02T17:45:43.621111Z",
     "shell.execute_reply": "2022-01-02T17:45:43.620465Z",
     "shell.execute_reply.started": "2022-01-02T17:36:19.158481Z"
    },
    "papermill": {
     "duration": 0.02211,
     "end_time": "2022-01-02T17:45:43.621280",
     "exception": false,
     "start_time": "2022-01-02T17:45:43.599170",
     "status": "completed"
    },
    "tags": []
   },
   "outputs": [
    {
     "name": "stdout",
     "output_type": "stream",
     "text": [
      "Training data is from 2015-01-01 00:00:00 to 2018-12-31 00:00:00 duration 1460 days 00:00:00 \n",
      "Testing  data is from 2019-01-01 00:00:00 to 2019-12-31 00:00:00 duration  364 days 00:00:00 \n"
     ]
    }
   ],
   "source": [
    "# duration \n",
    "print(f'Training data is from {train.date.min()} to {train.date.max()} duration {train.date.max()-train.date.min()} ')\n",
    "print(f'Testing  data is from {test.date.min()} to {test.date.max()} duration  {test.date.max()-test.date.min()} ')"
   ]
  },
  {
   "cell_type": "code",
   "execution_count": 6,
   "id": "0a1cc839",
   "metadata": {
    "execution": {
     "iopub.execute_input": "2022-01-02T17:45:43.649171Z",
     "iopub.status.busy": "2022-01-02T17:45:43.648504Z",
     "iopub.status.idle": "2022-01-02T17:45:43.658687Z",
     "shell.execute_reply": "2022-01-02T17:45:43.659415Z",
     "shell.execute_reply.started": "2022-01-02T17:36:22.465170Z"
    },
    "papermill": {
     "duration": 0.027695,
     "end_time": "2022-01-02T17:45:43.659646",
     "exception": false,
     "start_time": "2022-01-02T17:45:43.631951",
     "status": "completed"
    },
    "tags": []
   },
   "outputs": [
    {
     "name": "stdout",
     "output_type": "stream",
     "text": [
      "country: ['Finland' 'Norway' 'Sweden']\n",
      "store: ['KaggleMart' 'KaggleRama']\n",
      "product: ['Kaggle Mug' 'Kaggle Hat' 'Kaggle Sticker']\n"
     ]
    }
   ],
   "source": [
    "for col in ['country', 'store','product']:\n",
    "    print(f'{col}: {train[col].unique()}')\n"
   ]
  },
  {
   "cell_type": "code",
   "execution_count": 7,
   "id": "a918164e",
   "metadata": {
    "execution": {
     "iopub.execute_input": "2022-01-02T17:45:43.687326Z",
     "iopub.status.busy": "2022-01-02T17:45:43.686037Z",
     "iopub.status.idle": "2022-01-02T17:45:43.720125Z",
     "shell.execute_reply": "2022-01-02T17:45:43.720640Z",
     "shell.execute_reply.started": "2022-01-02T17:36:27.496758Z"
    },
    "papermill": {
     "duration": 0.051097,
     "end_time": "2022-01-02T17:45:43.720831",
     "exception": false,
     "start_time": "2022-01-02T17:45:43.669734",
     "status": "completed"
    },
    "tags": []
   },
   "outputs": [
    {
     "data": {
      "text/html": [
       "<div>\n",
       "<style scoped>\n",
       "    .dataframe tbody tr th:only-of-type {\n",
       "        vertical-align: middle;\n",
       "    }\n",
       "\n",
       "    .dataframe tbody tr th {\n",
       "        vertical-align: top;\n",
       "    }\n",
       "\n",
       "    .dataframe thead th {\n",
       "        text-align: right;\n",
       "    }\n",
       "</style>\n",
       "<table border=\"1\" class=\"dataframe\">\n",
       "  <thead>\n",
       "    <tr style=\"text-align: right;\">\n",
       "      <th></th>\n",
       "      <th></th>\n",
       "      <th></th>\n",
       "      <th>product</th>\n",
       "    </tr>\n",
       "    <tr>\n",
       "      <th>country</th>\n",
       "      <th>store</th>\n",
       "      <th>product</th>\n",
       "      <th></th>\n",
       "    </tr>\n",
       "  </thead>\n",
       "  <tbody>\n",
       "    <tr>\n",
       "      <th rowspan=\"6\" valign=\"top\">Finland</th>\n",
       "      <th rowspan=\"3\" valign=\"top\">KaggleMart</th>\n",
       "      <th>Kaggle Hat</th>\n",
       "      <td>1461</td>\n",
       "    </tr>\n",
       "    <tr>\n",
       "      <th>Kaggle Mug</th>\n",
       "      <td>1461</td>\n",
       "    </tr>\n",
       "    <tr>\n",
       "      <th>Kaggle Sticker</th>\n",
       "      <td>1461</td>\n",
       "    </tr>\n",
       "    <tr>\n",
       "      <th rowspan=\"3\" valign=\"top\">KaggleRama</th>\n",
       "      <th>Kaggle Hat</th>\n",
       "      <td>1461</td>\n",
       "    </tr>\n",
       "    <tr>\n",
       "      <th>Kaggle Mug</th>\n",
       "      <td>1461</td>\n",
       "    </tr>\n",
       "    <tr>\n",
       "      <th>Kaggle Sticker</th>\n",
       "      <td>1461</td>\n",
       "    </tr>\n",
       "    <tr>\n",
       "      <th rowspan=\"6\" valign=\"top\">Norway</th>\n",
       "      <th rowspan=\"3\" valign=\"top\">KaggleMart</th>\n",
       "      <th>Kaggle Hat</th>\n",
       "      <td>1461</td>\n",
       "    </tr>\n",
       "    <tr>\n",
       "      <th>Kaggle Mug</th>\n",
       "      <td>1461</td>\n",
       "    </tr>\n",
       "    <tr>\n",
       "      <th>Kaggle Sticker</th>\n",
       "      <td>1461</td>\n",
       "    </tr>\n",
       "    <tr>\n",
       "      <th rowspan=\"3\" valign=\"top\">KaggleRama</th>\n",
       "      <th>Kaggle Hat</th>\n",
       "      <td>1461</td>\n",
       "    </tr>\n",
       "    <tr>\n",
       "      <th>Kaggle Mug</th>\n",
       "      <td>1461</td>\n",
       "    </tr>\n",
       "    <tr>\n",
       "      <th>Kaggle Sticker</th>\n",
       "      <td>1461</td>\n",
       "    </tr>\n",
       "    <tr>\n",
       "      <th rowspan=\"6\" valign=\"top\">Sweden</th>\n",
       "      <th rowspan=\"3\" valign=\"top\">KaggleMart</th>\n",
       "      <th>Kaggle Hat</th>\n",
       "      <td>1461</td>\n",
       "    </tr>\n",
       "    <tr>\n",
       "      <th>Kaggle Mug</th>\n",
       "      <td>1461</td>\n",
       "    </tr>\n",
       "    <tr>\n",
       "      <th>Kaggle Sticker</th>\n",
       "      <td>1461</td>\n",
       "    </tr>\n",
       "    <tr>\n",
       "      <th rowspan=\"3\" valign=\"top\">KaggleRama</th>\n",
       "      <th>Kaggle Hat</th>\n",
       "      <td>1461</td>\n",
       "    </tr>\n",
       "    <tr>\n",
       "      <th>Kaggle Mug</th>\n",
       "      <td>1461</td>\n",
       "    </tr>\n",
       "    <tr>\n",
       "      <th>Kaggle Sticker</th>\n",
       "      <td>1461</td>\n",
       "    </tr>\n",
       "  </tbody>\n",
       "</table>\n",
       "</div>"
      ],
      "text/plain": [
       "                                   product\n",
       "country store      product                \n",
       "Finland KaggleMart Kaggle Hat         1461\n",
       "                   Kaggle Mug         1461\n",
       "                   Kaggle Sticker     1461\n",
       "        KaggleRama Kaggle Hat         1461\n",
       "                   Kaggle Mug         1461\n",
       "                   Kaggle Sticker     1461\n",
       "Norway  KaggleMart Kaggle Hat         1461\n",
       "                   Kaggle Mug         1461\n",
       "                   Kaggle Sticker     1461\n",
       "        KaggleRama Kaggle Hat         1461\n",
       "                   Kaggle Mug         1461\n",
       "                   Kaggle Sticker     1461\n",
       "Sweden  KaggleMart Kaggle Hat         1461\n",
       "                   Kaggle Mug         1461\n",
       "                   Kaggle Sticker     1461\n",
       "        KaggleRama Kaggle Hat         1461\n",
       "                   Kaggle Mug         1461\n",
       "                   Kaggle Sticker     1461"
      ]
     },
     "execution_count": 7,
     "metadata": {},
     "output_type": "execute_result"
    }
   ],
   "source": [
    "train_categories = train.groupby(['country','store','product']).agg({'product': 'count'})\n",
    "train_categories"
   ]
  },
  {
   "cell_type": "code",
   "execution_count": 8,
   "id": "94f1200a",
   "metadata": {
    "execution": {
     "iopub.execute_input": "2022-01-02T17:45:43.761435Z",
     "iopub.status.busy": "2022-01-02T17:45:43.751997Z",
     "iopub.status.idle": "2022-01-02T17:45:43.765067Z",
     "shell.execute_reply": "2022-01-02T17:45:43.764412Z",
     "shell.execute_reply.started": "2022-01-02T17:36:35.512830Z"
    },
    "papermill": {
     "duration": 0.033865,
     "end_time": "2022-01-02T17:45:43.765212",
     "exception": false,
     "start_time": "2022-01-02T17:45:43.731347",
     "status": "completed"
    },
    "tags": []
   },
   "outputs": [
    {
     "data": {
      "text/html": [
       "<div>\n",
       "<style scoped>\n",
       "    .dataframe tbody tr th:only-of-type {\n",
       "        vertical-align: middle;\n",
       "    }\n",
       "\n",
       "    .dataframe tbody tr th {\n",
       "        vertical-align: top;\n",
       "    }\n",
       "\n",
       "    .dataframe thead th {\n",
       "        text-align: right;\n",
       "    }\n",
       "</style>\n",
       "<table border=\"1\" class=\"dataframe\">\n",
       "  <thead>\n",
       "    <tr style=\"text-align: right;\">\n",
       "      <th></th>\n",
       "      <th></th>\n",
       "      <th></th>\n",
       "      <th>product</th>\n",
       "    </tr>\n",
       "    <tr>\n",
       "      <th>country</th>\n",
       "      <th>store</th>\n",
       "      <th>product</th>\n",
       "      <th></th>\n",
       "    </tr>\n",
       "  </thead>\n",
       "  <tbody>\n",
       "    <tr>\n",
       "      <th rowspan=\"6\" valign=\"top\">Finland</th>\n",
       "      <th rowspan=\"3\" valign=\"top\">KaggleMart</th>\n",
       "      <th>Kaggle Hat</th>\n",
       "      <td>365</td>\n",
       "    </tr>\n",
       "    <tr>\n",
       "      <th>Kaggle Mug</th>\n",
       "      <td>365</td>\n",
       "    </tr>\n",
       "    <tr>\n",
       "      <th>Kaggle Sticker</th>\n",
       "      <td>365</td>\n",
       "    </tr>\n",
       "    <tr>\n",
       "      <th rowspan=\"3\" valign=\"top\">KaggleRama</th>\n",
       "      <th>Kaggle Hat</th>\n",
       "      <td>365</td>\n",
       "    </tr>\n",
       "    <tr>\n",
       "      <th>Kaggle Mug</th>\n",
       "      <td>365</td>\n",
       "    </tr>\n",
       "    <tr>\n",
       "      <th>Kaggle Sticker</th>\n",
       "      <td>365</td>\n",
       "    </tr>\n",
       "    <tr>\n",
       "      <th rowspan=\"6\" valign=\"top\">Norway</th>\n",
       "      <th rowspan=\"3\" valign=\"top\">KaggleMart</th>\n",
       "      <th>Kaggle Hat</th>\n",
       "      <td>365</td>\n",
       "    </tr>\n",
       "    <tr>\n",
       "      <th>Kaggle Mug</th>\n",
       "      <td>365</td>\n",
       "    </tr>\n",
       "    <tr>\n",
       "      <th>Kaggle Sticker</th>\n",
       "      <td>365</td>\n",
       "    </tr>\n",
       "    <tr>\n",
       "      <th rowspan=\"3\" valign=\"top\">KaggleRama</th>\n",
       "      <th>Kaggle Hat</th>\n",
       "      <td>365</td>\n",
       "    </tr>\n",
       "    <tr>\n",
       "      <th>Kaggle Mug</th>\n",
       "      <td>365</td>\n",
       "    </tr>\n",
       "    <tr>\n",
       "      <th>Kaggle Sticker</th>\n",
       "      <td>365</td>\n",
       "    </tr>\n",
       "    <tr>\n",
       "      <th rowspan=\"6\" valign=\"top\">Sweden</th>\n",
       "      <th rowspan=\"3\" valign=\"top\">KaggleMart</th>\n",
       "      <th>Kaggle Hat</th>\n",
       "      <td>365</td>\n",
       "    </tr>\n",
       "    <tr>\n",
       "      <th>Kaggle Mug</th>\n",
       "      <td>365</td>\n",
       "    </tr>\n",
       "    <tr>\n",
       "      <th>Kaggle Sticker</th>\n",
       "      <td>365</td>\n",
       "    </tr>\n",
       "    <tr>\n",
       "      <th rowspan=\"3\" valign=\"top\">KaggleRama</th>\n",
       "      <th>Kaggle Hat</th>\n",
       "      <td>365</td>\n",
       "    </tr>\n",
       "    <tr>\n",
       "      <th>Kaggle Mug</th>\n",
       "      <td>365</td>\n",
       "    </tr>\n",
       "    <tr>\n",
       "      <th>Kaggle Sticker</th>\n",
       "      <td>365</td>\n",
       "    </tr>\n",
       "  </tbody>\n",
       "</table>\n",
       "</div>"
      ],
      "text/plain": [
       "                                   product\n",
       "country store      product                \n",
       "Finland KaggleMart Kaggle Hat          365\n",
       "                   Kaggle Mug          365\n",
       "                   Kaggle Sticker      365\n",
       "        KaggleRama Kaggle Hat          365\n",
       "                   Kaggle Mug          365\n",
       "                   Kaggle Sticker      365\n",
       "Norway  KaggleMart Kaggle Hat          365\n",
       "                   Kaggle Mug          365\n",
       "                   Kaggle Sticker      365\n",
       "        KaggleRama Kaggle Hat          365\n",
       "                   Kaggle Mug          365\n",
       "                   Kaggle Sticker      365\n",
       "Sweden  KaggleMart Kaggle Hat          365\n",
       "                   Kaggle Mug          365\n",
       "                   Kaggle Sticker      365\n",
       "        KaggleRama Kaggle Hat          365\n",
       "                   Kaggle Mug          365\n",
       "                   Kaggle Sticker      365"
      ]
     },
     "execution_count": 8,
     "metadata": {},
     "output_type": "execute_result"
    }
   ],
   "source": [
    "test_categories = test.groupby(['country','store','product']).agg({'product': 'count'})\n",
    "test_categories"
   ]
  },
  {
   "cell_type": "markdown",
   "id": "717ad3f8",
   "metadata": {
    "papermill": {
     "duration": 0.010756,
     "end_time": "2022-01-02T17:45:43.787393",
     "exception": false,
     "start_time": "2022-01-02T17:45:43.776637",
     "status": "completed"
    },
    "tags": []
   },
   "source": [
    "## Preprocessing and visualization "
   ]
  }
 ],
 "metadata": {
  "kernelspec": {
   "display_name": "Python 3",
   "language": "python",
   "name": "python3"
  },
  "language_info": {
   "codemirror_mode": {
    "name": "ipython",
    "version": 3
   },
   "file_extension": ".py",
   "mimetype": "text/x-python",
   "name": "python",
   "nbconvert_exporter": "python",
   "pygments_lexer": "ipython3",
   "version": "3.7.12"
  },
  "papermill": {
   "default_parameters": {},
   "duration": 15.204911,
   "end_time": "2022-01-02T17:45:44.911929",
   "environment_variables": {},
   "exception": null,
   "input_path": "__notebook__.ipynb",
   "output_path": "__notebook__.ipynb",
   "parameters": {},
   "start_time": "2022-01-02T17:45:29.707018",
   "version": "2.3.3"
  }
 },
 "nbformat": 4,
 "nbformat_minor": 5
}
