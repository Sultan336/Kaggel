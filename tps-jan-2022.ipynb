{
 "cells": [
  {
   "cell_type": "markdown",
   "id": "79ddfafb",
   "metadata": {
    "papermill": {
     "duration": 0.010695,
     "end_time": "2022-01-13T05:13:18.928910",
     "exception": false,
     "start_time": "2022-01-13T05:13:18.918215",
     "status": "completed"
    },
    "tags": []
   },
   "source": [
    "## Let's make a linear model \n",
    "We will use mean square error instead of SMAPE"
   ]
  },
  {
   "cell_type": "code",
   "execution_count": 1,
   "id": "5c4c84cf",
   "metadata": {
    "execution": {
     "iopub.execute_input": "2022-01-13T05:13:18.954670Z",
     "iopub.status.busy": "2022-01-13T05:13:18.952865Z",
     "iopub.status.idle": "2022-01-13T05:13:20.116419Z",
     "shell.execute_reply": "2022-01-13T05:13:20.115579Z",
     "shell.execute_reply.started": "2022-01-13T04:55:10.914576Z"
    },
    "papermill": {
     "duration": 1.177332,
     "end_time": "2022-01-13T05:13:20.116589",
     "exception": false,
     "start_time": "2022-01-13T05:13:18.939257",
     "status": "completed"
    },
    "tags": []
   },
   "outputs": [],
   "source": [
    "# Importing helpful libraries\n",
    "import pandas as pd\n",
    "import numpy as np\n",
    "import pickle\n",
    "import itertools\n",
    "import gc\n",
    "import math\n",
    "import matplotlib.pyplot as plt\n",
    "import dateutil.easter\n",
    "from matplotlib.ticker import MaxNLocator, FormatStrFormatter, PercentFormatter\n",
    "from datetime import datetime, date\n",
    "from sklearn.pipeline import make_pipeline\n",
    "from sklearn.model_selection import TimeSeriesSplit\n",
    "from sklearn.preprocessing import StandardScaler, QuantileTransformer, LabelEncoder, minmax_scale\n",
    "from sklearn.metrics import accuracy_score, confusion_matrix, classification_report\n",
    "from sklearn.linear_model import LinearRegression, HuberRegressor, SGDRegressor\n",
    "from sklearn.svm import SVR, LinearSVR\n",
    "\n",
    "import warnings\n",
    "warnings.filterwarnings(\"ignore\")"
   ]
  },
  {
   "cell_type": "code",
   "execution_count": 2,
   "id": "68909c54",
   "metadata": {
    "execution": {
     "iopub.execute_input": "2022-01-13T05:13:20.141186Z",
     "iopub.status.busy": "2022-01-13T05:13:20.140540Z",
     "iopub.status.idle": "2022-01-13T05:13:20.215373Z",
     "shell.execute_reply": "2022-01-13T05:13:20.214741Z",
     "shell.execute_reply.started": "2022-01-13T04:55:29.796218Z"
    },
    "papermill": {
     "duration": 0.089059,
     "end_time": "2022-01-13T05:13:20.215524",
     "exception": false,
     "start_time": "2022-01-13T05:13:20.126465",
     "status": "completed"
    },
    "tags": []
   },
   "outputs": [],
   "source": [
    "# Import the dataset \n",
    "original_train_df = pd.read_csv('../input/tabular-playground-series-jan-2022/train.csv')\n",
    "original_test_df = pd.read_csv('../input/tabular-playground-series-jan-2022/test.csv')"
   ]
  },
  {
   "cell_type": "code",
   "execution_count": 3,
   "id": "3cca41f1",
   "metadata": {
    "execution": {
     "iopub.execute_input": "2022-01-13T05:13:20.251336Z",
     "iopub.status.busy": "2022-01-13T05:13:20.237897Z",
     "iopub.status.idle": "2022-01-13T05:13:20.282443Z",
     "shell.execute_reply": "2022-01-13T05:13:20.281895Z",
     "shell.execute_reply.started": "2022-01-13T04:55:32.188940Z"
    },
    "papermill": {
     "duration": 0.05703,
     "end_time": "2022-01-13T05:13:20.282591",
     "exception": false,
     "start_time": "2022-01-13T05:13:20.225561",
     "status": "completed"
    },
    "tags": []
   },
   "outputs": [
    {
     "data": {
      "text/html": [
       "<div>\n",
       "<style scoped>\n",
       "    .dataframe tbody tr th:only-of-type {\n",
       "        vertical-align: middle;\n",
       "    }\n",
       "\n",
       "    .dataframe tbody tr th {\n",
       "        vertical-align: top;\n",
       "    }\n",
       "\n",
       "    .dataframe thead th {\n",
       "        text-align: right;\n",
       "    }\n",
       "</style>\n",
       "<table border=\"1\" class=\"dataframe\">\n",
       "  <thead>\n",
       "    <tr style=\"text-align: right;\">\n",
       "      <th></th>\n",
       "      <th>row_id</th>\n",
       "      <th>date</th>\n",
       "      <th>country</th>\n",
       "      <th>store</th>\n",
       "      <th>product</th>\n",
       "      <th>num_sold</th>\n",
       "    </tr>\n",
       "    <tr>\n",
       "      <th>date</th>\n",
       "      <th></th>\n",
       "      <th></th>\n",
       "      <th></th>\n",
       "      <th></th>\n",
       "      <th></th>\n",
       "      <th></th>\n",
       "    </tr>\n",
       "  </thead>\n",
       "  <tbody>\n",
       "    <tr>\n",
       "      <th>2015-01-01</th>\n",
       "      <td>0</td>\n",
       "      <td>2015-01-01</td>\n",
       "      <td>Finland</td>\n",
       "      <td>KaggleMart</td>\n",
       "      <td>Kaggle Mug</td>\n",
       "      <td>329</td>\n",
       "    </tr>\n",
       "    <tr>\n",
       "      <th>2015-01-01</th>\n",
       "      <td>1</td>\n",
       "      <td>2015-01-01</td>\n",
       "      <td>Finland</td>\n",
       "      <td>KaggleMart</td>\n",
       "      <td>Kaggle Hat</td>\n",
       "      <td>520</td>\n",
       "    </tr>\n",
       "  </tbody>\n",
       "</table>\n",
       "</div>"
      ],
      "text/plain": [
       "            row_id       date  country       store     product  num_sold\n",
       "date                                                                    \n",
       "2015-01-01       0 2015-01-01  Finland  KaggleMart  Kaggle Mug       329\n",
       "2015-01-01       1 2015-01-01  Finland  KaggleMart  Kaggle Hat       520"
      ]
     },
     "execution_count": 3,
     "metadata": {},
     "output_type": "execute_result"
    }
   ],
   "source": [
    "# Since dates are read as strings, we will need to convert it into datetime series \n",
    "for df in [original_train_df,original_test_df]:\n",
    "    df['date'] = pd.to_datetime(df.date)\n",
    "    df.set_index('date', inplace= True, drop= False)\n",
    "original_train_df.head(2)"
   ]
  },
  {
   "cell_type": "code",
   "execution_count": 4,
   "id": "f4e772f6",
   "metadata": {
    "execution": {
     "iopub.execute_input": "2022-01-13T05:13:20.306299Z",
     "iopub.status.busy": "2022-01-13T05:13:20.305663Z",
     "iopub.status.idle": "2022-01-13T05:13:20.309925Z",
     "shell.execute_reply": "2022-01-13T05:13:20.310541Z",
     "shell.execute_reply.started": "2022-01-13T04:55:34.987290Z"
    },
    "papermill": {
     "duration": 0.017679,
     "end_time": "2022-01-13T05:13:20.310718",
     "exception": false,
     "start_time": "2022-01-13T05:13:20.293039",
     "status": "completed"
    },
    "tags": []
   },
   "outputs": [],
   "source": [
    "def smape_loss(y_true, y_pred):\n",
    "    \"\"\"SMAPE Loss to be used with TensorFlow\"\"\"\n",
    "    return np.abs(y_true - y_pred) / (y_true + np.abs(y_pred)) * 200\n"
   ]
  },
  {
   "cell_type": "markdown",
   "id": "2b79b41e",
   "metadata": {
    "papermill": {
     "duration": 0.009668,
     "end_time": "2022-01-13T05:13:20.330836",
     "exception": false,
     "start_time": "2022-01-13T05:13:20.321168",
     "status": "completed"
    },
    "tags": []
   },
   "source": [
    "## Feature Engineering  "
   ]
  },
  {
   "cell_type": "code",
   "execution_count": 5,
   "id": "322d49bc",
   "metadata": {
    "execution": {
     "iopub.execute_input": "2022-01-13T05:13:20.354357Z",
     "iopub.status.busy": "2022-01-13T05:13:20.353627Z",
     "iopub.status.idle": "2022-01-13T05:13:35.752991Z",
     "shell.execute_reply": "2022-01-13T05:13:35.752354Z",
     "shell.execute_reply.started": "2022-01-13T04:55:38.825294Z"
    },
    "papermill": {
     "duration": 15.412314,
     "end_time": "2022-01-13T05:13:35.753162",
     "exception": false,
     "start_time": "2022-01-13T05:13:20.340848",
     "status": "completed"
    },
    "tags": []
   },
   "outputs": [
    {
     "name": "stdout",
     "output_type": "stream",
     "text": [
      "<class 'pandas.core.frame.DataFrame'>\n",
      "DatetimeIndex: 26298 entries, 2015-01-01 to 2018-12-31\n",
      "Columns: 618 entries, daynum to num_sold\n",
      "dtypes: datetime64[ns](1), float32(617)\n",
      "memory usage: 62.3 MB\n"
     ]
    },
    {
     "data": {
      "text/plain": [
       "None"
      ]
     },
     "metadata": {},
     "output_type": "display_data"
    },
    {
     "data": {
      "text/html": [
       "<div>\n",
       "<style scoped>\n",
       "    .dataframe tbody tr th:only-of-type {\n",
       "        vertical-align: middle;\n",
       "    }\n",
       "\n",
       "    .dataframe tbody tr th {\n",
       "        vertical-align: top;\n",
       "    }\n",
       "\n",
       "    .dataframe thead th {\n",
       "        text-align: right;\n",
       "    }\n",
       "</style>\n",
       "<table border=\"1\" class=\"dataframe\">\n",
       "  <thead>\n",
       "    <tr style=\"text-align: right;\">\n",
       "      <th></th>\n",
       "      <th>daynum</th>\n",
       "      <th>dayofyear</th>\n",
       "      <th>wd1</th>\n",
       "      <th>wd2</th>\n",
       "      <th>wd3</th>\n",
       "      <th>wd4</th>\n",
       "      <th>wd5</th>\n",
       "      <th>wd6</th>\n",
       "      <th>dec27</th>\n",
       "      <th>dec28</th>\n",
       "      <th>...</th>\n",
       "      <th>sticker_sin98</th>\n",
       "      <th>sticker_cos98</th>\n",
       "      <th>sin99</th>\n",
       "      <th>cos99</th>\n",
       "      <th>mug_sin99</th>\n",
       "      <th>mug_cos99</th>\n",
       "      <th>sticker_sin99</th>\n",
       "      <th>sticker_cos99</th>\n",
       "      <th>date</th>\n",
       "      <th>num_sold</th>\n",
       "    </tr>\n",
       "    <tr>\n",
       "      <th>date</th>\n",
       "      <th></th>\n",
       "      <th></th>\n",
       "      <th></th>\n",
       "      <th></th>\n",
       "      <th></th>\n",
       "      <th></th>\n",
       "      <th></th>\n",
       "      <th></th>\n",
       "      <th></th>\n",
       "      <th></th>\n",
       "      <th></th>\n",
       "      <th></th>\n",
       "      <th></th>\n",
       "      <th></th>\n",
       "      <th></th>\n",
       "      <th></th>\n",
       "      <th></th>\n",
       "      <th></th>\n",
       "      <th></th>\n",
       "      <th></th>\n",
       "      <th></th>\n",
       "    </tr>\n",
       "  </thead>\n",
       "  <tbody>\n",
       "    <tr>\n",
       "      <th>2015-01-01</th>\n",
       "      <td>0.0</td>\n",
       "      <td>1.0</td>\n",
       "      <td>0.0</td>\n",
       "      <td>0.0</td>\n",
       "      <td>1.0</td>\n",
       "      <td>0.0</td>\n",
       "      <td>0.0</td>\n",
       "      <td>0.0</td>\n",
       "      <td>0.0</td>\n",
       "      <td>0.0</td>\n",
       "      <td>...</td>\n",
       "      <td>0.000000</td>\n",
       "      <td>-0.000000</td>\n",
       "      <td>0.991114</td>\n",
       "      <td>-0.133015</td>\n",
       "      <td>0.991114</td>\n",
       "      <td>-0.133015</td>\n",
       "      <td>0.000000</td>\n",
       "      <td>-0.000000</td>\n",
       "      <td>2015-01-01</td>\n",
       "      <td>329.0</td>\n",
       "    </tr>\n",
       "    <tr>\n",
       "      <th>2015-01-01</th>\n",
       "      <td>0.0</td>\n",
       "      <td>1.0</td>\n",
       "      <td>0.0</td>\n",
       "      <td>0.0</td>\n",
       "      <td>1.0</td>\n",
       "      <td>0.0</td>\n",
       "      <td>0.0</td>\n",
       "      <td>0.0</td>\n",
       "      <td>0.0</td>\n",
       "      <td>0.0</td>\n",
       "      <td>...</td>\n",
       "      <td>0.000000</td>\n",
       "      <td>-0.000000</td>\n",
       "      <td>0.991114</td>\n",
       "      <td>-0.133015</td>\n",
       "      <td>0.000000</td>\n",
       "      <td>-0.000000</td>\n",
       "      <td>0.000000</td>\n",
       "      <td>-0.000000</td>\n",
       "      <td>2015-01-01</td>\n",
       "      <td>520.0</td>\n",
       "    </tr>\n",
       "    <tr>\n",
       "      <th>2015-01-01</th>\n",
       "      <td>0.0</td>\n",
       "      <td>1.0</td>\n",
       "      <td>0.0</td>\n",
       "      <td>0.0</td>\n",
       "      <td>1.0</td>\n",
       "      <td>0.0</td>\n",
       "      <td>0.0</td>\n",
       "      <td>0.0</td>\n",
       "      <td>0.0</td>\n",
       "      <td>0.0</td>\n",
       "      <td>...</td>\n",
       "      <td>0.993257</td>\n",
       "      <td>-0.115935</td>\n",
       "      <td>0.991114</td>\n",
       "      <td>-0.133015</td>\n",
       "      <td>0.000000</td>\n",
       "      <td>-0.000000</td>\n",
       "      <td>0.991114</td>\n",
       "      <td>-0.133015</td>\n",
       "      <td>2015-01-01</td>\n",
       "      <td>146.0</td>\n",
       "    </tr>\n",
       "  </tbody>\n",
       "</table>\n",
       "<p>3 rows × 618 columns</p>\n",
       "</div>"
      ],
      "text/plain": [
       "            daynum  dayofyear  wd1  wd2  wd3  wd4  wd5  wd6  dec27  dec28  \\\n",
       "date                                                                        \n",
       "2015-01-01     0.0        1.0  0.0  0.0  1.0  0.0  0.0  0.0    0.0    0.0   \n",
       "2015-01-01     0.0        1.0  0.0  0.0  1.0  0.0  0.0  0.0    0.0    0.0   \n",
       "2015-01-01     0.0        1.0  0.0  0.0  1.0  0.0  0.0  0.0    0.0    0.0   \n",
       "\n",
       "            ...  sticker_sin98  sticker_cos98     sin99     cos99  mug_sin99  \\\n",
       "date        ...                                                                \n",
       "2015-01-01  ...       0.000000      -0.000000  0.991114 -0.133015   0.991114   \n",
       "2015-01-01  ...       0.000000      -0.000000  0.991114 -0.133015   0.000000   \n",
       "2015-01-01  ...       0.993257      -0.115935  0.991114 -0.133015   0.000000   \n",
       "\n",
       "            mug_cos99  sticker_sin99  sticker_cos99       date  num_sold  \n",
       "date                                                                      \n",
       "2015-01-01  -0.133015       0.000000      -0.000000 2015-01-01     329.0  \n",
       "2015-01-01  -0.000000       0.000000      -0.000000 2015-01-01     520.0  \n",
       "2015-01-01  -0.000000       0.991114      -0.133015 2015-01-01     146.0  \n",
       "\n",
       "[3 rows x 618 columns]"
      ]
     },
     "execution_count": 5,
     "metadata": {},
     "output_type": "execute_result"
    }
   ],
   "source": [
    "def feature_engineering(df):\n",
    "    new_df = pd.DataFrame({'daynum':            (df.date - datetime(2015,1,1)).dt.days,\n",
    "                           'dayofyear':          df.date.dt.dayofyear,\n",
    "                           'wd1': df.date.dt.weekday == 1,\n",
    "                           'wd2': df.date.dt.weekday == 2,\n",
    "                           'wd3': df.date.dt.weekday == 3,\n",
    "                           'wd4': df.date.dt.weekday == 4,\n",
    "                           'wd5': df.date.dt.weekday == 5,\n",
    "                           'wd6': df.date.dt.weekday == 6,\n",
    "                           #'dec26': (df.date.dt.month == 12) & (df.date.dt.day == 29),\n",
    "                           'dec27': (df.date.dt.month == 12) & (df.date.dt.day == 29),\n",
    "                           'dec28': (df.date.dt.month == 12) & (df.date.dt.day == 29),\n",
    "                           'dec29': (df.date.dt.month == 12) & (df.date.dt.day == 29),\n",
    "                           'dec30': (df.date.dt.month == 12) & (df.date.dt.day == 30),\n",
    "                           #'dec31': (df.date.dt.month == 12) & (df.date.dt.day == 30),\n",
    "                           #'yearend': df.date.dt.dayofyear >= 360,\n",
    "                           #'dec30': (df.date.dt.month == 12) & (df.date.dt.day == 30),\n",
    "                           'easter': 0,\n",
    "                           'easter1': 0,\n",
    "                           'easter2': 0,\n",
    "                           'easter3': 0,\n",
    "                          })\n",
    "    new_df['daynum2'] = np.log(new_df.daynum + 80) \n",
    "    \n",
    "     # One-hot encoding (no need to encode the last categories)\n",
    "    for country in ['Finland', 'Norway']:\n",
    "        new_df[country] = df.country == country\n",
    "    new_df['KaggleRama'] = df.store == 'KaggleRama'\n",
    "    for product in ['Kaggle Mug', 'Kaggle Sticker']:\n",
    "        new_df[product] = df['product'] == product\n",
    "    \n",
    "    # Seasonal variations (Fourier series)\n",
    "    for k in range(1,100):\n",
    "        new_df[f'sin{k}'] = np.sin(new_df.dayofyear / 365 * 2 * math.pi * k)\n",
    "        new_df[f'cos{k}'] = np.cos(new_df.dayofyear / 365 * 2 * math.pi * k)\n",
    "        new_df[f'mug_sin{k}'] = new_df[f'sin{k}'] * new_df['Kaggle Mug']\n",
    "        new_df[f'mug_cos{k}'] = new_df[f'cos{k}'] * new_df['Kaggle Mug']\n",
    "        new_df[f'sticker_sin{k}'] = new_df[f'sin{k}'] * new_df['Kaggle Sticker']\n",
    "        new_df[f'sticker_cos{k}'] = new_df[f'cos{k}'] * new_df['Kaggle Sticker']\n",
    "    \n",
    "    return new_df\n",
    "train_df = feature_engineering(original_train_df)\n",
    "train_df['date'] = original_train_df.date\n",
    "train_df['num_sold'] = original_train_df.num_sold.astype(np.float32)\n",
    "test_df = feature_engineering(original_test_df)\n",
    "\n",
    "features = test_df.columns\n",
    "for df in [train_df, test_df]:\n",
    "    df[features] = df[features].astype(np.float32)\n",
    "\n",
    "display(train_df.info())\n",
    "train_df.head(3)"
   ]
  },
  {
   "cell_type": "code",
   "execution_count": 6,
   "id": "85918e03",
   "metadata": {
    "execution": {
     "iopub.execute_input": "2022-01-13T05:13:35.793740Z",
     "iopub.status.busy": "2022-01-13T05:13:35.793009Z",
     "iopub.status.idle": "2022-01-13T05:14:30.492548Z",
     "shell.execute_reply": "2022-01-13T05:14:30.493540Z",
     "shell.execute_reply.started": "2022-01-13T04:59:40.051243Z"
    },
    "papermill": {
     "duration": 54.729184,
     "end_time": "2022-01-13T05:14:30.493832",
     "exception": false,
     "start_time": "2022-01-13T05:13:35.764648",
     "status": "completed"
    },
    "tags": []
   },
   "outputs": [
    {
     "name": "stdout",
     "output_type": "stream",
     "text": [
      "Fold 0.0\n",
      "(6552, 1) (6552, 1)\n",
      "Fold 0.0 | 00:13 | SMAPE: 6.27316 5.62331\n"
     ]
    },
    {
     "data": {
      "image/png": "[encoded data removed]",
      "text/plain": [
       "<Figure size 720x720 with 1 Axes>"
      ]
     },
     "metadata": {
      "needs_background": "light"
     },
     "output_type": "display_data"
    },
    {
     "name": "stdout",
     "output_type": "stream",
     "text": [
      "Fold 1.0\n",
      "(6552, 1) (6552, 1)\n",
      "Fold 1.0 | 00:13 | SMAPE: 6.27316 5.62331\n"
     ]
    },
    {
     "data": {
      "image/png": "[encoded data removed]",
      "text/plain": [
       "<Figure size 720x720 with 1 Axes>"
      ]
     },
     "metadata": {
      "needs_background": "light"
     },
     "output_type": "display_data"
    },
    {
     "name": "stdout",
     "output_type": "stream",
     "text": [
      "CPU times: user 1min 40s, sys: 1min 47s, total: 3min 28s\n",
      "Wall time: 54.7 s\n"
     ]
    }
   ],
   "source": [
    "%%time\n",
    "RUNS = 2 # should be 1. increase the number of runs only if you want see how the result depends on the random seed\n",
    "INFERENCE = True\n",
    "OUTLIERS = None\n",
    "\n",
    "def fit_model(X_tr, X_va=None):\n",
    "    \"\"\"Scale the data, fit a model, plot the training history and validate the model\"\"\"\n",
    "    X_tr_f = X_tr[features]\n",
    "    preproc = StandardScaler()\n",
    "    X_tr_f = preproc.fit_transform(X_tr_f)\n",
    "    y_tr = X_tr.num_sold.values.reshape(-1, 1)\n",
    "    \n",
    "    validation_data = None\n",
    "\n",
    "    if X_va is not None:\n",
    "        X_va_f = X_va[features]\n",
    "        X_va_f = preproc.transform(X_va_f)\n",
    "        y_va = X_va.num_sold.values.reshape(-1, 1)\n",
    "        validation_data = (X_va_f, y_va)\n",
    "\n",
    "    # Train and save the model\n",
    "    model = HuberRegressor(epsilon=1.35) # 6.27316 5.62331 (1.35) ******************\n",
    "    #model = LinearRegression() # 6.31480 5.73797\n",
    "    model.fit(X_tr_f, np.log(y_tr))\n",
    "\n",
    "    if X_va is not None:\n",
    "        # Inference for validation after last epoch of fold\n",
    "        y_va_pred = np.exp(model.predict(X_va_f)).reshape(-1, 1)\n",
    "        print(y_va_pred.shape, oof_list[run][val_idx].shape)\n",
    "        oof_list[run][val_idx] = y_va_pred\n",
    "\n",
    "        # Evaluation\n",
    "        smape = np.mean(smape_loss(y_va, y_va_pred))\n",
    "        smape_q1 = np.mean(smape_loss(y_va, y_va_pred)[(X_va.date.dt.month <= 3).values])\n",
    "        score_list.append((smape, datetime.now() - start_time))\n",
    "        print(f\"Fold {run}.{fold} | {str(datetime.now() - start_time)[-12:-7]}\"\n",
    "              f\" | SMAPE: {smape:.5f} {smape_q1:.5f}\")\n",
    "        \n",
    "        # Plot y_true vs. y_pred\n",
    "        # Everything to the right of the black line is an outlier prediction which will be treated in a future version of the notebook\n",
    "        plt.figure(figsize=(10, 10))\n",
    "        plt.scatter(y_va, y_va_pred, s=1, color='r')\n",
    "        plt.plot([0, plt.xlim()[1]], [0, plt.xlim()[1]], '--', color='k')\n",
    "        if OUTLIERS != None:\n",
    "            plt.plot([OUTLIERS, OUTLIERS+plt.ylim()[1]], [0, plt.ylim()[1]], color='k', lw=1)\n",
    "        plt.gca().set_aspect('equal')\n",
    "        plt.xlabel('y_true')\n",
    "        plt.ylabel('y_pred')\n",
    "        plt.title('OOF Predictions')\n",
    "        plt.show()\n",
    "\n",
    "        # Show the outliers among the predictions: Easter week, Pentecost week, last week of the year\n",
    "        if OUTLIERS != None:\n",
    "            print(\"Outlier predictions\")\n",
    "            print(original_train_df.iloc[val_idx][(y_va - y_va_pred > OUTLIERS).ravel()])\n",
    "            #print(\"Outlier predictions\")\n",
    "            #print(X_va[(y_va_pred < 50).ravel()])\n",
    "        \n",
    "    return preproc, model\n",
    "\n",
    "\n",
    "# Make the results reproducible\n",
    "np.random.seed(202100)\n",
    "\n",
    "total_start_time = datetime.now()\n",
    "score_list, test_pred_list, history_list = [], [], []\n",
    "oof_list = [np.full((len(train_df), 1), -1.0, dtype='float32') for run in range(RUNS)]\n",
    "for run in range(RUNS):\n",
    "    fold = 0\n",
    "    train_idx = np.arange(len(train_df))[train_df.date < datetime(2018, 1, 1)]\n",
    "    val_idx = np.arange(len(train_df))[train_df.date > datetime(2018, 1, 1)]\n",
    "    print(f\"Fold {run}.{fold}\")\n",
    "    start_time = datetime.now()\n",
    "    X_tr = train_df.iloc[train_idx]\n",
    "    X_va = train_df.iloc[val_idx]\n",
    "    \n",
    "    preproc, model = fit_model(X_tr, X_va)\n",
    "\n",
    "if INFERENCE:\n",
    "    fold = 999\n",
    "    train_idx = np.arange(len(train_df))\n",
    "    X_tr = train_df.iloc[train_idx]\n",
    "    \n",
    "    preproc, model = fit_model(X_tr, None)\n",
    "\n",
    "    # Inference for test\n",
    "    test_pred_list.append(np.exp(model.predict(preproc.transform(test_df[features]))))\n",
    "\n",
    "# Save all oof and test predictions to later determine ensemble weights\n",
    "#with open('oof_list.pickle', 'wb') as handle: pickle.dump(oof_list, handle)\n",
    "#with open('test_pred_list.pickle', 'wb') as handle: pickle.dump(test_pred_list, handle)\n",
    "    \n",
    "total_time = datetime.now() - total_start_time"
   ]
  },
  {
   "cell_type": "markdown",
   "id": "e032c31d",
   "metadata": {
    "papermill": {
     "duration": 0.027966,
     "end_time": "2022-01-13T05:14:30.550096",
     "exception": false,
     "start_time": "2022-01-13T05:14:30.522130",
     "status": "completed"
    },
    "tags": []
   },
   "source": [
    "# Submission"
   ]
  },
  {
   "cell_type": "code",
   "execution_count": 7,
   "id": "018261b9",
   "metadata": {
    "execution": {
     "iopub.execute_input": "2022-01-13T05:14:30.605384Z",
     "iopub.status.busy": "2022-01-13T05:14:30.604399Z",
     "iopub.status.idle": "2022-01-13T05:14:31.833050Z",
     "shell.execute_reply": "2022-01-13T05:14:31.832504Z",
     "shell.execute_reply.started": "2022-01-13T05:06:21.924240Z"
    },
    "papermill": {
     "duration": 1.253491,
     "end_time": "2022-01-13T05:14:31.833208",
     "exception": false,
     "start_time": "2022-01-13T05:14:30.579717",
     "status": "completed"
    },
    "tags": []
   },
   "outputs": [
    {
     "data": {
      "image/png": "[encoded data removed]",
      "text/plain": [
       "<Figure size 1152x216 with 1 Axes>"
      ]
     },
     "metadata": {
      "needs_background": "light"
     },
     "output_type": "display_data"
    }
   ],
   "source": [
    "if len(test_pred_list) > 0:\n",
    "    # Create the submission file\n",
    "    sub = original_test_df[['row_id']].copy()\n",
    "    sub['num_sold'] = sum(test_pred_list) / len(test_pred_list)\n",
    "    sub.to_csv('submission.csv', index=False)\n",
    "\n",
    "    # Plot the distribution of the test predictions\n",
    "    plt.figure(figsize=(16,3))\n",
    "    plt.hist(train_df['num_sold'], bins=np.linspace(0, 3000, 201), density=True, label='Training')\n",
    "    plt.hist(sub['num_sold'], bins=np.linspace(0, 3000, 201), density=True, rwidth=0.5, label='Test predictions')\n",
    "    #plt.xticks(ticks=range(1, 8), labels=[f\"{i}\\n{(sub['Cover_Type'] == i).mean():.5f}\" for i in range(1, 8)])\n",
    "    plt.xlabel('num_sold')\n",
    "    plt.ylabel('Frequency')\n",
    "    #plt.gca().yaxis.set_major_formatter(PercentFormatter(xmax=1))\n",
    "    plt.legend()\n",
    "    plt.show()\n",
    "\n",
    "    sub"
   ]
  },
  {
   "cell_type": "code",
   "execution_count": null,
   "id": "9687d5ff",
   "metadata": {
    "papermill": {
     "duration": 0.016064,
     "end_time": "2022-01-13T05:14:31.867375",
     "exception": false,
     "start_time": "2022-01-13T05:14:31.851311",
     "status": "completed"
    },
    "tags": []
   },
   "outputs": [],
   "source": []
  }
 ],
 "metadata": {
  "kernelspec": {
   "display_name": "Python 3",
   "language": "python",
   "name": "python3"
  },
  "language_info": {
   "codemirror_mode": {
    "name": "ipython",
    "version": 3
   },
   "file_extension": ".py",
   "mimetype": "text/x-python",
   "name": "python",
   "nbconvert_exporter": "python",
   "pygments_lexer": "ipython3",
   "version": "3.7.12"
  },
  "papermill": {
   "default_parameters": {},
   "duration": 83.865021,
   "end_time": "2022-01-13T05:14:32.594926",
   "environment_variables": {},
   "exception": null,
   "input_path": "__notebook__.ipynb",
   "output_path": "__notebook__.ipynb",
   "parameters": {},
   "start_time": "2022-01-13T05:13:08.729905",
   "version": "2.3.3"
  }
 },
 "nbformat": 4,
 "nbformat_minor": 5
}
