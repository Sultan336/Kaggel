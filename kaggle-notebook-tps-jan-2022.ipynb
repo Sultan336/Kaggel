{
 "cells": [
  {
   "cell_type": "code",
   "execution_count": 1,
   "id": "e52bd1e0",
   "metadata": {
    "_cell_guid": "b1076dfc-b9ad-4769-8c92-a6c4dae69d19",
    "_uuid": "8f2839f25d086af736a60e9eeb907d3b93b6e0e5",
    "execution": {
     "iopub.execute_input": "2022-01-03T10:11:21.002719Z",
     "iopub.status.busy": "2022-01-03T10:11:21.000766Z",
     "iopub.status.idle": "2022-01-03T10:11:23.320727Z",
     "shell.execute_reply": "2022-01-03T10:11:23.321529Z",
     "shell.execute_reply.started": "2022-01-03T08:35:04.130635Z"
    },
    "papermill": {
     "duration": 2.344305,
     "end_time": "2022-01-03T10:11:23.321970",
     "exception": false,
     "start_time": "2022-01-03T10:11:20.977665",
     "status": "completed"
    },
    "tags": []
   },
   "outputs": [
    {
     "data": {
      "text/html": [
       "        <script type=\"text/javascript\">\n",
       "        window.PlotlyConfig = {MathJaxConfig: 'local'};\n",
       "        if (window.MathJax) {MathJax.Hub.Config({SVG: {font: \"STIX-Web\"}});}\n",
       "        if (typeof require !== 'undefined') {\n",
       "        require.undef(\"plotly\");\n",
       "        requirejs.config({\n",
       "            paths: {\n",
       "                'plotly': ['https://cdn.plot.ly/plotly-2.6.3.min']\n",
       "            }\n",
       "        });\n",
       "        require(['plotly'], function(Plotly) {\n",
       "            window._Plotly = Plotly;\n",
       "        });\n",
       "        }\n",
       "        </script>\n",
       "        "
      ]
     },
     "metadata": {},
     "output_type": "display_data"
    }
   ],
   "source": [
    "# Libraries for working with data\n",
    "import numpy as np \n",
    "import pandas as pd\n",
    "\n",
    "# libraries for visualizing data\n",
    "import plotly as py\n",
    "import plotly.graph_objs as go\n",
    "import plotly.express as px\n",
    "from plotly.offline import init_notebook_mode\n",
    "init_notebook_mode(connected = True)\n",
    "import seaborn as sns\n",
    "import matplotlib.pyplot as plt\n",
    "%matplotlib inline\n",
    "\n",
    "\n",
    "#########################################################\n",
    "import warnings\n",
    "warnings.filterwarnings(\"ignore\")\n",
    "\n",
    "pd.set_option('display.max_columns', None)"
   ]
  },
  {
   "cell_type": "code",
   "execution_count": 2,
   "id": "09a9ac03",
   "metadata": {
    "execution": {
     "iopub.execute_input": "2022-01-03T10:11:23.363309Z",
     "iopub.status.busy": "2022-01-03T10:11:23.361191Z",
     "iopub.status.idle": "2022-01-03T10:11:23.453626Z",
     "shell.execute_reply": "2022-01-03T10:11:23.452055Z",
     "shell.execute_reply.started": "2022-01-03T08:35:09.550713Z"
    },
    "papermill": {
     "duration": 0.111802,
     "end_time": "2022-01-03T10:11:23.453822",
     "exception": false,
     "start_time": "2022-01-03T10:11:23.342020",
     "status": "completed"
    },
    "tags": []
   },
   "outputs": [],
   "source": [
    "#Loading dataset\n",
    "train = pd.read_csv('../input/tabular-playground-series-jan-2022/train.csv')\n",
    "test = pd.read_csv('../input/tabular-playground-series-jan-2022/test.csv')\n",
    "submission = pd.read_csv('../input/tabular-playground-series-jan-2022/sample_submission.csv')"
   ]
  },
  {
   "cell_type": "code",
   "execution_count": 3,
   "id": "44a40f6c",
   "metadata": {
    "execution": {
     "iopub.execute_input": "2022-01-03T10:11:23.492259Z",
     "iopub.status.busy": "2022-01-03T10:11:23.491495Z",
     "iopub.status.idle": "2022-01-03T10:11:23.530650Z",
     "shell.execute_reply": "2022-01-03T10:11:23.529934Z",
     "shell.execute_reply.started": "2022-01-03T08:03:26.833936Z"
    },
    "papermill": {
     "duration": 0.059796,
     "end_time": "2022-01-03T10:11:23.530810",
     "exception": false,
     "start_time": "2022-01-03T10:11:23.471014",
     "status": "completed"
    },
    "tags": []
   },
   "outputs": [
    {
     "name": "stdout",
     "output_type": "stream",
     "text": [
      "<class 'pandas.core.frame.DataFrame'>\n",
      "RangeIndex: 26298 entries, 0 to 26297\n",
      "Data columns (total 6 columns):\n",
      " #   Column    Non-Null Count  Dtype \n",
      "---  ------    --------------  ----- \n",
      " 0   row_id    26298 non-null  int64 \n",
      " 1   date      26298 non-null  object\n",
      " 2   country   26298 non-null  object\n",
      " 3   store     26298 non-null  object\n",
      " 4   product   26298 non-null  object\n",
      " 5   num_sold  26298 non-null  int64 \n",
      "dtypes: int64(2), object(4)\n",
      "memory usage: 1.2+ MB\n"
     ]
    }
   ],
   "source": [
    "train.info()"
   ]
  },
  {
   "cell_type": "code",
   "execution_count": 4,
   "id": "05ec1c74",
   "metadata": {
    "execution": {
     "iopub.execute_input": "2022-01-03T10:11:23.571752Z",
     "iopub.status.busy": "2022-01-03T10:11:23.571113Z",
     "iopub.status.idle": "2022-01-03T10:11:23.586356Z",
     "shell.execute_reply": "2022-01-03T10:11:23.585714Z",
     "shell.execute_reply.started": "2022-01-03T08:35:13.516855Z"
    },
    "papermill": {
     "duration": 0.03931,
     "end_time": "2022-01-03T10:11:23.586507",
     "exception": false,
     "start_time": "2022-01-03T10:11:23.547197",
     "status": "completed"
    },
    "tags": []
   },
   "outputs": [],
   "source": [
    "# converting date into time series data\n",
    "train['date'] = pd.to_datetime(train.date)\n",
    "test['date'] = pd.to_datetime(test.date)"
   ]
  },
  {
   "cell_type": "code",
   "execution_count": 5,
   "id": "78690b11",
   "metadata": {
    "execution": {
     "iopub.execute_input": "2022-01-03T10:11:23.635206Z",
     "iopub.status.busy": "2022-01-03T10:11:23.634464Z",
     "iopub.status.idle": "2022-01-03T10:11:23.646854Z",
     "shell.execute_reply": "2022-01-03T10:11:23.647433Z",
     "shell.execute_reply.started": "2022-01-03T08:03:37.068654Z"
    },
    "papermill": {
     "duration": 0.044984,
     "end_time": "2022-01-03T10:11:23.647645",
     "exception": false,
     "start_time": "2022-01-03T10:11:23.602661",
     "status": "completed"
    },
    "tags": []
   },
   "outputs": [
    {
     "name": "stdout",
     "output_type": "stream",
     "text": [
      "<class 'pandas.core.frame.DataFrame'>\n",
      "RangeIndex: 26298 entries, 0 to 26297\n",
      "Data columns (total 6 columns):\n",
      " #   Column    Non-Null Count  Dtype         \n",
      "---  ------    --------------  -----         \n",
      " 0   row_id    26298 non-null  int64         \n",
      " 1   date      26298 non-null  datetime64[ns]\n",
      " 2   country   26298 non-null  object        \n",
      " 3   store     26298 non-null  object        \n",
      " 4   product   26298 non-null  object        \n",
      " 5   num_sold  26298 non-null  int64         \n",
      "dtypes: datetime64[ns](1), int64(2), object(3)\n",
      "memory usage: 1.2+ MB\n"
     ]
    }
   ],
   "source": [
    "train.info()"
   ]
  },
  {
   "cell_type": "code",
   "execution_count": 6,
   "id": "b5d26a93",
   "metadata": {
    "execution": {
     "iopub.execute_input": "2022-01-03T10:11:23.690345Z",
     "iopub.status.busy": "2022-01-03T10:11:23.689227Z",
     "iopub.status.idle": "2022-01-03T10:11:23.696633Z",
     "shell.execute_reply": "2022-01-03T10:11:23.697572Z",
     "shell.execute_reply.started": "2022-01-03T08:07:24.378804Z"
    },
    "papermill": {
     "duration": 0.032227,
     "end_time": "2022-01-03T10:11:23.697804",
     "exception": false,
     "start_time": "2022-01-03T10:11:23.665577",
     "status": "completed"
    },
    "tags": []
   },
   "outputs": [
    {
     "name": "stdout",
     "output_type": "stream",
     "text": [
      "Training data is from 2015-01-01 00:00:00 to 2018-12-31 00:00:00 duration 1460 days 00:00:00 \n",
      "Testing  data is from 2019-01-01 00:00:00 to 2019-12-31 00:00:00 duration  364 days 00:00:00 \n"
     ]
    }
   ],
   "source": [
    "# duration \n",
    "print(f'Training data is from {train.date.min()} to {train.date.max()} duration {(train.date.max()-train.date.min())} ')\n",
    "print(f'Testing  data is from {test.date.min()} to {test.date.max()} duration  {test.date.max()-test.date.min()} ')"
   ]
  },
  {
   "cell_type": "code",
   "execution_count": 7,
   "id": "78a0777b",
   "metadata": {
    "execution": {
     "iopub.execute_input": "2022-01-03T10:11:23.735152Z",
     "iopub.status.busy": "2022-01-03T10:11:23.734453Z",
     "iopub.status.idle": "2022-01-03T10:11:23.749878Z",
     "shell.execute_reply": "2022-01-03T10:11:23.749168Z",
     "shell.execute_reply.started": "2022-01-03T08:07:35.442778Z"
    },
    "papermill": {
     "duration": 0.035198,
     "end_time": "2022-01-03T10:11:23.750178",
     "exception": false,
     "start_time": "2022-01-03T10:11:23.714980",
     "status": "completed"
    },
    "tags": []
   },
   "outputs": [
    {
     "name": "stdout",
     "output_type": "stream",
     "text": [
      "country: ['Finland' 'Norway' 'Sweden']\n",
      "store: ['KaggleMart' 'KaggleRama']\n",
      "product: ['Kaggle Mug' 'Kaggle Hat' 'Kaggle Sticker']\n"
     ]
    }
   ],
   "source": [
    "for col in ['country', 'store','product']:\n",
    "    print(f'{col}: {train[col].unique()}')\n"
   ]
  },
  {
   "cell_type": "code",
   "execution_count": 8,
   "id": "ae631633",
   "metadata": {
    "execution": {
     "iopub.execute_input": "2022-01-03T10:11:23.793384Z",
     "iopub.status.busy": "2022-01-03T10:11:23.789018Z",
     "iopub.status.idle": "2022-01-03T10:11:23.821633Z",
     "shell.execute_reply": "2022-01-03T10:11:23.822251Z",
     "shell.execute_reply.started": "2022-01-03T08:07:40.398774Z"
    },
    "papermill": {
     "duration": 0.054785,
     "end_time": "2022-01-03T10:11:23.822463",
     "exception": false,
     "start_time": "2022-01-03T10:11:23.767678",
     "status": "completed"
    },
    "tags": []
   },
   "outputs": [
    {
     "data": {
      "text/html": [
       "<div>\n",
       "<style scoped>\n",
       "    .dataframe tbody tr th:only-of-type {\n",
       "        vertical-align: middle;\n",
       "    }\n",
       "\n",
       "    .dataframe tbody tr th {\n",
       "        vertical-align: top;\n",
       "    }\n",
       "\n",
       "    .dataframe thead th {\n",
       "        text-align: right;\n",
       "    }\n",
       "</style>\n",
       "<table border=\"1\" class=\"dataframe\">\n",
       "  <thead>\n",
       "    <tr style=\"text-align: right;\">\n",
       "      <th></th>\n",
       "      <th></th>\n",
       "      <th></th>\n",
       "      <th>product</th>\n",
       "    </tr>\n",
       "    <tr>\n",
       "      <th>country</th>\n",
       "      <th>store</th>\n",
       "      <th>product</th>\n",
       "      <th></th>\n",
       "    </tr>\n",
       "  </thead>\n",
       "  <tbody>\n",
       "    <tr>\n",
       "      <th rowspan=\"6\" valign=\"top\">Finland</th>\n",
       "      <th rowspan=\"3\" valign=\"top\">KaggleMart</th>\n",
       "      <th>Kaggle Hat</th>\n",
       "      <td>1461</td>\n",
       "    </tr>\n",
       "    <tr>\n",
       "      <th>Kaggle Mug</th>\n",
       "      <td>1461</td>\n",
       "    </tr>\n",
       "    <tr>\n",
       "      <th>Kaggle Sticker</th>\n",
       "      <td>1461</td>\n",
       "    </tr>\n",
       "    <tr>\n",
       "      <th rowspan=\"3\" valign=\"top\">KaggleRama</th>\n",
       "      <th>Kaggle Hat</th>\n",
       "      <td>1461</td>\n",
       "    </tr>\n",
       "    <tr>\n",
       "      <th>Kaggle Mug</th>\n",
       "      <td>1461</td>\n",
       "    </tr>\n",
       "    <tr>\n",
       "      <th>Kaggle Sticker</th>\n",
       "      <td>1461</td>\n",
       "    </tr>\n",
       "    <tr>\n",
       "      <th rowspan=\"6\" valign=\"top\">Norway</th>\n",
       "      <th rowspan=\"3\" valign=\"top\">KaggleMart</th>\n",
       "      <th>Kaggle Hat</th>\n",
       "      <td>1461</td>\n",
       "    </tr>\n",
       "    <tr>\n",
       "      <th>Kaggle Mug</th>\n",
       "      <td>1461</td>\n",
       "    </tr>\n",
       "    <tr>\n",
       "      <th>Kaggle Sticker</th>\n",
       "      <td>1461</td>\n",
       "    </tr>\n",
       "    <tr>\n",
       "      <th rowspan=\"3\" valign=\"top\">KaggleRama</th>\n",
       "      <th>Kaggle Hat</th>\n",
       "      <td>1461</td>\n",
       "    </tr>\n",
       "    <tr>\n",
       "      <th>Kaggle Mug</th>\n",
       "      <td>1461</td>\n",
       "    </tr>\n",
       "    <tr>\n",
       "      <th>Kaggle Sticker</th>\n",
       "      <td>1461</td>\n",
       "    </tr>\n",
       "    <tr>\n",
       "      <th rowspan=\"6\" valign=\"top\">Sweden</th>\n",
       "      <th rowspan=\"3\" valign=\"top\">KaggleMart</th>\n",
       "      <th>Kaggle Hat</th>\n",
       "      <td>1461</td>\n",
       "    </tr>\n",
       "    <tr>\n",
       "      <th>Kaggle Mug</th>\n",
       "      <td>1461</td>\n",
       "    </tr>\n",
       "    <tr>\n",
       "      <th>Kaggle Sticker</th>\n",
       "      <td>1461</td>\n",
       "    </tr>\n",
       "    <tr>\n",
       "      <th rowspan=\"3\" valign=\"top\">KaggleRama</th>\n",
       "      <th>Kaggle Hat</th>\n",
       "      <td>1461</td>\n",
       "    </tr>\n",
       "    <tr>\n",
       "      <th>Kaggle Mug</th>\n",
       "      <td>1461</td>\n",
       "    </tr>\n",
       "    <tr>\n",
       "      <th>Kaggle Sticker</th>\n",
       "      <td>1461</td>\n",
       "    </tr>\n",
       "  </tbody>\n",
       "</table>\n",
       "</div>"
      ],
      "text/plain": [
       "                                   product\n",
       "country store      product                \n",
       "Finland KaggleMart Kaggle Hat         1461\n",
       "                   Kaggle Mug         1461\n",
       "                   Kaggle Sticker     1461\n",
       "        KaggleRama Kaggle Hat         1461\n",
       "                   Kaggle Mug         1461\n",
       "                   Kaggle Sticker     1461\n",
       "Norway  KaggleMart Kaggle Hat         1461\n",
       "                   Kaggle Mug         1461\n",
       "                   Kaggle Sticker     1461\n",
       "        KaggleRama Kaggle Hat         1461\n",
       "                   Kaggle Mug         1461\n",
       "                   Kaggle Sticker     1461\n",
       "Sweden  KaggleMart Kaggle Hat         1461\n",
       "                   Kaggle Mug         1461\n",
       "                   Kaggle Sticker     1461\n",
       "        KaggleRama Kaggle Hat         1461\n",
       "                   Kaggle Mug         1461\n",
       "                   Kaggle Sticker     1461"
      ]
     },
     "execution_count": 8,
     "metadata": {},
     "output_type": "execute_result"
    }
   ],
   "source": [
    "train_categories = train.groupby(['country','store','product']).agg({'product': 'count'})\n",
    "train_categories"
   ]
  },
  {
   "cell_type": "code",
   "execution_count": 9,
   "id": "bf6e9cf6",
   "metadata": {
    "execution": {
     "iopub.execute_input": "2022-01-03T10:11:23.864666Z",
     "iopub.status.busy": "2022-01-03T10:11:23.863641Z",
     "iopub.status.idle": "2022-01-03T10:11:23.882321Z",
     "shell.execute_reply": "2022-01-03T10:11:23.882947Z",
     "shell.execute_reply.started": "2022-01-03T08:40:37.253949Z"
    },
    "papermill": {
     "duration": 0.041712,
     "end_time": "2022-01-03T10:11:23.883155",
     "exception": false,
     "start_time": "2022-01-03T10:11:23.841443",
     "status": "completed"
    },
    "tags": []
   },
   "outputs": [
    {
     "data": {
      "text/html": [
       "<div>\n",
       "<style scoped>\n",
       "    .dataframe tbody tr th:only-of-type {\n",
       "        vertical-align: middle;\n",
       "    }\n",
       "\n",
       "    .dataframe tbody tr th {\n",
       "        vertical-align: top;\n",
       "    }\n",
       "\n",
       "    .dataframe thead th {\n",
       "        text-align: right;\n",
       "    }\n",
       "</style>\n",
       "<table border=\"1\" class=\"dataframe\">\n",
       "  <thead>\n",
       "    <tr style=\"text-align: right;\">\n",
       "      <th></th>\n",
       "      <th></th>\n",
       "      <th></th>\n",
       "      <th>product</th>\n",
       "    </tr>\n",
       "    <tr>\n",
       "      <th>country</th>\n",
       "      <th>store</th>\n",
       "      <th>product</th>\n",
       "      <th></th>\n",
       "    </tr>\n",
       "  </thead>\n",
       "  <tbody>\n",
       "    <tr>\n",
       "      <th rowspan=\"6\" valign=\"top\">Finland</th>\n",
       "      <th rowspan=\"3\" valign=\"top\">KaggleMart</th>\n",
       "      <th>Kaggle Hat</th>\n",
       "      <td>365</td>\n",
       "    </tr>\n",
       "    <tr>\n",
       "      <th>Kaggle Mug</th>\n",
       "      <td>365</td>\n",
       "    </tr>\n",
       "    <tr>\n",
       "      <th>Kaggle Sticker</th>\n",
       "      <td>365</td>\n",
       "    </tr>\n",
       "    <tr>\n",
       "      <th rowspan=\"3\" valign=\"top\">KaggleRama</th>\n",
       "      <th>Kaggle Hat</th>\n",
       "      <td>365</td>\n",
       "    </tr>\n",
       "    <tr>\n",
       "      <th>Kaggle Mug</th>\n",
       "      <td>365</td>\n",
       "    </tr>\n",
       "    <tr>\n",
       "      <th>Kaggle Sticker</th>\n",
       "      <td>365</td>\n",
       "    </tr>\n",
       "    <tr>\n",
       "      <th rowspan=\"6\" valign=\"top\">Norway</th>\n",
       "      <th rowspan=\"3\" valign=\"top\">KaggleMart</th>\n",
       "      <th>Kaggle Hat</th>\n",
       "      <td>365</td>\n",
       "    </tr>\n",
       "    <tr>\n",
       "      <th>Kaggle Mug</th>\n",
       "      <td>365</td>\n",
       "    </tr>\n",
       "    <tr>\n",
       "      <th>Kaggle Sticker</th>\n",
       "      <td>365</td>\n",
       "    </tr>\n",
       "    <tr>\n",
       "      <th rowspan=\"3\" valign=\"top\">KaggleRama</th>\n",
       "      <th>Kaggle Hat</th>\n",
       "      <td>365</td>\n",
       "    </tr>\n",
       "    <tr>\n",
       "      <th>Kaggle Mug</th>\n",
       "      <td>365</td>\n",
       "    </tr>\n",
       "    <tr>\n",
       "      <th>Kaggle Sticker</th>\n",
       "      <td>365</td>\n",
       "    </tr>\n",
       "    <tr>\n",
       "      <th rowspan=\"6\" valign=\"top\">Sweden</th>\n",
       "      <th rowspan=\"3\" valign=\"top\">KaggleMart</th>\n",
       "      <th>Kaggle Hat</th>\n",
       "      <td>365</td>\n",
       "    </tr>\n",
       "    <tr>\n",
       "      <th>Kaggle Mug</th>\n",
       "      <td>365</td>\n",
       "    </tr>\n",
       "    <tr>\n",
       "      <th>Kaggle Sticker</th>\n",
       "      <td>365</td>\n",
       "    </tr>\n",
       "    <tr>\n",
       "      <th rowspan=\"3\" valign=\"top\">KaggleRama</th>\n",
       "      <th>Kaggle Hat</th>\n",
       "      <td>365</td>\n",
       "    </tr>\n",
       "    <tr>\n",
       "      <th>Kaggle Mug</th>\n",
       "      <td>365</td>\n",
       "    </tr>\n",
       "    <tr>\n",
       "      <th>Kaggle Sticker</th>\n",
       "      <td>365</td>\n",
       "    </tr>\n",
       "  </tbody>\n",
       "</table>\n",
       "</div>"
      ],
      "text/plain": [
       "                                   product\n",
       "country store      product                \n",
       "Finland KaggleMart Kaggle Hat          365\n",
       "                   Kaggle Mug          365\n",
       "                   Kaggle Sticker      365\n",
       "        KaggleRama Kaggle Hat          365\n",
       "                   Kaggle Mug          365\n",
       "                   Kaggle Sticker      365\n",
       "Norway  KaggleMart Kaggle Hat          365\n",
       "                   Kaggle Mug          365\n",
       "                   Kaggle Sticker      365\n",
       "        KaggleRama Kaggle Hat          365\n",
       "                   Kaggle Mug          365\n",
       "                   Kaggle Sticker      365\n",
       "Sweden  KaggleMart Kaggle Hat          365\n",
       "                   Kaggle Mug          365\n",
       "                   Kaggle Sticker      365\n",
       "        KaggleRama Kaggle Hat          365\n",
       "                   Kaggle Mug          365\n",
       "                   Kaggle Sticker      365"
      ]
     },
     "execution_count": 9,
     "metadata": {},
     "output_type": "execute_result"
    }
   ],
   "source": [
    "test_categories = test.groupby(['country','store','product']).agg({'product': 'count'})\n",
    "test_categories"
   ]
  },
  {
   "cell_type": "code",
   "execution_count": 10,
   "id": "34b12575",
   "metadata": {
    "execution": {
     "iopub.execute_input": "2022-01-03T10:11:23.927155Z",
     "iopub.status.busy": "2022-01-03T10:11:23.926486Z",
     "iopub.status.idle": "2022-01-03T10:11:23.991763Z",
     "shell.execute_reply": "2022-01-03T10:11:23.991250Z",
     "shell.execute_reply.started": "2022-01-03T09:21:59.936683Z"
    },
    "papermill": {
     "duration": 0.090719,
     "end_time": "2022-01-03T10:11:23.991904",
     "exception": false,
     "start_time": "2022-01-03T10:11:23.901185",
     "status": "completed"
    },
    "tags": []
   },
   "outputs": [
    {
     "data": {
      "text/html": [
       "<div>\n",
       "<style scoped>\n",
       "    .dataframe tbody tr th:only-of-type {\n",
       "        vertical-align: middle;\n",
       "    }\n",
       "\n",
       "    .dataframe tbody tr th {\n",
       "        vertical-align: top;\n",
       "    }\n",
       "\n",
       "    .dataframe thead th {\n",
       "        text-align: right;\n",
       "    }\n",
       "</style>\n",
       "<table border=\"1\" class=\"dataframe\">\n",
       "  <thead>\n",
       "    <tr style=\"text-align: right;\">\n",
       "      <th>country</th>\n",
       "      <th>date</th>\n",
       "      <th>Finland</th>\n",
       "      <th>Norway</th>\n",
       "      <th>Sweden</th>\n",
       "    </tr>\n",
       "  </thead>\n",
       "  <tbody>\n",
       "    <tr>\n",
       "      <th>0</th>\n",
       "      <td>2015-01-31</td>\n",
       "      <td>311.817204</td>\n",
       "      <td>529.779570</td>\n",
       "      <td>378.064516</td>\n",
       "    </tr>\n",
       "    <tr>\n",
       "      <th>1</th>\n",
       "      <td>2015-02-28</td>\n",
       "      <td>295.702381</td>\n",
       "      <td>511.892857</td>\n",
       "      <td>356.505952</td>\n",
       "    </tr>\n",
       "    <tr>\n",
       "      <th>2</th>\n",
       "      <td>2015-03-31</td>\n",
       "      <td>300.725806</td>\n",
       "      <td>521.440860</td>\n",
       "      <td>362.327957</td>\n",
       "    </tr>\n",
       "    <tr>\n",
       "      <th>3</th>\n",
       "      <td>2015-04-30</td>\n",
       "      <td>313.016667</td>\n",
       "      <td>558.916667</td>\n",
       "      <td>375.722222</td>\n",
       "    </tr>\n",
       "    <tr>\n",
       "      <th>4</th>\n",
       "      <td>2015-05-31</td>\n",
       "      <td>303.483871</td>\n",
       "      <td>551.612903</td>\n",
       "      <td>365.096774</td>\n",
       "    </tr>\n",
       "  </tbody>\n",
       "</table>\n",
       "</div>"
      ],
      "text/plain": [
       "country       date     Finland      Norway      Sweden\n",
       "0       2015-01-31  311.817204  529.779570  378.064516\n",
       "1       2015-02-28  295.702381  511.892857  356.505952\n",
       "2       2015-03-31  300.725806  521.440860  362.327957\n",
       "3       2015-04-30  313.016667  558.916667  375.722222\n",
       "4       2015-05-31  303.483871  551.612903  365.096774"
      ]
     },
     "execution_count": 10,
     "metadata": {},
     "output_type": "execute_result"
    }
   ],
   "source": [
    "train_month = train.set_index('date').groupby([pd.Grouper(freq='M'), 'country', 'store', 'product'])['num_sold'].mean().unstack([1, 2, 3]).reset_index()\n",
    "train_month_country = train.set_index('date').groupby([pd.Grouper(freq='M'), 'country'])['num_sold'].mean().unstack([1]).reset_index()\n",
    "train_month_country.head()\n"
   ]
  },
  {
   "cell_type": "code",
   "execution_count": 11,
   "id": "6fd2ac9b",
   "metadata": {
    "execution": {
     "iopub.execute_input": "2022-01-03T10:11:24.034290Z",
     "iopub.status.busy": "2022-01-03T10:11:24.033594Z",
     "iopub.status.idle": "2022-01-03T10:11:24.077448Z",
     "shell.execute_reply": "2022-01-03T10:11:24.076833Z",
     "shell.execute_reply.started": "2022-01-03T09:17:54.744834Z"
    },
    "papermill": {
     "duration": 0.067451,
     "end_time": "2022-01-03T10:11:24.077593",
     "exception": false,
     "start_time": "2022-01-03T10:11:24.010142",
     "status": "completed"
    },
    "tags": []
   },
   "outputs": [
    {
     "data": {
      "text/html": [
       "<div>\n",
       "<style scoped>\n",
       "    .dataframe tbody tr th:only-of-type {\n",
       "        vertical-align: middle;\n",
       "    }\n",
       "\n",
       "    .dataframe tbody tr th {\n",
       "        vertical-align: top;\n",
       "    }\n",
       "\n",
       "    .dataframe thead tr th {\n",
       "        text-align: left;\n",
       "    }\n",
       "</style>\n",
       "<table border=\"1\" class=\"dataframe\">\n",
       "  <thead>\n",
       "    <tr>\n",
       "      <th>country</th>\n",
       "      <th>date</th>\n",
       "      <th colspan=\"6\" halign=\"left\">Finland</th>\n",
       "      <th colspan=\"6\" halign=\"left\">Norway</th>\n",
       "      <th colspan=\"6\" halign=\"left\">Sweden</th>\n",
       "    </tr>\n",
       "    <tr>\n",
       "      <th>store</th>\n",
       "      <th></th>\n",
       "      <th colspan=\"3\" halign=\"left\">KaggleMart</th>\n",
       "      <th colspan=\"3\" halign=\"left\">KaggleRama</th>\n",
       "      <th colspan=\"3\" halign=\"left\">KaggleMart</th>\n",
       "      <th colspan=\"3\" halign=\"left\">KaggleRama</th>\n",
       "      <th colspan=\"3\" halign=\"left\">KaggleMart</th>\n",
       "      <th colspan=\"3\" halign=\"left\">KaggleRama</th>\n",
       "    </tr>\n",
       "    <tr>\n",
       "      <th>product</th>\n",
       "      <th></th>\n",
       "      <th>Kaggle Mug</th>\n",
       "      <th>Kaggle Hat</th>\n",
       "      <th>Kaggle Sticker</th>\n",
       "      <th>Kaggle Mug</th>\n",
       "      <th>Kaggle Hat</th>\n",
       "      <th>Kaggle Sticker</th>\n",
       "      <th>Kaggle Mug</th>\n",
       "      <th>Kaggle Hat</th>\n",
       "      <th>Kaggle Sticker</th>\n",
       "      <th>Kaggle Mug</th>\n",
       "      <th>Kaggle Hat</th>\n",
       "      <th>Kaggle Sticker</th>\n",
       "      <th>Kaggle Mug</th>\n",
       "      <th>Kaggle Hat</th>\n",
       "      <th>Kaggle Sticker</th>\n",
       "      <th>Kaggle Mug</th>\n",
       "      <th>Kaggle Hat</th>\n",
       "      <th>Kaggle Sticker</th>\n",
       "    </tr>\n",
       "  </thead>\n",
       "  <tbody>\n",
       "    <tr>\n",
       "      <th>0</th>\n",
       "      <td>2015-01-01</td>\n",
       "      <td>329</td>\n",
       "      <td>520</td>\n",
       "      <td>146</td>\n",
       "      <td>572</td>\n",
       "      <td>911</td>\n",
       "      <td>283</td>\n",
       "      <td>526</td>\n",
       "      <td>906</td>\n",
       "      <td>250</td>\n",
       "      <td>1005</td>\n",
       "      <td>1461</td>\n",
       "      <td>395</td>\n",
       "      <td>440</td>\n",
       "      <td>624</td>\n",
       "      <td>175</td>\n",
       "      <td>706</td>\n",
       "      <td>1195</td>\n",
       "      <td>324</td>\n",
       "    </tr>\n",
       "    <tr>\n",
       "      <th>1</th>\n",
       "      <td>2015-01-02</td>\n",
       "      <td>318</td>\n",
       "      <td>493</td>\n",
       "      <td>127</td>\n",
       "      <td>544</td>\n",
       "      <td>794</td>\n",
       "      <td>249</td>\n",
       "      <td>538</td>\n",
       "      <td>845</td>\n",
       "      <td>237</td>\n",
       "      <td>949</td>\n",
       "      <td>1446</td>\n",
       "      <td>415</td>\n",
       "      <td>384</td>\n",
       "      <td>572</td>\n",
       "      <td>155</td>\n",
       "      <td>653</td>\n",
       "      <td>986</td>\n",
       "      <td>293</td>\n",
       "    </tr>\n",
       "    <tr>\n",
       "      <th>2</th>\n",
       "      <td>2015-01-03</td>\n",
       "      <td>360</td>\n",
       "      <td>535</td>\n",
       "      <td>141</td>\n",
       "      <td>579</td>\n",
       "      <td>843</td>\n",
       "      <td>265</td>\n",
       "      <td>614</td>\n",
       "      <td>930</td>\n",
       "      <td>254</td>\n",
       "      <td>1029</td>\n",
       "      <td>1631</td>\n",
       "      <td>451</td>\n",
       "      <td>420</td>\n",
       "      <td>630</td>\n",
       "      <td>173</td>\n",
       "      <td>734</td>\n",
       "      <td>1167</td>\n",
       "      <td>319</td>\n",
       "    </tr>\n",
       "    <tr>\n",
       "      <th>3</th>\n",
       "      <td>2015-01-04</td>\n",
       "      <td>332</td>\n",
       "      <td>544</td>\n",
       "      <td>125</td>\n",
       "      <td>582</td>\n",
       "      <td>873</td>\n",
       "      <td>245</td>\n",
       "      <td>589</td>\n",
       "      <td>889</td>\n",
       "      <td>255</td>\n",
       "      <td>957</td>\n",
       "      <td>1540</td>\n",
       "      <td>455</td>\n",
       "      <td>406</td>\n",
       "      <td>697</td>\n",
       "      <td>169</td>\n",
       "      <td>657</td>\n",
       "      <td>1112</td>\n",
       "      <td>300</td>\n",
       "    </tr>\n",
       "    <tr>\n",
       "      <th>4</th>\n",
       "      <td>2015-01-05</td>\n",
       "      <td>243</td>\n",
       "      <td>378</td>\n",
       "      <td>102</td>\n",
       "      <td>423</td>\n",
       "      <td>668</td>\n",
       "      <td>187</td>\n",
       "      <td>435</td>\n",
       "      <td>671</td>\n",
       "      <td>184</td>\n",
       "      <td>739</td>\n",
       "      <td>1126</td>\n",
       "      <td>310</td>\n",
       "      <td>298</td>\n",
       "      <td>442</td>\n",
       "      <td>127</td>\n",
       "      <td>512</td>\n",
       "      <td>796</td>\n",
       "      <td>227</td>\n",
       "    </tr>\n",
       "  </tbody>\n",
       "</table>\n",
       "</div>"
      ],
      "text/plain": [
       "country       date    Finland                                                  \\\n",
       "store              KaggleMart                           KaggleRama              \n",
       "product            Kaggle Mug Kaggle Hat Kaggle Sticker Kaggle Mug Kaggle Hat   \n",
       "0       2015-01-01        329        520            146        572        911   \n",
       "1       2015-01-02        318        493            127        544        794   \n",
       "2       2015-01-03        360        535            141        579        843   \n",
       "3       2015-01-04        332        544            125        582        873   \n",
       "4       2015-01-05        243        378            102        423        668   \n",
       "\n",
       "country                    Norway                                       \\\n",
       "store                  KaggleMart                           KaggleRama   \n",
       "product Kaggle Sticker Kaggle Mug Kaggle Hat Kaggle Sticker Kaggle Mug   \n",
       "0                  283        526        906            250       1005   \n",
       "1                  249        538        845            237        949   \n",
       "2                  265        614        930            254       1029   \n",
       "3                  245        589        889            255        957   \n",
       "4                  187        435        671            184        739   \n",
       "\n",
       "country                               Sweden                            \\\n",
       "store                             KaggleMart                             \n",
       "product Kaggle Hat Kaggle Sticker Kaggle Mug Kaggle Hat Kaggle Sticker   \n",
       "0             1461            395        440        624            175   \n",
       "1             1446            415        384        572            155   \n",
       "2             1631            451        420        630            173   \n",
       "3             1540            455        406        697            169   \n",
       "4             1126            310        298        442            127   \n",
       "\n",
       "country                                       \n",
       "store   KaggleRama                            \n",
       "product Kaggle Mug Kaggle Hat Kaggle Sticker  \n",
       "0              706       1195            324  \n",
       "1              653        986            293  \n",
       "2              734       1167            319  \n",
       "3              657       1112            300  \n",
       "4              512        796            227  "
      ]
     },
     "execution_count": 11,
     "metadata": {},
     "output_type": "execute_result"
    }
   ],
   "source": [
    "train_date = train.set_index('date').pivot(columns=['country','store','product'], values='num_sold').reset_index()\n",
    "train_date.head()"
   ]
  },
  {
   "cell_type": "code",
   "execution_count": 12,
   "id": "b6560b60",
   "metadata": {
    "execution": {
     "iopub.execute_input": "2022-01-03T10:11:24.124725Z",
     "iopub.status.busy": "2022-01-03T10:11:24.124081Z",
     "iopub.status.idle": "2022-01-03T10:11:24.132813Z",
     "shell.execute_reply": "2022-01-03T10:11:24.132317Z",
     "shell.execute_reply.started": "2022-01-03T09:50:09.765570Z"
    },
    "papermill": {
     "duration": 0.036037,
     "end_time": "2022-01-03T10:11:24.132968",
     "exception": false,
     "start_time": "2022-01-03T10:11:24.096931",
     "status": "completed"
    },
    "tags": []
   },
   "outputs": [
    {
     "data": {
      "text/html": [
       "<div>\n",
       "<style scoped>\n",
       "    .dataframe tbody tr th:only-of-type {\n",
       "        vertical-align: middle;\n",
       "    }\n",
       "\n",
       "    .dataframe tbody tr th {\n",
       "        vertical-align: top;\n",
       "    }\n",
       "\n",
       "    .dataframe thead th {\n",
       "        text-align: right;\n",
       "    }\n",
       "</style>\n",
       "<table border=\"1\" class=\"dataframe\">\n",
       "  <thead>\n",
       "    <tr style=\"text-align: right;\">\n",
       "      <th></th>\n",
       "      <th>row_id</th>\n",
       "      <th>date</th>\n",
       "      <th>country</th>\n",
       "      <th>store</th>\n",
       "      <th>product</th>\n",
       "    </tr>\n",
       "  </thead>\n",
       "  <tbody>\n",
       "    <tr>\n",
       "      <th>0</th>\n",
       "      <td>26298</td>\n",
       "      <td>2019-01-01</td>\n",
       "      <td>Finland</td>\n",
       "      <td>KaggleMart</td>\n",
       "      <td>Kaggle Mug</td>\n",
       "    </tr>\n",
       "    <tr>\n",
       "      <th>1</th>\n",
       "      <td>26299</td>\n",
       "      <td>2019-01-01</td>\n",
       "      <td>Finland</td>\n",
       "      <td>KaggleMart</td>\n",
       "      <td>Kaggle Hat</td>\n",
       "    </tr>\n",
       "    <tr>\n",
       "      <th>2</th>\n",
       "      <td>26300</td>\n",
       "      <td>2019-01-01</td>\n",
       "      <td>Finland</td>\n",
       "      <td>KaggleMart</td>\n",
       "      <td>Kaggle Sticker</td>\n",
       "    </tr>\n",
       "    <tr>\n",
       "      <th>3</th>\n",
       "      <td>26301</td>\n",
       "      <td>2019-01-01</td>\n",
       "      <td>Finland</td>\n",
       "      <td>KaggleRama</td>\n",
       "      <td>Kaggle Mug</td>\n",
       "    </tr>\n",
       "    <tr>\n",
       "      <th>4</th>\n",
       "      <td>26302</td>\n",
       "      <td>2019-01-01</td>\n",
       "      <td>Finland</td>\n",
       "      <td>KaggleRama</td>\n",
       "      <td>Kaggle Hat</td>\n",
       "    </tr>\n",
       "  </tbody>\n",
       "</table>\n",
       "</div>"
      ],
      "text/plain": [
       "   row_id       date  country       store         product\n",
       "0   26298 2019-01-01  Finland  KaggleMart      Kaggle Mug\n",
       "1   26299 2019-01-01  Finland  KaggleMart      Kaggle Hat\n",
       "2   26300 2019-01-01  Finland  KaggleMart  Kaggle Sticker\n",
       "3   26301 2019-01-01  Finland  KaggleRama      Kaggle Mug\n",
       "4   26302 2019-01-01  Finland  KaggleRama      Kaggle Hat"
      ]
     },
     "execution_count": 12,
     "metadata": {},
     "output_type": "execute_result"
    }
   ],
   "source": [
    "test.head()"
   ]
  },
  {
   "cell_type": "code",
   "execution_count": 13,
   "id": "3fde83b5",
   "metadata": {
    "execution": {
     "iopub.execute_input": "2022-01-03T10:11:24.178816Z",
     "iopub.status.busy": "2022-01-03T10:11:24.178068Z",
     "iopub.status.idle": "2022-01-03T10:11:24.212324Z",
     "shell.execute_reply": "2022-01-03T10:11:24.212935Z",
     "shell.execute_reply.started": "2022-01-03T09:51:59.622478Z"
    },
    "papermill": {
     "duration": 0.060712,
     "end_time": "2022-01-03T10:11:24.213123",
     "exception": false,
     "start_time": "2022-01-03T10:11:24.152411",
     "status": "completed"
    },
    "tags": []
   },
   "outputs": [
    {
     "data": {
      "text/html": [
       "<div>\n",
       "<style scoped>\n",
       "    .dataframe tbody tr th:only-of-type {\n",
       "        vertical-align: middle;\n",
       "    }\n",
       "\n",
       "    .dataframe tbody tr th {\n",
       "        vertical-align: top;\n",
       "    }\n",
       "\n",
       "    .dataframe thead tr th {\n",
       "        text-align: left;\n",
       "    }\n",
       "\n",
       "    .dataframe thead tr:last-of-type th {\n",
       "        text-align: right;\n",
       "    }\n",
       "</style>\n",
       "<table border=\"1\" class=\"dataframe\">\n",
       "  <thead>\n",
       "    <tr>\n",
       "      <th></th>\n",
       "      <th colspan=\"18\" halign=\"left\">row_id</th>\n",
       "    </tr>\n",
       "    <tr>\n",
       "      <th>country</th>\n",
       "      <th colspan=\"6\" halign=\"left\">Finland</th>\n",
       "      <th colspan=\"6\" halign=\"left\">Norway</th>\n",
       "      <th colspan=\"6\" halign=\"left\">Sweden</th>\n",
       "    </tr>\n",
       "    <tr>\n",
       "      <th>store</th>\n",
       "      <th colspan=\"3\" halign=\"left\">KaggleMart</th>\n",
       "      <th colspan=\"3\" halign=\"left\">KaggleRama</th>\n",
       "      <th colspan=\"3\" halign=\"left\">KaggleMart</th>\n",
       "      <th colspan=\"3\" halign=\"left\">KaggleRama</th>\n",
       "      <th colspan=\"3\" halign=\"left\">KaggleMart</th>\n",
       "      <th colspan=\"3\" halign=\"left\">KaggleRama</th>\n",
       "    </tr>\n",
       "    <tr>\n",
       "      <th>product</th>\n",
       "      <th>Kaggle Mug</th>\n",
       "      <th>Kaggle Hat</th>\n",
       "      <th>Kaggle Sticker</th>\n",
       "      <th>Kaggle Mug</th>\n",
       "      <th>Kaggle Hat</th>\n",
       "      <th>Kaggle Sticker</th>\n",
       "      <th>Kaggle Mug</th>\n",
       "      <th>Kaggle Hat</th>\n",
       "      <th>Kaggle Sticker</th>\n",
       "      <th>Kaggle Mug</th>\n",
       "      <th>Kaggle Hat</th>\n",
       "      <th>Kaggle Sticker</th>\n",
       "      <th>Kaggle Mug</th>\n",
       "      <th>Kaggle Hat</th>\n",
       "      <th>Kaggle Sticker</th>\n",
       "      <th>Kaggle Mug</th>\n",
       "      <th>Kaggle Hat</th>\n",
       "      <th>Kaggle Sticker</th>\n",
       "    </tr>\n",
       "    <tr>\n",
       "      <th>date</th>\n",
       "      <th></th>\n",
       "      <th></th>\n",
       "      <th></th>\n",
       "      <th></th>\n",
       "      <th></th>\n",
       "      <th></th>\n",
       "      <th></th>\n",
       "      <th></th>\n",
       "      <th></th>\n",
       "      <th></th>\n",
       "      <th></th>\n",
       "      <th></th>\n",
       "      <th></th>\n",
       "      <th></th>\n",
       "      <th></th>\n",
       "      <th></th>\n",
       "      <th></th>\n",
       "      <th></th>\n",
       "    </tr>\n",
       "  </thead>\n",
       "  <tbody>\n",
       "    <tr>\n",
       "      <th>2019-01-01</th>\n",
       "      <td>26298</td>\n",
       "      <td>26299</td>\n",
       "      <td>26300</td>\n",
       "      <td>26301</td>\n",
       "      <td>26302</td>\n",
       "      <td>26303</td>\n",
       "      <td>26304</td>\n",
       "      <td>26305</td>\n",
       "      <td>26306</td>\n",
       "      <td>26307</td>\n",
       "      <td>26308</td>\n",
       "      <td>26309</td>\n",
       "      <td>26310</td>\n",
       "      <td>26311</td>\n",
       "      <td>26312</td>\n",
       "      <td>26313</td>\n",
       "      <td>26314</td>\n",
       "      <td>26315</td>\n",
       "    </tr>\n",
       "    <tr>\n",
       "      <th>2019-01-02</th>\n",
       "      <td>26316</td>\n",
       "      <td>26317</td>\n",
       "      <td>26318</td>\n",
       "      <td>26319</td>\n",
       "      <td>26320</td>\n",
       "      <td>26321</td>\n",
       "      <td>26322</td>\n",
       "      <td>26323</td>\n",
       "      <td>26324</td>\n",
       "      <td>26325</td>\n",
       "      <td>26326</td>\n",
       "      <td>26327</td>\n",
       "      <td>26328</td>\n",
       "      <td>26329</td>\n",
       "      <td>26330</td>\n",
       "      <td>26331</td>\n",
       "      <td>26332</td>\n",
       "      <td>26333</td>\n",
       "    </tr>\n",
       "    <tr>\n",
       "      <th>2019-01-03</th>\n",
       "      <td>26334</td>\n",
       "      <td>26335</td>\n",
       "      <td>26336</td>\n",
       "      <td>26337</td>\n",
       "      <td>26338</td>\n",
       "      <td>26339</td>\n",
       "      <td>26340</td>\n",
       "      <td>26341</td>\n",
       "      <td>26342</td>\n",
       "      <td>26343</td>\n",
       "      <td>26344</td>\n",
       "      <td>26345</td>\n",
       "      <td>26346</td>\n",
       "      <td>26347</td>\n",
       "      <td>26348</td>\n",
       "      <td>26349</td>\n",
       "      <td>26350</td>\n",
       "      <td>26351</td>\n",
       "    </tr>\n",
       "    <tr>\n",
       "      <th>2019-01-04</th>\n",
       "      <td>26352</td>\n",
       "      <td>26353</td>\n",
       "      <td>26354</td>\n",
       "      <td>26355</td>\n",
       "      <td>26356</td>\n",
       "      <td>26357</td>\n",
       "      <td>26358</td>\n",
       "      <td>26359</td>\n",
       "      <td>26360</td>\n",
       "      <td>26361</td>\n",
       "      <td>26362</td>\n",
       "      <td>26363</td>\n",
       "      <td>26364</td>\n",
       "      <td>26365</td>\n",
       "      <td>26366</td>\n",
       "      <td>26367</td>\n",
       "      <td>26368</td>\n",
       "      <td>26369</td>\n",
       "    </tr>\n",
       "    <tr>\n",
       "      <th>2019-01-05</th>\n",
       "      <td>26370</td>\n",
       "      <td>26371</td>\n",
       "      <td>26372</td>\n",
       "      <td>26373</td>\n",
       "      <td>26374</td>\n",
       "      <td>26375</td>\n",
       "      <td>26376</td>\n",
       "      <td>26377</td>\n",
       "      <td>26378</td>\n",
       "      <td>26379</td>\n",
       "      <td>26380</td>\n",
       "      <td>26381</td>\n",
       "      <td>26382</td>\n",
       "      <td>26383</td>\n",
       "      <td>26384</td>\n",
       "      <td>26385</td>\n",
       "      <td>26386</td>\n",
       "      <td>26387</td>\n",
       "    </tr>\n",
       "    <tr>\n",
       "      <th>...</th>\n",
       "      <td>...</td>\n",
       "      <td>...</td>\n",
       "      <td>...</td>\n",
       "      <td>...</td>\n",
       "      <td>...</td>\n",
       "      <td>...</td>\n",
       "      <td>...</td>\n",
       "      <td>...</td>\n",
       "      <td>...</td>\n",
       "      <td>...</td>\n",
       "      <td>...</td>\n",
       "      <td>...</td>\n",
       "      <td>...</td>\n",
       "      <td>...</td>\n",
       "      <td>...</td>\n",
       "      <td>...</td>\n",
       "      <td>...</td>\n",
       "      <td>...</td>\n",
       "    </tr>\n",
       "    <tr>\n",
       "      <th>2019-12-27</th>\n",
       "      <td>32778</td>\n",
       "      <td>32779</td>\n",
       "      <td>32780</td>\n",
       "      <td>32781</td>\n",
       "      <td>32782</td>\n",
       "      <td>32783</td>\n",
       "      <td>32784</td>\n",
       "      <td>32785</td>\n",
       "      <td>32786</td>\n",
       "      <td>32787</td>\n",
       "      <td>32788</td>\n",
       "      <td>32789</td>\n",
       "      <td>32790</td>\n",
       "      <td>32791</td>\n",
       "      <td>32792</td>\n",
       "      <td>32793</td>\n",
       "      <td>32794</td>\n",
       "      <td>32795</td>\n",
       "    </tr>\n",
       "    <tr>\n",
       "      <th>2019-12-28</th>\n",
       "      <td>32796</td>\n",
       "      <td>32797</td>\n",
       "      <td>32798</td>\n",
       "      <td>32799</td>\n",
       "      <td>32800</td>\n",
       "      <td>32801</td>\n",
       "      <td>32802</td>\n",
       "      <td>32803</td>\n",
       "      <td>32804</td>\n",
       "      <td>32805</td>\n",
       "      <td>32806</td>\n",
       "      <td>32807</td>\n",
       "      <td>32808</td>\n",
       "      <td>32809</td>\n",
       "      <td>32810</td>\n",
       "      <td>32811</td>\n",
       "      <td>32812</td>\n",
       "      <td>32813</td>\n",
       "    </tr>\n",
       "    <tr>\n",
       "      <th>2019-12-29</th>\n",
       "      <td>32814</td>\n",
       "      <td>32815</td>\n",
       "      <td>32816</td>\n",
       "      <td>32817</td>\n",
       "      <td>32818</td>\n",
       "      <td>32819</td>\n",
       "      <td>32820</td>\n",
       "      <td>32821</td>\n",
       "      <td>32822</td>\n",
       "      <td>32823</td>\n",
       "      <td>32824</td>\n",
       "      <td>32825</td>\n",
       "      <td>32826</td>\n",
       "      <td>32827</td>\n",
       "      <td>32828</td>\n",
       "      <td>32829</td>\n",
       "      <td>32830</td>\n",
       "      <td>32831</td>\n",
       "    </tr>\n",
       "    <tr>\n",
       "      <th>2019-12-30</th>\n",
       "      <td>32832</td>\n",
       "      <td>32833</td>\n",
       "      <td>32834</td>\n",
       "      <td>32835</td>\n",
       "      <td>32836</td>\n",
       "      <td>32837</td>\n",
       "      <td>32838</td>\n",
       "      <td>32839</td>\n",
       "      <td>32840</td>\n",
       "      <td>32841</td>\n",
       "      <td>32842</td>\n",
       "      <td>32843</td>\n",
       "      <td>32844</td>\n",
       "      <td>32845</td>\n",
       "      <td>32846</td>\n",
       "      <td>32847</td>\n",
       "      <td>32848</td>\n",
       "      <td>32849</td>\n",
       "    </tr>\n",
       "    <tr>\n",
       "      <th>2019-12-31</th>\n",
       "      <td>32850</td>\n",
       "      <td>32851</td>\n",
       "      <td>32852</td>\n",
       "      <td>32853</td>\n",
       "      <td>32854</td>\n",
       "      <td>32855</td>\n",
       "      <td>32856</td>\n",
       "      <td>32857</td>\n",
       "      <td>32858</td>\n",
       "      <td>32859</td>\n",
       "      <td>32860</td>\n",
       "      <td>32861</td>\n",
       "      <td>32862</td>\n",
       "      <td>32863</td>\n",
       "      <td>32864</td>\n",
       "      <td>32865</td>\n",
       "      <td>32866</td>\n",
       "      <td>32867</td>\n",
       "    </tr>\n",
       "  </tbody>\n",
       "</table>\n",
       "<p>365 rows × 18 columns</p>\n",
       "</div>"
      ],
      "text/plain": [
       "               row_id                                                  \\\n",
       "country       Finland                                                   \n",
       "store      KaggleMart                           KaggleRama              \n",
       "product    Kaggle Mug Kaggle Hat Kaggle Sticker Kaggle Mug Kaggle Hat   \n",
       "date                                                                    \n",
       "2019-01-01      26298      26299          26300      26301      26302   \n",
       "2019-01-02      26316      26317          26318      26319      26320   \n",
       "2019-01-03      26334      26335          26336      26337      26338   \n",
       "2019-01-04      26352      26353          26354      26355      26356   \n",
       "2019-01-05      26370      26371          26372      26373      26374   \n",
       "...               ...        ...            ...        ...        ...   \n",
       "2019-12-27      32778      32779          32780      32781      32782   \n",
       "2019-12-28      32796      32797          32798      32799      32800   \n",
       "2019-12-29      32814      32815          32816      32817      32818   \n",
       "2019-12-30      32832      32833          32834      32835      32836   \n",
       "2019-12-31      32850      32851          32852      32853      32854   \n",
       "\n",
       "                                                                           \\\n",
       "country                       Norway                                        \n",
       "store                     KaggleMart                           KaggleRama   \n",
       "product    Kaggle Sticker Kaggle Mug Kaggle Hat Kaggle Sticker Kaggle Mug   \n",
       "date                                                                        \n",
       "2019-01-01          26303      26304      26305          26306      26307   \n",
       "2019-01-02          26321      26322      26323          26324      26325   \n",
       "2019-01-03          26339      26340      26341          26342      26343   \n",
       "2019-01-04          26357      26358      26359          26360      26361   \n",
       "2019-01-05          26375      26376      26377          26378      26379   \n",
       "...                   ...        ...        ...            ...        ...   \n",
       "2019-12-27          32783      32784      32785          32786      32787   \n",
       "2019-12-28          32801      32802      32803          32804      32805   \n",
       "2019-12-29          32819      32820      32821          32822      32823   \n",
       "2019-12-30          32837      32838      32839          32840      32841   \n",
       "2019-12-31          32855      32856      32857          32858      32859   \n",
       "\n",
       "                                                                           \\\n",
       "country                                  Sweden                             \n",
       "store                                KaggleMart                             \n",
       "product    Kaggle Hat Kaggle Sticker Kaggle Mug Kaggle Hat Kaggle Sticker   \n",
       "date                                                                        \n",
       "2019-01-01      26308          26309      26310      26311          26312   \n",
       "2019-01-02      26326          26327      26328      26329          26330   \n",
       "2019-01-03      26344          26345      26346      26347          26348   \n",
       "2019-01-04      26362          26363      26364      26365          26366   \n",
       "2019-01-05      26380          26381      26382      26383          26384   \n",
       "...               ...            ...        ...        ...            ...   \n",
       "2019-12-27      32788          32789      32790      32791          32792   \n",
       "2019-12-28      32806          32807      32808      32809          32810   \n",
       "2019-12-29      32824          32825      32826      32827          32828   \n",
       "2019-12-30      32842          32843      32844      32845          32846   \n",
       "2019-12-31      32860          32861      32862      32863          32864   \n",
       "\n",
       "                                                 \n",
       "country                                          \n",
       "store      KaggleRama                            \n",
       "product    Kaggle Mug Kaggle Hat Kaggle Sticker  \n",
       "date                                             \n",
       "2019-01-01      26313      26314          26315  \n",
       "2019-01-02      26331      26332          26333  \n",
       "2019-01-03      26349      26350          26351  \n",
       "2019-01-04      26367      26368          26369  \n",
       "2019-01-05      26385      26386          26387  \n",
       "...               ...        ...            ...  \n",
       "2019-12-27      32793      32794          32795  \n",
       "2019-12-28      32811      32812          32813  \n",
       "2019-12-29      32829      32830          32831  \n",
       "2019-12-30      32847      32848          32849  \n",
       "2019-12-31      32865      32866          32867  \n",
       "\n",
       "[365 rows x 18 columns]"
      ]
     },
     "execution_count": 13,
     "metadata": {},
     "output_type": "execute_result"
    }
   ],
   "source": [
    "test_data =test.pivot(index='date',columns=['country','store','product'])\n",
    "test_data"
   ]
  },
  {
   "cell_type": "code",
   "execution_count": 14,
   "id": "f1638d21",
   "metadata": {
    "execution": {
     "iopub.execute_input": "2022-01-03T10:11:24.261039Z",
     "iopub.status.busy": "2022-01-03T10:11:24.260397Z",
     "iopub.status.idle": "2022-01-03T10:11:24.292549Z",
     "shell.execute_reply": "2022-01-03T10:11:24.293011Z",
     "shell.execute_reply.started": "2022-01-03T09:49:44.632712Z"
    },
    "papermill": {
     "duration": 0.059768,
     "end_time": "2022-01-03T10:11:24.293205",
     "exception": false,
     "start_time": "2022-01-03T10:11:24.233437",
     "status": "completed"
    },
    "tags": []
   },
   "outputs": [
    {
     "data": {
      "text/html": [
       "<div>\n",
       "<style scoped>\n",
       "    .dataframe tbody tr th:only-of-type {\n",
       "        vertical-align: middle;\n",
       "    }\n",
       "\n",
       "    .dataframe tbody tr th {\n",
       "        vertical-align: top;\n",
       "    }\n",
       "\n",
       "    .dataframe thead tr th {\n",
       "        text-align: left;\n",
       "    }\n",
       "</style>\n",
       "<table border=\"1\" class=\"dataframe\">\n",
       "  <thead>\n",
       "    <tr>\n",
       "      <th></th>\n",
       "      <th>date</th>\n",
       "      <th colspan=\"18\" halign=\"left\">row_id</th>\n",
       "    </tr>\n",
       "    <tr>\n",
       "      <th>country</th>\n",
       "      <th></th>\n",
       "      <th colspan=\"6\" halign=\"left\">Finland</th>\n",
       "      <th colspan=\"6\" halign=\"left\">Norway</th>\n",
       "      <th colspan=\"6\" halign=\"left\">Sweden</th>\n",
       "    </tr>\n",
       "    <tr>\n",
       "      <th>store</th>\n",
       "      <th></th>\n",
       "      <th colspan=\"3\" halign=\"left\">KaggleMart</th>\n",
       "      <th colspan=\"3\" halign=\"left\">KaggleRama</th>\n",
       "      <th colspan=\"3\" halign=\"left\">KaggleMart</th>\n",
       "      <th colspan=\"3\" halign=\"left\">KaggleRama</th>\n",
       "      <th colspan=\"3\" halign=\"left\">KaggleMart</th>\n",
       "      <th colspan=\"3\" halign=\"left\">KaggleRama</th>\n",
       "    </tr>\n",
       "    <tr>\n",
       "      <th>product</th>\n",
       "      <th></th>\n",
       "      <th>Kaggle Mug</th>\n",
       "      <th>Kaggle Hat</th>\n",
       "      <th>Kaggle Sticker</th>\n",
       "      <th>Kaggle Mug</th>\n",
       "      <th>Kaggle Hat</th>\n",
       "      <th>Kaggle Sticker</th>\n",
       "      <th>Kaggle Mug</th>\n",
       "      <th>Kaggle Hat</th>\n",
       "      <th>Kaggle Sticker</th>\n",
       "      <th>Kaggle Mug</th>\n",
       "      <th>Kaggle Hat</th>\n",
       "      <th>Kaggle Sticker</th>\n",
       "      <th>Kaggle Mug</th>\n",
       "      <th>Kaggle Hat</th>\n",
       "      <th>Kaggle Sticker</th>\n",
       "      <th>Kaggle Mug</th>\n",
       "      <th>Kaggle Hat</th>\n",
       "      <th>Kaggle Sticker</th>\n",
       "    </tr>\n",
       "  </thead>\n",
       "  <tbody>\n",
       "    <tr>\n",
       "      <th>0</th>\n",
       "      <td>2019-01-01</td>\n",
       "      <td>26298</td>\n",
       "      <td>26299</td>\n",
       "      <td>26300</td>\n",
       "      <td>26301</td>\n",
       "      <td>26302</td>\n",
       "      <td>26303</td>\n",
       "      <td>26304</td>\n",
       "      <td>26305</td>\n",
       "      <td>26306</td>\n",
       "      <td>26307</td>\n",
       "      <td>26308</td>\n",
       "      <td>26309</td>\n",
       "      <td>26310</td>\n",
       "      <td>26311</td>\n",
       "      <td>26312</td>\n",
       "      <td>26313</td>\n",
       "      <td>26314</td>\n",
       "      <td>26315</td>\n",
       "    </tr>\n",
       "    <tr>\n",
       "      <th>1</th>\n",
       "      <td>2019-01-02</td>\n",
       "      <td>26316</td>\n",
       "      <td>26317</td>\n",
       "      <td>26318</td>\n",
       "      <td>26319</td>\n",
       "      <td>26320</td>\n",
       "      <td>26321</td>\n",
       "      <td>26322</td>\n",
       "      <td>26323</td>\n",
       "      <td>26324</td>\n",
       "      <td>26325</td>\n",
       "      <td>26326</td>\n",
       "      <td>26327</td>\n",
       "      <td>26328</td>\n",
       "      <td>26329</td>\n",
       "      <td>26330</td>\n",
       "      <td>26331</td>\n",
       "      <td>26332</td>\n",
       "      <td>26333</td>\n",
       "    </tr>\n",
       "    <tr>\n",
       "      <th>2</th>\n",
       "      <td>2019-01-03</td>\n",
       "      <td>26334</td>\n",
       "      <td>26335</td>\n",
       "      <td>26336</td>\n",
       "      <td>26337</td>\n",
       "      <td>26338</td>\n",
       "      <td>26339</td>\n",
       "      <td>26340</td>\n",
       "      <td>26341</td>\n",
       "      <td>26342</td>\n",
       "      <td>26343</td>\n",
       "      <td>26344</td>\n",
       "      <td>26345</td>\n",
       "      <td>26346</td>\n",
       "      <td>26347</td>\n",
       "      <td>26348</td>\n",
       "      <td>26349</td>\n",
       "      <td>26350</td>\n",
       "      <td>26351</td>\n",
       "    </tr>\n",
       "    <tr>\n",
       "      <th>3</th>\n",
       "      <td>2019-01-04</td>\n",
       "      <td>26352</td>\n",
       "      <td>26353</td>\n",
       "      <td>26354</td>\n",
       "      <td>26355</td>\n",
       "      <td>26356</td>\n",
       "      <td>26357</td>\n",
       "      <td>26358</td>\n",
       "      <td>26359</td>\n",
       "      <td>26360</td>\n",
       "      <td>26361</td>\n",
       "      <td>26362</td>\n",
       "      <td>26363</td>\n",
       "      <td>26364</td>\n",
       "      <td>26365</td>\n",
       "      <td>26366</td>\n",
       "      <td>26367</td>\n",
       "      <td>26368</td>\n",
       "      <td>26369</td>\n",
       "    </tr>\n",
       "    <tr>\n",
       "      <th>4</th>\n",
       "      <td>2019-01-05</td>\n",
       "      <td>26370</td>\n",
       "      <td>26371</td>\n",
       "      <td>26372</td>\n",
       "      <td>26373</td>\n",
       "      <td>26374</td>\n",
       "      <td>26375</td>\n",
       "      <td>26376</td>\n",
       "      <td>26377</td>\n",
       "      <td>26378</td>\n",
       "      <td>26379</td>\n",
       "      <td>26380</td>\n",
       "      <td>26381</td>\n",
       "      <td>26382</td>\n",
       "      <td>26383</td>\n",
       "      <td>26384</td>\n",
       "      <td>26385</td>\n",
       "      <td>26386</td>\n",
       "      <td>26387</td>\n",
       "    </tr>\n",
       "  </tbody>\n",
       "</table>\n",
       "</div>"
      ],
      "text/plain": [
       "              date     row_id                                                  \\\n",
       "country               Finland                                                   \n",
       "store              KaggleMart                           KaggleRama              \n",
       "product            Kaggle Mug Kaggle Hat Kaggle Sticker Kaggle Mug Kaggle Hat   \n",
       "0       2019-01-01      26298      26299          26300      26301      26302   \n",
       "1       2019-01-02      26316      26317          26318      26319      26320   \n",
       "2       2019-01-03      26334      26335          26336      26337      26338   \n",
       "3       2019-01-04      26352      26353          26354      26355      26356   \n",
       "4       2019-01-05      26370      26371          26372      26373      26374   \n",
       "\n",
       "                                                                        \\\n",
       "country                    Norway                                        \n",
       "store                  KaggleMart                           KaggleRama   \n",
       "product Kaggle Sticker Kaggle Mug Kaggle Hat Kaggle Sticker Kaggle Mug   \n",
       "0                26303      26304      26305          26306      26307   \n",
       "1                26321      26322      26323          26324      26325   \n",
       "2                26339      26340      26341          26342      26343   \n",
       "3                26357      26358      26359          26360      26361   \n",
       "4                26375      26376      26377          26378      26379   \n",
       "\n",
       "                                                                        \\\n",
       "country                               Sweden                             \n",
       "store                             KaggleMart                             \n",
       "product Kaggle Hat Kaggle Sticker Kaggle Mug Kaggle Hat Kaggle Sticker   \n",
       "0            26308          26309      26310      26311          26312   \n",
       "1            26326          26327      26328      26329          26330   \n",
       "2            26344          26345      26346      26347          26348   \n",
       "3            26362          26363      26364      26365          26366   \n",
       "4            26380          26381      26382      26383          26384   \n",
       "\n",
       "                                              \n",
       "country                                       \n",
       "store   KaggleRama                            \n",
       "product Kaggle Mug Kaggle Hat Kaggle Sticker  \n",
       "0            26313      26314          26315  \n",
       "1            26331      26332          26333  \n",
       "2            26349      26350          26351  \n",
       "3            26367      26368          26369  \n",
       "4            26385      26386          26387  "
      ]
     },
     "execution_count": 14,
     "metadata": {},
     "output_type": "execute_result"
    }
   ],
   "source": [
    "test_date = test.set_index('date').pivot(columns=['country','store','product']).reset_index()\n",
    "test_date.head()"
   ]
  },
  {
   "cell_type": "code",
   "execution_count": 15,
   "id": "c88fe016",
   "metadata": {
    "execution": {
     "iopub.execute_input": "2022-01-03T10:11:24.341789Z",
     "iopub.status.busy": "2022-01-03T10:11:24.341073Z",
     "iopub.status.idle": "2022-01-03T10:11:24.356697Z",
     "shell.execute_reply": "2022-01-03T10:11:24.357247Z",
     "shell.execute_reply.started": "2022-01-03T10:00:00.032964Z"
    },
    "papermill": {
     "duration": 0.042962,
     "end_time": "2022-01-03T10:11:24.357422",
     "exception": false,
     "start_time": "2022-01-03T10:11:24.314460",
     "status": "completed"
    },
    "tags": []
   },
   "outputs": [
    {
     "data": {
      "text/html": [
       "<div>\n",
       "<style scoped>\n",
       "    .dataframe tbody tr th:only-of-type {\n",
       "        vertical-align: middle;\n",
       "    }\n",
       "\n",
       "    .dataframe tbody tr th {\n",
       "        vertical-align: top;\n",
       "    }\n",
       "\n",
       "    .dataframe thead th {\n",
       "        text-align: right;\n",
       "    }\n",
       "</style>\n",
       "<table border=\"1\" class=\"dataframe\">\n",
       "  <thead>\n",
       "    <tr style=\"text-align: right;\">\n",
       "      <th></th>\n",
       "      <th>date</th>\n",
       "      <th>num_sold</th>\n",
       "    </tr>\n",
       "  </thead>\n",
       "  <tbody>\n",
       "    <tr>\n",
       "      <th>0</th>\n",
       "      <td>2015-12-31</td>\n",
       "      <td>364.382192</td>\n",
       "    </tr>\n",
       "    <tr>\n",
       "      <th>1</th>\n",
       "      <td>2016-12-31</td>\n",
       "      <td>364.807529</td>\n",
       "    </tr>\n",
       "    <tr>\n",
       "      <th>2</th>\n",
       "      <td>2017-12-31</td>\n",
       "      <td>396.011720</td>\n",
       "    </tr>\n",
       "    <tr>\n",
       "      <th>3</th>\n",
       "      <td>2018-12-31</td>\n",
       "      <td>424.995129</td>\n",
       "    </tr>\n",
       "  </tbody>\n",
       "</table>\n",
       "</div>"
      ],
      "text/plain": [
       "        date    num_sold\n",
       "0 2015-12-31  364.382192\n",
       "1 2016-12-31  364.807529\n",
       "2 2017-12-31  396.011720\n",
       "3 2018-12-31  424.995129"
      ]
     },
     "execution_count": 15,
     "metadata": {},
     "output_type": "execute_result"
    }
   ],
   "source": [
    "train_data_by_year = train.set_index('date').groupby([pd.Grouper(freq='Y')])['num_sold'].mean().reset_index()\n",
    "train_data_by_year.head()"
   ]
  },
  {
   "cell_type": "code",
   "execution_count": 16,
   "id": "de522243",
   "metadata": {
    "execution": {
     "iopub.execute_input": "2022-01-03T10:11:24.405282Z",
     "iopub.status.busy": "2022-01-03T10:11:24.404563Z",
     "iopub.status.idle": "2022-01-03T10:11:24.425556Z",
     "shell.execute_reply": "2022-01-03T10:11:24.425010Z",
     "shell.execute_reply.started": "2022-01-03T09:14:11.973934Z"
    },
    "papermill": {
     "duration": 0.046533,
     "end_time": "2022-01-03T10:11:24.425705",
     "exception": false,
     "start_time": "2022-01-03T10:11:24.379172",
     "status": "completed"
    },
    "tags": []
   },
   "outputs": [
    {
     "data": {
      "text/html": [
       "<div>\n",
       "<style scoped>\n",
       "    .dataframe tbody tr th:only-of-type {\n",
       "        vertical-align: middle;\n",
       "    }\n",
       "\n",
       "    .dataframe tbody tr th {\n",
       "        vertical-align: top;\n",
       "    }\n",
       "\n",
       "    .dataframe thead th {\n",
       "        text-align: right;\n",
       "    }\n",
       "</style>\n",
       "<table border=\"1\" class=\"dataframe\">\n",
       "  <thead>\n",
       "    <tr style=\"text-align: right;\">\n",
       "      <th></th>\n",
       "      <th>date</th>\n",
       "      <th>num_sold</th>\n",
       "    </tr>\n",
       "  </thead>\n",
       "  <tbody>\n",
       "    <tr>\n",
       "      <th>0</th>\n",
       "      <td>2015-01-31</td>\n",
       "      <td>406.553763</td>\n",
       "    </tr>\n",
       "    <tr>\n",
       "      <th>1</th>\n",
       "      <td>2015-02-28</td>\n",
       "      <td>388.033730</td>\n",
       "    </tr>\n",
       "    <tr>\n",
       "      <th>2</th>\n",
       "      <td>2015-03-31</td>\n",
       "      <td>394.831541</td>\n",
       "    </tr>\n",
       "    <tr>\n",
       "      <th>3</th>\n",
       "      <td>2015-04-30</td>\n",
       "      <td>415.885185</td>\n",
       "    </tr>\n",
       "    <tr>\n",
       "      <th>4</th>\n",
       "      <td>2015-05-31</td>\n",
       "      <td>406.731183</td>\n",
       "    </tr>\n",
       "  </tbody>\n",
       "</table>\n",
       "</div>"
      ],
      "text/plain": [
       "        date    num_sold\n",
       "0 2015-01-31  406.553763\n",
       "1 2015-02-28  388.033730\n",
       "2 2015-03-31  394.831541\n",
       "3 2015-04-30  415.885185\n",
       "4 2015-05-31  406.731183"
      ]
     },
     "execution_count": 16,
     "metadata": {},
     "output_type": "execute_result"
    }
   ],
   "source": [
    "train_year = train.set_index('date').groupby([pd.Grouper(freq='M')])[['num_sold']].mean().reset_index()\n",
    "train_year.head()"
   ]
  },
  {
   "cell_type": "code",
   "execution_count": 17,
   "id": "a3dac896",
   "metadata": {
    "execution": {
     "iopub.execute_input": "2022-01-03T10:11:24.476281Z",
     "iopub.status.busy": "2022-01-03T10:11:24.475527Z",
     "iopub.status.idle": "2022-01-03T10:11:25.733336Z",
     "shell.execute_reply": "2022-01-03T10:11:25.733850Z",
     "shell.execute_reply.started": "2022-01-03T09:14:33.736671Z"
    },
    "papermill": {
     "duration": 1.286143,
     "end_time": "2022-01-03T10:11:25.734049",
     "exception": false,
     "start_time": "2022-01-03T10:11:24.447906",
     "status": "completed"
    },
    "tags": []
   },
   "outputs": [
    {
     "data": {
      "application/vnd.plotly.v1+json": {
       "config": {
        "plotlyServerURL": "https://plot.ly"
       },
       "data": [
        {
         "hovertemplate": "date=%{x}<br>num_sold=%{y}<extra></extra>",
         "legendgroup": "",
         "line": {
          "color": "#636efa",
          "dash": "solid"
         },
         "marker": {
          "symbol": "circle"
         },
         "mode": "lines",
         "name": "",
         "orientation": "v",
         "showlegend": false,
         "type": "scatter",
         "x": [
          "2015-01-31T00:00:00",
          "2015-02-28T00:00:00",
          "2015-03-31T00:00:00",
          "2015-04-30T00:00:00",
          "2015-05-31T00:00:00",
          "2015-06-30T00:00:00",
          "2015-07-31T00:00:00",
          "2015-08-31T00:00:00",
          "2015-09-30T00:00:00",
          "2015-10-31T00:00:00",
          "2015-11-30T00:00:00",
          "2015-12-31T00:00:00",
          "2016-01-31T00:00:00",
          "2016-02-29T00:00:00",
          "2016-03-31T00:00:00",
          "2016-04-30T00:00:00",
          "2016-05-31T00:00:00",
          "2016-06-30T00:00:00",
          "2016-07-31T00:00:00",
          "2016-08-31T00:00:00",
          "2016-09-30T00:00:00",
          "2016-10-31T00:00:00",
          "2016-11-30T00:00:00",
          "2016-12-31T00:00:00",
          "2017-01-31T00:00:00",
          "2017-02-28T00:00:00",
          "2017-03-31T00:00:00",
          "2017-04-30T00:00:00",
          "2017-05-31T00:00:00",
          "2017-06-30T00:00:00",
          "2017-07-31T00:00:00",
          "2017-08-31T00:00:00",
          "2017-09-30T00:00:00",
          "2017-10-31T00:00:00",
          "2017-11-30T00:00:00",
          "2017-12-31T00:00:00",
          "2018-01-31T00:00:00",
          "2018-02-28T00:00:00",
          "2018-03-31T00:00:00",
          "2018-04-30T00:00:00",
          "2018-05-31T00:00:00",
          "2018-06-30T00:00:00",
          "2018-07-31T00:00:00",
          "2018-08-31T00:00:00",
          "2018-09-30T00:00:00",
          "2018-10-31T00:00:00",
          "2018-11-30T00:00:00",
          "2018-12-31T00:00:00"
         ],
         "xaxis": "x",
         "y": [
          406.5537634408602,
          388.0337301587302,
          394.831541218638,
          415.8851851851852,
          406.73118279569894,
          357.25555555555553,
          323.7043010752688,
          309.5698924731183,
          303.6703703703704,
          312.44086021505376,
          335.07037037037037,
          419.6559139784946,
          417.6774193548387,
          384.8429118773946,
          404.3888888888889,
          401.85,
          398.3745519713262,
          351.6277777777778,
          326.34767025089604,
          305.78136200716847,
          302.7037037037037,
          317.6953405017921,
          336.6296296296296,
          428.921146953405,
          430.915770609319,
          415.5595238095238,
          416.05555555555554,
          455.537037037037,
          414.9820788530466,
          396.2944444444444,
          357.5430107526882,
          336.1415770609319,
          334.8611111111111,
          340.44444444444446,
          372.51666666666665,
          482.3799283154122,
          471.97491039426524,
          449.968253968254,
          458.3405017921147,
          488.837037037037,
          470.64516129032256,
          419.9,
          375.8010752688172,
          360.75985663082434,
          359.24074074074076,
          362.1666666666667,
          384.4203703703704,
          498.76881720430106
         ],
         "yaxis": "y"
        }
       ],
       "layout": {
        "legend": {
         "tracegroupgap": 0
        },
        "margin": {
         "t": 60
        },
        "template": {
         "data": {
          "bar": [
           {
            "error_x": {
             "color": "#2a3f5f"
            },
            "error_y": {
             "color": "#2a3f5f"
            },
            "marker": {
             "line": {
              "color": "#E5ECF6",
              "width": 0.5
             },
             "pattern": {
              "fillmode": "overlay",
              "size": 10,
              "solidity": 0.2
             }
            },
            "type": "bar"
           }
          ],
          "barpolar": [
           {
            "marker": {
             "line": {
              "color": "#E5ECF6",
              "width": 0.5
             },
             "pattern": {
              "fillmode": "overlay",
              "size": 10,
              "solidity": 0.2
             }
            },
            "type": "barpolar"
           }
          ],
          "carpet": [
           {
            "aaxis": {
             "endlinecolor": "#2a3f5f",
             "gridcolor": "white",
             "linecolor": "white",
             "minorgridcolor": "white",
             "startlinecolor": "#2a3f5f"
            },
            "baxis": {
             "endlinecolor": "#2a3f5f",
             "gridcolor": "white",
             "linecolor": "white",
             "minorgridcolor": "white",
             "startlinecolor": "#2a3f5f"
            },
            "type": "carpet"
           }
          ],
          "choropleth": [
           {
            "colorbar": {
             "outlinewidth": 0,
             "ticks": ""
            },
            "type": "choropleth"
           }
          ],
          "contour": [
           {
            "colorbar": {
             "outlinewidth": 0,
             "ticks": ""
            },
            "colorscale": [
             [
              0.0,
              "#0d0887"
             ],
             [
              0.1111111111111111,
              "#46039f"
             ],
             [
              0.2222222222222222,
              "#7201a8"
             ],
             [
              0.3333333333333333,
              "#9c179e"
             ],
             [
              0.4444444444444444,
              "#bd3786"
             ],
             [
              0.5555555555555556,
              "#d8576b"
             ],
             [
              0.6666666666666666,
              "#ed7953"
             ],
             [
              0.7777777777777778,
              "#fb9f3a"
             ],
             [
              0.8888888888888888,
              "#fdca26"
             ],
             [
              1.0,
              "#f0f921"
             ]
            ],
            "type": "contour"
           }
          ],
          "contourcarpet": [
           {
            "colorbar": {
             "outlinewidth": 0,
             "ticks": ""
            },
            "type": "contourcarpet"
           }
          ],
          "heatmap": [
           {
            "colorbar": {
             "outlinewidth": 0,
             "ticks": ""
            },
            "colorscale": [
             [
              0.0,
              "#0d0887"
             ],
             [
              0.1111111111111111,
              "#46039f"
             ],
             [
              0.2222222222222222,
              "#7201a8"
             ],
             [
              0.3333333333333333,
              "#9c179e"
             ],
             [
              0.4444444444444444,
              "#bd3786"
             ],
             [
              0.5555555555555556,
              "#d8576b"
             ],
             [
              0.6666666666666666,
              "#ed7953"
             ],
             [
              0.7777777777777778,
              "#fb9f3a"
             ],
             [
              0.8888888888888888,
              "#fdca26"
             ],
             [
              1.0,
              "#f0f921"
             ]
            ],
            "type": "heatmap"
           }
          ],
          "heatmapgl": [
           {
            "colorbar": {
             "outlinewidth": 0,
             "ticks": ""
            },
            "colorscale": [
             [
              0.0,
              "#0d0887"
             ],
             [
              0.1111111111111111,
              "#46039f"
             ],
             [
              0.2222222222222222,
              "#7201a8"
             ],
             [
              0.3333333333333333,
              "#9c179e"
             ],
             [
              0.4444444444444444,
              "#bd3786"
             ],
             [
              0.5555555555555556,
              "#d8576b"
             ],
             [
              0.6666666666666666,
              "#ed7953"
             ],
             [
              0.7777777777777778,
              "#fb9f3a"
             ],
             [
              0.8888888888888888,
              "#fdca26"
             ],
             [
              1.0,
              "#f0f921"
             ]
            ],
            "type": "heatmapgl"
           }
          ],
          "histogram": [
           {
            "marker": {
             "pattern": {
              "fillmode": "overlay",
              "size": 10,
              "solidity": 0.2
             }
            },
            "type": "histogram"
           }
          ],
          "histogram2d": [
           {
            "colorbar": {
             "outlinewidth": 0,
             "ticks": ""
            },
            "colorscale": [
             [
              0.0,
              "#0d0887"
             ],
             [
              0.1111111111111111,
              "#46039f"
             ],
             [
              0.2222222222222222,
              "#7201a8"
             ],
             [
              0.3333333333333333,
              "#9c179e"
             ],
             [
              0.4444444444444444,
              "#bd3786"
             ],
             [
              0.5555555555555556,
              "#d8576b"
             ],
             [
              0.6666666666666666,
              "#ed7953"
             ],
             [
              0.7777777777777778,
              "#fb9f3a"
             ],
             [
              0.8888888888888888,
              "#fdca26"
             ],
             [
              1.0,
              "#f0f921"
             ]
            ],
            "type": "histogram2d"
           }
          ],
          "histogram2dcontour": [
           {
            "colorbar": {
             "outlinewidth": 0,
             "ticks": ""
            },
            "colorscale": [
             [
              0.0,
              "#0d0887"
             ],
             [
              0.1111111111111111,
              "#46039f"
             ],
             [
              0.2222222222222222,
              "#7201a8"
             ],
             [
              0.3333333333333333,
              "#9c179e"
             ],
             [
              0.4444444444444444,
              "#bd3786"
             ],
             [
              0.5555555555555556,
              "#d8576b"
             ],
             [
              0.6666666666666666,
              "#ed7953"
             ],
             [
              0.7777777777777778,
              "#fb9f3a"
             ],
             [
              0.8888888888888888,
              "#fdca26"
             ],
             [
              1.0,
              "#f0f921"
             ]
            ],
            "type": "histogram2dcontour"
           }
          ],
          "mesh3d": [
           {
            "colorbar": {
             "outlinewidth": 0,
             "ticks": ""
            },
            "type": "mesh3d"
           }
          ],
          "parcoords": [
           {
            "line": {
             "colorbar": {
              "outlinewidth": 0,
              "ticks": ""
             }
            },
            "type": "parcoords"
           }
          ],
          "pie": [
           {
            "automargin": true,
            "type": "pie"
           }
          ],
          "scatter": [
           {
            "marker": {
             "colorbar": {
              "outlinewidth": 0,
              "ticks": ""
             }
            },
            "type": "scatter"
           }
          ],
          "scatter3d": [
           {
            "line": {
             "colorbar": {
              "outlinewidth": 0,
              "ticks": ""
             }
            },
            "marker": {
             "colorbar": {
              "outlinewidth": 0,
              "ticks": ""
             }
            },
            "type": "scatter3d"
           }
          ],
          "scattercarpet": [
           {
            "marker": {
             "colorbar": {
              "outlinewidth": 0,
              "ticks": ""
             }
            },
            "type": "scattercarpet"
           }
          ],
          "scattergeo": [
           {
            "marker": {
             "colorbar": {
              "outlinewidth": 0,
              "ticks": ""
             }
            },
            "type": "scattergeo"
           }
          ],
          "scattergl": [
           {
            "marker": {
             "colorbar": {
              "outlinewidth": 0,
              "ticks": ""
             }
            },
            "type": "scattergl"
           }
          ],
          "scattermapbox": [
           {
            "marker": {
             "colorbar": {
              "outlinewidth": 0,
              "ticks": ""
             }
            },
            "type": "scattermapbox"
           }
          ],
          "scatterpolar": [
           {
            "marker": {
             "colorbar": {
              "outlinewidth": 0,
              "ticks": ""
             }
            },
            "type": "scatterpolar"
           }
          ],
          "scatterpolargl": [
           {
            "marker": {
             "colorbar": {
              "outlinewidth": 0,
              "ticks": ""
             }
            },
            "type": "scatterpolargl"
           }
          ],
          "scatterternary": [
           {
            "marker": {
             "colorbar": {
              "outlinewidth": 0,
              "ticks": ""
             }
            },
            "type": "scatterternary"
           }
          ],
          "surface": [
           {
            "colorbar": {
             "outlinewidth": 0,
             "ticks": ""
            },
            "colorscale": [
             [
              0.0,
              "#0d0887"
             ],
             [
              0.1111111111111111,
              "#46039f"
             ],
             [
              0.2222222222222222,
              "#7201a8"
             ],
             [
              0.3333333333333333,
              "#9c179e"
             ],
             [
              0.4444444444444444,
              "#bd3786"
             ],
             [
              0.5555555555555556,
              "#d8576b"
             ],
             [
              0.6666666666666666,
              "#ed7953"
             ],
             [
              0.7777777777777778,
              "#fb9f3a"
             ],
             [
              0.8888888888888888,
              "#fdca26"
             ],
             [
              1.0,
              "#f0f921"
             ]
            ],
            "type": "surface"
           }
          ],
          "table": [
           {
            "cells": {
             "fill": {
              "color": "#EBF0F8"
             },
             "line": {
              "color": "white"
             }
            },
            "header": {
             "fill": {
              "color": "#C8D4E3"
             },
             "line": {
              "color": "white"
             }
            },
            "type": "table"
           }
          ]
         },
         "layout": {
          "annotationdefaults": {
           "arrowcolor": "#2a3f5f",
           "arrowhead": 0,
           "arrowwidth": 1
          },
          "autotypenumbers": "strict",
          "coloraxis": {
           "colorbar": {
            "outlinewidth": 0,
            "ticks": ""
           }
          },
          "colorscale": {
           "diverging": [
            [
             0,
             "#8e0152"
            ],
            [
             0.1,
             "#c51b7d"
            ],
            [
             0.2,
             "#de77ae"
            ],
            [
             0.3,
             "#f1b6da"
            ],
            [
             0.4,
             "#fde0ef"
            ],
            [
             0.5,
             "#f7f7f7"
            ],
            [
             0.6,
             "#e6f5d0"
            ],
            [
             0.7,
             "#b8e186"
            ],
            [
             0.8,
             "#7fbc41"
            ],
            [
             0.9,
             "#4d9221"
            ],
            [
             1,
             "#276419"
            ]
           ],
           "sequential": [
            [
             0.0,
             "#0d0887"
            ],
            [
             0.1111111111111111,
             "#46039f"
            ],
            [
             0.2222222222222222,
             "#7201a8"
            ],
            [
             0.3333333333333333,
             "#9c179e"
            ],
            [
             0.4444444444444444,
             "#bd3786"
            ],
            [
             0.5555555555555556,
             "#d8576b"
            ],
            [
             0.6666666666666666,
             "#ed7953"
            ],
            [
             0.7777777777777778,
             "#fb9f3a"
            ],
            [
             0.8888888888888888,
             "#fdca26"
            ],
            [
             1.0,
             "#f0f921"
            ]
           ],
           "sequentialminus": [
            [
             0.0,
             "#0d0887"
            ],
            [
             0.1111111111111111,
             "#46039f"
            ],
            [
             0.2222222222222222,
             "#7201a8"
            ],
            [
             0.3333333333333333,
             "#9c179e"
            ],
            [
             0.4444444444444444,
             "#bd3786"
            ],
            [
             0.5555555555555556,
             "#d8576b"
            ],
            [
             0.6666666666666666,
             "#ed7953"
            ],
            [
             0.7777777777777778,
             "#fb9f3a"
            ],
            [
             0.8888888888888888,
             "#fdca26"
            ],
            [
             1.0,
             "#f0f921"
            ]
           ]
          },
          "colorway": [
           "#636efa",
           "#EF553B",
           "#00cc96",
           "#ab63fa",
           "#FFA15A",
           "#19d3f3",
           "#FF6692",
           "#B6E880",
           "#FF97FF",
           "#FECB52"
          ],
          "font": {
           "color": "#2a3f5f"
          },
          "geo": {
           "bgcolor": "white",
           "lakecolor": "white",
           "landcolor": "#E5ECF6",
           "showlakes": true,
           "showland": true,
           "subunitcolor": "white"
          },
          "hoverlabel": {
           "align": "left"
          },
          "hovermode": "closest",
          "mapbox": {
           "style": "light"
          },
          "paper_bgcolor": "white",
          "plot_bgcolor": "#E5ECF6",
          "polar": {
           "angularaxis": {
            "gridcolor": "white",
            "linecolor": "white",
            "ticks": ""
           },
           "bgcolor": "#E5ECF6",
           "radialaxis": {
            "gridcolor": "white",
            "linecolor": "white",
            "ticks": ""
           }
          },
          "scene": {
           "xaxis": {
            "backgroundcolor": "#E5ECF6",
            "gridcolor": "white",
            "gridwidth": 2,
            "linecolor": "white",
            "showbackground": true,
            "ticks": "",
            "zerolinecolor": "white"
           },
           "yaxis": {
            "backgroundcolor": "#E5ECF6",
            "gridcolor": "white",
            "gridwidth": 2,
            "linecolor": "white",
            "showbackground": true,
            "ticks": "",
            "zerolinecolor": "white"
           },
           "zaxis": {
            "backgroundcolor": "#E5ECF6",
            "gridcolor": "white",
            "gridwidth": 2,
            "linecolor": "white",
            "showbackground": true,
            "ticks": "",
            "zerolinecolor": "white"
           }
          },
          "shapedefaults": {
           "line": {
            "color": "#2a3f5f"
           }
          },
          "ternary": {
           "aaxis": {
            "gridcolor": "white",
            "linecolor": "white",
            "ticks": ""
           },
           "baxis": {
            "gridcolor": "white",
            "linecolor": "white",
            "ticks": ""
           },
           "bgcolor": "#E5ECF6",
           "caxis": {
            "gridcolor": "white",
            "linecolor": "white",
            "ticks": ""
           }
          },
          "title": {
           "x": 0.05
          },
          "xaxis": {
           "automargin": true,
           "gridcolor": "white",
           "linecolor": "white",
           "ticks": "",
           "title": {
            "standoff": 15
           },
           "zerolinecolor": "white",
           "zerolinewidth": 2
          },
          "yaxis": {
           "automargin": true,
           "gridcolor": "white",
           "linecolor": "white",
           "ticks": "",
           "title": {
            "standoff": 15
           },
           "zerolinecolor": "white",
           "zerolinewidth": 2
          }
         }
        },
        "xaxis": {
         "anchor": "y",
         "domain": [
          0.0,
          1.0
         ],
         "title": {
          "text": "date"
         }
        },
        "yaxis": {
         "anchor": "x",
         "domain": [
          0.0,
          1.0
         ],
         "title": {
          "text": "num_sold"
         }
        }
       }
      },
      "text/html": [
       "<div>                            <div id=\"27d8762b-5a0a-45bc-a7bf-fdd29ad0e137\" class=\"plotly-graph-div\" style=\"height:525px; width:100%;\"></div>            <script type=\"text/javascript\">                require([\"plotly\"], function(Plotly) {                    window.PLOTLYENV=window.PLOTLYENV || {};                                    if (document.getElementById(\"27d8762b-5a0a-45bc-a7bf-fdd29ad0e137\")) {                    Plotly.newPlot(                        \"27d8762b-5a0a-45bc-a7bf-fdd29ad0e137\",                        [{\"hovertemplate\":\"date=%{x}<br>num_sold=%{y}<extra></extra>\",\"legendgroup\":\"\",\"line\":{\"color\":\"#636efa\",\"dash\":\"solid\"},\"marker\":{\"symbol\":\"circle\"},\"mode\":\"lines\",\"name\":\"\",\"orientation\":\"v\",\"showlegend\":false,\"x\":[\"2015-01-31T00:00:00\",\"2015-02-28T00:00:00\",\"2015-03-31T00:00:00\",\"2015-04-30T00:00:00\",\"2015-05-31T00:00:00\",\"2015-06-30T00:00:00\",\"2015-07-31T00:00:00\",\"2015-08-31T00:00:00\",\"2015-09-30T00:00:00\",\"2015-10-31T00:00:00\",\"2015-11-30T00:00:00\",\"2015-12-31T00:00:00\",\"2016-01-31T00:00:00\",\"2016-02-29T00:00:00\",\"2016-03-31T00:00:00\",\"2016-04-30T00:00:00\",\"2016-05-31T00:00:00\",\"2016-06-30T00:00:00\",\"2016-07-31T00:00:00\",\"2016-08-31T00:00:00\",\"2016-09-30T00:00:00\",\"2016-10-31T00:00:00\",\"2016-11-30T00:00:00\",\"2016-12-31T00:00:00\",\"2017-01-31T00:00:00\",\"2017-02-28T00:00:00\",\"2017-03-31T00:00:00\",\"2017-04-30T00:00:00\",\"2017-05-31T00:00:00\",\"2017-06-30T00:00:00\",\"2017-07-31T00:00:00\",\"2017-08-31T00:00:00\",\"2017-09-30T00:00:00\",\"2017-10-31T00:00:00\",\"2017-11-30T00:00:00\",\"2017-12-31T00:00:00\",\"2018-01-31T00:00:00\",\"2018-02-28T00:00:00\",\"2018-03-31T00:00:00\",\"2018-04-30T00:00:00\",\"2018-05-31T00:00:00\",\"2018-06-30T00:00:00\",\"2018-07-31T00:00:00\",\"2018-08-31T00:00:00\",\"2018-09-30T00:00:00\",\"2018-10-31T00:00:00\",\"2018-11-30T00:00:00\",\"2018-12-31T00:00:00\"],\"xaxis\":\"x\",\"y\":[406.5537634408602,388.0337301587302,394.831541218638,415.8851851851852,406.73118279569894,357.25555555555553,323.7043010752688,309.5698924731183,303.6703703703704,312.44086021505376,335.07037037037037,419.6559139784946,417.6774193548387,384.8429118773946,404.3888888888889,401.85,398.3745519713262,351.6277777777778,326.34767025089604,305.78136200716847,302.7037037037037,317.6953405017921,336.6296296296296,428.921146953405,430.915770609319,415.5595238095238,416.05555555555554,455.537037037037,414.9820788530466,396.2944444444444,357.5430107526882,336.1415770609319,334.8611111111111,340.44444444444446,372.51666666666665,482.3799283154122,471.97491039426524,449.968253968254,458.3405017921147,488.837037037037,470.64516129032256,419.9,375.8010752688172,360.75985663082434,359.24074074074076,362.1666666666667,384.4203703703704,498.76881720430106],\"yaxis\":\"y\",\"type\":\"scatter\"}],                        {\"template\":{\"data\":{\"bar\":[{\"error_x\":{\"color\":\"#2a3f5f\"},\"error_y\":{\"color\":\"#2a3f5f\"},\"marker\":{\"line\":{\"color\":\"#E5ECF6\",\"width\":0.5},\"pattern\":{\"fillmode\":\"overlay\",\"size\":10,\"solidity\":0.2}},\"type\":\"bar\"}],\"barpolar\":[{\"marker\":{\"line\":{\"color\":\"#E5ECF6\",\"width\":0.5},\"pattern\":{\"fillmode\":\"overlay\",\"size\":10,\"solidity\":0.2}},\"type\":\"barpolar\"}],\"carpet\":[{\"aaxis\":{\"endlinecolor\":\"#2a3f5f\",\"gridcolor\":\"white\",\"linecolor\":\"white\",\"minorgridcolor\":\"white\",\"startlinecolor\":\"#2a3f5f\"},\"baxis\":{\"endlinecolor\":\"#2a3f5f\",\"gridcolor\":\"white\",\"linecolor\":\"white\",\"minorgridcolor\":\"white\",\"startlinecolor\":\"#2a3f5f\"},\"type\":\"carpet\"}],\"choropleth\":[{\"colorbar\":{\"outlinewidth\":0,\"ticks\":\"\"},\"type\":\"choropleth\"}],\"contour\":[{\"colorbar\":{\"outlinewidth\":0,\"ticks\":\"\"},\"colorscale\":[[0.0,\"#0d0887\"],[0.1111111111111111,\"#46039f\"],[0.2222222222222222,\"#7201a8\"],[0.3333333333333333,\"#9c179e\"],[0.4444444444444444,\"#bd3786\"],[0.5555555555555556,\"#d8576b\"],[0.6666666666666666,\"#ed7953\"],[0.7777777777777778,\"#fb9f3a\"],[0.8888888888888888,\"#fdca26\"],[1.0,\"#f0f921\"]],\"type\":\"contour\"}],\"contourcarpet\":[{\"colorbar\":{\"outlinewidth\":0,\"ticks\":\"\"},\"type\":\"contourcarpet\"}],\"heatmap\":[{\"colorbar\":{\"outlinewidth\":0,\"ticks\":\"\"},\"colorscale\":[[0.0,\"#0d0887\"],[0.1111111111111111,\"#46039f\"],[0.2222222222222222,\"#7201a8\"],[0.3333333333333333,\"#9c179e\"],[0.4444444444444444,\"#bd3786\"],[0.5555555555555556,\"#d8576b\"],[0.6666666666666666,\"#ed7953\"],[0.7777777777777778,\"#fb9f3a\"],[0.8888888888888888,\"#fdca26\"],[1.0,\"#f0f921\"]],\"type\":\"heatmap\"}],\"heatmapgl\":[{\"colorbar\":{\"outlinewidth\":0,\"ticks\":\"\"},\"colorscale\":[[0.0,\"#0d0887\"],[0.1111111111111111,\"#46039f\"],[0.2222222222222222,\"#7201a8\"],[0.3333333333333333,\"#9c179e\"],[0.4444444444444444,\"#bd3786\"],[0.5555555555555556,\"#d8576b\"],[0.6666666666666666,\"#ed7953\"],[0.7777777777777778,\"#fb9f3a\"],[0.8888888888888888,\"#fdca26\"],[1.0,\"#f0f921\"]],\"type\":\"heatmapgl\"}],\"histogram\":[{\"marker\":{\"pattern\":{\"fillmode\":\"overlay\",\"size\":10,\"solidity\":0.2}},\"type\":\"histogram\"}],\"histogram2d\":[{\"colorbar\":{\"outlinewidth\":0,\"ticks\":\"\"},\"colorscale\":[[0.0,\"#0d0887\"],[0.1111111111111111,\"#46039f\"],[0.2222222222222222,\"#7201a8\"],[0.3333333333333333,\"#9c179e\"],[0.4444444444444444,\"#bd3786\"],[0.5555555555555556,\"#d8576b\"],[0.6666666666666666,\"#ed7953\"],[0.7777777777777778,\"#fb9f3a\"],[0.8888888888888888,\"#fdca26\"],[1.0,\"#f0f921\"]],\"type\":\"histogram2d\"}],\"histogram2dcontour\":[{\"colorbar\":{\"outlinewidth\":0,\"ticks\":\"\"},\"colorscale\":[[0.0,\"#0d0887\"],[0.1111111111111111,\"#46039f\"],[0.2222222222222222,\"#7201a8\"],[0.3333333333333333,\"#9c179e\"],[0.4444444444444444,\"#bd3786\"],[0.5555555555555556,\"#d8576b\"],[0.6666666666666666,\"#ed7953\"],[0.7777777777777778,\"#fb9f3a\"],[0.8888888888888888,\"#fdca26\"],[1.0,\"#f0f921\"]],\"type\":\"histogram2dcontour\"}],\"mesh3d\":[{\"colorbar\":{\"outlinewidth\":0,\"ticks\":\"\"},\"type\":\"mesh3d\"}],\"parcoords\":[{\"line\":{\"colorbar\":{\"outlinewidth\":0,\"ticks\":\"\"}},\"type\":\"parcoords\"}],\"pie\":[{\"automargin\":true,\"type\":\"pie\"}],\"scatter\":[{\"marker\":{\"colorbar\":{\"outlinewidth\":0,\"ticks\":\"\"}},\"type\":\"scatter\"}],\"scatter3d\":[{\"line\":{\"colorbar\":{\"outlinewidth\":0,\"ticks\":\"\"}},\"marker\":{\"colorbar\":{\"outlinewidth\":0,\"ticks\":\"\"}},\"type\":\"scatter3d\"}],\"scattercarpet\":[{\"marker\":{\"colorbar\":{\"outlinewidth\":0,\"ticks\":\"\"}},\"type\":\"scattercarpet\"}],\"scattergeo\":[{\"marker\":{\"colorbar\":{\"outlinewidth\":0,\"ticks\":\"\"}},\"type\":\"scattergeo\"}],\"scattergl\":[{\"marker\":{\"colorbar\":{\"outlinewidth\":0,\"ticks\":\"\"}},\"type\":\"scattergl\"}],\"scattermapbox\":[{\"marker\":{\"colorbar\":{\"outlinewidth\":0,\"ticks\":\"\"}},\"type\":\"scattermapbox\"}],\"scatterpolar\":[{\"marker\":{\"colorbar\":{\"outlinewidth\":0,\"ticks\":\"\"}},\"type\":\"scatterpolar\"}],\"scatterpolargl\":[{\"marker\":{\"colorbar\":{\"outlinewidth\":0,\"ticks\":\"\"}},\"type\":\"scatterpolargl\"}],\"scatterternary\":[{\"marker\":{\"colorbar\":{\"outlinewidth\":0,\"ticks\":\"\"}},\"type\":\"scatterternary\"}],\"surface\":[{\"colorbar\":{\"outlinewidth\":0,\"ticks\":\"\"},\"colorscale\":[[0.0,\"#0d0887\"],[0.1111111111111111,\"#46039f\"],[0.2222222222222222,\"#7201a8\"],[0.3333333333333333,\"#9c179e\"],[0.4444444444444444,\"#bd3786\"],[0.5555555555555556,\"#d8576b\"],[0.6666666666666666,\"#ed7953\"],[0.7777777777777778,\"#fb9f3a\"],[0.8888888888888888,\"#fdca26\"],[1.0,\"#f0f921\"]],\"type\":\"surface\"}],\"table\":[{\"cells\":{\"fill\":{\"color\":\"#EBF0F8\"},\"line\":{\"color\":\"white\"}},\"header\":{\"fill\":{\"color\":\"#C8D4E3\"},\"line\":{\"color\":\"white\"}},\"type\":\"table\"}]},\"layout\":{\"annotationdefaults\":{\"arrowcolor\":\"#2a3f5f\",\"arrowhead\":0,\"arrowwidth\":1},\"autotypenumbers\":\"strict\",\"coloraxis\":{\"colorbar\":{\"outlinewidth\":0,\"ticks\":\"\"}},\"colorscale\":{\"diverging\":[[0,\"#8e0152\"],[0.1,\"#c51b7d\"],[0.2,\"#de77ae\"],[0.3,\"#f1b6da\"],[0.4,\"#fde0ef\"],[0.5,\"#f7f7f7\"],[0.6,\"#e6f5d0\"],[0.7,\"#b8e186\"],[0.8,\"#7fbc41\"],[0.9,\"#4d9221\"],[1,\"#276419\"]],\"sequential\":[[0.0,\"#0d0887\"],[0.1111111111111111,\"#46039f\"],[0.2222222222222222,\"#7201a8\"],[0.3333333333333333,\"#9c179e\"],[0.4444444444444444,\"#bd3786\"],[0.5555555555555556,\"#d8576b\"],[0.6666666666666666,\"#ed7953\"],[0.7777777777777778,\"#fb9f3a\"],[0.8888888888888888,\"#fdca26\"],[1.0,\"#f0f921\"]],\"sequentialminus\":[[0.0,\"#0d0887\"],[0.1111111111111111,\"#46039f\"],[0.2222222222222222,\"#7201a8\"],[0.3333333333333333,\"#9c179e\"],[0.4444444444444444,\"#bd3786\"],[0.5555555555555556,\"#d8576b\"],[0.6666666666666666,\"#ed7953\"],[0.7777777777777778,\"#fb9f3a\"],[0.8888888888888888,\"#fdca26\"],[1.0,\"#f0f921\"]]},\"colorway\":[\"#636efa\",\"#EF553B\",\"#00cc96\",\"#ab63fa\",\"#FFA15A\",\"#19d3f3\",\"#FF6692\",\"#B6E880\",\"#FF97FF\",\"#FECB52\"],\"font\":{\"color\":\"#2a3f5f\"},\"geo\":{\"bgcolor\":\"white\",\"lakecolor\":\"white\",\"landcolor\":\"#E5ECF6\",\"showlakes\":true,\"showland\":true,\"subunitcolor\":\"white\"},\"hoverlabel\":{\"align\":\"left\"},\"hovermode\":\"closest\",\"mapbox\":{\"style\":\"light\"},\"paper_bgcolor\":\"white\",\"plot_bgcolor\":\"#E5ECF6\",\"polar\":{\"angularaxis\":{\"gridcolor\":\"white\",\"linecolor\":\"white\",\"ticks\":\"\"},\"bgcolor\":\"#E5ECF6\",\"radialaxis\":{\"gridcolor\":\"white\",\"linecolor\":\"white\",\"ticks\":\"\"}},\"scene\":{\"xaxis\":{\"backgroundcolor\":\"#E5ECF6\",\"gridcolor\":\"white\",\"gridwidth\":2,\"linecolor\":\"white\",\"showbackground\":true,\"ticks\":\"\",\"zerolinecolor\":\"white\"},\"yaxis\":{\"backgroundcolor\":\"#E5ECF6\",\"gridcolor\":\"white\",\"gridwidth\":2,\"linecolor\":\"white\",\"showbackground\":true,\"ticks\":\"\",\"zerolinecolor\":\"white\"},\"zaxis\":{\"backgroundcolor\":\"#E5ECF6\",\"gridcolor\":\"white\",\"gridwidth\":2,\"linecolor\":\"white\",\"showbackground\":true,\"ticks\":\"\",\"zerolinecolor\":\"white\"}},\"shapedefaults\":{\"line\":{\"color\":\"#2a3f5f\"}},\"ternary\":{\"aaxis\":{\"gridcolor\":\"white\",\"linecolor\":\"white\",\"ticks\":\"\"},\"baxis\":{\"gridcolor\":\"white\",\"linecolor\":\"white\",\"ticks\":\"\"},\"bgcolor\":\"#E5ECF6\",\"caxis\":{\"gridcolor\":\"white\",\"linecolor\":\"white\",\"ticks\":\"\"}},\"title\":{\"x\":0.05},\"xaxis\":{\"automargin\":true,\"gridcolor\":\"white\",\"linecolor\":\"white\",\"ticks\":\"\",\"title\":{\"standoff\":15},\"zerolinecolor\":\"white\",\"zerolinewidth\":2},\"yaxis\":{\"automargin\":true,\"gridcolor\":\"white\",\"linecolor\":\"white\",\"ticks\":\"\",\"title\":{\"standoff\":15},\"zerolinecolor\":\"white\",\"zerolinewidth\":2}}},\"xaxis\":{\"anchor\":\"y\",\"domain\":[0.0,1.0],\"title\":{\"text\":\"date\"}},\"yaxis\":{\"anchor\":\"x\",\"domain\":[0.0,1.0],\"title\":{\"text\":\"num_sold\"}},\"legend\":{\"tracegroupgap\":0},\"margin\":{\"t\":60}},                        {\"responsive\": true}                    ).then(function(){\n",
       "                            \n",
       "var gd = document.getElementById('27d8762b-5a0a-45bc-a7bf-fdd29ad0e137');\n",
       "var x = new MutationObserver(function (mutations, observer) {{\n",
       "        var display = window.getComputedStyle(gd).display;\n",
       "        if (!display || display === 'none') {{\n",
       "            console.log([gd, 'removed!']);\n",
       "            Plotly.purge(gd);\n",
       "            observer.disconnect();\n",
       "        }}\n",
       "}});\n",
       "\n",
       "// Listen for the removal of the full notebook cells\n",
       "var notebookContainer = gd.closest('#notebook-container');\n",
       "if (notebookContainer) {{\n",
       "    x.observe(notebookContainer, {childList: true});\n",
       "}}\n",
       "\n",
       "// Listen for the clearing of the current output cell\n",
       "var outputEl = gd.closest('.output');\n",
       "if (outputEl) {{\n",
       "    x.observe(outputEl, {childList: true});\n",
       "}}\n",
       "\n",
       "                        })                };                });            </script>        </div>"
      ]
     },
     "metadata": {},
     "output_type": "display_data"
    }
   ],
   "source": [
    "fig_4 = px.line(train_year,x='date',y='num_sold')\n",
    "fig_4.show()"
   ]
  },
  {
   "cell_type": "markdown",
   "id": "cfd79f1b",
   "metadata": {
    "papermill": {
     "duration": 0.028913,
     "end_time": "2022-01-03T10:11:25.794930",
     "exception": false,
     "start_time": "2022-01-03T10:11:25.766017",
     "status": "completed"
    },
    "tags": []
   },
   "source": [
    "## Preprocessing and visualization "
   ]
  }
 ],
 "metadata": {
  "kernelspec": {
   "display_name": "Python 3",
   "language": "python",
   "name": "python3"
  },
  "language_info": {
   "codemirror_mode": {
    "name": "ipython",
    "version": 3
   },
   "file_extension": ".py",
   "mimetype": "text/x-python",
   "name": "python",
   "nbconvert_exporter": "python",
   "pygments_lexer": "ipython3",
   "version": "3.7.12"
  },
  "papermill": {
   "default_parameters": {},
   "duration": 16.856562,
   "end_time": "2022-01-03T10:11:26.838256",
   "environment_variables": {},
   "exception": null,
   "input_path": "__notebook__.ipynb",
   "output_path": "__notebook__.ipynb",
   "parameters": {},
   "start_time": "2022-01-03T10:11:09.981694",
   "version": "2.3.3"
  }
 },
 "nbformat": 4,
 "nbformat_minor": 5
}
